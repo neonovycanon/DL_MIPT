{
 "cells": [
  {
   "cell_type": "code",
   "execution_count": null,
   "metadata": {
    "id": "b3MqzRXcLofo"
   },
   "outputs": [],
   "source": [
    "import pandas as pd\n",
    "from tqdm.auto import tqdm\n",
    "\n",
    "import torch\n",
    "import torch.nn as nn\n",
    "from torch.utils.data import DataLoader\n",
    "import numpy as np\n",
    "\n",
    "import matplotlib.pyplot as plt\n",
    "import seaborn as sns\n",
    "\n",
    "sns.set(palette='summer')"
   ]
  },
  {
   "cell_type": "code",
   "execution_count": null,
   "metadata": {
    "colab": {
     "base_uri": "https://localhost:8080/"
    },
    "id": "4Jv3vNxMxJr8",
    "outputId": "b1656f3e-a37a-4ca7-fd6a-79f0c47bc8b8"
   },
   "outputs": [
    {
     "name": "stdout",
     "output_type": "stream",
     "text": [
      "Collecting accelerate\n",
      "  Downloading accelerate-0.21.0-py3-none-any.whl (244 kB)\n",
      "\u001b[?25l     \u001b[90m━━━━━━━━━━━━━━━━━━━━━━━━━━━━━━━━━━━━━━━━\u001b[0m \u001b[32m0.0/244.2 kB\u001b[0m \u001b[31m?\u001b[0m eta \u001b[36m-:--:--\u001b[0m\r",
      "\u001b[2K     \u001b[90m━━━━━━━━━━━━━━━━━━━━━━━━━━━━━━━━━━━━━━━\u001b[0m \u001b[32m244.2/244.2 kB\u001b[0m \u001b[31m9.1 MB/s\u001b[0m eta \u001b[36m0:00:00\u001b[0m\n",
      "\u001b[?25hRequirement already satisfied: numpy>=1.17 in /usr/local/lib/python3.10/dist-packages (from accelerate) (1.22.4)\n",
      "Requirement already satisfied: packaging>=20.0 in /usr/local/lib/python3.10/dist-packages (from accelerate) (23.1)\n",
      "Requirement already satisfied: psutil in /usr/local/lib/python3.10/dist-packages (from accelerate) (5.9.5)\n",
      "Requirement already satisfied: pyyaml in /usr/local/lib/python3.10/dist-packages (from accelerate) (6.0)\n",
      "Requirement already satisfied: torch>=1.10.0 in /usr/local/lib/python3.10/dist-packages (from accelerate) (2.0.1+cu118)\n",
      "Requirement already satisfied: filelock in /usr/local/lib/python3.10/dist-packages (from torch>=1.10.0->accelerate) (3.12.2)\n",
      "Requirement already satisfied: typing-extensions in /usr/local/lib/python3.10/dist-packages (from torch>=1.10.0->accelerate) (4.7.1)\n",
      "Requirement already satisfied: sympy in /usr/local/lib/python3.10/dist-packages (from torch>=1.10.0->accelerate) (1.11.1)\n",
      "Requirement already satisfied: networkx in /usr/local/lib/python3.10/dist-packages (from torch>=1.10.0->accelerate) (3.1)\n",
      "Requirement already satisfied: jinja2 in /usr/local/lib/python3.10/dist-packages (from torch>=1.10.0->accelerate) (3.1.2)\n",
      "Requirement already satisfied: triton==2.0.0 in /usr/local/lib/python3.10/dist-packages (from torch>=1.10.0->accelerate) (2.0.0)\n",
      "Requirement already satisfied: cmake in /usr/local/lib/python3.10/dist-packages (from triton==2.0.0->torch>=1.10.0->accelerate) (3.25.2)\n",
      "Requirement already satisfied: lit in /usr/local/lib/python3.10/dist-packages (from triton==2.0.0->torch>=1.10.0->accelerate) (16.0.6)\n",
      "Requirement already satisfied: MarkupSafe>=2.0 in /usr/local/lib/python3.10/dist-packages (from jinja2->torch>=1.10.0->accelerate) (2.1.3)\n",
      "Requirement already satisfied: mpmath>=0.19 in /usr/local/lib/python3.10/dist-packages (from sympy->torch>=1.10.0->accelerate) (1.3.0)\n",
      "Installing collected packages: accelerate\n",
      "Successfully installed accelerate-0.21.0\n"
     ]
    }
   ],
   "source": [
    "!pip install accelerate -U"
   ]
  },
  {
   "cell_type": "code",
   "execution_count": null,
   "metadata": {
    "colab": {
     "base_uri": "https://localhost:8080/"
    },
    "id": "NDy98M86L_nS",
    "outputId": "4df4fb7b-528d-47ce-ee99-8a1a50a0c22b"
   },
   "outputs": [
    {
     "name": "stdout",
     "output_type": "stream",
     "text": [
      "Collecting datasets\n",
      "  Downloading datasets-2.13.1-py3-none-any.whl (486 kB)\n",
      "\u001b[?25l     \u001b[90m━━━━━━━━━━━━━━━━━━━━━━━━━━━━━━━━━━━━━━━━\u001b[0m \u001b[32m0.0/486.2 kB\u001b[0m \u001b[31m?\u001b[0m eta \u001b[36m-:--:--\u001b[0m\r",
      "\u001b[2K     \u001b[90m━━━━━━━━━━━━━━━━━━━━━━━━━━━━━━━━━━━━━━\u001b[0m \u001b[32m486.2/486.2 kB\u001b[0m \u001b[31m21.4 MB/s\u001b[0m eta \u001b[36m0:00:00\u001b[0m\n",
      "\u001b[?25hRequirement already satisfied: numpy>=1.17 in /usr/local/lib/python3.10/dist-packages (from datasets) (1.22.4)\n",
      "Requirement already satisfied: pyarrow>=8.0.0 in /usr/local/lib/python3.10/dist-packages (from datasets) (9.0.0)\n",
      "Collecting dill<0.3.7,>=0.3.0 (from datasets)\n",
      "  Downloading dill-0.3.6-py3-none-any.whl (110 kB)\n",
      "\u001b[?25l     \u001b[90m━━━━━━━━━━━━━━━━━━━━━━━━━━━━━━━━━━━━━━━━\u001b[0m \u001b[32m0.0/110.5 kB\u001b[0m \u001b[31m?\u001b[0m eta \u001b[36m-:--:--\u001b[0m\r",
      "\u001b[2K     \u001b[90m━━━━━━━━━━━━━━━━━━━━━━━━━━━━━━━━━━━━━━\u001b[0m \u001b[32m110.5/110.5 kB\u001b[0m \u001b[31m15.5 MB/s\u001b[0m eta \u001b[36m0:00:00\u001b[0m\n",
      "\u001b[?25hRequirement already satisfied: pandas in /usr/local/lib/python3.10/dist-packages (from datasets) (1.5.3)\n",
      "Requirement already satisfied: requests>=2.19.0 in /usr/local/lib/python3.10/dist-packages (from datasets) (2.27.1)\n",
      "Requirement already satisfied: tqdm>=4.62.1 in /usr/local/lib/python3.10/dist-packages (from datasets) (4.65.0)\n",
      "Collecting xxhash (from datasets)\n",
      "  Downloading xxhash-3.2.0-cp310-cp310-manylinux_2_17_x86_64.manylinux2014_x86_64.whl (212 kB)\n",
      "\u001b[2K     \u001b[90m━━━━━━━━━━━━━━━━━━━━━━━━━━━━━━━━━━━━━━\u001b[0m \u001b[32m212.5/212.5 kB\u001b[0m \u001b[31m16.9 MB/s\u001b[0m eta \u001b[36m0:00:00\u001b[0m\n",
      "\u001b[?25hCollecting multiprocess (from datasets)\n",
      "  Downloading multiprocess-0.70.14-py310-none-any.whl (134 kB)\n",
      "\u001b[2K     \u001b[90m━━━━━━━━━━━━━━━━━━━━━━━━━━━━━━━━━━━━━━\u001b[0m \u001b[32m134.3/134.3 kB\u001b[0m \u001b[31m16.2 MB/s\u001b[0m eta \u001b[36m0:00:00\u001b[0m\n",
      "\u001b[?25hRequirement already satisfied: fsspec[http]>=2021.11.1 in /usr/local/lib/python3.10/dist-packages (from datasets) (2023.6.0)\n",
      "Requirement already satisfied: aiohttp in /usr/local/lib/python3.10/dist-packages (from datasets) (3.8.4)\n",
      "Collecting huggingface-hub<1.0.0,>=0.11.0 (from datasets)\n",
      "  Downloading huggingface_hub-0.16.4-py3-none-any.whl (268 kB)\n",
      "\u001b[2K     \u001b[90m━━━━━━━━━━━━━━━━━━━━━━━━━━━━━━━━━━━━━━\u001b[0m \u001b[32m268.8/268.8 kB\u001b[0m \u001b[31m29.7 MB/s\u001b[0m eta \u001b[36m0:00:00\u001b[0m\n",
      "\u001b[?25hRequirement already satisfied: packaging in /usr/local/lib/python3.10/dist-packages (from datasets) (23.1)\n",
      "Requirement already satisfied: pyyaml>=5.1 in /usr/local/lib/python3.10/dist-packages (from datasets) (6.0)\n",
      "Requirement already satisfied: attrs>=17.3.0 in /usr/local/lib/python3.10/dist-packages (from aiohttp->datasets) (23.1.0)\n",
      "Requirement already satisfied: charset-normalizer<4.0,>=2.0 in /usr/local/lib/python3.10/dist-packages (from aiohttp->datasets) (2.0.12)\n",
      "Requirement already satisfied: multidict<7.0,>=4.5 in /usr/local/lib/python3.10/dist-packages (from aiohttp->datasets) (6.0.4)\n",
      "Requirement already satisfied: async-timeout<5.0,>=4.0.0a3 in /usr/local/lib/python3.10/dist-packages (from aiohttp->datasets) (4.0.2)\n",
      "Requirement already satisfied: yarl<2.0,>=1.0 in /usr/local/lib/python3.10/dist-packages (from aiohttp->datasets) (1.9.2)\n",
      "Requirement already satisfied: frozenlist>=1.1.1 in /usr/local/lib/python3.10/dist-packages (from aiohttp->datasets) (1.4.0)\n",
      "Requirement already satisfied: aiosignal>=1.1.2 in /usr/local/lib/python3.10/dist-packages (from aiohttp->datasets) (1.3.1)\n",
      "Requirement already satisfied: filelock in /usr/local/lib/python3.10/dist-packages (from huggingface-hub<1.0.0,>=0.11.0->datasets) (3.12.2)\n",
      "Requirement already satisfied: typing-extensions>=3.7.4.3 in /usr/local/lib/python3.10/dist-packages (from huggingface-hub<1.0.0,>=0.11.0->datasets) (4.7.1)\n",
      "Requirement already satisfied: urllib3<1.27,>=1.21.1 in /usr/local/lib/python3.10/dist-packages (from requests>=2.19.0->datasets) (1.26.16)\n",
      "Requirement already satisfied: certifi>=2017.4.17 in /usr/local/lib/python3.10/dist-packages (from requests>=2.19.0->datasets) (2023.5.7)\n",
      "Requirement already satisfied: idna<4,>=2.5 in /usr/local/lib/python3.10/dist-packages (from requests>=2.19.0->datasets) (3.4)\n",
      "Requirement already satisfied: python-dateutil>=2.8.1 in /usr/local/lib/python3.10/dist-packages (from pandas->datasets) (2.8.2)\n",
      "Requirement already satisfied: pytz>=2020.1 in /usr/local/lib/python3.10/dist-packages (from pandas->datasets) (2022.7.1)\n",
      "Requirement already satisfied: six>=1.5 in /usr/local/lib/python3.10/dist-packages (from python-dateutil>=2.8.1->pandas->datasets) (1.16.0)\n",
      "Installing collected packages: xxhash, dill, multiprocess, huggingface-hub, datasets\n",
      "Successfully installed datasets-2.13.1 dill-0.3.6 huggingface-hub-0.16.4 multiprocess-0.70.14 xxhash-3.2.0\n"
     ]
    }
   ],
   "source": [
    "!pip install datasets"
   ]
  },
  {
   "cell_type": "code",
   "execution_count": null,
   "metadata": {
    "colab": {
     "base_uri": "https://localhost:8080/"
    },
    "id": "ssvG42RRMEkB",
    "outputId": "34f3921a-6008-4b11-c846-feee56dcc389"
   },
   "outputs": [
    {
     "name": "stdout",
     "output_type": "stream",
     "text": [
      "Collecting transformers\n",
      "  Downloading transformers-4.30.2-py3-none-any.whl (7.2 MB)\n",
      "\u001b[2K     \u001b[90m━━━━━━━━━━━━━━━━━━━━━━━━━━━━━━━━━━━━━━━━\u001b[0m \u001b[32m7.2/7.2 MB\u001b[0m \u001b[31m47.1 MB/s\u001b[0m eta \u001b[36m0:00:00\u001b[0m\n",
      "\u001b[?25hRequirement already satisfied: filelock in /usr/local/lib/python3.10/dist-packages (from transformers) (3.12.2)\n",
      "Requirement already satisfied: huggingface-hub<1.0,>=0.14.1 in /usr/local/lib/python3.10/dist-packages (from transformers) (0.16.4)\n",
      "Requirement already satisfied: numpy>=1.17 in /usr/local/lib/python3.10/dist-packages (from transformers) (1.22.4)\n",
      "Requirement already satisfied: packaging>=20.0 in /usr/local/lib/python3.10/dist-packages (from transformers) (23.1)\n",
      "Requirement already satisfied: pyyaml>=5.1 in /usr/local/lib/python3.10/dist-packages (from transformers) (6.0)\n",
      "Requirement already satisfied: regex!=2019.12.17 in /usr/local/lib/python3.10/dist-packages (from transformers) (2022.10.31)\n",
      "Requirement already satisfied: requests in /usr/local/lib/python3.10/dist-packages (from transformers) (2.27.1)\n",
      "Collecting tokenizers!=0.11.3,<0.14,>=0.11.1 (from transformers)\n",
      "  Downloading tokenizers-0.13.3-cp310-cp310-manylinux_2_17_x86_64.manylinux2014_x86_64.whl (7.8 MB)\n",
      "\u001b[2K     \u001b[90m━━━━━━━━━━━━━━━━━━━━━━━━━━━━━━━━━━━━━━━━\u001b[0m \u001b[32m7.8/7.8 MB\u001b[0m \u001b[31m84.0 MB/s\u001b[0m eta \u001b[36m0:00:00\u001b[0m\n",
      "\u001b[?25hCollecting safetensors>=0.3.1 (from transformers)\n",
      "  Downloading safetensors-0.3.1-cp310-cp310-manylinux_2_17_x86_64.manylinux2014_x86_64.whl (1.3 MB)\n",
      "\u001b[2K     \u001b[90m━━━━━━━━━━━━━━━━━━━━━━━━━━━━━━━━━━━━━━━━\u001b[0m \u001b[32m1.3/1.3 MB\u001b[0m \u001b[31m62.6 MB/s\u001b[0m eta \u001b[36m0:00:00\u001b[0m\n",
      "\u001b[?25hRequirement already satisfied: tqdm>=4.27 in /usr/local/lib/python3.10/dist-packages (from transformers) (4.65.0)\n",
      "Requirement already satisfied: fsspec in /usr/local/lib/python3.10/dist-packages (from huggingface-hub<1.0,>=0.14.1->transformers) (2023.6.0)\n",
      "Requirement already satisfied: typing-extensions>=3.7.4.3 in /usr/local/lib/python3.10/dist-packages (from huggingface-hub<1.0,>=0.14.1->transformers) (4.7.1)\n",
      "Requirement already satisfied: urllib3<1.27,>=1.21.1 in /usr/local/lib/python3.10/dist-packages (from requests->transformers) (1.26.16)\n",
      "Requirement already satisfied: certifi>=2017.4.17 in /usr/local/lib/python3.10/dist-packages (from requests->transformers) (2023.5.7)\n",
      "Requirement already satisfied: charset-normalizer~=2.0.0 in /usr/local/lib/python3.10/dist-packages (from requests->transformers) (2.0.12)\n",
      "Requirement already satisfied: idna<4,>=2.5 in /usr/local/lib/python3.10/dist-packages (from requests->transformers) (3.4)\n",
      "Installing collected packages: tokenizers, safetensors, transformers\n",
      "Successfully installed safetensors-0.3.1 tokenizers-0.13.3 transformers-4.30.2\n"
     ]
    }
   ],
   "source": [
    "!pip install transformers"
   ]
  },
  {
   "cell_type": "code",
   "execution_count": null,
   "metadata": {
    "colab": {
     "base_uri": "https://localhost:8080/"
    },
    "id": "cfX2wXc0R0Yr",
    "outputId": "bb71687c-90fa-4133-8542-b4b976651bf5"
   },
   "outputs": [
    {
     "name": "stdout",
     "output_type": "stream",
     "text": [
      "Collecting evaluate\n",
      "  Downloading evaluate-0.4.0-py3-none-any.whl (81 kB)\n",
      "\u001b[?25l     \u001b[90m━━━━━━━━━━━━━━━━━━━━━━━━━━━━━━━━━━━━━━━━\u001b[0m \u001b[32m0.0/81.4 kB\u001b[0m \u001b[31m?\u001b[0m eta \u001b[36m-:--:--\u001b[0m\r",
      "\u001b[2K     \u001b[90m━━━━━━━━━━━━━━━━━━━━━━━━━━━━━━━━━━━━━━━━\u001b[0m \u001b[32m81.4/81.4 kB\u001b[0m \u001b[31m5.0 MB/s\u001b[0m eta \u001b[36m0:00:00\u001b[0m\n",
      "\u001b[?25hRequirement already satisfied: datasets>=2.0.0 in /usr/local/lib/python3.10/dist-packages (from evaluate) (2.13.1)\n",
      "Requirement already satisfied: numpy>=1.17 in /usr/local/lib/python3.10/dist-packages (from evaluate) (1.22.4)\n",
      "Requirement already satisfied: dill in /usr/local/lib/python3.10/dist-packages (from evaluate) (0.3.6)\n",
      "Requirement already satisfied: pandas in /usr/local/lib/python3.10/dist-packages (from evaluate) (1.5.3)\n",
      "Requirement already satisfied: requests>=2.19.0 in /usr/local/lib/python3.10/dist-packages (from evaluate) (2.27.1)\n",
      "Requirement already satisfied: tqdm>=4.62.1 in /usr/local/lib/python3.10/dist-packages (from evaluate) (4.65.0)\n",
      "Requirement already satisfied: xxhash in /usr/local/lib/python3.10/dist-packages (from evaluate) (3.2.0)\n",
      "Requirement already satisfied: multiprocess in /usr/local/lib/python3.10/dist-packages (from evaluate) (0.70.14)\n",
      "Requirement already satisfied: fsspec[http]>=2021.05.0 in /usr/local/lib/python3.10/dist-packages (from evaluate) (2023.6.0)\n",
      "Requirement already satisfied: huggingface-hub>=0.7.0 in /usr/local/lib/python3.10/dist-packages (from evaluate) (0.16.4)\n",
      "Requirement already satisfied: packaging in /usr/local/lib/python3.10/dist-packages (from evaluate) (23.1)\n",
      "Collecting responses<0.19 (from evaluate)\n",
      "  Downloading responses-0.18.0-py3-none-any.whl (38 kB)\n",
      "Requirement already satisfied: pyarrow>=8.0.0 in /usr/local/lib/python3.10/dist-packages (from datasets>=2.0.0->evaluate) (9.0.0)\n",
      "Requirement already satisfied: aiohttp in /usr/local/lib/python3.10/dist-packages (from datasets>=2.0.0->evaluate) (3.8.4)\n",
      "Requirement already satisfied: pyyaml>=5.1 in /usr/local/lib/python3.10/dist-packages (from datasets>=2.0.0->evaluate) (6.0)\n",
      "Requirement already satisfied: filelock in /usr/local/lib/python3.10/dist-packages (from huggingface-hub>=0.7.0->evaluate) (3.12.2)\n",
      "Requirement already satisfied: typing-extensions>=3.7.4.3 in /usr/local/lib/python3.10/dist-packages (from huggingface-hub>=0.7.0->evaluate) (4.7.1)\n",
      "Requirement already satisfied: urllib3<1.27,>=1.21.1 in /usr/local/lib/python3.10/dist-packages (from requests>=2.19.0->evaluate) (1.26.16)\n",
      "Requirement already satisfied: certifi>=2017.4.17 in /usr/local/lib/python3.10/dist-packages (from requests>=2.19.0->evaluate) (2023.5.7)\n",
      "Requirement already satisfied: charset-normalizer~=2.0.0 in /usr/local/lib/python3.10/dist-packages (from requests>=2.19.0->evaluate) (2.0.12)\n",
      "Requirement already satisfied: idna<4,>=2.5 in /usr/local/lib/python3.10/dist-packages (from requests>=2.19.0->evaluate) (3.4)\n",
      "Requirement already satisfied: python-dateutil>=2.8.1 in /usr/local/lib/python3.10/dist-packages (from pandas->evaluate) (2.8.2)\n",
      "Requirement already satisfied: pytz>=2020.1 in /usr/local/lib/python3.10/dist-packages (from pandas->evaluate) (2022.7.1)\n",
      "Requirement already satisfied: attrs>=17.3.0 in /usr/local/lib/python3.10/dist-packages (from aiohttp->datasets>=2.0.0->evaluate) (23.1.0)\n",
      "Requirement already satisfied: multidict<7.0,>=4.5 in /usr/local/lib/python3.10/dist-packages (from aiohttp->datasets>=2.0.0->evaluate) (6.0.4)\n",
      "Requirement already satisfied: async-timeout<5.0,>=4.0.0a3 in /usr/local/lib/python3.10/dist-packages (from aiohttp->datasets>=2.0.0->evaluate) (4.0.2)\n",
      "Requirement already satisfied: yarl<2.0,>=1.0 in /usr/local/lib/python3.10/dist-packages (from aiohttp->datasets>=2.0.0->evaluate) (1.9.2)\n",
      "Requirement already satisfied: frozenlist>=1.1.1 in /usr/local/lib/python3.10/dist-packages (from aiohttp->datasets>=2.0.0->evaluate) (1.4.0)\n",
      "Requirement already satisfied: aiosignal>=1.1.2 in /usr/local/lib/python3.10/dist-packages (from aiohttp->datasets>=2.0.0->evaluate) (1.3.1)\n",
      "Requirement already satisfied: six>=1.5 in /usr/local/lib/python3.10/dist-packages (from python-dateutil>=2.8.1->pandas->evaluate) (1.16.0)\n",
      "Installing collected packages: responses, evaluate\n",
      "Successfully installed evaluate-0.4.0 responses-0.18.0\n"
     ]
    }
   ],
   "source": [
    "!pip install evaluate"
   ]
  },
  {
   "cell_type": "code",
   "execution_count": null,
   "metadata": {
    "id": "mNq4C2LLMMEQ"
   },
   "outputs": [],
   "source": [
    "import transformers\n",
    "from datasets import load_dataset\n",
    "import evaluate"
   ]
  },
  {
   "cell_type": "code",
   "execution_count": null,
   "metadata": {
    "colab": {
     "base_uri": "https://localhost:8080/",
     "height": 35
    },
    "id": "-hPqAxUtMQo_",
    "outputId": "04a08325-c311-41d4-f2db-8f83e67e2adf"
   },
   "outputs": [
    {
     "data": {
      "application/vnd.google.colaboratory.intrinsic+json": {
       "type": "string"
      },
      "text/plain": [
       "'cuda'"
      ]
     },
     "execution_count": 7,
     "metadata": {},
     "output_type": "execute_result"
    }
   ],
   "source": [
    "device = 'cuda' if torch.cuda.is_available() else 'cpu'\n",
    "device"
   ]
  },
  {
   "cell_type": "markdown",
   "metadata": {
    "id": "i61fuQ-nO-0P"
   },
   "source": [
    "## Подготовка данных"
   ]
  },
  {
   "cell_type": "code",
   "execution_count": null,
   "metadata": {
    "colab": {
     "base_uri": "https://localhost:8080/",
     "height": 180,
     "referenced_widgets": [
      "7ed07fe8363e48fa8cacf893c4e0d345",
      "8282221ae4c34da2814000a2bf749c62",
      "cd2e497c00b54769b54caf848bd8ee7d",
      "fee310d8ffab491792e60e57c9e565c6",
      "b1239932f69a4c2790a14d701ef27341",
      "b342beacfca641ec8e1e0441d8ebabd2",
      "67829320e8a046aebabad1dd2315b810",
      "2429288a318f4fba9b40e4fcd72a7cd6",
      "b4440d3d20dd4dbf88d3548df8cdba8d",
      "90979b2c46704087829790e56ae09d0c",
      "1b438d79f2ca4636ac4b5d3f48374bee",
      "44259fe79ca140b3bd475f0eb80b0733",
      "5df6f357b10d47d690bd42df22df9ca5",
      "a79be7ba9ed7436e9397c76db21594dd",
      "b7c26acbc6484be19c93fc3fe73d86d4",
      "a0d4760c62c744d7b744eeb19637b5e8",
      "e929e1b0f69244f9b5620a361a4642ac",
      "347d4e6df070454787ee27809bb24600",
      "ce3f22fbf73741138744b41263a7f472",
      "683bebd84cb744da990698477b5b0f84",
      "c28a331cee744d40b7976ac763b68cdb",
      "406f95aab48440e49f961ded2aea269c",
      "900b23f78e64488aad5be9a8c45a98a2",
      "11521c1cc9c048a0bf055bb95f4a34e7",
      "b2cac6cb98bc49068c56601f28c490b6",
      "8d184d6e3ff143ab8962f3d144ad4db0",
      "4b3619e706584ddcbf3dc9a6a15c8268",
      "4f66d7cbf63f4ed68f1d86ca3a5fcc92",
      "9b31a966d8ad4eebb2b4a387233548a4",
      "9391a7f823f040d5a38586123148091b",
      "cd23d69a34594371a611f020b5d7ef90",
      "53f2383a03804581b85032d9aba83b79",
      "acc188bde6224b1cb0b3712fe1b206c6",
      "ee818b6dc6ff4dfc87f9fdff9958bab3",
      "a8936c49a7144a16bd68b4af8e08c1d7",
      "849c95f28d434205add870e7d4a37ba1",
      "a6942ddce28c49a19e81f9479a95d8d0",
      "b456aa4458b24e49a00d1cdd71471738",
      "4826208d071a46c1833df3c8726a2eb0",
      "0eba7c36a1eb4b04b50e30b32234aeff",
      "dcc3fb75b7344973aa1dc421ec5e7095",
      "36d5d50d5e1e4f92a8a95b3ec161a0c5",
      "ab38c6ead42845868edaf5cc4ddd8a36",
      "bdc5fbd0cf324e39b6c6ca1777f05ae5",
      "3d25f0937ec645b5b14680eeb9552fdf",
      "ce2b215921cf44d5b2d35a173ec5fd69",
      "fcf6260d550e49f8a0c048a95b152813",
      "0b99001d8b2046dc8dccb4835a746082",
      "e040afd5159345478156cfd02790ab50",
      "3ccce7c9cc2d4a61bc68507b84269c0a",
      "a5034352eb9e44a486666105842ea4d7",
      "5184701e5784448f9ae85083279f6033",
      "5fb1f89fac9a4f3faeaba7089d3a5f5b",
      "5ecae06a17524a1ab5efd130f4660654",
      "21f419ab51bd43e79c37525c620dfc48",
      "2ca2e7f72cc34b6f95a550334b27c57b",
      "b2369500b6944a089ccc4c620afb7910",
      "16a5d865b7384d40bd7bca415bc59c01",
      "de60ca5cb429467f819f2b64d3b96ffa",
      "8b7c620387a64ade82abb5155298843f",
      "925e0e1b6e424581a148a780d70699b7",
      "a957385699f746a3ba41f4b1b173752d",
      "4e4c42fa704f44f8a85bbc24e871c33c",
      "80ed500c03f048bdba02e42f6599bee9",
      "da04d13b0d9d48a7b2f8bc8771c93f8f",
      "c627b3e07c604235b1499b82a92c2f4a",
      "7defcb9e16284193bd9eeb2318d9cbdc",
      "07aaa24a273b485b83f3051993ecc7f0",
      "7ce90cf35d4b40cd954a16e0c4b15516",
      "06cc8de6b0a54fa0b8db1da624467332",
      "e4e8388a01634be48882a09b9a4b4c35",
      "22c8d76e197849c0bd1b3fb8496a6fc0",
      "c3a9ec6256af46c4929955820e13a813",
      "94dcdb0388ad4230b0212809c9a1ab9a",
      "d6ebad9252184253b15e0a8b4572d053",
      "c6c2ef2e673a4e56ba2c89a7c8b149fb",
      "e06b008f02f44200820f3eb7b467e71e"
     ]
    },
    "id": "6oG-IsZ1O-NN",
    "outputId": "4e5ca53d-9227-4ab4-d87f-de3b2504aae7"
   },
   "outputs": [
    {
     "data": {
      "application/vnd.jupyter.widget-view+json": {
       "model_id": "7ed07fe8363e48fa8cacf893c4e0d345",
       "version_major": 2,
       "version_minor": 0
      },
      "text/plain": [
       "Downloading builder script:   0%|          | 0.00/3.66k [00:00<?, ?B/s]"
      ]
     },
     "metadata": {},
     "output_type": "display_data"
    },
    {
     "data": {
      "application/vnd.jupyter.widget-view+json": {
       "model_id": "44259fe79ca140b3bd475f0eb80b0733",
       "version_major": 2,
       "version_minor": 0
      },
      "text/plain": [
       "Downloading metadata:   0%|          | 0.00/1.80k [00:00<?, ?B/s]"
      ]
     },
     "metadata": {},
     "output_type": "display_data"
    },
    {
     "data": {
      "application/vnd.jupyter.widget-view+json": {
       "model_id": "900b23f78e64488aad5be9a8c45a98a2",
       "version_major": 2,
       "version_minor": 0
      },
      "text/plain": [
       "Downloading readme:   0%|          | 0.00/6.70k [00:00<?, ?B/s]"
      ]
     },
     "metadata": {},
     "output_type": "display_data"
    },
    {
     "name": "stdout",
     "output_type": "stream",
     "text": [
      "Downloading and preparing dataset billsum/default to /root/.cache/huggingface/datasets/billsum/default/3.0.0/75cf1719d38d6553aa0e0714c393c74579b083ae6e164b2543684e3e92e0c4cc...\n"
     ]
    },
    {
     "data": {
      "application/vnd.jupyter.widget-view+json": {
       "model_id": "ee818b6dc6ff4dfc87f9fdff9958bab3",
       "version_major": 2,
       "version_minor": 0
      },
      "text/plain": [
       "Downloading data:   0%|          | 0.00/67.3M [00:00<?, ?B/s]"
      ]
     },
     "metadata": {},
     "output_type": "display_data"
    },
    {
     "data": {
      "application/vnd.jupyter.widget-view+json": {
       "model_id": "3d25f0937ec645b5b14680eeb9552fdf",
       "version_major": 2,
       "version_minor": 0
      },
      "text/plain": [
       "Generating train split:   0%|          | 0/18949 [00:00<?, ? examples/s]"
      ]
     },
     "metadata": {},
     "output_type": "display_data"
    },
    {
     "data": {
      "application/vnd.jupyter.widget-view+json": {
       "model_id": "2ca2e7f72cc34b6f95a550334b27c57b",
       "version_major": 2,
       "version_minor": 0
      },
      "text/plain": [
       "Generating test split:   0%|          | 0/3269 [00:00<?, ? examples/s]"
      ]
     },
     "metadata": {},
     "output_type": "display_data"
    },
    {
     "data": {
      "application/vnd.jupyter.widget-view+json": {
       "model_id": "7defcb9e16284193bd9eeb2318d9cbdc",
       "version_major": 2,
       "version_minor": 0
      },
      "text/plain": [
       "Generating ca_test split:   0%|          | 0/1237 [00:00<?, ? examples/s]"
      ]
     },
     "metadata": {},
     "output_type": "display_data"
    },
    {
     "name": "stdout",
     "output_type": "stream",
     "text": [
      "Dataset billsum downloaded and prepared to /root/.cache/huggingface/datasets/billsum/default/3.0.0/75cf1719d38d6553aa0e0714c393c74579b083ae6e164b2543684e3e92e0c4cc. Subsequent calls will reuse this data.\n"
     ]
    }
   ],
   "source": [
    "billsum = load_dataset(\"billsum\", split=\"ca_test\")"
   ]
  },
  {
   "cell_type": "code",
   "execution_count": null,
   "metadata": {
    "colab": {
     "base_uri": "https://localhost:8080/"
    },
    "id": "HC-DAjNDfmli",
    "outputId": "09d00a3d-c56c-426f-b712-43f7cf6fc6a7"
   },
   "outputs": [
    {
     "data": {
      "text/plain": [
       "Dataset({\n",
       "    features: ['text', 'summary', 'title'],\n",
       "    num_rows: 1237\n",
       "})"
      ]
     },
     "execution_count": 9,
     "metadata": {},
     "output_type": "execute_result"
    }
   ],
   "source": [
    "billsum"
   ]
  },
  {
   "cell_type": "code",
   "execution_count": null,
   "metadata": {
    "id": "oW6foD6wPXyD"
   },
   "outputs": [],
   "source": [
    "billsum = billsum.train_test_split(test_size=0.1)"
   ]
  },
  {
   "cell_type": "code",
   "execution_count": null,
   "metadata": {
    "colab": {
     "base_uri": "https://localhost:8080/"
    },
    "id": "ADReau-DRLBq",
    "outputId": "f5d14e78-3d71-4c3d-e66a-0c5771645dab"
   },
   "outputs": [
    {
     "data": {
      "text/plain": [
       "DatasetDict({\n",
       "    train: Dataset({\n",
       "        features: ['text', 'summary', 'title'],\n",
       "        num_rows: 1113\n",
       "    })\n",
       "    test: Dataset({\n",
       "        features: ['text', 'summary', 'title'],\n",
       "        num_rows: 124\n",
       "    })\n",
       "})"
      ]
     },
     "execution_count": 11,
     "metadata": {},
     "output_type": "execute_result"
    }
   ],
   "source": [
    "billsum"
   ]
  },
  {
   "cell_type": "code",
   "execution_count": null,
   "metadata": {
    "colab": {
     "base_uri": "https://localhost:8080/",
     "height": 145,
     "referenced_widgets": [
      "a37af9396234492eb2b559880bf1e088",
      "c14cf174928f48dea8af8d263f7a4e2a",
      "24fa690cd18649bdb4cdb10740205cff",
      "901edf814cf9448a98fdaafd512930bc",
      "cffc781762a7420c9f52427785b7b31c",
      "f4c973fd1809403290b0655fc594dd7e",
      "9a6f914a8bb746ffb6bf9bc6db8c30fa",
      "4fbedee4405842659d9fa7a6f6243428",
      "b7841595b7da498ca7799a99f65c0629",
      "47e35b670b5c42c29454719a3db37711",
      "a60115c45eb4429a961d4e7ea58e886d",
      "123834622c864a1a8c1fcaa18a43d597",
      "7dbf96e1795a4a118e2cecc456d225bc",
      "1960125a679d4a6d82bc07926ee50b33",
      "534ebe0cd4e743c791d4b4845500f4f7",
      "3f73738849574d09a25c64785b4b556f",
      "42eb8b13587c41648a3150e012bd5425",
      "0feb21ebe1374442aa8fed6e65c93c38",
      "ce1ba65e218647078c85dfbfa32a63b6",
      "b30fb8b2ba5d43beb346c24fa0830a25",
      "6c40d1e2f760463aaa1bcfc4e47fef7a",
      "176a6be00f694fa59dbb4406cdc62f6b",
      "1259fd7e71854fc68018bd142eb72de6",
      "69d4e74840d34326a33c3082439a9671",
      "de1d20463e37464d8cb1d4a7cc8b042e",
      "1f2d1f9e392a489c850977914d7c1e4e",
      "65710c7762564e0584b6fe0f21d647c4",
      "051c57d563a8403fbf94db5946845422",
      "aef8495ef6754ea382810cc4d9d41542",
      "c54d41305c754e548b0fdaf6293eafcc",
      "628c71139f7f4d30b5bdb23200842246",
      "4a2809fc92ba4ef48f625a3161da481f",
      "68a85f25070f476ba0909341ac43c89e",
      "2227c19c72614d1bae14bea5118a0efa",
      "595c6747077a4c41a44fa375cdc754f6",
      "d815adbd16e9458a9f690fa8b49afb57",
      "82227135200d49ec8b717042518a36d5",
      "8bbcff67ba8547af8c6e4e1c0d4f7202",
      "5a248e9315c54364af657a036587f387",
      "f8667a424b1142b09ba38263216e2279",
      "36984c9008af4c9e80b98e826636ea70",
      "42cccbb294ce484e9e120d4731efe8f0",
      "fc98e58587754e558aa0e131cfe45e58",
      "23de71b6034c4d6394036d14410dc46b"
     ]
    },
    "id": "tfUZQgR1PwWS",
    "outputId": "c7c3d83c-142d-49f0-bac2-c967dc77d63a"
   },
   "outputs": [
    {
     "data": {
      "application/vnd.jupyter.widget-view+json": {
       "model_id": "a37af9396234492eb2b559880bf1e088",
       "version_major": 2,
       "version_minor": 0
      },
      "text/plain": [
       "Downloading (…)okenizer_config.json:   0%|          | 0.00/261 [00:00<?, ?B/s]"
      ]
     },
     "metadata": {},
     "output_type": "display_data"
    },
    {
     "data": {
      "application/vnd.jupyter.widget-view+json": {
       "model_id": "123834622c864a1a8c1fcaa18a43d597",
       "version_major": 2,
       "version_minor": 0
      },
      "text/plain": [
       "Downloading (…)lve/main/config.json:   0%|          | 0.00/1.55k [00:00<?, ?B/s]"
      ]
     },
     "metadata": {},
     "output_type": "display_data"
    },
    {
     "data": {
      "application/vnd.jupyter.widget-view+json": {
       "model_id": "1259fd7e71854fc68018bd142eb72de6",
       "version_major": 2,
       "version_minor": 0
      },
      "text/plain": [
       "Downloading (…)/main/tokenizer.json:   0%|          | 0.00/1.36M [00:00<?, ?B/s]"
      ]
     },
     "metadata": {},
     "output_type": "display_data"
    },
    {
     "data": {
      "application/vnd.jupyter.widget-view+json": {
       "model_id": "2227c19c72614d1bae14bea5118a0efa",
       "version_major": 2,
       "version_minor": 0
      },
      "text/plain": [
       "Downloading (…)cial_tokens_map.json:   0%|          | 0.00/239 [00:00<?, ?B/s]"
      ]
     },
     "metadata": {},
     "output_type": "display_data"
    }
   ],
   "source": [
    "tokenizer = transformers.AutoTokenizer.from_pretrained(\"ainize/bart-base-cnn\")"
   ]
  },
  {
   "cell_type": "code",
   "execution_count": null,
   "metadata": {
    "id": "-LrbjlIoQAOk"
   },
   "outputs": [],
   "source": [
    "def preprocess_function(examples):\n",
    "    model_inputs = tokenizer(examples[\"text\"], max_length=1024, truncation=True)\n",
    "\n",
    "    labels = tokenizer(text_target=examples[\"summary\"], max_length=128, truncation=True)\n",
    "\n",
    "    model_inputs[\"labels\"] = labels[\"input_ids\"]\n",
    "    return model_inputs"
   ]
  },
  {
   "cell_type": "code",
   "execution_count": null,
   "metadata": {
    "colab": {
     "base_uri": "https://localhost:8080/",
     "height": 17,
     "referenced_widgets": [
      "4504f221f5884cb2881bf2f48ae09434",
      "c91a705a9a2f45f189e3f308e7baeaac",
      "5f826f4539964546a657eef740036d4e",
      "b476ccc09cf344c6bd43353e6055795c",
      "7e6c0ef45a70430ab6f1d4230662c6a2",
      "62c4567c53154d43bb6e3f7eeb521c0e",
      "36e40d212aef469783b9885e8cc899e1",
      "feed453510564f8d95fecc10797029ca",
      "d01866d27bd44cadb7d61758445d5bac",
      "86770213b6f9438f80efc29802b099c9",
      "e6facec305cc49f79066f7cd112d7b97",
      "f938d02d03a945459579609b6e210bb6",
      "2edbdbd03b4a42b2a230e89b89f8fbd3",
      "f6dfa6eed0434434a6d597c1bdcf90bb",
      "efc2737aabc5434ba1fa257391fdafe7",
      "f178c1ca7b7446eab26bd4cbe594cec0",
      "d4fd3715991c4808870bbff389e3e106",
      "3020a1e921ed4765a737c12ba87068fe",
      "ecc3b9d7ba644c9f87ef62879eb0031c",
      "fbe822becd764c2599b9764324ae916a",
      "ac29e7c13c9740cca9e515647a5ba020",
      "c14cc29c0c024154b1f367137810410c"
     ]
    },
    "id": "ChntaatNQfXr",
    "outputId": "f0b640b6-f019-4e80-d978-5f920066fd4c"
   },
   "outputs": [
    {
     "data": {
      "application/vnd.jupyter.widget-view+json": {
       "model_id": "4504f221f5884cb2881bf2f48ae09434",
       "version_major": 2,
       "version_minor": 0
      },
      "text/plain": [
       "Map:   0%|          | 0/1113 [00:00<?, ? examples/s]"
      ]
     },
     "metadata": {},
     "output_type": "display_data"
    },
    {
     "data": {
      "application/vnd.jupyter.widget-view+json": {
       "model_id": "f938d02d03a945459579609b6e210bb6",
       "version_major": 2,
       "version_minor": 0
      },
      "text/plain": [
       "Map:   0%|          | 0/124 [00:00<?, ? examples/s]"
      ]
     },
     "metadata": {},
     "output_type": "display_data"
    }
   ],
   "source": [
    "tokenized_billsum = billsum.map(preprocess_function, batched=True)"
   ]
  },
  {
   "cell_type": "code",
   "execution_count": null,
   "metadata": {
    "colab": {
     "base_uri": "https://localhost:8080/",
     "height": 49,
     "referenced_widgets": [
      "a2c60b53f4684147b35f4283e1261c02",
      "a7ebfad15247402bb912f6f0cc4ab762",
      "74e619e642984fd28ce6fe5616bfcdac",
      "894b9659ed6d415aa04f76b5631482ef",
      "6379a81684664cf4b1aa52e3d605f04a",
      "aede1737da044497a97e35143ef14c45",
      "dbe9df7bd5e0447cae5326fa02d21193",
      "e4dd5fb62ac34efb966126fbb51a43b2",
      "935e4a94d4944456a55d256360f5b7da",
      "d7758b16937e4303a35c7aefa02e9ee7",
      "490a352c996a418e80063583108f36ba"
     ]
    },
    "id": "hyfMSBBlgn56",
    "outputId": "732782b7-24dc-4365-91e6-e4488c24895e"
   },
   "outputs": [
    {
     "data": {
      "application/vnd.jupyter.widget-view+json": {
       "model_id": "a2c60b53f4684147b35f4283e1261c02",
       "version_major": 2,
       "version_minor": 0
      },
      "text/plain": [
       "Downloading pytorch_model.bin:   0%|          | 0.00/558M [00:00<?, ?B/s]"
      ]
     },
     "metadata": {},
     "output_type": "display_data"
    }
   ],
   "source": [
    "model = transformers.AutoModelForSeq2SeqLM.from_pretrained(\"ainize/bart-base-cnn\")"
   ]
  },
  {
   "cell_type": "code",
   "execution_count": null,
   "metadata": {
    "id": "W1KPFCzyQsVi"
   },
   "outputs": [],
   "source": [
    "data_collator = transformers.DataCollatorForSeq2Seq(tokenizer=tokenizer, model=model)"
   ]
  },
  {
   "cell_type": "code",
   "execution_count": null,
   "metadata": {
    "id": "Pcx5hzXbRAu2"
   },
   "outputs": [],
   "source": [
    "training_args = transformers.Seq2SeqTrainingArguments(\n",
    "        output_dir=\"./results\",\n",
    "        evaluation_strategy=\"epoch\",\n",
    "        learning_rate=2e-5,\n",
    "        per_device_train_batch_size=4,\n",
    "        per_device_eval_batch_size=4,\n",
    "        weight_decay=0.01,\n",
    "        save_total_limit=3,\n",
    "        num_train_epochs=2,\n",
    "    )"
   ]
  },
  {
   "cell_type": "code",
   "execution_count": null,
   "metadata": {
    "id": "q29P45C5hSY3"
   },
   "outputs": [],
   "source": [
    "trainer = transformers.Seq2SeqTrainer(\n",
    "    model=model,\n",
    "    args=training_args,\n",
    "    train_dataset=tokenized_billsum[\"train\"],\n",
    "    eval_dataset=tokenized_billsum[\"test\"],\n",
    "    tokenizer=tokenizer,\n",
    "    data_collator=data_collator,\n",
    ")"
   ]
  },
  {
   "cell_type": "code",
   "execution_count": null,
   "metadata": {
    "colab": {
     "base_uri": "https://localhost:8080/",
     "height": 245
    },
    "id": "zPjsFzs3hYGf",
    "outputId": "7ffda4b7-4744-4d8a-b2ac-6b5a8432378d"
   },
   "outputs": [
    {
     "name": "stderr",
     "output_type": "stream",
     "text": [
      "/usr/local/lib/python3.10/dist-packages/transformers/optimization.py:411: FutureWarning: This implementation of AdamW is deprecated and will be removed in a future version. Use the PyTorch implementation torch.optim.AdamW instead, or set `no_deprecation_warning=True` to disable this warning\n",
      "  warnings.warn(\n",
      "You're using a BartTokenizerFast tokenizer. Please note that with a fast tokenizer, using the `__call__` method is faster than using a method to encode the text followed by a call to the `pad` method to get a padded encoding.\n"
     ]
    },
    {
     "data": {
      "text/html": [
       "\n",
       "    <div>\n",
       "      \n",
       "      <progress value='558' max='558' style='width:300px; height:20px; vertical-align: middle;'></progress>\n",
       "      [558/558 06:39, Epoch 2/2]\n",
       "    </div>\n",
       "    <table border=\"1\" class=\"dataframe\">\n",
       "  <thead>\n",
       " <tr style=\"text-align: left;\">\n",
       "      <th>Epoch</th>\n",
       "      <th>Training Loss</th>\n",
       "      <th>Validation Loss</th>\n",
       "    </tr>\n",
       "  </thead>\n",
       "  <tbody>\n",
       "    <tr>\n",
       "      <td>1</td>\n",
       "      <td>No log</td>\n",
       "      <td>2.054266</td>\n",
       "    </tr>\n",
       "    <tr>\n",
       "      <td>2</td>\n",
       "      <td>2.174500</td>\n",
       "      <td>2.005796</td>\n",
       "    </tr>\n",
       "  </tbody>\n",
       "</table><p>"
      ],
      "text/plain": [
       "<IPython.core.display.HTML object>"
      ]
     },
     "metadata": {},
     "output_type": "display_data"
    },
    {
     "data": {
      "text/plain": [
       "TrainOutput(global_step=558, training_loss=2.1474227221635935, metrics={'train_runtime': 403.3054, 'train_samples_per_second': 5.519, 'train_steps_per_second': 1.384, 'total_flos': 1357273356042240.0, 'train_loss': 2.1474227221635935, 'epoch': 2.0})"
      ]
     },
     "execution_count": 19,
     "metadata": {},
     "output_type": "execute_result"
    }
   ],
   "source": [
    "trainer.train()"
   ]
  },
  {
   "cell_type": "markdown",
   "metadata": {
    "id": "OnDLmYASwyvO"
   },
   "source": [
    "###  Предсказания на тестовом множестве"
   ]
  },
  {
   "cell_type": "code",
   "execution_count": null,
   "metadata": {
    "colab": {
     "base_uri": "https://localhost:8080/"
    },
    "id": "p2hX2IMMyfPl",
    "outputId": "0838450c-d4e2-44e9-dfb3-e688b7d39148"
   },
   "outputs": [
    {
     "name": "stdout",
     "output_type": "stream",
     "text": [
      "The people of the State of California do enact as follows:\n",
      "\n",
      "\n",
      "SECTION 1.\n",
      "Section 236.14 is added to the Penal Code, to read:\n",
      "236.14.\n",
      "(a) If a person was arrested for or convicted of any nonviolent offense committed while he or she was a victim of human trafficking, including, but not limited to, prostitution as described in subdivision (b) of Section 647, the person may petition the court for vacatur relief of his or her convictions and arrests under th\">(e) The court may, with the agreement of the petitioner and all of the involved state or local prosecutorial agencies, consolidate into one hearing a petition with multiple convictions from different jurisdictions.\n",
      "(f) If the petition is opposed or if the court otherwise deems it necessary, the court shall schedule a hearing on the petition. The hearing may consist of the following:\n",
      "(1) Testimony by the petitioner, which may be required in support of the petition.\n",
      "(2) Evidence and supporting documentation in support of the petition.\n",
      "(3) Opposition evidence presented by any of the involved state or local prosecutorial agencies that obtained the conviction.\n",
      "(g) After considering the totality of the evidence presented, the court may vacate the conviction and expunge the arrests and issue an order if it finds all of the following:\n",
      "(1) That the petitioner was a victim of human trafficking at the time the nonviolent crime was committed.\n",
      "(2) The commission of the crime was a direct result of being a victim of human trafficking.\n",
      "(3) The victim is engaged in a good faith effort to distance himself or herself from the human trafficking scheme.\n",
      "(4) It is in the best interest of the petitioner and in the interests of justice.\n",
      "(h) In issuing an order of vacatur for the convictions, an order shall do the following:\n",
      "(1) Set forth a finding that the petitioner was a victim of human trafficking when he or she committed the offense.\n",
      "(2) Set aside the verdict of guilty or the adjudication and dismiss the accusation or information against the petitioner.\n",
      "(3) Notify the Department of Justice that the petitioner was a victim of human trafficking when he or she committed the crime and of the relief that has been ordered.\n",
      "(i) Notwithstanding this section, a petitioner shall not be relieved of any financial restitution order that directly benefits the victim of a nonviolent crime, unless it has already been paid.\n",
      "(j) A person who was arrested as, or found to be, a person described in Section 602 of the Welfare and Institutions Code because he or she committed a nonviolent offense while he or she was a victim of human trafficking, including, but not limited to, prostitution, as described in subdivision (b) of Section 647, may petition the court for relief under this section. If the petitioner establishes that the arrest or adjudication was the direct result of being a victim of human trafficking the petitioner is entitled to a rebuttable presumption that the requirements for relief have been met.\n",
      "(k) If the court issues an order as described in subdivision (a) or (j), the court shall also order the law enforcement agency having jurisdiction over the offense, the Department of Justice, and any law enforcement agency that arrested the petitioner or participated in the arrest of the petitioner to seal their records of the arrest and the court order to seal and destroy the records for three years from the date of the arrest, or within one year after the court order is granted, whichever occurs later, and thereafter to destroy their records of the arrest and the court order to seal and destroy those records. The court shall provide the petitioner a copy of any court order concerning the destruction of the arrest records.\n",
      "(l) A petition pursuant to this section shall be made and heard within a reasonable time after the person has ceased to be a victim of human trafficking, or within a reasonable time after the petitioner has sought services for being a victim of human trafficking, whichever occurs later, subject to reasonable concerns for the safety of the petitioner, family members of the petitioner, or other victims of human trafficking who may be jeopardized by the bringing of the application or for other reasons consistent with the purposes of this section.\n",
      "(m) For the purposes of this section, official documentation of a petitioner’s status as a victim of human trafficking may be introduced as evidence that his or her participation in the offense was the result of his or her status as a victim of human trafficking. For the purposes of this subdivision, “official documentation” means any documentation issued by a federal, state, or local agency that tends to show the petitioner’s status as a victim of human trafficking. Official documentation shall not be required for the issuance of an order described in subdivision (a).\n",
      "(n) A petitioner, or his or her attorney, may be excused from appearing in person at a hearing for relief pursuant to this section only if the court finds a compelling reason why the petitioner cannot attend the hearing, in which case the petitioner may appear telephonically, via videoconference, or by other electronic means established by the court.\n",
      "(o) Notwithstanding any other law, a petitioner who has obtained an order pursuant to this section may lawfully deny or refuse to acknowledge an arrest, conviction, or adjudication that is set aside pursuant to the order.\n",
      "(p) Notwithstanding any other law, the records of the arrest, conviction, or adjudication shall not be distributed to any state licensing board.\n",
      "(q) The record of a proceeding related to a petition pursuant to this section that is accessible by the public shall not disclose the petitioner’s full name.\n",
      "(r) A court that grants relief pursuant to this section may take additional action as appropriate under the circumstances to carry out the purposes of this section.\n",
      "(s) If the court denies the application because the evidence is insufficient to establish grounds for vacatur, the denial may be without prejudice. The court may state the reasons for its denial in writing or on the record that is memorialized by transcription, audio tape, or video tape, and if those reasons are based on curable deficiencies in the application, allow the applicant a reasonable time period to cure the deficiencies upon which the court based the denial.\n",
      "(t) For the purposes of this section, the following terms apply:\n",
      "(1) “Nonviolent offense” means any offense not listed in subdivision (c) of Section 667.5.\n",
      "(2) “Vacate” means that the arrest and any adjudications or convictions suffered by the petitioner are deemed not to have occurred and that all records in the case are sealed and destroyed pursuant to this section. The court shall provide the petitioner with a copy of the orders described in subdivisions (a), (j), and (k), as applicable, and inform the petitioner that he or she may thereafter state that he or she was not arrested for the charge, or adjudicated or convicted of the charge, that was vacated.\n",
      "(3) “Victim of human trafficking” means the victim of a crime described in subdivisions (a), (b), and (c) of Section 236.1.\n",
      "SEC. 2.\n",
      "No reimbursement is required by this act pursuant to Section 6 of Article XIII B of the California Constitution for certain costs that may be incurred by a local agency or school district because, in that regard, this act creates a new crime or infraction, eliminates a crime or infraction, or changes the penalty for a crime or infraction, within the meaning of Section 17556 of the Government Code, or changes the definition of a crime within the meaning of Section 6 of Article XIII B of the California Constitution.\n",
      "However, if the Commission on State Mandates determines that this act contains other costs mandated by the state, reimbursement to local agencies and school districts for those costs shall be made pursuant to Part 7 (commencing with Section 17500) of Division 4 of Title 2 of the Government Code.\n",
      "SEC. 3.\n",
      "The Legislature finds and declares that Section 1 of this act, which adds Section 236.14 to the Penal Code, imposes a limitation on the public’s right of access to the meetings of public bodies or the writings of public officials and agencies within the meaning of Section 3 of Article I of the California Constitution. Pursuant to that constitutional provision, the Legislature makes the following findings to demonstrate the interest protected by this limitation and the need for protecting that interest:\n",
      "In order to protect the privacy of victims of human trafficking and to improve their opportunities for recovery, it is necessary that this act limit the public’s right of access to the full name of a petitioner who seeks relief from an arrest or conviction for an offense in which the petitioner participated as a result of his or her status as a victim of human trafficking.\n"
     ]
    }
   ],
   "source": [
    "text_example = billsum[\"test\"]['text'][0]\n",
    "print(text_example)"
   ]
  },
  {
   "cell_type": "code",
   "execution_count": null,
   "metadata": {
    "id": "DbIa4ntlwyGX"
   },
   "outputs": [],
   "source": [
    "input_ids = tokenizer.encode(\n",
    "    text_example,\n",
    "    return_tensors=\"pt\",\n",
    "    max_length=1024,\n",
    "    truncation=True,\n",
    "    ).to(device)"
   ]
  },
  {
   "cell_type": "code",
   "execution_count": null,
   "metadata": {
    "colab": {
     "base_uri": "https://localhost:8080/"
    },
    "id": "efkIeDLGyRLZ",
    "outputId": "e97447ed-ead4-42a5-e803-65b84dad0932"
   },
   "outputs": [
    {
     "data": {
      "text/plain": [
       "torch.Size([1, 1024])"
      ]
     },
     "execution_count": 22,
     "metadata": {},
     "output_type": "execute_result"
    }
   ],
   "source": [
    "input_ids.shape"
   ]
  },
  {
   "cell_type": "code",
   "execution_count": null,
   "metadata": {
    "id": "lsbHGMWMx8VH"
   },
   "outputs": [],
   "source": [
    "summary_text_ids = model.generate(\n",
    "    input_ids=input_ids,\n",
    "    bos_token_id=model.config.bos_token_id,\n",
    "    eos_token_id=model.config.eos_token_id,\n",
    "    max_length=142,\n",
    "    min_length=56,\n",
    "    num_beams=4,\n",
    ")"
   ]
  },
  {
   "cell_type": "code",
   "execution_count": null,
   "metadata": {
    "colab": {
     "base_uri": "https://localhost:8080/"
    },
    "id": "Z-q-BNx_ywuk",
    "outputId": "329f3566-d6e5-4b26-a44d-8ae37c63c1d2"
   },
   "outputs": [
    {
     "data": {
      "text/plain": [
       "tensor([[    2,     0,  9089, 15528,   488,  2730,  7396,    10,   621,    54,\n",
       "            21,  1128,    13,    50,  3828,     9,   143, 36887,  2970,  2021,\n",
       "           150,    37,    50,    79,    21,    10,  1802,     9,  1050,  7492,\n",
       "             6,   217,     6,    53,    45,  1804,     7,     6, 23105,     6,\n",
       "             7,  5265,     5,   461,    13, 18721,  8367,  3500,     9,    39,\n",
       "            50,    69, 12618,     8,  7102,     4,  3015, 15528,   488,  3441,\n",
       "             5,   461,     7, 19752,    88,    65,  1576,    10,  5265,    19,\n",
       "          1533, 12618,    31,   430, 17607,     4, 50118,   713,  1087,    74,\n",
       "          2703,     5,   461,     6,    19,     5,  1288,     9,     5, 31390,\n",
       "             8,    70,     9,     5,   963,   194,    50,   400, 42308, 17707,\n",
       "          2244,     6,     7,     2]], device='cuda:0')"
      ]
     },
     "execution_count": 25,
     "metadata": {},
     "output_type": "execute_result"
    }
   ],
   "source": [
    "summary_text_ids"
   ]
  },
  {
   "cell_type": "code",
   "execution_count": null,
   "metadata": {
    "id": "pJewXUinzC65"
   },
   "outputs": [],
   "source": [
    "decoded_text = tokenizer.decode(summary_text_ids[0], skip_special_tokens=True)"
   ]
  },
  {
   "cell_type": "code",
   "execution_count": null,
   "metadata": {
    "colab": {
     "base_uri": "https://localhost:8080/"
    },
    "id": "8b5Bh1ejy2B6",
    "outputId": "aa870b96-79e3-414c-d375-ba3723b8bd6c"
   },
   "outputs": [
    {
     "data": {
      "text/plain": [
       "(547, 8857)"
      ]
     },
     "execution_count": 27,
     "metadata": {},
     "output_type": "execute_result"
    }
   ],
   "source": [
    "len(decoded_text), len(text_example)"
   ]
  },
  {
   "cell_type": "code",
   "execution_count": null,
   "metadata": {
    "colab": {
     "base_uri": "https://localhost:8080/",
     "height": 70
    },
    "id": "D6U-80L8VByI",
    "outputId": "1d194b5c-882d-43a8-ebb7-1aceb425f17b"
   },
   "outputs": [
    {
     "data": {
      "application/vnd.google.colaboratory.intrinsic+json": {
       "type": "string"
      },
      "text/plain": [
       "'Existing law authorizes a person who was arrested for or convicted of any nonviolent offense committed while he or she was a victim of human trafficking, including, but not limited to, prostitution, to petition the court for vacatur relief of his or her convictions and arrests. Existing law requires the court to consolidate into one hearing a petition with multiple convictions from different jurisdictions.\\nThis bill would require the court, with the agreement of the petitioner and all of the involved state or local prosecutorial agencies, to'"
      ]
     },
     "execution_count": 28,
     "metadata": {},
     "output_type": "execute_result"
    }
   ],
   "source": [
    "decoded_text"
   ]
  },
  {
   "cell_type": "code",
   "execution_count": null,
   "metadata": {
    "colab": {
     "base_uri": "https://localhost:8080/",
     "height": 49,
     "referenced_widgets": [
      "e853525102b5476dbc734550bb191057",
      "924b4f717664437ea0d7e64369f6dff3",
      "7bc8834cda6f4c3f85ea63639bc3c6f7",
      "0182cd44158f4df48dbd8ae975de0002",
      "7fb25d4f54fb45d8a0acc12cd96f46dd",
      "36e60311aee94c8bad787c55f15a2c2e",
      "fd239ebc632d43e0b4cfbfc5e300e2fb",
      "cec501fd78dc42aea372e183609d3e70",
      "fd49e1b9722e4308ab3481124fd95c9e",
      "f98baf0b5c3849f99c7ed1443cf154bb",
      "633b41dc39c146c791546f6360f5d016"
     ]
    },
    "id": "bhWHNO7xzHrF",
    "outputId": "e4ffe331-4cf0-447e-cf02-31d280386845"
   },
   "outputs": [
    {
     "data": {
      "application/vnd.jupyter.widget-view+json": {
       "model_id": "e853525102b5476dbc734550bb191057",
       "version_major": 2,
       "version_minor": 0
      },
      "text/plain": [
       "  0%|          | 0/124 [00:00<?, ?it/s]"
      ]
     },
     "metadata": {},
     "output_type": "display_data"
    }
   ],
   "source": [
    "summaries = []\n",
    "\n",
    "for text in tqdm(billsum[\"test\"]['text']):\n",
    "    input_ids = tokenizer.encode(\n",
    "        text,\n",
    "        return_tensors=\"pt\",\n",
    "        max_length=1024,\n",
    "        truncation=True,\n",
    "        ).to(device)\n",
    "\n",
    "    summary_text_ids = model.generate(\n",
    "        input_ids=input_ids,\n",
    "        bos_token_id=model.config.bos_token_id,\n",
    "        eos_token_id=model.config.eos_token_id,\n",
    "        max_length=142,\n",
    "        min_length=56,\n",
    "        num_beams=4,\n",
    "    )\n",
    "\n",
    "    decoded_text = tokenizer.decode(summary_text_ids[0], skip_special_tokens=True)\n",
    "    summaries.append(decoded_text)"
   ]
  },
  {
   "cell_type": "markdown",
   "metadata": {
    "id": "zySNBzjShui3"
   },
   "source": [
    "## Считаем качество"
   ]
  },
  {
   "cell_type": "markdown",
   "metadata": {
    "id": "i0KbTPwThx3E"
   },
   "source": [
    "### ROUGE"
   ]
  },
  {
   "cell_type": "code",
   "execution_count": null,
   "metadata": {
    "colab": {
     "base_uri": "https://localhost:8080/"
    },
    "id": "C78Cp_fL0xUU",
    "outputId": "6296b24c-0d8f-46ec-b4e2-9a3f7da00e67"
   },
   "outputs": [
    {
     "name": "stdout",
     "output_type": "stream",
     "text": [
      "Collecting rouge_score\n",
      "  Downloading rouge_score-0.1.2.tar.gz (17 kB)\n",
      "  Preparing metadata (setup.py) ... \u001b[?25l\u001b[?25hdone\n",
      "Requirement already satisfied: absl-py in /usr/local/lib/python3.10/dist-packages (from rouge_score) (1.4.0)\n",
      "Requirement already satisfied: nltk in /usr/local/lib/python3.10/dist-packages (from rouge_score) (3.8.1)\n",
      "Requirement already satisfied: numpy in /usr/local/lib/python3.10/dist-packages (from rouge_score) (1.22.4)\n",
      "Requirement already satisfied: six>=1.14.0 in /usr/local/lib/python3.10/dist-packages (from rouge_score) (1.16.0)\n",
      "Requirement already satisfied: click in /usr/local/lib/python3.10/dist-packages (from nltk->rouge_score) (8.1.4)\n",
      "Requirement already satisfied: joblib in /usr/local/lib/python3.10/dist-packages (from nltk->rouge_score) (1.3.1)\n",
      "Requirement already satisfied: regex>=2021.8.3 in /usr/local/lib/python3.10/dist-packages (from nltk->rouge_score) (2022.10.31)\n",
      "Requirement already satisfied: tqdm in /usr/local/lib/python3.10/dist-packages (from nltk->rouge_score) (4.65.0)\n",
      "Building wheels for collected packages: rouge_score\n",
      "  Building wheel for rouge_score (setup.py) ... \u001b[?25l\u001b[?25hdone\n",
      "  Created wheel for rouge_score: filename=rouge_score-0.1.2-py3-none-any.whl size=24934 sha256=71e95dac241dd35a66fc8195d2717a975f9a1112f7431ca946d0133aafada3cd\n",
      "  Stored in directory: /root/.cache/pip/wheels/5f/dd/89/461065a73be61a532ff8599a28e9beef17985c9e9c31e541b4\n",
      "Successfully built rouge_score\n",
      "Installing collected packages: rouge_score\n",
      "Successfully installed rouge_score-0.1.2\n"
     ]
    }
   ],
   "source": [
    "!pip install rouge_score"
   ]
  },
  {
   "cell_type": "code",
   "execution_count": null,
   "metadata": {
    "colab": {
     "base_uri": "https://localhost:8080/",
     "height": 49,
     "referenced_widgets": [
      "26d35b530bfb45fb917ec68cea819e5b",
      "b1c63ac331cc41dbabc8d76b089144ee",
      "b166d7940bce4cefac646fbf63af118f",
      "461b871b337d4bb2a2e469349cfb1c34",
      "82a13b0799574497a7f6f83e370eb394",
      "1049f628a9084f6b8870c38f726d2263",
      "4918edf14f6047ddb7f96d80ec0d4822",
      "bca9a3d8fcfe48e38f23e8393ab5758b",
      "ee8903b373c24c99800d908995faa9ef",
      "09d704c461044b25b58c52c81feedaa5",
      "f7f973e52f5d49eaa0bbef4ffb38ed22"
     ]
    },
    "id": "rz1PENKNhwv8",
    "outputId": "74a8b2e3-04e0-4e5b-c826-037240d8439e"
   },
   "outputs": [
    {
     "data": {
      "application/vnd.jupyter.widget-view+json": {
       "model_id": "26d35b530bfb45fb917ec68cea819e5b",
       "version_major": 2,
       "version_minor": 0
      },
      "text/plain": [
       "Downloading builder script:   0%|          | 0.00/6.27k [00:00<?, ?B/s]"
      ]
     },
     "metadata": {},
     "output_type": "display_data"
    }
   ],
   "source": [
    "rouge = evaluate.load('rouge')"
   ]
  },
  {
   "cell_type": "code",
   "execution_count": null,
   "metadata": {
    "colab": {
     "base_uri": "https://localhost:8080/"
    },
    "id": "FYlIj6u80LCV",
    "outputId": "d5933612-5e1c-4854-a4bf-c54929d0cde9"
   },
   "outputs": [
    {
     "name": "stdout",
     "output_type": "stream",
     "text": [
      "CPU times: user 5.03 s, sys: 8.51 ms, total: 5.03 s\n",
      "Wall time: 5.12 s\n"
     ]
    }
   ],
   "source": [
    "%%time\n",
    "results = rouge.compute(\n",
    "        predictions=summaries,\n",
    "        references=billsum[\"test\"]['summary']\n",
    "    )"
   ]
  },
  {
   "cell_type": "code",
   "execution_count": null,
   "metadata": {
    "colab": {
     "base_uri": "https://localhost:8080/"
    },
    "id": "SwboJ1gy03-P",
    "outputId": "c6a112aa-ff94-4f06-cf76-ea6509407195"
   },
   "outputs": [
    {
     "data": {
      "text/plain": [
       "{'rouge1': 0.3295094036218852,\n",
       " 'rouge2': 0.1785330127243029,\n",
       " 'rougeL': 0.22409067060892754,\n",
       " 'rougeLsum': 0.28382496411321023}"
      ]
     },
     "execution_count": 33,
     "metadata": {},
     "output_type": "execute_result"
    }
   ],
   "source": [
    "results"
   ]
  },
  {
   "cell_type": "code",
   "execution_count": null,
   "metadata": {
    "id": "nwwSiPNo07sk"
   },
   "outputs": [],
   "source": []
  }
 ],
 "metadata": {
  "accelerator": "GPU",
  "colab": {
   "provenance": []
  },
  "gpuClass": "standard",
  "kernelspec": {
   "display_name": "Python 3 (ipykernel)",
   "language": "python",
   "name": "python3"
  },
  "language_info": {
   "codemirror_mode": {
    "name": "ipython",
    "version": 3
   },
   "file_extension": ".py",
   "mimetype": "text/x-python",
   "name": "python",
   "nbconvert_exporter": "python",
   "pygments_lexer": "ipython3",
   "version": "3.11.9"
  },
  "widgets": {
   "application/vnd.jupyter.widget-state+json": {
    "state": {},
    "version_major": 2,
    "version_minor": 0
   }
  }
 },
 "nbformat": 4,
 "nbformat_minor": 4
}
