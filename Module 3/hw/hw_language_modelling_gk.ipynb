{
 "cells": [
  {
   "cell_type": "markdown",
   "metadata": {
    "id": "d0ADTojbpfLt"
   },
   "source": [
    "<p style=\"align: center;\"><img src=\"https://static.tildacdn.com/tild6636-3531-4239-b465-376364646465/Deep_Learning_School.png\" width=\"400\"></p>\n",
    "\n",
    "# Домашнее задание. Обучение языковой модели с помощью LSTM (10 баллов)"
   ]
  },
  {
   "cell_type": "markdown",
   "metadata": {
    "id": "ldHSmYY6p_mZ"
   },
   "source": [
    "В этом задании Вам предстоит обучить языковую модель с помощью рекуррентной нейронной сети. В отличие от семинарского занятия, Вам необходимо будет работать с отдельными словами, а не буквами.\n",
    "\n",
    "\n",
    "Установим модуль ```datasets```, чтобы нам проще было работать с данными."
   ]
  },
  {
   "cell_type": "code",
   "execution_count": 1,
   "metadata": {
    "execution": {
     "iopub.execute_input": "2025-03-08T09:23:54.534170Z",
     "iopub.status.busy": "2025-03-08T09:23:54.533167Z",
     "iopub.status.idle": "2025-03-08T09:23:58.634723Z",
     "shell.execute_reply": "2025-03-08T09:23:58.634723Z",
     "shell.execute_reply.started": "2025-03-08T09:23:54.534170Z"
    },
    "id": "3yvNdv6cp_0P"
   },
   "outputs": [
    {
     "name": "stderr",
     "output_type": "stream",
     "text": [
      "\n",
      "[notice] A new release of pip is available: 24.0 -> 25.0.1\n",
      "[notice] To update, run: python.exe -m pip install --upgrade pip\n"
     ]
    }
   ],
   "source": [
    "!pip install datasets nltk spacy -q"
   ]
  },
  {
   "cell_type": "markdown",
   "metadata": {
    "id": "rh9ZXSeCpng9"
   },
   "source": [
    "Импорт необходимых библиотек"
   ]
  },
  {
   "cell_type": "code",
   "execution_count": 169,
   "metadata": {
    "execution": {
     "iopub.execute_input": "2025-03-08T11:53:50.979919Z",
     "iopub.status.busy": "2025-03-08T11:53:50.979364Z",
     "iopub.status.idle": "2025-03-08T11:53:50.986583Z",
     "shell.execute_reply": "2025-03-08T11:53:50.986583Z",
     "shell.execute_reply.started": "2025-03-08T11:53:50.979919Z"
    },
    "id": "XOJi16bLpd_O"
   },
   "outputs": [],
   "source": [
    "import torch\n",
    "import torch.nn as nn\n",
    "from torch.utils.data import Dataset, DataLoader\n",
    "\n",
    "import numpy as np\n",
    "import matplotlib.pyplot as plt\n",
    "\n",
    "from tqdm.auto import tqdm, trange\n",
    "from datasets import load_dataset\n",
    "from nltk.tokenize import sent_tokenize, word_tokenize\n",
    "from sklearn.model_selection import train_test_split\n",
    "import nltk\n",
    "\n",
    "from collections import Counter\n",
    "from typing import List, Union, Optional\n",
    "\n",
    "import pandas as pd\n",
    "import seaborn as sns\n",
    "sns.set(palette='summer')"
   ]
  },
  {
   "cell_type": "code",
   "execution_count": 3,
   "metadata": {
    "execution": {
     "iopub.execute_input": "2025-03-08T09:24:16.093797Z",
     "iopub.status.busy": "2025-03-08T09:24:16.093797Z",
     "iopub.status.idle": "2025-03-08T09:24:16.539792Z",
     "shell.execute_reply": "2025-03-08T09:24:16.539792Z",
     "shell.execute_reply.started": "2025-03-08T09:24:16.093797Z"
    },
    "id": "91JuM0SQvXud"
   },
   "outputs": [
    {
     "name": "stderr",
     "output_type": "stream",
     "text": [
      "[nltk_data] Downloading package punkt to\n",
      "[nltk_data]     C:\\Users\\gosha\\AppData\\Roaming\\nltk_data...\n",
      "[nltk_data]   Package punkt is already up-to-date!\n"
     ]
    },
    {
     "data": {
      "text/plain": [
       "True"
      ]
     },
     "execution_count": 3,
     "metadata": {},
     "output_type": "execute_result"
    }
   ],
   "source": [
    "nltk.download('punkt')"
   ]
  },
  {
   "cell_type": "code",
   "execution_count": 4,
   "metadata": {
    "execution": {
     "iopub.execute_input": "2025-03-08T09:24:16.539792Z",
     "iopub.status.busy": "2025-03-08T09:24:16.539792Z",
     "iopub.status.idle": "2025-03-08T09:24:16.595175Z",
     "shell.execute_reply": "2025-03-08T09:24:16.595175Z",
     "shell.execute_reply.started": "2025-03-08T09:24:16.539792Z"
    },
    "id": "adJC8ShFq9HM"
   },
   "outputs": [
    {
     "data": {
      "text/plain": [
       "'cuda'"
      ]
     },
     "execution_count": 4,
     "metadata": {},
     "output_type": "execute_result"
    }
   ],
   "source": [
    "device = 'cuda' if torch.cuda.is_available() else 'cpu'\n",
    "device"
   ]
  },
  {
   "cell_type": "markdown",
   "metadata": {
    "id": "pwsfS1ENq5ig"
   },
   "source": [
    "## Подготовка данных\n",
    "\n",
    "Воспользуемся датасетом imdb. В нем хранятся отзывы о фильмах с сайта imdb. Загрузим данные с помощью функции ```load_dataset```"
   ]
  },
  {
   "cell_type": "code",
   "execution_count": 5,
   "metadata": {
    "execution": {
     "iopub.execute_input": "2025-03-08T09:24:16.597199Z",
     "iopub.status.busy": "2025-03-08T09:24:16.596198Z",
     "iopub.status.idle": "2025-03-08T09:24:29.662321Z",
     "shell.execute_reply": "2025-03-08T09:24:29.662321Z",
     "shell.execute_reply.started": "2025-03-08T09:24:16.597199Z"
    },
    "id": "qHLNWOfJqSfc"
   },
   "outputs": [],
   "source": [
    "# Загрузим датасет\n",
    "dataset = load_dataset('imdb')"
   ]
  },
  {
   "cell_type": "code",
   "execution_count": 6,
   "metadata": {
    "execution": {
     "iopub.execute_input": "2025-03-08T09:24:29.662321Z",
     "iopub.status.busy": "2025-03-08T09:24:29.662321Z",
     "iopub.status.idle": "2025-03-08T09:24:29.666526Z",
     "shell.execute_reply": "2025-03-08T09:24:29.666526Z",
     "shell.execute_reply.started": "2025-03-08T09:24:29.662321Z"
    }
   },
   "outputs": [
    {
     "data": {
      "text/plain": [
       "DatasetDict({\n",
       "    train: Dataset({\n",
       "        features: ['text', 'label'],\n",
       "        num_rows: 25000\n",
       "    })\n",
       "    test: Dataset({\n",
       "        features: ['text', 'label'],\n",
       "        num_rows: 25000\n",
       "    })\n",
       "    unsupervised: Dataset({\n",
       "        features: ['text', 'label'],\n",
       "        num_rows: 50000\n",
       "    })\n",
       "})"
      ]
     },
     "execution_count": 6,
     "metadata": {},
     "output_type": "execute_result"
    }
   ],
   "source": [
    "dataset"
   ]
  },
  {
   "cell_type": "markdown",
   "metadata": {
    "id": "24gn7CuZ9agP"
   },
   "source": [
    "### Препроцессинг данных и создание словаря (1 балл)\n",
    "\n",
    "Далее вам необходмо самостоятельно произвести препроцессинг данных и получить словарь или же просто ```set``` строк. Что необходимо сделать:\n",
    "\n",
    "1. Разделить отдельные тренировочные примеры на отдельные предложения с помощью функции ```sent_tokenize``` из бибилиотеки ```nltk```. Каждое отдельное предложение будет одним тренировочным примером.\n",
    "2. Оставить только те предложения, в которых меньше ```word_threshold``` слов.\n",
    "3. Посчитать частоту вхождения каждого слова в оставшихся предложениях. Для деления предложения на отдельные слова удобно использовать функцию ```word_tokenize```.\n",
    "4. Создать объект ```vocab``` класса ```set```, положить в него служебные токены '\\<unk\\>', '\\<bos\\>', '\\<eos\\>', '\\<pad\\>' и vocab_size самых частовстречающихся слов.   "
   ]
  },
  {
   "cell_type": "markdown",
   "metadata": {},
   "source": [
    "Тренировочную выборку увеличим, добавив к ней `supervised` часть датасета, после чего весь датасет сформируем,убрав возможные *дубликаты*, преобразовав полученный список в объект класса `set`."
   ]
  },
  {
   "cell_type": "code",
   "execution_count": 7,
   "metadata": {
    "execution": {
     "iopub.execute_input": "2025-03-08T09:24:29.666526Z",
     "iopub.status.busy": "2025-03-08T09:24:29.666526Z",
     "iopub.status.idle": "2025-03-08T09:25:31.268888Z",
     "shell.execute_reply": "2025-03-08T09:25:31.268888Z",
     "shell.execute_reply.started": "2025-03-08T09:24:29.666526Z"
    },
    "id": "Ins2tVCdsS47"
   },
   "outputs": [
    {
     "data": {
      "application/vnd.jupyter.widget-view+json": {
       "model_id": "283d935441d243f6bdea71264caf5f41",
       "version_major": 2,
       "version_minor": 0
      },
      "text/plain": [
       "  0%|          | 0/75000 [00:00<?, ?it/s]"
      ]
     },
     "metadata": {},
     "output_type": "display_data"
    }
   ],
   "source": [
    "sentences = []\n",
    "word_threshold = 32\n",
    "\n",
    "# Получить отдельные предложения и поместить их в sentences\n",
    "for sentence in tqdm(dataset['train']['text']+dataset['unsupervised']['text']):\n",
    "     sentences.extend(\n",
    "        [x.lower() for x in sent_tokenize(sentence) if len(word_tokenize(x)) < word_threshold]\n",
    "        )"
   ]
  },
  {
   "cell_type": "code",
   "execution_count": 8,
   "metadata": {
    "execution": {
     "iopub.execute_input": "2025-03-08T09:25:31.269895Z",
     "iopub.status.busy": "2025-03-08T09:25:31.269895Z",
     "iopub.status.idle": "2025-03-08T09:25:31.273409Z",
     "shell.execute_reply": "2025-03-08T09:25:31.272899Z",
     "shell.execute_reply.started": "2025-03-08T09:25:31.269895Z"
    },
    "id": "bxeBxP3J1Rj3"
   },
   "outputs": [
    {
     "name": "stdout",
     "output_type": "stream",
     "text": [
      "Всего предложений: 591419\n"
     ]
    }
   ],
   "source": [
    "print(\"Всего предложений:\", len(sentences))"
   ]
  },
  {
   "cell_type": "code",
   "execution_count": 9,
   "metadata": {
    "execution": {
     "iopub.execute_input": "2025-03-08T09:25:31.274916Z",
     "iopub.status.busy": "2025-03-08T09:25:31.273409Z",
     "iopub.status.idle": "2025-03-08T09:25:31.384421Z",
     "shell.execute_reply": "2025-03-08T09:25:31.384421Z",
     "shell.execute_reply.started": "2025-03-08T09:25:31.273409Z"
    }
   },
   "outputs": [
    {
     "name": "stdout",
     "output_type": "stream",
     "text": [
      "Всего предложений после удаления возможных дубликатов: 562883\n"
     ]
    }
   ],
   "source": [
    "sentences = list(set(sentences))\n",
    "print(\"Всего предложений после удаления возможных дубликатов:\", len(sentences))"
   ]
  },
  {
   "cell_type": "markdown",
   "metadata": {
    "id": "iT82XkT6ULA_"
   },
   "source": [
    "Посчитаем для каждого слова его встречаемость."
   ]
  },
  {
   "cell_type": "code",
   "execution_count": 10,
   "metadata": {
    "execution": {
     "iopub.execute_input": "2025-03-08T09:25:31.385427Z",
     "iopub.status.busy": "2025-03-08T09:25:31.385427Z",
     "iopub.status.idle": "2025-03-08T09:26:00.874951Z",
     "shell.execute_reply": "2025-03-08T09:26:00.874951Z",
     "shell.execute_reply.started": "2025-03-08T09:25:31.385427Z"
    },
    "id": "nEvCN0Y1w1yH",
    "scrolled": true
   },
   "outputs": [
    {
     "data": {
      "application/vnd.jupyter.widget-view+json": {
       "model_id": "942f72df2a794393b9a110a803c52cd4",
       "version_major": 2,
       "version_minor": 0
      },
      "text/plain": [
       "  0%|          | 0/562883 [00:00<?, ?it/s]"
      ]
     },
     "metadata": {},
     "output_type": "display_data"
    }
   ],
   "source": [
    "words = Counter()\n",
    "\n",
    "# Расчет встречаемости слов\n",
    "for sentence in tqdm(set(sentences)):\n",
    "    for objects in word_tokenize(sentence):\n",
    "        words[objects] += 1"
   ]
  },
  {
   "cell_type": "code",
   "execution_count": 11,
   "metadata": {
    "execution": {
     "iopub.execute_input": "2025-03-08T09:26:00.876286Z",
     "iopub.status.busy": "2025-03-08T09:26:00.876286Z",
     "iopub.status.idle": "2025-03-08T09:26:00.879893Z",
     "shell.execute_reply": "2025-03-08T09:26:00.879893Z",
     "shell.execute_reply.started": "2025-03-08T09:26:00.876286Z"
    }
   },
   "outputs": [
    {
     "data": {
      "text/plain": [
       "123469"
      ]
     },
     "execution_count": 11,
     "metadata": {},
     "output_type": "execute_result"
    }
   ],
   "source": [
    "len(words)"
   ]
  },
  {
   "cell_type": "code",
   "execution_count": 12,
   "metadata": {
    "execution": {
     "iopub.execute_input": "2025-03-08T09:26:00.879893Z",
     "iopub.status.busy": "2025-03-08T09:26:00.879893Z",
     "iopub.status.idle": "2025-03-08T09:26:00.890710Z",
     "shell.execute_reply": "2025-03-08T09:26:00.890710Z",
     "shell.execute_reply.started": "2025-03-08T09:26:00.879893Z"
    }
   },
   "outputs": [
    {
     "name": "stdout",
     "output_type": "stream",
     "text": [
      "Наиболее встречающиеся элементы ('.', 488868) ('the', 446875) (',', 338009) ('a', 221902) ('and', 216327) ('of', 185548) ('to', 178417) ('is', 168432) ('it', 149700) ('i', 140292)\n"
     ]
    }
   ],
   "source": [
    "print('Наиболее встречающиеся элементы', *words.most_common(10))"
   ]
  },
  {
   "cell_type": "markdown",
   "metadata": {},
   "source": [
    "Ожидаемый результат: наиболее частыми элементами, попавшими в словарь оказались знаки пунктуации, служебные элементы английского языка."
   ]
  },
  {
   "cell_type": "markdown",
   "metadata": {
    "id": "B4k4uSoHUSI0"
   },
   "source": [
    "Добавим в словарь ```vocab_size``` самых встречающихся слов."
   ]
  },
  {
   "cell_type": "code",
   "execution_count": 13,
   "metadata": {
    "execution": {
     "iopub.execute_input": "2025-03-08T09:26:00.892214Z",
     "iopub.status.busy": "2025-03-08T09:26:00.890710Z",
     "iopub.status.idle": "2025-03-08T09:26:00.914155Z",
     "shell.execute_reply": "2025-03-08T09:26:00.913146Z",
     "shell.execute_reply.started": "2025-03-08T09:26:00.892214Z"
    },
    "id": "oUBNwsK9xLIu"
   },
   "outputs": [],
   "source": [
    "vocab = set()\n",
    "vocab_size = 40000\n",
    "\n",
    "# Наполнение словаря\n",
    "for i in sorted(words, key = words.get, reverse=True)[:vocab_size]+['<unk>', '<bos>', '<eos>', '<pad>']:\n",
    "    vocab.add(i)"
   ]
  },
  {
   "cell_type": "code",
   "execution_count": 14,
   "metadata": {
    "execution": {
     "iopub.execute_input": "2025-03-08T09:26:00.916529Z",
     "iopub.status.busy": "2025-03-08T09:26:00.916529Z",
     "iopub.status.idle": "2025-03-08T09:26:00.920036Z",
     "shell.execute_reply": "2025-03-08T09:26:00.919534Z",
     "shell.execute_reply.started": "2025-03-08T09:26:00.916529Z"
    },
    "id": "ieT0DFUpXnV2"
   },
   "outputs": [],
   "source": [
    "assert '<unk>' in vocab\n",
    "assert '<bos>' in vocab\n",
    "assert '<eos>' in vocab\n",
    "assert '<pad>' in vocab\n",
    "assert len(vocab) == vocab_size + 4"
   ]
  },
  {
   "cell_type": "code",
   "execution_count": 15,
   "metadata": {
    "execution": {
     "iopub.execute_input": "2025-03-08T09:26:00.920036Z",
     "iopub.status.busy": "2025-03-08T09:26:00.920036Z",
     "iopub.status.idle": "2025-03-08T09:26:00.924060Z",
     "shell.execute_reply": "2025-03-08T09:26:00.924060Z",
     "shell.execute_reply.started": "2025-03-08T09:26:00.920036Z"
    },
    "id": "JhACW2CQyck5"
   },
   "outputs": [
    {
     "name": "stdout",
     "output_type": "stream",
     "text": [
      "Всего слов в словаре: 40004\n"
     ]
    }
   ],
   "source": [
    "print(\"Всего слов в словаре:\", len(vocab))"
   ]
  },
  {
   "cell_type": "markdown",
   "metadata": {
    "id": "UmeRYKSIUcdE"
   },
   "source": [
    "### Подготовка датасета (1 балл)\n",
    "\n",
    "Далее, как и в семинарском занятии, подготовим датасеты и даталоадеры.\n",
    "\n",
    "В классе ```WordDataset``` вам необходимо реализовать метод ```__getitem__```, который будет возвращать сэмпл данных по входному idx, то есть список целых чисел (индексов слов).\n",
    "\n",
    "Внутри этого метода необходимо добавить служебные токены начала и конца последовательности, а также токенизировать соответствующее предложение с помощью ```word_tokenize``` и сопоставить ему индексы из ```word2ind```."
   ]
  },
  {
   "cell_type": "code",
   "execution_count": 16,
   "metadata": {
    "execution": {
     "iopub.execute_input": "2025-03-08T09:26:00.925065Z",
     "iopub.status.busy": "2025-03-08T09:26:00.924060Z",
     "iopub.status.idle": "2025-03-08T09:26:00.975574Z",
     "shell.execute_reply": "2025-03-08T09:26:00.975574Z",
     "shell.execute_reply.started": "2025-03-08T09:26:00.925065Z"
    },
    "id": "iD7SmSy3v2dl"
   },
   "outputs": [],
   "source": [
    "word2ind = {char: i for i, char in enumerate(vocab)}\n",
    "ind2word = {i: char for char, i in word2ind.items()}"
   ]
  },
  {
   "cell_type": "code",
   "execution_count": 17,
   "metadata": {
    "execution": {
     "iopub.execute_input": "2025-03-08T09:26:00.977473Z",
     "iopub.status.busy": "2025-03-08T09:26:00.976578Z",
     "iopub.status.idle": "2025-03-08T09:26:00.980415Z",
     "shell.execute_reply": "2025-03-08T09:26:00.980415Z",
     "shell.execute_reply.started": "2025-03-08T09:26:00.977473Z"
    },
    "id": "FVzXL17PzC7K"
   },
   "outputs": [],
   "source": [
    "class WordDataset:\n",
    "    def __init__(self, sentences):\n",
    "        self.data = sentences\n",
    "        self.unk_id = word2ind['<unk>']\n",
    "        self.bos_id = word2ind['<bos>']\n",
    "        self.eos_id = word2ind['<eos>']\n",
    "        self.pad_id = word2ind['<pad>']\n",
    "\n",
    "    def __getitem__(self, idx: int) -> List[int]:\n",
    "        tokenized_sentence = [self.bos_id]\n",
    "        tokenized_sentence += [word2ind.get(sent_obj, self.unk_id) for sent_obj in word_tokenize(self.data[idx])]\n",
    "        tokenized_sentence += [self.eos_id]\n",
    "\n",
    "        return tokenized_sentence\n",
    "\n",
    "    def __len__(self) -> int:\n",
    "        return len(self.data)"
   ]
  },
  {
   "cell_type": "code",
   "execution_count": 18,
   "metadata": {
    "execution": {
     "iopub.execute_input": "2025-03-08T09:26:00.981420Z",
     "iopub.status.busy": "2025-03-08T09:26:00.980415Z",
     "iopub.status.idle": "2025-03-08T09:26:00.986102Z",
     "shell.execute_reply": "2025-03-08T09:26:00.986102Z",
     "shell.execute_reply.started": "2025-03-08T09:26:00.981420Z"
    },
    "id": "I6CtYNMp2_g0"
   },
   "outputs": [],
   "source": [
    "def collate_fn_with_padding(\n",
    "    input_batch: List[List[int]], pad_id=word2ind['<pad>']) -> torch.Tensor:\n",
    "    seq_lens = [len(x) for x in input_batch]\n",
    "    max_seq_len = max(seq_lens)\n",
    "\n",
    "    new_batch = []\n",
    "    for sequence in input_batch:\n",
    "        for _ in range(max_seq_len - len(sequence)):\n",
    "            sequence.append(pad_id)\n",
    "        new_batch.append(sequence)\n",
    "\n",
    "    sequences = torch.LongTensor(new_batch).to(device)\n",
    "\n",
    "    new_batch = {\n",
    "        'input_ids': sequences[:,:-1],\n",
    "        'target_ids': sequences[:,1:]\n",
    "    }\n",
    "\n",
    "    return new_batch"
   ]
  },
  {
   "cell_type": "code",
   "execution_count": 19,
   "metadata": {
    "execution": {
     "iopub.execute_input": "2025-03-08T09:26:00.987160Z",
     "iopub.status.busy": "2025-03-08T09:26:00.986102Z",
     "iopub.status.idle": "2025-03-08T09:26:01.343743Z",
     "shell.execute_reply": "2025-03-08T09:26:01.342731Z",
     "shell.execute_reply.started": "2025-03-08T09:26:00.987160Z"
    },
    "id": "6xmeK9Ys1BIG"
   },
   "outputs": [],
   "source": [
    "train_sentences, eval_sentences = train_test_split(sentences, test_size=0.2)\n",
    "eval_sentences, test_sentences = train_test_split(sentences, test_size=0.5)\n",
    "\n",
    "train_dataset = WordDataset(train_sentences)\n",
    "eval_dataset = WordDataset(eval_sentences)\n",
    "test_dataset = WordDataset(test_sentences)\n",
    "\n",
    "batch_size = 128\n",
    "\n",
    "train_dataloader = DataLoader(\n",
    "    train_dataset, collate_fn=collate_fn_with_padding, batch_size=batch_size)\n",
    "\n",
    "eval_dataloader = DataLoader(\n",
    "    eval_dataset, collate_fn=collate_fn_with_padding, batch_size=batch_size)\n",
    "\n",
    "test_dataloader = DataLoader(\n",
    "    test_dataset, collate_fn=collate_fn_with_padding, batch_size=batch_size)"
   ]
  },
  {
   "cell_type": "markdown",
   "metadata": {
    "id": "SMAexY7Y45E4"
   },
   "source": [
    "## Обучение и архитектура модели\n",
    "\n",
    "Вам необходимо на практике проверить, что влияет на качество языковых моделей. В этом задании нужно провести серию экспериментов с различными вариантами языковых моделей и сравнить различия в конечной перплексии на тестовом множестве.\n",
    "\n",
    "Возможные идеи для экспериментов:\n",
    "\n",
    "* Различные RNN-блоки, например, LSTM или GRU. Также можно добавить сразу несколько RNN блоков друг над другом с помощью аргумента num_layers. Вам поможет официальная документация [здесь](https://pytorch.org/docs/stable/generated/torch.nn.LSTM.html)\n",
    "* Различные размеры скрытого состояния. Различное количество линейных слоев после RNN-блока. Различные функции активации.\n",
    "* Добавление нормализаций в виде Dropout, BatchNorm или LayerNorm\n",
    "* Различные аргументы для оптимизации, например, подбор оптимального learning rate или тип алгоритма оптимизации SGD, Adam, RMSProp и другие\n",
    "* Любые другие идеи и подходы\n",
    "\n",
    "После проведения экспериментов необходимо составить таблицу результатов, в которой описан каждый эксперимент и посчитана перплексия на тестовом множестве.\n",
    "\n",
    "Учтите, что эксперименты, которые различаются, например, только размером скрытого состояния или количеством линейных слоев считаются, как один эксперимент.\n",
    "\n",
    "Успехов!"
   ]
  },
  {
   "cell_type": "markdown",
   "metadata": {
    "id": "KP1cO-3bmDv9"
   },
   "source": [
    "### Функция evaluate (1 балл)\n",
    "\n",
    "Заполните функцию ```evaluate```"
   ]
  },
  {
   "cell_type": "code",
   "execution_count": 20,
   "metadata": {
    "execution": {
     "iopub.execute_input": "2025-03-08T09:26:01.343743Z",
     "iopub.status.busy": "2025-03-08T09:26:01.343743Z",
     "iopub.status.idle": "2025-03-08T09:26:01.349343Z",
     "shell.execute_reply": "2025-03-08T09:26:01.349343Z",
     "shell.execute_reply.started": "2025-03-08T09:26:01.343743Z"
    },
    "id": "XUlMUVJ3mL4r"
   },
   "outputs": [],
   "source": [
    "def evaluate(model, criterion, eval_data) -> float:\n",
    "    model.eval()\n",
    "    perplexity = []\n",
    "    with torch.no_grad():\n",
    "        for batch in eval_data:\n",
    "            logits = model(batch['input_ids']).flatten(start_dim=0, end_dim=1)\n",
    "            loss = criterion(logits, batch['target_ids'].flatten())\n",
    "            perplexity.append(torch.exp(loss).item())\n",
    "\n",
    "    perplexity = sum(perplexity) / len(perplexity)\n",
    "\n",
    "    return perplexity"
   ]
  },
  {
   "cell_type": "markdown",
   "metadata": {
    "id": "bLV63Vsk7loy"
   },
   "source": [
    "### Train loop (1 балл)\n",
    "\n",
    "Напишите функцию для обучения модели."
   ]
  },
  {
   "cell_type": "code",
   "execution_count": 21,
   "metadata": {
    "execution": {
     "iopub.execute_input": "2025-03-08T09:26:01.349343Z",
     "iopub.status.busy": "2025-03-08T09:26:01.349343Z",
     "iopub.status.idle": "2025-03-08T09:26:01.354773Z",
     "shell.execute_reply": "2025-03-08T09:26:01.354773Z",
     "shell.execute_reply.started": "2025-03-08T09:26:01.349343Z"
    },
    "id": "bSZmUC3YmocP"
   },
   "outputs": [],
   "source": [
    "def train_model(model, opt, crit, data_loader, eval_data, num_epoch: int = 5):\n",
    "\n",
    "    # assert isinstance(model, nn.Module)\n",
    "    losses = []\n",
    "    perplexities = []\n",
    "\n",
    "    for epoch in range(num_epoch):\n",
    "        epoch_losses = []\n",
    "        model.train()\n",
    "        for batch in tqdm(data_loader, desc=f'Training epoch {epoch}:'):\n",
    "            opt.zero_grad()\n",
    "            logits = model(batch['input_ids']).flatten(start_dim=0, end_dim=1)\n",
    "            loss = crit(logits, batch['target_ids'].flatten())\n",
    "            loss.backward()\n",
    "            opt.step()\n",
    "\n",
    "            epoch_losses.append(loss.item())\n",
    "\n",
    "        losses.append(sum(epoch_losses) / len(epoch_losses))\n",
    "        perplexities.append(evaluate(model, crit, eval_data))\n",
    "\n",
    "    return {'model': model, 'losses': losses, 'perplexities': perplexities, 'epochs': num_epoch}"
   ]
  },
  {
   "cell_type": "markdown",
   "metadata": {},
   "source": [
    "### Plot results\n",
    "\n",
    "Визуализация результатов обучения"
   ]
  },
  {
   "cell_type": "code",
   "execution_count": 22,
   "metadata": {
    "execution": {
     "iopub.execute_input": "2025-03-08T09:26:01.354773Z",
     "iopub.status.busy": "2025-03-08T09:26:01.354773Z",
     "iopub.status.idle": "2025-03-08T09:26:01.359524Z",
     "shell.execute_reply": "2025-03-08T09:26:01.359524Z",
     "shell.execute_reply.started": "2025-03-08T09:26:01.354773Z"
    }
   },
   "outputs": [],
   "source": [
    "def plot_results(results: dict, figsize: tuple = (8, 4), dpi: int = 150):\n",
    "    state = {'losses': 'Loss', 'perplexities': 'Perplexity'}\n",
    "    fig, axs = plt.subplots(1, 2, figsize = figsize,  dpi = dpi, constrained_layout = True)\n",
    "\n",
    "    for i, j in enumerate(state.keys()):\n",
    "        sns.lineplot(x = range(results.get('epochs')), y = results.get(j), ax = axs[i])\n",
    "        axs[i].set_xlabel('Epoch')\n",
    "        axs[i].set_ylabel(' '.join([state.get(j), 'value']))\n",
    "        axs[i].set_title(state.get(j))\n",
    "    plt.suptitle('Results')\n",
    "    plt.show()"
   ]
  },
  {
   "cell_type": "markdown",
   "metadata": {},
   "source": [
    "### Generate sequence\n",
    "\n",
    "Проверка работы модели путём генерации случайного текста."
   ]
  },
  {
   "cell_type": "code",
   "execution_count": 23,
   "metadata": {
    "execution": {
     "iopub.execute_input": "2025-03-08T09:26:01.360857Z",
     "iopub.status.busy": "2025-03-08T09:26:01.360857Z",
     "iopub.status.idle": "2025-03-08T09:26:01.365097Z",
     "shell.execute_reply": "2025-03-08T09:26:01.365097Z",
     "shell.execute_reply.started": "2025-03-08T09:26:01.360857Z"
    }
   },
   "outputs": [],
   "source": [
    "def generate_sequence(model, starting_seq: str, max_seq_len: int = 64) -> str:\n",
    "    device = 'cpu'\n",
    "    model = model.to(device)\n",
    "    input_ids = [word2ind['<bos>']] + [\n",
    "        word2ind.get(wrd, word2ind['<unk>']) for wrd in word_tokenize(starting_seq)]\n",
    "    input_ids = torch.LongTensor(input_ids).to(device)\n",
    "    \n",
    "    model.eval()\n",
    "    with torch.no_grad():\n",
    "        for i in range(max_seq_len):\n",
    "            next_w_distribution = model(input_ids)[-1] #[-1] - выбор последнего тензора из батча, который создаётся ОДНИМ предложением\n",
    "            next_word = next_w_distribution.squeeze().argmax()\n",
    "            input_ids = torch.cat([input_ids, next_word.unsqueeze(0)])\n",
    "\n",
    "            if next_word.item() == word2ind['<eos>']:\n",
    "                break\n",
    "\n",
    "    words = ' '.join([ind2word[idx.item()] for idx in input_ids])\n",
    "    return words"
   ]
  },
  {
   "cell_type": "markdown",
   "metadata": {
    "id": "hXmeyhBQmuq4"
   },
   "source": [
    "### Нулевой эксперимент\n",
    "\n",
    "Нулевой эксперимент предполагает создание `baseline` модели. Архитектурное решение для данной модели предполагает минимальную сложность, аналогично разобранному ранее решению из семинара. *Отличие* данной модели: несколько размеров скрытых слоёв."
   ]
  },
  {
   "cell_type": "code",
   "execution_count": 24,
   "metadata": {
    "execution": {
     "iopub.execute_input": "2025-03-08T09:26:01.365097Z",
     "iopub.status.busy": "2025-03-08T09:26:01.365097Z",
     "iopub.status.idle": "2025-03-08T09:26:01.369674Z",
     "shell.execute_reply": "2025-03-08T09:26:01.369674Z",
     "shell.execute_reply.started": "2025-03-08T09:26:01.365097Z"
    }
   },
   "outputs": [],
   "source": [
    "class WordLM_0(nn.Module):\n",
    "    def __init__(self,  vocab_size: int, hidden_dim: tuple, padding_ind: Optional[int] = None):\n",
    "        super().__init__()\n",
    "        self.embedding = nn.Embedding(vocab_size, hidden_dim[0], padding_ind)\n",
    "        self.rnn = nn.GRU(hidden_dim[0], hidden_dim[1], batch_first=True)\n",
    "        self.linear = nn.Linear(hidden_dim[1], hidden_dim[1])\n",
    "        self.projection = nn.Linear(hidden_dim[1], vocab_size)\n",
    "\n",
    "        self.non_lin = nn.Tanh()\n",
    "        self.dropout = nn.Dropout(p=0.1)\n",
    "\n",
    "    def forward(self, input_batch) -> torch.Tensor:\n",
    "        embeddings = self.embedding(input_batch)  # [batch_size, seq_len, hidden_dim]\n",
    "        output, _ = self.rnn(embeddings)  # [batch_size, seq_len, hidden_dim]\n",
    "        output = self.dropout(self.linear(self.non_lin(output)))  # [batch_size, seq_len, hidden_dim]\n",
    "        projection = self.projection(self.non_lin(output))  # [batch_size, seq_len, vocab_size]\n",
    "\n",
    "        return projection"
   ]
  },
  {
   "cell_type": "code",
   "execution_count": 120,
   "metadata": {
    "execution": {
     "iopub.execute_input": "2025-03-08T10:12:36.277471Z",
     "iopub.status.busy": "2025-03-08T10:12:36.276470Z",
     "iopub.status.idle": "2025-03-08T10:12:36.406838Z",
     "shell.execute_reply": "2025-03-08T10:12:36.406838Z",
     "shell.execute_reply.started": "2025-03-08T10:12:36.277471Z"
    }
   },
   "outputs": [],
   "source": [
    "model_0 = WordLM_0(hidden_dim=(300, 128), vocab_size=len(vocab), padding_ind=word2ind['<pad>']).to(device)\n",
    "criterion_0 = nn.CrossEntropyLoss(ignore_index=word2ind['<pad>'])\n",
    "optimizer_0 = torch.optim.Adam(model_0.parameters())"
   ]
  },
  {
   "cell_type": "code",
   "execution_count": 121,
   "metadata": {
    "execution": {
     "iopub.execute_input": "2025-03-08T10:12:37.740204Z",
     "iopub.status.busy": "2025-03-08T10:12:37.739204Z",
     "iopub.status.idle": "2025-03-08T10:29:25.949608Z",
     "shell.execute_reply": "2025-03-08T10:29:25.949608Z",
     "shell.execute_reply.started": "2025-03-08T10:12:37.740204Z"
    }
   },
   "outputs": [
    {
     "data": {
      "application/vnd.jupyter.widget-view+json": {
       "model_id": "b649f6b3e7ce4334ad6217b4856c9886",
       "version_major": 2,
       "version_minor": 0
      },
      "text/plain": [
       "Training epoch 0::   0%|          | 0/3519 [00:00<?, ?it/s]"
      ]
     },
     "metadata": {},
     "output_type": "display_data"
    },
    {
     "data": {
      "application/vnd.jupyter.widget-view+json": {
       "model_id": "c9539916f93f4cc7a0c13e86b323c10b",
       "version_major": 2,
       "version_minor": 0
      },
      "text/plain": [
       "Training epoch 1::   0%|          | 0/3519 [00:00<?, ?it/s]"
      ]
     },
     "metadata": {},
     "output_type": "display_data"
    },
    {
     "data": {
      "application/vnd.jupyter.widget-view+json": {
       "model_id": "9ff651b0bfdd412a99bfaa3ab125361c",
       "version_major": 2,
       "version_minor": 0
      },
      "text/plain": [
       "Training epoch 2::   0%|          | 0/3519 [00:00<?, ?it/s]"
      ]
     },
     "metadata": {},
     "output_type": "display_data"
    },
    {
     "data": {
      "application/vnd.jupyter.widget-view+json": {
       "model_id": "257d8c0e917340f9b2d91cd13cfaab5b",
       "version_major": 2,
       "version_minor": 0
      },
      "text/plain": [
       "Training epoch 3::   0%|          | 0/3519 [00:00<?, ?it/s]"
      ]
     },
     "metadata": {},
     "output_type": "display_data"
    },
    {
     "data": {
      "application/vnd.jupyter.widget-view+json": {
       "model_id": "52cfd5ed0ad240b2af5f8eabac95b102",
       "version_major": 2,
       "version_minor": 0
      },
      "text/plain": [
       "Training epoch 4::   0%|          | 0/3519 [00:00<?, ?it/s]"
      ]
     },
     "metadata": {},
     "output_type": "display_data"
    }
   ],
   "source": [
    "m0_results = train_model(model_0, optimizer_0, criterion_0, train_dataloader, eval_dataloader)"
   ]
  },
  {
   "cell_type": "code",
   "execution_count": 122,
   "metadata": {
    "execution": {
     "iopub.execute_input": "2025-03-08T10:29:25.949608Z",
     "iopub.status.busy": "2025-03-08T10:29:25.949608Z",
     "iopub.status.idle": "2025-03-08T10:29:26.622038Z",
     "shell.execute_reply": "2025-03-08T10:29:26.622038Z",
     "shell.execute_reply.started": "2025-03-08T10:29:25.949608Z"
    }
   },
   "outputs": [
    {
     "data": {
      "image/png": "[encoded data removed]",
      "text/plain": [
       "<Figure size 1200x600 with 2 Axes>"
      ]
     },
     "metadata": {},
     "output_type": "display_data"
    }
   ],
   "source": [
    "plot_results(m0_results)"
   ]
  },
  {
   "cell_type": "code",
   "execution_count": 123,
   "metadata": {
    "execution": {
     "iopub.execute_input": "2025-03-08T10:29:26.623829Z",
     "iopub.status.busy": "2025-03-08T10:29:26.622038Z",
     "iopub.status.idle": "2025-03-08T10:30:05.584889Z",
     "shell.execute_reply": "2025-03-08T10:30:05.584889Z",
     "shell.execute_reply.started": "2025-03-08T10:29:26.623829Z"
    },
    "id": "TxbEzn5fnBOY"
   },
   "outputs": [
    {
     "name": "stdout",
     "output_type": "stream",
     "text": [
      "Итоговое значение Perplexity: 79.68\n"
     ]
    }
   ],
   "source": [
    "print(f'Итоговое значение Perplexity:', round(evaluate(m0_results.get('model'), criterion_0, eval_dataloader), 2))"
   ]
  },
  {
   "cell_type": "code",
   "execution_count": 124,
   "metadata": {
    "execution": {
     "iopub.execute_input": "2025-03-08T10:30:05.586723Z",
     "iopub.status.busy": "2025-03-08T10:30:05.586308Z",
     "iopub.status.idle": "2025-03-08T10:30:05.720271Z",
     "shell.execute_reply": "2025-03-08T10:30:05.719125Z",
     "shell.execute_reply.started": "2025-03-08T10:30:05.586723Z"
    }
   },
   "outputs": [
    {
     "data": {
      "text/plain": [
       "'<bos> the ultimate question of life , the universe , and everything is the only thing that is going to be a bit of a <unk> . <eos>'"
      ]
     },
     "execution_count": 124,
     "metadata": {},
     "output_type": "execute_result"
    }
   ],
   "source": [
    "generate_sequence(m0_results.get('model'), starting_seq='the ultimate question of life, the universe, and everything', max_seq_len=128)"
   ]
  },
  {
   "cell_type": "markdown",
   "metadata": {
    "id": "hXmeyhBQmuq4"
   },
   "source": [
    "### Первый эксперимент (2 балла)\n",
    "\n",
    "Для модели подбираются гиперпараметры, определяющие строение и регуляризацию на её слоях, в архитектуру вносится изменение - добавляется скрытый слой перед слоем `projection`:\n",
    "- Фиксируется размер вектора `embedding` для каждого слова;\n",
    "- Измененяется количество нейронов в скрытых слоях (для скрытых слоёв предусмотрено несколько размеров);\n",
    "- Используется параметр `dropout` для GRU слоя;\n",
    "- Добавляется скрытый слой перед слоем `projection`."
   ]
  },
  {
   "cell_type": "code",
   "execution_count": 128,
   "metadata": {
    "execution": {
     "iopub.execute_input": "2025-03-08T10:33:11.904601Z",
     "iopub.status.busy": "2025-03-08T10:33:11.903604Z",
     "iopub.status.idle": "2025-03-08T10:33:11.913572Z",
     "shell.execute_reply": "2025-03-08T10:33:11.913572Z",
     "shell.execute_reply.started": "2025-03-08T10:33:11.904601Z"
    },
    "id": "qaWvqNJom0ij"
   },
   "outputs": [],
   "source": [
    "class WordLM_1(nn.Module):\n",
    "    def __init__(self,  vocab_size: int, hidden_dim: tuple, embedding_size: int = 300, padding_ind: Optional[int] = None):\n",
    "        super().__init__()\n",
    "        self.embedding = nn.Embedding(vocab_size, embedding_size, padding_ind)\n",
    "        self.rnn = nn.GRU(embedding_size, hidden_dim[0], batch_first=True, num_layers = 2, dropout = 0.2)\n",
    "\n",
    "        # Линейные слои для различных преобразований\n",
    "        # Каждый линейный слой преобразует данные из размерности x в размерность y\n",
    "        # Размерностям x и y соответствуют индексы 0 и 1 кортежа hidden_dim\n",
    "        self.linear_12 = nn.Linear(hidden_dim[0], hidden_dim[1])\n",
    "        self.linear_21 = nn.Linear(hidden_dim[1], hidden_dim[0])\n",
    "        \n",
    "        self.projection = nn.Linear(hidden_dim[0], vocab_size)\n",
    "        self.non_lin = nn.Tanh()\n",
    "        self.dropout = nn.Dropout(p=0.1)\n",
    "\n",
    "        # self.linear_11 = nn.Linear(hidden_dim[0], hidden_dim[0])\n",
    "        # self.linear_22 = nn.Linear(hidden_dim[1], hidden_dim[1])\n",
    "\n",
    "    def forward(self, input_batch) -> torch.Tensor:\n",
    "        embeddings = self.embedding(input_batch)  # [batch_size, seq_len, hidden_dim]\n",
    "        output, _ = self.rnn(embeddings)  # [batch_size, seq_len, hidden_dim[0]]\n",
    "        \n",
    "        output = self.linear_12(self.non_lin(output)) # [batch_size, seq_len, hidden_dim[1]] Понижается размерность вектора \n",
    "        output = self.dropout(output)  # [batch_size, seq_len, hidden_dim[1]]\n",
    "        output = self.linear_21(self.non_lin(output)) # [batch_size, seq_len, hidden_dim[1]] Повышается размерность вектора\n",
    "        projection = self.projection(self.non_lin(output))  # [batch_size, seq_len, vocab_size]\n",
    "\n",
    "        return projection"
   ]
  },
  {
   "cell_type": "code",
   "execution_count": 129,
   "metadata": {
    "execution": {
     "iopub.execute_input": "2025-03-08T10:33:12.531949Z",
     "iopub.status.busy": "2025-03-08T10:33:12.530923Z",
     "iopub.status.idle": "2025-03-08T10:33:12.704070Z",
     "shell.execute_reply": "2025-03-08T10:33:12.704070Z",
     "shell.execute_reply.started": "2025-03-08T10:33:12.531949Z"
    }
   },
   "outputs": [],
   "source": [
    "model_1 = WordLM_1(hidden_dim=(256, 128), vocab_size=len(vocab), padding_ind=word2ind['<pad>']).to(device)\n",
    "criterion_1 = nn.CrossEntropyLoss(ignore_index=word2ind['<pad>'])\n",
    "optimizer_1 = torch.optim.Adam(model_1.parameters())"
   ]
  },
  {
   "cell_type": "code",
   "execution_count": 130,
   "metadata": {
    "execution": {
     "iopub.execute_input": "2025-03-08T10:33:15.412718Z",
     "iopub.status.busy": "2025-03-08T10:33:15.411718Z",
     "iopub.status.idle": "2025-03-08T10:56:34.872930Z",
     "shell.execute_reply": "2025-03-08T10:56:34.872930Z",
     "shell.execute_reply.started": "2025-03-08T10:33:15.412718Z"
    }
   },
   "outputs": [
    {
     "data": {
      "application/vnd.jupyter.widget-view+json": {
       "model_id": "60008455832b466ab42e0593ce43fee5",
       "version_major": 2,
       "version_minor": 0
      },
      "text/plain": [
       "Training epoch 0::   0%|          | 0/3519 [00:00<?, ?it/s]"
      ]
     },
     "metadata": {},
     "output_type": "display_data"
    },
    {
     "data": {
      "application/vnd.jupyter.widget-view+json": {
       "model_id": "b0c98bff9b6e4c34856be03ab4ff5d03",
       "version_major": 2,
       "version_minor": 0
      },
      "text/plain": [
       "Training epoch 1::   0%|          | 0/3519 [00:00<?, ?it/s]"
      ]
     },
     "metadata": {},
     "output_type": "display_data"
    },
    {
     "data": {
      "application/vnd.jupyter.widget-view+json": {
       "model_id": "fdc94d8108e3457ba10ca6d9a427fabf",
       "version_major": 2,
       "version_minor": 0
      },
      "text/plain": [
       "Training epoch 2::   0%|          | 0/3519 [00:00<?, ?it/s]"
      ]
     },
     "metadata": {},
     "output_type": "display_data"
    },
    {
     "data": {
      "application/vnd.jupyter.widget-view+json": {
       "model_id": "e3722ed0164946c2821eea5d39eb9cc8",
       "version_major": 2,
       "version_minor": 0
      },
      "text/plain": [
       "Training epoch 3::   0%|          | 0/3519 [00:00<?, ?it/s]"
      ]
     },
     "metadata": {},
     "output_type": "display_data"
    },
    {
     "data": {
      "application/vnd.jupyter.widget-view+json": {
       "model_id": "0ee66f75f8e2421abc39b84409506ce8",
       "version_major": 2,
       "version_minor": 0
      },
      "text/plain": [
       "Training epoch 4::   0%|          | 0/3519 [00:00<?, ?it/s]"
      ]
     },
     "metadata": {},
     "output_type": "display_data"
    }
   ],
   "source": [
    "m1_results = train_model(model_1, optimizer_1, criterion_1, train_dataloader, eval_dataloader)"
   ]
  },
  {
   "cell_type": "code",
   "execution_count": 131,
   "metadata": {
    "execution": {
     "iopub.execute_input": "2025-03-08T10:56:34.874948Z",
     "iopub.status.busy": "2025-03-08T10:56:34.874948Z",
     "iopub.status.idle": "2025-03-08T10:56:35.143636Z",
     "shell.execute_reply": "2025-03-08T10:56:35.143636Z",
     "shell.execute_reply.started": "2025-03-08T10:56:34.874948Z"
    }
   },
   "outputs": [
    {
     "data": {
      "image/png": "[encoded data removed]",
      "text/plain": [
       "<Figure size 1200x600 with 2 Axes>"
      ]
     },
     "metadata": {},
     "output_type": "display_data"
    }
   ],
   "source": [
    "plot_results(m1_results)"
   ]
  },
  {
   "cell_type": "code",
   "execution_count": 132,
   "metadata": {
    "execution": {
     "iopub.execute_input": "2025-03-08T10:56:35.146097Z",
     "iopub.status.busy": "2025-03-08T10:56:35.146097Z",
     "iopub.status.idle": "2025-03-08T10:57:31.031264Z",
     "shell.execute_reply": "2025-03-08T10:57:31.031264Z",
     "shell.execute_reply.started": "2025-03-08T10:56:35.146097Z"
    },
    "id": "TxbEzn5fnBOY"
   },
   "outputs": [
    {
     "name": "stdout",
     "output_type": "stream",
     "text": [
      "Итоговое значение Perplexity 69.51\n"
     ]
    }
   ],
   "source": [
    "print(f'Итоговое значение Perplexity', round(evaluate(m1_results.get('model'), criterion_1, eval_dataloader), 2))"
   ]
  },
  {
   "cell_type": "code",
   "execution_count": 133,
   "metadata": {
    "execution": {
     "iopub.execute_input": "2025-03-08T10:57:31.034030Z",
     "iopub.status.busy": "2025-03-08T10:57:31.034030Z",
     "iopub.status.idle": "2025-03-08T10:57:31.200551Z",
     "shell.execute_reply": "2025-03-08T10:57:31.199620Z",
     "shell.execute_reply.started": "2025-03-08T10:57:31.034030Z"
    }
   },
   "outputs": [
    {
     "data": {
      "text/plain": [
       "\"<bos> the ultimate question of life , the universe , and everything is so bad that it 's not a good thing . <eos>\""
      ]
     },
     "execution_count": 133,
     "metadata": {},
     "output_type": "execute_result"
    }
   ],
   "source": [
    "generate_sequence(m1_results.get('model'), starting_seq='the ultimate question of life, the universe, and everything', max_seq_len=128)"
   ]
  },
  {
   "cell_type": "markdown",
   "metadata": {
    "id": "X1EW4faIm0tl"
   },
   "source": [
    "### Второй эксперимент \n",
    "\n",
    "Во втором эксперименте предполагается использовать видоизменённую архитектуру языковой модели. Вектор каждого элемента последовательности конкатенируется с вектором скрытого состояния, полученного после обработки всей последовательности."
   ]
  },
  {
   "cell_type": "code",
   "execution_count": 134,
   "metadata": {
    "execution": {
     "iopub.execute_input": "2025-03-08T10:57:31.200551Z",
     "iopub.status.busy": "2025-03-08T10:57:31.200551Z",
     "iopub.status.idle": "2025-03-08T10:57:31.210241Z",
     "shell.execute_reply": "2025-03-08T10:57:31.210241Z",
     "shell.execute_reply.started": "2025-03-08T10:57:31.200551Z"
    }
   },
   "outputs": [],
   "source": [
    "class WordLM_2(nn.Module):\n",
    "    def __init__(self,  vocab_size: int, hidden_dim: tuple, embedding_size: int = 300, padding_ind: Optional[int] = None):\n",
    "        super().__init__()\n",
    "        self.embedding = nn.Embedding(vocab_size, embedding_size, padding_ind)\n",
    "        self.rnn = nn.LSTM(embedding_size, hidden_dim[0], batch_first=True)\n",
    "        self.linear_12 = nn.Linear(hidden_dim[0], hidden_dim[1])\n",
    "    \n",
    "        self.projection_1 = nn.Linear(2*hidden_dim[0], hidden_dim[0]) \n",
    "        self.projection_2 = nn.Linear(hidden_dim[1], vocab_size)\n",
    "        self.non_lin = nn.Tanh()\n",
    "        self.dropout = nn.Dropout(p=0.1)\n",
    "\n",
    "    def forward(self, input_batch) -> torch.Tensor:\n",
    "        embeddings = self.embedding(input_batch)  # [batch_size, seq_len, hidden_dim]\n",
    "        output, (h_n, c_n) = self.rnn(embeddings)  # [batch_size, seq_len, hidden_dim[0]]\n",
    "        \n",
    "        output = torch.cat((output, h_n[0].reshape((output.shape[0], 1, output.shape[2])).expand_as(output)), dim = -1) # [batch_size, seq_len, 2*hidden_dim[0]] - конкатенация векторов слов с итоговым вектором скрытого состояния последовательности\n",
    "        output = self.projection_1(self.non_lin(output))\n",
    "        output = self.linear_12(self.non_lin(output))\n",
    "        output = self.projection_2(self.non_lin(output))\n",
    "        return output"
   ]
  },
  {
   "cell_type": "code",
   "execution_count": 135,
   "metadata": {
    "execution": {
     "iopub.execute_input": "2025-03-08T10:57:31.210241Z",
     "iopub.status.busy": "2025-03-08T10:57:31.210241Z",
     "iopub.status.idle": "2025-03-08T10:57:31.319680Z",
     "shell.execute_reply": "2025-03-08T10:57:31.319680Z",
     "shell.execute_reply.started": "2025-03-08T10:57:31.210241Z"
    }
   },
   "outputs": [],
   "source": [
    "model_2 = WordLM_2(hidden_dim=(256, 128), vocab_size=len(vocab), padding_ind=word2ind['<pad>']).to(device)\n",
    "criterion_2 = nn.CrossEntropyLoss(ignore_index=word2ind['<pad>'])\n",
    "optimizer_2 = torch.optim.Adam(model_2.parameters())"
   ]
  },
  {
   "cell_type": "code",
   "execution_count": 136,
   "metadata": {
    "execution": {
     "iopub.execute_input": "2025-03-08T10:57:31.320859Z",
     "iopub.status.busy": "2025-03-08T10:57:31.320859Z",
     "iopub.status.idle": "2025-03-08T11:16:36.393232Z",
     "shell.execute_reply": "2025-03-08T11:16:36.393232Z",
     "shell.execute_reply.started": "2025-03-08T10:57:31.320859Z"
    }
   },
   "outputs": [
    {
     "data": {
      "application/vnd.jupyter.widget-view+json": {
       "model_id": "01e23c4248d24178a67f1b41e230ec48",
       "version_major": 2,
       "version_minor": 0
      },
      "text/plain": [
       "Training epoch 0::   0%|          | 0/3519 [00:00<?, ?it/s]"
      ]
     },
     "metadata": {},
     "output_type": "display_data"
    },
    {
     "data": {
      "application/vnd.jupyter.widget-view+json": {
       "model_id": "20ccc29d66c14a0884153f222e4affe9",
       "version_major": 2,
       "version_minor": 0
      },
      "text/plain": [
       "Training epoch 1::   0%|          | 0/3519 [00:00<?, ?it/s]"
      ]
     },
     "metadata": {},
     "output_type": "display_data"
    },
    {
     "data": {
      "application/vnd.jupyter.widget-view+json": {
       "model_id": "4a4dabe15fa343a5a4be055d63c3b221",
       "version_major": 2,
       "version_minor": 0
      },
      "text/plain": [
       "Training epoch 2::   0%|          | 0/3519 [00:00<?, ?it/s]"
      ]
     },
     "metadata": {},
     "output_type": "display_data"
    },
    {
     "data": {
      "application/vnd.jupyter.widget-view+json": {
       "model_id": "afdbd7068be248a7abfbc98a513b8482",
       "version_major": 2,
       "version_minor": 0
      },
      "text/plain": [
       "Training epoch 3::   0%|          | 0/3519 [00:00<?, ?it/s]"
      ]
     },
     "metadata": {},
     "output_type": "display_data"
    },
    {
     "data": {
      "application/vnd.jupyter.widget-view+json": {
       "model_id": "204b76d2238e43ba95104a6ffad806ae",
       "version_major": 2,
       "version_minor": 0
      },
      "text/plain": [
       "Training epoch 4::   0%|          | 0/3519 [00:00<?, ?it/s]"
      ]
     },
     "metadata": {},
     "output_type": "display_data"
    }
   ],
   "source": [
    "m2_results = train_model(model_2, optimizer_2, criterion_2, train_dataloader, eval_dataloader)"
   ]
  },
  {
   "cell_type": "code",
   "execution_count": 137,
   "metadata": {
    "execution": {
     "iopub.execute_input": "2025-03-08T11:16:36.393232Z",
     "iopub.status.busy": "2025-03-08T11:16:36.393232Z",
     "iopub.status.idle": "2025-03-08T11:16:36.694027Z",
     "shell.execute_reply": "2025-03-08T11:16:36.692274Z",
     "shell.execute_reply.started": "2025-03-08T11:16:36.393232Z"
    }
   },
   "outputs": [
    {
     "data": {
      "image/png": "[encoded data removed]",
      "text/plain": [
       "<Figure size 1200x600 with 2 Axes>"
      ]
     },
     "metadata": {},
     "output_type": "display_data"
    }
   ],
   "source": [
    "plot_results(m2_results)"
   ]
  },
  {
   "cell_type": "code",
   "execution_count": 138,
   "metadata": {
    "execution": {
     "iopub.execute_input": "2025-03-08T11:16:36.694027Z",
     "iopub.status.busy": "2025-03-08T11:16:36.694027Z",
     "iopub.status.idle": "2025-03-08T11:17:23.408566Z",
     "shell.execute_reply": "2025-03-08T11:17:23.408566Z",
     "shell.execute_reply.started": "2025-03-08T11:16:36.694027Z"
    },
    "id": "TxbEzn5fnBOY"
   },
   "outputs": [
    {
     "name": "stdout",
     "output_type": "stream",
     "text": [
      "Итоговое значение Perplexity 2.04\n"
     ]
    }
   ],
   "source": [
    "print(f'Итоговое значение Perplexity', round(evaluate(m2_results.get('model'), criterion_2, eval_dataloader), 2))"
   ]
  },
  {
   "cell_type": "code",
   "execution_count": 161,
   "metadata": {
    "execution": {
     "iopub.execute_input": "2025-03-08T11:29:10.255781Z",
     "iopub.status.busy": "2025-03-08T11:29:10.255073Z",
     "iopub.status.idle": "2025-03-08T11:29:10.422051Z",
     "shell.execute_reply": "2025-03-08T11:29:10.422051Z",
     "shell.execute_reply.started": "2025-03-08T11:29:10.255781Z"
    }
   },
   "outputs": [
    {
     "ename": "IndexError",
     "evalue": "tuple index out of range",
     "output_type": "error",
     "traceback": [
      "\u001b[31m---------------------------------------------------------------------------\u001b[39m",
      "\u001b[31mIndexError\u001b[39m                                Traceback (most recent call last)",
      "\u001b[36mCell\u001b[39m\u001b[36m \u001b[39m\u001b[32mIn[161]\u001b[39m\u001b[32m, line 1\u001b[39m\n\u001b[32m----> \u001b[39m\u001b[32m1\u001b[39m \u001b[43mgenerate_sequence\u001b[49m\u001b[43m(\u001b[49m\u001b[43mm2_results\u001b[49m\u001b[43m.\u001b[49m\u001b[43mget\u001b[49m\u001b[43m(\u001b[49m\u001b[33;43m'\u001b[39;49m\u001b[33;43mmodel\u001b[39;49m\u001b[33;43m'\u001b[39;49m\u001b[43m)\u001b[49m\u001b[43m,\u001b[49m\u001b[43m \u001b[49m\u001b[43mstarting_seq\u001b[49m\u001b[43m=\u001b[49m\u001b[33;43m'\u001b[39;49m\u001b[33;43mthe ultimate question of life, the universe, and everything\u001b[39;49m\u001b[33;43m'\u001b[39;49m\u001b[43m,\u001b[49m\u001b[43m \u001b[49m\u001b[43mmax_seq_len\u001b[49m\u001b[43m=\u001b[49m\u001b[32;43m128\u001b[39;49m\u001b[43m)\u001b[49m\n",
      "\u001b[36mCell\u001b[39m\u001b[36m \u001b[39m\u001b[32mIn[23]\u001b[39m\u001b[32m, line 11\u001b[39m, in \u001b[36mgenerate_sequence\u001b[39m\u001b[34m(model, starting_seq, max_seq_len)\u001b[39m\n\u001b[32m      9\u001b[39m \u001b[38;5;28;01mwith\u001b[39;00m torch.no_grad():\n\u001b[32m     10\u001b[39m     \u001b[38;5;28;01mfor\u001b[39;00m i \u001b[38;5;129;01min\u001b[39;00m \u001b[38;5;28mrange\u001b[39m(max_seq_len):\n\u001b[32m---> \u001b[39m\u001b[32m11\u001b[39m         next_w_distribution = \u001b[43mmodel\u001b[49m\u001b[43m(\u001b[49m\u001b[43minput_ids\u001b[49m\u001b[43m)\u001b[49m[-\u001b[32m1\u001b[39m] \u001b[38;5;66;03m#[-1] - выбор последнего тензора из батча, который создаётся ОДНИМ предложением\u001b[39;00m\n\u001b[32m     12\u001b[39m         next_word = next_w_distribution.squeeze().argmax()\n\u001b[32m     13\u001b[39m         input_ids = torch.cat([input_ids, next_word.unsqueeze(\u001b[32m0\u001b[39m)])\n",
      "\u001b[36mFile \u001b[39m\u001b[32mD:\\Notebooks\\.venv_Torch\\Lib\\site-packages\\torch\\nn\\modules\\module.py:1739\u001b[39m, in \u001b[36mModule._wrapped_call_impl\u001b[39m\u001b[34m(self, *args, **kwargs)\u001b[39m\n\u001b[32m   1737\u001b[39m     \u001b[38;5;28;01mreturn\u001b[39;00m \u001b[38;5;28mself\u001b[39m._compiled_call_impl(*args, **kwargs)  \u001b[38;5;66;03m# type: ignore[misc]\u001b[39;00m\n\u001b[32m   1738\u001b[39m \u001b[38;5;28;01melse\u001b[39;00m:\n\u001b[32m-> \u001b[39m\u001b[32m1739\u001b[39m     \u001b[38;5;28;01mreturn\u001b[39;00m \u001b[38;5;28;43mself\u001b[39;49m\u001b[43m.\u001b[49m\u001b[43m_call_impl\u001b[49m\u001b[43m(\u001b[49m\u001b[43m*\u001b[49m\u001b[43margs\u001b[49m\u001b[43m,\u001b[49m\u001b[43m \u001b[49m\u001b[43m*\u001b[49m\u001b[43m*\u001b[49m\u001b[43mkwargs\u001b[49m\u001b[43m)\u001b[49m\n",
      "\u001b[36mFile \u001b[39m\u001b[32mD:\\Notebooks\\.venv_Torch\\Lib\\site-packages\\torch\\nn\\modules\\module.py:1750\u001b[39m, in \u001b[36mModule._call_impl\u001b[39m\u001b[34m(self, *args, **kwargs)\u001b[39m\n\u001b[32m   1745\u001b[39m \u001b[38;5;66;03m# If we don't have any hooks, we want to skip the rest of the logic in\u001b[39;00m\n\u001b[32m   1746\u001b[39m \u001b[38;5;66;03m# this function, and just call forward.\u001b[39;00m\n\u001b[32m   1747\u001b[39m \u001b[38;5;28;01mif\u001b[39;00m \u001b[38;5;129;01mnot\u001b[39;00m (\u001b[38;5;28mself\u001b[39m._backward_hooks \u001b[38;5;129;01mor\u001b[39;00m \u001b[38;5;28mself\u001b[39m._backward_pre_hooks \u001b[38;5;129;01mor\u001b[39;00m \u001b[38;5;28mself\u001b[39m._forward_hooks \u001b[38;5;129;01mor\u001b[39;00m \u001b[38;5;28mself\u001b[39m._forward_pre_hooks\n\u001b[32m   1748\u001b[39m         \u001b[38;5;129;01mor\u001b[39;00m _global_backward_pre_hooks \u001b[38;5;129;01mor\u001b[39;00m _global_backward_hooks\n\u001b[32m   1749\u001b[39m         \u001b[38;5;129;01mor\u001b[39;00m _global_forward_hooks \u001b[38;5;129;01mor\u001b[39;00m _global_forward_pre_hooks):\n\u001b[32m-> \u001b[39m\u001b[32m1750\u001b[39m     \u001b[38;5;28;01mreturn\u001b[39;00m \u001b[43mforward_call\u001b[49m\u001b[43m(\u001b[49m\u001b[43m*\u001b[49m\u001b[43margs\u001b[49m\u001b[43m,\u001b[49m\u001b[43m \u001b[49m\u001b[43m*\u001b[49m\u001b[43m*\u001b[49m\u001b[43mkwargs\u001b[49m\u001b[43m)\u001b[49m\n\u001b[32m   1752\u001b[39m result = \u001b[38;5;28;01mNone\u001b[39;00m\n\u001b[32m   1753\u001b[39m called_always_called_hooks = \u001b[38;5;28mset\u001b[39m()\n",
      "\u001b[36mCell\u001b[39m\u001b[36m \u001b[39m\u001b[32mIn[134]\u001b[39m\u001b[32m, line 17\u001b[39m, in \u001b[36mWordLM_2.forward\u001b[39m\u001b[34m(self, input_batch)\u001b[39m\n\u001b[32m     14\u001b[39m embeddings = \u001b[38;5;28mself\u001b[39m.embedding(input_batch)  \u001b[38;5;66;03m# [batch_size, seq_len, hidden_dim]\u001b[39;00m\n\u001b[32m     15\u001b[39m output, (h_n, c_n) = \u001b[38;5;28mself\u001b[39m.rnn(embeddings)  \u001b[38;5;66;03m# [batch_size, seq_len, hidden_dim[0]]\u001b[39;00m\n\u001b[32m---> \u001b[39m\u001b[32m17\u001b[39m output = torch.cat((output, h_n[\u001b[32m0\u001b[39m].reshape((output.shape[\u001b[32m0\u001b[39m], \u001b[32m1\u001b[39m, \u001b[43moutput\u001b[49m\u001b[43m.\u001b[49m\u001b[43mshape\u001b[49m\u001b[43m[\u001b[49m\u001b[32;43m2\u001b[39;49m\u001b[43m]\u001b[49m)).expand_as(output)), dim = -\u001b[32m1\u001b[39m) \u001b[38;5;66;03m# [batch_size, seq_len, 2*hidden_dim[0]] - конкатенация векторов слов с итоговым вектором скрытого состояния последовательности\u001b[39;00m\n\u001b[32m     18\u001b[39m output = \u001b[38;5;28mself\u001b[39m.projection_1(\u001b[38;5;28mself\u001b[39m.non_lin(output))\n\u001b[32m     19\u001b[39m output = \u001b[38;5;28mself\u001b[39m.linear_12(\u001b[38;5;28mself\u001b[39m.non_lin(output))\n",
      "\u001b[31mIndexError\u001b[39m: tuple index out of range"
     ]
    }
   ],
   "source": [
    "generate_sequence(m2_results.get('model'), starting_seq='the ultimate question of life, the universe, and everything', max_seq_len=128)"
   ]
  },
  {
   "cell_type": "markdown",
   "metadata": {
    "id": "X1EW4faIm0tl"
   },
   "source": [
    "### Третий эксперимент (2 балла)\n",
    "\n",
    "Во третьем эксперименте предполагается использовать видоизменённую архитектуру языковой модели. Для прототипа нейросети в данном случае предполагается взять идею, напоминающую архитектуру `encoder-decoder`:\n",
    "- Используются два рекуррентных слоя, один из которых представляет собой `encoder`, другой - `decoder`;\n",
    "- Рекуррентные слои используют `LSTM` ячейки, количество слоёв типа `LSTM` `n_layers = 2`;\n",
    "- Используются несколько вариаций линейных слоёв, которые позволяют совершать операции сжатия/декомпрессии векторов, простого преобразования между пространствами одной размерности."
   ]
  },
  {
   "cell_type": "code",
   "execution_count": 162,
   "metadata": {
    "execution": {
     "iopub.execute_input": "2025-03-08T11:29:17.217423Z",
     "iopub.status.busy": "2025-03-08T11:29:17.217423Z",
     "iopub.status.idle": "2025-03-08T11:29:17.231873Z",
     "shell.execute_reply": "2025-03-08T11:29:17.231873Z",
     "shell.execute_reply.started": "2025-03-08T11:29:17.217423Z"
    },
    "id": "wkSE4jR1XzTg"
   },
   "outputs": [],
   "source": [
    "class WordLM_3(nn.Module):\n",
    "    def __init__(self,  vocab_size: int, hidden_dim: tuple, embedding_size: int = 300, num_rnn_layers: tuple = (1, 1), padding_ind: Optional[int] = None):\n",
    "        super().__init__()\n",
    "        self.embedding = nn.Embedding(vocab_size, embedding_size, padding_ind)\n",
    "        self.rnn_r = nn.LSTM(embedding_size, hidden_dim[0], batch_first=True, num_layers = num_rnn_layers[0])\n",
    "        self.rnn_e = nn.LSTM(hidden_dim[1], hidden_dim[0], batch_first=True, num_layers = num_rnn_layers[1])\n",
    "        # Линейные слои для различных преобразований\n",
    "        # Каждый линейный слой преобразует данные из размерности x в размерность y\n",
    "        # Размерностям x и y соответствуют индексы 0 и 1 кортежа hidden_dim\n",
    "        self.linear_11 = nn.Linear(hidden_dim[0], hidden_dim[0])\n",
    "        self.linear_22 = nn.Linear(hidden_dim[1], hidden_dim[1])\n",
    "        self.linear_12 = nn.Linear(hidden_dim[0], hidden_dim[1])\n",
    "        self.linear_21 = nn.Linear(hidden_dim[1], hidden_dim[0])\n",
    "        \n",
    "        self.projection = nn.Linear(hidden_dim[0], vocab_size)\n",
    "        self.non_lin = nn.Tanh()\n",
    "        self.dropout = nn.Dropout(p=0.1)\n",
    "\n",
    "    def forward(self, input_batch) -> torch.Tensor:\n",
    "        # Encoder like part\n",
    "        embeddings = self.embedding(input_batch)  # [batch_size, seq_len, hidden_dim]\n",
    "        output, _ = self.rnn_r(embeddings)  # [batch_size, seq_len, hidden_dim[0]]\n",
    "        output = self.linear_12(self.non_lin(output)) # [batch_size, seq_len, hidden_dim[1]] Понижается размерность вектора \n",
    "        output = self.non_lin(output) # [batch_size, seq_len, hidden_dim[1]] Понижается размерность вектора \n",
    "\n",
    "        # Decoder like part\n",
    "        output = self.non_lin(self.linear_22(output)) # [batch_size, seq_len, hidden_dim[0]] Повышается размерность вектора\n",
    "        output, _ = self.rnn_e(output)\n",
    "        output = self.linear_11(self.non_lin(output)) # [batch_size, seq_len, hidden_dim[0]]\n",
    "        output = self.dropout(output)  # [batch_size, seq_len, hidden_dim[0]]\n",
    "        # output = self.linear_21(self.non_lin(output)) # [batch_size, seq_len, hidden_dim[1]] \n",
    "        projection = self.projection(self.non_lin(output))  # [batch_size, seq_len, vocab_size]\n",
    "\n",
    "        return projection"
   ]
  },
  {
   "cell_type": "code",
   "execution_count": 163,
   "metadata": {
    "execution": {
     "iopub.execute_input": "2025-03-08T11:29:17.822627Z",
     "iopub.status.busy": "2025-03-08T11:29:17.822627Z",
     "iopub.status.idle": "2025-03-08T11:29:18.007853Z",
     "shell.execute_reply": "2025-03-08T11:29:18.007853Z",
     "shell.execute_reply.started": "2025-03-08T11:29:17.822627Z"
    }
   },
   "outputs": [],
   "source": [
    "model_3 = WordLM_3(hidden_dim=(256, 128), vocab_size=len(vocab), padding_ind=word2ind['<pad>']).to(device)\n",
    "criterion_3 = nn.CrossEntropyLoss(ignore_index=word2ind['<pad>'])\n",
    "optimizer_3 = torch.optim.Adam(model_3.parameters())"
   ]
  },
  {
   "cell_type": "code",
   "execution_count": 164,
   "metadata": {
    "execution": {
     "iopub.execute_input": "2025-03-08T11:29:18.224023Z",
     "iopub.status.busy": "2025-03-08T11:29:18.224023Z",
     "iopub.status.idle": "2025-03-08T11:52:32.525002Z",
     "shell.execute_reply": "2025-03-08T11:52:32.525002Z",
     "shell.execute_reply.started": "2025-03-08T11:29:18.224023Z"
    }
   },
   "outputs": [
    {
     "data": {
      "application/vnd.jupyter.widget-view+json": {
       "model_id": "2841fe6acccb4d9c8e372be990eec2e6",
       "version_major": 2,
       "version_minor": 0
      },
      "text/plain": [
       "Training epoch 0::   0%|          | 0/3519 [00:00<?, ?it/s]"
      ]
     },
     "metadata": {},
     "output_type": "display_data"
    },
    {
     "data": {
      "application/vnd.jupyter.widget-view+json": {
       "model_id": "5c0bee8e134a40499c1d71a8bbffe016",
       "version_major": 2,
       "version_minor": 0
      },
      "text/plain": [
       "Training epoch 1::   0%|          | 0/3519 [00:00<?, ?it/s]"
      ]
     },
     "metadata": {},
     "output_type": "display_data"
    },
    {
     "data": {
      "application/vnd.jupyter.widget-view+json": {
       "model_id": "b6aeba006e7e498aa0bb7582064a8192",
       "version_major": 2,
       "version_minor": 0
      },
      "text/plain": [
       "Training epoch 2::   0%|          | 0/3519 [00:00<?, ?it/s]"
      ]
     },
     "metadata": {},
     "output_type": "display_data"
    },
    {
     "data": {
      "application/vnd.jupyter.widget-view+json": {
       "model_id": "8a5a12d066bf4231b7da69345652cc94",
       "version_major": 2,
       "version_minor": 0
      },
      "text/plain": [
       "Training epoch 3::   0%|          | 0/3519 [00:00<?, ?it/s]"
      ]
     },
     "metadata": {},
     "output_type": "display_data"
    },
    {
     "data": {
      "application/vnd.jupyter.widget-view+json": {
       "model_id": "edfb0db00212420bb12777d2b57e5eb9",
       "version_major": 2,
       "version_minor": 0
      },
      "text/plain": [
       "Training epoch 4::   0%|          | 0/3519 [00:00<?, ?it/s]"
      ]
     },
     "metadata": {},
     "output_type": "display_data"
    }
   ],
   "source": [
    "m3_results = train_model(model_3, optimizer_3, criterion_3, train_dataloader, eval_dataloader)"
   ]
  },
  {
   "cell_type": "code",
   "execution_count": 165,
   "metadata": {
    "execution": {
     "iopub.execute_input": "2025-03-08T11:52:32.525002Z",
     "iopub.status.busy": "2025-03-08T11:52:32.525002Z",
     "iopub.status.idle": "2025-03-08T11:52:32.753873Z",
     "shell.execute_reply": "2025-03-08T11:52:32.753873Z",
     "shell.execute_reply.started": "2025-03-08T11:52:32.525002Z"
    }
   },
   "outputs": [
    {
     "data": {
      "image/png": "[encoded data removed]",
      "text/plain": [
       "<Figure size 1200x600 with 2 Axes>"
      ]
     },
     "metadata": {},
     "output_type": "display_data"
    }
   ],
   "source": [
    "plot_results(m3_results)"
   ]
  },
  {
   "cell_type": "code",
   "execution_count": 166,
   "metadata": {
    "execution": {
     "iopub.execute_input": "2025-03-08T11:52:32.753873Z",
     "iopub.status.busy": "2025-03-08T11:52:32.753873Z",
     "iopub.status.idle": "2025-03-08T11:53:26.891840Z",
     "shell.execute_reply": "2025-03-08T11:53:26.891840Z",
     "shell.execute_reply.started": "2025-03-08T11:52:32.753873Z"
    },
    "id": "TxbEzn5fnBOY"
   },
   "outputs": [
    {
     "name": "stdout",
     "output_type": "stream",
     "text": [
      "Итоговое значение Perplexity 71.91\n"
     ]
    }
   ],
   "source": [
    "print(f'Итоговое значение Perplexity', round(evaluate(m3_results.get('model'), criterion_3, eval_dataloader), 2))"
   ]
  },
  {
   "cell_type": "code",
   "execution_count": 167,
   "metadata": {
    "execution": {
     "iopub.execute_input": "2025-03-08T11:53:26.891840Z",
     "iopub.status.busy": "2025-03-08T11:53:26.891840Z",
     "iopub.status.idle": "2025-03-08T11:53:27.037173Z",
     "shell.execute_reply": "2025-03-08T11:53:27.037173Z",
     "shell.execute_reply.started": "2025-03-08T11:53:26.891840Z"
    }
   },
   "outputs": [
    {
     "data": {
      "text/plain": [
       "'<bos> the ultimate question of life , the universe , and the <unk> , is a very good film . <eos>'"
      ]
     },
     "execution_count": 167,
     "metadata": {},
     "output_type": "execute_result"
    }
   ],
   "source": [
    "generate_sequence(m3_results.get('model'), starting_seq='the ultimate question of life, the universe, and ', max_seq_len=128)"
   ]
  },
  {
   "cell_type": "markdown",
   "metadata": {
    "id": "Y5V9H3eoFeAu"
   },
   "source": [
    "### Отчет (2 балла)\n",
    "\n",
    "В рамках данной работы были проведены 3 эксперимента с различными архитектурами языковых моделей, использующих рекуррентные слои. \n",
    "\n",
    "*В эксперименте №2 было получено минимальное значение перплексии*, однако эксперимент не удался ввиду того, что в архитектурном решении не учитывается использование тензоров различных размерностей для проведения процесса инференса, полученное значение *перплексии* может быть недействительным ввиду невозможности проверки процесса инференса с помощью модели.\n",
    "\n",
    "В рамках экспериментов 1 и 3 было совершено 5 эпох обучения моделей, были получены следующие результаты:\n",
    "- *Эксперимент №1* - `WordLM_1`:\n",
    "    ```\n",
    "    WordLM_1(\n",
    "  (embedding): Embedding(40004, 300, padding_idx=34741)\n",
    "  (rnn): GRU(300, 256, num_layers=2, batch_first=True, dropout=0.2)\n",
    "  (linear_12): Linear(in_features=256, out_features=128, bias=True)\n",
    "  (linear_21): Linear(in_features=128, out_features=256, bias=True)\n",
    "  (projection): Linear(in_features=256, out_features=40004, bias=True)\n",
    "  (non_lin): Tanh()\n",
    "  (dropout): Dropout(p=0.1, inplace=False)\n",
    ")\n",
    "    ```\n",
    "    \n",
    "- *Эксперимент №3* - `WordLM_1`:\n",
    "    ```\n",
    "    WordLM_3(\n",
    "  (embedding): Embedding(40004, 300, padding_idx=34741)\n",
    "  (rnn_r): LSTM(300, 256, batch_first=True)\n",
    "  (rnn_e): LSTM(128, 256, batch_first=True)\n",
    "  (linear_11): Linear(in_features=256, out_features=256, bias=True)\n",
    "  (linear_22): Linear(in_features=128, out_features=128, bias=True)\n",
    "  (linear_12): Linear(in_features=256, out_features=128, bias=True)\n",
    "  (linear_21): Linear(in_features=128, out_features=256, bias=True)\n",
    "  (projection): Linear(in_features=256, out_features=40004, bias=True)\n",
    "  (non_lin): Tanh()\n",
    "  (dropout): Dropout(p=0.1, inplace=False)\n",
    ")\n",
    "    ```\n"
   ]
  },
  {
   "cell_type": "code",
   "execution_count": 170,
   "metadata": {
    "execution": {
     "iopub.execute_input": "2025-03-08T11:53:55.181703Z",
     "iopub.status.busy": "2025-03-08T11:53:55.179707Z",
     "iopub.status.idle": "2025-03-08T11:53:55.199543Z",
     "shell.execute_reply": "2025-03-08T11:53:55.198120Z",
     "shell.execute_reply.started": "2025-03-08T11:53:55.181703Z"
    }
   },
   "outputs": [
    {
     "data": {
      "text/html": [
       "<div>\n",
       "<style scoped>\n",
       "    .dataframe tbody tr th:only-of-type {\n",
       "        vertical-align: middle;\n",
       "    }\n",
       "\n",
       "    .dataframe tbody tr th {\n",
       "        vertical-align: top;\n",
       "    }\n",
       "\n",
       "    .dataframe thead th {\n",
       "        text-align: right;\n",
       "    }\n",
       "</style>\n",
       "<table border=\"1\" class=\"dataframe\">\n",
       "  <thead>\n",
       "    <tr style=\"text-align: right;\">\n",
       "      <th></th>\n",
       "      <th>model</th>\n",
       "      <th>loss</th>\n",
       "      <th>perplexity</th>\n",
       "    </tr>\n",
       "  </thead>\n",
       "  <tbody>\n",
       "    <tr>\n",
       "      <th>0</th>\n",
       "      <td>WordLM_1</td>\n",
       "      <td>4.351775</td>\n",
       "      <td>69.509601</td>\n",
       "    </tr>\n",
       "    <tr>\n",
       "      <th>1</th>\n",
       "      <td>WordLM_3</td>\n",
       "      <td>4.314133</td>\n",
       "      <td>71.907525</td>\n",
       "    </tr>\n",
       "  </tbody>\n",
       "</table>\n",
       "</div>"
      ],
      "text/plain": [
       "      model      loss  perplexity\n",
       "0  WordLM_1  4.351775   69.509601\n",
       "1  WordLM_3  4.314133   71.907525"
      ]
     },
     "metadata": {},
     "output_type": "display_data"
    }
   ],
   "source": [
    "exp_data = {'model': ['WordLM_1', 'WordLM_3'],\n",
    "           'loss': [m1_results.get('losses')[-1], m3_results.get('losses')[-1]],\n",
    "           'perplexity': [m1_results.get('perplexities')[-1], m3_results.get('perplexities')[-1]]}\n",
    "exp_data = pd.DataFrame(exp_data)\n",
    "display(exp_data)"
   ]
  },
  {
   "cell_type": "code",
   "execution_count": 173,
   "metadata": {
    "execution": {
     "iopub.execute_input": "2025-03-08T11:57:45.313797Z",
     "iopub.status.busy": "2025-03-08T11:57:45.313797Z",
     "iopub.status.idle": "2025-03-08T11:57:45.401420Z",
     "shell.execute_reply": "2025-03-08T11:57:45.400807Z",
     "shell.execute_reply.started": "2025-03-08T11:57:45.313797Z"
    }
   },
   "outputs": [
    {
     "data": {
      "text/plain": [
       "'<bos> the ultimate question of life , the universe , and the story is a bit too much . <eos>'"
      ]
     },
     "execution_count": 173,
     "metadata": {},
     "output_type": "execute_result"
    }
   ],
   "source": [
    "generate_sequence(m1_results.get('model'), starting_seq='the ultimate question of life, the universe, and ', max_seq_len=128)"
   ]
  },
  {
   "cell_type": "code",
   "execution_count": 174,
   "metadata": {
    "execution": {
     "iopub.execute_input": "2025-03-08T11:57:48.206763Z",
     "iopub.status.busy": "2025-03-08T11:57:48.206763Z",
     "iopub.status.idle": "2025-03-08T11:57:48.312244Z",
     "shell.execute_reply": "2025-03-08T11:57:48.311535Z",
     "shell.execute_reply.started": "2025-03-08T11:57:48.206763Z"
    }
   },
   "outputs": [
    {
     "data": {
      "text/plain": [
       "'<bos> the ultimate question of life , the universe , and the <unk> , is a very good film . <eos>'"
      ]
     },
     "execution_count": 174,
     "metadata": {},
     "output_type": "execute_result"
    }
   ],
   "source": [
    "generate_sequence(m3_results.get('model'), starting_seq='the ultimate question of life, the universe, and ', max_seq_len=128)"
   ]
  },
  {
   "cell_type": "markdown",
   "metadata": {
    "execution": {
     "iopub.execute_input": "2025-03-08T11:55:22.899809Z",
     "iopub.status.busy": "2025-03-08T11:55:22.899809Z",
     "iopub.status.idle": "2025-03-08T11:55:22.908396Z",
     "shell.execute_reply": "2025-03-08T11:55:22.906850Z",
     "shell.execute_reply.started": "2025-03-08T11:55:22.899809Z"
    }
   },
   "source": [
    "Среди представленных моделей оптимальной является модель `WordLM_1`, в которой используется `GRU` слой, значение целевой метрики перплексия для данной модели ниже, чем для модели `WordLM_3`. Число обучаемых параметров модели 1 значительно меньше по отношению к модели 3, так как в этой модели используется упрощённая версия рекуррентного слоя, а также более лёгкая архитектура. \n",
    "\n",
    "В процессе генерации текста модель 1 в режиме `beam search` реже генерирует токены `unk` по отношению к модели `3`"
   ]
  },
  {
   "cell_type": "markdown",
   "metadata": {},
   "source": [
    "*Улучшение качества работы моделей:*\n",
    "- использовать иные оптимизаторы типа `RMSProp`, `SGD`; настраивать их `learning_rate`, иные гиперпараметры;\n",
    "- использовать фреймворк `optuna` для реализации процесса оптимизации гиперпараметров какой-либо из выбранных моделей;\n",
    "- добавить в представленные ранее архитектуры слои-регуляризаторы;\n",
    "- для представленных моделей увеличить число эпох обучения и изменить подход к предобработке корпусов текста."
   ]
  }
 ],
 "metadata": {
  "accelerator": "GPU",
  "colab": {
   "provenance": []
  },
  "gpuClass": "standard",
  "kernelspec": {
   "display_name": "Python 3 (ipykernel)",
   "language": "python",
   "name": "python3"
  },
  "language_info": {
   "codemirror_mode": {
    "name": "ipython",
    "version": 3
   },
   "file_extension": ".py",
   "mimetype": "text/x-python",
   "name": "python",
   "nbconvert_exporter": "python",
   "pygments_lexer": "ipython3",
   "version": "3.11.9"
  },
  "widgets": {
   "application/vnd.jupyter.widget-state+json": {
    "state": {
     "0039ceb100b74609bc41194c1025e48c": {
      "model_module": "@jupyter-widgets/controls",
      "model_module_version": "2.0.0",
      "model_name": "HTMLModel",
      "state": {
       "layout": "IPY_MODEL_a68c1ba787da48839e7354c941885889",
       "style": "IPY_MODEL_cd3393e78f8243ec923d0e9143be4ed1",
       "value": " 3519/3519 [02:43&lt;00:00, 21.86it/s]"
      }
     },
     "0046f1dc997b4ac6a691c457072f21a6": {
      "model_module": "@jupyter-widgets/controls",
      "model_module_version": "2.0.0",
      "model_name": "HTMLStyleModel",
      "state": {
       "description_width": "",
       "font_size": null,
       "text_color": null
      }
     },
     "00875689cf5845d8a98590951996bc65": {
      "model_module": "@jupyter-widgets/controls",
      "model_module_version": "2.0.0",
      "model_name": "FloatProgressModel",
      "state": {
       "bar_style": "success",
       "layout": "IPY_MODEL_6a9030501e1d408bb02931ce025ccbfc",
       "max": 3519,
       "style": "IPY_MODEL_60311aed131d4982a4573bd77a57edab",
       "value": 3519
      }
     },
     "01e23c4248d24178a67f1b41e230ec48": {
      "model_module": "@jupyter-widgets/controls",
      "model_module_version": "2.0.0",
      "model_name": "HBoxModel",
      "state": {
       "children": [
        "IPY_MODEL_4808d7c2f9f743e9956127f91dc7d9f0",
        "IPY_MODEL_5a8cdabdfbee487ea522586eee283cae",
        "IPY_MODEL_398825ffec2f440fb76156d612c2a05d"
       ],
       "layout": "IPY_MODEL_b08a3643cf6849c3acf50d53064a1221"
      }
     },
     "01faf4c70671445083918c581306b149": {
      "model_module": "@jupyter-widgets/base",
      "model_module_version": "2.0.0",
      "model_name": "LayoutModel",
      "state": {}
     },
     "0229f55fe5504d33b370903cf0bda85a": {
      "model_module": "@jupyter-widgets/base",
      "model_module_version": "2.0.0",
      "model_name": "LayoutModel",
      "state": {}
     },
     "04c0b25ed81243d79e27ee053abf3f9b": {
      "model_module": "@jupyter-widgets/controls",
      "model_module_version": "2.0.0",
      "model_name": "HTMLModel",
      "state": {
       "layout": "IPY_MODEL_d5ea371563c74a8b84e81b5a510c85fc",
       "style": "IPY_MODEL_5bfb16c331084b20ac99221c85976e08",
       "value": "Training epoch 0::  72%"
      }
     },
     "099f5862880347c3807b09f2516fa3fe": {
      "model_module": "@jupyter-widgets/base",
      "model_module_version": "2.0.0",
      "model_name": "LayoutModel",
      "state": {}
     },
     "0a06d63a6dda4a769ab34b74ac854fcd": {
      "model_module": "@jupyter-widgets/base",
      "model_module_version": "2.0.0",
      "model_name": "LayoutModel",
      "state": {}
     },
     "0a4b903aed52459293f817ba00d9318b": {
      "model_module": "@jupyter-widgets/base",
      "model_module_version": "2.0.0",
      "model_name": "LayoutModel",
      "state": {}
     },
     "0babf947cb6d43f6814487fd64ac9841": {
      "model_module": "@jupyter-widgets/base",
      "model_module_version": "2.0.0",
      "model_name": "LayoutModel",
      "state": {}
     },
     "0c421b6fee744cb2ac5ebd36be29b30a": {
      "model_module": "@jupyter-widgets/base",
      "model_module_version": "2.0.0",
      "model_name": "LayoutModel",
      "state": {}
     },
     "0ee66f75f8e2421abc39b84409506ce8": {
      "model_module": "@jupyter-widgets/controls",
      "model_module_version": "2.0.0",
      "model_name": "HBoxModel",
      "state": {
       "children": [
        "IPY_MODEL_9c03afc3c79f4ec5a9fd08e44eb81a60",
        "IPY_MODEL_689523485aa24add9311c0b8438b81d0",
        "IPY_MODEL_dbb926e6ffb54951b9e0ae14d29922a1"
       ],
       "layout": "IPY_MODEL_cee0f56ebaed4a7baf9d107fd4ddcf7d"
      }
     },
     "0f0ea19ed3584c91b177386b15a465b1": {
      "model_module": "@jupyter-widgets/controls",
      "model_module_version": "2.0.0",
      "model_name": "FloatProgressModel",
      "state": {
       "bar_style": "success",
       "layout": "IPY_MODEL_6c95922528c24555817f49353f93f193",
       "max": 562883,
       "style": "IPY_MODEL_89826e245f674dc7b58bdf3b2fe34328",
       "value": 562883
      }
     },
     "0ff885fe3ae94170bc47e53e0bbb4816": {
      "model_module": "@jupyter-widgets/controls",
      "model_module_version": "2.0.0",
      "model_name": "HTMLModel",
      "state": {
       "layout": "IPY_MODEL_1e25fb3714d64d0b9c31bb013be1a54b",
       "style": "IPY_MODEL_3ca6487691b840b1b1c58f2239113906",
       "value": " 3519/3519 [03:41&lt;00:00, 16.28it/s]"
      }
     },
     "1009a4b31dc946eda1e3adb84da89f3e": {
      "model_module": "@jupyter-widgets/base",
      "model_module_version": "2.0.0",
      "model_name": "LayoutModel",
      "state": {}
     },
     "105ab1cd9f29422a97c93813a09ad0e6": {
      "model_module": "@jupyter-widgets/controls",
      "model_module_version": "2.0.0",
      "model_name": "ProgressStyleModel",
      "state": {
       "description_width": ""
      }
     },
     "1203f823e9e94866b062fe4341a4f328": {
      "model_module": "@jupyter-widgets/controls",
      "model_module_version": "2.0.0",
      "model_name": "HTMLModel",
      "state": {
       "layout": "IPY_MODEL_70eeaccda33a4ae3855f6e0b59c6dc38",
       "style": "IPY_MODEL_e00a398206f946c9a10e8bb1fe4d579e",
       "value": "Training epoch 1:: 100%"
      }
     },
     "1255ce15d01e4becaf2fc547df37403e": {
      "model_module": "@jupyter-widgets/base",
      "model_module_version": "2.0.0",
      "model_name": "LayoutModel",
      "state": {}
     },
     "12a2c5e56a624c398ce1757cc00152ff": {
      "model_module": "@jupyter-widgets/base",
      "model_module_version": "2.0.0",
      "model_name": "LayoutModel",
      "state": {}
     },
     "12ba3a40b1084cff9441061e0e5cf97e": {
      "model_module": "@jupyter-widgets/controls",
      "model_module_version": "2.0.0",
      "model_name": "HTMLModel",
      "state": {
       "layout": "IPY_MODEL_768f883e43e24876b01b4aaa380b1743",
       "style": "IPY_MODEL_4f0242b963ed4258a8e2a979d06d95ce",
       "value": "Training epoch 2::  65%"
      }
     },
     "15edc0d6ddd14992b4f71c2cd342dde7": {
      "model_module": "@jupyter-widgets/controls",
      "model_module_version": "2.0.0",
      "model_name": "FloatProgressModel",
      "state": {
       "bar_style": "success",
       "layout": "IPY_MODEL_23be6bdd9a144753ac8599144e5e51d8",
       "max": 3519,
       "style": "IPY_MODEL_434c21da9c074fe4a9e3d11778afe00b",
       "value": 3519
      }
     },
     "15f133bc91f34570a6dd0b29151ff1dd": {
      "model_module": "@jupyter-widgets/base",
      "model_module_version": "2.0.0",
      "model_name": "LayoutModel",
      "state": {}
     },
     "16b23126b06847109622ce51775cda27": {
      "model_module": "@jupyter-widgets/controls",
      "model_module_version": "2.0.0",
      "model_name": "HTMLModel",
      "state": {
       "layout": "IPY_MODEL_9fc584be4c594220ae1ad74b5a5f3d92",
       "style": "IPY_MODEL_7cb8252189434bc49d8a7278334654ce",
       "value": " 75000/75000 [01:01&lt;00:00, 1206.20it/s]"
      }
     },
     "171eb694c7c444e4bd4777a019ed3de6": {
      "model_module": "@jupyter-widgets/controls",
      "model_module_version": "2.0.0",
      "model_name": "ProgressStyleModel",
      "state": {
       "description_width": ""
      }
     },
     "18bcadd0b3f348be8eda1c3fff18d1ab": {
      "model_module": "@jupyter-widgets/base",
      "model_module_version": "2.0.0",
      "model_name": "LayoutModel",
      "state": {}
     },
     "1a998d1c3b86401fb352e3dae6a48769": {
      "model_module": "@jupyter-widgets/base",
      "model_module_version": "2.0.0",
      "model_name": "LayoutModel",
      "state": {}
     },
     "1aece348840b40d59831d3f80b1cdf92": {
      "model_module": "@jupyter-widgets/base",
      "model_module_version": "2.0.0",
      "model_name": "LayoutModel",
      "state": {}
     },
     "1c8ae5fe68704409978141b359d67b89": {
      "model_module": "@jupyter-widgets/controls",
      "model_module_version": "2.0.0",
      "model_name": "ProgressStyleModel",
      "state": {
       "description_width": ""
      }
     },
     "1c9abb5174984980a9ba1e141974dd31": {
      "model_module": "@jupyter-widgets/controls",
      "model_module_version": "2.0.0",
      "model_name": "ProgressStyleModel",
      "state": {
       "description_width": ""
      }
     },
     "1dca836244a04adfb3c48a1e8bdeb377": {
      "model_module": "@jupyter-widgets/controls",
      "model_module_version": "2.0.0",
      "model_name": "HTMLModel",
      "state": {
       "layout": "IPY_MODEL_5218c6660f5049d5ab88033f62556054",
       "style": "IPY_MODEL_b68c9bbc90604f22b1bd2217c19692ad",
       "value": "100%"
      }
     },
     "1e25fb3714d64d0b9c31bb013be1a54b": {
      "model_module": "@jupyter-widgets/base",
      "model_module_version": "2.0.0",
      "model_name": "LayoutModel",
      "state": {}
     },
     "204b76d2238e43ba95104a6ffad806ae": {
      "model_module": "@jupyter-widgets/controls",
      "model_module_version": "2.0.0",
      "model_name": "HBoxModel",
      "state": {
       "children": [
        "IPY_MODEL_a6cbae2a0dac4473b7e75d2772eb71ea",
        "IPY_MODEL_799f5c5b0ee14f4a9a89644fee584c3b",
        "IPY_MODEL_53e59a934f014383afa1704f264a9a0c"
       ],
       "layout": "IPY_MODEL_0c421b6fee744cb2ac5ebd36be29b30a"
      }
     },
     "20ccc29d66c14a0884153f222e4affe9": {
      "model_module": "@jupyter-widgets/controls",
      "model_module_version": "2.0.0",
      "model_name": "HBoxModel",
      "state": {
       "children": [
        "IPY_MODEL_377b4476d8e04f28a4962f693da3b580",
        "IPY_MODEL_6d520f5e8369440a93796cda19bb42c5",
        "IPY_MODEL_2d1927182abe48e98efccb37e8d95f3d"
       ],
       "layout": "IPY_MODEL_b94385c7e2cb406ca27b4fe09cccc0b6"
      }
     },
     "224c0358fe4c44a8a59273be775ff15f": {
      "model_module": "@jupyter-widgets/base",
      "model_module_version": "2.0.0",
      "model_name": "LayoutModel",
      "state": {}
     },
     "239cd28c423e436c9bca22402eefd22c": {
      "model_module": "@jupyter-widgets/base",
      "model_module_version": "2.0.0",
      "model_name": "LayoutModel",
      "state": {}
     },
     "23be6bdd9a144753ac8599144e5e51d8": {
      "model_module": "@jupyter-widgets/base",
      "model_module_version": "2.0.0",
      "model_name": "LayoutModel",
      "state": {}
     },
     "257d8c0e917340f9b2d91cd13cfaab5b": {
      "model_module": "@jupyter-widgets/controls",
      "model_module_version": "2.0.0",
      "model_name": "HBoxModel",
      "state": {
       "children": [
        "IPY_MODEL_b27d093302b04f6f89e516a3169f00e0",
        "IPY_MODEL_8de4211e6d27448096bca5ef252ba79a",
        "IPY_MODEL_0039ceb100b74609bc41194c1025e48c"
       ],
       "layout": "IPY_MODEL_e8419f1eecfb40b89b97ade98ca34a60"
      }
     },
     "2733c79aa41b4074a85882d20bc3a4a0": {
      "model_module": "@jupyter-widgets/controls",
      "model_module_version": "2.0.0",
      "model_name": "HTMLStyleModel",
      "state": {
       "description_width": "",
       "font_size": null,
       "text_color": null
      }
     },
     "277d95a1b3c44e3cb93764e504a9b0d2": {
      "model_module": "@jupyter-widgets/base",
      "model_module_version": "2.0.0",
      "model_name": "LayoutModel",
      "state": {}
     },
     "283d935441d243f6bdea71264caf5f41": {
      "model_module": "@jupyter-widgets/controls",
      "model_module_version": "2.0.0",
      "model_name": "HBoxModel",
      "state": {
       "children": [
        "IPY_MODEL_e7cb080c568345fdb67cd3a18ef5db83",
        "IPY_MODEL_4ae0e1c1161e42deb9770b43f380d24a",
        "IPY_MODEL_16b23126b06847109622ce51775cda27"
       ],
       "layout": "IPY_MODEL_224c0358fe4c44a8a59273be775ff15f"
      }
     },
     "2841fe6acccb4d9c8e372be990eec2e6": {
      "model_module": "@jupyter-widgets/controls",
      "model_module_version": "2.0.0",
      "model_name": "HBoxModel",
      "state": {
       "children": [
        "IPY_MODEL_3d876739bb6b44f1b4b7389835ef9a7e",
        "IPY_MODEL_42c9f070eec44be9b8ccb8d0e64f3223",
        "IPY_MODEL_0ff885fe3ae94170bc47e53e0bbb4816"
       ],
       "layout": "IPY_MODEL_84e2eefa7f4b4f40b7276ff1c9eae67f"
      }
     },
     "28ce42113e5e423e85b4e21fd3d7c3ee": {
      "model_module": "@jupyter-widgets/controls",
      "model_module_version": "2.0.0",
      "model_name": "HTMLModel",
      "state": {
       "layout": "IPY_MODEL_94d6bdc3eee743c5868755fe7baf9efc",
       "style": "IPY_MODEL_da132243e6cb48b4b646c79ed2abeeeb",
       "value": " 3519/3519 [03:03&lt;00:00, 19.50it/s]"
      }
     },
     "298c3bec3dc34c3c9bee1b91d9c3206a": {
      "model_module": "@jupyter-widgets/base",
      "model_module_version": "2.0.0",
      "model_name": "LayoutModel",
      "state": {}
     },
     "29941ea1dec34f01bb7a4cf43cd76359": {
      "model_module": "@jupyter-widgets/base",
      "model_module_version": "2.0.0",
      "model_name": "LayoutModel",
      "state": {}
     },
     "2a5a2c939c6c445099e60d489c447a0c": {
      "model_module": "@jupyter-widgets/controls",
      "model_module_version": "2.0.0",
      "model_name": "ProgressStyleModel",
      "state": {
       "description_width": ""
      }
     },
     "2cf32b2f88cc4a40bcaeb5bda1d8a9f7": {
      "model_module": "@jupyter-widgets/controls",
      "model_module_version": "2.0.0",
      "model_name": "FloatProgressModel",
      "state": {
       "bar_style": "danger",
       "layout": "IPY_MODEL_1aece348840b40d59831d3f80b1cdf92",
       "max": 3519,
       "style": "IPY_MODEL_ccd98c5698894a609fbcff14593867a8",
       "value": 2548
      }
     },
     "2d1927182abe48e98efccb37e8d95f3d": {
      "model_module": "@jupyter-widgets/controls",
      "model_module_version": "2.0.0",
      "model_name": "HTMLModel",
      "state": {
       "layout": "IPY_MODEL_6f6fb989415d41439c7c1a0bce38b803",
       "style": "IPY_MODEL_53c01547e85d41929c09cff16c30cc15",
       "value": " 3519/3519 [03:02&lt;00:00, 20.45it/s]"
      }
     },
     "2d52795f49ae4091b8572e241d7d5700": {
      "model_module": "@jupyter-widgets/controls",
      "model_module_version": "2.0.0",
      "model_name": "HTMLModel",
      "state": {
       "layout": "IPY_MODEL_1a998d1c3b86401fb352e3dae6a48769",
       "style": "IPY_MODEL_fb557ba96d674561bc0a0bfaa8379a6f",
       "value": " 3519/3519 [03:41&lt;00:00, 16.39it/s]"
      }
     },
     "2e0c57b036db4666baecf97e09e2c335": {
      "model_module": "@jupyter-widgets/base",
      "model_module_version": "2.0.0",
      "model_name": "LayoutModel",
      "state": {}
     },
     "2e3ec66e566a4121b6890a592fe25c4f": {
      "model_module": "@jupyter-widgets/base",
      "model_module_version": "2.0.0",
      "model_name": "LayoutModel",
      "state": {}
     },
     "2edd5097ce614deeab80a271fae1009e": {
      "model_module": "@jupyter-widgets/controls",
      "model_module_version": "2.0.0",
      "model_name": "ProgressStyleModel",
      "state": {
       "description_width": ""
      }
     },
     "2ef944fd3feb47c0ba24acde080149be": {
      "model_module": "@jupyter-widgets/controls",
      "model_module_version": "2.0.0",
      "model_name": "HTMLModel",
      "state": {
       "layout": "IPY_MODEL_58efdee007b84b11bd986dfeaeb6116c",
       "style": "IPY_MODEL_0046f1dc997b4ac6a691c457072f21a6",
       "value": " 562883/562883 [00:29&lt;00:00, 19680.31it/s]"
      }
     },
     "2f2955cff09b4935bcc29ef82956730b": {
      "model_module": "@jupyter-widgets/controls",
      "model_module_version": "2.0.0",
      "model_name": "FloatProgressModel",
      "state": {
       "bar_style": "success",
       "layout": "IPY_MODEL_667d17bf04f94fe6bb440f555902a358",
       "max": 3519,
       "style": "IPY_MODEL_c1a758f44a24473ba7b56a597cc612c6",
       "value": 3519
      }
     },
     "2ff902bb44914439a4c9ae051e5a3c1c": {
      "model_module": "@jupyter-widgets/controls",
      "model_module_version": "2.0.0",
      "model_name": "HTMLStyleModel",
      "state": {
       "description_width": "",
       "font_size": null,
       "text_color": null
      }
     },
     "30449346a85d4a87a10554509d300f48": {
      "model_module": "@jupyter-widgets/base",
      "model_module_version": "2.0.0",
      "model_name": "LayoutModel",
      "state": {}
     },
     "33dc9091e59b42ee94c402029d6311f7": {
      "model_module": "@jupyter-widgets/base",
      "model_module_version": "2.0.0",
      "model_name": "LayoutModel",
      "state": {}
     },
     "347f51e85e0942579ada58e9ad321f7e": {
      "model_module": "@jupyter-widgets/controls",
      "model_module_version": "2.0.0",
      "model_name": "FloatProgressModel",
      "state": {
       "bar_style": "success",
       "layout": "IPY_MODEL_3aa5e636786a43f684497663440e1859",
       "max": 3519,
       "style": "IPY_MODEL_ed61411ccffd4517bd566d7c8e81c44d",
       "value": 3519
      }
     },
     "377b4476d8e04f28a4962f693da3b580": {
      "model_module": "@jupyter-widgets/controls",
      "model_module_version": "2.0.0",
      "model_name": "HTMLModel",
      "state": {
       "layout": "IPY_MODEL_2e3ec66e566a4121b6890a592fe25c4f",
       "style": "IPY_MODEL_b681e8660099447a8967cba3f4a4f6ca",
       "value": "Training epoch 1:: 100%"
      }
     },
     "398825ffec2f440fb76156d612c2a05d": {
      "model_module": "@jupyter-widgets/controls",
      "model_module_version": "2.0.0",
      "model_name": "HTMLModel",
      "state": {
       "layout": "IPY_MODEL_593a0c5a43e249759b3212b35e11c7c0",
       "style": "IPY_MODEL_90a4feb83a1646789d8bac556209c982",
       "value": " 3519/3519 [03:00&lt;00:00, 19.60it/s]"
      }
     },
     "3a34e4db2c9c4862a9ad2971eeb7eec3": {
      "model_module": "@jupyter-widgets/controls",
      "model_module_version": "2.0.0",
      "model_name": "HTMLModel",
      "state": {
       "layout": "IPY_MODEL_d7a761f25bf84546b1567c66262bd898",
       "style": "IPY_MODEL_dfd2da4af6134e2aa48287b3879e1b2a",
       "value": " 3519/3519 [03:43&lt;00:00, 16.10it/s]"
      }
     },
     "3aa5e636786a43f684497663440e1859": {
      "model_module": "@jupyter-widgets/base",
      "model_module_version": "2.0.0",
      "model_name": "LayoutModel",
      "state": {}
     },
     "3ab194f8ba4a45c7a4c721571d94a006": {
      "model_module": "@jupyter-widgets/controls",
      "model_module_version": "2.0.0",
      "model_name": "HTMLStyleModel",
      "state": {
       "description_width": "",
       "font_size": null,
       "text_color": null
      }
     },
     "3ba366eceda34a65b122f43939bc1065": {
      "model_module": "@jupyter-widgets/base",
      "model_module_version": "2.0.0",
      "model_name": "LayoutModel",
      "state": {}
     },
     "3c3da4d2564942fb8ab368d54ed91f7c": {
      "model_module": "@jupyter-widgets/controls",
      "model_module_version": "2.0.0",
      "model_name": "HTMLStyleModel",
      "state": {
       "description_width": "",
       "font_size": null,
       "text_color": null
      }
     },
     "3ca6487691b840b1b1c58f2239113906": {
      "model_module": "@jupyter-widgets/controls",
      "model_module_version": "2.0.0",
      "model_name": "HTMLStyleModel",
      "state": {
       "description_width": "",
       "font_size": null,
       "text_color": null
      }
     },
     "3d876739bb6b44f1b4b7389835ef9a7e": {
      "model_module": "@jupyter-widgets/controls",
      "model_module_version": "2.0.0",
      "model_name": "HTMLModel",
      "state": {
       "layout": "IPY_MODEL_6743721003cc48d39f2279429a2afc74",
       "style": "IPY_MODEL_2ff902bb44914439a4c9ae051e5a3c1c",
       "value": "Training epoch 0:: 100%"
      }
     },
     "3dc83a48a5624176973ccb38402d0ce4": {
      "model_module": "@jupyter-widgets/controls",
      "model_module_version": "2.0.0",
      "model_name": "HTMLStyleModel",
      "state": {
       "description_width": "",
       "font_size": null,
       "text_color": null
      }
     },
     "3e1667f5878f44eca92173b3d49f8fcc": {
      "model_module": "@jupyter-widgets/base",
      "model_module_version": "2.0.0",
      "model_name": "LayoutModel",
      "state": {}
     },
     "4192a13ad224480687bb7e7c207c8da8": {
      "model_module": "@jupyter-widgets/controls",
      "model_module_version": "2.0.0",
      "model_name": "FloatProgressModel",
      "state": {
       "bar_style": "success",
       "layout": "IPY_MODEL_ecb252e6e9bd48758b8e577ef9271622",
       "max": 3519,
       "style": "IPY_MODEL_bac76043617e4f7c9c5248ab76ce1451",
       "value": 3519
      }
     },
     "41ce859acd4c4488b8893b12052d7356": {
      "model_module": "@jupyter-widgets/base",
      "model_module_version": "2.0.0",
      "model_name": "LayoutModel",
      "state": {}
     },
     "42a452079f8145168834ad346b8aae03": {
      "model_module": "@jupyter-widgets/controls",
      "model_module_version": "2.0.0",
      "model_name": "HTMLStyleModel",
      "state": {
       "description_width": "",
       "font_size": null,
       "text_color": null
      }
     },
     "42c9f070eec44be9b8ccb8d0e64f3223": {
      "model_module": "@jupyter-widgets/controls",
      "model_module_version": "2.0.0",
      "model_name": "FloatProgressModel",
      "state": {
       "bar_style": "success",
       "layout": "IPY_MODEL_15f133bc91f34570a6dd0b29151ff1dd",
       "max": 3519,
       "style": "IPY_MODEL_91487bac778f457695f750537caff64f",
       "value": 3519
      }
     },
     "434c21da9c074fe4a9e3d11778afe00b": {
      "model_module": "@jupyter-widgets/controls",
      "model_module_version": "2.0.0",
      "model_name": "ProgressStyleModel",
      "state": {
       "description_width": ""
      }
     },
     "43ef05b43df840daac6590d0373a8c93": {
      "model_module": "@jupyter-widgets/controls",
      "model_module_version": "2.0.0",
      "model_name": "HTMLModel",
      "state": {
       "layout": "IPY_MODEL_33dc9091e59b42ee94c402029d6311f7",
       "style": "IPY_MODEL_dc327eb912fe447395453e680a0ca8c1",
       "value": "Training epoch 3:: 100%"
      }
     },
     "44d6da04c82e482a9c8402b118545371": {
      "model_module": "@jupyter-widgets/controls",
      "model_module_version": "2.0.0",
      "model_name": "FloatProgressModel",
      "state": {
       "bar_style": "success",
       "layout": "IPY_MODEL_9da6b46fa8fa473c9ad113f61a42c0c0",
       "max": 3519,
       "style": "IPY_MODEL_171eb694c7c444e4bd4777a019ed3de6",
       "value": 3519
      }
     },
     "45cbe1e2087b46658937630fb77d2bc4": {
      "model_module": "@jupyter-widgets/base",
      "model_module_version": "2.0.0",
      "model_name": "LayoutModel",
      "state": {}
     },
     "47ca761b2bbd4c6c8c3bc23032df6067": {
      "model_module": "@jupyter-widgets/controls",
      "model_module_version": "2.0.0",
      "model_name": "HTMLModel",
      "state": {
       "layout": "IPY_MODEL_3e1667f5878f44eca92173b3d49f8fcc",
       "style": "IPY_MODEL_dcb85c022bc04c278fe2444baafe23ec",
       "value": "Training epoch 1:: 100%"
      }
     },
     "4808d7c2f9f743e9956127f91dc7d9f0": {
      "model_module": "@jupyter-widgets/controls",
      "model_module_version": "2.0.0",
      "model_name": "HTMLModel",
      "state": {
       "layout": "IPY_MODEL_eede187be62c4884baa3a708c39afc6d",
       "style": "IPY_MODEL_c3261d5b14c2409c99ea78cba87bbeea",
       "value": "Training epoch 0:: 100%"
      }
     },
     "4a4dabe15fa343a5a4be055d63c3b221": {
      "model_module": "@jupyter-widgets/controls",
      "model_module_version": "2.0.0",
      "model_name": "HBoxModel",
      "state": {
       "children": [
        "IPY_MODEL_b4496c49578d4368a57af0cd2ff6bccc",
        "IPY_MODEL_ccb1d6550ee140c8b53fb8e6f864c48f",
        "IPY_MODEL_a97e5cd9b1a0434582a0669e8e0112be"
       ],
       "layout": "IPY_MODEL_4d6207d4afc84fcbaf95e58e1f28170d"
      }
     },
     "4a9169a47a3c4484b56d97bdddf272a1": {
      "model_module": "@jupyter-widgets/controls",
      "model_module_version": "2.0.0",
      "model_name": "HTMLStyleModel",
      "state": {
       "description_width": "",
       "font_size": null,
       "text_color": null
      }
     },
     "4aa63be35a52462f8dc1e28e50035f22": {
      "model_module": "@jupyter-widgets/controls",
      "model_module_version": "2.0.0",
      "model_name": "HTMLModel",
      "state": {
       "layout": "IPY_MODEL_84311703954a44d4b8440512b5704947",
       "style": "IPY_MODEL_5c85c323bda342d9ae382f8cd1377f00",
       "value": "Training epoch 2:: 100%"
      }
     },
     "4ae0e1c1161e42deb9770b43f380d24a": {
      "model_module": "@jupyter-widgets/controls",
      "model_module_version": "2.0.0",
      "model_name": "FloatProgressModel",
      "state": {
       "bar_style": "success",
       "layout": "IPY_MODEL_926e9dda198540c797b0da9adf921546",
       "max": 75000,
       "style": "IPY_MODEL_1c8ae5fe68704409978141b359d67b89",
       "value": 75000
      }
     },
     "4b0bfa9a27034dc8bc9af9785ab09579": {
      "model_module": "@jupyter-widgets/controls",
      "model_module_version": "2.0.0",
      "model_name": "ProgressStyleModel",
      "state": {
       "description_width": ""
      }
     },
     "4ca43a654189446f99bce314f8a99451": {
      "model_module": "@jupyter-widgets/base",
      "model_module_version": "2.0.0",
      "model_name": "LayoutModel",
      "state": {}
     },
     "4d0670b72639438a95b021b34141ee03": {
      "model_module": "@jupyter-widgets/controls",
      "model_module_version": "2.0.0",
      "model_name": "FloatProgressModel",
      "state": {
       "bar_style": "success",
       "layout": "IPY_MODEL_676293ab680b45dd8acbebd2161e6318",
       "max": 3519,
       "style": "IPY_MODEL_de37ea44838448d0b492fd510caff557",
       "value": 3519
      }
     },
     "4d6207d4afc84fcbaf95e58e1f28170d": {
      "model_module": "@jupyter-widgets/base",
      "model_module_version": "2.0.0",
      "model_name": "LayoutModel",
      "state": {}
     },
     "4f0242b963ed4258a8e2a979d06d95ce": {
      "model_module": "@jupyter-widgets/controls",
      "model_module_version": "2.0.0",
      "model_name": "HTMLStyleModel",
      "state": {
       "description_width": "",
       "font_size": null,
       "text_color": null
      }
     },
     "4fe56e72759a4571a1dbc92e4f4cc96a": {
      "model_module": "@jupyter-widgets/controls",
      "model_module_version": "2.0.0",
      "model_name": "HTMLModel",
      "state": {
       "layout": "IPY_MODEL_30449346a85d4a87a10554509d300f48",
       "style": "IPY_MODEL_97c77406c9e54a0f89dfe50eca1f5e91",
       "value": " 3519/3519 [02:41&lt;00:00, 22.32it/s]"
      }
     },
     "507f2c8c13234bd8b21b693e11b8c2e5": {
      "model_module": "@jupyter-widgets/base",
      "model_module_version": "2.0.0",
      "model_name": "LayoutModel",
      "state": {}
     },
     "5218c6660f5049d5ab88033f62556054": {
      "model_module": "@jupyter-widgets/base",
      "model_module_version": "2.0.0",
      "model_name": "LayoutModel",
      "state": {}
     },
     "5265e9458af04063a049260e10a5962f": {
      "model_module": "@jupyter-widgets/controls",
      "model_module_version": "2.0.0",
      "model_name": "ProgressStyleModel",
      "state": {
       "description_width": ""
      }
     },
     "52cfd5ed0ad240b2af5f8eabac95b102": {
      "model_module": "@jupyter-widgets/controls",
      "model_module_version": "2.0.0",
      "model_name": "HBoxModel",
      "state": {
       "children": [
        "IPY_MODEL_90aa74308a4a4e97aab9245657c595d4",
        "IPY_MODEL_2f2955cff09b4935bcc29ef82956730b",
        "IPY_MODEL_9cbbe0c7fb1740f98a70672e1ff29fca"
       ],
       "layout": "IPY_MODEL_eaacb0392aa94f1fa881465b43303326"
      }
     },
     "53c01547e85d41929c09cff16c30cc15": {
      "model_module": "@jupyter-widgets/controls",
      "model_module_version": "2.0.0",
      "model_name": "HTMLStyleModel",
      "state": {
       "description_width": "",
       "font_size": null,
       "text_color": null
      }
     },
     "53e59a934f014383afa1704f264a9a0c": {
      "model_module": "@jupyter-widgets/controls",
      "model_module_version": "2.0.0",
      "model_name": "HTMLModel",
      "state": {
       "layout": "IPY_MODEL_58211376188b45ee8481d626832708aa",
       "style": "IPY_MODEL_a6becef118d24cfe88147b9088e603e1",
       "value": " 3519/3519 [03:02&lt;00:00, 18.87it/s]"
      }
     },
     "55267c4bb8d24f39b0b2862ce7ace465": {
      "model_module": "@jupyter-widgets/controls",
      "model_module_version": "2.0.0",
      "model_name": "HTMLStyleModel",
      "state": {
       "description_width": "",
       "font_size": null,
       "text_color": null
      }
     },
     "58211376188b45ee8481d626832708aa": {
      "model_module": "@jupyter-widgets/base",
      "model_module_version": "2.0.0",
      "model_name": "LayoutModel",
      "state": {}
     },
     "589299e3c4bb484482b808baf333a1c5": {
      "model_module": "@jupyter-widgets/controls",
      "model_module_version": "2.0.0",
      "model_name": "HTMLModel",
      "state": {
       "layout": "IPY_MODEL_5ebe2b271d094ca291ae6c3307e8b914",
       "style": "IPY_MODEL_e1a73c8fefab460bb3a79838a9ea1d74",
       "value": " 3519/3519 [02:42&lt;00:00, 21.93it/s]"
      }
     },
     "58efdee007b84b11bd986dfeaeb6116c": {
      "model_module": "@jupyter-widgets/base",
      "model_module_version": "2.0.0",
      "model_name": "LayoutModel",
      "state": {}
     },
     "593a0c5a43e249759b3212b35e11c7c0": {
      "model_module": "@jupyter-widgets/base",
      "model_module_version": "2.0.0",
      "model_name": "LayoutModel",
      "state": {}
     },
     "5a8cdabdfbee487ea522586eee283cae": {
      "model_module": "@jupyter-widgets/controls",
      "model_module_version": "2.0.0",
      "model_name": "FloatProgressModel",
      "state": {
       "bar_style": "success",
       "layout": "IPY_MODEL_9520429b07534c14a264aa3ed6063768",
       "max": 3519,
       "style": "IPY_MODEL_105ab1cd9f29422a97c93813a09ad0e6",
       "value": 3519
      }
     },
     "5bfb16c331084b20ac99221c85976e08": {
      "model_module": "@jupyter-widgets/controls",
      "model_module_version": "2.0.0",
      "model_name": "HTMLStyleModel",
      "state": {
       "description_width": "",
       "font_size": null,
       "text_color": null
      }
     },
     "5c0bee8e134a40499c1d71a8bbffe016": {
      "model_module": "@jupyter-widgets/controls",
      "model_module_version": "2.0.0",
      "model_name": "HBoxModel",
      "state": {
       "children": [
        "IPY_MODEL_47ca761b2bbd4c6c8c3bc23032df6067",
        "IPY_MODEL_8979951fbfa14532805f7eff08da9406",
        "IPY_MODEL_2d52795f49ae4091b8572e241d7d5700"
       ],
       "layout": "IPY_MODEL_db5a564225ee42f8b83b613c89e2a3cc"
      }
     },
     "5c85c323bda342d9ae382f8cd1377f00": {
      "model_module": "@jupyter-widgets/controls",
      "model_module_version": "2.0.0",
      "model_name": "HTMLStyleModel",
      "state": {
       "description_width": "",
       "font_size": null,
       "text_color": null
      }
     },
     "5ebe2b271d094ca291ae6c3307e8b914": {
      "model_module": "@jupyter-widgets/base",
      "model_module_version": "2.0.0",
      "model_name": "LayoutModel",
      "state": {}
     },
     "5f08a57621c0464eaf47924bd5c0beef": {
      "model_module": "@jupyter-widgets/base",
      "model_module_version": "2.0.0",
      "model_name": "LayoutModel",
      "state": {}
     },
     "60008455832b466ab42e0593ce43fee5": {
      "model_module": "@jupyter-widgets/controls",
      "model_module_version": "2.0.0",
      "model_name": "HBoxModel",
      "state": {
       "children": [
        "IPY_MODEL_f328f679543b4806a892d53667b8ee4e",
        "IPY_MODEL_4192a13ad224480687bb7e7c207c8da8",
        "IPY_MODEL_e186c0931b7c4f9ab41811a8bb06ae40"
       ],
       "layout": "IPY_MODEL_18bcadd0b3f348be8eda1c3fff18d1ab"
      }
     },
     "60311aed131d4982a4573bd77a57edab": {
      "model_module": "@jupyter-widgets/controls",
      "model_module_version": "2.0.0",
      "model_name": "ProgressStyleModel",
      "state": {
       "description_width": ""
      }
     },
     "60b12979b7f24c9b94e8376e441da270": {
      "model_module": "@jupyter-widgets/base",
      "model_module_version": "2.0.0",
      "model_name": "LayoutModel",
      "state": {}
     },
     "61198ddcfcfc47f0ab3b1e6776d7462c": {
      "model_module": "@jupyter-widgets/controls",
      "model_module_version": "2.0.0",
      "model_name": "ProgressStyleModel",
      "state": {
       "description_width": ""
      }
     },
     "6364f32e23324511834966b2536b7197": {
      "model_module": "@jupyter-widgets/controls",
      "model_module_version": "2.0.0",
      "model_name": "HTMLStyleModel",
      "state": {
       "description_width": "",
       "font_size": null,
       "text_color": null
      }
     },
     "63eb290bdaf44ff098ee060251e7e4a5": {
      "model_module": "@jupyter-widgets/controls",
      "model_module_version": "2.0.0",
      "model_name": "HTMLStyleModel",
      "state": {
       "description_width": "",
       "font_size": null,
       "text_color": null
      }
     },
     "667d17bf04f94fe6bb440f555902a358": {
      "model_module": "@jupyter-widgets/base",
      "model_module_version": "2.0.0",
      "model_name": "LayoutModel",
      "state": {}
     },
     "6743721003cc48d39f2279429a2afc74": {
      "model_module": "@jupyter-widgets/base",
      "model_module_version": "2.0.0",
      "model_name": "LayoutModel",
      "state": {}
     },
     "676293ab680b45dd8acbebd2161e6318": {
      "model_module": "@jupyter-widgets/base",
      "model_module_version": "2.0.0",
      "model_name": "LayoutModel",
      "state": {}
     },
     "67d76d8bd1b540a9ad401be4f971c8e0": {
      "model_module": "@jupyter-widgets/base",
      "model_module_version": "2.0.0",
      "model_name": "LayoutModel",
      "state": {}
     },
     "689523485aa24add9311c0b8438b81d0": {
      "model_module": "@jupyter-widgets/controls",
      "model_module_version": "2.0.0",
      "model_name": "FloatProgressModel",
      "state": {
       "bar_style": "success",
       "layout": "IPY_MODEL_72535eefcc50498cba229669e4d84202",
       "max": 3519,
       "style": "IPY_MODEL_b48cd774dfc344da8a1131fb47273576",
       "value": 3519
      }
     },
     "6a9030501e1d408bb02931ce025ccbfc": {
      "model_module": "@jupyter-widgets/base",
      "model_module_version": "2.0.0",
      "model_name": "LayoutModel",
      "state": {}
     },
     "6bc02de285c349a59e2d845f7172df9f": {
      "model_module": "@jupyter-widgets/controls",
      "model_module_version": "2.0.0",
      "model_name": "FloatProgressModel",
      "state": {
       "bar_style": "success",
       "layout": "IPY_MODEL_778a2879ca0c4302b55da148973d6216",
       "max": 3519,
       "style": "IPY_MODEL_c661f0bb3ab547e3be2ff70d8614337a",
       "value": 3519
      }
     },
     "6c788a282ffd4ef4a52184782a5c1bef": {
      "model_module": "@jupyter-widgets/controls",
      "model_module_version": "2.0.0",
      "model_name": "ProgressStyleModel",
      "state": {
       "description_width": ""
      }
     },
     "6c95922528c24555817f49353f93f193": {
      "model_module": "@jupyter-widgets/base",
      "model_module_version": "2.0.0",
      "model_name": "LayoutModel",
      "state": {}
     },
     "6d429c5e8c2742cea5e7ba05a4272ef9": {
      "model_module": "@jupyter-widgets/base",
      "model_module_version": "2.0.0",
      "model_name": "LayoutModel",
      "state": {}
     },
     "6d520f5e8369440a93796cda19bb42c5": {
      "model_module": "@jupyter-widgets/controls",
      "model_module_version": "2.0.0",
      "model_name": "FloatProgressModel",
      "state": {
       "bar_style": "success",
       "layout": "IPY_MODEL_45cbe1e2087b46658937630fb77d2bc4",
       "max": 3519,
       "style": "IPY_MODEL_1c9abb5174984980a9ba1e141974dd31",
       "value": 3519
      }
     },
     "6f6fb989415d41439c7c1a0bce38b803": {
      "model_module": "@jupyter-widgets/base",
      "model_module_version": "2.0.0",
      "model_name": "LayoutModel",
      "state": {}
     },
     "6f8360a8930749ddb3cfdb5f1648325d": {
      "model_module": "@jupyter-widgets/controls",
      "model_module_version": "2.0.0",
      "model_name": "HTMLStyleModel",
      "state": {
       "description_width": "",
       "font_size": null,
       "text_color": null
      }
     },
     "7087d6938d4e4225acf6944d18236518": {
      "model_module": "@jupyter-widgets/controls",
      "model_module_version": "2.0.0",
      "model_name": "HTMLModel",
      "state": {
       "layout": "IPY_MODEL_75987e0261ed4230814cf6a9c1866d05",
       "style": "IPY_MODEL_b1a5dfbbf249436f99830774ef961086",
       "value": "Training epoch 4:: 100%"
      }
     },
     "70eeaccda33a4ae3855f6e0b59c6dc38": {
      "model_module": "@jupyter-widgets/base",
      "model_module_version": "2.0.0",
      "model_name": "LayoutModel",
      "state": {}
     },
     "72535eefcc50498cba229669e4d84202": {
      "model_module": "@jupyter-widgets/base",
      "model_module_version": "2.0.0",
      "model_name": "LayoutModel",
      "state": {}
     },
     "72c24b21f7324165a65e95b84aa7883f": {
      "model_module": "@jupyter-widgets/base",
      "model_module_version": "2.0.0",
      "model_name": "LayoutModel",
      "state": {}
     },
     "73108f7c46ca46df98c368216e161273": {
      "model_module": "@jupyter-widgets/controls",
      "model_module_version": "2.0.0",
      "model_name": "HTMLStyleModel",
      "state": {
       "description_width": "",
       "font_size": null,
       "text_color": null
      }
     },
     "74865a25fdd44118b92ccea9b5c449ea": {
      "model_module": "@jupyter-widgets/controls",
      "model_module_version": "2.0.0",
      "model_name": "HBoxModel",
      "state": {
       "children": [
        "IPY_MODEL_12ba3a40b1084cff9441061e0e5cf97e",
        "IPY_MODEL_e3ce000d16704f7e8f8b1cfe9db91221",
        "IPY_MODEL_b6be87bc3d514097b8e195a8844857ce"
       ],
       "layout": "IPY_MODEL_e24620d506474b43ab19ec5fb9a0aa35"
      }
     },
     "75029c853aff4da1a76a237e62730ab6": {
      "model_module": "@jupyter-widgets/controls",
      "model_module_version": "2.0.0",
      "model_name": "ProgressStyleModel",
      "state": {
       "description_width": ""
      }
     },
     "750bb7323bfc48329b2c265d5d0f4cfe": {
      "model_module": "@jupyter-widgets/controls",
      "model_module_version": "2.0.0",
      "model_name": "HTMLStyleModel",
      "state": {
       "description_width": "",
       "font_size": null,
       "text_color": null
      }
     },
     "75987e0261ed4230814cf6a9c1866d05": {
      "model_module": "@jupyter-widgets/base",
      "model_module_version": "2.0.0",
      "model_name": "LayoutModel",
      "state": {}
     },
     "75c3f1ab90554993913c49de5c54e7cb": {
      "model_module": "@jupyter-widgets/base",
      "model_module_version": "2.0.0",
      "model_name": "LayoutModel",
      "state": {}
     },
     "768f883e43e24876b01b4aaa380b1743": {
      "model_module": "@jupyter-widgets/base",
      "model_module_version": "2.0.0",
      "model_name": "LayoutModel",
      "state": {}
     },
     "769e0436ef804cd2bd5a6cd395c40ec8": {
      "model_module": "@jupyter-widgets/controls",
      "model_module_version": "2.0.0",
      "model_name": "HTMLModel",
      "state": {
       "layout": "IPY_MODEL_67d76d8bd1b540a9ad401be4f971c8e0",
       "style": "IPY_MODEL_4a9169a47a3c4484b56d97bdddf272a1",
       "value": " 3519/3519 [03:43&lt;00:00, 15.50it/s]"
      }
     },
     "76e7499040674e7f82286ee2cbe0d5ea": {
      "model_module": "@jupyter-widgets/controls",
      "model_module_version": "2.0.0",
      "model_name": "HTMLStyleModel",
      "state": {
       "description_width": "",
       "font_size": null,
       "text_color": null
      }
     },
     "770aab8936f247fea3189b7d1135a9b0": {
      "model_module": "@jupyter-widgets/controls",
      "model_module_version": "2.0.0",
      "model_name": "ProgressStyleModel",
      "state": {
       "description_width": ""
      }
     },
     "778a2879ca0c4302b55da148973d6216": {
      "model_module": "@jupyter-widgets/base",
      "model_module_version": "2.0.0",
      "model_name": "LayoutModel",
      "state": {}
     },
     "799f5c5b0ee14f4a9a89644fee584c3b": {
      "model_module": "@jupyter-widgets/controls",
      "model_module_version": "2.0.0",
      "model_name": "FloatProgressModel",
      "state": {
       "bar_style": "success",
       "layout": "IPY_MODEL_5f08a57621c0464eaf47924bd5c0beef",
       "max": 3519,
       "style": "IPY_MODEL_75029c853aff4da1a76a237e62730ab6",
       "value": 3519
      }
     },
     "79f61e3fd7fc47ce86b982342f69118b": {
      "model_module": "@jupyter-widgets/base",
      "model_module_version": "2.0.0",
      "model_name": "LayoutModel",
      "state": {}
     },
     "7ad9f5d23d5645899a5a7670d0a024f4": {
      "model_module": "@jupyter-widgets/base",
      "model_module_version": "2.0.0",
      "model_name": "LayoutModel",
      "state": {}
     },
     "7b58bbb16bd54dc3937080c1ce5004a6": {
      "model_module": "@jupyter-widgets/controls",
      "model_module_version": "2.0.0",
      "model_name": "FloatProgressModel",
      "state": {
       "bar_style": "success",
       "layout": "IPY_MODEL_b863f29df2c64635ba5edec213db0fb9",
       "max": 3519,
       "style": "IPY_MODEL_a51a6a2105bc400c92cc7170f3d38113",
       "value": 3519
      }
     },
     "7cb8252189434bc49d8a7278334654ce": {
      "model_module": "@jupyter-widgets/controls",
      "model_module_version": "2.0.0",
      "model_name": "HTMLStyleModel",
      "state": {
       "description_width": "",
       "font_size": null,
       "text_color": null
      }
     },
     "7ce675b92a644b53a3c6af80d0746a89": {
      "model_module": "@jupyter-widgets/controls",
      "model_module_version": "2.0.0",
      "model_name": "HBoxModel",
      "state": {
       "children": [
        "IPY_MODEL_04c0b25ed81243d79e27ee053abf3f9b",
        "IPY_MODEL_2cf32b2f88cc4a40bcaeb5bda1d8a9f7",
        "IPY_MODEL_e708d123318d4dffb8a3b3045f3b90cc"
       ],
       "layout": "IPY_MODEL_6d429c5e8c2742cea5e7ba05a4272ef9"
      }
     },
     "7d26c346d8c94bd4b85f8c71a89fd5b2": {
      "model_module": "@jupyter-widgets/controls",
      "model_module_version": "2.0.0",
      "model_name": "HTMLStyleModel",
      "state": {
       "description_width": "",
       "font_size": null,
       "text_color": null
      }
     },
     "7db1a4bf401d4ddd938a64d0e506895a": {
      "model_module": "@jupyter-widgets/base",
      "model_module_version": "2.0.0",
      "model_name": "LayoutModel",
      "state": {}
     },
     "7e00a398800b4c36905b0246660abd8b": {
      "model_module": "@jupyter-widgets/base",
      "model_module_version": "2.0.0",
      "model_name": "LayoutModel",
      "state": {}
     },
     "7e44cb11e3ea4d07b861dbd25836782e": {
      "model_module": "@jupyter-widgets/base",
      "model_module_version": "2.0.0",
      "model_name": "LayoutModel",
      "state": {}
     },
     "82456af1a2334931b7c6b2d4e9810202": {
      "model_module": "@jupyter-widgets/base",
      "model_module_version": "2.0.0",
      "model_name": "LayoutModel",
      "state": {}
     },
     "83e5d14e155c4168aa1678283f3cd80a": {
      "model_module": "@jupyter-widgets/base",
      "model_module_version": "2.0.0",
      "model_name": "LayoutModel",
      "state": {}
     },
     "84311703954a44d4b8440512b5704947": {
      "model_module": "@jupyter-widgets/base",
      "model_module_version": "2.0.0",
      "model_name": "LayoutModel",
      "state": {}
     },
     "84e2eefa7f4b4f40b7276ff1c9eae67f": {
      "model_module": "@jupyter-widgets/base",
      "model_module_version": "2.0.0",
      "model_name": "LayoutModel",
      "state": {}
     },
     "85cbc4033a3241d88098126196a18a3e": {
      "model_module": "@jupyter-widgets/controls",
      "model_module_version": "2.0.0",
      "model_name": "ProgressStyleModel",
      "state": {
       "description_width": ""
      }
     },
     "86a6bb0bb1564a5a8287c99ebc3f3438": {
      "model_module": "@jupyter-widgets/base",
      "model_module_version": "2.0.0",
      "model_name": "LayoutModel",
      "state": {}
     },
     "8979951fbfa14532805f7eff08da9406": {
      "model_module": "@jupyter-widgets/controls",
      "model_module_version": "2.0.0",
      "model_name": "FloatProgressModel",
      "state": {
       "bar_style": "success",
       "layout": "IPY_MODEL_f5b3e50160d747519d12a24f6c82ab42",
       "max": 3519,
       "style": "IPY_MODEL_4b0bfa9a27034dc8bc9af9785ab09579",
       "value": 3519
      }
     },
     "89826e245f674dc7b58bdf3b2fe34328": {
      "model_module": "@jupyter-widgets/controls",
      "model_module_version": "2.0.0",
      "model_name": "ProgressStyleModel",
      "state": {
       "description_width": ""
      }
     },
     "89ee051361594a1a8573a1ac8065d734": {
      "model_module": "@jupyter-widgets/controls",
      "model_module_version": "2.0.0",
      "model_name": "HTMLModel",
      "state": {
       "layout": "IPY_MODEL_a6bc955a81944a13abc49bd78527f7fc",
       "style": "IPY_MODEL_d7bcb86962014f72872573e7f06f34ec",
       "value": " 3519/3519 [02:42&lt;00:00, 22.00it/s]"
      }
     },
     "8a5a12d066bf4231b7da69345652cc94": {
      "model_module": "@jupyter-widgets/controls",
      "model_module_version": "2.0.0",
      "model_name": "HBoxModel",
      "state": {
       "children": [
        "IPY_MODEL_b08a4872b0f64e20b72115387618c141",
        "IPY_MODEL_f5f30e3b28af45699d1e4a2abf42d475",
        "IPY_MODEL_9a883ce82458488c981caececd74ba30"
       ],
       "layout": "IPY_MODEL_0a06d63a6dda4a769ab34b74ac854fcd"
      }
     },
     "8de4211e6d27448096bca5ef252ba79a": {
      "model_module": "@jupyter-widgets/controls",
      "model_module_version": "2.0.0",
      "model_name": "FloatProgressModel",
      "state": {
       "bar_style": "success",
       "layout": "IPY_MODEL_c6d56b0c6fe24d31b04413289b10319d",
       "max": 3519,
       "style": "IPY_MODEL_b6c29d9622b14f648b6c5457234d8b0b",
       "value": 3519
      }
     },
     "8ec4deaddfd84a428a3bc211bb523771": {
      "model_module": "@jupyter-widgets/base",
      "model_module_version": "2.0.0",
      "model_name": "LayoutModel",
      "state": {}
     },
     "90a4feb83a1646789d8bac556209c982": {
      "model_module": "@jupyter-widgets/controls",
      "model_module_version": "2.0.0",
      "model_name": "HTMLStyleModel",
      "state": {
       "description_width": "",
       "font_size": null,
       "text_color": null
      }
     },
     "90aa74308a4a4e97aab9245657c595d4": {
      "model_module": "@jupyter-widgets/controls",
      "model_module_version": "2.0.0",
      "model_name": "HTMLModel",
      "state": {
       "layout": "IPY_MODEL_12a2c5e56a624c398ce1757cc00152ff",
       "style": "IPY_MODEL_2733c79aa41b4074a85882d20bc3a4a0",
       "value": "Training epoch 4:: 100%"
      }
     },
     "91487bac778f457695f750537caff64f": {
      "model_module": "@jupyter-widgets/controls",
      "model_module_version": "2.0.0",
      "model_name": "ProgressStyleModel",
      "state": {
       "description_width": ""
      }
     },
     "926e9dda198540c797b0da9adf921546": {
      "model_module": "@jupyter-widgets/base",
      "model_module_version": "2.0.0",
      "model_name": "LayoutModel",
      "state": {}
     },
     "942f72df2a794393b9a110a803c52cd4": {
      "model_module": "@jupyter-widgets/controls",
      "model_module_version": "2.0.0",
      "model_name": "HBoxModel",
      "state": {
       "children": [
        "IPY_MODEL_1dca836244a04adfb3c48a1e8bdeb377",
        "IPY_MODEL_0f0ea19ed3584c91b177386b15a465b1",
        "IPY_MODEL_2ef944fd3feb47c0ba24acde080149be"
       ],
       "layout": "IPY_MODEL_1009a4b31dc946eda1e3adb84da89f3e"
      }
     },
     "94833430b64c4943a7d2797fc2386b9f": {
      "model_module": "@jupyter-widgets/controls",
      "model_module_version": "2.0.0",
      "model_name": "HTMLStyleModel",
      "state": {
       "description_width": "",
       "font_size": null,
       "text_color": null
      }
     },
     "94d6bdc3eee743c5868755fe7baf9efc": {
      "model_module": "@jupyter-widgets/base",
      "model_module_version": "2.0.0",
      "model_name": "LayoutModel",
      "state": {}
     },
     "9520429b07534c14a264aa3ed6063768": {
      "model_module": "@jupyter-widgets/base",
      "model_module_version": "2.0.0",
      "model_name": "LayoutModel",
      "state": {}
     },
     "97c77406c9e54a0f89dfe50eca1f5e91": {
      "model_module": "@jupyter-widgets/controls",
      "model_module_version": "2.0.0",
      "model_name": "HTMLStyleModel",
      "state": {
       "description_width": "",
       "font_size": null,
       "text_color": null
      }
     },
     "982e647eb5e441a3a7b3a6752671a157": {
      "model_module": "@jupyter-widgets/base",
      "model_module_version": "2.0.0",
      "model_name": "LayoutModel",
      "state": {}
     },
     "992c0cd1412f473cbae1f22021be9575": {
      "model_module": "@jupyter-widgets/controls",
      "model_module_version": "2.0.0",
      "model_name": "HTMLModel",
      "state": {
       "layout": "IPY_MODEL_ca5778b0e13c4fa1b5b0c783c20843a9",
       "style": "IPY_MODEL_3c3da4d2564942fb8ab368d54ed91f7c",
       "value": " 3519/3519 [03:43&lt;00:00, 15.39it/s]"
      }
     },
     "9a883ce82458488c981caececd74ba30": {
      "model_module": "@jupyter-widgets/controls",
      "model_module_version": "2.0.0",
      "model_name": "HTMLModel",
      "state": {
       "layout": "IPY_MODEL_b7af91bf5c504681a7343b0a787ac5c0",
       "style": "IPY_MODEL_7d26c346d8c94bd4b85f8c71a89fd5b2",
       "value": " 3519/3519 [03:46&lt;00:00, 15.97it/s]"
      }
     },
     "9b9b377bba00473c822dcb9541374f67": {
      "model_module": "@jupyter-widgets/base",
      "model_module_version": "2.0.0",
      "model_name": "LayoutModel",
      "state": {}
     },
     "9c03afc3c79f4ec5a9fd08e44eb81a60": {
      "model_module": "@jupyter-widgets/controls",
      "model_module_version": "2.0.0",
      "model_name": "HTMLModel",
      "state": {
       "layout": "IPY_MODEL_f2d0407366a941b7a616ed95aa012bdf",
       "style": "IPY_MODEL_a62b0c2b97b7418c8a8483a570db2f33",
       "value": "Training epoch 4:: 100%"
      }
     },
     "9cbbe0c7fb1740f98a70672e1ff29fca": {
      "model_module": "@jupyter-widgets/controls",
      "model_module_version": "2.0.0",
      "model_name": "HTMLModel",
      "state": {
       "layout": "IPY_MODEL_507f2c8c13234bd8b21b693e11b8c2e5",
       "style": "IPY_MODEL_f247121e563544f09e2072f683218026",
       "value": " 3519/3519 [02:43&lt;00:00, 21.78it/s]"
      }
     },
     "9d4f4018c6214af9b637729aac28a604": {
      "model_module": "@jupyter-widgets/base",
      "model_module_version": "2.0.0",
      "model_name": "LayoutModel",
      "state": {}
     },
     "9da6b46fa8fa473c9ad113f61a42c0c0": {
      "model_module": "@jupyter-widgets/base",
      "model_module_version": "2.0.0",
      "model_name": "LayoutModel",
      "state": {}
     },
     "9fc584be4c594220ae1ad74b5a5f3d92": {
      "model_module": "@jupyter-widgets/base",
      "model_module_version": "2.0.0",
      "model_name": "LayoutModel",
      "state": {}
     },
     "9ff651b0bfdd412a99bfaa3ab125361c": {
      "model_module": "@jupyter-widgets/controls",
      "model_module_version": "2.0.0",
      "model_name": "HBoxModel",
      "state": {
       "children": [
        "IPY_MODEL_f1aed9a8cb9a4f2580169e0bdf831401",
        "IPY_MODEL_44d6da04c82e482a9c8402b118545371",
        "IPY_MODEL_4fe56e72759a4571a1dbc92e4f4cc96a"
       ],
       "layout": "IPY_MODEL_d3f13a8cb7704356973dbc25b107b45d"
      }
     },
     "a452a9fb48fd42c18d4be1645cd24e42": {
      "model_module": "@jupyter-widgets/controls",
      "model_module_version": "2.0.0",
      "model_name": "HTMLStyleModel",
      "state": {
       "description_width": "",
       "font_size": null,
       "text_color": null
      }
     },
     "a4d70547857242a08124847ff89ba843": {
      "model_module": "@jupyter-widgets/controls",
      "model_module_version": "2.0.0",
      "model_name": "HTMLModel",
      "state": {
       "layout": "IPY_MODEL_29941ea1dec34f01bb7a4cf43cd76359",
       "style": "IPY_MODEL_94833430b64c4943a7d2797fc2386b9f",
       "value": "Training epoch 0:: 100%"
      }
     },
     "a51a6a2105bc400c92cc7170f3d38113": {
      "model_module": "@jupyter-widgets/controls",
      "model_module_version": "2.0.0",
      "model_name": "ProgressStyleModel",
      "state": {
       "description_width": ""
      }
     },
     "a62b0c2b97b7418c8a8483a570db2f33": {
      "model_module": "@jupyter-widgets/controls",
      "model_module_version": "2.0.0",
      "model_name": "HTMLStyleModel",
      "state": {
       "description_width": "",
       "font_size": null,
       "text_color": null
      }
     },
     "a68c1ba787da48839e7354c941885889": {
      "model_module": "@jupyter-widgets/base",
      "model_module_version": "2.0.0",
      "model_name": "LayoutModel",
      "state": {}
     },
     "a6bc955a81944a13abc49bd78527f7fc": {
      "model_module": "@jupyter-widgets/base",
      "model_module_version": "2.0.0",
      "model_name": "LayoutModel",
      "state": {}
     },
     "a6becef118d24cfe88147b9088e603e1": {
      "model_module": "@jupyter-widgets/controls",
      "model_module_version": "2.0.0",
      "model_name": "HTMLStyleModel",
      "state": {
       "description_width": "",
       "font_size": null,
       "text_color": null
      }
     },
     "a6cbae2a0dac4473b7e75d2772eb71ea": {
      "model_module": "@jupyter-widgets/controls",
      "model_module_version": "2.0.0",
      "model_name": "HTMLModel",
      "state": {
       "layout": "IPY_MODEL_41ce859acd4c4488b8893b12052d7356",
       "style": "IPY_MODEL_dfe711476a3a48d38e792e1da6ba69aa",
       "value": "Training epoch 4:: 100%"
      }
     },
     "a8b2b5dedd9e4edb931058faacf7fb3a": {
      "model_module": "@jupyter-widgets/controls",
      "model_module_version": "2.0.0",
      "model_name": "HBoxModel",
      "state": {
       "children": [
        "IPY_MODEL_a4d70547857242a08124847ff89ba843",
        "IPY_MODEL_347f51e85e0942579ada58e9ad321f7e",
        "IPY_MODEL_e96cd6d9c04643178958a8574dc059bf"
       ],
       "layout": "IPY_MODEL_bb29b340997843d2965882069b1388bc"
      }
     },
     "a8b9a578ab28453e89c80cdfdd96dd4c": {
      "model_module": "@jupyter-widgets/base",
      "model_module_version": "2.0.0",
      "model_name": "LayoutModel",
      "state": {}
     },
     "a97e5cd9b1a0434582a0669e8e0112be": {
      "model_module": "@jupyter-widgets/controls",
      "model_module_version": "2.0.0",
      "model_name": "HTMLModel",
      "state": {
       "layout": "IPY_MODEL_e2fe7ec7d13543c393bb5b66452728b9",
       "style": "IPY_MODEL_cbdc0fb3cf454e7db17e41408f41aafc",
       "value": " 3519/3519 [03:02&lt;00:00, 22.33it/s]"
      }
     },
     "aa8289fff8db4559b12b873a66cc6b67": {
      "model_module": "@jupyter-widgets/controls",
      "model_module_version": "2.0.0",
      "model_name": "HTMLStyleModel",
      "state": {
       "description_width": "",
       "font_size": null,
       "text_color": null
      }
     },
     "afdbd7068be248a7abfbc98a513b8482": {
      "model_module": "@jupyter-widgets/controls",
      "model_module_version": "2.0.0",
      "model_name": "HBoxModel",
      "state": {
       "children": [
        "IPY_MODEL_43ef05b43df840daac6590d0373a8c93",
        "IPY_MODEL_7b58bbb16bd54dc3937080c1ce5004a6",
        "IPY_MODEL_28ce42113e5e423e85b4e21fd3d7c3ee"
       ],
       "layout": "IPY_MODEL_8ec4deaddfd84a428a3bc211bb523771"
      }
     },
     "b08a3643cf6849c3acf50d53064a1221": {
      "model_module": "@jupyter-widgets/base",
      "model_module_version": "2.0.0",
      "model_name": "LayoutModel",
      "state": {}
     },
     "b08a4872b0f64e20b72115387618c141": {
      "model_module": "@jupyter-widgets/controls",
      "model_module_version": "2.0.0",
      "model_name": "HTMLModel",
      "state": {
       "layout": "IPY_MODEL_298c3bec3dc34c3c9bee1b91d9c3206a",
       "style": "IPY_MODEL_76e7499040674e7f82286ee2cbe0d5ea",
       "value": "Training epoch 3:: 100%"
      }
     },
     "b094ced474e34244910a6a5e59e7b05c": {
      "model_module": "@jupyter-widgets/controls",
      "model_module_version": "2.0.0",
      "model_name": "HTMLStyleModel",
      "state": {
       "description_width": "",
       "font_size": null,
       "text_color": null
      }
     },
     "b0c98bff9b6e4c34856be03ab4ff5d03": {
      "model_module": "@jupyter-widgets/controls",
      "model_module_version": "2.0.0",
      "model_name": "HBoxModel",
      "state": {
       "children": [
        "IPY_MODEL_defb4dca506b40fe92190ea9efb909a3",
        "IPY_MODEL_6bc02de285c349a59e2d845f7172df9f",
        "IPY_MODEL_d51390e180f244c1b1bd6ac5a29b4dc9"
       ],
       "layout": "IPY_MODEL_75c3f1ab90554993913c49de5c54e7cb"
      }
     },
     "b1a5dfbbf249436f99830774ef961086": {
      "model_module": "@jupyter-widgets/controls",
      "model_module_version": "2.0.0",
      "model_name": "HTMLStyleModel",
      "state": {
       "description_width": "",
       "font_size": null,
       "text_color": null
      }
     },
     "b27d093302b04f6f89e516a3169f00e0": {
      "model_module": "@jupyter-widgets/controls",
      "model_module_version": "2.0.0",
      "model_name": "HTMLModel",
      "state": {
       "layout": "IPY_MODEL_099f5862880347c3807b09f2516fa3fe",
       "style": "IPY_MODEL_fe85db90b61f44eca8265fb9423fd4b0",
       "value": "Training epoch 3:: 100%"
      }
     },
     "b3964a6214974102b9e096c54ddc0c06": {
      "model_module": "@jupyter-widgets/controls",
      "model_module_version": "2.0.0",
      "model_name": "HTMLStyleModel",
      "state": {
       "description_width": "",
       "font_size": null,
       "text_color": null
      }
     },
     "b4496c49578d4368a57af0cd2ff6bccc": {
      "model_module": "@jupyter-widgets/controls",
      "model_module_version": "2.0.0",
      "model_name": "HTMLModel",
      "state": {
       "layout": "IPY_MODEL_72c24b21f7324165a65e95b84aa7883f",
       "style": "IPY_MODEL_ff59fe02b9874286aaaa04c89d4a9dcc",
       "value": "Training epoch 2:: 100%"
      }
     },
     "b48cd774dfc344da8a1131fb47273576": {
      "model_module": "@jupyter-widgets/controls",
      "model_module_version": "2.0.0",
      "model_name": "ProgressStyleModel",
      "state": {
       "description_width": ""
      }
     },
     "b567c482e2de4d2aa8f3ffcf44245592": {
      "model_module": "@jupyter-widgets/controls",
      "model_module_version": "2.0.0",
      "model_name": "FloatProgressModel",
      "state": {
       "bar_style": "success",
       "layout": "IPY_MODEL_4ca43a654189446f99bce314f8a99451",
       "max": 3519,
       "style": "IPY_MODEL_6c788a282ffd4ef4a52184782a5c1bef",
       "value": 3519
      }
     },
     "b60254b5e1174260b944ee59cdf9d521": {
      "model_module": "@jupyter-widgets/base",
      "model_module_version": "2.0.0",
      "model_name": "LayoutModel",
      "state": {}
     },
     "b649f6b3e7ce4334ad6217b4856c9886": {
      "model_module": "@jupyter-widgets/controls",
      "model_module_version": "2.0.0",
      "model_name": "HBoxModel",
      "state": {
       "children": [
        "IPY_MODEL_d24038c9718c4c3f963b024f9a154691",
        "IPY_MODEL_c42879481d7b4c84b2902ae64311d4a4",
        "IPY_MODEL_f95cfa028b1143d3bc947e029acb10da"
       ],
       "layout": "IPY_MODEL_79f61e3fd7fc47ce86b982342f69118b"
      }
     },
     "b681e8660099447a8967cba3f4a4f6ca": {
      "model_module": "@jupyter-widgets/controls",
      "model_module_version": "2.0.0",
      "model_name": "HTMLStyleModel",
      "state": {
       "description_width": "",
       "font_size": null,
       "text_color": null
      }
     },
     "b68c9bbc90604f22b1bd2217c19692ad": {
      "model_module": "@jupyter-widgets/controls",
      "model_module_version": "2.0.0",
      "model_name": "HTMLStyleModel",
      "state": {
       "description_width": "",
       "font_size": null,
       "text_color": null
      }
     },
     "b6aeba006e7e498aa0bb7582064a8192": {
      "model_module": "@jupyter-widgets/controls",
      "model_module_version": "2.0.0",
      "model_name": "HBoxModel",
      "state": {
       "children": [
        "IPY_MODEL_4aa63be35a52462f8dc1e28e50035f22",
        "IPY_MODEL_15edc0d6ddd14992b4f71c2cd342dde7",
        "IPY_MODEL_769e0436ef804cd2bd5a6cd395c40ec8"
       ],
       "layout": "IPY_MODEL_b6d89f7cbc54437f84b7a109db3f39a8"
      }
     },
     "b6be87bc3d514097b8e195a8844857ce": {
      "model_module": "@jupyter-widgets/controls",
      "model_module_version": "2.0.0",
      "model_name": "HTMLModel",
      "state": {
       "layout": "IPY_MODEL_7db1a4bf401d4ddd938a64d0e506895a",
       "style": "IPY_MODEL_63eb290bdaf44ff098ee060251e7e4a5",
       "value": " 2279/3519 [01:44&lt;00:56, 21.83it/s]"
      }
     },
     "b6c29d9622b14f648b6c5457234d8b0b": {
      "model_module": "@jupyter-widgets/controls",
      "model_module_version": "2.0.0",
      "model_name": "ProgressStyleModel",
      "state": {
       "description_width": ""
      }
     },
     "b6d89f7cbc54437f84b7a109db3f39a8": {
      "model_module": "@jupyter-widgets/base",
      "model_module_version": "2.0.0",
      "model_name": "LayoutModel",
      "state": {}
     },
     "b7af91bf5c504681a7343b0a787ac5c0": {
      "model_module": "@jupyter-widgets/base",
      "model_module_version": "2.0.0",
      "model_name": "LayoutModel",
      "state": {}
     },
     "b863f29df2c64635ba5edec213db0fb9": {
      "model_module": "@jupyter-widgets/base",
      "model_module_version": "2.0.0",
      "model_name": "LayoutModel",
      "state": {}
     },
     "b94385c7e2cb406ca27b4fe09cccc0b6": {
      "model_module": "@jupyter-widgets/base",
      "model_module_version": "2.0.0",
      "model_name": "LayoutModel",
      "state": {}
     },
     "bac76043617e4f7c9c5248ab76ce1451": {
      "model_module": "@jupyter-widgets/controls",
      "model_module_version": "2.0.0",
      "model_name": "ProgressStyleModel",
      "state": {
       "description_width": ""
      }
     },
     "bb29b340997843d2965882069b1388bc": {
      "model_module": "@jupyter-widgets/base",
      "model_module_version": "2.0.0",
      "model_name": "LayoutModel",
      "state": {}
     },
     "bb4796a120a04db591fa7cf3c9323b0d": {
      "model_module": "@jupyter-widgets/controls",
      "model_module_version": "2.0.0",
      "model_name": "FloatProgressModel",
      "state": {
       "bar_style": "success",
       "layout": "IPY_MODEL_0229f55fe5504d33b370903cf0bda85a",
       "max": 3519,
       "style": "IPY_MODEL_2edd5097ce614deeab80a271fae1009e",
       "value": 3519
      }
     },
     "bb5cf765f4954a87b7316526f4b011e5": {
      "model_module": "@jupyter-widgets/controls",
      "model_module_version": "2.0.0",
      "model_name": "HTMLStyleModel",
      "state": {
       "description_width": "",
       "font_size": null,
       "text_color": null
      }
     },
     "c1a758f44a24473ba7b56a597cc612c6": {
      "model_module": "@jupyter-widgets/controls",
      "model_module_version": "2.0.0",
      "model_name": "ProgressStyleModel",
      "state": {
       "description_width": ""
      }
     },
     "c3261d5b14c2409c99ea78cba87bbeea": {
      "model_module": "@jupyter-widgets/controls",
      "model_module_version": "2.0.0",
      "model_name": "HTMLStyleModel",
      "state": {
       "description_width": "",
       "font_size": null,
       "text_color": null
      }
     },
     "c3e314ede9a941b8839ef005e56f7c39": {
      "model_module": "@jupyter-widgets/controls",
      "model_module_version": "2.0.0",
      "model_name": "HTMLModel",
      "state": {
       "layout": "IPY_MODEL_e1dd51909f544d6488cc69ccd505dce5",
       "style": "IPY_MODEL_3ab194f8ba4a45c7a4c721571d94a006",
       "value": "Training epoch 1:: 100%"
      }
     },
     "c42879481d7b4c84b2902ae64311d4a4": {
      "model_module": "@jupyter-widgets/controls",
      "model_module_version": "2.0.0",
      "model_name": "FloatProgressModel",
      "state": {
       "bar_style": "success",
       "layout": "IPY_MODEL_b60254b5e1174260b944ee59cdf9d521",
       "max": 3519,
       "style": "IPY_MODEL_2a5a2c939c6c445099e60d489c447a0c",
       "value": 3519
      }
     },
     "c661f0bb3ab547e3be2ff70d8614337a": {
      "model_module": "@jupyter-widgets/controls",
      "model_module_version": "2.0.0",
      "model_name": "ProgressStyleModel",
      "state": {
       "description_width": ""
      }
     },
     "c6d56b0c6fe24d31b04413289b10319d": {
      "model_module": "@jupyter-widgets/base",
      "model_module_version": "2.0.0",
      "model_name": "LayoutModel",
      "state": {}
     },
     "c9539916f93f4cc7a0c13e86b323c10b": {
      "model_module": "@jupyter-widgets/controls",
      "model_module_version": "2.0.0",
      "model_name": "HBoxModel",
      "state": {
       "children": [
        "IPY_MODEL_c3e314ede9a941b8839ef005e56f7c39",
        "IPY_MODEL_4d0670b72639438a95b021b34141ee03",
        "IPY_MODEL_589299e3c4bb484482b808baf333a1c5"
       ],
       "layout": "IPY_MODEL_3ba366eceda34a65b122f43939bc1065"
      }
     },
     "c98b60f279044b21a10f416228a43ad0": {
      "model_module": "@jupyter-widgets/controls",
      "model_module_version": "2.0.0",
      "model_name": "HBoxModel",
      "state": {
       "children": [
        "IPY_MODEL_1203f823e9e94866b062fe4341a4f328",
        "IPY_MODEL_b567c482e2de4d2aa8f3ffcf44245592",
        "IPY_MODEL_89ee051361594a1a8573a1ac8065d734"
       ],
       "layout": "IPY_MODEL_e8a590d51822480aa4e112055af23975"
      }
     },
     "ca0b342f014a47809cf75370e7f46ffc": {
      "model_module": "@jupyter-widgets/controls",
      "model_module_version": "2.0.0",
      "model_name": "FloatProgressModel",
      "state": {
       "bar_style": "success",
       "layout": "IPY_MODEL_9b9b377bba00473c822dcb9541374f67",
       "max": 3519,
       "style": "IPY_MODEL_85cbc4033a3241d88098126196a18a3e",
       "value": 3519
      }
     },
     "ca5778b0e13c4fa1b5b0c783c20843a9": {
      "model_module": "@jupyter-widgets/base",
      "model_module_version": "2.0.0",
      "model_name": "LayoutModel",
      "state": {}
     },
     "cbdc0fb3cf454e7db17e41408f41aafc": {
      "model_module": "@jupyter-widgets/controls",
      "model_module_version": "2.0.0",
      "model_name": "HTMLStyleModel",
      "state": {
       "description_width": "",
       "font_size": null,
       "text_color": null
      }
     },
     "ccb1d6550ee140c8b53fb8e6f864c48f": {
      "model_module": "@jupyter-widgets/controls",
      "model_module_version": "2.0.0",
      "model_name": "FloatProgressModel",
      "state": {
       "bar_style": "success",
       "layout": "IPY_MODEL_82456af1a2334931b7c6b2d4e9810202",
       "max": 3519,
       "style": "IPY_MODEL_61198ddcfcfc47f0ab3b1e6776d7462c",
       "value": 3519
      }
     },
     "ccd98c5698894a609fbcff14593867a8": {
      "model_module": "@jupyter-widgets/controls",
      "model_module_version": "2.0.0",
      "model_name": "ProgressStyleModel",
      "state": {
       "description_width": ""
      }
     },
     "cd3393e78f8243ec923d0e9143be4ed1": {
      "model_module": "@jupyter-widgets/controls",
      "model_module_version": "2.0.0",
      "model_name": "HTMLStyleModel",
      "state": {
       "description_width": "",
       "font_size": null,
       "text_color": null
      }
     },
     "ce1f7f0363e843f3b30250c58f2dea36": {
      "model_module": "@jupyter-widgets/base",
      "model_module_version": "2.0.0",
      "model_name": "LayoutModel",
      "state": {}
     },
     "cee0f56ebaed4a7baf9d107fd4ddcf7d": {
      "model_module": "@jupyter-widgets/base",
      "model_module_version": "2.0.0",
      "model_name": "LayoutModel",
      "state": {}
     },
     "d24038c9718c4c3f963b024f9a154691": {
      "model_module": "@jupyter-widgets/controls",
      "model_module_version": "2.0.0",
      "model_name": "HTMLModel",
      "state": {
       "layout": "IPY_MODEL_0a4b903aed52459293f817ba00d9318b",
       "style": "IPY_MODEL_6364f32e23324511834966b2536b7197",
       "value": "Training epoch 0:: 100%"
      }
     },
     "d26e1d6110fa4e789edb690ff9ed142c": {
      "model_module": "@jupyter-widgets/controls",
      "model_module_version": "2.0.0",
      "model_name": "HTMLModel",
      "state": {
       "layout": "IPY_MODEL_f9ea622412b14b0fbfc305c1c7288d41",
       "style": "IPY_MODEL_aa8289fff8db4559b12b873a66cc6b67",
       "value": " 3519/3519 [03:44&lt;00:00, 15.84it/s]"
      }
     },
     "d27ba6bc46a345bea71bfd8e1673f205": {
      "model_module": "@jupyter-widgets/controls",
      "model_module_version": "2.0.0",
      "model_name": "HTMLModel",
      "state": {
       "layout": "IPY_MODEL_7ad9f5d23d5645899a5a7670d0a024f4",
       "style": "IPY_MODEL_750bb7323bfc48329b2c265d5d0f4cfe",
       "value": "Training epoch 2:: 100%"
      }
     },
     "d3f13a8cb7704356973dbc25b107b45d": {
      "model_module": "@jupyter-widgets/base",
      "model_module_version": "2.0.0",
      "model_name": "LayoutModel",
      "state": {}
     },
     "d51390e180f244c1b1bd6ac5a29b4dc9": {
      "model_module": "@jupyter-widgets/controls",
      "model_module_version": "2.0.0",
      "model_name": "HTMLModel",
      "state": {
       "layout": "IPY_MODEL_1255ce15d01e4becaf2fc547df37403e",
       "style": "IPY_MODEL_73108f7c46ca46df98c368216e161273",
       "value": " 3519/3519 [03:42&lt;00:00, 16.10it/s]"
      }
     },
     "d564ee72f37d4f6aa20d3f80ca4a4a55": {
      "model_module": "@jupyter-widgets/controls",
      "model_module_version": "2.0.0",
      "model_name": "HTMLStyleModel",
      "state": {
       "description_width": "",
       "font_size": null,
       "text_color": null
      }
     },
     "d5ea371563c74a8b84e81b5a510c85fc": {
      "model_module": "@jupyter-widgets/base",
      "model_module_version": "2.0.0",
      "model_name": "LayoutModel",
      "state": {}
     },
     "d7a761f25bf84546b1567c66262bd898": {
      "model_module": "@jupyter-widgets/base",
      "model_module_version": "2.0.0",
      "model_name": "LayoutModel",
      "state": {}
     },
     "d7bcb86962014f72872573e7f06f34ec": {
      "model_module": "@jupyter-widgets/controls",
      "model_module_version": "2.0.0",
      "model_name": "HTMLStyleModel",
      "state": {
       "description_width": "",
       "font_size": null,
       "text_color": null
      }
     },
     "da132243e6cb48b4b646c79ed2abeeeb": {
      "model_module": "@jupyter-widgets/controls",
      "model_module_version": "2.0.0",
      "model_name": "HTMLStyleModel",
      "state": {
       "description_width": "",
       "font_size": null,
       "text_color": null
      }
     },
     "daa54c3c725e474dbde970923e274bef": {
      "model_module": "@jupyter-widgets/controls",
      "model_module_version": "2.0.0",
      "model_name": "HTMLModel",
      "state": {
       "layout": "IPY_MODEL_982e647eb5e441a3a7b3a6752671a157",
       "style": "IPY_MODEL_42a452079f8145168834ad346b8aae03",
       "value": "Training epoch 3:: 100%"
      }
     },
     "db5a564225ee42f8b83b613c89e2a3cc": {
      "model_module": "@jupyter-widgets/base",
      "model_module_version": "2.0.0",
      "model_name": "LayoutModel",
      "state": {}
     },
     "dbb926e6ffb54951b9e0ae14d29922a1": {
      "model_module": "@jupyter-widgets/controls",
      "model_module_version": "2.0.0",
      "model_name": "HTMLModel",
      "state": {
       "layout": "IPY_MODEL_0babf947cb6d43f6814487fd64ac9841",
       "style": "IPY_MODEL_e013f4d215ef47c98075a17dd5b97bef",
       "value": " 3519/3519 [03:43&lt;00:00, 15.65it/s]"
      }
     },
     "dc327eb912fe447395453e680a0ca8c1": {
      "model_module": "@jupyter-widgets/controls",
      "model_module_version": "2.0.0",
      "model_name": "HTMLStyleModel",
      "state": {
       "description_width": "",
       "font_size": null,
       "text_color": null
      }
     },
     "dcb85c022bc04c278fe2444baafe23ec": {
      "model_module": "@jupyter-widgets/controls",
      "model_module_version": "2.0.0",
      "model_name": "HTMLStyleModel",
      "state": {
       "description_width": "",
       "font_size": null,
       "text_color": null
      }
     },
     "de37ea44838448d0b492fd510caff557": {
      "model_module": "@jupyter-widgets/controls",
      "model_module_version": "2.0.0",
      "model_name": "ProgressStyleModel",
      "state": {
       "description_width": ""
      }
     },
     "defb4dca506b40fe92190ea9efb909a3": {
      "model_module": "@jupyter-widgets/controls",
      "model_module_version": "2.0.0",
      "model_name": "HTMLModel",
      "state": {
       "layout": "IPY_MODEL_ce1f7f0363e843f3b30250c58f2dea36",
       "style": "IPY_MODEL_55267c4bb8d24f39b0b2862ce7ace465",
       "value": "Training epoch 1:: 100%"
      }
     },
     "dfd2da4af6134e2aa48287b3879e1b2a": {
      "model_module": "@jupyter-widgets/controls",
      "model_module_version": "2.0.0",
      "model_name": "HTMLStyleModel",
      "state": {
       "description_width": "",
       "font_size": null,
       "text_color": null
      }
     },
     "dfe711476a3a48d38e792e1da6ba69aa": {
      "model_module": "@jupyter-widgets/controls",
      "model_module_version": "2.0.0",
      "model_name": "HTMLStyleModel",
      "state": {
       "description_width": "",
       "font_size": null,
       "text_color": null
      }
     },
     "e00a398206f946c9a10e8bb1fe4d579e": {
      "model_module": "@jupyter-widgets/controls",
      "model_module_version": "2.0.0",
      "model_name": "HTMLStyleModel",
      "state": {
       "description_width": "",
       "font_size": null,
       "text_color": null
      }
     },
     "e013f4d215ef47c98075a17dd5b97bef": {
      "model_module": "@jupyter-widgets/controls",
      "model_module_version": "2.0.0",
      "model_name": "HTMLStyleModel",
      "state": {
       "description_width": "",
       "font_size": null,
       "text_color": null
      }
     },
     "e186c0931b7c4f9ab41811a8bb06ae40": {
      "model_module": "@jupyter-widgets/controls",
      "model_module_version": "2.0.0",
      "model_name": "HTMLModel",
      "state": {
       "layout": "IPY_MODEL_86a6bb0bb1564a5a8287c99ebc3f3438",
       "style": "IPY_MODEL_d564ee72f37d4f6aa20d3f80ca4a4a55",
       "value": " 3519/3519 [03:43&lt;00:00, 15.88it/s]"
      }
     },
     "e1a73c8fefab460bb3a79838a9ea1d74": {
      "model_module": "@jupyter-widgets/controls",
      "model_module_version": "2.0.0",
      "model_name": "HTMLStyleModel",
      "state": {
       "description_width": "",
       "font_size": null,
       "text_color": null
      }
     },
     "e1dd51909f544d6488cc69ccd505dce5": {
      "model_module": "@jupyter-widgets/base",
      "model_module_version": "2.0.0",
      "model_name": "LayoutModel",
      "state": {}
     },
     "e24620d506474b43ab19ec5fb9a0aa35": {
      "model_module": "@jupyter-widgets/base",
      "model_module_version": "2.0.0",
      "model_name": "LayoutModel",
      "state": {}
     },
     "e2fe7ec7d13543c393bb5b66452728b9": {
      "model_module": "@jupyter-widgets/base",
      "model_module_version": "2.0.0",
      "model_name": "LayoutModel",
      "state": {}
     },
     "e3722ed0164946c2821eea5d39eb9cc8": {
      "model_module": "@jupyter-widgets/controls",
      "model_module_version": "2.0.0",
      "model_name": "HBoxModel",
      "state": {
       "children": [
        "IPY_MODEL_daa54c3c725e474dbde970923e274bef",
        "IPY_MODEL_ca0b342f014a47809cf75370e7f46ffc",
        "IPY_MODEL_d26e1d6110fa4e789edb690ff9ed142c"
       ],
       "layout": "IPY_MODEL_e43c850d918147d69298219097db9ed1"
      }
     },
     "e3ce000d16704f7e8f8b1cfe9db91221": {
      "model_module": "@jupyter-widgets/controls",
      "model_module_version": "2.0.0",
      "model_name": "FloatProgressModel",
      "state": {
       "bar_style": "danger",
       "layout": "IPY_MODEL_239cd28c423e436c9bca22402eefd22c",
       "max": 3519,
       "style": "IPY_MODEL_770aab8936f247fea3189b7d1135a9b0",
       "value": 2279
      }
     },
     "e43c850d918147d69298219097db9ed1": {
      "model_module": "@jupyter-widgets/base",
      "model_module_version": "2.0.0",
      "model_name": "LayoutModel",
      "state": {}
     },
     "e708d123318d4dffb8a3b3045f3b90cc": {
      "model_module": "@jupyter-widgets/controls",
      "model_module_version": "2.0.0",
      "model_name": "HTMLModel",
      "state": {
       "layout": "IPY_MODEL_60b12979b7f24c9b94e8376e441da270",
       "style": "IPY_MODEL_bb5cf765f4954a87b7316526f4b011e5",
       "value": " 2548/3519 [02:30&lt;00:57, 16.76it/s]"
      }
     },
     "e7cb080c568345fdb67cd3a18ef5db83": {
      "model_module": "@jupyter-widgets/controls",
      "model_module_version": "2.0.0",
      "model_name": "HTMLModel",
      "state": {
       "layout": "IPY_MODEL_7e44cb11e3ea4d07b861dbd25836782e",
       "style": "IPY_MODEL_3dc83a48a5624176973ccb38402d0ce4",
       "value": "100%"
      }
     },
     "e8419f1eecfb40b89b97ade98ca34a60": {
      "model_module": "@jupyter-widgets/base",
      "model_module_version": "2.0.0",
      "model_name": "LayoutModel",
      "state": {}
     },
     "e8a590d51822480aa4e112055af23975": {
      "model_module": "@jupyter-widgets/base",
      "model_module_version": "2.0.0",
      "model_name": "LayoutModel",
      "state": {}
     },
     "e96cd6d9c04643178958a8574dc059bf": {
      "model_module": "@jupyter-widgets/controls",
      "model_module_version": "2.0.0",
      "model_name": "HTMLModel",
      "state": {
       "layout": "IPY_MODEL_a8b9a578ab28453e89c80cdfdd96dd4c",
       "style": "IPY_MODEL_b3964a6214974102b9e096c54ddc0c06",
       "value": " 3519/3519 [02:43&lt;00:00, 22.43it/s]"
      }
     },
     "eaacb0392aa94f1fa881465b43303326": {
      "model_module": "@jupyter-widgets/base",
      "model_module_version": "2.0.0",
      "model_name": "LayoutModel",
      "state": {}
     },
     "ecb252e6e9bd48758b8e577ef9271622": {
      "model_module": "@jupyter-widgets/base",
      "model_module_version": "2.0.0",
      "model_name": "LayoutModel",
      "state": {}
     },
     "ed61411ccffd4517bd566d7c8e81c44d": {
      "model_module": "@jupyter-widgets/controls",
      "model_module_version": "2.0.0",
      "model_name": "ProgressStyleModel",
      "state": {
       "description_width": ""
      }
     },
     "edfb0db00212420bb12777d2b57e5eb9": {
      "model_module": "@jupyter-widgets/controls",
      "model_module_version": "2.0.0",
      "model_name": "HBoxModel",
      "state": {
       "children": [
        "IPY_MODEL_7087d6938d4e4225acf6944d18236518",
        "IPY_MODEL_00875689cf5845d8a98590951996bc65",
        "IPY_MODEL_3a34e4db2c9c4862a9ad2971eeb7eec3"
       ],
       "layout": "IPY_MODEL_7e00a398800b4c36905b0246660abd8b"
      }
     },
     "eede187be62c4884baa3a708c39afc6d": {
      "model_module": "@jupyter-widgets/base",
      "model_module_version": "2.0.0",
      "model_name": "LayoutModel",
      "state": {}
     },
     "f1aed9a8cb9a4f2580169e0bdf831401": {
      "model_module": "@jupyter-widgets/controls",
      "model_module_version": "2.0.0",
      "model_name": "HTMLModel",
      "state": {
       "layout": "IPY_MODEL_277d95a1b3c44e3cb93764e504a9b0d2",
       "style": "IPY_MODEL_6f8360a8930749ddb3cfdb5f1648325d",
       "value": "Training epoch 2:: 100%"
      }
     },
     "f247121e563544f09e2072f683218026": {
      "model_module": "@jupyter-widgets/controls",
      "model_module_version": "2.0.0",
      "model_name": "HTMLStyleModel",
      "state": {
       "description_width": "",
       "font_size": null,
       "text_color": null
      }
     },
     "f2d0407366a941b7a616ed95aa012bdf": {
      "model_module": "@jupyter-widgets/base",
      "model_module_version": "2.0.0",
      "model_name": "LayoutModel",
      "state": {}
     },
     "f328f679543b4806a892d53667b8ee4e": {
      "model_module": "@jupyter-widgets/controls",
      "model_module_version": "2.0.0",
      "model_name": "HTMLModel",
      "state": {
       "layout": "IPY_MODEL_83e5d14e155c4168aa1678283f3cd80a",
       "style": "IPY_MODEL_b094ced474e34244910a6a5e59e7b05c",
       "value": "Training epoch 0:: 100%"
      }
     },
     "f5b3e50160d747519d12a24f6c82ab42": {
      "model_module": "@jupyter-widgets/base",
      "model_module_version": "2.0.0",
      "model_name": "LayoutModel",
      "state": {}
     },
     "f5f30e3b28af45699d1e4a2abf42d475": {
      "model_module": "@jupyter-widgets/controls",
      "model_module_version": "2.0.0",
      "model_name": "FloatProgressModel",
      "state": {
       "bar_style": "success",
       "layout": "IPY_MODEL_01faf4c70671445083918c581306b149",
       "max": 3519,
       "style": "IPY_MODEL_5265e9458af04063a049260e10a5962f",
       "value": 3519
      }
     },
     "f95cfa028b1143d3bc947e029acb10da": {
      "model_module": "@jupyter-widgets/controls",
      "model_module_version": "2.0.0",
      "model_name": "HTMLModel",
      "state": {
       "layout": "IPY_MODEL_2e0c57b036db4666baecf97e09e2c335",
       "style": "IPY_MODEL_a452a9fb48fd42c18d4be1645cd24e42",
       "value": " 3519/3519 [02:42&lt;00:00, 21.61it/s]"
      }
     },
     "f9ea622412b14b0fbfc305c1c7288d41": {
      "model_module": "@jupyter-widgets/base",
      "model_module_version": "2.0.0",
      "model_name": "LayoutModel",
      "state": {}
     },
     "fb557ba96d674561bc0a0bfaa8379a6f": {
      "model_module": "@jupyter-widgets/controls",
      "model_module_version": "2.0.0",
      "model_name": "HTMLStyleModel",
      "state": {
       "description_width": "",
       "font_size": null,
       "text_color": null
      }
     },
     "fdc94d8108e3457ba10ca6d9a427fabf": {
      "model_module": "@jupyter-widgets/controls",
      "model_module_version": "2.0.0",
      "model_name": "HBoxModel",
      "state": {
       "children": [
        "IPY_MODEL_d27ba6bc46a345bea71bfd8e1673f205",
        "IPY_MODEL_bb4796a120a04db591fa7cf3c9323b0d",
        "IPY_MODEL_992c0cd1412f473cbae1f22021be9575"
       ],
       "layout": "IPY_MODEL_9d4f4018c6214af9b637729aac28a604"
      }
     },
     "fe85db90b61f44eca8265fb9423fd4b0": {
      "model_module": "@jupyter-widgets/controls",
      "model_module_version": "2.0.0",
      "model_name": "HTMLStyleModel",
      "state": {
       "description_width": "",
       "font_size": null,
       "text_color": null
      }
     },
     "ff59fe02b9874286aaaa04c89d4a9dcc": {
      "model_module": "@jupyter-widgets/controls",
      "model_module_version": "2.0.0",
      "model_name": "HTMLStyleModel",
      "state": {
       "description_width": "",
       "font_size": null,
       "text_color": null
      }
     }
    },
    "version_major": 2,
    "version_minor": 0
   }
  }
 },
 "nbformat": 4,
 "nbformat_minor": 4
}
