{
 "cells": [
  {
   "cell_type": "markdown",
   "metadata": {
    "id": "d0ADTojbpfLt"
   },
   "source": [
    "# Обучение char-level языковой модели с помощью RNN"
   ]
  },
  {
   "cell_type": "markdown",
   "metadata": {
    "id": "ldHSmYY6p_mZ"
   },
   "source": [
    "Установим модуль datasets, чтобы нам проще было работать с данными"
   ]
  },
  {
   "cell_type": "code",
   "execution_count": 1,
   "metadata": {
    "colab": {
     "base_uri": "https://localhost:8080/"
    },
    "execution": {
     "iopub.execute_input": "2025-03-02T09:20:19.705250Z",
     "iopub.status.busy": "2025-03-02T09:20:19.704256Z",
     "iopub.status.idle": "2025-03-02T09:20:26.045292Z",
     "shell.execute_reply": "2025-03-02T09:20:26.045292Z",
     "shell.execute_reply.started": "2025-03-02T09:20:19.705250Z"
    },
    "id": "3yvNdv6cp_0P",
    "outputId": "c81011e0-8a11-4893-8fbc-5af0355546fe"
   },
   "outputs": [
    {
     "name": "stderr",
     "output_type": "stream",
     "text": [
      "\n",
      "[notice] A new release of pip is available: 24.2 -> 25.0.1\n",
      "[notice] To update, run: python.exe -m pip install --upgrade pip\n"
     ]
    }
   ],
   "source": [
    "!pip install datasets -q"
   ]
  },
  {
   "cell_type": "markdown",
   "metadata": {
    "id": "rh9ZXSeCpng9"
   },
   "source": [
    "Импорт необходимых библиотек"
   ]
  },
  {
   "cell_type": "code",
   "execution_count": 2,
   "metadata": {
    "execution": {
     "iopub.execute_input": "2025-03-02T09:25:18.013949Z",
     "iopub.status.busy": "2025-03-02T09:25:18.012949Z",
     "iopub.status.idle": "2025-03-02T09:25:34.429634Z",
     "shell.execute_reply": "2025-03-02T09:25:34.429634Z",
     "shell.execute_reply.started": "2025-03-02T09:25:18.013949Z"
    },
    "id": "XOJi16bLpd_O"
   },
   "outputs": [],
   "source": [
    "import torch\n",
    "import torch.nn as nn\n",
    "from torch.utils.data import Dataset, DataLoader\n",
    "\n",
    "import numpy as np\n",
    "import matplotlib.pyplot as plt\n",
    "\n",
    "from tqdm.auto import tqdm\n",
    "\n",
    "from nltk.tokenize import sent_tokenize\n",
    "from sklearn.model_selection import train_test_split\n",
    "\n",
    "\n",
    "from collections import Counter\n",
    "\n",
    "\n",
    "import seaborn\n",
    "seaborn.set(palette='summer')"
   ]
  },
  {
   "cell_type": "code",
   "execution_count": 3,
   "metadata": {
    "colab": {
     "base_uri": "https://localhost:8080/"
    },
    "execution": {
     "iopub.execute_input": "2025-03-02T09:25:34.430640Z",
     "iopub.status.busy": "2025-03-02T09:25:34.430640Z",
     "iopub.status.idle": "2025-03-02T09:25:34.670330Z",
     "shell.execute_reply": "2025-03-02T09:25:34.670330Z",
     "shell.execute_reply.started": "2025-03-02T09:25:34.430640Z"
    },
    "id": "91JuM0SQvXud",
    "outputId": "0df6f5f5-813e-4ba8-aa57-c4c7533c1472"
   },
   "outputs": [
    {
     "name": "stderr",
     "output_type": "stream",
     "text": [
      "[nltk_data] Downloading package punkt to\n",
      "[nltk_data]     C:\\Users\\gosha\\AppData\\Roaming\\nltk_data...\n",
      "[nltk_data]   Package punkt is already up-to-date!\n"
     ]
    },
    {
     "data": {
      "text/plain": [
       "True"
      ]
     },
     "execution_count": 3,
     "metadata": {},
     "output_type": "execute_result"
    }
   ],
   "source": [
    "#Работа с пунктуацией\n",
    "nltk.download('punkt')"
   ]
  },
  {
   "cell_type": "code",
   "execution_count": 4,
   "metadata": {
    "colab": {
     "base_uri": "https://localhost:8080/",
     "height": 36
    },
    "execution": {
     "iopub.execute_input": "2025-03-02T09:25:34.671338Z",
     "iopub.status.busy": "2025-03-02T09:25:34.671338Z",
     "iopub.status.idle": "2025-03-02T09:25:34.757576Z",
     "shell.execute_reply": "2025-03-02T09:25:34.757576Z",
     "shell.execute_reply.started": "2025-03-02T09:25:34.671338Z"
    },
    "id": "adJC8ShFq9HM",
    "outputId": "e2aef333-74cd-4a1e-b9ff-0a50447decbc"
   },
   "outputs": [
    {
     "data": {
      "text/plain": [
       "'cuda'"
      ]
     },
     "execution_count": 4,
     "metadata": {},
     "output_type": "execute_result"
    }
   ],
   "source": [
    "device = 'cuda' if torch.cuda.is_available() else 'cpu'\n",
    "device"
   ]
  },
  {
   "cell_type": "markdown",
   "metadata": {
    "id": "pwsfS1ENq5ig"
   },
   "source": [
    "## Подготовка данных"
   ]
  },
  {
   "cell_type": "code",
   "execution_count": 6,
   "metadata": {
    "colab": {
     "base_uri": "https://localhost:8080/",
     "height": 475,
     "referenced_widgets": [
      "7842b6ea78644bfca019b4407470a730",
      "bb743975fa5d461da8f59ad056de4665",
      "a47692aed7da4a61b427b975a9d1ef0f",
      "672d03e5fdfd4041bde5ddf883206c45",
      "f75adf4d9d3c4aa9b4131fa4c803a185",
      "4962e98348ed4b8db1ba5c3a6b369fe7",
      "be08ed535b314923b3c7dd87982881d9",
      "c256f6c9b055461da6bcea85dbe5a5d8",
      "a47f512b233744ba8fdc8cb0fa3d3618",
      "4182fbd983cf4eb19dc40477eeeb3616",
      "8982b88add0743f79a3c49ef936e4d39",
      "5dab628b364648838b43efd3c54d54e3",
      "7eba12473e594c798ad0d94c9263cf6d",
      "18aa9c5298854b28885bbc5d4148eb87",
      "6d04cb3c84c244fcb0e1b0d08ac09ca9",
      "1b3f4090f1f444ecb09e07917186eefb",
      "a7d79a1d4f054ce4befbe00566a46b04",
      "6b410fe32d3642d1b3658dcba3d3fb0d",
      "9de7536aeceb41d1a8771711ff4ee92d",
      "57e88c4220e3406f892cad16024a577e",
      "ab59aecc985548aabe0ccef6df0275d8",
      "4c899bd53f864e3480ed5c8f5bbec08f",
      "59761215b7f1405a90d24706d0031d9f",
      "fc21e5d0818241758ca488184ed07e02",
      "46a642c481b445d2a6770a8be04a1b39",
      "000c8b135bfb496cb37835dfe16d9686",
      "e19852cda4ab4974bff4f42848141ba3",
      "02a37ef05933466e9dbf008f4005d9fc",
      "353141e097874fe4bb0bb8affe2dcb55",
      "89706d3469bc49daadb63a2dd7bd4c80",
      "c36b0992f6434b828d39a28313aa2d95",
      "3ed24e4579c94eb2888b6c88d60d4157",
      "af3d43461a9349c9b393d2f7b4b5eb26",
      "129cd515e53b4d529e80f344006e0909",
      "281778c5d6c94b96b0860cb814963f77",
      "7006077476c347a0a411ddc0cc7e0514",
      "32aa56d60f7942e4b6e60897e7829599",
      "904a147fc9d843aa9ac5e3b024b8a595",
      "dc96d29e6dd34e7aa1022b85fb7c680c",
      "de29e2b9bf924f9f9b197916e344f9ef",
      "6205e9164595407487d79fd08bc344f1",
      "802d405a0b8c425fa97e8f5863206d56",
      "391b3daf4f5d4bdeb3e733e4b618fbd2",
      "7072fdf48190487bb32a35147fd18c97",
      "64eaf70afff74e19b39461b4e23f68d6",
      "ce1efc458c6a45a99037016fec1493c4",
      "cb886d2ba9be41fcb607672e22e793e1",
      "5b2243767fe54fdeb4ef93b7a2df43e9",
      "f4576488be5f49b7a3755a6d3ad68df4",
      "82dcb255cf174db8bce69297de4dfa99",
      "2901a7ee123145d88151c30f5db0c2b8",
      "a50b863349b94450999a791a634eb7d7",
      "31fbd29476af442391e3743f0c8d41b6",
      "366e7e36518844ff83a4401b6e610f4e",
      "82f61fa5f0344151b01f52878f68f6fc",
      "97911f87a6f640c0a6914e1a00280955",
      "1352019558d74c718f062c397c62bdfd",
      "72213a019e564cb0be3b079b50e27983",
      "e06e3724126e4982aa44c5e253773238",
      "a31a5a1efe3543d6985dca82fc1e545e",
      "a9230161c5754a4d8706df02dfe31300",
      "ea268ca2956d4ad3b8c66867defdcc3d",
      "fea557e5de3b4e86abef9f2ce7cb4b70",
      "19057495c76a4dc18541391a4a3e0604",
      "d065545705cf45a1a1dd49d526116ff8",
      "1a11e4c26ab247d8ae4832a5699ea5b4",
      "aa45f357574141b4b8aa6eb993ec7b53",
      "0a14b45dab50480491bac02977d7fba2",
      "8e2dddf1a38e4445af1b30da07184b23",
      "9bad0bb18ecf411fa4060545cff982da",
      "61b509d987fd4b6891e98565c836e8d6",
      "02464a676ee3473e9184d7a76cbabc14",
      "1a91d10c422c4e9b887fc76bb9ea66b2",
      "1272a8157dff43d28222cfccdd6e7154",
      "25926a4bdcac4e7682de395b4c08bb63",
      "f3096c0450d246e1817ac7e0936d7c9a",
      "e7203aced556420aa9f42caeb2ce6339",
      "febb37abad824043a40e670097497810",
      "5816d7b656d6419d96895052caa85613",
      "de1567c5c14942738d6a1914dfc95536",
      "d9275d6b009948a9bcb923c9bceb99d6",
      "2805d75aafe14e9da03791cf04b925ca",
      "b56c972eb29042bca780ca4a853a4160",
      "68e48d42326a46618a3f43f0b673bed4",
      "1b8e9452c54f49ffb35166336469527f",
      "c16201ba16874051a3ccb5a9e6328555",
      "5b1c6d74547c4391aeed42d0de87c65b",
      "70f3a7b6a4a24ad185cb6f8c93de9032",
      "75f5299255f740a49fa6cdfb1d2062f6",
      "a8b51966a5284a7f9c1665900bafd89a",
      "95cf5d5542ae434fbedbcd9fe2abd7fd",
      "1d8aeaf5cf0242fab47830ff296e3dad",
      "9767293cc3154bef932ab18cbc1b9331",
      "b8c61a67face4551a27bc12c0e8a281a",
      "2363edb034ef4218ae29cd6f3523a399",
      "afe8494b848347ef966a1c2d4d6645d7",
      "aa5f4d0f5419440294b85be99989205f",
      "930f43feea0c44b19347a5800d3c8355",
      "8855850e578a47d49f115ebcf02741d9",
      "8969ad49e7324c1baabd8f01edc89187",
      "a0ca7e50cb0344d880a8cf1364d8e4f8",
      "0b36e0e0c0ae4571b460bc93586166e3",
      "fcfc1a6f872a44bdb398c6aae31f4494",
      "30213f5270df46ad80b5ea54c6d4b5c2",
      "ce245a1f5fec41188339d3b3d1a2b9ac",
      "1e5cf5d149d24410bb3558e61a1d8b1c",
      "fb650c236a6b46eb87d7f196544fe171",
      "6993b28bb2324d41b833213d3bd7fcee",
      "079b4d7c1f8f492c9f21b451c823a7ff",
      "f9a7f4350a694b9096e938b7a57d3497",
      "30ad2bbceed243e38d04cf690a2068c5",
      "dd176fd2e1e24aff8fa42083eecf6711",
      "2123269247dd4a19b9ffcd7616cbafbe",
      "f8aa5781c3134212ba0ddb4bd514d7cf",
      "beae2c7f0c434f559a65c9999979b087",
      "55ef4baf843d426e89825c795dc9742c",
      "0845a826326a476faf64a51a8e926e50",
      "f53709a77e664bd18f4c0fc7f11ed16e",
      "ae9181acf61d49b98b0fc6792578bf38",
      "e985d3106f294ebca52735c24a1bdd08",
      "d711a0044872411eb36461575300b1f8",
      "8c8b29d437414d7c85d1b829ba8eae9b",
      "266afa3711674291b4306bf186bb05c0",
      "7c8e9244046a41229672137d16ba9cb3",
      "75ac645f2f4b49c393487f580b3e5a4e",
      "414294701a4245cebf83bd13bd6af92f",
      "6d1d0398c20842e29663eea57f46ad6d",
      "89b3e8570ad8430fbc1bc0d896c54b0a",
      "72252f9275634b12bfb4c4586e4533e1",
      "547e19c651344b4da6d5bc153a76a2c5",
      "39d1447a9b41441bbc96318b7fe37dfc",
      "81d9102f7d5b426b910b9f19ef6b705c"
     ]
    },
    "execution": {
     "iopub.execute_input": "2025-03-02T09:27:54.233246Z",
     "iopub.status.busy": "2025-03-02T09:27:54.233246Z",
     "iopub.status.idle": "2025-03-02T09:28:11.879109Z",
     "shell.execute_reply": "2025-03-02T09:28:11.879109Z",
     "shell.execute_reply.started": "2025-03-02T09:27:54.233246Z"
    },
    "id": "qHLNWOfJqSfc",
    "outputId": "3e09bd62-7280-4655-e74b-db7bd0e46c50"
   },
   "outputs": [
    {
     "data": {
      "application/vnd.jupyter.widget-view+json": {
       "model_id": "ca5afa982cd64f0baab214469b4c32e5",
       "version_major": 2,
       "version_minor": 0
      },
      "text/plain": [
       "gazeta_train.jsonl:   0%|          | 0.00/471M [00:00<?, ?B/s]"
      ]
     },
     "metadata": {},
     "output_type": "display_data"
    },
    {
     "data": {
      "application/vnd.jupyter.widget-view+json": {
       "model_id": "2017a3db47654e8b83570f2fda3eb2db",
       "version_major": 2,
       "version_minor": 0
      },
      "text/plain": [
       "gazeta_val.jsonl:   0%|          | 0.00/48.6M [00:00<?, ?B/s]"
      ]
     },
     "metadata": {},
     "output_type": "display_data"
    },
    {
     "data": {
      "application/vnd.jupyter.widget-view+json": {
       "model_id": "dd57e19d60d142cb9256e9831c4408fe",
       "version_major": 2,
       "version_minor": 0
      },
      "text/plain": [
       "gazeta_test.jsonl:   0%|          | 0.00/52.1M [00:00<?, ?B/s]"
      ]
     },
     "metadata": {},
     "output_type": "display_data"
    },
    {
     "data": {
      "application/vnd.jupyter.widget-view+json": {
       "model_id": "55d5c8f43e904ac6adcc8177ac84326b",
       "version_major": 2,
       "version_minor": 0
      },
      "text/plain": [
       "Generating train split:   0%|          | 0/52400 [00:00<?, ? examples/s]"
      ]
     },
     "metadata": {},
     "output_type": "display_data"
    },
    {
     "data": {
      "application/vnd.jupyter.widget-view+json": {
       "model_id": "2c2ddf5c54514aeb86c86641387df823",
       "version_major": 2,
       "version_minor": 0
      },
      "text/plain": [
       "Generating test split:   0%|          | 0/5770 [00:00<?, ? examples/s]"
      ]
     },
     "metadata": {},
     "output_type": "display_data"
    },
    {
     "data": {
      "application/vnd.jupyter.widget-view+json": {
       "model_id": "2d707b8682f6481787dbd8965c172c24",
       "version_major": 2,
       "version_minor": 0
      },
      "text/plain": [
       "Generating validation split:   0%|          | 0/5265 [00:00<?, ? examples/s]"
      ]
     },
     "metadata": {},
     "output_type": "display_data"
    }
   ],
   "source": [
    "# Загрузим датасет\n",
    "dataset = load_dataset('IlyaGusev/gazeta', revision=\"v1.0\", trust_remote_code=True)"
   ]
  },
  {
   "cell_type": "code",
   "execution_count": 7,
   "metadata": {
    "colab": {
     "base_uri": "https://localhost:8080/",
     "height": 49,
     "referenced_widgets": [
      "c29793ad3f594c9fbb937b57e23865e7",
      "e0456524ee1341e6a83ccac6f0fc0e6d",
      "a253d3dd654145309e08512c38b8a117",
      "f398ee8bb2ed43eb82a3303f7110c357",
      "eddaff3e519246e0b3588fec3cf9bd49",
      "758e6095e1284aaf897c5f528aac7ee8",
      "be84280f59e445c398c2ad68f1e937ca",
      "fa0aed30a3594d85a3182b47ab8d6e0d",
      "be776debb31a42c68de4bfbdb049b1a5",
      "77c21ce845d5432980392597b57ea49a",
      "1df6b4ad930a4e81b5b55900a577b3cc"
     ]
    },
    "execution": {
     "iopub.execute_input": "2025-03-02T09:28:19.145315Z",
     "iopub.status.busy": "2025-03-02T09:28:19.145315Z",
     "iopub.status.idle": "2025-03-02T09:28:21.537962Z",
     "shell.execute_reply": "2025-03-02T09:28:21.537962Z",
     "shell.execute_reply.started": "2025-03-02T09:28:19.145315Z"
    },
    "id": "Ins2tVCdsS47",
    "outputId": "0a298002-7c09-4425-98a0-155d069d53ba"
   },
   "outputs": [
    {
     "data": {
      "application/vnd.jupyter.widget-view+json": {
       "model_id": "7895ba46293f4d08826f79fca9897d75",
       "version_major": 2,
       "version_minor": 0
      },
      "text/plain": [
       "  0%|          | 0/5265 [00:00<?, ?it/s]"
      ]
     },
     "metadata": {},
     "output_type": "display_data"
    }
   ],
   "source": [
    "sentences = []\n",
    "\n",
    "for sentence in tqdm(dataset['validation']['text']):\n",
    "    sentences.extend(\n",
    "        [x.lower() for x in sent_tokenize(sentence, language='russian') if len(x) < 128]\n",
    "        )"
   ]
  },
  {
   "cell_type": "code",
   "execution_count": 210,
   "metadata": {
    "execution": {
     "iopub.execute_input": "2025-03-02T17:06:05.577982Z",
     "iopub.status.busy": "2025-03-02T17:06:05.577982Z",
     "iopub.status.idle": "2025-03-02T17:06:05.582405Z",
     "shell.execute_reply": "2025-03-02T17:06:05.582405Z",
     "shell.execute_reply.started": "2025-03-02T17:06:05.577982Z"
    }
   },
   "outputs": [
    {
     "data": {
      "text/plain": [
       "'журналисты утверждают, что такую идею уже обсуждали на экстренных заседаниях правительственного комитета по безопасности.'"
      ]
     },
     "execution_count": 210,
     "metadata": {},
     "output_type": "execute_result"
    }
   ],
   "source": [
    "sentence"
   ]
  },
  {
   "cell_type": "code",
   "execution_count": 8,
   "metadata": {
    "colab": {
     "base_uri": "https://localhost:8080/"
    },
    "execution": {
     "iopub.execute_input": "2025-03-02T09:28:21.538969Z",
     "iopub.status.busy": "2025-03-02T09:28:21.538969Z",
     "iopub.status.idle": "2025-03-02T09:28:21.543017Z",
     "shell.execute_reply": "2025-03-02T09:28:21.543017Z",
     "shell.execute_reply.started": "2025-03-02T09:28:21.538969Z"
    },
    "id": "bxeBxP3J1Rj3",
    "outputId": "20fe0df9-64e6-4e29-bc99-f8430105c1ba"
   },
   "outputs": [
    {
     "data": {
      "text/plain": [
       "122237"
      ]
     },
     "execution_count": 8,
     "metadata": {},
     "output_type": "execute_result"
    }
   ],
   "source": [
    "len(sentences)"
   ]
  },
  {
   "cell_type": "markdown",
   "metadata": {},
   "source": [
    "Словарь состоит из различных символов, причём как букв, так и цифр."
   ]
  },
  {
   "cell_type": "code",
   "execution_count": 10,
   "metadata": {
    "colab": {
     "base_uri": "https://localhost:8080/",
     "height": 49,
     "referenced_widgets": [
      "1a0142f13ada4c03b44d08dd37ea2dae",
      "86c7d074577d4d929990b4efa2f2be9b",
      "d5b989e8893f458085bffcabdbbd0724",
      "fc4329efa49d447187cc0e5ee2e3665a",
      "5c8cac12c7d04abc8d30468b72e70359",
      "5020c230672f4a03bb152e42765f5933",
      "f8c900de89524873927b7b66ae2ebd85",
      "70c7252763504a939f02156ddb7932a3",
      "cab5e79750b64ec9a0eaebe66cdc986a",
      "bedb772cafbb4dab9590e558623f02e1",
      "beb0293a86d84da88d2652cb5a3f2adb"
     ]
    },
    "execution": {
     "iopub.execute_input": "2025-03-02T09:30:35.449631Z",
     "iopub.status.busy": "2025-03-02T09:30:35.448630Z",
     "iopub.status.idle": "2025-03-02T09:30:36.804658Z",
     "shell.execute_reply": "2025-03-02T09:30:36.804658Z",
     "shell.execute_reply.started": "2025-03-02T09:30:35.449631Z"
    },
    "id": "nEvCN0Y1w1yH",
    "outputId": "0cccf2ab-20d7-4d13-95be-cb104076945b"
   },
   "outputs": [
    {
     "data": {
      "application/vnd.jupyter.widget-view+json": {
       "model_id": "89b1284c5c444306b1b9055af5767711",
       "version_major": 2,
       "version_minor": 0
      },
      "text/plain": [
       "  0%|          | 0/122237 [00:00<?, ?it/s]"
      ]
     },
     "metadata": {},
     "output_type": "display_data"
    }
   ],
   "source": [
    "chars = Counter()\n",
    "\n",
    "for sentence in tqdm(sentences):\n",
    "    for char in sentence:\n",
    "        chars[char] += 1"
   ]
  },
  {
   "cell_type": "code",
   "execution_count": 11,
   "metadata": {
    "execution": {
     "iopub.execute_input": "2025-03-02T09:31:36.948882Z",
     "iopub.status.busy": "2025-03-02T09:31:36.947881Z",
     "iopub.status.idle": "2025-03-02T09:31:36.955487Z",
     "shell.execute_reply": "2025-03-02T09:31:36.954480Z",
     "shell.execute_reply.started": "2025-03-02T09:31:36.948882Z"
    },
    "id": "oUBNwsK9xLIu"
   },
   "outputs": [],
   "source": [
    "vocab = set(['<unk>', '<bos>', '<eos>', '<pad>'])\n",
    "counter_threshold = 500\n",
    "\n",
    "for char, cnt in chars.items():\n",
    "    if cnt > counter_threshold:\n",
    "        vocab.add(char)"
   ]
  },
  {
   "cell_type": "code",
   "execution_count": 12,
   "metadata": {
    "colab": {
     "base_uri": "https://localhost:8080/"
    },
    "execution": {
     "iopub.execute_input": "2025-03-02T09:31:37.912169Z",
     "iopub.status.busy": "2025-03-02T09:31:37.911170Z",
     "iopub.status.idle": "2025-03-02T09:31:37.918151Z",
     "shell.execute_reply": "2025-03-02T09:31:37.918151Z",
     "shell.execute_reply.started": "2025-03-02T09:31:37.912169Z"
    },
    "id": "JhACW2CQyck5",
    "outputId": "52857a41-9a8c-470d-d57d-321cd52e995f"
   },
   "outputs": [
    {
     "data": {
      "text/plain": [
       "86"
      ]
     },
     "execution_count": 12,
     "metadata": {},
     "output_type": "execute_result"
    }
   ],
   "source": [
    "len(vocab)"
   ]
  },
  {
   "cell_type": "code",
   "execution_count": 13,
   "metadata": {
    "execution": {
     "iopub.execute_input": "2025-03-02T09:31:51.026575Z",
     "iopub.status.busy": "2025-03-02T09:31:51.024574Z",
     "iopub.status.idle": "2025-03-02T09:31:51.031563Z",
     "shell.execute_reply": "2025-03-02T09:31:51.030558Z",
     "shell.execute_reply.started": "2025-03-02T09:31:51.026575Z"
    },
    "id": "iD7SmSy3v2dl"
   },
   "outputs": [],
   "source": [
    "char2ind = {char: i for i, char in enumerate(vocab)}\n",
    "ind2char = {i: char for char, i in char2ind.items()}"
   ]
  },
  {
   "cell_type": "code",
   "execution_count": 211,
   "metadata": {
    "execution": {
     "iopub.execute_input": "2025-03-02T17:38:57.640275Z",
     "iopub.status.busy": "2025-03-02T17:38:57.639275Z",
     "iopub.status.idle": "2025-03-02T17:38:57.648308Z",
     "shell.execute_reply": "2025-03-02T17:38:57.647300Z",
     "shell.execute_reply.started": "2025-03-02T17:38:57.639275Z"
    }
   },
   "outputs": [
    {
     "data": {
      "text/plain": [
       "'красно-белые, усилив атакующую линию, взялись за укрепление центральной зоны.'"
      ]
     },
     "execution_count": 211,
     "metadata": {},
     "output_type": "execute_result"
    }
   ],
   "source": [
    "sentences[0]"
   ]
  },
  {
   "cell_type": "code",
   "execution_count": 14,
   "metadata": {
    "execution": {
     "iopub.execute_input": "2025-03-02T09:32:04.550982Z",
     "iopub.status.busy": "2025-03-02T09:32:04.549983Z",
     "iopub.status.idle": "2025-03-02T09:32:04.560743Z",
     "shell.execute_reply": "2025-03-02T09:32:04.559493Z",
     "shell.execute_reply.started": "2025-03-02T09:32:04.550982Z"
    },
    "id": "FVzXL17PzC7K"
   },
   "outputs": [],
   "source": [
    "class CharDataset:\n",
    "    def __init__(self, sentences):\n",
    "        self.data = sentences\n",
    "        self.unk_id = char2ind['<unk>']\n",
    "        self.bos_id = char2ind['<bos>']\n",
    "        self.eos_id = char2ind['<eos>']\n",
    "        self.pad_id = char2ind['<pad>']\n",
    "\n",
    "    def __getitem__(self, idx: int) -> List[int]:\n",
    "        tokenized_sentence = [self.bos_id]\n",
    "        tokenized_sentence += [char2ind.get(char, self.unk_id) for char in self.data[idx]]\n",
    "        tokenized_sentence += [self.eos_id]\n",
    "\n",
    "        return tokenized_sentence\n",
    "\n",
    "    def __len__(self) -> int:\n",
    "        return len(self.data)"
   ]
  },
  {
   "cell_type": "code",
   "execution_count": 15,
   "metadata": {
    "execution": {
     "iopub.execute_input": "2025-03-02T09:34:38.843731Z",
     "iopub.status.busy": "2025-03-02T09:34:38.843221Z",
     "iopub.status.idle": "2025-03-02T09:34:38.850717Z",
     "shell.execute_reply": "2025-03-02T09:34:38.849709Z",
     "shell.execute_reply.started": "2025-03-02T09:34:38.843731Z"
    },
    "id": "I6CtYNMp2_g0"
   },
   "outputs": [],
   "source": [
    "def collate_fn_with_padding(\n",
    "    input_batch: List[List[int]], pad_id=char2ind['<pad>']) -> torch.Tensor:\n",
    "    seq_lens = [len(x) for x in input_batch]\n",
    "    max_seq_len = max(seq_lens)\n",
    "\n",
    "    new_batch = []\n",
    "    for sequence in input_batch:\n",
    "        for _ in range(max_seq_len - len(sequence)):\n",
    "            sequence.append(pad_id)\n",
    "        new_batch.append(sequence)\n",
    "\n",
    "    sequences = torch.LongTensor(new_batch).to(device)\n",
    "\n",
    "    new_batch = {\n",
    "        'input_ids': sequences[:,:-1],\n",
    "        'target_ids': sequences[:,1:]\n",
    "    }\n",
    "\n",
    "    return new_batch"
   ]
  },
  {
   "cell_type": "code",
   "execution_count": 16,
   "metadata": {
    "execution": {
     "iopub.execute_input": "2025-03-02T09:36:07.283411Z",
     "iopub.status.busy": "2025-03-02T09:36:07.282302Z",
     "iopub.status.idle": "2025-03-02T09:36:07.333716Z",
     "shell.execute_reply": "2025-03-02T09:36:07.333716Z",
     "shell.execute_reply.started": "2025-03-02T09:36:07.283411Z"
    },
    "id": "6xmeK9Ys1BIG"
   },
   "outputs": [],
   "source": [
    "train_sentences, eval_sentences = train_test_split(sentences, test_size=0.2)\n",
    "\n",
    "train_dataset = CharDataset(train_sentences)\n",
    "eval_dataset = CharDataset(eval_sentences)\n",
    "\n",
    "train_dataloader = DataLoader(\n",
    "    train_dataset, collate_fn=collate_fn_with_padding, batch_size=256)\n",
    "\n",
    "eval_dataloader = DataLoader(\n",
    "    eval_dataset, collate_fn=collate_fn_with_padding, batch_size=256)"
   ]
  },
  {
   "cell_type": "markdown",
   "metadata": {
    "id": "SMAexY7Y45E4"
   },
   "source": [
    "## Архитектура модели"
   ]
  },
  {
   "cell_type": "code",
   "execution_count": 17,
   "metadata": {
    "execution": {
     "iopub.execute_input": "2025-03-02T09:38:00.393855Z",
     "iopub.status.busy": "2025-03-02T09:38:00.392849Z",
     "iopub.status.idle": "2025-03-02T09:38:00.407362Z",
     "shell.execute_reply": "2025-03-02T09:38:00.406357Z",
     "shell.execute_reply.started": "2025-03-02T09:38:00.393855Z"
    },
    "id": "Vbr92JnX4bzN"
   },
   "outputs": [],
   "source": [
    "class CharLM(nn.Module):\n",
    "    def __init__(self, hidden_dim: int, vocab_size: int):\n",
    "        super().__init__()\n",
    "        self.embedding = nn.Embedding(vocab_size, hidden_dim)\n",
    "        self.rnn = nn.GRU(hidden_dim, hidden_dim, batch_first=True)\n",
    "        self.linear = nn.Linear(hidden_dim, hidden_dim)\n",
    "        self.projection = nn.Linear(hidden_dim, vocab_size)\n",
    "\n",
    "        self.non_lin = nn.Tanh()\n",
    "        self.dropout = nn.Dropout(p=0.1)\n",
    "\n",
    "    def forward(self, input_batch) -> torch.Tensor:\n",
    "        embeddings = self.embedding(input_batch)  # [batch_size, seq_len, hidden_dim]\n",
    "        output, _ = self.rnn(embeddings)  # [batch_size, seq_len, hidden_dim]\n",
    "        output = self.dropout(self.linear(self.non_lin(output)))  # [batch_size, seq_len, hidden_dim]\n",
    "        projection = self.projection(self.non_lin(output))  # [batch_size, seq_len, vocab_size]\n",
    "\n",
    "        return projection"
   ]
  },
  {
   "cell_type": "markdown",
   "metadata": {
    "id": "bLV63Vsk7loy"
   },
   "source": [
    "## Train loop"
   ]
  },
  {
   "cell_type": "code",
   "execution_count": 18,
   "metadata": {
    "execution": {
     "iopub.execute_input": "2025-03-02T09:40:57.486716Z",
     "iopub.status.busy": "2025-03-02T09:40:57.485715Z",
     "iopub.status.idle": "2025-03-02T09:40:57.492430Z",
     "shell.execute_reply": "2025-03-02T09:40:57.491917Z",
     "shell.execute_reply.started": "2025-03-02T09:40:57.486716Z"
    },
    "id": "Ak-CGxJ_reWK"
   },
   "outputs": [],
   "source": [
    "def evaluate(model, criterion) -> float:\n",
    "    \"\"\"\n",
    "    Calculate perplexity on validation dataloader.\n",
    "    \"\"\"\n",
    "\n",
    "    model.eval()\n",
    "    perplexity = []\n",
    "    with torch.no_grad():\n",
    "        for batch in eval_dataloader:\n",
    "            logits = model(batch['input_ids']).flatten(start_dim=0, end_dim=1)\n",
    "            loss = criterion(\n",
    "                logits,\n",
    "                batch['target_ids'].flatten()\n",
    "                )\n",
    "            perplexity.append(torch.exp(loss).item())\n",
    "\n",
    "    perplexity = sum(perplexity) / len(perplexity)\n",
    "\n",
    "    return perplexity"
   ]
  },
  {
   "cell_type": "code",
   "execution_count": 78,
   "metadata": {
    "execution": {
     "iopub.execute_input": "2025-03-02T10:27:47.345038Z",
     "iopub.status.busy": "2025-03-02T10:27:47.344039Z",
     "iopub.status.idle": "2025-03-02T10:27:47.359341Z",
     "shell.execute_reply": "2025-03-02T10:27:47.359341Z",
     "shell.execute_reply.started": "2025-03-02T10:27:47.345038Z"
    },
    "id": "kZT0IgoW7jel"
   },
   "outputs": [],
   "source": [
    "model = CharLM(hidden_dim=256, vocab_size=len(vocab)).to(device)\n",
    "criterion = nn.CrossEntropyLoss(ignore_index=char2ind['<pad>'])\n",
    "optimizer = torch.optim.Adam(model.parameters())"
   ]
  },
  {
   "cell_type": "code",
   "execution_count": 79,
   "metadata": {
    "colab": {
     "base_uri": "https://localhost:8080/",
     "height": 337,
     "referenced_widgets": [
      "453db8a5611545758cc05c60fe5d0a0e",
      "0e27c114ae264b6cb83c3c90ce84e074",
      "537f41c184d34c84bfbe8c0a2f4935fe",
      "c3b3f3a2dffb4e1f9ab6b48904529599",
      "fa06903a44e14fe592bda17b978b62c7",
      "ab63f7d9cda14af397621810f6670140",
      "81c1e76a39674445a36fa6d787cdd583",
      "b08629ecba4f45cab67fadac6e063f5b",
      "be2e657b486a4ab08f0d2bd882c59c27",
      "0dd9541ed4ac41b2a796e9cc8bfb73c3",
      "55c92af37ce244008261db69ac5bdb36",
      "8ebd9b2f70774d7ab7550e72e62dd485",
      "4af441e1471445a5a75be0ce4b76f8d1",
      "09567c745962406d924a2e98eb73344c",
      "74bebdbb86364dbd8a480572af577ec5",
      "58d2ac29ff22499995950d1125e9456e",
      "0ccc28facdf24432aeb55aa08220febb",
      "83a9c3633c9b42c79ba30a12b437e014",
      "4b2d9f5a8c8f4f7dbcd802eea86ea44b",
      "f7f2f4df9949498aa61a20bafed3d4f4",
      "b68cacec243b4d0ba117f2abbbdaa0ca",
      "b9e4dd4c6e874ea690c494293ec286ec",
      "1e44aafd9ca242729abbbf9e0b02b01a",
      "da673d4feba54b488387686b2f689ea3",
      "73da75bc8f544dc787ef0f7a893e1a96",
      "6350d71b61a04922a08c9fce63d5ac76",
      "d2af8f8e7b2e4840a928af4454839224",
      "41010dd33b674c83a0707cfd4883d67b",
      "cb61a8067b514e2f9d46176d39b7dea7",
      "f767fe3e7b19446da52ca636b6d9e042",
      "3e2c557d702f43b1965c47983fa73b69",
      "76adfce922904607b096c5c5ae96a99e",
      "c714d1446f814ae3ab253062ead8507b",
      "5fe05e04fc8742c4be609983ce2c6262",
      "fc6afe254bfb4adf9a0283ac2eab2dad",
      "a73d48457c304494aa203eb7a953ab64",
      "f672521467cd45b7886907a522910067",
      "d60b2a98f77d40e5b057709c6c278216",
      "3ac92798b7644ddb973173c0d0ef6bea",
      "c3003d240d2e42f29cb17f44869fd151",
      "bfb167d926504ddaa891c434247de7d4",
      "090a216ec5a345fab5052200b7bfbc4a",
      "bef5672dbbad46e9be5a47d3f1dedda8",
      "e7380811bc7e4dba942ce24484b5cf0e",
      "d0e9c25ed3104670aedbb51d25eb688a",
      "ab99407df5294e7db050b9957de95eba",
      "8228b6a8cc0a464cb69c874eda38c102",
      "6f23fe4019c44252967155cf93200e88",
      "351935a1ee7c48b78654a9e96f82fbc3",
      "6b60ddb35fc740269b16f1df6a38fb7e",
      "0727a5ca57954b409e8d5916670e9814",
      "aee55a588f7f4f1d9e09f791f645c568",
      "1652586ff85b443491b5293fe8708e62",
      "859da9b4e6704d0bb8874b72e0bc1f1f",
      "775804b499fd40b291a99b218fabc429",
      "44ef69bb4535461d941125e0923ae804",
      "be43986e57d34b70adde71754f982f0f",
      "0fec9d7cd26e44b5a7fe9feb27b81fb1",
      "c3b289ae4c5040a686881ffc6caae6c9",
      "60459da23f544707a5111eb2ccd7d76e",
      "825cfe88f2a447e597ccafa012e2a531",
      "4bd3919245c74a1a8ffde0f347393a7b",
      "685f6c6cfc8c439eb16f17e03ff7eb13",
      "b64f82aab81c4d72b7c561901a0f540d",
      "7a9bab68b4974607b0e5b3c2d784ac36",
      "bc1bb409526f481cbd5354236e1c2464",
      "1feddcb1bfd44ed986445d3b633c96de",
      "4b73d19e87d54fdb97b51b779ec74ea7",
      "feee36b1934b41bc99d5955d394015a3",
      "c6ec583389fa4369929bceb8817f85c2",
      "24e027042e0341b789bfc413ea70ee5b",
      "65bbe7e1812246df9fd4597ee81f0d44",
      "3ae9f27de51d48f1bfc0cfc9f88975ec",
      "abd957698c174780a60a55cf33df04cb",
      "c847b4394c7941098c7ac44bb9bcfb2b",
      "ff5f2589b4714e1fa1e04af65d94a6fb",
      "f85d943e625d4dee91dbeadf4e0bd307",
      "f9e36081d3b3471f974c9d7b0eb76a54",
      "400b57753864491e96eb18428ad72567",
      "e4471b4dcb894c0588b7247bb4a604ae",
      "c54acc5a18334fe2af8657a5b1b1fc95",
      "a9d684199e2240a1a0328f78f34cc869",
      "e26d3321c60d42c2bfb424d22258c656",
      "1bb1cc56b6df4e32a05a3242ed6ac6e4",
      "01dd91c694514d5db9af83d8923c74ba",
      "e9527152276e437a88f16c4330cd4fbc",
      "2c197f935cb9430ab7bf3a2e0cec807b",
      "62f8b1b5010f457da3653d7db2d841ec",
      "e7510bab61f248b897f196457304973e",
      "533cdb5d36994baa83ec2157b0d70024",
      "acebdf3b2ce54eed854cf1b10f4ba562",
      "f6cb4f0ad7414b3696622e8b208f4181",
      "f61e7d4769b94f75b51a83c2cbb7f51c",
      "34ebe67e97f646e6b993cbe35ba0e3dd",
      "aff52b9fffac4bd69a819e7968a10834",
      "ba49ad2645424395a46fb9ab4a612f73",
      "b1650c60bd434deb93d4524f5c083467",
      "0f48d0770b0f42dead17a357c504752a",
      "c02066dc8d0545c1b785a1a459e7df63",
      "1d5506d2188a485ea4d91a18eee9c7c8",
      "4aa4e35991da4f9ba4ca7eea0f814c83",
      "4bd16c7f30da44bea1038f1730b92c9f",
      "60beb089526b4be896d1f6c90f66ec57",
      "66d949ca2e564228ad295f643cfaf472",
      "240bb686eb3944f9a024d9c5270c011c",
      "adbabb812c914e9ea4bcdf31350e9436",
      "87b0342d502c4285b41d95fc5572926e",
      "8326971a4bef4e87974684fa617def0d",
      "5ef2446458bf4f90b9ed20d74fc9e536",
      "b9ef9ae33da8405483de79ecd0bd1bfd"
     ]
    },
    "execution": {
     "iopub.execute_input": "2025-03-02T10:27:51.734033Z",
     "iopub.status.busy": "2025-03-02T10:27:51.733024Z",
     "iopub.status.idle": "2025-03-02T10:59:30.377703Z",
     "shell.execute_reply": "2025-03-02T10:59:30.377703Z",
     "shell.execute_reply.started": "2025-03-02T10:27:51.734033Z"
    },
    "id": "XM8gJPdM8HuT",
    "outputId": "81c1d169-32c7-4d49-9541-18eecc4a2f85"
   },
   "outputs": [
    {
     "data": {
      "application/vnd.jupyter.widget-view+json": {
       "model_id": "6ffe244fd43b40bf82cbac8d6d1e523d",
       "version_major": 2,
       "version_minor": 0
      },
      "text/plain": [
       "  0%|          | 0/200 [00:00<?, ?it/s]"
      ]
     },
     "metadata": {},
     "output_type": "display_data"
    }
   ],
   "source": [
    "num_epoch = 200\n",
    "losses = []\n",
    "perplexities = []\n",
    "\n",
    "for epoch in tqdm(range(num_epoch)):\n",
    "    epoch_losses = []\n",
    "    model.train()\n",
    "    for batch in train_dataloader: #tqdm(train_dataloader, desc=f'Training epoch {epoch}:'):\n",
    "        optimizer.zero_grad()\n",
    "        logits = model(batch['input_ids']).flatten(start_dim=0, end_dim=1)\n",
    "        loss = criterion(\n",
    "            logits, batch['target_ids'].flatten())\n",
    "        loss.backward()\n",
    "        optimizer.step()\n",
    "\n",
    "        epoch_losses.append(loss.item())\n",
    "\n",
    "    losses.append(sum(epoch_losses) / len(epoch_losses))\n",
    "    perplexities.append(evaluate(model, criterion))"
   ]
  },
  {
   "cell_type": "code",
   "execution_count": 80,
   "metadata": {
    "colab": {
     "base_uri": "https://localhost:8080/",
     "height": 480
    },
    "execution": {
     "iopub.execute_input": "2025-03-02T10:59:30.377703Z",
     "iopub.status.busy": "2025-03-02T10:59:30.377703Z",
     "iopub.status.idle": "2025-03-02T10:59:30.452258Z",
     "shell.execute_reply": "2025-03-02T10:59:30.452258Z",
     "shell.execute_reply.started": "2025-03-02T10:59:30.377703Z"
    },
    "id": "NLbm0RZZ-tqe",
    "outputId": "3e799ff7-d007-475a-9974-e6e1595d8b72"
   },
   "outputs": [
    {
     "data": {
      "image/png": "[encoded data removed]",
      "text/plain": [
       "<Figure size 640x480 with 1 Axes>"
      ]
     },
     "metadata": {},
     "output_type": "display_data"
    }
   ],
   "source": [
    "plt.plot(np.arange(len(losses)), losses)\n",
    "plt.title('Losses')\n",
    "plt.xlabel(\"epoch\")\n",
    "plt.show()"
   ]
  },
  {
   "cell_type": "code",
   "execution_count": 81,
   "metadata": {
    "colab": {
     "base_uri": "https://localhost:8080/",
     "height": 480
    },
    "execution": {
     "iopub.execute_input": "2025-03-02T10:59:30.452258Z",
     "iopub.status.busy": "2025-03-02T10:59:30.452258Z",
     "iopub.status.idle": "2025-03-02T10:59:30.533108Z",
     "shell.execute_reply": "2025-03-02T10:59:30.533108Z",
     "shell.execute_reply.started": "2025-03-02T10:59:30.452258Z"
    },
    "id": "2RENKFrH-Ppw",
    "outputId": "c2d1f5b9-b0ee-4e1f-e2f8-df4960c100f1"
   },
   "outputs": [
    {
     "data": {
      "image/png": "[encoded data removed]",
      "text/plain": [
       "<Figure size 640x480 with 1 Axes>"
      ]
     },
     "metadata": {},
     "output_type": "display_data"
    }
   ],
   "source": [
    "plt.plot(np.arange(len(perplexities)), perplexities)\n",
    "plt.title('Perplexity')\n",
    "plt.xlabel(\"epoch\")\n",
    "plt.show()"
   ]
  },
  {
   "cell_type": "markdown",
   "metadata": {
    "id": "z45CB1SxIpZS"
   },
   "source": [
    "## Generation"
   ]
  },
  {
   "cell_type": "code",
   "execution_count": 192,
   "metadata": {
    "execution": {
     "iopub.execute_input": "2025-03-02T15:41:27.247920Z",
     "iopub.status.busy": "2025-03-02T15:41:27.247920Z",
     "iopub.status.idle": "2025-03-02T15:41:27.257762Z",
     "shell.execute_reply": "2025-03-02T15:41:27.257762Z",
     "shell.execute_reply.started": "2025-03-02T15:41:27.247920Z"
    }
   },
   "outputs": [],
   "source": [
    "softmax = torch.nn.Softmax(0)"
   ]
  },
  {
   "cell_type": "code",
   "execution_count": 205,
   "metadata": {
    "execution": {
     "iopub.execute_input": "2025-03-02T15:58:48.938670Z",
     "iopub.status.busy": "2025-03-02T15:58:48.938670Z",
     "iopub.status.idle": "2025-03-02T15:58:48.950166Z",
     "shell.execute_reply": "2025-03-02T15:58:48.950166Z",
     "shell.execute_reply.started": "2025-03-02T15:58:48.938670Z"
    },
    "id": "B3N1y7NPG7cA"
   },
   "outputs": [],
   "source": [
    "def generate_sequence(model, starting_seq: str, max_seq_len: int = 128) -> str:\n",
    "    device = 'cpu'\n",
    "    model = model.to(device)\n",
    "    input_ids = [char2ind['<bos>']] + [\n",
    "        char2ind.get(char, char2ind['<unk>']) for char in starting_seq]\n",
    "    input_ids = torch.LongTensor(input_ids).to(device)\n",
    "\n",
    "    #fig, axs = plt.subplots(2, 1, figsize = (40, 10), constrained_layout = True, dpi = 600)\n",
    "    \n",
    "    model.eval()\n",
    "    with torch.no_grad():\n",
    "        for i in range(max_seq_len): #range(max_seq_len):\n",
    "            next_char_distribution = model(input_ids)[-1] #[-1] - выбор последнего тензора из батча, который создаётся ОДНИМ предложением\n",
    "\n",
    "            #dist = pd.DataFrame([[ind2char[x], y] for x, y in enumerate(softmax(next_char_distribution).cpu().numpy())])\n",
    "            \n",
    "            \n",
    "            #print(softmax(next_char_distribution))\n",
    "            next_char = next_char_distribution.squeeze().argmax()\n",
    "            #print('Selected char', next_char)\n",
    "            input_ids = torch.cat([input_ids, next_char.unsqueeze(0)])\n",
    "            #sns.barplot(data = dist, x = dist[0], y = dist[1], ax = axs[i])\n",
    "            #axs[i].set_ylabel(ind2char[next_char.item()])\n",
    "            #axs[i].tick_params(axis='x', labelrotation=45)\n",
    "\n",
    "            if next_char.item() == char2ind['<eos>']:\n",
    "                break\n",
    "\n",
    "    words = ''.join([ind2char[idx.item()] for idx in input_ids])\n",
    "    plt.show()\n",
    "    return words"
   ]
  },
  {
   "cell_type": "code",
   "execution_count": 209,
   "metadata": {
    "colab": {
     "base_uri": "https://localhost:8080/",
     "height": 36
    },
    "execution": {
     "iopub.execute_input": "2025-03-02T15:59:42.533533Z",
     "iopub.status.busy": "2025-03-02T15:59:42.533533Z",
     "iopub.status.idle": "2025-03-02T15:59:43.362783Z",
     "shell.execute_reply": "2025-03-02T15:59:43.361996Z",
     "shell.execute_reply.started": "2025-03-02T15:59:42.533533Z"
    },
    "id": "m6auba5zU9M9",
    "outputId": "df90e956-3c1a-4fb2-8877-36dd790fa89c"
   },
   "outputs": [
    {
     "data": {
      "text/plain": [
       "'<bos>краснодврский краевой суд подчеркнул, что не понимаю, что в свою очередь произошла в состав россии в своем твиттере.<eos>'"
      ]
     },
     "execution_count": 209,
     "metadata": {},
     "output_type": "execute_result"
    }
   ],
   "source": [
    "generate_sequence(model, starting_seq='краснодврский краевой суд')"
   ]
  },
  {
   "cell_type": "code",
   "execution_count": 173,
   "metadata": {
    "execution": {
     "iopub.execute_input": "2025-03-02T15:34:37.401761Z",
     "iopub.status.busy": "2025-03-02T15:34:37.399748Z",
     "iopub.status.idle": "2025-03-02T15:34:37.411569Z",
     "shell.execute_reply": "2025-03-02T15:34:37.411569Z",
     "shell.execute_reply.started": "2025-03-02T15:34:37.401761Z"
    },
    "id": "wkSE4jR1XzTg"
   },
   "outputs": [
    {
     "data": {
      "text/html": [
       "<div>\n",
       "<style scoped>\n",
       "    .dataframe tbody tr th:only-of-type {\n",
       "        vertical-align: middle;\n",
       "    }\n",
       "\n",
       "    .dataframe tbody tr th {\n",
       "        vertical-align: top;\n",
       "    }\n",
       "\n",
       "    .dataframe thead th {\n",
       "        text-align: right;\n",
       "    }\n",
       "</style>\n",
       "<table border=\"1\" class=\"dataframe\">\n",
       "  <thead>\n",
       "    <tr style=\"text-align: right;\">\n",
       "      <th></th>\n",
       "      <th>0</th>\n",
       "      <th>1</th>\n",
       "    </tr>\n",
       "  </thead>\n",
       "  <tbody>\n",
       "    <tr>\n",
       "      <th>0</th>\n",
       "      <td>a</td>\n",
       "      <td>1</td>\n",
       "    </tr>\n",
       "    <tr>\n",
       "      <th>1</th>\n",
       "      <td>B</td>\n",
       "      <td>2</td>\n",
       "    </tr>\n",
       "  </tbody>\n",
       "</table>\n",
       "</div>"
      ],
      "text/plain": [
       "   0  1\n",
       "0  a  1\n",
       "1  B  2"
      ]
     },
     "execution_count": 173,
     "metadata": {},
     "output_type": "execute_result"
    }
   ],
   "source": [
    "pd.DataFrame([['a', 1], ['B', 2]])"
   ]
  },
  {
   "cell_type": "code",
   "execution_count": 174,
   "metadata": {
    "execution": {
     "iopub.execute_input": "2025-03-02T15:36:55.218934Z",
     "iopub.status.busy": "2025-03-02T15:36:55.218934Z",
     "iopub.status.idle": "2025-03-02T15:36:55.222626Z",
     "shell.execute_reply": "2025-03-02T15:36:55.222626Z",
     "shell.execute_reply.started": "2025-03-02T15:36:55.218934Z"
    }
   },
   "outputs": [],
   "source": [
    "import pandas as pd\n",
    "import seaborn as sns"
   ]
  },
  {
   "cell_type": "code",
   "execution_count": 212,
   "metadata": {
    "execution": {
     "iopub.execute_input": "2025-03-03T06:20:05.850050Z",
     "iopub.status.busy": "2025-03-03T06:20:05.849043Z",
     "iopub.status.idle": "2025-03-03T06:20:05.874979Z",
     "shell.execute_reply": "2025-03-03T06:20:05.874979Z",
     "shell.execute_reply.started": "2025-03-03T06:20:05.850050Z"
    }
   },
   "outputs": [],
   "source": [
    "torch.save(model.state_dict(), 'CharLLM_Z.pt')"
   ]
  },
  {
   "cell_type": "code",
   "execution_count": null,
   "metadata": {},
   "outputs": [],
   "source": []
  }
 ],
 "metadata": {
  "accelerator": "GPU",
  "colab": {
   "provenance": []
  },
  "gpuClass": "standard",
  "kernelspec": {
   "display_name": "Python 3 (ipykernel)",
   "language": "python",
   "name": "python3"
  },
  "language_info": {
   "codemirror_mode": {
    "name": "ipython",
    "version": 3
   },
   "file_extension": ".py",
   "mimetype": "text/x-python",
   "name": "python",
   "nbconvert_exporter": "python",
   "pygments_lexer": "ipython3",
   "version": "3.11.9"
  },
  "widgets": {
   "application/vnd.jupyter.widget-state+json": {
    "state": {},
    "version_major": 2,
    "version_minor": 0
   }
  }
 },
 "nbformat": 4,
 "nbformat_minor": 4
}
