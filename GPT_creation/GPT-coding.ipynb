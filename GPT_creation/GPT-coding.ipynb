{
  "cells": [
    {
      "cell_type": "code",
      "execution_count": 1,
      "id": "80035271-b19b-432c-a482-6db40fa86fb9",
      "metadata": {
        "execution": {
          "iopub.execute_input": "2025-04-27T14:27:29.866673Z",
          "iopub.status.busy": "2025-04-27T14:27:29.866673Z",
          "iopub.status.idle": "2025-04-27T14:27:34.013823Z",
          "shell.execute_reply": "2025-04-27T14:27:34.012815Z",
          "shell.execute_reply.started": "2025-04-27T14:27:29.866673Z"
        },
        "id": "80035271-b19b-432c-a482-6db40fa86fb9",
        "outputId": "b0950b44-b51e-4cc5-f3a0-9d62a7da06b6",
        "colab": {
          "base_uri": "https://localhost:8080/"
        }
      },
      "outputs": [
        {
          "output_type": "stream",
          "name": "stdout",
          "text": [
            "\u001b[?25l   \u001b[90m━━━━━━━━━━━━━━━━━━━━━━━━━━━━━━━━━━━━━━━━\u001b[0m \u001b[32m0.0/1.2 MB\u001b[0m \u001b[31m?\u001b[0m eta \u001b[36m-:--:--\u001b[0m\r\u001b[2K   \u001b[91m━━━━━━━━━━━━━━━━━━━━━━━\u001b[0m\u001b[91m╸\u001b[0m\u001b[90m━━━━━━━━━━━━━━━━\u001b[0m \u001b[32m0.7/1.2 MB\u001b[0m \u001b[31m22.2 MB/s\u001b[0m eta \u001b[36m0:00:01\u001b[0m\r\u001b[2K   \u001b[91m━━━━━━━━━━━━━━━━━━━━━━━━━━━━━━━━━━━━━━━\u001b[0m\u001b[91m╸\u001b[0m \u001b[32m1.2/1.2 MB\u001b[0m \u001b[31m23.5 MB/s\u001b[0m eta \u001b[36m0:00:01\u001b[0m\r\u001b[2K   \u001b[90m━━━━━━━━━━━━━━━━━━━━━━━━━━━━━━━━━━━━━━━━\u001b[0m \u001b[32m1.2/1.2 MB\u001b[0m \u001b[31m13.6 MB/s\u001b[0m eta \u001b[36m0:00:00\u001b[0m\n",
            "\u001b[?25h"
          ]
        }
      ],
      "source": [
        "!pip install tiktoken -q"
      ]
    },
    {
      "cell_type": "markdown",
      "id": "5fd8644c-c5b4-4d95-8063-0b44b63e8708",
      "metadata": {
        "id": "5fd8644c-c5b4-4d95-8063-0b44b63e8708"
      },
      "source": [
        "# Build your LLM from scratch"
      ]
    },
    {
      "cell_type": "code",
      "execution_count": 2,
      "id": "1ffcf33d-6874-417f-9252-bfb8b104b9d0",
      "metadata": {
        "execution": {
          "iopub.execute_input": "2025-04-29T18:14:58.913120Z",
          "iopub.status.busy": "2025-04-29T18:14:58.912110Z",
          "iopub.status.idle": "2025-04-29T18:14:58.919638Z",
          "shell.execute_reply": "2025-04-29T18:14:58.919125Z",
          "shell.execute_reply.started": "2025-04-29T18:14:58.913120Z"
        },
        "id": "1ffcf33d-6874-417f-9252-bfb8b104b9d0"
      },
      "outputs": [],
      "source": [
        "import os\n",
        "import pandas as pd\n",
        "import numpy as np\n",
        "\n",
        "import tiktoken\n",
        "import torch\n",
        "import torch.nn as nn\n",
        "from torch.utils.data import Dataset, DataLoader"
      ]
    },
    {
      "cell_type": "markdown",
      "id": "624cec2c-8540-44ab-974d-e20281e19c51",
      "metadata": {
        "id": "624cec2c-8540-44ab-974d-e20281e19c51"
      },
      "source": [
        "# Working with text data"
      ]
    },
    {
      "cell_type": "code",
      "execution_count": 3,
      "id": "af4ed2e1-33d4-4ba3-9302-27010ddeffaf",
      "metadata": {
        "execution": {
          "iopub.execute_input": "2025-04-29T17:12:07.083106Z",
          "iopub.status.busy": "2025-04-29T17:12:07.082106Z",
          "iopub.status.idle": "2025-04-29T17:12:07.348469Z",
          "shell.execute_reply": "2025-04-29T17:12:07.348469Z",
          "shell.execute_reply.started": "2025-04-29T17:12:07.083106Z"
        },
        "id": "af4ed2e1-33d4-4ba3-9302-27010ddeffaf"
      },
      "outputs": [],
      "source": [
        "tokenizer = tiktoken.get_encoding(\"gpt2\")"
      ]
    },
    {
      "cell_type": "code",
      "execution_count": null,
      "id": "2ecddc3e-1735-4142-8597-6663e709d1e5",
      "metadata": {
        "execution": {
          "iopub.execute_input": "2025-04-27T14:40:10.976128Z",
          "iopub.status.busy": "2025-04-27T14:40:10.972048Z",
          "iopub.status.idle": "2025-04-27T14:40:10.985840Z",
          "shell.execute_reply": "2025-04-27T14:40:10.985236Z",
          "shell.execute_reply.started": "2025-04-27T14:40:10.976128Z"
        },
        "id": "2ecddc3e-1735-4142-8597-6663e709d1e5",
        "outputId": "1fb873b1-2e46-4226-f2d9-55cc914b8d18"
      },
      "outputs": [
        {
          "name": "stdout",
          "output_type": "stream",
          "text": [
            "I HAD always thought Jack Gisburn rather a cheap genius--though a good fellow enough--so it was no g\n"
          ]
        }
      ],
      "source": [
        "with open(os.path.join(\"data\", \"the-verdict.txt\"), \"r\", encoding=\"utf-8\") as f:\n",
        "    raw_text = f.read()\n",
        "\n",
        "print(raw_text[:100])"
      ]
    },
    {
      "cell_type": "code",
      "execution_count": null,
      "id": "6603597c-4442-49a2-a183-c3c2baede0ce",
      "metadata": {
        "execution": {
          "iopub.execute_input": "2025-04-27T14:39:09.958752Z",
          "iopub.status.busy": "2025-04-27T14:39:09.956730Z",
          "iopub.status.idle": "2025-04-27T14:39:09.991398Z",
          "shell.execute_reply": "2025-04-27T14:39:09.991398Z",
          "shell.execute_reply.started": "2025-04-27T14:39:09.958752Z"
        },
        "id": "6603597c-4442-49a2-a183-c3c2baede0ce",
        "outputId": "607a78c4-3b0d-467a-9ea3-da9376efca90"
      },
      "outputs": [
        {
          "name": "stdout",
          "output_type": "stream",
          "text": [
            "5145\n"
          ]
        }
      ],
      "source": [
        "# Length of a sample text tokenized by GPT-2 BPE tokenizer\n",
        "enc_text = tokenizer.encode(raw_text)\n",
        "print(len(enc_text))"
      ]
    },
    {
      "cell_type": "markdown",
      "id": "bbcd1c22-6716-4bcb-9162-efd17200aaf7",
      "metadata": {
        "id": "bbcd1c22-6716-4bcb-9162-efd17200aaf7"
      },
      "source": [
        "## Data sampling with a sliding window approach\n",
        "\n",
        "Using torch's `Dataset` class to create a simple textual dataset for GPT training. The code uses sliding window approach (combined with additional strides) to create a new dataset.\n",
        "\n",
        "![sliding_window](https://camo.githubusercontent.com/9c738e75095f70d3dc4f6b3630008dd67607b5fa92e3bf776b0ed2cbb68db299/68747470733a2f2f73656261737469616e72617363686b612e636f6d2f696d616765732f4c4c4d732d66726f6d2d736372617463682d696d616765732f636830325f636f6d707265737365642f31332e776562703f313233)"
      ]
    },
    {
      "cell_type": "code",
      "execution_count": 4,
      "id": "a3ac7021-b079-4d16-b98f-8fc9e0c1f973",
      "metadata": {
        "execution": {
          "iopub.execute_input": "2025-04-27T14:53:48.088766Z",
          "iopub.status.busy": "2025-04-27T14:53:48.088766Z",
          "iopub.status.idle": "2025-04-27T14:53:48.103254Z",
          "shell.execute_reply": "2025-04-27T14:53:48.103254Z",
          "shell.execute_reply.started": "2025-04-27T14:53:48.088766Z"
        },
        "id": "a3ac7021-b079-4d16-b98f-8fc9e0c1f973"
      },
      "outputs": [],
      "source": [
        "class GPTDatasetV1(Dataset):\n",
        "    def __init__(self, txt, tokenizer, max_length: int = 256, stride: int = 0) -> Dataset:\n",
        "        self.input_ids = []\n",
        "        self.target_ids = []\n",
        "\n",
        "        token_ids = tokenizer.encode(txt) # tokenize entire text\n",
        "\n",
        "        for i in range(0, len(token_ids) - max_length, stride):\n",
        "            input_chunk = token_ids[i:i+max_length]\n",
        "            target_chunk = token_ids[i+1:i+max_length+1]\n",
        "            self.input_ids.append(torch.tensor(input_chunk))\n",
        "            self.target_ids.append(torch.tensor(target_chunk))\n",
        "\n",
        "    def __len__(self):\n",
        "        return len(self.input_ids)\n",
        "\n",
        "    def __getitem__(self, idx):\n",
        "        return self.input_ids[idx], self.target_ids[idx]"
      ]
    },
    {
      "cell_type": "code",
      "execution_count": 5,
      "id": "7610cf45-d225-48a5-89a2-3ff1c8911ae4",
      "metadata": {
        "execution": {
          "iopub.execute_input": "2025-04-27T14:54:00.189907Z",
          "iopub.status.busy": "2025-04-27T14:54:00.189907Z",
          "iopub.status.idle": "2025-04-27T14:54:00.202311Z",
          "shell.execute_reply": "2025-04-27T14:54:00.201279Z",
          "shell.execute_reply.started": "2025-04-27T14:54:00.189907Z"
        },
        "id": "7610cf45-d225-48a5-89a2-3ff1c8911ae4"
      },
      "outputs": [],
      "source": [
        "def create_dataloader_v1(txt, batch_size: int = 4, max_length: int = 256,\n",
        "                         stride: int = 128, shuffle = True, drop_last = True,\n",
        "                         num_workers: int = 0):\n",
        "\n",
        "    # Initialize the tokenizer\n",
        "    tokenizer = tiktoken.get_encoding(\"gpt2\")\n",
        "\n",
        "    # Create dataset\n",
        "    dataset = GPTDatasetV1(txt, tokenizer, max_length, stride)\n",
        "\n",
        "    # Create dataloader\n",
        "    dataloader = DataLoader(\n",
        "        dataset,\n",
        "        batch_size=batch_size,\n",
        "        shuffle=shuffle,\n",
        "        drop_last=drop_last,\n",
        "        num_workers=num_workers\n",
        "    )\n",
        "\n",
        "    return dataloader"
      ]
    },
    {
      "cell_type": "code",
      "execution_count": null,
      "id": "d385bc04-8fea-450e-8556-365ef80e0a3e",
      "metadata": {
        "execution": {
          "iopub.execute_input": "2025-04-27T14:54:03.586422Z",
          "iopub.status.busy": "2025-04-27T14:54:03.586422Z",
          "iopub.status.idle": "2025-04-27T14:54:03.749092Z",
          "shell.execute_reply": "2025-04-27T14:54:03.749092Z",
          "shell.execute_reply.started": "2025-04-27T14:54:03.586422Z"
        },
        "id": "d385bc04-8fea-450e-8556-365ef80e0a3e",
        "outputId": "ff95d4ec-804d-4fdf-b8f1-100106d8b354"
      },
      "outputs": [
        {
          "name": "stdout",
          "output_type": "stream",
          "text": [
            "[tensor([[  40,  367, 2885, 1464]]), tensor([[ 367, 2885, 1464, 1807]])]\n"
          ]
        }
      ],
      "source": [
        "dataloader = create_dataloader_v1(\n",
        "    raw_text, batch_size=1, max_length=4, stride=1, shuffle=False\n",
        ")\n",
        "\n",
        "data_iter = iter(dataloader)\n",
        "first_batch = next(data_iter)\n",
        "print(first_batch)"
      ]
    },
    {
      "cell_type": "markdown",
      "id": "7ff3091e-930a-488e-9687-a634b3fe378c",
      "metadata": {
        "id": "7ff3091e-930a-488e-9687-a634b3fe378c"
      },
      "source": [
        "Creating embedding layers"
      ]
    },
    {
      "cell_type": "code",
      "execution_count": 6,
      "id": "54d40488-ceff-44aa-b951-71b82c504b14",
      "metadata": {
        "execution": {
          "iopub.execute_input": "2025-04-27T15:06:44.046788Z",
          "iopub.status.busy": "2025-04-27T15:06:44.046788Z",
          "iopub.status.idle": "2025-04-27T15:06:44.127193Z",
          "shell.execute_reply": "2025-04-27T15:06:44.127193Z",
          "shell.execute_reply.started": "2025-04-27T15:06:44.046788Z"
        },
        "id": "54d40488-ceff-44aa-b951-71b82c504b14"
      },
      "outputs": [],
      "source": [
        "vocab_size = 50257\n",
        "output_dim = 256\n",
        "max_length = 4\n",
        "context_length = max_length\n",
        "token_embedding_layer = torch.nn.Embedding(vocab_size, output_dim)"
      ]
    },
    {
      "cell_type": "markdown",
      "id": "a5dca1a7-a73c-4fe0-9ded-1134097d959d",
      "metadata": {
        "id": "a5dca1a7-a73c-4fe0-9ded-1134097d959d"
      },
      "source": [
        "Using embedding layers the procedure is the following:"
      ]
    },
    {
      "cell_type": "code",
      "execution_count": null,
      "id": "ced0d52f-b4dd-4edc-8f5f-6ccfe274a215",
      "metadata": {
        "execution": {
          "iopub.execute_input": "2025-04-27T15:05:36.977390Z",
          "iopub.status.busy": "2025-04-27T15:05:36.977390Z",
          "iopub.status.idle": "2025-04-27T15:05:37.019838Z",
          "shell.execute_reply": "2025-04-27T15:05:37.019838Z",
          "shell.execute_reply.started": "2025-04-27T15:05:36.977390Z"
        },
        "id": "ced0d52f-b4dd-4edc-8f5f-6ccfe274a215",
        "outputId": "e9c21ce6-42ac-4332-be3c-5f8ba93734e3"
      },
      "outputs": [
        {
          "name": "stdout",
          "output_type": "stream",
          "text": [
            "Token ID's tensor([[   40,   367,  2885,  1464],\n",
            "        [ 1807,  3619,   402,   271],\n",
            "        [10899,  2138,   257,  7026],\n",
            "        [15632,   438,  2016,   257],\n",
            "        [  922,  5891,  1576,   438],\n",
            "        [  568,   340,   373,   645],\n",
            "        [ 1049,  5975,   284,   502],\n",
            "        [  284,  3285,   326,    11]])\n",
            "Shape torch.Size([8, 4])\n"
          ]
        }
      ],
      "source": [
        "dataloader = create_dataloader_v1(\n",
        "    raw_text, batch_size=8, max_length=max_length, stride=max_length, shuffle=False\n",
        ")\n",
        "\n",
        "data_iter = iter(dataloader)\n",
        "inputs, targets = next(data_iter)\n",
        "print(\"Token ID's\", inputs)\n",
        "print(\"Shape\", inputs.shape)"
      ]
    },
    {
      "cell_type": "code",
      "execution_count": null,
      "id": "acecfa3e-8d23-4a2e-8960-f7acd7ad22b1",
      "metadata": {
        "execution": {
          "iopub.execute_input": "2025-04-27T15:06:00.824075Z",
          "iopub.status.busy": "2025-04-27T15:06:00.824075Z",
          "iopub.status.idle": "2025-04-27T15:06:00.866846Z",
          "shell.execute_reply": "2025-04-27T15:06:00.865836Z",
          "shell.execute_reply.started": "2025-04-27T15:06:00.824075Z"
        },
        "id": "acecfa3e-8d23-4a2e-8960-f7acd7ad22b1",
        "outputId": "9dc84976-939d-44b6-faab-c154b39ad714"
      },
      "outputs": [
        {
          "data": {
            "text/plain": [
              "torch.Size([8, 4, 256])"
            ]
          },
          "execution_count": 70,
          "metadata": {},
          "output_type": "execute_result"
        }
      ],
      "source": [
        "# Embedded tokens\n",
        "token_embedding_layer(inputs).shape"
      ]
    },
    {
      "cell_type": "code",
      "execution_count": null,
      "id": "23ce1cc5-4ad6-49de-aaeb-b3b831314c7e",
      "metadata": {
        "execution": {
          "iopub.execute_input": "2025-04-27T15:08:25.225529Z",
          "iopub.status.busy": "2025-04-27T15:08:25.225529Z",
          "iopub.status.idle": "2025-04-27T15:08:25.276590Z",
          "shell.execute_reply": "2025-04-27T15:08:25.276590Z",
          "shell.execute_reply.started": "2025-04-27T15:08:25.225529Z"
        },
        "id": "23ce1cc5-4ad6-49de-aaeb-b3b831314c7e",
        "outputId": "cc870f29-8de7-442d-c9ed-397849909b4d"
      },
      "outputs": [
        {
          "name": "stdout",
          "output_type": "stream",
          "text": [
            "torch.Size([4, 256])\n"
          ]
        }
      ],
      "source": [
        "# Absolute embeddings for positional encoding are created using the following procedure\n",
        "\n",
        "pos_embedding_layer = torch.nn.Embedding(context_length, output_dim)\n",
        "pos_embeddings = pos_embedding_layer(torch.arange(context_length))\n",
        "print(pos_embeddings.shape)"
      ]
    },
    {
      "cell_type": "markdown",
      "id": "63393840-bab6-441d-a4c4-dadc696de619",
      "metadata": {
        "id": "63393840-bab6-441d-a4c4-dadc696de619"
      },
      "source": [
        "Positional embeddings are combined with the token embedding vector to form the input embeddings for a large language model:\n",
        "![pos_embddings](https://camo.githubusercontent.com/e53fdceda6a07218acfe115d81dc930241569fbbcd5c3e533856dee1959a8a93/68747470733a2f2f73656261737469616e72617363686b612e636f6d2f696d616765732f4c4c4d732d66726f6d2d736372617463682d696d616765732f636830325f636f6d707265737365642f31382e77656270)"
      ]
    },
    {
      "cell_type": "code",
      "execution_count": null,
      "id": "fd8163ee-86fd-4852-8787-5a25e1aa1d23",
      "metadata": {
        "execution": {
          "iopub.execute_input": "2025-04-27T15:10:54.096802Z",
          "iopub.status.busy": "2025-04-27T15:10:54.096802Z",
          "iopub.status.idle": "2025-04-27T15:10:54.141956Z",
          "shell.execute_reply": "2025-04-27T15:10:54.141956Z",
          "shell.execute_reply.started": "2025-04-27T15:10:54.096802Z"
        },
        "id": "fd8163ee-86fd-4852-8787-5a25e1aa1d23",
        "outputId": "9cf8be41-f3e0-4689-cea5-7278941a1db5"
      },
      "outputs": [
        {
          "name": "stdout",
          "output_type": "stream",
          "text": [
            "torch.Size([8, 4, 256])\n"
          ]
        }
      ],
      "source": [
        "input_embeddings = token_embedding_layer(inputs) + pos_embeddings\n",
        "print(input_embeddings.shape)"
      ]
    },
    {
      "cell_type": "markdown",
      "id": "ac4c87d4-d4e1-4f0b-80dd-b38ee96afb42",
      "metadata": {
        "id": "ac4c87d4-d4e1-4f0b-80dd-b38ee96afb42"
      },
      "source": [
        "# Attention implementation"
      ]
    },
    {
      "cell_type": "markdown",
      "id": "91d73ac9-746e-4faf-9cfd-2d735855d3ad",
      "metadata": {
        "id": "91d73ac9-746e-4faf-9cfd-2d735855d3ad"
      },
      "source": [
        "Simple attention idea is the following: context-aware vector the represents attention mechanism is calculated for each token in an input sequence in order to create vector representations that contain the most valuable information for each part of the input sequence.\n",
        "\n",
        "## Simple attention\n",
        "\n",
        "Simple self-attention implements an immutable attention mechanism based solely on matrix multiplication. Attention calulation is perfomed in the following way:\n",
        "1. For each `Query` vector compute dot products with each `Key` vectors;\n",
        "2. Transform results of dot products using *softmax* function in order to normalize attention multipliers (**interpretation:** probabilities of relative importance for each token);\n",
        "3. Compute attention scores."
      ]
    },
    {
      "cell_type": "code",
      "execution_count": 7,
      "id": "66a1420e-94fb-47f5-8eaa-60a1397b5690",
      "metadata": {
        "execution": {
          "iopub.execute_input": "2025-04-29T17:54:38.292810Z",
          "iopub.status.busy": "2025-04-29T17:54:38.291815Z",
          "iopub.status.idle": "2025-04-29T17:54:38.303990Z",
          "shell.execute_reply": "2025-04-29T17:54:38.302971Z",
          "shell.execute_reply.started": "2025-04-29T17:54:38.292810Z"
        },
        "id": "66a1420e-94fb-47f5-8eaa-60a1397b5690",
        "outputId": "990a1ea2-4036-4c3a-f5d4-092665475d95",
        "colab": {
          "base_uri": "https://localhost:8080/"
        }
      },
      "outputs": [
        {
          "output_type": "execute_result",
          "data": {
            "text/plain": [
              "tensor([[0.4300, 0.1500, 0.8900],\n",
              "        [0.5500, 0.8700, 0.6600],\n",
              "        [0.5700, 0.8500, 0.6400],\n",
              "        [0.2200, 0.5800, 0.3300],\n",
              "        [0.7700, 0.2500, 0.1000],\n",
              "        [0.0500, 0.8000, 0.5500]])"
            ]
          },
          "metadata": {},
          "execution_count": 7
        }
      ],
      "source": [
        "inputs = torch.tensor(\n",
        "  [[0.43, 0.15, 0.89], # Your     (x^1)\n",
        "   [0.55, 0.87, 0.66], # journey  (x^2)\n",
        "   [0.57, 0.85, 0.64], # starts   (x^3)\n",
        "   [0.22, 0.58, 0.33], # with     (x^4)\n",
        "   [0.77, 0.25, 0.10], # one      (x^5)\n",
        "   [0.05, 0.80, 0.55]] # step     (x^6)\n",
        ")\n",
        "inputs"
      ]
    },
    {
      "cell_type": "markdown",
      "id": "c423418d-f362-47aa-845c-021040269af5",
      "metadata": {
        "id": "c423418d-f362-47aa-845c-021040269af5"
      },
      "source": [
        "Inputs serve as Q, K, V vectors at the same time."
      ]
    },
    {
      "cell_type": "code",
      "execution_count": 8,
      "id": "20dee42f-e03d-4866-929d-e1426365a1c0",
      "metadata": {
        "execution": {
          "iopub.execute_input": "2025-04-29T17:54:40.466491Z",
          "iopub.status.busy": "2025-04-29T17:54:40.465491Z",
          "iopub.status.idle": "2025-04-29T17:54:40.478015Z",
          "shell.execute_reply": "2025-04-29T17:54:40.477496Z",
          "shell.execute_reply.started": "2025-04-29T17:54:40.466491Z"
        },
        "id": "20dee42f-e03d-4866-929d-e1426365a1c0",
        "outputId": "9b806fd9-3468-4766-c713-03c5dadc38f8",
        "colab": {
          "base_uri": "https://localhost:8080/"
        }
      },
      "outputs": [
        {
          "output_type": "stream",
          "name": "stdout",
          "text": [
            "Attention scores\n",
            "tensor([[0.9995, 0.9544, 0.9422, 0.4753, 0.4576, 0.6310],\n",
            "        [0.9544, 1.4950, 1.4754, 0.8434, 0.7070, 1.0865],\n",
            "        [0.9422, 1.4754, 1.4570, 0.8296, 0.7154, 1.0605],\n",
            "        [0.4753, 0.8434, 0.8296, 0.4937, 0.3474, 0.6565],\n",
            "        [0.4576, 0.7070, 0.7154, 0.3474, 0.6654, 0.2935],\n",
            "        [0.6310, 1.0865, 1.0605, 0.6565, 0.2935, 0.9450]])\n",
            "Attention weights\n",
            "tensor([[0.2098, 0.2006, 0.1981, 0.1242, 0.1220, 0.1452],\n",
            "        [0.1385, 0.2379, 0.2333, 0.1240, 0.1082, 0.1581],\n",
            "        [0.1390, 0.2369, 0.2326, 0.1242, 0.1108, 0.1565],\n",
            "        [0.1435, 0.2074, 0.2046, 0.1462, 0.1263, 0.1720],\n",
            "        [0.1526, 0.1958, 0.1975, 0.1367, 0.1879, 0.1295],\n",
            "        [0.1385, 0.2184, 0.2128, 0.1420, 0.0988, 0.1896]])\n",
            "Attention weights check\n",
            "tensor([1.0000, 1.0000, 1.0000, 1.0000, 1.0000, 1.0000])\n"
          ]
        }
      ],
      "source": [
        "attn_scores = inputs @ inputs.T\n",
        "print('Attention scores', attn_scores, sep = '\\n')\n",
        "\n",
        "attn_weights = torch.softmax(attn_scores, dim = -1)\n",
        "print('Attention weights', attn_weights, sep = '\\n')\n",
        "print('Attention weights check', attn_weights.sum(dim = -1), sep = '\\n')"
      ]
    },
    {
      "cell_type": "code",
      "execution_count": 9,
      "id": "1dd7ae95-a801-4701-9d28-117e8cdb4071",
      "metadata": {
        "execution": {
          "iopub.execute_input": "2025-04-29T17:54:44.646304Z",
          "iopub.status.busy": "2025-04-29T17:54:44.646304Z",
          "iopub.status.idle": "2025-04-29T17:54:44.653976Z",
          "shell.execute_reply": "2025-04-29T17:54:44.652960Z",
          "shell.execute_reply.started": "2025-04-29T17:54:44.646304Z"
        },
        "id": "1dd7ae95-a801-4701-9d28-117e8cdb4071",
        "outputId": "9e2e602a-a758-4be5-b009-fc4a61acf7c6",
        "colab": {
          "base_uri": "https://localhost:8080/"
        }
      },
      "outputs": [
        {
          "output_type": "stream",
          "name": "stdout",
          "text": [
            "Final context vectors\n",
            "tensor([[0.4421, 0.5931, 0.5790],\n",
            "        [0.4419, 0.6515, 0.5683],\n",
            "        [0.4431, 0.6496, 0.5671],\n",
            "        [0.4304, 0.6298, 0.5510],\n",
            "        [0.4671, 0.5910, 0.5266],\n",
            "        [0.4177, 0.6503, 0.5645]])\n"
          ]
        }
      ],
      "source": [
        "context_vectors = attn_weights @ inputs\n",
        "print('Final context vectors', context_vectors, sep = '\\n')"
      ]
    },
    {
      "cell_type": "markdown",
      "id": "507b7b34-9ab3-4398-a160-abf3b21d5726",
      "metadata": {
        "id": "507b7b34-9ab3-4398-a160-abf3b21d5726"
      },
      "source": [
        "## Trainable self-attention\n",
        "\n",
        "Self-attention mechanism that is so-called **Scaled Dot-Product Attention**. This attention mechanism is trainable and can perform necessary update due to use of $W_q; W_k; W_v$ matrices that represent *Query, Key, Value* weight matrices.\n",
        "\n",
        "**Attention scores** are dynamically updated coefficients that change due to input information mutations, however **QKV** weight matrices are static matrices that update only while training.\n",
        "$$\\text{Attention} = \\text{softmax} \\bigl( \\frac{Q \\cdot K}{\\sqrt{d_{keys}}}\\bigr) V$$\n"
      ]
    },
    {
      "cell_type": "code",
      "execution_count": 10,
      "id": "3a43c14b-5e34-46b7-8df0-fe3e600fe1c3",
      "metadata": {
        "execution": {
          "iopub.execute_input": "2025-04-29T18:05:29.534934Z",
          "iopub.status.busy": "2025-04-29T18:05:29.534934Z",
          "iopub.status.idle": "2025-04-29T18:05:29.540840Z",
          "shell.execute_reply": "2025-04-29T18:05:29.539820Z",
          "shell.execute_reply.started": "2025-04-29T18:05:29.534934Z"
        },
        "id": "3a43c14b-5e34-46b7-8df0-fe3e600fe1c3"
      },
      "outputs": [],
      "source": [
        "d_in = inputs.shape[1] # the input embedding size, d=3\n",
        "d_out = 2"
      ]
    },
    {
      "cell_type": "code",
      "execution_count": 11,
      "id": "f2e5ffea-c614-4fe6-a74b-2498828fa97b",
      "metadata": {
        "execution": {
          "iopub.execute_input": "2025-04-29T18:29:49.210864Z",
          "iopub.status.busy": "2025-04-29T18:29:49.210864Z",
          "iopub.status.idle": "2025-04-29T18:29:49.218386Z",
          "shell.execute_reply": "2025-04-29T18:29:49.217873Z",
          "shell.execute_reply.started": "2025-04-29T18:29:49.210864Z"
        },
        "id": "f2e5ffea-c614-4fe6-a74b-2498828fa97b"
      },
      "outputs": [],
      "source": [
        "class SelfAttention_v1(nn.Module):\n",
        "    def __init__(self, d_in, d_out):\n",
        "        super().__init__()\n",
        "        self.W_query = nn.Parameter(torch.rand(d_in, d_out)) # (emb_size, attn_emb_size)\n",
        "        self.W_key = nn.Parameter(torch.rand(d_in, d_out)) # (emb_size, attn_emb_size)\n",
        "        self.W_value = nn.Parameter(torch.rand(d_in, d_out)) # (emb_size, attn_emb_size)\n",
        "\n",
        "    def forward(self, x):\n",
        "        queries = x @ self.W_query # (n_tokens, emb_size) X (emb_size, attn_emb_size) -> (n_tokens, attn_emb_size)\n",
        "        keys = x @ self.W_key # (n_tokens, emb_size) X (emb_size, attn_emb_size) -> (n_tokens, attn_emb_size)\n",
        "        values = x @ self.W_value # (n_tokens, emb_size) X (emb_size, attn_emb_size) -> (n_tokens, attn_emb_size)\n",
        "\n",
        "        attn_scores = queries @ keys.T # (n_tokens, attn_emb_size) X (attn_emb_size, n_tokens) -> (n_tokens, n_tokens)\n",
        "        attn_weights = torch.softmax(\n",
        "            attn_scores / keys.shape[-1]**0.5, dim = -1\n",
        "        )\n",
        "        context_vectors = attn_weights @ values # (n_tokens, n_tokens) X (n_tokens, attn_emb_size) -> (n_tokens, attn_emb_size)\n",
        "        return context_vectors"
      ]
    },
    {
      "cell_type": "code",
      "execution_count": 12,
      "id": "6dc56662-1f95-4145-af54-c1af6b264c8b",
      "metadata": {
        "execution": {
          "iopub.execute_input": "2025-04-29T18:29:50.232572Z",
          "iopub.status.busy": "2025-04-29T18:29:50.231570Z",
          "iopub.status.idle": "2025-04-29T18:29:50.251041Z",
          "shell.execute_reply": "2025-04-29T18:29:50.250030Z",
          "shell.execute_reply.started": "2025-04-29T18:29:50.232572Z"
        },
        "id": "6dc56662-1f95-4145-af54-c1af6b264c8b",
        "outputId": "8ae75c2d-bff1-492f-8436-649ad2c81278",
        "colab": {
          "base_uri": "https://localhost:8080/"
        }
      },
      "outputs": [
        {
          "output_type": "stream",
          "name": "stdout",
          "text": [
            "tensor([[0.2996, 0.8053],\n",
            "        [0.3061, 0.8210],\n",
            "        [0.3058, 0.8203],\n",
            "        [0.2948, 0.7939],\n",
            "        [0.2927, 0.7891],\n",
            "        [0.2990, 0.8040]], grad_fn=<MmBackward0>)\n"
          ]
        }
      ],
      "source": [
        "torch.manual_seed(123)\n",
        "\n",
        "sa_v1 = SelfAttention_v1(d_in, d_out)\n",
        "\n",
        "# Calculate context vectors\n",
        "print(sa_v1(inputs))"
      ]
    },
    {
      "cell_type": "markdown",
      "id": "452be7a1-c18f-4c6f-90c7-95b3c0956b54",
      "metadata": {
        "id": "452be7a1-c18f-4c6f-90c7-95b3c0956b54"
      },
      "source": [
        "![image.png](https://camo.githubusercontent.com/5edb6b2e02db4ad16761a1c6a6de4f75b16d6d03e2eac6d52c263669ea358308/68747470733a2f2f73656261737469616e72617363686b612e636f6d2f696d616765732f4c4c4d732d66726f6d2d736372617463682d696d616765732f636830335f636f6d707265737365642f31382e77656270)\n",
        "\n",
        "Usage of `nn.Linear` layers is preferred in the self attention class due to a more efficient implementation."
      ]
    },
    {
      "cell_type": "code",
      "execution_count": 13,
      "id": "53ecb3b0-9933-4d22-b3af-a40f6818365a",
      "metadata": {
        "execution": {
          "iopub.execute_input": "2025-04-29T18:38:36.137094Z",
          "iopub.status.busy": "2025-04-29T18:38:36.136094Z",
          "iopub.status.idle": "2025-04-29T18:38:36.144572Z",
          "shell.execute_reply": "2025-04-29T18:38:36.143557Z",
          "shell.execute_reply.started": "2025-04-29T18:38:36.136094Z"
        },
        "id": "53ecb3b0-9933-4d22-b3af-a40f6818365a"
      },
      "outputs": [],
      "source": [
        "class SelfAttention_v2(nn.Module):\n",
        "    def __init__(self, d_in, d_out, qkv_bias: bool = False):\n",
        "        super().__init__()\n",
        "        self.W_query = nn.Linear(d_in, d_out, qkv_bias) # (emb_size, attn_emb_size)\n",
        "        self.W_key = nn.Linear(d_in, d_out, qkv_bias) # (emb_size, attn_emb_size)\n",
        "        self.W_value = nn.Linear(d_in, d_out, qkv_bias) # (emb_size, attn_emb_size)\n",
        "\n",
        "    def forward(self, x):\n",
        "        queries = self.W_query(x) # (n_tokens, emb_size) X (emb_size, attn_emb_size) -> (n_tokens, attn_emb_size)\n",
        "        keys = self.W_key(x) # (n_tokens, emb_size) X (emb_size, attn_emb_size) -> (n_tokens, attn_emb_size)\n",
        "        values = self.W_value(x) # (n_tokens, emb_size) X (emb_size, attn_emb_size) -> (n_tokens, attn_emb_size)\n",
        "\n",
        "        attn_scores = queries @ keys.T # (n_tokens, attn_emb_size) X (attn_emb_size, n_tokens) -> (n_tokens, n_tokens)\n",
        "        attn_weights = torch.softmax(\n",
        "            attn_scores / keys.shape[-1]**0.5, dim = -1\n",
        "        )\n",
        "        context_vectors = attn_weights @ values # (n_tokens, n_tokens) X (n_tokens, attn_emb_size) -> (n_tokens, attn_emb_size)\n",
        "        return context_vectors"
      ]
    },
    {
      "cell_type": "code",
      "execution_count": 14,
      "id": "6c9d0e54-df8f-4d4a-a704-8c156d00cd52",
      "metadata": {
        "execution": {
          "iopub.execute_input": "2025-04-29T18:38:38.146496Z",
          "iopub.status.busy": "2025-04-29T18:38:38.145497Z",
          "iopub.status.idle": "2025-04-29T18:38:38.161706Z",
          "shell.execute_reply": "2025-04-29T18:38:38.160690Z",
          "shell.execute_reply.started": "2025-04-29T18:38:38.146496Z"
        },
        "id": "6c9d0e54-df8f-4d4a-a704-8c156d00cd52",
        "outputId": "66669c92-6963-414c-c849-ebb085fcd43c",
        "colab": {
          "base_uri": "https://localhost:8080/"
        }
      },
      "outputs": [
        {
          "output_type": "stream",
          "name": "stdout",
          "text": [
            "tensor([[-0.0739,  0.0713],\n",
            "        [-0.0748,  0.0703],\n",
            "        [-0.0749,  0.0702],\n",
            "        [-0.0760,  0.0685],\n",
            "        [-0.0763,  0.0679],\n",
            "        [-0.0754,  0.0693]], grad_fn=<MmBackward0>)\n"
          ]
        }
      ],
      "source": [
        "torch.manual_seed(789)\n",
        "\n",
        "sa_v2 = SelfAttention_v2(d_in, d_out)\n",
        "\n",
        "# Calculate context vectors\n",
        "print(sa_v2(inputs))"
      ]
    },
    {
      "cell_type": "markdown",
      "id": "267e1686-0598-4cef-93a2-0eec3ea0e85a",
      "metadata": {
        "id": "267e1686-0598-4cef-93a2-0eec3ea0e85a"
      },
      "source": [
        "## Causal attention\n",
        "\n",
        "Causal attention (*masked attention*) is used for restricting LM. *Masked attention* forces LM to consider only previous tokens when generating the output.\n",
        "\n",
        "**Causal attention masks future tokens.**\n",
        "![image.png](https://camo.githubusercontent.com/ae6a1857af914fbb7d57da177ce6bff4b57dbebe3bd11395855b3315ae13d1e1/68747470733a2f2f73656261737469616e72617363686b612e636f6d2f696d616765732f4c4c4d732d66726f6d2d736372617463682d696d616765732f636830335f636f6d707265737365642f31392e77656270)"
      ]
    },
    {
      "cell_type": "markdown",
      "source": [
        "Normalization steps performed during attention calculation can cause information leakage during this procedure, however *properties* of the softmax function can nullify this error.\n",
        "\n",
        "*The mathematical elegance of softmax is that despite initially including all positions in the denominator, after masking and renormalizing, the effect of the masked positions is nullified—they don’t contribute to the softmax score in any meaningful way.*\n",
        "\n",
        "*In simpler terms, after masking and renormalization, the distribution of attention weights is as if it was calculated only among the unmasked positions to begin with. This ensures there’s no information leakage from future (or otherwise masked) tokens as we intended.*\n",
        "\n",
        "*Causal attention* can be improved using `inf` values that will faster the computations due to lesser number of operations in attention mechanism.\n",
        "\n",
        "![image](https://camo.githubusercontent.com/085c511ba76dafdd9bc7d9fc8e15fdf24770dfa7d8061cc2441675411051c5f0/68747470733a2f2f73656261737469616e72617363686b612e636f6d2f696d616765732f4c4c4d732d66726f6d2d736372617463682d696d616765732f636830335f636f6d707265737365642f32302e77656270)"
      ],
      "metadata": {
        "id": "Q4FeLEN9m05S"
      },
      "id": "Q4FeLEN9m05S"
    },
    {
      "cell_type": "code",
      "execution_count": 20,
      "id": "ccd695d3-ce86-4ba5-aaa6-3e3944c468df",
      "metadata": {
        "id": "ccd695d3-ce86-4ba5-aaa6-3e3944c468df",
        "outputId": "766d3773-8c10-41ff-d8f6-d185c2459ee2",
        "colab": {
          "base_uri": "https://localhost:8080/"
        }
      },
      "outputs": [
        {
          "output_type": "stream",
          "name": "stdout",
          "text": [
            "torch.Size([2, 6, 3])\n"
          ]
        }
      ],
      "source": [
        "batch = torch.stack((inputs, inputs), dim = 0)\n",
        "print(batch.shape)"
      ]
    },
    {
      "cell_type": "code",
      "source": [
        "class CausalAttention(nn.Module):\n",
        "\n",
        "  def __init__(self, d_in, d_out, context_length, dropout, qkv_bias: bool = False) -> None:\n",
        "      super().__init__()\n",
        "      self.W_query = nn.Linear(d_in, d_out, qkv_bias)\n",
        "      self.W_key = nn.Linear(d_in, d_out, qkv_bias)\n",
        "      self.W_value = nn.Linear(d_in, d_out, qkv_bias)\n",
        "\n",
        "      self.dropout = nn.Dropout(dropout)\n",
        "\n",
        "      # Transformers context length defines attention mask that can be applied to the data\n",
        "      # Create an upper triangular attention mask (mask is applied on a ones matrix) that is used for causal attention\n",
        "      self.register_buffer('mask', torch.triu(torch.ones((context_length, context_length)), diagonal = 1))\n",
        "\n",
        "  def forward(self, x):\n",
        "    batch, num_tokens, d_in = x.shape # B, T, C\n",
        "    queries = self.W_query(x) # T, CS\n",
        "    keys = self.W_key(x) # T, CS\n",
        "    values = self.W_value(x) # T, CS\n",
        "\n",
        "    # Transpose keys matrices in each batch element\n",
        "    attn_scores = queries @ keys.transpose(1, 2) # T, T\n",
        "\n",
        "    # Omit scores that are not used in calculation\n",
        "    attn_scores.masked_fill_(self.mask.bool()[:num_tokens, :num_tokens], -torch.inf)\n",
        "\n",
        "    attn_weights = torch.softmax(attn_scores / keys.shape[-1] ** 0.5, dim = -1)\n",
        "    attn_weights = self.dropout(attn_weights)\n",
        "\n",
        "    context_vectors = attn_weights @ values\n",
        "    return context_vectors"
      ],
      "metadata": {
        "id": "B3OnVOeApV1s"
      },
      "id": "B3OnVOeApV1s",
      "execution_count": 24,
      "outputs": []
    },
    {
      "cell_type": "code",
      "source": [
        "torch.manual_seed(123)\n",
        "\n",
        "causal = CausalAttention(d_in, d_out, batch.shape[1], 0.1)\n",
        "\n",
        "# Calculate context vectors\n",
        "print(causal(batch).shape)"
      ],
      "metadata": {
        "id": "T0aor23DxIKT",
        "outputId": "ac1b0464-abb7-4a86-b58c-4948e77a9bc3",
        "colab": {
          "base_uri": "https://localhost:8080/"
        }
      },
      "id": "T0aor23DxIKT",
      "execution_count": 27,
      "outputs": [
        {
          "output_type": "stream",
          "name": "stdout",
          "text": [
            "torch.Size([2, 6, 2])\n"
          ]
        }
      ]
    },
    {
      "cell_type": "markdown",
      "source": [
        "## Multihead attention mechanism\n",
        "\n",
        "Multi-head attention is the form of causal attention that implements multiple independent attention heads that will analyze the sequence in parallel."
      ],
      "metadata": {
        "id": "FixTpF5czE4-"
      },
      "id": "FixTpF5czE4-"
    },
    {
      "cell_type": "code",
      "source": [
        "class MultiHeadAttention(nn.Module):\n",
        "\n",
        "  def __init__(self, d_in, d_out,\n",
        "               num_heads, context_length,\n",
        "               dropout, qkv_bias: bool = True):\n",
        "    super().__init__()\n",
        "\n",
        "    assert (d_out % num_heads == 0), 'SA Head embedding size must be divisible by number of heads'\n",
        "    self.d_out = d_out\n",
        "    self.num_heads = num_heads\n",
        "    self.head_dim = d_out // num_heads\n",
        "    self.W_query = nn.Linear(d_in, d_out, qkv_bias)\n",
        "    self.W_key = nn.Linear(d_in, d_out, qkv_bias)\n",
        "    self.W_value = nn.Linear(d_in, d_out, qkv_bias)\n",
        "    self.out_proj = nn.Linear(d_out, d_out)\n",
        "    self.dropout = nn.Dropout(dropout)\n",
        "    self.register_buffer('mask', torch.triu(torch.ones(context_length, context_length), diagonal=1))\n",
        "\n",
        "  def forward(self, x):\n",
        "    batch, num_tokens, emb_size = x.shape\n",
        "\n",
        "    Q = self.W_query(x)\n",
        "    K = self.W_key(x)\n",
        "    V = self.W_value(x)\n",
        "\n",
        "\n",
        "    Q = Q.view(batch, num_tokens, self.num_heads, self.head_dim)\n",
        "    K = K.view(batch, num_tokens, self.num_heads, self.head_dim)\n",
        "    V = V.view(batch, num_tokens, self.num_heads, self.head_dim)\n",
        "\n",
        "    Q = Q.transpose(1, 2)\n",
        "    K = K.transpose(1, 2)\n",
        "    V = V.transpose(1, 2)\n",
        "\n",
        "    attn_scores = Q @ K.transpose(2, 3)\n",
        "    mask_bool = self.mask.bool()[:num_tokens, :num_tokens]\n",
        "\n",
        "    attn_scores.masked_fill_(mask_bool, -torch.inf)\n",
        "\n",
        "    attn_weights = torch.softmax(attn_scores / K.shape[-1] ** 0.5, dim = -1)\n",
        "    attn_weights = self.dropout(attn_weights)\n",
        "\n",
        "    context_vectors = (attn_weights @ V).transpose(1, 2)\n",
        "    context_vectors = context_vectors.contiguous().view(batch, num_tokens, self.d_out)\n",
        "\n",
        "    context_vectors = self.out_proj(context_vectors)    #11\n",
        "    return context_vectors"
      ],
      "metadata": {
        "id": "CQfFtLCSy7VJ"
      },
      "id": "CQfFtLCSy7VJ",
      "execution_count": 47,
      "outputs": []
    },
    {
      "cell_type": "code",
      "source": [
        "a = torch.Tensor([[1, 2, 3, 4],\n",
        "                  [5, 6, 7, 8]])\n",
        "a"
      ],
      "metadata": {
        "id": "vekzjj7c_srE",
        "outputId": "ad68e323-9ed3-4533-bdf5-3b32d41189d3",
        "colab": {
          "base_uri": "https://localhost:8080/"
        }
      },
      "id": "vekzjj7c_srE",
      "execution_count": 39,
      "outputs": [
        {
          "output_type": "execute_result",
          "data": {
            "text/plain": [
              "tensor([[1., 2., 3., 4.],\n",
              "        [5., 6., 7., 8.]])"
            ]
          },
          "metadata": {},
          "execution_count": 39
        }
      ]
    },
    {
      "cell_type": "code",
      "source": [
        "a.view(1, -1, 2)"
      ],
      "metadata": {
        "id": "9ArMoDye_zfA",
        "outputId": "a477383a-6929-41c8-ae89-b71bdcbcbcea",
        "colab": {
          "base_uri": "https://localhost:8080/"
        }
      },
      "id": "9ArMoDye_zfA",
      "execution_count": 46,
      "outputs": [
        {
          "output_type": "execute_result",
          "data": {
            "text/plain": [
              "tensor([[[1., 2.],\n",
              "         [3., 4.],\n",
              "         [5., 6.],\n",
              "         [7., 8.]]])"
            ]
          },
          "metadata": {},
          "execution_count": 46
        }
      ]
    }
  ],
  "metadata": {
    "kernelspec": {
      "display_name": "Python 3 (ipykernel)",
      "language": "python",
      "name": "python3"
    },
    "language_info": {
      "codemirror_mode": {
        "name": "ipython",
        "version": 3
      },
      "file_extension": ".py",
      "mimetype": "text/x-python",
      "name": "python",
      "nbconvert_exporter": "python",
      "pygments_lexer": "ipython3",
      "version": "3.11.9"
    },
    "colab": {
      "provenance": []
    }
  },
  "nbformat": 4,
  "nbformat_minor": 5
}