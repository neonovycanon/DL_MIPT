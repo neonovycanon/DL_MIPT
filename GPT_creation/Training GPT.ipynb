{
 "cells": [
  {
   "cell_type": "markdown",
   "id": "86036716-d58b-482d-b144-125ede017b4e",
   "metadata": {},
   "source": [
    "# Training generative model"
   ]
  },
  {
   "cell_type": "code",
   "execution_count": null,
   "id": "cd870340-9bda-4d3b-9d0e-8daad8b34a50",
   "metadata": {},
   "outputs": [],
   "source": [
    "import os\n",
    "import pandas as pd\n",
    "import numpy as np\n",
    "\n",
    "import tiktoken\n",
    "import torch\n",
    "import torch.nn as nn\n",
    "from torch.utils.data import Dataset, DataLoader"
   ]
  },
  {
   "cell_type": "code",
   "execution_count": null,
   "id": "e155707b-ca8b-407e-92ed-d44f6c7a79b4",
   "metadata": {},
   "outputs": [],
   "source": []
  }
 ],
 "metadata": {
  "kernelspec": {
   "display_name": "Python 3 (ipykernel)",
   "language": "python",
   "name": "python3"
  },
  "language_info": {
   "codemirror_mode": {
    "name": "ipython",
    "version": 3
   },
   "file_extension": ".py",
   "mimetype": "text/x-python",
   "name": "python",
   "nbconvert_exporter": "python",
   "pygments_lexer": "ipython3",
   "version": "3.11.9"
  },
  "widgets": {
   "application/vnd.jupyter.widget-state+json": {
    "state": {},
    "version_major": 2,
    "version_minor": 0
   }
  }
 },
 "nbformat": 4,
 "nbformat_minor": 5
}
