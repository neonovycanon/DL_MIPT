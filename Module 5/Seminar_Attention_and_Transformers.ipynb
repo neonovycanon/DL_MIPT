{
 "cells": [
  {
   "cell_type": "markdown",
   "metadata": {
    "id": "yVTDkq4yAj-R"
   },
   "source": [
    "# Attention and Transformer model\n",
    "In this notebook, we will look at the Transformer architecture using Attention technology (Article: [Attention is All You Need](https://arxiv.org/abs/1706.03762)). Let's implement this architecture with some (many) changes. We also recommend the following materials for a more detailed acquaintance [first](https://www.mihaileric.com/posts/transformers-attention-in-disguise/), [second](https://jalammar.github.io/illustrated-transformer/) and [third](http://nlp.seas.harvard.edu/2018/04/03/attention.html).\n",
    "\n",
    "## Introduction\n",
    "\n",
    "The beauty of the transformer architecture is that it is basically a seq-to-seq model, but not recurrent or autoregressive (i.e., each input and output is processed independently).\n",
    "\n",
    "Transformer has become a state-of-the-art solution for many NLP tasks. In particular, pretrained Bert ([BERT](https://arxiv.org/abs/1810.04805)) is still used as a very good basic embedding for almost any NLP task.\n",
    "\n",
    "In addition to Bert, there are many other powerful pre-trained transformers. They can be found in the [huggingface](https://huggingface.co/transformers/) library. A full list of models can be seen at this [link](https://huggingface.co/transformers/pretrained_models.html)\n",
    "\n"
   ]
  },
  {
   "cell_type": "markdown",
   "metadata": {
    "id": "b9LZYtWixB2I"
   },
   "source": [
    "Connect to google drive and tensorboard"
   ]
  },
  {
   "cell_type": "code",
   "execution_count": null,
   "metadata": {
    "id": "bSoSSq_Iw_Gv"
   },
   "outputs": [],
   "source": [
    "from google.colab import drive\n",
    "\n",
    "drive.mount('/content/gdrive')"
   ]
  },
  {
   "cell_type": "code",
   "execution_count": 94,
   "metadata": {
    "execution": {
     "iopub.execute_input": "2025-03-23T10:33:14.559400Z",
     "iopub.status.busy": "2025-03-23T10:33:14.558400Z",
     "iopub.status.idle": "2025-03-23T10:33:14.574276Z",
     "shell.execute_reply": "2025-03-23T10:33:14.574276Z",
     "shell.execute_reply.started": "2025-03-23T10:33:14.559400Z"
    },
    "id": "hMhLEcTRbKzE"
   },
   "outputs": [
    {
     "data": {
      "text/plain": [
       "Reusing TensorBoard on port 6011 (pid 5392), started 0:00:39 ago. (Use '!kill 5392' to kill it.)"
      ]
     },
     "metadata": {},
     "output_type": "display_data"
    },
    {
     "data": {
      "text/html": [
       "\n",
       "      <iframe id=\"tensorboard-frame-328728c2a1724d48\" width=\"100%\" height=\"800\" frameborder=\"0\">\n",
       "      </iframe>\n",
       "      <script>\n",
       "        (function() {\n",
       "          const frame = document.getElementById(\"tensorboard-frame-328728c2a1724d48\");\n",
       "          const url = new URL(\"/\", window.location);\n",
       "          const port = 6011;\n",
       "          if (port) {\n",
       "            url.port = port;\n",
       "          }\n",
       "          frame.src = url;\n",
       "        })();\n",
       "      </script>\n",
       "    "
      ],
      "text/plain": [
       "<IPython.core.display.HTML object>"
      ]
     },
     "metadata": {},
     "output_type": "display_data"
    }
   ],
   "source": [
    "%reload_ext tensorboard\n",
    "#!rm -rf /content/gdrive/MyDrive/runs\n",
    "%tensorboard --logdir 'D:\\\\Notebooks\\\\Deep Learning School\\\\Module 5\\\\runs\\\\'"
   ]
  },
  {
   "cell_type": "markdown",
   "metadata": {
    "id": "2aSLCAIzA4vO"
   },
   "source": [
    "## Data processing\n",
    "\n",
    "Let's solve news classification problem [AG_NEWS](https://paperswithcode.com/dataset/ag-news). The task: define the topik (4 topiks exist) of news - “World”, “Sports”, “Business”, “Sci/Tech”."
   ]
  },
  {
   "cell_type": "code",
   "execution_count": 34,
   "metadata": {
    "execution": {
     "iopub.execute_input": "2025-03-23T09:32:57.678357Z",
     "iopub.status.busy": "2025-03-23T09:32:57.678357Z",
     "iopub.status.idle": "2025-03-23T09:32:57.683865Z",
     "shell.execute_reply": "2025-03-23T09:32:57.683358Z",
     "shell.execute_reply.started": "2025-03-23T09:32:57.678357Z"
    },
    "id": "zg-z24KZoK2H"
   },
   "outputs": [],
   "source": [
    "LOAD_LIBS = True\n",
    "FIRST_START = True"
   ]
  },
  {
   "cell_type": "code",
   "execution_count": 2,
   "metadata": {
    "execution": {
     "iopub.execute_input": "2025-03-23T08:58:40.320131Z",
     "iopub.status.busy": "2025-03-23T08:58:40.319130Z",
     "iopub.status.idle": "2025-03-23T08:59:32.016930Z",
     "shell.execute_reply": "2025-03-23T08:59:32.016930Z",
     "shell.execute_reply.started": "2025-03-23T08:58:40.320131Z"
    },
    "id": "sUanmLxlF1Ct",
    "scrolled": true
   },
   "outputs": [
    {
     "name": "stderr",
     "output_type": "stream",
     "text": [
      "\n",
      "[notice] A new release of pip is available: 24.0 -> 25.0.1\n",
      "[notice] To update, run: python.exe -m pip install --upgrade pip\n",
      "\n",
      "[notice] A new release of pip is available: 24.0 -> 25.0.1\n",
      "[notice] To update, run: python.exe -m pip install --upgrade pip\n",
      "\n",
      "[notice] A new release of pip is available: 24.0 -> 25.0.1\n",
      "[notice] To update, run: python.exe -m pip install --upgrade pip\n",
      "[nltk_data] Downloading package stopwords to 24.0 -> 25.0.1\n",
      "[notice] To update, run: python.exe -m pip install --upgrade pip\n",
      "\n",
      "[nltk_data]     C:\\Users\\gosha\\AppData\\Roaming\\nltk_data...\n",
      "[nltk_data]   Unzipping corpora\\stopwords.zip.\n",
      "\n",
      "[notice] A new release of pip is available: 24.0 -> 25.0.1\n",
      "[notice] To update, run: python.exe -m pip install --upgrade pip\n"
     ]
    }
   ],
   "source": [
    "if LOAD_LIBS:\n",
    "  !pip install transformers -q\n",
    "  !pip install datasets -q\n",
    "  !pip install nltk -q\n",
    "  !pip install pymorphy3 pymorphy3-dicts-ru -q\n",
    "  import nltk\n",
    "  nltk.download('stopwords')\n",
    "  !pip install pymorphy2 -q"
   ]
  },
  {
   "cell_type": "code",
   "execution_count": 3,
   "metadata": {
    "execution": {
     "iopub.execute_input": "2025-03-23T09:02:46.371380Z",
     "iopub.status.busy": "2025-03-23T09:02:46.369382Z",
     "iopub.status.idle": "2025-03-23T09:03:06.680583Z",
     "shell.execute_reply": "2025-03-23T09:03:06.680583Z",
     "shell.execute_reply.started": "2025-03-23T09:02:46.371380Z"
    },
    "id": "NjZUIpEAB_ZU"
   },
   "outputs": [
    {
     "data": {
      "text/plain": [
       "device(type='cuda')"
      ]
     },
     "execution_count": 3,
     "metadata": {},
     "output_type": "execute_result"
    }
   ],
   "source": [
    "import torch\n",
    "import torch.nn as nn\n",
    "import torch.optim as optim\n",
    "from torch.utils.data import Dataset, DataLoader\n",
    "import matplotlib.ticker as ticker\n",
    "from transformers import get_scheduler\n",
    "import matplotlib.pyplot as plt\n",
    "\n",
    "import numpy as np\n",
    "\n",
    "import random\n",
    "import math\n",
    "import time\n",
    "import string\n",
    "import pymorphy3\n",
    "import re\n",
    "\n",
    "# datasets from huggingface\n",
    "from datasets import load_dataset\n",
    "from transformers import BertTokenizer, BertModel\n",
    "\n",
    "from nltk.corpus import stopwords\n",
    "import nltk\n",
    "\n",
    "from tqdm.notebook import tqdm\n",
    "from torch.utils.tensorboard import SummaryWriter\n",
    "import matplotlib.pyplot as plt\n",
    "\n",
    "import os\n",
    "from datetime import datetime\n",
    "from torch.nn.utils.rnn import pad_sequence\n",
    "\n",
    "device = torch.device('cuda' if torch.cuda.is_available() else 'cpu')\n",
    "device"
   ]
  },
  {
   "cell_type": "code",
   "execution_count": 25,
   "metadata": {
    "execution": {
     "iopub.execute_input": "2025-03-23T09:16:00.342972Z",
     "iopub.status.busy": "2025-03-23T09:16:00.341972Z",
     "iopub.status.idle": "2025-03-23T09:16:00.399137Z",
     "shell.execute_reply": "2025-03-23T09:16:00.398817Z",
     "shell.execute_reply.started": "2025-03-23T09:16:00.342972Z"
    }
   },
   "outputs": [],
   "source": [
    "# BASE_FOLDER_PATH = 'gdrive/MyDrive'\n",
    "BASE_FOLDER_PATH = os.getcwd()\n",
    "BERT_MODEL_NAME = 'bert-base-cased'\n",
    "BATCH_SIZE = 32\n",
    "EPOCHS = 5\n",
    "MODEL_NAME = 'model_v0'\n",
    "LR = 0.00005\n",
    "N_HEADS = 1\n",
    "TRAIN_SIZE = 20000\n",
    "TEST_SIZE = 1000\n",
    "\n",
    "MODEL_FOLDER_PATH = os.path.join(BASE_FOLDER_PATH, MODEL_NAME)\n",
    "\n",
    "SCHEDULER_LAMBDA_PARAM = 0.96\n",
    "PAD_IND = 0\n",
    "HIDDEN_DIM = 768\n",
    "\n",
    "ENGLISH_STOP_WORDS = set(stopwords.words('english'))\n",
    "PUNCT_WORD_TOKENIZER = nltk.WordPunctTokenizer() # for preprocess\n",
    "\n",
    "MORPH_ANALYZER = pymorphy3.MorphAnalyzer()"
   ]
  },
  {
   "cell_type": "code",
   "execution_count": 26,
   "metadata": {
    "execution": {
     "iopub.execute_input": "2025-03-23T09:16:00.844997Z",
     "iopub.status.busy": "2025-03-23T09:16:00.843999Z",
     "iopub.status.idle": "2025-03-23T09:16:00.850904Z",
     "shell.execute_reply": "2025-03-23T09:16:00.849897Z",
     "shell.execute_reply.started": "2025-03-23T09:16:00.844997Z"
    },
    "id": "AmSms4nSxZeA"
   },
   "outputs": [],
   "source": [
    "os.makedirs(MODEL_FOLDER_PATH, exist_ok=True)"
   ]
  },
  {
   "cell_type": "code",
   "execution_count": 27,
   "metadata": {
    "execution": {
     "iopub.execute_input": "2025-03-23T09:16:02.376903Z",
     "iopub.status.busy": "2025-03-23T09:16:02.375903Z",
     "iopub.status.idle": "2025-03-23T09:16:09.227248Z",
     "shell.execute_reply": "2025-03-23T09:16:09.227248Z",
     "shell.execute_reply.started": "2025-03-23T09:16:02.375903Z"
    },
    "id": "THCz8hdiAf3f"
   },
   "outputs": [],
   "source": [
    "# dataset load\n",
    "dataset_dict = load_dataset('ag_news')\n",
    "train_ds = dataset_dict['train'].select(range(TRAIN_SIZE))\n",
    "test_ds = dataset_dict['test'].select(range(TEST_SIZE))"
   ]
  },
  {
   "cell_type": "code",
   "execution_count": null,
   "metadata": {
    "id": "M-EXW3gxNnXn"
   },
   "outputs": [],
   "source": []
  },
  {
   "cell_type": "code",
   "execution_count": 28,
   "metadata": {
    "execution": {
     "iopub.execute_input": "2025-03-23T09:18:18.241057Z",
     "iopub.status.busy": "2025-03-23T09:18:18.240050Z",
     "iopub.status.idle": "2025-03-23T09:18:18.248575Z",
     "shell.execute_reply": "2025-03-23T09:18:18.247062Z",
     "shell.execute_reply.started": "2025-03-23T09:18:18.241057Z"
    },
    "id": "vzKk8MgUqFbP"
   },
   "outputs": [],
   "source": [
    "def preprocess_text(text):\n",
    "    nums_filtered_text = re.sub(r'[0-9]+', '', text.lower())\n",
    "    punct_filtered_text = ''.join(\n",
    "        [ch for ch in nums_filtered_text if ch not in string.punctuation]\n",
    "    )\n",
    "    tokens = PUNCT_WORD_TOKENIZER.tokenize(punct_filtered_text)\n",
    "    filtr_stop_words_tokens = [MORPH_ANALYZER.parse(token)[0].normal_form for token in tokens\n",
    "                             if token not in ENGLISH_STOP_WORDS]\n",
    "    norm_tokens = [MORPH_ANALYZER.parse(token)[0].normal_form for token in filtr_stop_words_tokens]\n",
    "\n",
    "    return f\"[CLS] {' '.join(norm_tokens)}\""
   ]
  },
  {
   "cell_type": "markdown",
   "metadata": {
    "id": "n2tE1g4oJMUd"
   },
   "source": [
    "Let's use Bert tokenizer as tokenizer. And 0 layer of Bert is used as embedding (only layer with embedding without encoder blocks).\n",
    "\n",
    "Such tokenizer and embedding is used to simplify the code.\n",
    "\n"
   ]
  },
  {
   "cell_type": "markdown",
   "metadata": {
    "id": "wfKhLVyooc1R"
   },
   "source": [
    "### Reusing model parts\n",
    "\n",
    "We only want to use an *embedding* part of pretrained BERT model, so we need to extract *embedding* part of this model. It can be done using the following steps:\n",
    "\n",
    "- Load pretrained model and inspect it's structure, using `transformers` library methods."
   ]
  },
  {
   "cell_type": "code",
   "execution_count": 29,
   "metadata": {
    "execution": {
     "iopub.execute_input": "2025-03-23T09:25:40.139215Z",
     "iopub.status.busy": "2025-03-23T09:25:40.138222Z",
     "iopub.status.idle": "2025-03-23T09:25:50.440826Z",
     "shell.execute_reply": "2025-03-23T09:25:50.440826Z",
     "shell.execute_reply.started": "2025-03-23T09:25:40.139215Z"
    },
    "scrolled": true
   },
   "outputs": [
    {
     "data": {
      "application/vnd.jupyter.widget-view+json": {
       "model_id": "8e9e5447cd694b3582cc82390fd8229f",
       "version_major": 2,
       "version_minor": 0
      },
      "text/plain": [
       "config.json:   0%|          | 0.00/570 [00:00<?, ?B/s]"
      ]
     },
     "metadata": {},
     "output_type": "display_data"
    },
    {
     "name": "stderr",
     "output_type": "stream",
     "text": [
      "D:\\Notebooks\\.venv_Torch\\Lib\\site-packages\\huggingface_hub\\file_download.py:142: UserWarning: `huggingface_hub` cache-system uses symlinks by default to efficiently store duplicated files but your machine does not support them in C:\\Users\\gosha\\.cache\\huggingface\\hub\\models--bert-base-cased. Caching files will still work but in a degraded version that might require more space on your disk. This warning can be disabled by setting the `HF_HUB_DISABLE_SYMLINKS_WARNING` environment variable. For more details, see https://huggingface.co/docs/huggingface_hub/how-to-cache#limitations.\n",
      "To support symlinks on Windows, you either need to activate Developer Mode or to run Python as an administrator. In order to activate developer mode, see this article: https://docs.microsoft.com/en-us/windows/apps/get-started/enable-your-device-for-development\n",
      "  warnings.warn(message)\n"
     ]
    },
    {
     "data": {
      "application/vnd.jupyter.widget-view+json": {
       "model_id": "9b704ffccd9a4121a07a8ed2477fca1a",
       "version_major": 2,
       "version_minor": 0
      },
      "text/plain": [
       "model.safetensors:   0%|          | 0.00/436M [00:00<?, ?B/s]"
      ]
     },
     "metadata": {},
     "output_type": "display_data"
    },
    {
     "data": {
      "text/plain": [
       "BertModel(\n",
       "  (embeddings): BertEmbeddings(\n",
       "    (word_embeddings): Embedding(28996, 768, padding_idx=0)\n",
       "    (position_embeddings): Embedding(512, 768)\n",
       "    (token_type_embeddings): Embedding(2, 768)\n",
       "    (LayerNorm): LayerNorm((768,), eps=1e-12, elementwise_affine=True)\n",
       "    (dropout): Dropout(p=0.1, inplace=False)\n",
       "  )\n",
       "  (encoder): BertEncoder(\n",
       "    (layer): ModuleList(\n",
       "      (0-11): 12 x BertLayer(\n",
       "        (attention): BertAttention(\n",
       "          (self): BertSdpaSelfAttention(\n",
       "            (query): Linear(in_features=768, out_features=768, bias=True)\n",
       "            (key): Linear(in_features=768, out_features=768, bias=True)\n",
       "            (value): Linear(in_features=768, out_features=768, bias=True)\n",
       "            (dropout): Dropout(p=0.1, inplace=False)\n",
       "          )\n",
       "          (output): BertSelfOutput(\n",
       "            (dense): Linear(in_features=768, out_features=768, bias=True)\n",
       "            (LayerNorm): LayerNorm((768,), eps=1e-12, elementwise_affine=True)\n",
       "            (dropout): Dropout(p=0.1, inplace=False)\n",
       "          )\n",
       "        )\n",
       "        (intermediate): BertIntermediate(\n",
       "          (dense): Linear(in_features=768, out_features=3072, bias=True)\n",
       "          (intermediate_act_fn): GELUActivation()\n",
       "        )\n",
       "        (output): BertOutput(\n",
       "          (dense): Linear(in_features=3072, out_features=768, bias=True)\n",
       "          (LayerNorm): LayerNorm((768,), eps=1e-12, elementwise_affine=True)\n",
       "          (dropout): Dropout(p=0.1, inplace=False)\n",
       "        )\n",
       "      )\n",
       "    )\n",
       "  )\n",
       "  (pooler): BertPooler(\n",
       "    (dense): Linear(in_features=768, out_features=768, bias=True)\n",
       "    (activation): Tanh()\n",
       "  )\n",
       ")"
      ]
     },
     "execution_count": 29,
     "metadata": {},
     "output_type": "execute_result"
    }
   ],
   "source": [
    "bert = BertModel.from_pretrained(BERT_MODEL_NAME)\n",
    "bert"
   ]
  },
  {
   "cell_type": "markdown",
   "metadata": {},
   "source": [
    "Pretrained BERT model constists of multiple layers that are included in **3** main layers: `embedding`, `encoder`, `pooler` layers. To use `embedding` layer we need to refine model's structure.\n",
    "\n",
    "- Delete `encoder` layers from `nn.ModuleList` construction;\n",
    "- Transform `pooling` part into and *Identity* matrix that will only output it's unchanged inputs."
   ]
  },
  {
   "cell_type": "code",
   "execution_count": 30,
   "metadata": {
    "execution": {
     "iopub.execute_input": "2025-03-23T09:29:47.387585Z",
     "iopub.status.busy": "2025-03-23T09:29:47.386589Z",
     "iopub.status.idle": "2025-03-23T09:29:47.395408Z",
     "shell.execute_reply": "2025-03-23T09:29:47.395408Z",
     "shell.execute_reply.started": "2025-03-23T09:29:47.387585Z"
    }
   },
   "outputs": [
    {
     "data": {
      "text/plain": [
       "BertModel(\n",
       "  (embeddings): BertEmbeddings(\n",
       "    (word_embeddings): Embedding(28996, 768, padding_idx=0)\n",
       "    (position_embeddings): Embedding(512, 768)\n",
       "    (token_type_embeddings): Embedding(2, 768)\n",
       "    (LayerNorm): LayerNorm((768,), eps=1e-12, elementwise_affine=True)\n",
       "    (dropout): Dropout(p=0.1, inplace=False)\n",
       "  )\n",
       "  (encoder): BertEncoder(\n",
       "    (layer): ModuleList()\n",
       "  )\n",
       "  (pooler): Identity()\n",
       ")"
      ]
     },
     "execution_count": 30,
     "metadata": {},
     "output_type": "execute_result"
    }
   ],
   "source": [
    "bert.pooler = nn.Identity()\n",
    "del bert.encoder.layer[:]\n",
    "\n",
    "bert"
   ]
  },
  {
   "cell_type": "code",
   "execution_count": 31,
   "metadata": {
    "execution": {
     "iopub.execute_input": "2025-03-23T09:30:17.965677Z",
     "iopub.status.busy": "2025-03-23T09:30:17.965677Z",
     "iopub.status.idle": "2025-03-23T09:30:17.972412Z",
     "shell.execute_reply": "2025-03-23T09:30:17.971402Z",
     "shell.execute_reply.started": "2025-03-23T09:30:17.965677Z"
    }
   },
   "outputs": [],
   "source": [
    "del bert"
   ]
  },
  {
   "cell_type": "code",
   "execution_count": 32,
   "metadata": {
    "execution": {
     "iopub.execute_input": "2025-03-23T09:31:22.396598Z",
     "iopub.status.busy": "2025-03-23T09:31:22.394600Z",
     "iopub.status.idle": "2025-03-23T09:31:24.965934Z",
     "shell.execute_reply": "2025-03-23T09:31:24.965431Z",
     "shell.execute_reply.started": "2025-03-23T09:31:22.396598Z"
    },
    "id": "Ri-SJbSEFwya"
   },
   "outputs": [
    {
     "data": {
      "application/vnd.jupyter.widget-view+json": {
       "model_id": "69c34eeebd1c471ba0c9fac03659bc4f",
       "version_major": 2,
       "version_minor": 0
      },
      "text/plain": [
       "tokenizer_config.json:   0%|          | 0.00/49.0 [00:00<?, ?B/s]"
      ]
     },
     "metadata": {},
     "output_type": "display_data"
    },
    {
     "data": {
      "application/vnd.jupyter.widget-view+json": {
       "model_id": "a9f2737a28f246f79301ee4f67aaa06a",
       "version_major": 2,
       "version_minor": 0
      },
      "text/plain": [
       "vocab.txt:   0%|          | 0.00/213k [00:00<?, ?B/s]"
      ]
     },
     "metadata": {},
     "output_type": "display_data"
    },
    {
     "data": {
      "application/vnd.jupyter.widget-view+json": {
       "model_id": "3bb6e68643874aea9325f74d1d0ee600",
       "version_major": 2,
       "version_minor": 0
      },
      "text/plain": [
       "tokenizer.json:   0%|          | 0.00/436k [00:00<?, ?B/s]"
      ]
     },
     "metadata": {},
     "output_type": "display_data"
    }
   ],
   "source": [
    "# Function for model transforms\n",
    "\n",
    "def prepare_bert_tokenizer_and_embedder(bert_model_name, device=device):\n",
    "    tokenizer = BertTokenizer.from_pretrained(bert_model_name)\n",
    "    bert_embedder = BertModel.from_pretrained(bert_model_name)\n",
    "    bert_embedder.pooler = nn.Identity()\n",
    "    del bert_embedder.encoder.layer[:]\n",
    "\n",
    "    return tokenizer, bert_embedder.to(device)\n",
    "\n",
    "tokenizer, embedder = prepare_bert_tokenizer_and_embedder(bert_model_name=BERT_MODEL_NAME)"
   ]
  },
  {
   "cell_type": "markdown",
   "metadata": {
    "id": "9GHkHsKTpund"
   },
   "source": [
    "### Prepare texts\n",
    "\n",
    "Research text lengths. It could be necessary because we have to synchronize tokens sentence length. But we use Attention mechanism for these reason we can create mask for input tokens to ignore PAD tokens."
   ]
  },
  {
   "cell_type": "code",
   "execution_count": 35,
   "metadata": {
    "execution": {
     "iopub.execute_input": "2025-03-23T09:33:07.770074Z",
     "iopub.status.busy": "2025-03-23T09:33:07.769074Z",
     "iopub.status.idle": "2025-03-23T09:33:13.749758Z",
     "shell.execute_reply": "2025-03-23T09:33:13.749758Z",
     "shell.execute_reply.started": "2025-03-23T09:33:07.770074Z"
    },
    "id": "MHWjBPm2n4WE"
   },
   "outputs": [
    {
     "data": {
      "application/vnd.jupyter.widget-view+json": {
       "model_id": "7b069bc16ddc439abfdb6c7bd8cb6845",
       "version_major": 2,
       "version_minor": 0
      },
      "text/plain": [
       "  0%|          | 0/20000 [00:00<?, ?it/s]"
      ]
     },
     "metadata": {},
     "output_type": "display_data"
    },
    {
     "data": {
      "image/png": "[encoded data removed]",
      "text/plain": [
       "<Figure size 640x480 with 1 Axes>"
      ]
     },
     "metadata": {},
     "output_type": "display_data"
    }
   ],
   "source": [
    "lengs = []\n",
    "if FIRST_START:\n",
    "  lengs = [len(tokenizer.tokenize(train_json['text'])) for train_json in tqdm(train_ds)]\n",
    "\n",
    "if lengs:\n",
    "  plt.hist(lengs)"
   ]
  },
  {
   "cell_type": "markdown",
   "metadata": {
    "id": "PyzTk4j4z9xI"
   },
   "source": [
    "Let's write function to create mask by lengths tensor."
   ]
  },
  {
   "cell_type": "code",
   "execution_count": 58,
   "metadata": {
    "execution": {
     "iopub.execute_input": "2025-03-23T09:50:43.182702Z",
     "iopub.status.busy": "2025-03-23T09:50:43.181702Z",
     "iopub.status.idle": "2025-03-23T09:50:43.189925Z",
     "shell.execute_reply": "2025-03-23T09:50:43.188917Z",
     "shell.execute_reply.started": "2025-03-23T09:50:43.182702Z"
    },
    "id": "X9HNr0XnIcbJ"
   },
   "outputs": [],
   "source": [
    "def length_to_mask(length, max_len=None, dtype=None):\n",
    "    \"\"\"\n",
    "    length: B.\n",
    "    return B x max_len.\n",
    "    If max_len is None, then max of length will be used.\n",
    "    \"\"\"\n",
    "    assert len(length.shape) == 1, 'Length shape should be 1 dimensional.'\n",
    "    max_len = max_len or length.max().item()\n",
    "    # Create matrix constaining positional numbers, exapnd it to quantity of sequences in an input tensor and create boolean mask if lengths are not equal\n",
    "    mask = torch.arange(max_len, device=length.device,\n",
    "                        dtype=length.dtype).expand(len(length), int(max_len)) < length.unsqueeze(1)\n",
    "    if dtype is not None:\n",
    "        mask = torch.as_tensor(mask, dtype=dtype, device=length.device)\n",
    "    return mask"
   ]
  },
  {
   "cell_type": "code",
   "execution_count": 47,
   "metadata": {
    "execution": {
     "iopub.execute_input": "2025-03-23T09:45:44.974761Z",
     "iopub.status.busy": "2025-03-23T09:45:44.974761Z",
     "iopub.status.idle": "2025-03-23T09:45:44.980261Z",
     "shell.execute_reply": "2025-03-23T09:45:44.980261Z",
     "shell.execute_reply.started": "2025-03-23T09:45:44.974761Z"
    }
   },
   "outputs": [],
   "source": [
    "a = torch.Tensor([1.0, 2.0, 3.0, 7.0, 10.0, 5., 10., 9.]).to(device)"
   ]
  },
  {
   "cell_type": "code",
   "execution_count": 48,
   "metadata": {
    "execution": {
     "iopub.execute_input": "2025-03-23T09:45:45.493779Z",
     "iopub.status.busy": "2025-03-23T09:45:45.493779Z",
     "iopub.status.idle": "2025-03-23T09:45:45.505942Z",
     "shell.execute_reply": "2025-03-23T09:45:45.504939Z",
     "shell.execute_reply.started": "2025-03-23T09:45:45.493779Z"
    }
   },
   "outputs": [
    {
     "data": {
      "text/plain": [
       "tensor([[ True, False, False, False, False, False, False, False, False, False],\n",
       "        [ True,  True, False, False, False, False, False, False, False, False],\n",
       "        [ True,  True,  True, False, False, False, False, False, False, False],\n",
       "        [ True,  True,  True,  True,  True,  True,  True, False, False, False],\n",
       "        [ True,  True,  True,  True,  True,  True,  True,  True,  True,  True],\n",
       "        [ True,  True,  True,  True,  True, False, False, False, False, False],\n",
       "        [ True,  True,  True,  True,  True,  True,  True,  True,  True,  True],\n",
       "        [ True,  True,  True,  True,  True,  True,  True,  True,  True, False]],\n",
       "       device='cuda:0')"
      ]
     },
     "execution_count": 48,
     "metadata": {},
     "output_type": "execute_result"
    }
   ],
   "source": [
    "length_to_mask(a)"
   ]
  },
  {
   "cell_type": "markdown",
   "metadata": {
    "id": "BwgC43KIKn2D"
   },
   "source": [
    "Next, let's create a cool set of dates. To keep things simple and inexpensive, write the following code so that it immediately returns the text presented in the video in accordance with the embedding sequence.\n",
    "\n",
    "Also, for simplicity, this class will work with a date set object from library data sets (this can easily be corrected under any set of texts in a sequential task)."
   ]
  },
  {
   "cell_type": "code",
   "execution_count": 61,
   "metadata": {
    "execution": {
     "iopub.execute_input": "2025-03-23T09:57:23.430888Z",
     "iopub.status.busy": "2025-03-23T09:57:23.428890Z",
     "iopub.status.idle": "2025-03-23T09:57:23.440051Z",
     "shell.execute_reply": "2025-03-23T09:57:23.438890Z",
     "shell.execute_reply.started": "2025-03-23T09:57:23.430888Z"
    },
    "id": "HZ_h0SQVBi5K"
   },
   "outputs": [],
   "source": [
    "class MyDataset(Dataset):\n",
    "  def __init__(self, hug_dataset, tokenizer, embedder=None, device=device):\n",
    "    self.hug_dataset = hug_dataset # hugging dataset object\n",
    "    self.tokenizer = tokenizer\n",
    "    self.embedder = embedder\n",
    "    self.device = device\n",
    "\n",
    "  def __getitem__(self, idx):\n",
    "    item_dict = self.hug_dataset[idx]\n",
    "    text = item_dict['text']\n",
    "    normalized_text = preprocess_text(text)\n",
    "    target = item_dict['label']\n",
    "\n",
    "    token_ids = self.text_to_tokens_ids(normalized_text)\n",
    "    tokens_text_len = len(token_ids)\n",
    "    # pad tokens to length\n",
    "    if self.embedder:\n",
    "        return self.embedder(token_ids.unsqueeze(0)), target, tokens_text_len\n",
    "\n",
    "    return token_ids, target\n",
    "\n",
    "  def text_to_tokens_ids(self, text):\n",
    "    tokens = self.tokenizer.tokenize(text)\n",
    "\n",
    "    return torch.tensor(self.tokenizer.convert_tokens_to_ids(tokens)).to(device)\n",
    "\n",
    "  def __len__(self):\n",
    "    return len(self.hug_dataset)"
   ]
  },
  {
   "cell_type": "markdown",
   "metadata": {
    "id": "vpOU8RMqzeNQ"
   },
   "source": [
    "Write the `collate_fn` (function for DataLoader) to combine batch data to tensors with embeddings tensor, targets_tensor and lengths_tensor."
   ]
  },
  {
   "cell_type": "code",
   "execution_count": 59,
   "metadata": {
    "execution": {
     "iopub.execute_input": "2025-03-23T09:57:17.055069Z",
     "iopub.status.busy": "2025-03-23T09:57:17.054070Z",
     "iopub.status.idle": "2025-03-23T09:57:17.061989Z",
     "shell.execute_reply": "2025-03-23T09:57:17.060984Z",
     "shell.execute_reply.started": "2025-03-23T09:57:17.055069Z"
    },
    "id": "JDonhtnkvdZ5"
   },
   "outputs": [],
   "source": [
    "def collate_batch(batch):\n",
    "  targets_list, embeddings_list, lengths_list = [], [], []\n",
    "\n",
    "  for (_embed_output, _target, _text_len_in_tokens) in batch:\n",
    "    _embed = _embed_output.last_hidden_state\n",
    "    targets_list.append(_target)\n",
    "    embeddings_list.append(_embed[0])\n",
    "    lengths_list.append(_text_len_in_tokens)\n",
    "\n",
    "  targets_tensor = torch.tensor(targets_list, dtype=torch.int64).to(device)\n",
    "  embeddings_tensor = pad_sequence(embeddings_list, batch_first=True, padding_value=PAD_IND).to(device)\n",
    "  lengths_tensor = torch.tensor(lengths_list, dtype=torch.int64).to(device)\n",
    "\n",
    "  return embeddings_tensor.detach(), targets_tensor.detach(), lengths_tensor"
   ]
  },
  {
   "cell_type": "markdown",
   "metadata": {
    "id": "fKD2I0xvLbgm"
   },
   "source": [
    "Create dataset and dataloader objects."
   ]
  },
  {
   "cell_type": "code",
   "execution_count": 62,
   "metadata": {
    "execution": {
     "iopub.execute_input": "2025-03-23T09:57:44.615733Z",
     "iopub.status.busy": "2025-03-23T09:57:44.613734Z",
     "iopub.status.idle": "2025-03-23T09:57:44.622681Z",
     "shell.execute_reply": "2025-03-23T09:57:44.621674Z",
     "shell.execute_reply.started": "2025-03-23T09:57:44.614733Z"
    },
    "id": "86auVS-ABz9N"
   },
   "outputs": [],
   "source": [
    "train_dataset = MyDataset(train_ds, tokenizer=tokenizer, embedder=embedder)\n",
    "test_dataset = MyDataset(test_ds, tokenizer=tokenizer, embedder=embedder)\n",
    "\n",
    "train_dataloader = DataLoader(train_dataset, shuffle=True, batch_size=BATCH_SIZE, collate_fn=collate_batch, drop_last=True)\n",
    "test_dataloader = DataLoader(test_dataset, shuffle=False, batch_size=3, collate_fn=collate_batch, drop_last=True)"
   ]
  },
  {
   "cell_type": "code",
   "execution_count": 63,
   "metadata": {
    "execution": {
     "iopub.execute_input": "2025-03-23T09:57:48.298503Z",
     "iopub.status.busy": "2025-03-23T09:57:48.297505Z",
     "iopub.status.idle": "2025-03-23T09:57:48.304905Z",
     "shell.execute_reply": "2025-03-23T09:57:48.303896Z",
     "shell.execute_reply.started": "2025-03-23T09:57:48.297505Z"
    },
    "id": "-LGy08uxwmPv"
   },
   "outputs": [],
   "source": [
    "sentence_samples_to_show_attention = [train_ds[1129], train_ds[4534]]\n",
    "sentence_samples_to_show_attention = [sent['text'] for sent in sentence_samples_to_show_attention]"
   ]
  },
  {
   "cell_type": "markdown",
   "metadata": {
    "id": "TjELZ_HTL9wd"
   },
   "source": [
    "## Model creation\n",
    "\n",
    "Create the Transform model only with PyTorch library. Let's remember how Attention works."
   ]
  },
  {
   "cell_type": "markdown",
   "metadata": {
    "id": "Pu2aunI-OVsB"
   },
   "source": [
    "Attention can be though of as *queries*, *keys* and *values* - where the query is used with the key to get an attention vector (usually the output of a *softmax* operation and has all values between 0 and 1 which sum to 1) which is then used to get a weighted sum of the values.\n",
    "\n",
    "The Transformer uses *scaled dot-product attention*, where the query and key are combined by taking the dot product between them, then applying the softmax operation and scaling by $d_k$ before finally then multiplying by the value. $d_k$ is the *head dimension*, `head_dim`, which we will shortly explain further.\n",
    "\n",
    "$$ \\text{Attention}(Q, K, V) = \\text{Softmax} \\big( \\frac{QK^T}{\\sqrt{d_k}} \\big)V $$\n",
    "\n",
    "This is similar to standard *dot product attention* but is scaled by $d_k$, which the paper states is used to stop the results of the dot products growing large, causing gradients to become too small.\n",
    "\n",
    "However, the scaled dot-product attention isn't simply applied to the queries, keys and values. Instead of doing a single attention application the queries, keys and values have their `hid_dim` split into $h$ *heads* and the scaled dot-product attention is calculated over all heads in parallel. This means instead of paying attention to one concept per attention application, we pay attention to $h$. We then re-combine the heads into their `hid_dim` shape, thus each `hid_dim` is potentially paying attention to $h$ different concepts.\n",
    "\n",
    "$$ \\text{MultiHead}(Q, K, V) = \\text{Concat}(\\text{head}_1,...,\\text{head}_h)W^O $$\n",
    "\n",
    "$$\\text{head}_i = \\text{Attention}(QW_i^Q, KW_i^K, VW_i^V) $$\n",
    "\n",
    "$W^O$ is the linear layer applied at the end of the multi-head attention layer, `fc`. $W^Q, W^K, W^V$ are the linear layers `fc_q`, `fc_k` and `fc_v`.\n",
    "\n",
    "Walking through the module, first we calculate $QW^Q$, $KW^K$ and $VW^V$ with the linear layers, `fc_q`, `fc_k` and `fc_v`, to give us `Q`, `K` and `V`. Next, we split the `hid_dim` of the query, key and value into `n_heads` using `.view` and correctly permute them so they can be multiplied together. We then calculate the `energy` (the un-normalized attention) by multiplying `Q` and `K` together and scaling it by the square root of `head_dim`, which is calulated as `hid_dim // n_heads`. We then mask the energy so we do not pay attention over any elements of the sequeuence we shouldn't, then apply the softmax and dropout. We then apply the attention to the value heads, `V`, before combining the `n_heads` together. Finally, we multiply this $W^O$, represented by `fc_o`.\n",
    "\n",
    "Note that in our implementation the lengths of the keys and values are always the same, thus when matrix multiplying the output of the softmax, `attention`, with `V` we will always have valid dimension sizes for matrix multiplication. This multiplication is carried out using `torch.matmul` which, when both tensors are >2-dimensional, does a batched matrix multiplication over the last two dimensions of each tensor. This will be a **[query len, key len] x [value len, head dim]** batched matrix multiplication over the batch size and each head which provides the **[batch size, n heads, query len, head dim]** result.\n",
    "\n",
    "One thing that looks strange at first is that dropout is applied directly to the attention. This means that our attention vector will most probably not sum to 1 and we may pay full attention to a token but the attention over that token is set to 0 by dropout. This is never explained, or even mentioned, in the paper however is used by the [official implementation](https://github.com/tensorflow/tensor2tensor/) and every Transformer implementation since, [including BERT](https://github.com/google-research/bert/)."
   ]
  },
  {
   "cell_type": "code",
   "execution_count": 65,
   "metadata": {
    "execution": {
     "iopub.execute_input": "2025-03-23T10:10:13.869266Z",
     "iopub.status.busy": "2025-03-23T10:10:13.868267Z",
     "iopub.status.idle": "2025-03-23T10:10:13.879414Z",
     "shell.execute_reply": "2025-03-23T10:10:13.879414Z",
     "shell.execute_reply.started": "2025-03-23T10:10:13.869266Z"
    }
   },
   "outputs": [],
   "source": [
    "a = torch.randn((4, 3, 2))"
   ]
  },
  {
   "cell_type": "code",
   "execution_count": 68,
   "metadata": {
    "execution": {
     "iopub.execute_input": "2025-03-23T10:11:02.677814Z",
     "iopub.status.busy": "2025-03-23T10:11:02.676814Z",
     "iopub.status.idle": "2025-03-23T10:11:02.683872Z",
     "shell.execute_reply": "2025-03-23T10:11:02.683872Z",
     "shell.execute_reply.started": "2025-03-23T10:11:02.677814Z"
    }
   },
   "outputs": [
    {
     "data": {
      "text/plain": [
       "tensor([[[-0.0788,  0.6751],\n",
       "         [ 0.6586,  0.1184],\n",
       "         [-2.1907, -0.1490]],\n",
       "\n",
       "        [[ 0.4754, -0.8195],\n",
       "         [ 0.6580,  0.3679],\n",
       "         [-0.6706, -1.8296]],\n",
       "\n",
       "        [[-3.3172, -1.2574],\n",
       "         [ 1.3570,  2.3616],\n",
       "         [-0.6565,  1.1651]],\n",
       "\n",
       "        [[ 1.0033, -0.3720],\n",
       "         [-1.5803, -0.3975],\n",
       "         [-0.7153,  0.5024]]])"
      ]
     },
     "execution_count": 68,
     "metadata": {},
     "output_type": "execute_result"
    }
   ],
   "source": [
    "a"
   ]
  },
  {
   "cell_type": "code",
   "execution_count": 72,
   "metadata": {
    "execution": {
     "iopub.execute_input": "2025-03-23T10:18:57.405589Z",
     "iopub.status.busy": "2025-03-23T10:18:57.405589Z",
     "iopub.status.idle": "2025-03-23T10:18:57.412315Z",
     "shell.execute_reply": "2025-03-23T10:18:57.412315Z",
     "shell.execute_reply.started": "2025-03-23T10:18:57.405589Z"
    },
    "id": "uQiIJ7GeMUE1"
   },
   "outputs": [],
   "source": [
    "class MultiHeadAttentionLayer(nn.Module):\n",
    "    def __init__(self, hid_dim, n_heads, dropout, device):\n",
    "        super().__init__()\n",
    "\n",
    "        assert hid_dim % n_heads == 0\n",
    "\n",
    "        self.hid_dim = hid_dim\n",
    "        self.n_heads = n_heads\n",
    "        self.head_dim = hid_dim // n_heads\n",
    "\n",
    "        self.fc_q = nn.Linear(hid_dim, hid_dim)\n",
    "        self.fc_k = nn.Linear(hid_dim, hid_dim)\n",
    "        self.fc_v = nn.Linear(hid_dim, hid_dim)\n",
    "\n",
    "        self.fc_o = nn.Linear(hid_dim, hid_dim)\n",
    "\n",
    "        self.dropout = nn.Dropout(dropout)\n",
    "\n",
    "        self.scale = torch.sqrt(torch.FloatTensor([self.head_dim])).to(device)\n",
    "\n",
    "    def forward(self, query, key, value, mask = None):\n",
    "\n",
    "        batch_size = query.shape[0]\n",
    "\n",
    "        #query = [batch size, query len, hid dim]\n",
    "        #key = [batch size, key len, hid dim]\n",
    "        #value = [batch size, value len, hid dim]\n",
    "\n",
    "        Q = self.fc_q(query)\n",
    "        K = self.fc_k(key)\n",
    "        V = self.fc_v(value)\n",
    "\n",
    "        #Q = [batch size, query len, hid dim]\n",
    "        #K = [batch size, key len, hid dim]\n",
    "        #V = [batch size, value len, hid dim]\n",
    "\n",
    "        Q = Q.view(batch_size, -1, self.n_heads, self.head_dim) # -> [batch_size, seq_len, num_heads, headd_dim]\n",
    "        K = K.view(batch_size, -1, self.n_heads, self.head_dim) # -> [batch_size, seq_len, num_heads, head_dim]\n",
    "        V = V.view(batch_size, -1, self.n_heads, self.head_dim) # -> [batch_size, seq_len, num_heads, head_dim]\n",
    "\n",
    "        Q = Q.permute(0, 2, 1, 3) # -> [batch_size, num_heads, query_length, head_dim]\n",
    "        K = K.permute(0, 2, 1, 3) # -> [batch_size, num_heads, key_length, head_dim]\n",
    "        V = V.permute(0, 2, 1, 3) # -> [batch_size, num_heads, value_length, head_dim]\n",
    "        \n",
    "        #Q = [batch size, n heads, query len, head dim]\n",
    "        #K = [batch size, n heads, key len, head dim]\n",
    "        #V = [batch size, n heads, value len, head dim]\n",
    "\n",
    "        energy = torch.matmul(Q, K.permute(0, 1, 3, 2)) / self.scale # multiply [batch_size, num_heads, query_length, head_dim] x [batch_size, num_heads, head_dim, key_length]\n",
    "\n",
    "        #energy = [batch size, n heads, query len, key len]\n",
    "\n",
    "        if mask is not None:\n",
    "            mask = mask[:, None, None, :] # -> [batch_size, 1, 1, key_length]\n",
    "            energy = energy.masked_fill(mask == 0, -1e10)\n",
    "\n",
    "        attention = torch.softmax(energy, dim = -1)\n",
    "\n",
    "        #attention = [batch size, n heads, query len, key len]\n",
    "\n",
    "        x = torch.matmul(self.dropout(attention), V)\n",
    "\n",
    "        #x = [batch size, n heads, query len, head dim]\n",
    "\n",
    "        x = x.permute(0, 2, 1, 3).contiguous()\n",
    "\n",
    "        #x = [batch size, query len, n heads, head dim]\n",
    "\n",
    "        x = x.view(batch_size, -1, self.hid_dim)\n",
    "\n",
    "        #x = [batch size, query len, hid dim]\n",
    "\n",
    "        x = self.fc_o(x)\n",
    "\n",
    "        #x = [batch size, query len, hid dim]\n",
    "\n",
    "        return x, attention"
   ]
  },
  {
   "cell_type": "markdown",
   "metadata": {
    "id": "xiVNmziIQ4--"
   },
   "source": [
    "***Question:*** Is the Python class for Encoder self-attention, Decoder self-attention or attention between Encoder and Decoder?"
   ]
  },
  {
   "cell_type": "markdown",
   "metadata": {
    "id": "r1K3ZC-la4i4"
   },
   "source": [
    "Based on self-attention idea let's construct easy classification model: self-attention on the bert embedings, result of attention for 0 token is used in the linear classification layer."
   ]
  },
  {
   "cell_type": "code",
   "execution_count": 73,
   "metadata": {
    "execution": {
     "iopub.execute_input": "2025-03-23T10:18:59.723665Z",
     "iopub.status.busy": "2025-03-23T10:18:59.723665Z",
     "iopub.status.idle": "2025-03-23T10:18:59.729162Z",
     "shell.execute_reply": "2025-03-23T10:18:59.728156Z",
     "shell.execute_reply.started": "2025-03-23T10:18:59.723665Z"
    },
    "id": "fiiWnrbGRF7a"
   },
   "outputs": [],
   "source": [
    "class SelfAttentionBasedClassifier(nn.Module):\n",
    "  def __init__(self, hid_dim, cnt_class=4, device=device, n_heads=N_HEADS):\n",
    "    super().__init__()\n",
    "    self.hid_dim = hid_dim\n",
    "    self.device = device\n",
    "    self.cnt_class = cnt_class\n",
    "    self.attn = MultiHeadAttentionLayer(hid_dim=self.hid_dim, n_heads=n_heads, dropout=0, device=self.device)\n",
    "    self.classifier_head = nn.Linear(self.hid_dim, self.cnt_class)\n",
    "    self.softmax = nn.Softmax(dim=-1)\n",
    "\n",
    "  def forward(self, x, mask = None):\n",
    "    x, attention = self.attn(x, x, x, mask=mask)\n",
    "    # let's classifier by 0 token information\n",
    "    # Reason of 0 token\n",
    "    x = x[:, 0, :].squeeze()\n",
    "    x = self.classifier_head(x)\n",
    "\n",
    "    #return self.softmax(x), attention\n",
    "    return x, attention"
   ]
  },
  {
   "cell_type": "code",
   "execution_count": 74,
   "metadata": {
    "execution": {
     "iopub.execute_input": "2025-03-23T10:19:00.789192Z",
     "iopub.status.busy": "2025-03-23T10:19:00.788192Z",
     "iopub.status.idle": "2025-03-23T10:19:00.817243Z",
     "shell.execute_reply": "2025-03-23T10:19:00.817243Z",
     "shell.execute_reply.started": "2025-03-23T10:19:00.789192Z"
    },
    "id": "pjLLHgp3cXdE"
   },
   "outputs": [],
   "source": [
    "model = SelfAttentionBasedClassifier(HIDDEN_DIM).to(device)"
   ]
  },
  {
   "cell_type": "markdown",
   "metadata": {
    "id": "nU6v19Sgi8X9"
   },
   "source": [
    "Write functions for display attention matrixes"
   ]
  },
  {
   "cell_type": "code",
   "execution_count": 75,
   "metadata": {
    "execution": {
     "iopub.execute_input": "2025-03-23T10:19:26.323562Z",
     "iopub.status.busy": "2025-03-23T10:19:26.322564Z",
     "iopub.status.idle": "2025-03-23T10:19:26.330928Z",
     "shell.execute_reply": "2025-03-23T10:19:26.329921Z",
     "shell.execute_reply.started": "2025-03-23T10:19:26.323562Z"
    },
    "id": "5_sX3ylqgW5t"
   },
   "outputs": [],
   "source": [
    "def get_attention_fig(sentence, attention, n_heads = 8, n_rows = 4, n_cols = 2):\n",
    "    assert n_rows * n_cols == n_heads\n",
    "\n",
    "    fig = plt.figure(figsize=(12 * n_cols, 12 * n_rows))\n",
    "\n",
    "    for i in range(n_heads):\n",
    "\n",
    "        ax = fig.add_subplot(n_rows, n_cols, i+1)\n",
    "        _attention = attention.squeeze(0)[i].cpu().detach().numpy()\n",
    "\n",
    "        cax = ax.matshow(_attention, cmap='bone')\n",
    "\n",
    "        ax.tick_params(labelsize=12)\n",
    "        ticks = [t.lower() for t in sentence]\n",
    "        ax.set_xticklabels(ticks,\n",
    "                           rotation=45)\n",
    "        ax.set_yticklabels(ticks)\n",
    "\n",
    "        ax.xaxis.set_major_formatter(ticker.FixedFormatter(ticks))\n",
    "        ax.yaxis.set_major_formatter(ticker.FixedFormatter(ticks))\n",
    "        #ax.xaxis.set_major_locator(ticker.MultipleLocator(1))\n",
    "        #ax.yaxis.set_major_locator(ticker.MultipleLocator(1))\n",
    "\n",
    "    return fig"
   ]
  },
  {
   "cell_type": "code",
   "execution_count": 76,
   "metadata": {
    "execution": {
     "iopub.execute_input": "2025-03-23T10:19:30.681446Z",
     "iopub.status.busy": "2025-03-23T10:19:30.679447Z",
     "iopub.status.idle": "2025-03-23T10:19:30.690391Z",
     "shell.execute_reply": "2025-03-23T10:19:30.688385Z",
     "shell.execute_reply.started": "2025-03-23T10:19:30.681446Z"
    },
    "id": "ykrC_NfuhN8Z"
   },
   "outputs": [],
   "source": [
    "def display_attention_examples(\n",
    "    tb_writer,\n",
    "    texts=sentence_samples_to_show_attention,\n",
    "    tokenizer=tokenizer,\n",
    "    embedder=embedder,\n",
    "    n_heads=N_HEADS,\n",
    "    n_rows=1,\n",
    "    n_cols=1):\n",
    "  cur_dataset = MyDataset([{'text': text, 'label': -1} for text in texts], tokenizer, embedder)\n",
    "  cur_dataloader = DataLoader(cur_dataset, batch_size=1, shuffle=False, collate_fn=collate_batch)\n",
    "\n",
    "  with torch.no_grad():\n",
    "    for text, data in zip(texts, cur_dataloader):\n",
    "        input_data, _, lengths = data\n",
    "        mask = length_to_mask(lengths)\n",
    "\n",
    "        input_data = input_data.to(device)\n",
    "        outputs, attention = model(input_data, mask=mask)\n",
    "\n",
    "        att_fig = get_attention_fig(tokenizer.tokenize(text), attention, n_heads=n_heads, n_rows=n_rows, n_cols=n_cols)\n",
    "        tb_writer.add_figure(f'Text attention: {text}', att_fig)"
   ]
  },
  {
   "cell_type": "code",
   "execution_count": null,
   "metadata": {
    "id": "BLSjMH6ehHvj"
   },
   "outputs": [],
   "source": []
  },
  {
   "cell_type": "markdown",
   "metadata": {
    "id": "M9p9RzxIwc9B"
   },
   "source": [
    "Let's write functions for training and validation process."
   ]
  },
  {
   "cell_type": "code",
   "execution_count": 77,
   "metadata": {
    "execution": {
     "iopub.execute_input": "2025-03-23T10:22:16.894598Z",
     "iopub.status.busy": "2025-03-23T10:22:16.893599Z",
     "iopub.status.idle": "2025-03-23T10:22:16.911139Z",
     "shell.execute_reply": "2025-03-23T10:22:16.910635Z",
     "shell.execute_reply.started": "2025-03-23T10:22:16.894598Z"
    },
    "id": "0zShqJMucs1O"
   },
   "outputs": [],
   "source": [
    "loss_fn = torch.nn.CrossEntropyLoss()\n",
    "timestamp = datetime.now().strftime('%Y%m%d_%H%M%S')\n",
    "optimizer = optim.Adam(model.parameters(), lr=LR)\n",
    "\n",
    "lambda_scheduler = lambda x: SCHEDULER_LAMBDA_PARAM ** x\n",
    "scheduler = optim.lr_scheduler.LambdaLR(optimizer, lr_lambda=lambda_scheduler)\n",
    "\n",
    "writer = SummaryWriter(os.path.join(BASE_FOLDER_PATH, 'runs/{}'.format(MODEL_NAME)))\n",
    "\n",
    "def train_one_epoch(epoch_index, model, training_loader, scheduler, optimizer, loss_fn, tb_writer):\n",
    "    running_loss = 0.\n",
    "    last_loss = 0.\n",
    "    train_loss = 0.\n",
    "\n",
    "    i = 0\n",
    "    cnt_right_answers = 0\n",
    "    cnt_answers = 0\n",
    "\n",
    "    all_answers = []\n",
    "    answers_probs = []\n",
    "    all_labels = []\n",
    "    for data in tqdm(training_loader):\n",
    "        input_data, labels, lengths = data\n",
    "        mask = length_to_mask(lengths)\n",
    "\n",
    "        if epoch_index != -1:\n",
    "            optimizer.zero_grad()\n",
    "        input_data = input_data.to(device)\n",
    "        labels = labels.to(device).long()\n",
    "        outputs, attention = model(input_data, mask=mask)\n",
    "\n",
    "        answers = outputs.argmax(axis=-1)\n",
    "        loss = loss_fn(outputs, labels)\n",
    "        if epoch_index != -1:\n",
    "            loss.backward()\n",
    "            optimizer.step()\n",
    "\n",
    "        running_loss += loss.item()\n",
    "        train_loss += loss.item()\n",
    "        if i % 10 == 9 and epoch_index != -1:\n",
    "            last_loss = running_loss / 10 # loss per batch\n",
    "            tb_x = epoch_index * len(training_loader) + i + 1\n",
    "            tb_writer.add_scalar('Loss/train', last_loss, tb_x)\n",
    "            running_loss = 0.\n",
    "\n",
    "            if i % 10 == 0 and scheduler is not None:\n",
    "                tb_writer.add_scalar('Scheduler LR', optimizer.param_groups[0][\"lr\"], tb_x)\n",
    "                scheduler.step()\n",
    "            if i % 100 == 99:\n",
    "                display_attention_examples(tb_writer)\n",
    "\n",
    "        cnt_answers += labels.shape[0]\n",
    "        cnt_right_answers += (answers == labels).sum().item()\n",
    "\n",
    "        i += 1\n",
    "\n",
    "    train_loss = train_loss / len(training_loader)\n",
    "    tb_writer.add_scalar('Accuracy/train', cnt_right_answers / cnt_answers, epoch_index + 1)\n",
    "\n",
    "    return train_loss\n",
    "\n",
    "\n",
    "def validation(epoch_number, val_dataloader):\n",
    "    val_loss = 0.0\n",
    "\n",
    "    all_answers = []\n",
    "    answers_probs = []\n",
    "    all_labels = []\n",
    "\n",
    "    cnt_answers = 0\n",
    "    cnt_right_answers = 0\n",
    "    model.eval()\n",
    "    with torch.no_grad():\n",
    "        for i, vdata in tqdm(enumerate(val_dataloader)):\n",
    "            input_data, labels, lengths = vdata\n",
    "            mask = length_to_mask(lengths)\n",
    "\n",
    "            optimizer.zero_grad()\n",
    "            input_data = input_data.to(device)\n",
    "            labels = labels.to(device).long()\n",
    "            outputs, attention = model(input_data, mask=mask)\n",
    "\n",
    "            vloss = loss_fn(outputs, labels)\n",
    "            val_loss += vloss.item()\n",
    "            answers = outputs.argmax(axis=-1)\n",
    "\n",
    "            cnt_answers += labels.shape[0]\n",
    "            cnt_right_answers += (answers == labels).sum().item()\n",
    "\n",
    "            del input_data, labels, lengths\n",
    "\n",
    "    val_loss = val_loss / len(val_dataloader)\n",
    "    print(\"VAL LOSS =\", val_loss)\n",
    "    return val_loss, cnt_right_answers / cnt_answers"
   ]
  },
  {
   "cell_type": "markdown",
   "metadata": {
    "id": "fyKKz0egwsm1"
   },
   "source": [
    "Let's start train loop"
   ]
  },
  {
   "cell_type": "code",
   "execution_count": null,
   "metadata": {
    "id": "U1IhUYAhdQn6"
   },
   "outputs": [],
   "source": [
    "best_vloss = 1_000_000.\n",
    "\n",
    "for epoch_number in tqdm(range(EPOCHS)):\n",
    "    print('EPOCH {}:'.format(epoch_number + 1))\n",
    "\n",
    "    model.train()\n",
    "    train_loss = train_one_epoch(\n",
    "        epoch_index=epoch_number,\n",
    "        model=model,\n",
    "        training_loader=train_dataloader,\n",
    "        optimizer=optimizer,\n",
    "        scheduler=scheduler,\n",
    "        loss_fn=loss_fn,\n",
    "        tb_writer=writer)\n",
    "\n",
    "    model.eval()\n",
    "    val_loss, val_acc = validation(epoch_number, test_dataloader)\n",
    "\n",
    "    writer.add_scalar('Loss/valid', val_loss, epoch_number + 1)\n",
    "    writer.add_scalar('Accuracy/valid', val_acc, epoch_number + 1)\n",
    "    if val_loss < best_vloss:\n",
    "        best_vloss = val_loss\n",
    "        model_path = os.path.join(MODEL_FOLDER_PATH, 'model_{}_{}'.format(epoch_number + 1, timestamp))\n",
    "        torch.save(model.state_dict(), model_path)\n"
   ]
  },
  {
   "cell_type": "code",
   "execution_count": 79,
   "metadata": {
    "execution": {
     "iopub.execute_input": "2025-03-23T10:27:18.710476Z",
     "iopub.status.busy": "2025-03-23T10:27:18.709474Z",
     "iopub.status.idle": "2025-03-23T10:27:18.736351Z",
     "shell.execute_reply": "2025-03-23T10:27:18.735344Z",
     "shell.execute_reply.started": "2025-03-23T10:27:18.710476Z"
    },
    "id": "C5Kq_wsHd-RN"
   },
   "outputs": [
    {
     "ename": "TypeError",
     "evalue": "display_attention_examples() missing 1 required positional argument: 'tb_writer'",
     "output_type": "error",
     "traceback": [
      "\u001b[31m---------------------------------------------------------------------------\u001b[39m",
      "\u001b[31mTypeError\u001b[39m                                 Traceback (most recent call last)",
      "\u001b[36mCell\u001b[39m\u001b[36m \u001b[39m\u001b[32mIn[79]\u001b[39m\u001b[32m, line 1\u001b[39m\n\u001b[32m----> \u001b[39m\u001b[32m1\u001b[39m \u001b[43mdisplay_attention_examples\u001b[49m\u001b[43m(\u001b[49m\u001b[43m)\u001b[49m\n",
      "\u001b[31mTypeError\u001b[39m: display_attention_examples() missing 1 required positional argument: 'tb_writer'"
     ]
    }
   ],
   "source": [
    "display_attention_examples()"
   ]
  },
  {
   "cell_type": "markdown",
   "metadata": {
    "id": "Y1Us-Ooqtoq2"
   },
   "source": [
    "##Train the BERT model for this task\n",
    "\n"
   ]
  },
  {
   "cell_type": "code",
   "execution_count": 81,
   "metadata": {
    "execution": {
     "iopub.execute_input": "2025-03-23T10:28:13.986088Z",
     "iopub.status.busy": "2025-03-23T10:28:13.985080Z",
     "iopub.status.idle": "2025-03-23T10:28:13.991599Z",
     "shell.execute_reply": "2025-03-23T10:28:13.991094Z",
     "shell.execute_reply.started": "2025-03-23T10:28:13.986088Z"
    }
   },
   "outputs": [
    {
     "name": "stderr",
     "output_type": "stream",
     "text": [
      "UsageError: Line magic function `%tensorboard` not found.\n"
     ]
    }
   ],
   "source": [
    "%tensorboard runs"
   ]
  },
  {
   "cell_type": "code",
   "execution_count": 80,
   "metadata": {
    "execution": {
     "iopub.execute_input": "2025-03-23T10:27:59.650592Z",
     "iopub.status.busy": "2025-03-23T10:27:59.650592Z",
     "iopub.status.idle": "2025-03-23T10:27:59.657094Z",
     "shell.execute_reply": "2025-03-23T10:27:59.657094Z",
     "shell.execute_reply.started": "2025-03-23T10:27:59.650592Z"
    }
   },
   "outputs": [
    {
     "data": {
      "text/plain": [
       "'D:\\\\Notebooks\\\\Deep Learning School\\\\Module 5'"
      ]
     },
     "execution_count": 80,
     "metadata": {},
     "output_type": "execute_result"
    }
   ],
   "source": [
    "BASE_FOLDER_PATH"
   ]
  },
  {
   "cell_type": "markdown",
   "metadata": {
    "id": "c5LKLo44Fi2M"
   },
   "source": [
    "This code is based on the [example](https://huggingface.co/docs/transformers/tasks/sequence_classification) from huggingface."
   ]
  },
  {
   "cell_type": "code",
   "execution_count": null,
   "metadata": {
    "id": "7eSafa3ytxHw"
   },
   "outputs": [],
   "source": [
    "from transformers import AutoModelForSequenceClassification, AutoTokenizer\n",
    "from tqdm.auto import tqdm"
   ]
  },
  {
   "cell_type": "code",
   "execution_count": null,
   "metadata": {
    "id": "YF7EWTjs_-Jd"
   },
   "outputs": [],
   "source": [
    "del model, tokenizer, optimizer, scheduler  # delete our previous objects"
   ]
  },
  {
   "cell_type": "code",
   "execution_count": null,
   "metadata": {
    "id": "CAAMavVnuIbP"
   },
   "outputs": [],
   "source": [
    "# download pretrained models\n",
    "tokenizer = AutoTokenizer.from_pretrained(\"distilbert-base-uncased\")\n",
    "model = AutoModelForSequenceClassification.from_pretrained(\"distilbert-base-uncased\", num_labels=4).to(device)\n",
    "for w in model.distilbert.parameters():\n",
    "    w._trainable= False\n",
    "for w in model.classifier.parameters():\n",
    "    w._trainable = True"
   ]
  },
  {
   "cell_type": "markdown",
   "metadata": {
    "id": "elcrM_sqANgh"
   },
   "source": [
    "### Prepare dataset"
   ]
  },
  {
   "cell_type": "code",
   "execution_count": null,
   "metadata": {
    "id": "namDj2m3ubQO"
   },
   "outputs": [],
   "source": [
    "dataset_dict = load_dataset('ag_news')\n",
    "train_ds = dataset_dict['train']\n",
    "test_ds = dataset_dict['test']"
   ]
  },
  {
   "cell_type": "code",
   "execution_count": null,
   "metadata": {
    "id": "-3PGTAIouTT_"
   },
   "outputs": [],
   "source": [
    "def tokenize_function(examples, tokenizer=tokenizer):\n",
    "    return tokenizer(\n",
    "        examples[\"text\"],\n",
    "        padding=\"max_length\",\n",
    "        max_length=512,\n",
    "        truncation=True,\n",
    "        return_token_type_ids=\"token_type_ids\" in tokenizer.model_input_names)\n",
    "\n",
    "def ds_object_process(ds_obj):\n",
    "  return ds_obj.map(\n",
    "        tokenize_function, batched=True\n",
    "      ).remove_columns([\"text\"]).rename_column(\"label\", \"labels\")\n",
    "\n",
    "# Take small train to speed up train\n",
    "tokenized_train_dataset = ds_object_process(train_ds.select(range(500)))\n",
    "tokenized_train_dataset.set_format(\"torch\")\n",
    "tokenized_test_dataset = ds_object_process(test_ds.select(range(TEST_SIZE)))\n",
    "tokenized_test_dataset.set_format(\"torch\")"
   ]
  },
  {
   "cell_type": "code",
   "execution_count": null,
   "metadata": {
    "id": "_nG-Pp3KBgSn"
   },
   "outputs": [],
   "source": []
  },
  {
   "cell_type": "markdown",
   "metadata": {
    "id": "b0sMq6RMFW_Q"
   },
   "source": [
    "Create dataloaders, optimizer and scheduler"
   ]
  },
  {
   "cell_type": "code",
   "execution_count": null,
   "metadata": {
    "id": "4PWK8whjvA0_"
   },
   "outputs": [],
   "source": [
    "train_dataloader = DataLoader(tokenized_train_dataset, shuffle=True, batch_size=BATCH_SIZE)\n",
    "test_dataloader = DataLoader(tokenized_test_dataset, batch_size=BATCH_SIZE)"
   ]
  },
  {
   "cell_type": "code",
   "execution_count": null,
   "metadata": {
    "id": "NUeMihZvvIsY"
   },
   "outputs": [],
   "source": [
    "optimizer = optim.AdamW(model.parameters(), lr=LR)\n",
    "num_training_steps = EPOCHS * len(train_dataloader)\n",
    "scheduler = get_scheduler(\n",
    "    name=\"linear\", optimizer=optimizer, num_warmup_steps=0, num_training_steps=num_training_steps\n",
    ")"
   ]
  },
  {
   "cell_type": "code",
   "execution_count": null,
   "metadata": {
    "id": "9Qz8D5XA-ubf"
   },
   "outputs": [],
   "source": []
  },
  {
   "cell_type": "markdown",
   "metadata": {
    "id": "swknlY5lFb9x"
   },
   "source": [
    "Run train loop"
   ]
  },
  {
   "cell_type": "code",
   "execution_count": null,
   "metadata": {
    "id": "gU_RYa1svQBZ"
   },
   "outputs": [],
   "source": [
    "progress_bar = tqdm(range(num_training_steps))\n",
    "\n",
    "model.train()\n",
    "for epoch in range(3):\n",
    "    train_loss = 0\n",
    "    for batch in train_dataloader:\n",
    "        batch = {k: v.to(device) for k, v in batch.items()}\n",
    "        outputs = model(**batch)\n",
    "        loss = outputs.loss\n",
    "        loss.backward()\n",
    "        train_loss += loss.item()\n",
    "\n",
    "        optimizer.step()\n",
    "        scheduler.step()\n",
    "        optimizer.zero_grad()\n",
    "        progress_bar.update(1)\n",
    "    train_loss /= len(train_dataloader)\n",
    "    print(f'EPOCH {epoch}: train_loss={train_loss}')"
   ]
  },
  {
   "cell_type": "markdown",
   "metadata": {
    "id": "vg4N99geFeh1"
   },
   "source": [
    "Run validation"
   ]
  },
  {
   "cell_type": "code",
   "execution_count": null,
   "metadata": {
    "id": "5Leh1ck6wHLb"
   },
   "outputs": [],
   "source": [
    "from datasets import load_metric\n",
    "\n",
    "metric = load_metric(\"accuracy\")\n",
    "model.eval()\n",
    "for batch in tqdm(test_dataloader):\n",
    "    batch = {k: v.to(device) for k, v in batch.items()}\n",
    "    with torch.no_grad():\n",
    "        outputs = model(**batch)\n",
    "\n",
    "    logits = outputs.logits\n",
    "    predictions = torch.argmax(logits, dim=-1)\n",
    "    metric.add_batch(predictions=predictions, references=batch[\"labels\"])\n",
    "\n",
    "metric.compute()"
   ]
  },
  {
   "cell_type": "code",
   "execution_count": null,
   "metadata": {
    "id": "jQk--uyOw0WE"
   },
   "outputs": [],
   "source": []
  },
  {
   "cell_type": "code",
   "execution_count": null,
   "metadata": {
    "id": "BFRxn2UhB3Hj"
   },
   "outputs": [],
   "source": []
  },
  {
   "cell_type": "code",
   "execution_count": null,
   "metadata": {
    "id": "tCc1pUZ7B8ao"
   },
   "outputs": [],
   "source": []
  },
  {
   "cell_type": "code",
   "execution_count": null,
   "metadata": {
    "id": "7MMqXnkzB-uC"
   },
   "outputs": [],
   "source": []
  }
 ],
 "metadata": {
  "accelerator": "GPU",
  "colab": {
   "provenance": []
  },
  "kernelspec": {
   "display_name": "Python 3 (ipykernel)",
   "language": "python",
   "name": "python3"
  },
  "language_info": {
   "codemirror_mode": {
    "name": "ipython",
    "version": 3
   },
   "file_extension": ".py",
   "mimetype": "text/x-python",
   "name": "python",
   "nbconvert_exporter": "python",
   "pygments_lexer": "ipython3",
   "version": "3.11.9"
  },
  "widgets": {
   "application/vnd.jupyter.widget-state+json": {
    "state": {},
    "version_major": 2,
    "version_minor": 0
   }
  }
 },
 "nbformat": 4,
 "nbformat_minor": 4
}
