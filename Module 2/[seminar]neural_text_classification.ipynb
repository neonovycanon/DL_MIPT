{
 "cells": [
  {
   "cell_type": "markdown",
   "metadata": {
    "id": "d0ADTojbpfLt"
   },
   "source": [
    "# Обучение классификатора с помощью RNN"
   ]
  },
  {
   "cell_type": "markdown",
   "metadata": {
    "id": "ldHSmYY6p_mZ"
   },
   "source": [
    "Установим модуль datasets, чтобы нам проще было работать с данными"
   ]
  },
  {
   "cell_type": "code",
   "execution_count": null,
   "metadata": {
    "colab": {
     "base_uri": "https://localhost:8080/"
    },
    "id": "3yvNdv6cp_0P",
    "outputId": "27361e8a-eed0-4d2c-b26e-fe4b72405e4a"
   },
   "outputs": [],
   "source": [
    "!pip install datasets"
   ]
  },
  {
   "cell_type": "markdown",
   "metadata": {
    "id": "rh9ZXSeCpng9"
   },
   "source": [
    "Импорт необходимых библиотек"
   ]
  },
  {
   "cell_type": "code",
   "execution_count": 2,
   "metadata": {
    "execution": {
     "iopub.execute_input": "2025-02-19T17:53:57.297713Z",
     "iopub.status.busy": "2025-02-19T17:53:57.296697Z",
     "iopub.status.idle": "2025-02-19T17:54:11.576899Z",
     "shell.execute_reply": "2025-02-19T17:54:11.576899Z",
     "shell.execute_reply.started": "2025-02-19T17:53:57.297713Z"
    },
    "id": "XOJi16bLpd_O"
   },
   "outputs": [],
   "source": [
    "import torch\n",
    "import torch.nn as nn\n",
    "from torch.utils.data import Dataset, DataLoader\n",
    "import datasets\n",
    "\n",
    "import numpy as np\n",
    "import matplotlib.pyplot as plt\n",
    "\n",
    "from tqdm.auto import tqdm\n",
    "from datasets import load_dataset\n",
    "from nltk.tokenize import word_tokenize\n",
    "from sklearn.model_selection import train_test_split\n",
    "import nltk\n",
    "\n",
    "from collections import Counter\n",
    "from typing import List\n",
    "import string\n",
    "\n",
    "import seaborn\n",
    "seaborn.set(palette='summer')"
   ]
  },
  {
   "cell_type": "code",
   "execution_count": 3,
   "metadata": {
    "colab": {
     "base_uri": "https://localhost:8080/"
    },
    "execution": {
     "iopub.execute_input": "2025-02-19T17:54:11.576899Z",
     "iopub.status.busy": "2025-02-19T17:54:11.576899Z",
     "iopub.status.idle": "2025-02-19T17:54:11.823168Z",
     "shell.execute_reply": "2025-02-19T17:54:11.823168Z",
     "shell.execute_reply.started": "2025-02-19T17:54:11.576899Z"
    },
    "id": "91JuM0SQvXud",
    "outputId": "0846c6da-f75a-4651-b7c1-31f270aad706"
   },
   "outputs": [
    {
     "name": "stderr",
     "output_type": "stream",
     "text": [
      "[nltk_data] Downloading package punkt to\n",
      "[nltk_data]     C:\\Users\\gosha\\AppData\\Roaming\\nltk_data...\n",
      "[nltk_data]   Package punkt is already up-to-date!\n"
     ]
    },
    {
     "data": {
      "text/plain": [
       "True"
      ]
     },
     "execution_count": 3,
     "metadata": {},
     "output_type": "execute_result"
    }
   ],
   "source": [
    "nltk.download('punkt')"
   ]
  },
  {
   "cell_type": "code",
   "execution_count": 4,
   "metadata": {
    "colab": {
     "base_uri": "https://localhost:8080/",
     "height": 35
    },
    "execution": {
     "iopub.execute_input": "2025-02-19T17:54:36.209154Z",
     "iopub.status.busy": "2025-02-19T17:54:36.208136Z",
     "iopub.status.idle": "2025-02-19T17:54:36.292016Z",
     "shell.execute_reply": "2025-02-19T17:54:36.292016Z",
     "shell.execute_reply.started": "2025-02-19T17:54:36.209154Z"
    },
    "id": "adJC8ShFq9HM",
    "outputId": "fb3a50d9-6c7f-4af1-b070-7e27942c9e4a"
   },
   "outputs": [
    {
     "data": {
      "text/plain": [
       "'cuda'"
      ]
     },
     "execution_count": 4,
     "metadata": {},
     "output_type": "execute_result"
    }
   ],
   "source": [
    "device = 'cuda' if torch.cuda.is_available() else 'cpu'\n",
    "device"
   ]
  },
  {
   "cell_type": "markdown",
   "metadata": {
    "id": "pwsfS1ENq5ig"
   },
   "source": [
    "## Подготовка данных"
   ]
  },
  {
   "cell_type": "code",
   "execution_count": 5,
   "metadata": {
    "colab": {
     "base_uri": "https://localhost:8080/",
     "height": 328,
     "referenced_widgets": [
      "0a10ad2f6a9240fc9ae2628bff417218",
      "28f2dfed93f4410da994031edc7dfb47",
      "1a34d8fd628e4fc8930a34d716f652bc",
      "419256bf9e5445ea9574d7f545b36c9e",
      "47ae3ec726774f8294d9374a3c8c7140",
      "2f25240e952f4d2a80d941d319eef8f7",
      "1ad7a02e3b2c4a43bb8dea7b3b1488b1",
      "ec8be88676fc45cfa22226d25d5ea20f",
      "92c0c66ba7154464a104993346e2fb78",
      "3e4680a6c9d34887a6ff4d3e0ddc7848",
      "666e0e11742b42d19b1a377f4681475a",
      "738479004481411f81598146bec52112",
      "9e93d0426cb94dbcb334361fcd46d6c6",
      "708929c8df47443fa2ae0fb919ed8995",
      "412421e5dece49aa85ecd6f17991cb9c",
      "bd965bf42be14c7c8124e731b6de6a89",
      "5243542d88794d83a43ae8a7a89eaf7e",
      "8e019316bcc943f1adc205489aa10d40",
      "41469c605f7644afb382702846880b04",
      "2b0ddcebbc6b4b3bbf7cebb536ccbd7e",
      "45bd8d62bb294d9db8d3c5c9bf86f8e1",
      "5cda4a03636d44aa892450451042061a",
      "95ddf802dacb4c15b31e4c1e850cc083",
      "c864d6f511c3484f9287c755450a0a9b",
      "86dc137bafaa4464bce0e444f21bbee1",
      "6d4c939d89f047b8be2822dfe3a777ce",
      "4580d24292ec439c937b554f63e723d4",
      "3067011f66a745d599cae8773f0e1c9d",
      "f8bd76721ebe4796bffc594d92cec149",
      "c0583729eb5340d6bf22a5b12c8547b6",
      "23b900d262bb4d77b4f0b3486a76595e",
      "a4a53b82d128482bb53e54699b7895c9",
      "4738b1922d2a42dea21a0e844229702e",
      "6b1721b437e743b09e8f93dc2986f23e",
      "964030bb544e4b29a7df1aac1e7f86fe",
      "16ea130deb444e90a158dca0970094bc",
      "caa1fd7304d148f1b2b92fbec2d07e1f",
      "e4215fd18cda4e40b43a6a85e42ece8e",
      "47fbbfa95f0d4c73850c565be2fd8e77",
      "bc25e747fd75406ea79f9e5eab86d718",
      "fa2c434e0c9245c8a66a7214af89af35",
      "d2bb4691d5084ac485b35c36af345145",
      "71440968d46a486ba1e22b7cb44ee724",
      "9b34368bce97458f85e4f5ce41cc2ef7",
      "7c5ac43b715d4d158e00c53f9449f5bf",
      "20f415c8c6954a1aab90207d47c7ce2e",
      "4586b568f94e4457a3015b21d43e1fbb",
      "10f216610ec14b958863937526564293",
      "d75fd3f3414646ecbded13543ab0670a",
      "26340a61516047e4bd1df2fc886eeb8f",
      "ae9e049e994b4dd6bc8d32b3a6ed4dc0",
      "78ba4cb162bb473a98ea817ce43d363e",
      "015c23cf1d324dad8e33c54ea407701a",
      "085c162811164b8ab253402c8ed6be82",
      "5c9f78ee0d2f4107b9d6b91e7c307127",
      "995b42455d74430f838883faab5aeddd",
      "8aed697ef70f41d580ef9703fe93da2a",
      "137b4a2f7bda44f0ae4ee9dcf9193c7b",
      "acb8f93ed7b4487b9be2c84dd7bf43c2",
      "d6fc6945a1e64303aa51a15495ce829f",
      "3eef4f954bf040e780418c7ca88b7094",
      "54d0698afb72444c8283a83eb4308336",
      "749bbec73342406396c0e1c4b5bfeeea",
      "c114db5ae02147779fec4081483082a2",
      "87098c64b22846f9880b0ab831d044fb",
      "576313d2bfa24bddb827748c4fa66ff0",
      "bafdcaff81cd4e8db9c663f3f21f0721",
      "3bb40178e1e84319a6ffecffe6e5717f",
      "e1190bde598b4992936b05e0ec1ad7ae",
      "2dc4220fd29c4637a0177e4047f0e59d",
      "fd7b1145812e473b99833181b53d0ef7",
      "7faec6cb822f49da80386608dd426a90",
      "765c75f733534bcd94c6dafe2d949c9c",
      "790a68f7d3e949a4b80dabed5bf79515",
      "f972866dfba1478683b3e170e41348ca",
      "afedefb65da046c98f00d892f0af570a",
      "8ab49ad214f742c3b68ae8c4c09b1490",
      "ab9bfaaca69742b5a7f05f7db82e1038",
      "34a9b7334ef24124bec9099a4834d2af",
      "fb100e431daf40c6835ce4629d6e0eff",
      "376cad48c1334bf9b4f9cee58654bb6a",
      "0c7dc60b571b4b229f3536b251693116",
      "e0418525991f4b4c8ce2fcce716d0c99",
      "5f18dac04189487490e6eeb90f532393",
      "3a6366a8363d403e8fa0b97a32ee4924",
      "c9d6ff56a9714082abe14587019bad99",
      "adfc2312f5494c1ea8ff44857704b25d",
      "5031bd26cff3404b944fcaff3b374a8a"
     ]
    },
    "execution": {
     "iopub.execute_input": "2025-02-19T17:55:39.007293Z",
     "iopub.status.busy": "2025-02-19T17:55:39.005882Z",
     "iopub.status.idle": "2025-02-19T17:55:53.880784Z",
     "shell.execute_reply": "2025-02-19T17:55:53.880784Z",
     "shell.execute_reply.started": "2025-02-19T17:55:39.007293Z"
    },
    "id": "qHLNWOfJqSfc",
    "outputId": "9a490185-5e75-4009-8fb4-e7ae70431ffe"
   },
   "outputs": [
    {
     "data": {
      "application/vnd.jupyter.widget-view+json": {
       "model_id": "cc7724d7628b45828b217b637899a463",
       "version_major": 2,
       "version_minor": 0
      },
      "text/plain": [
       "README.md:   0%|          | 0.00/7.81k [00:00<?, ?B/s]"
      ]
     },
     "metadata": {},
     "output_type": "display_data"
    },
    {
     "name": "stderr",
     "output_type": "stream",
     "text": [
      "D:\\Notebooks\\.venv_Pytorch\\Lib\\site-packages\\huggingface_hub\\file_download.py:142: UserWarning: `huggingface_hub` cache-system uses symlinks by default to efficiently store duplicated files but your machine does not support them in C:\\Users\\gosha\\.cache\\huggingface\\hub\\datasets--imdb. Caching files will still work but in a degraded version that might require more space on your disk. This warning can be disabled by setting the `HF_HUB_DISABLE_SYMLINKS_WARNING` environment variable. For more details, see https://huggingface.co/docs/huggingface_hub/how-to-cache#limitations.\n",
      "To support symlinks on Windows, you either need to activate Developer Mode or to run Python as an administrator. In order to activate developer mode, see this article: https://docs.microsoft.com/en-us/windows/apps/get-started/enable-your-device-for-development\n",
      "  warnings.warn(message)\n"
     ]
    },
    {
     "data": {
      "application/vnd.jupyter.widget-view+json": {
       "model_id": "ba72d53f5a8f4330887959a6f5e3d42b",
       "version_major": 2,
       "version_minor": 0
      },
      "text/plain": [
       "train-00000-of-00001.parquet:   0%|          | 0.00/21.0M [00:00<?, ?B/s]"
      ]
     },
     "metadata": {},
     "output_type": "display_data"
    },
    {
     "data": {
      "application/vnd.jupyter.widget-view+json": {
       "model_id": "a8f8a5d817ca4416a2170c64f4053bf8",
       "version_major": 2,
       "version_minor": 0
      },
      "text/plain": [
       "test-00000-of-00001.parquet:   0%|          | 0.00/20.5M [00:00<?, ?B/s]"
      ]
     },
     "metadata": {},
     "output_type": "display_data"
    },
    {
     "data": {
      "application/vnd.jupyter.widget-view+json": {
       "model_id": "5f18aac0d416450189efb91663c78d55",
       "version_major": 2,
       "version_minor": 0
      },
      "text/plain": [
       "unsupervised-00000-of-00001.parquet:   0%|          | 0.00/42.0M [00:00<?, ?B/s]"
      ]
     },
     "metadata": {},
     "output_type": "display_data"
    },
    {
     "data": {
      "application/vnd.jupyter.widget-view+json": {
       "model_id": "5b0f3bebc5ba46eb93f2859011bc4e1e",
       "version_major": 2,
       "version_minor": 0
      },
      "text/plain": [
       "Generating train split:   0%|          | 0/25000 [00:00<?, ? examples/s]"
      ]
     },
     "metadata": {},
     "output_type": "display_data"
    },
    {
     "data": {
      "application/vnd.jupyter.widget-view+json": {
       "model_id": "10e12bebec4f4dcbba73e1c646294529",
       "version_major": 2,
       "version_minor": 0
      },
      "text/plain": [
       "Generating test split:   0%|          | 0/25000 [00:00<?, ? examples/s]"
      ]
     },
     "metadata": {},
     "output_type": "display_data"
    },
    {
     "data": {
      "application/vnd.jupyter.widget-view+json": {
       "model_id": "65e5e0a72fc9480d92c9c972cb51c3c1",
       "version_major": 2,
       "version_minor": 0
      },
      "text/plain": [
       "Generating unsupervised split:   0%|          | 0/50000 [00:00<?, ? examples/s]"
      ]
     },
     "metadata": {},
     "output_type": "display_data"
    }
   ],
   "source": [
    "# Загрузим датасет\n",
    "dataset = datasets.load_dataset('imdb')"
   ]
  },
  {
   "cell_type": "markdown",
   "metadata": {},
   "source": [
    "Расчёт числа слов в корпусе с помощью класса `Counter`."
   ]
  },
  {
   "cell_type": "code",
   "execution_count": 7,
   "metadata": {
    "colab": {
     "base_uri": "https://localhost:8080/",
     "height": 49,
     "referenced_widgets": [
      "7046940e6910483ab956bbecf28304db",
      "c0abb69ec0e4491287aa31bad7e7849e",
      "a08440885cfe4eba9d5cca3b24009f52",
      "3c1a0b63e99241a6b156a29b9e151984",
      "9cdf88dfc18c4a249798269edfd01ca7",
      "7c2bf69f1e224e5fb5825206d40f63df",
      "8dbbd8b3d5374ce29f90ea1ddf921519",
      "f67374547a194ab6bcc55bc11dcec68c",
      "9cf94ccc7bfd494aaabab548adac9a2d",
      "b04f3a4f231e43dcb8379dff0c1e2456",
      "58d8c6f1ba1d4423b5c2c712fe4e3439"
     ]
    },
    "execution": {
     "iopub.execute_input": "2025-02-19T18:01:07.428746Z",
     "iopub.status.busy": "2025-02-19T18:01:07.427748Z",
     "iopub.status.idle": "2025-02-19T18:01:18.055516Z",
     "shell.execute_reply": "2025-02-19T18:01:18.055516Z",
     "shell.execute_reply.started": "2025-02-19T18:01:07.428746Z"
    },
    "id": "nEvCN0Y1w1yH",
    "outputId": "75a87f63-bd7b-4e01-f002-3fb959b95afe"
   },
   "outputs": [
    {
     "data": {
      "application/vnd.jupyter.widget-view+json": {
       "model_id": "6cc834bf5dec43948d8980ebb2737e11",
       "version_major": 2,
       "version_minor": 0
      },
      "text/plain": [
       "  0%|          | 0/25000 [00:00<?, ?it/s]"
      ]
     },
     "metadata": {},
     "output_type": "display_data"
    }
   ],
   "source": [
    "words = Counter()\n",
    "\n",
    "for example in tqdm(dataset['train']['text']):\n",
    "    # Приводим к нижнему регистру и убираем пунктуацию\n",
    "    proccessed_text = example.lower().translate(\n",
    "        str.maketrans('', '', string.punctuation))\n",
    "\n",
    "    for word in word_tokenize(proccessed_text):\n",
    "        words[word] += 1"
   ]
  },
  {
   "cell_type": "markdown",
   "metadata": {},
   "source": [
    "Создание словаря на основании частоты появления слова в корпусе."
   ]
  },
  {
   "cell_type": "code",
   "execution_count": 12,
   "metadata": {
    "execution": {
     "iopub.execute_input": "2025-02-19T18:02:53.059450Z",
     "iopub.status.busy": "2025-02-19T18:02:53.059450Z",
     "iopub.status.idle": "2025-02-19T18:02:53.101932Z",
     "shell.execute_reply": "2025-02-19T18:02:53.101420Z",
     "shell.execute_reply.started": "2025-02-19T18:02:53.059450Z"
    },
    "id": "oUBNwsK9xLIu"
   },
   "outputs": [
    {
     "data": {
      "application/vnd.jupyter.widget-view+json": {
       "model_id": "d48211aaa0c44218ad8fdc646ce4c5a8",
       "version_major": 2,
       "version_minor": 0
      },
      "text/plain": [
       "  0%|          | 0/121222 [00:00<?, ?it/s]"
      ]
     },
     "metadata": {},
     "output_type": "display_data"
    }
   ],
   "source": [
    "vocab = set(['<unk>', '<bos>', '<eos>', '<pad>']) #Служебные токены, использующиеся как индикаторы в последовательностях\n",
    "\n",
    "counter_threshold = 25\n",
    "\n",
    "for char, cnt in tqdm(words.items()):\n",
    "    if cnt > counter_threshold:\n",
    "        vocab.add(char)"
   ]
  },
  {
   "cell_type": "markdown",
   "metadata": {},
   "source": [
    "Частота `25` определена эмпирически с целью получить адекватный размер словаря."
   ]
  },
  {
   "cell_type": "code",
   "execution_count": 13,
   "metadata": {
    "colab": {
     "base_uri": "https://localhost:8080/"
    },
    "execution": {
     "iopub.execute_input": "2025-02-19T18:03:00.878431Z",
     "iopub.status.busy": "2025-02-19T18:03:00.876431Z",
     "iopub.status.idle": "2025-02-19T18:03:00.886974Z",
     "shell.execute_reply": "2025-02-19T18:03:00.886463Z",
     "shell.execute_reply.started": "2025-02-19T18:03:00.878431Z"
    },
    "id": "JhACW2CQyck5",
    "outputId": "8cbd177f-15fd-4064-b6fa-c5900749fc1b"
   },
   "outputs": [
    {
     "data": {
      "text/plain": [
       "11399"
      ]
     },
     "execution_count": 13,
     "metadata": {},
     "output_type": "execute_result"
    }
   ],
   "source": [
    "len(vocab)"
   ]
  },
  {
   "cell_type": "markdown",
   "metadata": {},
   "source": [
    "Методы для получения индексов токенов и получения токенов из индексов."
   ]
  },
  {
   "cell_type": "code",
   "execution_count": 14,
   "metadata": {
    "execution": {
     "iopub.execute_input": "2025-02-19T18:05:13.188013Z",
     "iopub.status.busy": "2025-02-19T18:05:13.187015Z",
     "iopub.status.idle": "2025-02-19T18:05:13.196733Z",
     "shell.execute_reply": "2025-02-19T18:05:13.194729Z",
     "shell.execute_reply.started": "2025-02-19T18:05:13.188013Z"
    },
    "id": "iD7SmSy3v2dl"
   },
   "outputs": [],
   "source": [
    "word2ind = {char: i for i, char in enumerate(vocab)}\n",
    "ind2word = {i: char for char, i in word2ind.items()}"
   ]
  },
  {
   "cell_type": "markdown",
   "metadata": {},
   "source": [
    "Создаётся класс `WordDataset` по типу `torch.Dataset` для облегчения работы с последовательностями. Классу такого типа необходимы **3** обязательных метода:\n",
    "\n",
    "- `__init__` - конструктор;\n",
    "- `__getitem__` - получение конкретного примера по индексу из датасета;\n",
    "- `__len__` - метод определяющий длину датасета."
   ]
  },
  {
   "cell_type": "code",
   "execution_count": 15,
   "metadata": {
    "execution": {
     "iopub.execute_input": "2025-02-19T18:10:46.268899Z",
     "iopub.status.busy": "2025-02-19T18:10:46.267901Z",
     "iopub.status.idle": "2025-02-19T18:10:46.277434Z",
     "shell.execute_reply": "2025-02-19T18:10:46.275923Z",
     "shell.execute_reply.started": "2025-02-19T18:10:46.268899Z"
    },
    "id": "FVzXL17PzC7K"
   },
   "outputs": [],
   "source": [
    "class WordDataset:\n",
    "    def __init__(self, sentences):\n",
    "        self.data = sentences\n",
    "        self.unk_id = word2ind['<unk>']\n",
    "        self.bos_id = word2ind['<bos>']\n",
    "        self.eos_id = word2ind['<eos>']\n",
    "        self.pad_id = word2ind['<pad>']\n",
    "\n",
    "    def __getitem__(self, idx: int) -> List[int]:\n",
    "        processed_text = self.data[idx]['text'].lower().translate(\n",
    "            str.maketrans('', '', string.punctuation))\n",
    "        tokenized_sentence = [self.bos_id]\n",
    "        tokenized_sentence += [\n",
    "            word2ind.get(word, self.unk_id) for word in word_tokenize(processed_text)\n",
    "            ]\n",
    "        tokenized_sentence += [self.eos_id]\n",
    "\n",
    "        train_sample = {\n",
    "            \"text\": tokenized_sentence,\n",
    "            \"label\": self.data[idx]['label']\n",
    "        }\n",
    "\n",
    "        return train_sample\n",
    "\n",
    "    def __len__(self) -> int:\n",
    "        return len(self.data)"
   ]
  },
  {
   "cell_type": "markdown",
   "metadata": {},
   "source": [
    "Сбор последовательностей разных длин в ОДИН батч:\n",
    "\n",
    "1. Получает на вход батч (список примеров из DataLoader по индексу список из `__getitem__`);\n",
    "2. Все полученные последовательности собираются с учётом их длин;\n",
    "3. Все данные переносятся в тензоры и в случае необходимости переносятся на устройство GPU/CPU.\n"
   ]
  },
  {
   "cell_type": "code",
   "execution_count": 20,
   "metadata": {
    "execution": {
     "iopub.execute_input": "2025-02-19T18:21:38.170192Z",
     "iopub.status.busy": "2025-02-19T18:21:38.169194Z",
     "iopub.status.idle": "2025-02-19T18:21:38.178061Z",
     "shell.execute_reply": "2025-02-19T18:21:38.176711Z",
     "shell.execute_reply.started": "2025-02-19T18:21:38.170192Z"
    },
    "id": "I6CtYNMp2_g0"
   },
   "outputs": [],
   "source": [
    "def collate_fn_with_padding(\n",
    "    input_batch: List[List[int]], pad_id=word2ind['<pad>'], max_len=256) -> torch.Tensor:\n",
    "\n",
    "    # Определим максимальную длину последовательности, выбирая оптимум между заданной max_len и возможной самой большой длиной последовательности из текстов\n",
    "    seq_lens = [len(x['text']) for x in input_batch]\n",
    "    max_seq_len = min(max(seq_lens), max_len)\n",
    "\n",
    "    new_batch = []\n",
    "    for sequence in input_batch:\n",
    "        sequence['text'] = sequence['text'][:max_seq_len] # Делаем truncate последовательности, ограничивая длину\n",
    "        for _ in range(max_seq_len - len(sequence['text'])):\n",
    "            sequence['text'].append(pad_id)\n",
    "\n",
    "        new_batch.append(sequence['text'])\n",
    "\n",
    "    # LongTensor содержит целочисленные индексы токенов\n",
    "    sequences = torch.LongTensor(new_batch).to(device)\n",
    "    labels = torch.LongTensor([x['label'] for x in input_batch]).to(device)\n",
    "\n",
    "    new_batch = {\n",
    "        'input_ids': sequences,\n",
    "        'label': labels\n",
    "    }\n",
    "    \n",
    "    return new_batch"
   ]
  },
  {
   "cell_type": "code",
   "execution_count": 21,
   "metadata": {
    "execution": {
     "iopub.execute_input": "2025-02-19T18:21:39.601093Z",
     "iopub.status.busy": "2025-02-19T18:21:39.600092Z",
     "iopub.status.idle": "2025-02-19T18:21:39.613824Z",
     "shell.execute_reply": "2025-02-19T18:21:39.612818Z",
     "shell.execute_reply.started": "2025-02-19T18:21:39.601093Z"
    },
    "id": "6xmeK9Ys1BIG"
   },
   "outputs": [],
   "source": [
    "train_dataset = WordDataset(dataset['train'])\n",
    "\n",
    "np.random.seed(42)\n",
    "idx = np.random.choice(np.arange(len(dataset['test'])), 2000)\n",
    "eval_dataset = WordDataset(dataset['test'].select(idx))\n",
    "\n",
    "batch_size = 128\n",
    "train_dataloader = DataLoader(\n",
    "    train_dataset, shuffle=True, collate_fn=collate_fn_with_padding, batch_size=batch_size)\n",
    "\n",
    "eval_dataloader = DataLoader(\n",
    "    eval_dataset, shuffle=False, collate_fn=collate_fn_with_padding, batch_size=batch_size)"
   ]
  },
  {
   "cell_type": "markdown",
   "metadata": {
    "id": "SMAexY7Y45E4"
   },
   "source": [
    "## Архитектура модели"
   ]
  },
  {
   "cell_type": "code",
   "execution_count": 22,
   "metadata": {
    "execution": {
     "iopub.execute_input": "2025-02-19T18:28:23.396386Z",
     "iopub.status.busy": "2025-02-19T18:28:23.395388Z",
     "iopub.status.idle": "2025-02-19T18:28:23.404553Z",
     "shell.execute_reply": "2025-02-19T18:28:23.403547Z",
     "shell.execute_reply.started": "2025-02-19T18:28:23.396386Z"
    },
    "id": "Vbr92JnX4bzN"
   },
   "outputs": [],
   "source": [
    "class CharLM(nn.Module):\n",
    "    def __init__(\n",
    "        self, hidden_dim: int, vocab_size: int, num_classes: int = 2,\n",
    "        aggregation_type: str = 'max'\n",
    "        ):\n",
    "        super().__init__()\n",
    "        self.embedding = nn.Embedding(vocab_size, hidden_dim)\n",
    "        self.rnn = nn.RNN(hidden_dim, hidden_dim, batch_first=True) #batch_first = True, т.к. в DataLoader лежат батчи, а не сами предложения\n",
    "        self.linear = nn.Linear(hidden_dim, hidden_dim)\n",
    "        self.projection = nn.Linear(hidden_dim, num_classes)\n",
    "\n",
    "        self.non_lin = nn.Tanh()\n",
    "        self.dropout = nn.Dropout(p=0.1)\n",
    "\n",
    "        self.aggregation_type = aggregation_type\n",
    "\n",
    "    def forward(self, input_batch) -> torch.Tensor:\n",
    "        embeddings = self.embedding(input_batch)  # [batch_size, seq_len, hidden_dim]\n",
    "        output, _ = self.rnn(embeddings)  # [batch_size, seq_len, hidden_dim]\n",
    "\n",
    "        if self.aggregation_type == 'max':\n",
    "            output = output.max(dim=1)[0] #[batch_size, hidden_dim]\n",
    "        elif self.aggregation_type == 'mean':\n",
    "            output = output.mean(dim=1) #[batch_size, hidden_dim]\n",
    "        else:\n",
    "            raise ValueError(\"Invalid aggregation_type\")\n",
    "\n",
    "        output = self.dropout(self.linear(self.non_lin(output)))  # [batch_size, hidden_dim]\n",
    "        prediction = self.projection(self.non_lin(output))  # [batch_size, num_classes]\n",
    "\n",
    "        return prediction"
   ]
  },
  {
   "cell_type": "markdown",
   "metadata": {
    "id": "bLV63Vsk7loy"
   },
   "source": [
    "## Train loop"
   ]
  },
  {
   "cell_type": "code",
   "execution_count": 24,
   "metadata": {
    "execution": {
     "iopub.execute_input": "2025-02-19T18:29:52.845010Z",
     "iopub.status.busy": "2025-02-19T18:29:52.843007Z",
     "iopub.status.idle": "2025-02-19T18:29:52.852890Z",
     "shell.execute_reply": "2025-02-19T18:29:52.851886Z",
     "shell.execute_reply.started": "2025-02-19T18:29:52.844007Z"
    },
    "id": "Ak-CGxJ_reWK"
   },
   "outputs": [],
   "source": [
    "def evaluate(model) -> float:\n",
    "    \"\"\"\n",
    "    Calculate accuracy on validation dataloader.\n",
    "    \"\"\"\n",
    "\n",
    "    predictions = []\n",
    "    target = []\n",
    "    with torch.no_grad():\n",
    "        for batch in eval_dataloader:\n",
    "            logits = model(batch['input_ids'])\n",
    "            predictions.append(logits.argmax(dim=1))\n",
    "            target.append(batch['label'])\n",
    "\n",
    "    predictions = torch.cat(predictions)\n",
    "    target = torch.cat(target)\n",
    "    accuracy = (predictions == target).float().mean().item()\n",
    "\n",
    "    return accuracy"
   ]
  },
  {
   "cell_type": "code",
   "execution_count": 25,
   "metadata": {
    "execution": {
     "iopub.execute_input": "2025-02-19T18:30:48.088579Z",
     "iopub.status.busy": "2025-02-19T18:30:48.088579Z",
     "iopub.status.idle": "2025-02-19T18:30:49.586082Z",
     "shell.execute_reply": "2025-02-19T18:30:49.586082Z",
     "shell.execute_reply.started": "2025-02-19T18:30:48.088579Z"
    },
    "id": "kZT0IgoW7jel"
   },
   "outputs": [],
   "source": [
    "model = CharLM(hidden_dim=256, vocab_size=len(vocab)).to(device)\n",
    "criterion = nn.CrossEntropyLoss(ignore_index=word2ind['<pad>'])\n",
    "optimizer = torch.optim.Adam(model.parameters())"
   ]
  },
  {
   "cell_type": "code",
   "execution_count": 26,
   "metadata": {
    "colab": {
     "base_uri": "https://localhost:8080/",
     "height": 372,
     "referenced_widgets": [
      "b7a891c19bcb4ae49d3e40d4a7eb8e99",
      "51a0a02c62914bc4b68cb9f0bd989c7f",
      "a529c28475d6427e823006bd4e58ff7d",
      "2a66b9f484b844c0b4447efcac6fbdca",
      "a6e5cb2ee00b4f34934257187dcd38fe",
      "864c3ca6643d4c0c8b81c2ab092e4e41",
      "6a3abf946ef5473db978508cb35cb207",
      "35b8652a722747da8a3f30c7dbaa8ac7",
      "85751d5c52de450dbe3ee0980c6d6209",
      "29889972197c43cfaa20f8057c033ab5",
      "f792bb3cf4f045228617c45bf3675956",
      "a3938ee86e77421492ab9f02bcbd2b0b",
      "7edf1d5607bf4ffbafab752323a3a981",
      "a39e2b428d214ca19f37f958d963d8e5",
      "4c72067599d64ca78cc74d0c223525e0",
      "2fbd0690956d47d98e031a5be26bc9b3",
      "213ad2e74f334f89911dcee4792962b2",
      "6c3f56ea01fe4e7fb2009e31842120eb",
      "38d3e76ff99d4263be9e0b95119eff8e",
      "594f343a4195436e9c12973f56555f93",
      "ff11d07358dd4bfd8d85c56b17971f76",
      "4751d600cb974a09abe8b043097a2e7d",
      "43ee71f957d34f80b7724b37912f86be",
      "ecdd5be451764fefa040c081ed203341",
      "f662b61b09b945fb80eaaecaaca20a0e",
      "32e363c6d4df4a0aad4336d8a507e9fe",
      "9ee6edf2ee2d4a0ca041f177cb24adef",
      "faf2c306812644139f8bab56e2ef447b",
      "e4050da259264993ad659431b6f05bdd",
      "0758aee9b50f428fb4b903bcf6eacb42",
      "8728b1bd9455445ca3e19bbac698fbee",
      "85a9415481374bd1a9fb5e5a42d0b667",
      "43fcf00c25b548f38c72ad65801bbc3b",
      "ab2f8971591449668d79e15ea2c84f39",
      "112e804953a14681b96b9f1dc400dd3d",
      "4c9d0522738240ff814d77a0e9043b4d",
      "cfb1b0ff813a44739ea1a429fa80e97c",
      "258c608d733a4ac3a641b80056a91311",
      "78aa109ad69d4b06941078dc44835e1a",
      "525dba37d9b6419d86e5aea5c9a33133",
      "14c61796d00f43ae9e1a0694a0c03618",
      "0c33dd7fe827456883d945b46c3cfb0f",
      "3ef4bbf665224226a40325fd7b8caf91",
      "023ecded2a4840f99d20105fca7cd95d",
      "a8d3fd6fe39c4fecadd51ed00b78707b",
      "4c9c211beb084b3783f2cb2674c97f30",
      "4822e59688a24d148be5dc3f56aee1eb",
      "fb4e483fb3f3463f8018a09fe288b5be",
      "ec9fc909f7dd4a51b00dda07bf76aac8",
      "ad064898fabc429b93ff8bda73a7b64f",
      "5399fdfab95547a388b1bc1212e0ac53",
      "e353887a89014b49b5b20e164536602c",
      "5715385a06b74ab98bf81056289f0d8f",
      "b82fb329e11749d7a91c5f96afb79b31",
      "25e8b4bee71d47df977db6e3888a7c95",
      "1c7746b6d0384c138025bdf0a6c77942",
      "8e783828b2184f05bd7d7f06e36f945a",
      "ab42750cd08e423c9433e381c278da92",
      "6f4f1140a5bc4359a1a5e4777877d856",
      "949b787ca27b41f587b164e669dda257",
      "c76c952d76eb4ebb9ae49095b34f3420",
      "d15d2f259b53470d8aa44564b9d1a3eb",
      "44b8f439dd424f30b167958f8d7db4d3",
      "63ca3d940bf548a1a889caa5355f46c8",
      "a96d7404a9704adf921f3bcbb0e3f231",
      "4e1720745446422ba4d19356a2b42449",
      "141df194e7e145868cbda2b386e01766",
      "04bdffb1c7b742b8aa7280251bfb6e0f",
      "3b286802472244d0be169362a5ed4ec1",
      "4bab945549cb4faebe72231e26e641d0",
      "404fba4bd83b4116801b45135a381dc7",
      "4a0612bbf0064e88921171486bd7e8c5",
      "62ab73b3c7a1484eba73dfea849c4d9a",
      "1ffcecdd5ed4444b8722ab7f74b69dcb",
      "d7d9a404caad44a384111850f41634bf",
      "43eed75e816e48ba8529f303fbd530e4",
      "6a915a0a17e241659246275464b34053",
      "c5b1a9a122e748e983a30c0db43cd00e",
      "76bed2046dc54c6d815ef13d87c07e70",
      "8b196412b114401ab4a1148eef47ad1a",
      "2f8095bdcf0749f9b2e03c8127527f07",
      "4aa58740465a44ff98d26d968086a1c7",
      "ada7c94563154c39ba5fe6b3d3da40c7",
      "40f9f16872b84957b3d78e2794da4278",
      "84592b7fe38a4821ab3a075fd1e61288",
      "4980907a0a1a4d8dbeb19d62e002d107",
      "dc4b3be34fef4d33bc2c9ca6b02519a6",
      "c24e0a8070334d5b81c9d6ed00388e68",
      "7b3a7b9485224b23b8eae36e2fe9989b",
      "36f08b751ba9458ba1ce02c50801e9bb",
      "65542002c4fc47cf94af0632096a0d07",
      "58bf0ebcf4314d77a84ffc16c576274a",
      "08b20e3a99d34acdb528933282a5b597",
      "ed070ae21ff6447f81e84d1ebeb522fc",
      "2654499bd1f844e3a735decd194ee7a7",
      "5c3739a34c87470a85916ab91259fae7",
      "8025796386a544b7ba3d8922d068d2e9",
      "2a7e3c6bd4934002a942a7495229babd",
      "04a9eb70dab84646b576d126924c12c4",
      "26570316de484e0b855d291125024f72",
      "a91c3767e5bd41ea9063d7510e045a12",
      "cff1988bf3b945d0a102ae846efd8325",
      "41b935a61f6847ce94e4ce3568cc1c71",
      "833a9262c2904d56aa831ede95addfde",
      "b23e82f9ba5f45f4898379260841eb9a",
      "1b7f996d8bd5423499e92a83f71236ac",
      "44fb7318dba249088fd5e737d32710f5",
      "13e4bdec6eb540cbb5f8afe8335c71fd",
      "820a98ad34904a31a374f6a0e8c5586b",
      "804a4bc356bb44fd804d08b41fdfd7e0"
     ]
    },
    "execution": {
     "iopub.execute_input": "2025-02-19T18:32:17.978840Z",
     "iopub.status.busy": "2025-02-19T18:32:17.977837Z",
     "iopub.status.idle": "2025-02-19T18:35:45.752163Z",
     "shell.execute_reply": "2025-02-19T18:35:45.752163Z",
     "shell.execute_reply.started": "2025-02-19T18:32:17.978840Z"
    },
    "id": "XM8gJPdM8HuT",
    "outputId": "88366968-fd39-4b06-f201-0818d45243c5"
   },
   "outputs": [
    {
     "name": "stdout",
     "output_type": "stream",
     "text": [
      "Starting training for max\n"
     ]
    },
    {
     "data": {
      "application/vnd.jupyter.widget-view+json": {
       "model_id": "1e83d14ae0964aa68bc3e1fe16a1edea",
       "version_major": 2,
       "version_minor": 0
      },
      "text/plain": [
       "Training epoch 0::   0%|          | 0/196 [00:00<?, ?it/s]"
      ]
     },
     "metadata": {},
     "output_type": "display_data"
    },
    {
     "data": {
      "application/vnd.jupyter.widget-view+json": {
       "model_id": "c788b57ac07a47b8b7c3d192ab212781",
       "version_major": 2,
       "version_minor": 0
      },
      "text/plain": [
       "Training epoch 1::   0%|          | 0/196 [00:00<?, ?it/s]"
      ]
     },
     "metadata": {},
     "output_type": "display_data"
    },
    {
     "data": {
      "application/vnd.jupyter.widget-view+json": {
       "model_id": "3936cfd6c3fc4909879b050b6c17eded",
       "version_major": 2,
       "version_minor": 0
      },
      "text/plain": [
       "Training epoch 2::   0%|          | 0/196 [00:00<?, ?it/s]"
      ]
     },
     "metadata": {},
     "output_type": "display_data"
    },
    {
     "data": {
      "application/vnd.jupyter.widget-view+json": {
       "model_id": "36afe3c16ed3445bb403dbc2b8414fcf",
       "version_major": 2,
       "version_minor": 0
      },
      "text/plain": [
       "Training epoch 3::   0%|          | 0/196 [00:00<?, ?it/s]"
      ]
     },
     "metadata": {},
     "output_type": "display_data"
    },
    {
     "data": {
      "application/vnd.jupyter.widget-view+json": {
       "model_id": "26e7a25ae355488d873c4fdc1c36f81a",
       "version_major": 2,
       "version_minor": 0
      },
      "text/plain": [
       "Training epoch 4::   0%|          | 0/196 [00:00<?, ?it/s]"
      ]
     },
     "metadata": {},
     "output_type": "display_data"
    },
    {
     "name": "stdout",
     "output_type": "stream",
     "text": [
      "Starting training for mean\n"
     ]
    },
    {
     "data": {
      "application/vnd.jupyter.widget-view+json": {
       "model_id": "06e8566a3d024f32b7d3ca6463924097",
       "version_major": 2,
       "version_minor": 0
      },
      "text/plain": [
       "Training epoch 0::   0%|          | 0/196 [00:00<?, ?it/s]"
      ]
     },
     "metadata": {},
     "output_type": "display_data"
    },
    {
     "data": {
      "application/vnd.jupyter.widget-view+json": {
       "model_id": "a527c6ec8bab4104afb2bcf8526f12ae",
       "version_major": 2,
       "version_minor": 0
      },
      "text/plain": [
       "Training epoch 1::   0%|          | 0/196 [00:00<?, ?it/s]"
      ]
     },
     "metadata": {},
     "output_type": "display_data"
    },
    {
     "data": {
      "application/vnd.jupyter.widget-view+json": {
       "model_id": "549531457f1e473bb1352ef51204a965",
       "version_major": 2,
       "version_minor": 0
      },
      "text/plain": [
       "Training epoch 2::   0%|          | 0/196 [00:00<?, ?it/s]"
      ]
     },
     "metadata": {},
     "output_type": "display_data"
    },
    {
     "data": {
      "application/vnd.jupyter.widget-view+json": {
       "model_id": "b068d780e9bb46548aa71ac0539d81a7",
       "version_major": 2,
       "version_minor": 0
      },
      "text/plain": [
       "Training epoch 3::   0%|          | 0/196 [00:00<?, ?it/s]"
      ]
     },
     "metadata": {},
     "output_type": "display_data"
    },
    {
     "data": {
      "application/vnd.jupyter.widget-view+json": {
       "model_id": "d924fbc6381b4a40b2e149e29139459b",
       "version_major": 2,
       "version_minor": 0
      },
      "text/plain": [
       "Training epoch 4::   0%|          | 0/196 [00:00<?, ?it/s]"
      ]
     },
     "metadata": {},
     "output_type": "display_data"
    }
   ],
   "source": [
    "num_epoch = 5\n",
    "eval_steps = len(train_dataloader) // 2\n",
    "\n",
    "\n",
    "losses_type = {}\n",
    "acc_type = {}\n",
    "\n",
    "for aggregation_type in ['max', 'mean']:\n",
    "    print(f\"Starting training for {aggregation_type}\")\n",
    "    losses = []\n",
    "    acc = []\n",
    "\n",
    "    model = CharLM(\n",
    "        hidden_dim=256, vocab_size=len(vocab), aggregation_type=aggregation_type).to(device)\n",
    "    criterion = nn.CrossEntropyLoss(ignore_index=word2ind['<pad>'])\n",
    "    optimizer = torch.optim.Adam(model.parameters())\n",
    "\n",
    "    for epoch in range(num_epoch):\n",
    "        epoch_losses = []\n",
    "        model.train()\n",
    "        for i, batch in enumerate(tqdm(train_dataloader, desc=f'Training epoch {epoch}:')):\n",
    "            optimizer.zero_grad()\n",
    "            logits = model(batch['input_ids'])\n",
    "            loss = criterion(logits, batch['label'])\n",
    "            loss.backward()\n",
    "            optimizer.step()\n",
    "\n",
    "            epoch_losses.append(loss.item())\n",
    "            if i % eval_steps == 0:\n",
    "                model.eval()\n",
    "                acc.append(evaluate(model))\n",
    "                model.train()\n",
    "\n",
    "        losses.append(sum(epoch_losses) / len(epoch_losses))\n",
    "\n",
    "    losses_type[aggregation_type] = losses\n",
    "    acc_type[aggregation_type] = acc"
   ]
  },
  {
   "cell_type": "code",
   "execution_count": 27,
   "metadata": {
    "colab": {
     "base_uri": "https://localhost:8080/",
     "height": 301
    },
    "execution": {
     "iopub.execute_input": "2025-02-19T18:35:47.147460Z",
     "iopub.status.busy": "2025-02-19T18:35:47.147460Z",
     "iopub.status.idle": "2025-02-19T18:35:47.297998Z",
     "shell.execute_reply": "2025-02-19T18:35:47.297998Z",
     "shell.execute_reply.started": "2025-02-19T18:35:47.147460Z"
    },
    "id": "NLbm0RZZ-tqe",
    "outputId": "dcf70eab-b757-4702-90a2-b1af5f5c1abf"
   },
   "outputs": [
    {
     "data": {
      "image/png": "[encoded data removed]",
      "text/plain": [
       "<Figure size 640x480 with 1 Axes>"
      ]
     },
     "metadata": {},
     "output_type": "display_data"
    }
   ],
   "source": [
    "for (name, values), color in zip(losses_type.items(), ['red', 'blue']):\n",
    "    plt.plot(np.arange(len(losses_type[name])), losses_type[name], color=color, label=name)\n",
    "\n",
    "plt.title('Losses')\n",
    "plt.xlabel(\"epoch\")\n",
    "plt.legend()\n",
    "plt.show()"
   ]
  },
  {
   "cell_type": "code",
   "execution_count": 28,
   "metadata": {
    "colab": {
     "base_uri": "https://localhost:8080/",
     "height": 336
    },
    "execution": {
     "iopub.execute_input": "2025-02-19T18:35:58.462530Z",
     "iopub.status.busy": "2025-02-19T18:35:58.462530Z",
     "iopub.status.idle": "2025-02-19T18:35:58.543579Z",
     "shell.execute_reply": "2025-02-19T18:35:58.543579Z",
     "shell.execute_reply.started": "2025-02-19T18:35:58.462530Z"
    },
    "id": "2RENKFrH-Ppw",
    "outputId": "8870cb4d-62ec-44ad-d994-70bb8f9228d1"
   },
   "outputs": [
    {
     "name": "stdout",
     "output_type": "stream",
     "text": [
      "Лучшая accuracy для подхода max: 86.50\n",
      "Лучшая accuracy для подхода mean: 85.95\n"
     ]
    },
    {
     "data": {
      "image/png": "[encoded data removed]",
      "text/plain": [
       "<Figure size 640x480 with 1 Axes>"
      ]
     },
     "metadata": {},
     "output_type": "display_data"
    }
   ],
   "source": [
    "for (name, values), color in zip(losses_type.items(), ['red', 'blue']):\n",
    "    plt.plot(np.arange(len(acc_type[name][1:])), acc_type[name][1:], color=color, label=name)\n",
    "    print(f\"Лучшая accuracy для подхода {name}: {(max(acc_type[name]) * 100):.2f}\")\n",
    "\n",
    "plt.title('Accuracy')\n",
    "plt.xlabel(\"epoch\")\n",
    "plt.legend()\n",
    "plt.show()"
   ]
  },
  {
   "cell_type": "code",
   "execution_count": 31,
   "metadata": {
    "execution": {
     "iopub.execute_input": "2025-02-19T18:38:42.893925Z",
     "iopub.status.busy": "2025-02-19T18:38:42.892925Z",
     "iopub.status.idle": "2025-02-19T18:38:43.032401Z",
     "shell.execute_reply": "2025-02-19T18:38:43.031100Z",
     "shell.execute_reply.started": "2025-02-19T18:38:42.892925Z"
    },
    "id": "wkSE4jR1XzTg"
   },
   "outputs": [],
   "source": [
    "from torchviz import make_dot"
   ]
  },
  {
   "cell_type": "code",
   "execution_count": null,
   "metadata": {},
   "outputs": [],
   "source": [
    "model()"
   ]
  },
  {
   "cell_type": "code",
   "execution_count": 39,
   "metadata": {
    "execution": {
     "iopub.execute_input": "2025-02-19T18:40:37.232670Z",
     "iopub.status.busy": "2025-02-19T18:40:37.230982Z",
     "iopub.status.idle": "2025-02-19T18:40:37.238722Z",
     "shell.execute_reply": "2025-02-19T18:40:37.238722Z",
     "shell.execute_reply.started": "2025-02-19T18:40:37.232670Z"
    }
   },
   "outputs": [
    {
     "data": {
      "text/plain": [
       "{'text': 'I rented I AM CURIOUS-YELLOW from my video store because of all the controversy that surrounded it when it was first released in 1967. I also heard that at first it was seized by U.S. customs if it ever tried to enter this country, therefore being a fan of films considered \"controversial\" I really had to see this for myself.<br /><br />The plot is centered around a young Swedish drama student named Lena who wants to learn everything she can about life. In particular she wants to focus her attentions to making some sort of documentary on what the average Swede thought about certain political issues such as the Vietnam War and race issues in the United States. In between asking politicians and ordinary denizens of Stockholm about their opinions on politics, she has sex with her drama teacher, classmates, and married men.<br /><br />What kills me about I AM CURIOUS-YELLOW is that 40 years ago, this was considered pornographic. Really, the sex and nudity scenes are few and far between, even then it\\'s not shot like some cheaply made porno. While my countrymen mind find it shocking, in reality sex and nudity are a major staple in Swedish cinema. Even Ingmar Bergman, arguably their answer to good old boy John Ford, had sex scenes in his films.<br /><br />I do commend the filmmakers for the fact that any sex shown in the film is shown for artistic purposes rather than just to shock people and make money to be shown in pornographic theaters in America. I AM CURIOUS-YELLOW is a good film for anyone wanting to study the meat and potatoes (no pun intended) of Swedish cinema. But really, this film doesn\\'t have much of a plot.',\n",
       " 'label': 0}"
      ]
     },
     "execution_count": 39,
     "metadata": {},
     "output_type": "execute_result"
    }
   ],
   "source": [
    "train_dataset.data[0]"
   ]
  },
  {
   "cell_type": "code",
   "execution_count": 43,
   "metadata": {
    "execution": {
     "iopub.execute_input": "2025-02-19T18:42:49.808710Z",
     "iopub.status.busy": "2025-02-19T18:42:49.807710Z",
     "iopub.status.idle": "2025-02-19T18:42:50.805272Z",
     "shell.execute_reply": "2025-02-19T18:42:50.805272Z",
     "shell.execute_reply.started": "2025-02-19T18:42:49.808710Z"
    }
   },
   "outputs": [],
   "source": [
    "with torch.no_grad():\n",
    "    evaluate(model)"
   ]
  },
  {
   "cell_type": "code",
   "execution_count": 55,
   "metadata": {
    "execution": {
     "iopub.execute_input": "2025-02-19T18:46:39.532460Z",
     "iopub.status.busy": "2025-02-19T18:46:39.531461Z",
     "iopub.status.idle": "2025-02-19T18:46:39.604243Z",
     "shell.execute_reply": "2025-02-19T18:46:39.604243Z",
     "shell.execute_reply.started": "2025-02-19T18:46:39.532460Z"
    }
   },
   "outputs": [],
   "source": [
    "temp = next(iter(eval_dataloader))"
   ]
  },
  {
   "cell_type": "code",
   "execution_count": 57,
   "metadata": {
    "execution": {
     "iopub.execute_input": "2025-02-19T18:46:51.566061Z",
     "iopub.status.busy": "2025-02-19T18:46:51.566061Z",
     "iopub.status.idle": "2025-02-19T18:46:51.579857Z",
     "shell.execute_reply": "2025-02-19T18:46:51.579349Z",
     "shell.execute_reply.started": "2025-02-19T18:46:51.566061Z"
    }
   },
   "outputs": [
    {
     "data": {
      "text/plain": [
       "tensor([[ 4768,  6038, 10920,  ...,  2678,  2678,  2678],\n",
       "        [ 4768,  5274,  6816,  ...,  2678,  2678,  2678],\n",
       "        [ 4768,  2458,  3033,  ...,  2678,  2678,  2678],\n",
       "        ...,\n",
       "        [ 4768, 10873, 11245,  ...,  2678,  2678,  2678],\n",
       "        [ 4768,  6442,     0,  ...,  7229, 11255, 11245],\n",
       "        [ 4768,  2770, 11245,  ...,  3086, 11195,  1996]], device='cuda:0')"
      ]
     },
     "execution_count": 57,
     "metadata": {},
     "output_type": "execute_result"
    }
   ],
   "source": [
    "temp['input_ids']"
   ]
  },
  {
   "cell_type": "code",
   "execution_count": 58,
   "metadata": {
    "execution": {
     "iopub.execute_input": "2025-02-19T18:47:02.366999Z",
     "iopub.status.busy": "2025-02-19T18:47:02.365880Z",
     "iopub.status.idle": "2025-02-19T18:47:02.374398Z",
     "shell.execute_reply": "2025-02-19T18:47:02.373389Z",
     "shell.execute_reply.started": "2025-02-19T18:47:02.366999Z"
    }
   },
   "outputs": [],
   "source": [
    "output = model(temp['input_ids'])"
   ]
  },
  {
   "cell_type": "code",
   "execution_count": 72,
   "metadata": {
    "execution": {
     "iopub.execute_input": "2025-02-19T18:50:10.493811Z",
     "iopub.status.busy": "2025-02-19T18:50:10.493811Z",
     "iopub.status.idle": "2025-02-19T18:50:10.499970Z",
     "shell.execute_reply": "2025-02-19T18:50:10.498962Z",
     "shell.execute_reply.started": "2025-02-19T18:50:10.493811Z"
    }
   },
   "outputs": [
    {
     "data": {
      "text/plain": [
       "torch.Size([256])"
      ]
     },
     "execution_count": 72,
     "metadata": {},
     "output_type": "execute_result"
    }
   ],
   "source": [
    "temp['input_ids'][0].shape"
   ]
  },
  {
   "cell_type": "code",
   "execution_count": 74,
   "metadata": {
    "execution": {
     "iopub.execute_input": "2025-02-19T18:50:31.330564Z",
     "iopub.status.busy": "2025-02-19T18:50:31.329565Z",
     "iopub.status.idle": "2025-02-19T18:50:31.344083Z",
     "shell.execute_reply": "2025-02-19T18:50:31.343572Z",
     "shell.execute_reply.started": "2025-02-19T18:50:31.330564Z"
    }
   },
   "outputs": [
    {
     "data": {
      "text/plain": [
       "tensor([[-1.0378,  0.9520]], device='cuda:0', grad_fn=<AddmmBackward0>)"
      ]
     },
     "execution_count": 74,
     "metadata": {},
     "output_type": "execute_result"
    }
   ],
   "source": [
    "model(torch.reshape(temp['input_ids'][0], (1, 256)))"
   ]
  },
  {
   "cell_type": "code",
   "execution_count": 76,
   "metadata": {
    "execution": {
     "iopub.execute_input": "2025-02-19T18:51:13.069703Z",
     "iopub.status.busy": "2025-02-19T18:51:13.067702Z",
     "iopub.status.idle": "2025-02-19T18:51:13.078213Z",
     "shell.execute_reply": "2025-02-19T18:51:13.077703Z",
     "shell.execute_reply.started": "2025-02-19T18:51:13.069703Z"
    }
   },
   "outputs": [
    {
     "data": {
      "text/plain": [
       "<bound method Module.named_parameters of CharLM(\n",
       "  (embedding): Embedding(11399, 256)\n",
       "  (rnn): RNN(256, 256, batch_first=True)\n",
       "  (linear): Linear(in_features=256, out_features=256, bias=True)\n",
       "  (projection): Linear(in_features=256, out_features=2, bias=True)\n",
       "  (non_lin): Tanh()\n",
       "  (dropout): Dropout(p=0.1, inplace=False)\n",
       ")>"
      ]
     },
     "execution_count": 76,
     "metadata": {},
     "output_type": "execute_result"
    }
   ],
   "source": [
    "model.named_parameters"
   ]
  },
  {
   "cell_type": "code",
   "execution_count": 77,
   "metadata": {
    "execution": {
     "iopub.execute_input": "2025-02-19T18:53:59.617414Z",
     "iopub.status.busy": "2025-02-19T18:53:59.616407Z",
     "iopub.status.idle": "2025-02-19T18:53:59.651306Z",
     "shell.execute_reply": "2025-02-19T18:53:59.651306Z",
     "shell.execute_reply.started": "2025-02-19T18:53:59.617414Z"
    }
   },
   "outputs": [],
   "source": [
    "torch.save(model.state_dict(), 'RNN1.pt')"
   ]
  },
  {
   "cell_type": "code",
   "execution_count": null,
   "metadata": {},
   "outputs": [],
   "source": []
  }
 ],
 "metadata": {
  "accelerator": "GPU",
  "colab": {
   "provenance": []
  },
  "gpuClass": "standard",
  "kernelspec": {
   "display_name": "Python 3 (ipykernel)",
   "language": "python",
   "name": "python3"
  },
  "language_info": {
   "codemirror_mode": {
    "name": "ipython",
    "version": 3
   },
   "file_extension": ".py",
   "mimetype": "text/x-python",
   "name": "python",
   "nbconvert_exporter": "python",
   "pygments_lexer": "ipython3",
   "version": "3.11.9"
  },
  "widgets": {
   "application/vnd.jupyter.widget-state+json": {
    "state": {},
    "version_major": 2,
    "version_minor": 0
   }
  }
 },
 "nbformat": 4,
 "nbformat_minor": 4
}
