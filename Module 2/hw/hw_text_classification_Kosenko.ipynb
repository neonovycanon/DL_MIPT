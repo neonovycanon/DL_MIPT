{
 "cells": [
  {
   "cell_type": "markdown",
   "metadata": {
    "id": "d0ADTojbpfLt"
   },
   "source": [
    "# Домашнее задание. Нейросетевая классификация текстов\n",
    "\n",
    "В этом домашнем задании вам предстоит самостоятельно решить задачу классификации текстов на основе семинарского кода. Мы будем использовать датасет [ag_news](https://paperswithcode.com/dataset/ag-news). Это датасет для классификации новостей на 4 темы: \"World\", \"Sports\", \"Business\", \"Sci/Tech\".\n",
    "\n",
    "Установим модуль datasets, чтобы нам проще было работать с данными."
   ]
  },
  {
   "cell_type": "code",
   "execution_count": 2,
   "metadata": {
    "colab": {
     "base_uri": "https://localhost:8080/"
    },
    "execution": {
     "iopub.execute_input": "2025-02-23T08:00:06.848357Z",
     "iopub.status.busy": "2025-02-23T08:00:06.847349Z",
     "iopub.status.idle": "2025-02-23T08:00:12.292668Z",
     "shell.execute_reply": "2025-02-23T08:00:12.292668Z",
     "shell.execute_reply.started": "2025-02-23T08:00:06.848357Z"
    },
    "id": "p2QW_jCR0_kh",
    "outputId": "3fc85cb6-65a4-4bd8-f565-820c6b7504b4"
   },
   "outputs": [
    {
     "name": "stderr",
     "output_type": "stream",
     "text": [
      "\n",
      "[notice] A new release of pip is available: 24.2 -> 25.0.1\n",
      "[notice] To update, run: python.exe -m pip install --upgrade pip\n"
     ]
    }
   ],
   "source": [
    "!pip install datasets -q"
   ]
  },
  {
   "cell_type": "markdown",
   "metadata": {
    "id": "rh9ZXSeCpng9"
   },
   "source": [
    "Импорт необходимых библиотек"
   ]
  },
  {
   "cell_type": "code",
   "execution_count": 3,
   "metadata": {
    "execution": {
     "iopub.execute_input": "2025-02-23T08:00:12.292668Z",
     "iopub.status.busy": "2025-02-23T08:00:12.292668Z",
     "iopub.status.idle": "2025-02-23T08:00:26.995813Z",
     "shell.execute_reply": "2025-02-23T08:00:26.995813Z",
     "shell.execute_reply.started": "2025-02-23T08:00:12.292668Z"
    },
    "id": "XOJi16bLpd_O"
   },
   "outputs": [],
   "source": [
    "import torch\n",
    "import torch.nn as nn\n",
    "from torch.utils.data import Dataset, DataLoader\n",
    "import datasets\n",
    "\n",
    "import numpy as np\n",
    "import matplotlib.pyplot as plt\n",
    "\n",
    "from tqdm.auto import tqdm\n",
    "from datasets import load_dataset\n",
    "from nltk.tokenize import word_tokenize\n",
    "from sklearn.model_selection import train_test_split\n",
    "import nltk\n",
    "\n",
    "from collections import Counter\n",
    "from typing import List, Union, Optional\n",
    "import string\n",
    "\n",
    "import seaborn\n",
    "seaborn.set(palette='summer')"
   ]
  },
  {
   "cell_type": "code",
   "execution_count": null,
   "metadata": {
    "colab": {
     "base_uri": "https://localhost:8080/"
    },
    "id": "91JuM0SQvXud",
    "outputId": "1a67bb6e-1edd-4ded-f018-ed9aa431c7db"
   },
   "outputs": [],
   "source": [
    "nltk.download('punkt')"
   ]
  },
  {
   "cell_type": "code",
   "execution_count": 5,
   "metadata": {
    "colab": {
     "base_uri": "https://localhost:8080/",
     "height": 35
    },
    "execution": {
     "iopub.execute_input": "2025-02-23T08:00:27.233857Z",
     "iopub.status.busy": "2025-02-23T08:00:27.233857Z",
     "iopub.status.idle": "2025-02-23T08:00:27.274958Z",
     "shell.execute_reply": "2025-02-23T08:00:27.274958Z",
     "shell.execute_reply.started": "2025-02-23T08:00:27.233857Z"
    },
    "id": "adJC8ShFq9HM",
    "outputId": "c85c95cb-f61e-4d37-ca8a-029c57d67e6f"
   },
   "outputs": [
    {
     "data": {
      "text/plain": [
       "'cuda'"
      ]
     },
     "execution_count": 5,
     "metadata": {},
     "output_type": "execute_result"
    }
   ],
   "source": [
    "device = 'cuda' if torch.cuda.is_available() else 'cpu'\n",
    "device"
   ]
  },
  {
   "cell_type": "markdown",
   "metadata": {
    "id": "pwsfS1ENq5ig"
   },
   "source": [
    "## Подготовка данных\n",
    "Для вашего удобства, мы привели код обработки датасета в ноутбуке. Ваша задача --- обучить модель, которая получит максимальное возможное качество на тестовой части."
   ]
  },
  {
   "cell_type": "code",
   "execution_count": 6,
   "metadata": {
    "colab": {
     "base_uri": "https://localhost:8080/",
     "height": 244,
     "referenced_widgets": [
      "1eb740874a8b4df68e18f0dbf8e7acdc",
      "fc9cdace4f17455082a2a8374913d322",
      "3ebe7107b9c643a4a990b0c5966299e8",
      "f1bde9957cab40ba97cd7faa65889b00",
      "aefc7fff46e6439fae50d2ac508d78e3",
      "33ce5077e4714f239f12562e1a7a7ef2",
      "f255118df0ea49fa8feb56d043cf87b6",
      "4acffbd4a4604620bcd4b4f8c9c6af9b",
      "8cde1d20ba3e45a08490e769ddd51bb4",
      "513f35a7ebb74d3ebbaefa013b725d14",
      "81311bdb923b4eca97431b56195acd58",
      "09ec9cea96b341d0a25451b192102f39",
      "c9ce26882ff34d61b1817915058152f1",
      "ece019411eba48ca93173a9b15cf8cbb",
      "19722e928d404adb990c5cec48524bba",
      "a93760269c044501aa63f3af2524210e",
      "6a76b678cb8e49d99b307e505c5baf43",
      "991528abe6eb42e29b4303bd72ecbb9c",
      "5b39c3103bf74237a2e03e6fdb7da027",
      "0847a33379184a368d5d1b82222b74cc",
      "122ed5c8b5a74305ba54ff99af7e9d54",
      "c0894fc6901f475382628d4868062558",
      "d76f8b4fbb004812b2bdc3f614cdc307",
      "e684e9dab3dc4a04b4fac5cab926f8fe",
      "a3a2891c78654d639a25ff7522357b26",
      "7caa28a01d5541e98ca6d2bd0c3f0a4c",
      "f5a54984249a47dd8ac113ce96ddbb71",
      "58df47e13b1e48a8863e48d6a12a98b5",
      "a6b4481c94ad4af181ff0934ee7fca92",
      "ca007860138646589925567fa12ee1f9",
      "903b7cdb57de41459650c226b5629d05",
      "196e3535fb3b4ede9c86fe2c79009322",
      "e2cbb1d5b4e1497e804bf00332a14743",
      "a2422c15e5ba42bf87eb6fdcd0604ec1",
      "96f4ff5cfc7b40e995a6c8ecd3546f6b",
      "bc6ee58abaa643cd9643064537784d64",
      "df0ff75a6c5a474295564794954addc4",
      "540219b4cc9b4ace9c70feb8a8146480",
      "b3ba7361fe3b46e3a208bf6416131f28",
      "feac1851ed644eeb98fb9ac9aadd7f41",
      "ccf9677bca0141dba7ba27dde42276e1",
      "0401a08736004c4cafe05feae921849f",
      "dc1d3746c5cf4817b8e80bf92ad02d71",
      "33521ca994f14e55aa040cfc2f5d1105",
      "4ceb025f703948e4971486323e58c3e4",
      "8136ea38174b46fe99d4549e396adbaf",
      "596c2a7e529b45a7973496e02b50ee17",
      "04c14b466921444299752b1bf6cac9fb",
      "99b28ecd95564dbc99ef588f42ae1dd2",
      "5494c2f8716a4da0a846bfad0e25b425",
      "f5d44bab5deb4be18b828d9c78feb5da",
      "dcab6933e7e6483fb37ef3ea4f2f96cb",
      "3018b5e2177b4eb7ba0f562b7db28fe4",
      "3bdb6917a86249c6a094d5d8e1433365",
      "a1f665b2995b4d62a2881de651810d44",
      "38c3fbf1198e4f7cbfc990cb362be0ba",
      "9fbc7d78c453476c8a6ace8a267aa6f3",
      "88bf756ae2ef454da07e153e26d6b272",
      "0872109d55664634958251b1c8a3879e",
      "e43cb91bee254131af50f2af50be3a4e",
      "cb8cdb1fcd394e79be9fcfb5708fee31",
      "55b7456ea0be447a8b87f75226163726",
      "6c7372f597dc48b2bd71771c13fbe1ca",
      "e7a723bfbede426a9c9184ed02ff2574",
      "1644c4f507954f0ba03aeb75b80b93ba",
      "bc1cab86f2d6492cb79c21c25206955e",
      "11d52f8a43cf44f08db4d15e0609adfd",
      "dc7219cdf164455e9172bc134d89d35a",
      "58ed943442364505881079688d1fde0d",
      "24e73abed20f4880a8d235907e0df027",
      "056cc6bc26f14d1aa27208e4be38bb73",
      "9e2a2ae4fcb54b5ca9f2d714b10061a6",
      "c4c47a154f2d40deaddc48a393ca4526",
      "a1605863309c42169162d60f6c6475b8",
      "5340dd684eed471ba18cb36d477c9f4d",
      "95572bae4c6f4d85b85202d04b4271a3",
      "a3fb5f712cdf4d3da74af03d24622ada",
      "640d1239e46f4a4d9224259f19408dee",
      "d635465d15d84b4ea2604e46de5fc957",
      "39e541c8faca418782958233ef684677",
      "0c75bfe839864746be85eae85414c224",
      "9e7c10778b7d4d6e89355acfa3a90fa0",
      "50565855965a4fc08310e2b7d8d65fd0",
      "4b8e4f5ccb3346fdb8a8e56baf8a7f49",
      "3d64d3a55ba64a5da8776712d649fc4e",
      "93b7be412ced4982a8d7901c40e8c64d",
      "31e4423718424bc2bbca5ac1a9051b08",
      "2b12a038d1864df79f83d85db191cfbb"
     ]
    },
    "execution": {
     "iopub.execute_input": "2025-02-23T08:00:27.277095Z",
     "iopub.status.busy": "2025-02-23T08:00:27.274958Z",
     "iopub.status.idle": "2025-02-23T08:00:33.236400Z",
     "shell.execute_reply": "2025-02-23T08:00:33.236400Z",
     "shell.execute_reply.started": "2025-02-23T08:00:27.277095Z"
    },
    "id": "qHLNWOfJqSfc",
    "outputId": "14e2b6e7-c1e6-48f9-f97a-bff172f80d3e"
   },
   "outputs": [],
   "source": [
    "# Загрузим датасет\n",
    "dataset = datasets.load_dataset('ag_news')"
   ]
  },
  {
   "cell_type": "markdown",
   "metadata": {
    "id": "gYG67ZJj4hZS"
   },
   "source": [
    "Как и в семинаре, выполним следующие шаги:\n",
    "* Составим словарь\n",
    "* Создадим класс WordDataset\n",
    "* Выделим обучающую и тестовую часть, создадим DataLoader-ы."
   ]
  },
  {
   "cell_type": "code",
   "execution_count": 7,
   "metadata": {
    "colab": {
     "base_uri": "https://localhost:8080/",
     "height": 66,
     "referenced_widgets": [
      "45b415cc22e64cbc9376f7bf8601f09b",
      "eee83e0a1bd14d00af3159061f96a553",
      "bd82244ccbd842539464a9168a897f1c",
      "94b4879a5a644dbeaa3ec1e5af2b1744",
      "fb542b520c1a42f4b621f95a4e90d644",
      "87447d7825574c6f8ab503b1b534d506",
      "56d638bddd534750b06ea6fe6701cb15",
      "7358823ad0d1474cae97638aebeb835f",
      "f53391ef64574c76bd18add79c0fa4bf",
      "6280438c65704c3a9603a2402d18c39a",
      "fe99814191c14edea16dc733737441a5"
     ]
    },
    "execution": {
     "iopub.execute_input": "2025-02-23T08:00:33.237405Z",
     "iopub.status.busy": "2025-02-23T08:00:33.237405Z",
     "iopub.status.idle": "2025-02-23T08:00:43.558330Z",
     "shell.execute_reply": "2025-02-23T08:00:43.558330Z",
     "shell.execute_reply.started": "2025-02-23T08:00:33.237405Z"
    },
    "id": "nEvCN0Y1w1yH",
    "outputId": "7aaf0b16-1e5a-4b5a-f750-d2a0e93adf04"
   },
   "outputs": [
    {
     "data": {
      "application/vnd.jupyter.widget-view+json": {
       "model_id": "a975e6d0567f4ed2b10aa8365514fa87",
       "version_major": 2,
       "version_minor": 0
      },
      "text/plain": [
       "  0%|          | 0/120000 [00:00<?, ?it/s]"
      ]
     },
     "metadata": {},
     "output_type": "display_data"
    },
    {
     "name": "stdout",
     "output_type": "stream",
     "text": [
      "Число слов после токенизации текста: 102166\n"
     ]
    }
   ],
   "source": [
    "words = Counter()\n",
    "\n",
    "for example in tqdm(dataset['train']['text']):\n",
    "    # Приводим к нижнему регистру и убираем пунктуацию\n",
    "    prccessed_text = example.lower().translate(\n",
    "        str.maketrans('', '', string.punctuation))\n",
    "\n",
    "    for word in word_tokenize(prccessed_text):\n",
    "        words[word] += 1\n",
    "\n",
    "print(f'Число слов после токенизации текста: {len(words)}')"
   ]
  },
  {
   "cell_type": "code",
   "execution_count": 8,
   "metadata": {
    "colab": {
     "base_uri": "https://localhost:8080/",
     "height": 66,
     "referenced_widgets": [
      "45b415cc22e64cbc9376f7bf8601f09b",
      "eee83e0a1bd14d00af3159061f96a553",
      "bd82244ccbd842539464a9168a897f1c",
      "94b4879a5a644dbeaa3ec1e5af2b1744",
      "fb542b520c1a42f4b621f95a4e90d644",
      "87447d7825574c6f8ab503b1b534d506",
      "56d638bddd534750b06ea6fe6701cb15",
      "7358823ad0d1474cae97638aebeb835f",
      "f53391ef64574c76bd18add79c0fa4bf",
      "6280438c65704c3a9603a2402d18c39a",
      "fe99814191c14edea16dc733737441a5"
     ]
    },
    "execution": {
     "iopub.execute_input": "2025-02-23T08:00:43.559394Z",
     "iopub.status.busy": "2025-02-23T08:00:43.559394Z",
     "iopub.status.idle": "2025-02-23T08:00:43.571944Z",
     "shell.execute_reply": "2025-02-23T08:00:43.571944Z",
     "shell.execute_reply.started": "2025-02-23T08:00:43.559394Z"
    },
    "id": "nEvCN0Y1w1yH",
    "outputId": "7aaf0b16-1e5a-4b5a-f750-d2a0e93adf04"
   },
   "outputs": [
    {
     "name": "stdout",
     "output_type": "stream",
     "text": [
      "Размер словаря: 11842\n"
     ]
    }
   ],
   "source": [
    "vocab = set(['<unk>', '<bos>', '<eos>', '<pad>'])\n",
    "counter_threshold = 25\n",
    "\n",
    "for char, cnt in words.items():\n",
    "    if cnt > counter_threshold:\n",
    "        vocab.add(char)\n",
    "\n",
    "print(f'Размер словаря: {len(vocab)}')\n",
    "\n",
    "word2ind = {char: i for i, char in enumerate(vocab)}\n",
    "ind2word = {i: char for char, i in word2ind.items()}"
   ]
  },
  {
   "cell_type": "code",
   "execution_count": 9,
   "metadata": {
    "execution": {
     "iopub.execute_input": "2025-02-23T08:00:43.571944Z",
     "iopub.status.busy": "2025-02-23T08:00:43.571944Z",
     "iopub.status.idle": "2025-02-23T08:00:43.578377Z",
     "shell.execute_reply": "2025-02-23T08:00:43.578377Z",
     "shell.execute_reply.started": "2025-02-23T08:00:43.571944Z"
    },
    "id": "FVzXL17PzC7K"
   },
   "outputs": [],
   "source": [
    "class WordDataset:\n",
    "    def __init__(self, sentences):\n",
    "        self.data = sentences\n",
    "        self.unk_id = word2ind['<unk>']\n",
    "        self.bos_id = word2ind['<bos>']\n",
    "        self.eos_id = word2ind['<eos>']\n",
    "        self.pad_id = word2ind['<pad>']\n",
    "\n",
    "    def __getitem__(self, idx: int) -> List[int]:\n",
    "        processed_text = self.data[idx]['text'].lower().translate(\n",
    "            str.maketrans('', '', string.punctuation))\n",
    "        tokenized_sentence = [self.bos_id]\n",
    "        tokenized_sentence += [\n",
    "            word2ind.get(word, self.unk_id) for word in word_tokenize(processed_text)\n",
    "            ]\n",
    "        tokenized_sentence += [self.eos_id]\n",
    "\n",
    "        train_sample = {\n",
    "            \"text\": tokenized_sentence,\n",
    "            \"label\": self.data[idx]['label']\n",
    "        }\n",
    "\n",
    "        return train_sample\n",
    "\n",
    "    def __len__(self) -> int:\n",
    "        return len(self.data)\n",
    "\n",
    "\n",
    "def collate_fn_with_padding(\n",
    "    input_batch: List[List[int]], pad_id=word2ind['<pad>'], max_len=256) -> torch.Tensor:\n",
    "    seq_lens = [len(x['text']) for x in input_batch]\n",
    "    max_seq_len = min(max(seq_lens), max_len)\n",
    "\n",
    "    new_batch = []\n",
    "    for sequence in input_batch:\n",
    "        sequence['text'] = sequence['text'][:max_seq_len]\n",
    "        for _ in range(max_seq_len - len(sequence['text'])):\n",
    "            sequence['text'].append(pad_id)\n",
    "\n",
    "        new_batch.append(sequence['text'])\n",
    "\n",
    "    sequences = torch.LongTensor(new_batch).to(device)\n",
    "    labels = torch.LongTensor([x['label'] for x in input_batch]).to(device)\n",
    "\n",
    "    new_batch = {\n",
    "        'input_ids': sequences,\n",
    "        'label': labels\n",
    "    }\n",
    "\n",
    "    return new_batch"
   ]
  },
  {
   "cell_type": "code",
   "execution_count": 10,
   "metadata": {
    "execution": {
     "iopub.execute_input": "2025-02-23T08:00:43.579171Z",
     "iopub.status.busy": "2025-02-23T08:00:43.579171Z",
     "iopub.status.idle": "2025-02-23T08:00:43.586856Z",
     "shell.execute_reply": "2025-02-23T08:00:43.586856Z",
     "shell.execute_reply.started": "2025-02-23T08:00:43.579171Z"
    },
    "id": "6xmeK9Ys1BIG"
   },
   "outputs": [],
   "source": [
    "train_dataset = WordDataset(dataset['train'])\n",
    "\n",
    "np.random.seed(42)\n",
    "idx = np.random.choice(np.arange(len(dataset['test'])), 5000)\n",
    "eval_dataset = WordDataset(dataset['test'].select(idx))\n",
    "\n",
    "batch_size = 32\n",
    "train_dataloader = DataLoader(\n",
    "    train_dataset, shuffle=True, collate_fn=collate_fn_with_padding, batch_size=batch_size)\n",
    "\n",
    "eval_dataloader = DataLoader(\n",
    "    eval_dataset, shuffle=False, collate_fn=collate_fn_with_padding, batch_size=batch_size)"
   ]
  },
  {
   "cell_type": "code",
   "execution_count": 11,
   "metadata": {
    "execution": {
     "iopub.execute_input": "2025-02-23T08:00:43.586856Z",
     "iopub.status.busy": "2025-02-23T08:00:43.586856Z",
     "iopub.status.idle": "2025-02-23T08:00:43.706515Z",
     "shell.execute_reply": "2025-02-23T08:00:43.706515Z",
     "shell.execute_reply.started": "2025-02-23T08:00:43.586856Z"
    }
   },
   "outputs": [
    {
     "name": "stdout",
     "output_type": "stream",
     "text": [
      "Батч тренировочных данных:\n",
      "{'input_ids': tensor([[ 4900,  2480,  2309,  ...,  4376,  4376,  4376],\n",
      "        [ 4900,   336,  8673,  ...,  4376,  4376,  4376],\n",
      "        [ 4900,  1710,  5990,  ...,  4376,  4376,  4376],\n",
      "        ...,\n",
      "        [ 4900, 10938, 11403,  ...,  4376,  4376,  4376],\n",
      "        [ 4900,  9475,  5132,  ...,  4376,  4376,  4376],\n",
      "        [ 4900,  5147,  7539,  ..., 11837, 11059,    25]], device='cuda:0'), 'label': tensor([0, 3, 0, 1, 1, 1, 2, 1, 1, 3, 1, 1, 1, 3, 0, 0, 0, 3, 3, 3, 1, 3, 0, 3,\n",
      "        2, 2, 2, 1, 2, 0, 0, 3], device='cuda:0')}\n",
      "\n",
      "Батч валидационных данных:\n",
      "{'input_ids': tensor([[ 4900, 10272,  1122,  ...,  4376,  4376,  4376],\n",
      "        [ 4900,  8210, 11646,  ...,  4376,  4376,  4376],\n",
      "        [ 4900,  7918,  4050,  ...,  4376,  4376,  4376],\n",
      "        ...,\n",
      "        [ 4900,  8290,  6698,  ...,  4376,  4376,  4376],\n",
      "        [ 4900, 10272,  3223,  ...,  4376,  4376,  4376],\n",
      "        [ 4900,  5267,  3410,  ...,  4376,  4376,  4376]], device='cuda:0'), 'label': tensor([3, 0, 3, 1, 0, 1, 1, 1, 2, 2, 1, 0, 0, 3, 0, 2, 3, 0, 0, 0, 1, 2, 3, 2,\n",
      "        0, 1, 3, 2, 0, 1, 3, 1], device='cuda:0')}\n"
     ]
    }
   ],
   "source": [
    "print('Батч тренировочных данных:', next(iter(train_dataloader)), sep = '\\n', end = '\\n')\n",
    "print()\n",
    "print('Батч валидационных данных:', next(iter(eval_dataloader)), sep = '\\n')"
   ]
  },
  {
   "cell_type": "markdown",
   "metadata": {
    "id": "w7LHfh3u5Bie"
   },
   "source": [
    "## Постановка задачи\n",
    "Ваша задача -- получить максимальное возможное accuracy на `eval_dataloader`. Ниже приведена функция, которую вам необходимо запустить для обученной модели, чтобы вычислить качество её работы."
   ]
  },
  {
   "cell_type": "code",
   "execution_count": 12,
   "metadata": {
    "execution": {
     "iopub.execute_input": "2025-02-23T08:00:43.706515Z",
     "iopub.status.busy": "2025-02-23T08:00:43.706515Z",
     "iopub.status.idle": "2025-02-23T08:00:43.710997Z",
     "shell.execute_reply": "2025-02-23T08:00:43.710997Z",
     "shell.execute_reply.started": "2025-02-23T08:00:43.706515Z"
    },
    "id": "JDZw4Sehn4NE"
   },
   "outputs": [],
   "source": [
    "def evaluate(model, eval_dataloader) -> float:\n",
    "    \"\"\"\n",
    "    Calculate accuracy on validation dataloader.\n",
    "    \"\"\"\n",
    "\n",
    "    predictions = []\n",
    "    target = []\n",
    "    with torch.no_grad():\n",
    "        for batch in eval_dataloader:\n",
    "            logits = model(batch['input_ids'])\n",
    "            predictions.append(logits.argmax(dim=1))\n",
    "            target.append(batch['label'])\n",
    "\n",
    "    predictions = torch.cat(predictions)\n",
    "    target = torch.cat(target)\n",
    "    accuracy = (predictions == target).float().mean().item()\n",
    "\n",
    "    return accuracy"
   ]
  },
  {
   "cell_type": "markdown",
   "metadata": {
    "id": "SMAexY7Y45E4"
   },
   "source": [
    "## Ход работы\n",
    "Оценка за домашнее задание складывается из четырех частей:\n",
    "### Запуск базовой модели с семинара на новом датасете (1 балл)\n",
    "На семинаре мы создали модель, которая дает на нашей задаче довольно высокое качество. Ваша цель --- обучить ее и вычислить `score`, который затем можно будет использовать в качестве бейзлайна.\n",
    "\n",
    "В модели появится одно важное изменение: количество классов теперь равно не 2, а 4. Обратите на это внимание и найдите, что в коде создания модели нужно модифицировать, чтобы учесть это различие."
   ]
  },
  {
   "cell_type": "markdown",
   "metadata": {},
   "source": [
    "#### Базовая модель"
   ]
  },
  {
   "cell_type": "code",
   "execution_count": 13,
   "metadata": {
    "execution": {
     "iopub.execute_input": "2025-02-23T08:00:43.710997Z",
     "iopub.status.busy": "2025-02-23T08:00:43.710997Z",
     "iopub.status.idle": "2025-02-23T08:00:43.716686Z",
     "shell.execute_reply": "2025-02-23T08:00:43.716686Z",
     "shell.execute_reply.started": "2025-02-23T08:00:43.710997Z"
    }
   },
   "outputs": [],
   "source": [
    "# Реализация базовой модели RNN\n",
    "\n",
    "class BaseRNN(nn.Module):\n",
    "    def __init__(\n",
    "        self, hidden_dim: int, vocab_size: int, padding_idx: Optional[int] = None, num_classes: int = 4,\n",
    "        aggregation_type: str = 'max'\n",
    "        ):\n",
    "        super().__init__()\n",
    "        \n",
    "        self.embedding_layer = nn.Embedding(vocab_size, hidden_dim, padding_idx)\n",
    "        self.rnn = nn.RNN(hidden_dim, hidden_dim, batch_first = True)\n",
    "        self.linear = nn.Linear(hidden_dim, hidden_dim)\n",
    "        self.projection = nn.Linear(hidden_dim, num_classes)\n",
    "    \n",
    "        self.non_lin = nn.Tanh()\n",
    "        self.dropout = nn.Dropout(p=0.1)\n",
    "        self.aggregation_type = aggregation_type\n",
    "\n",
    "    def forward(self, input_batch) -> torch.Tensor:\n",
    "        embeddings = self.embedding_layer(input_batch)  # [batch_size, seq_len, hidden_dim] - размер входных данных\n",
    "        output, _ = self.rnn(embeddings)  # [batch_size, seq_len, hidden_dim] - скрытое состояние не обрабатывается\n",
    "\n",
    "        if self.aggregation_type == 'max':\n",
    "            output = output.max(dim=1)[0] #[batch_size, hidden_dim]\n",
    "        elif self.aggregation_type == 'mean':\n",
    "            output = output.mean(dim=1) #[batch_size, hidden_dim]\n",
    "        else:\n",
    "            raise ValueError(\"Invalid aggregation_type\")\n",
    "\n",
    "        output = self.dropout(self.linear(self.non_lin(output)))  # [batch_size, hidden_dim]\n",
    "        prediction = self.projection(self.non_lin(output))  # [batch_size, num_classes]\n",
    "\n",
    "        return prediction"
   ]
  },
  {
   "cell_type": "code",
   "execution_count": 14,
   "metadata": {
    "execution": {
     "iopub.execute_input": "2025-02-23T08:00:43.716686Z",
     "iopub.status.busy": "2025-02-23T08:00:43.716686Z",
     "iopub.status.idle": "2025-02-23T08:06:36.772216Z",
     "shell.execute_reply": "2025-02-23T08:06:36.772216Z",
     "shell.execute_reply.started": "2025-02-23T08:00:43.716686Z"
    }
   },
   "outputs": [
    {
     "name": "stdout",
     "output_type": "stream",
     "text": [
      "Starting training for max\n"
     ]
    },
    {
     "data": {
      "application/vnd.jupyter.widget-view+json": {
       "model_id": "beebcaa8bd7446238ea49ce280086165",
       "version_major": 2,
       "version_minor": 0
      },
      "text/plain": [
       "Training epoch 0::   0%|          | 0/3750 [00:00<?, ?it/s]"
      ]
     },
     "metadata": {},
     "output_type": "display_data"
    },
    {
     "data": {
      "application/vnd.jupyter.widget-view+json": {
       "model_id": "7295ffae17f64704b6bf0bcac98bdeaf",
       "version_major": 2,
       "version_minor": 0
      },
      "text/plain": [
       "Training epoch 1::   0%|          | 0/3750 [00:00<?, ?it/s]"
      ]
     },
     "metadata": {},
     "output_type": "display_data"
    },
    {
     "data": {
      "application/vnd.jupyter.widget-view+json": {
       "model_id": "31951d58439745b59661a443c20eb7ab",
       "version_major": 2,
       "version_minor": 0
      },
      "text/plain": [
       "Training epoch 2::   0%|          | 0/3750 [00:00<?, ?it/s]"
      ]
     },
     "metadata": {},
     "output_type": "display_data"
    },
    {
     "data": {
      "application/vnd.jupyter.widget-view+json": {
       "model_id": "7cabcc504df04125bde0b8114ce1b603",
       "version_major": 2,
       "version_minor": 0
      },
      "text/plain": [
       "Training epoch 3::   0%|          | 0/3750 [00:00<?, ?it/s]"
      ]
     },
     "metadata": {},
     "output_type": "display_data"
    },
    {
     "data": {
      "application/vnd.jupyter.widget-view+json": {
       "model_id": "3536edebec9743abb58dad59202df717",
       "version_major": 2,
       "version_minor": 0
      },
      "text/plain": [
       "Training epoch 4::   0%|          | 0/3750 [00:00<?, ?it/s]"
      ]
     },
     "metadata": {},
     "output_type": "display_data"
    },
    {
     "name": "stdout",
     "output_type": "stream",
     "text": [
      "Лучшая accuracy для подхода max: 90.32\n",
      "Starting training for mean\n"
     ]
    },
    {
     "data": {
      "application/vnd.jupyter.widget-view+json": {
       "model_id": "5f393b544d76409b801e8fada2beee23",
       "version_major": 2,
       "version_minor": 0
      },
      "text/plain": [
       "Training epoch 0::   0%|          | 0/3750 [00:00<?, ?it/s]"
      ]
     },
     "metadata": {},
     "output_type": "display_data"
    },
    {
     "data": {
      "application/vnd.jupyter.widget-view+json": {
       "model_id": "c6f3a2633bde4b30878daac983755d0f",
       "version_major": 2,
       "version_minor": 0
      },
      "text/plain": [
       "Training epoch 1::   0%|          | 0/3750 [00:00<?, ?it/s]"
      ]
     },
     "metadata": {},
     "output_type": "display_data"
    },
    {
     "data": {
      "application/vnd.jupyter.widget-view+json": {
       "model_id": "ffc47186076640dcb4fb7909ef3fca35",
       "version_major": 2,
       "version_minor": 0
      },
      "text/plain": [
       "Training epoch 2::   0%|          | 0/3750 [00:00<?, ?it/s]"
      ]
     },
     "metadata": {},
     "output_type": "display_data"
    },
    {
     "data": {
      "application/vnd.jupyter.widget-view+json": {
       "model_id": "00669d7c099b427bb35df0737b7c5306",
       "version_major": 2,
       "version_minor": 0
      },
      "text/plain": [
       "Training epoch 3::   0%|          | 0/3750 [00:00<?, ?it/s]"
      ]
     },
     "metadata": {},
     "output_type": "display_data"
    },
    {
     "data": {
      "application/vnd.jupyter.widget-view+json": {
       "model_id": "d770315b74654f7eb6d3ecd7f939a48b",
       "version_major": 2,
       "version_minor": 0
      },
      "text/plain": [
       "Training epoch 4::   0%|          | 0/3750 [00:00<?, ?it/s]"
      ]
     },
     "metadata": {},
     "output_type": "display_data"
    },
    {
     "name": "stdout",
     "output_type": "stream",
     "text": [
      "Лучшая accuracy для подхода mean: 91.06\n"
     ]
    }
   ],
   "source": [
    "num_epoch = 5\n",
    "eval_steps = len(train_dataloader) // 2\n",
    "\n",
    "losses_type = {}\n",
    "acc_type = {}\n",
    "\n",
    "for aggregation_type in ['max', 'mean']:\n",
    "    print(f\"Starting training for {aggregation_type}\")\n",
    "    losses = []\n",
    "    acc = []\n",
    "\n",
    "    model = BaseRNN(\n",
    "        hidden_dim=256, vocab_size=len(vocab), padding_idx = word2ind.get('<pad>'), \n",
    "        aggregation_type=aggregation_type).to(device)\n",
    "    criterion = nn.CrossEntropyLoss(ignore_index=word2ind['<pad>'])\n",
    "    optimizer = torch.optim.Adam(model.parameters())\n",
    "\n",
    "    for epoch in range(num_epoch):\n",
    "        epoch_losses = []\n",
    "        model.train()\n",
    "        \n",
    "        for i, batch in enumerate(tqdm(train_dataloader, desc=f'Training epoch {epoch}:')):\n",
    "            optimizer.zero_grad()\n",
    "            logits = model(batch['input_ids'])\n",
    "            loss = criterion(logits, batch['label'])\n",
    "            loss.backward()\n",
    "            optimizer.step()\n",
    "\n",
    "            epoch_losses.append(loss.item())\n",
    "            if i % eval_steps == 0:\n",
    "                model.eval()\n",
    "                acc.append(evaluate(model, eval_dataloader))\n",
    "                model.train()\n",
    "\n",
    "        losses.append(sum(epoch_losses) / len(epoch_losses))\n",
    "    \n",
    "    losses_type[aggregation_type] = losses\n",
    "    acc_type[aggregation_type] = acc\n",
    "    print(f\"Лучшая accuracy для подхода {aggregation_type}: {(max(acc_type[aggregation_type]) * 100):.2f}\")"
   ]
  },
  {
   "cell_type": "code",
   "execution_count": 15,
   "metadata": {
    "execution": {
     "iopub.execute_input": "2025-02-23T08:06:36.774023Z",
     "iopub.status.busy": "2025-02-23T08:06:36.774023Z",
     "iopub.status.idle": "2025-02-23T08:06:36.918515Z",
     "shell.execute_reply": "2025-02-23T08:06:36.918515Z",
     "shell.execute_reply.started": "2025-02-23T08:06:36.774023Z"
    }
   },
   "outputs": [
    {
     "data": {
      "image/png": "[encoded data removed]",
      "text/plain": [
       "<Figure size 640x480 with 1 Axes>"
      ]
     },
     "metadata": {},
     "output_type": "display_data"
    }
   ],
   "source": [
    "for (name, values), color in zip(losses_type.items(), ['red', 'blue']):\n",
    "    plt.plot(np.arange(len(losses_type[name])), losses_type[name], color=color, label=name)\n",
    "\n",
    "plt.title('Losses')\n",
    "plt.xlabel(\"epoch\")\n",
    "plt.legend()\n",
    "plt.show()"
   ]
  },
  {
   "cell_type": "code",
   "execution_count": 16,
   "metadata": {
    "execution": {
     "iopub.execute_input": "2025-02-23T08:06:36.918515Z",
     "iopub.status.busy": "2025-02-23T08:06:36.918515Z",
     "iopub.status.idle": "2025-02-23T08:06:36.992671Z",
     "shell.execute_reply": "2025-02-23T08:06:36.992671Z",
     "shell.execute_reply.started": "2025-02-23T08:06:36.918515Z"
    }
   },
   "outputs": [
    {
     "name": "stdout",
     "output_type": "stream",
     "text": [
      "Лучшая accuracy для подхода max: 90.32\n",
      "Лучшая accuracy для подхода mean: 91.06\n"
     ]
    },
    {
     "data": {
      "image/png": "[encoded data removed]",
      "text/plain": [
       "<Figure size 640x480 with 1 Axes>"
      ]
     },
     "metadata": {},
     "output_type": "display_data"
    }
   ],
   "source": [
    "for (name, values), color in zip(losses_type.items(), ['red', 'blue']):\n",
    "    plt.plot(np.arange(len(acc_type[name][1:])), acc_type[name][1:], color=color, label=name)\n",
    "    print(f\"Лучшая accuracy для подхода {name}: {(max(acc_type[name]) * 100):.2f}\")\n",
    "\n",
    "plt.title('Accuracy')\n",
    "plt.xlabel(\"epoch\")\n",
    "plt.legend()\n",
    "plt.show()"
   ]
  },
  {
   "cell_type": "markdown",
   "metadata": {},
   "source": [
    "*Вывод:* Использование версии *RNN* с семинара позволило добиться целевой метрики `accuracy` равной 90.96 с учётом агрегации данных по **среднему**. По графикам изменения `Loss`, `Accuracy` можно наблюдать, что снижение величины функции потерь при небольшом итераций сопровождается нестабильным ростом целевой метрики `accuracy`, что может указывать на проблемы с обновлением весов из-за необходимости расчёта градиентов по всей входной последовательности."
   ]
  },
  {
   "cell_type": "markdown",
   "metadata": {
    "id": "SMAexY7Y45E4"
   },
   "source": [
    "### Проведение экспериментов по улучшению модели (2 балла за каждый эксперимент)\n",
    "Чтобы улучшить качество базовой модели, можно попробовать различные идеи экспериментов. Каждый выполненный эксперимент будет оцениваться в 2 балла. Для получения полного балла за этот пункт вам необходимо выполнить по крайней мере 2 эксперимента. Не расстраивайтесь, если какой-то эксперимент не дал вам прироста к качеству: он все равно зачтется, если выполнен корректно.\n",
    "\n",
    "Вот несколько идей экспериментов:\n",
    "* **Модель RNN**. Попробуйте другие нейросетевые модели --- LSTM и GRU. Мы советуем обратить внимание на [GRU](https://pytorch.org/docs/stable/generated/torch.nn.GRU.html), так как интерфейс этого класса ничем не отличается от обычной Vanilla RNN, которую мы использовали на семинаре.\n",
    "* **Увеличение количества рекуррентных слоев модели**. Это можно сделать с помощью параметра `num_layers` в классе `nn.RNN`. В такой модели выходы первой RNN передаются в качестве входов второй RNN и так далее.\n",
    "* **Изменение архитектуры после применения RNN**. В базовой модели используется агрегация со всех эмбеддингов. Возможно, вы захотите конкатенировать результат агрегации и эмбеддинг с последнего токена.\n",
    "* **Подбор гиперпараметров и обучение до сходимости**. Возможно, для получения более высокого качества просто необходимо увеличить количество эпох обучения нейросети, а также попробовать различные гиперпараметры: размер словаря, `dropout_rate`, `hidden_dim`.\n",
    "\n",
    "Обратите внимание, что главное правило проведения экспериментов --- необходимо совершать одно архитектурное изменение в одном эксперименте. Если вы совершите несколько изменений, то будет неясно, какое именно из изменений дало прирост к качеству."
   ]
  },
  {
   "cell_type": "markdown",
   "metadata": {},
   "source": [
    "#### Экспериментальная модель №1\n",
    "\n",
    "В представленной базовой версии алгоритма предложена операция пулинга `self.aggregation` после обработки последовательности рекуррентным слоем, т.е. экстракция информации, путём применения агрегаций типа: `max`, `mean`, чтобы агрегировать информацию со всех компонент каждого из векторов отдельных последовательностей.\n",
    "\n",
    "В эксперименте №1 предлагается использовать процесс конкатенации векторов скрытого состояния `h_t`, соответствующих каждому из последних элементов каждой последовательности батча, и векторов, полученных путём использования операции пулинга для каждого элемента батча. Для обеспечения работы нейросети с *расширенными векторами*, предполагается использовать дополнительный слой `self.linear_ext`, для обеспечения его работы предусматривается увеличение количества его входных нейронов: `2 * hidden_dim`."
   ]
  },
  {
   "cell_type": "code",
   "execution_count": 17,
   "metadata": {
    "execution": {
     "iopub.execute_input": "2025-02-23T08:06:36.992671Z",
     "iopub.status.busy": "2025-02-23T08:06:36.992671Z",
     "iopub.status.idle": "2025-02-23T08:06:36.998802Z",
     "shell.execute_reply": "2025-02-23T08:06:36.998296Z",
     "shell.execute_reply.started": "2025-02-23T08:06:36.992671Z"
    }
   },
   "outputs": [],
   "source": [
    "# Реализация первой экспериментальной модели RNN\n",
    "\n",
    "class ResRNN(nn.Module):\n",
    "    def __init__(\n",
    "        self, hidden_dim: int, vocab_size: int, padding_idx: Optional[int] = None, num_classes: int = 4,\n",
    "        aggregation_type: str = 'max'\n",
    "        ):\n",
    "        super().__init__()\n",
    "        \n",
    "        self.embedding_layer = nn.Embedding(vocab_size, hidden_dim, padding_idx)\n",
    "        self.rnn = nn.RNN(hidden_dim, hidden_dim, num_layers = 1, batch_first = True)\n",
    "        self.linear = nn.Linear(hidden_dim, hidden_dim)\n",
    "        self.linear_ext = nn.Linear(2 * hidden_dim, hidden_dim)\n",
    "        self.projection = nn.Linear(hidden_dim, num_classes)\n",
    "        self.non_lin = nn.Tanh()\n",
    "        self.dropout = nn.Dropout(p=0.1)\n",
    "        self.aggregation_type = aggregation_type\n",
    "\n",
    "    def forward(self, input_batch) -> torch.Tensor:\n",
    "        embeddings = self.embedding_layer(input_batch)  # [batch_size, seq_len, hidden_dim] - размер входных данных\n",
    "        output, h_t = self.rnn(embeddings)  # [batch_size, seq_len, hidden_dim], [batch_size, hidden_dim] \n",
    "        \n",
    "        if self.aggregation_type == 'max':\n",
    "            output = output.max(dim=1)[0] #[batch_size, hidden_dim]\n",
    "        elif self.aggregation_type == 'mean':\n",
    "            output = output.mean(dim=1) #[batch_size, hidden_dim]\n",
    "        else:\n",
    "            raise ValueError(\"Invalid aggregation_type\")\n",
    "\n",
    "        output = self.dropout(self.linear_ext(self.non_lin(torch.cat((output, h_t[0]), dim = 1)))) # [batch_size, hidden_dim]\n",
    "        prediction = self.projection(self.non_lin(output))  # [batch_size, num_classes]\n",
    "\n",
    "        return prediction"
   ]
  },
  {
   "cell_type": "code",
   "execution_count": 18,
   "metadata": {
    "execution": {
     "iopub.execute_input": "2025-02-23T08:06:36.998802Z",
     "iopub.status.busy": "2025-02-23T08:06:36.998802Z",
     "iopub.status.idle": "2025-02-23T08:12:28.678571Z",
     "shell.execute_reply": "2025-02-23T08:12:28.678571Z",
     "shell.execute_reply.started": "2025-02-23T08:06:36.998802Z"
    }
   },
   "outputs": [
    {
     "name": "stdout",
     "output_type": "stream",
     "text": [
      "Starting training for max\n"
     ]
    },
    {
     "data": {
      "application/vnd.jupyter.widget-view+json": {
       "model_id": "4e472c101e844757ad5df260fc934b03",
       "version_major": 2,
       "version_minor": 0
      },
      "text/plain": [
       "Training epoch 0::   0%|          | 0/3750 [00:00<?, ?it/s]"
      ]
     },
     "metadata": {},
     "output_type": "display_data"
    },
    {
     "data": {
      "application/vnd.jupyter.widget-view+json": {
       "model_id": "c14517491e44430eb0ed097f48fcf76f",
       "version_major": 2,
       "version_minor": 0
      },
      "text/plain": [
       "Training epoch 1::   0%|          | 0/3750 [00:00<?, ?it/s]"
      ]
     },
     "metadata": {},
     "output_type": "display_data"
    },
    {
     "data": {
      "application/vnd.jupyter.widget-view+json": {
       "model_id": "9eec2e82363e4e9da26af005f0ec75d2",
       "version_major": 2,
       "version_minor": 0
      },
      "text/plain": [
       "Training epoch 2::   0%|          | 0/3750 [00:00<?, ?it/s]"
      ]
     },
     "metadata": {},
     "output_type": "display_data"
    },
    {
     "data": {
      "application/vnd.jupyter.widget-view+json": {
       "model_id": "1b0ce6b5b6ce4dca8130cc6eead76b57",
       "version_major": 2,
       "version_minor": 0
      },
      "text/plain": [
       "Training epoch 3::   0%|          | 0/3750 [00:00<?, ?it/s]"
      ]
     },
     "metadata": {},
     "output_type": "display_data"
    },
    {
     "data": {
      "application/vnd.jupyter.widget-view+json": {
       "model_id": "77a23d1adcb947ff8c73f41a72cb4127",
       "version_major": 2,
       "version_minor": 0
      },
      "text/plain": [
       "Training epoch 4::   0%|          | 0/3750 [00:00<?, ?it/s]"
      ]
     },
     "metadata": {},
     "output_type": "display_data"
    },
    {
     "name": "stdout",
     "output_type": "stream",
     "text": [
      "Лучшая accuracy для подхода max: 90.840\n",
      "Starting training for mean\n"
     ]
    },
    {
     "data": {
      "application/vnd.jupyter.widget-view+json": {
       "model_id": "3d21502178bd41f295e489478a4aa2a5",
       "version_major": 2,
       "version_minor": 0
      },
      "text/plain": [
       "Training epoch 0::   0%|          | 0/3750 [00:00<?, ?it/s]"
      ]
     },
     "metadata": {},
     "output_type": "display_data"
    },
    {
     "data": {
      "application/vnd.jupyter.widget-view+json": {
       "model_id": "b80750a040bc43fb97cb3e4d91bc8809",
       "version_major": 2,
       "version_minor": 0
      },
      "text/plain": [
       "Training epoch 1::   0%|          | 0/3750 [00:00<?, ?it/s]"
      ]
     },
     "metadata": {},
     "output_type": "display_data"
    },
    {
     "data": {
      "application/vnd.jupyter.widget-view+json": {
       "model_id": "6b5d3baabf534d2083bb7e9834baed7e",
       "version_major": 2,
       "version_minor": 0
      },
      "text/plain": [
       "Training epoch 2::   0%|          | 0/3750 [00:00<?, ?it/s]"
      ]
     },
     "metadata": {},
     "output_type": "display_data"
    },
    {
     "data": {
      "application/vnd.jupyter.widget-view+json": {
       "model_id": "886f7c69c23443bb9022beced1b0c01c",
       "version_major": 2,
       "version_minor": 0
      },
      "text/plain": [
       "Training epoch 3::   0%|          | 0/3750 [00:00<?, ?it/s]"
      ]
     },
     "metadata": {},
     "output_type": "display_data"
    },
    {
     "data": {
      "application/vnd.jupyter.widget-view+json": {
       "model_id": "bafd62b40a72453d9a1d25df72b4c70b",
       "version_major": 2,
       "version_minor": 0
      },
      "text/plain": [
       "Training epoch 4::   0%|          | 0/3750 [00:00<?, ?it/s]"
      ]
     },
     "metadata": {},
     "output_type": "display_data"
    },
    {
     "name": "stdout",
     "output_type": "stream",
     "text": [
      "Лучшая accuracy для подхода mean: 90.620\n"
     ]
    }
   ],
   "source": [
    "num_epoch = 5\n",
    "eval_steps = len(train_dataloader) // 2\n",
    "\n",
    "losses_type = {}\n",
    "acc_type = {}\n",
    "base_models_res = {}\n",
    "\n",
    "resulting_accuracy = 0\n",
    "\n",
    "for aggregation_type in ['max', 'mean']:\n",
    "    print(f\"Starting training for {aggregation_type}\")\n",
    "    losses = []\n",
    "    acc = []\n",
    "\n",
    "    model_res = ResRNN(\n",
    "        hidden_dim=256, vocab_size=len(vocab), padding_idx = word2ind.get('<pad>'), \n",
    "        aggregation_type=aggregation_type).to(device)\n",
    "    criterion = nn.CrossEntropyLoss(ignore_index=word2ind['<pad>'])\n",
    "    optimizer = torch.optim.Adam(model_res.parameters())\n",
    "\n",
    "    for epoch in range(num_epoch):\n",
    "        epoch_losses = []\n",
    "        model_res.train()\n",
    "        \n",
    "        for i, batch in enumerate(tqdm(train_dataloader, desc=f'Training epoch {epoch}:')):\n",
    "            optimizer.zero_grad()\n",
    "            logits = model_res(batch['input_ids'])\n",
    "            loss = criterion(logits, batch['label'])\n",
    "            loss.backward()\n",
    "            optimizer.step()\n",
    "\n",
    "            epoch_losses.append(loss.item())\n",
    "            if i % eval_steps == 0:\n",
    "                model_res.eval()\n",
    "                resulting_accuracy = evaluate(model_res, eval_dataloader)\n",
    "                acc.append(resulting_accuracy)\n",
    "                if resulting_accuracy >= max(acc):\n",
    "                    base_models_res[aggregation_type] = model_res.state_dict() \n",
    "                model_res.train()\n",
    "\n",
    "        losses.append(sum(epoch_losses) / len(epoch_losses))\n",
    "    \n",
    "    losses_type[aggregation_type] = losses\n",
    "    acc_type[aggregation_type] = acc\n",
    "    print(f\"Лучшая accuracy для подхода {aggregation_type}: {(max(acc_type[aggregation_type]) * 100):.3f}\")"
   ]
  },
  {
   "cell_type": "code",
   "execution_count": 19,
   "metadata": {
    "execution": {
     "iopub.execute_input": "2025-02-23T08:12:28.680423Z",
     "iopub.status.busy": "2025-02-23T08:12:28.679582Z",
     "iopub.status.idle": "2025-02-23T08:12:28.750683Z",
     "shell.execute_reply": "2025-02-23T08:12:28.750337Z",
     "shell.execute_reply.started": "2025-02-23T08:12:28.679582Z"
    }
   },
   "outputs": [
    {
     "data": {
      "image/png": "[encoded data removed]",
      "text/plain": [
       "<Figure size 640x480 with 1 Axes>"
      ]
     },
     "metadata": {},
     "output_type": "display_data"
    }
   ],
   "source": [
    "for (name, values), color in zip(losses_type.items(), ['red', 'blue']):\n",
    "    plt.plot(np.arange(len(losses_type[name])), losses_type[name], color=color, label=name)\n",
    "\n",
    "plt.title('Losses - Base improved')\n",
    "plt.xlabel(\"epoch\")\n",
    "plt.legend()\n",
    "plt.show()"
   ]
  },
  {
   "cell_type": "code",
   "execution_count": 20,
   "metadata": {
    "execution": {
     "iopub.execute_input": "2025-02-23T08:12:28.750683Z",
     "iopub.status.busy": "2025-02-23T08:12:28.750683Z",
     "iopub.status.idle": "2025-02-23T08:12:28.824733Z",
     "shell.execute_reply": "2025-02-23T08:12:28.824733Z",
     "shell.execute_reply.started": "2025-02-23T08:12:28.750683Z"
    }
   },
   "outputs": [
    {
     "name": "stdout",
     "output_type": "stream",
     "text": [
      "Лучшая accuracy для подхода max: 90.84\n",
      "Лучшая accuracy для подхода mean: 90.62\n"
     ]
    },
    {
     "data": {
      "image/png": "[encoded data removed]",
      "text/plain": [
       "<Figure size 640x480 with 1 Axes>"
      ]
     },
     "metadata": {},
     "output_type": "display_data"
    }
   ],
   "source": [
    "for (name, values), color in zip(losses_type.items(), ['red', 'blue']):\n",
    "    plt.plot(np.arange(len(acc_type[name][1:])), acc_type[name][1:], color=color, label=name)\n",
    "    print(f\"Лучшая accuracy для подхода {name}: {(max(acc_type[name]) * 100):.2f}\")\n",
    "\n",
    "plt.title('Accuracy - Base improved')\n",
    "plt.xlabel(\"epoch\")\n",
    "plt.legend()\n",
    "plt.show()"
   ]
  },
  {
   "cell_type": "markdown",
   "metadata": {},
   "source": [
    "*Вывод:* использование конкатенации агрегированных эмбеддингов и векторов скрытого состояния позволило увеличить качество прогнозирования в случаях использования пулинга типа `max`, в случаях агрегации путём использования агргегации типа `mean` получилось стабилизировать изменение ключевой метрики `accuracy` на большем числе эпох."
   ]
  },
  {
   "cell_type": "markdown",
   "metadata": {},
   "source": [
    "#### Экспериментальная модель №2\n",
    "\n",
    "Улучшение качества прогнозирования возможно за счёт использования более сложных архитектур типа: `LSTM`, `GRU`. В рамках третьей модели предполагается *использование* рекуррентного слоя типа `GRU`, архитектура исходной модели после рекурретного слоя сохранена. Векторы \"краткосрочной\" и долгосрочной памяти после рекуррентного слоя не используются."
   ]
  },
  {
   "cell_type": "code",
   "execution_count": 21,
   "metadata": {
    "execution": {
     "iopub.execute_input": "2025-02-23T08:12:28.825668Z",
     "iopub.status.busy": "2025-02-23T08:12:28.825668Z",
     "iopub.status.idle": "2025-02-23T08:12:28.830809Z",
     "shell.execute_reply": "2025-02-23T08:12:28.830809Z",
     "shell.execute_reply.started": "2025-02-23T08:12:28.825668Z"
    }
   },
   "outputs": [],
   "source": [
    "# Реализация второй экспериментальной модели RNN\n",
    "\n",
    "class GRU(nn.Module):\n",
    "    def __init__(\n",
    "        self, hidden_dim: int, vocab_size: int, padding_idx: Optional[int] = None, num_classes: int = 4,\n",
    "        aggregation_type: str = 'max'\n",
    "        ):\n",
    "        super().__init__()\n",
    "        \n",
    "        self.embedding_layer = nn.Embedding(vocab_size, hidden_dim, padding_idx)\n",
    "        self.gru = nn.GRU(hidden_dim, hidden_dim, batch_first = True)\n",
    "        self.linear = nn.Linear(hidden_dim, hidden_dim)\n",
    "        self.projection = nn.Linear(hidden_dim, num_classes)\n",
    "        self.non_lin = nn.Tanh()\n",
    "        self.dropout = nn.Dropout(p=0.1)\n",
    "        \n",
    "        self.aggregation_type = aggregation_type\n",
    "\n",
    "    def forward(self, input_batch) -> torch.Tensor:\n",
    "        embeddings = self.embedding_layer(input_batch)  # [batch_size, seq_len, hidden_dim] - размер входных данных\n",
    "        output, _ = self.gru(embeddings)  # [batch_size, seq_len, hidden_dim], [batch_size, hidden_dim] \n",
    "        \n",
    "        if self.aggregation_type == 'max':\n",
    "            output = output.max(dim=1)[0] #[batch_size, hidden_dim]\n",
    "        elif self.aggregation_type == 'mean':\n",
    "            output = output.mean(dim=1) #[batch_size, hidden_dim]\n",
    "        else:\n",
    "            raise ValueError(\"Invalid aggregation_type\")\n",
    "\n",
    "        output = self.dropout(self.linear(self.non_lin(output))) # [batch_size, hidden_dim]\n",
    "        prediction = self.projection(self.non_lin(output))  # [batch_size, num_classes]\n",
    "\n",
    "        return prediction"
   ]
  },
  {
   "cell_type": "code",
   "execution_count": 22,
   "metadata": {
    "execution": {
     "iopub.execute_input": "2025-02-23T08:12:28.830809Z",
     "iopub.status.busy": "2025-02-23T08:12:28.830809Z",
     "iopub.status.idle": "2025-02-23T08:20:03.472060Z",
     "shell.execute_reply": "2025-02-23T08:20:03.472060Z",
     "shell.execute_reply.started": "2025-02-23T08:12:28.830809Z"
    }
   },
   "outputs": [
    {
     "name": "stdout",
     "output_type": "stream",
     "text": [
      "Starting training for max\n"
     ]
    },
    {
     "data": {
      "application/vnd.jupyter.widget-view+json": {
       "model_id": "6a7dc73f6e4e4ad6941b1ab1b187290e",
       "version_major": 2,
       "version_minor": 0
      },
      "text/plain": [
       "Training epoch 0::   0%|          | 0/3750 [00:00<?, ?it/s]"
      ]
     },
     "metadata": {},
     "output_type": "display_data"
    },
    {
     "data": {
      "application/vnd.jupyter.widget-view+json": {
       "model_id": "ec935bacb41d451cb4e4f34dbe098cd8",
       "version_major": 2,
       "version_minor": 0
      },
      "text/plain": [
       "Training epoch 1::   0%|          | 0/3750 [00:00<?, ?it/s]"
      ]
     },
     "metadata": {},
     "output_type": "display_data"
    },
    {
     "data": {
      "application/vnd.jupyter.widget-view+json": {
       "model_id": "4c8de72f1d5f437289b52286522b4232",
       "version_major": 2,
       "version_minor": 0
      },
      "text/plain": [
       "Training epoch 2::   0%|          | 0/3750 [00:00<?, ?it/s]"
      ]
     },
     "metadata": {},
     "output_type": "display_data"
    },
    {
     "data": {
      "application/vnd.jupyter.widget-view+json": {
       "model_id": "a9e3aca1979948da8e2dc3e6c11dfbab",
       "version_major": 2,
       "version_minor": 0
      },
      "text/plain": [
       "Training epoch 3::   0%|          | 0/3750 [00:00<?, ?it/s]"
      ]
     },
     "metadata": {},
     "output_type": "display_data"
    },
    {
     "data": {
      "application/vnd.jupyter.widget-view+json": {
       "model_id": "cfef85989d514aa58c9717673605f3ad",
       "version_major": 2,
       "version_minor": 0
      },
      "text/plain": [
       "Training epoch 4::   0%|          | 0/3750 [00:00<?, ?it/s]"
      ]
     },
     "metadata": {},
     "output_type": "display_data"
    },
    {
     "name": "stdout",
     "output_type": "stream",
     "text": [
      "Лучшая accuracy для подхода max: 91.840\n",
      "Starting training for mean\n"
     ]
    },
    {
     "data": {
      "application/vnd.jupyter.widget-view+json": {
       "model_id": "211eb24279574d23bd7809aef5550efb",
       "version_major": 2,
       "version_minor": 0
      },
      "text/plain": [
       "Training epoch 0::   0%|          | 0/3750 [00:00<?, ?it/s]"
      ]
     },
     "metadata": {},
     "output_type": "display_data"
    },
    {
     "data": {
      "application/vnd.jupyter.widget-view+json": {
       "model_id": "4d54ffa1ea3745d5b6e4ecff9d2779ab",
       "version_major": 2,
       "version_minor": 0
      },
      "text/plain": [
       "Training epoch 1::   0%|          | 0/3750 [00:00<?, ?it/s]"
      ]
     },
     "metadata": {},
     "output_type": "display_data"
    },
    {
     "data": {
      "application/vnd.jupyter.widget-view+json": {
       "model_id": "413d83bd065b4a6996474e4500be45e7",
       "version_major": 2,
       "version_minor": 0
      },
      "text/plain": [
       "Training epoch 2::   0%|          | 0/3750 [00:00<?, ?it/s]"
      ]
     },
     "metadata": {},
     "output_type": "display_data"
    },
    {
     "data": {
      "application/vnd.jupyter.widget-view+json": {
       "model_id": "76439f6289664a2da4dac9ded95811ec",
       "version_major": 2,
       "version_minor": 0
      },
      "text/plain": [
       "Training epoch 3::   0%|          | 0/3750 [00:00<?, ?it/s]"
      ]
     },
     "metadata": {},
     "output_type": "display_data"
    },
    {
     "data": {
      "application/vnd.jupyter.widget-view+json": {
       "model_id": "e2b7a6698cfd410e82b4888977e8b16f",
       "version_major": 2,
       "version_minor": 0
      },
      "text/plain": [
       "Training epoch 4::   0%|          | 0/3750 [00:00<?, ?it/s]"
      ]
     },
     "metadata": {},
     "output_type": "display_data"
    },
    {
     "name": "stdout",
     "output_type": "stream",
     "text": [
      "Лучшая accuracy для подхода mean: 91.680\n"
     ]
    }
   ],
   "source": [
    "num_epoch = 5\n",
    "eval_steps = len(train_dataloader) // 2\n",
    "\n",
    "losses_type = {}\n",
    "acc_type = {}\n",
    "base_models_gru = {}\n",
    "\n",
    "resulting_accuracy = 0\n",
    "\n",
    "for aggregation_type in ['max', 'mean']:\n",
    "    print(f\"Starting training for {aggregation_type}\")\n",
    "    losses = []\n",
    "    acc = []\n",
    "\n",
    "    model_gru = GRU(\n",
    "        hidden_dim=256, vocab_size=len(vocab), padding_idx = word2ind.get('<pad>'), \n",
    "        aggregation_type=aggregation_type).to(device)\n",
    "    criterion = nn.CrossEntropyLoss(ignore_index=word2ind['<pad>'])\n",
    "    optimizer = torch.optim.Adam(model_gru.parameters())\n",
    "\n",
    "    for epoch in range(num_epoch):\n",
    "        epoch_losses = []\n",
    "        model_gru.train()\n",
    "        \n",
    "        for i, batch in enumerate(tqdm(train_dataloader, desc=f'Training epoch {epoch}:')):\n",
    "            optimizer.zero_grad()\n",
    "            logits = model_gru(batch['input_ids'])\n",
    "            loss = criterion(logits, batch['label'])\n",
    "            loss.backward()\n",
    "            optimizer.step()\n",
    "\n",
    "            epoch_losses.append(loss.item())\n",
    "            if i % eval_steps == 0:\n",
    "                model_gru.eval()\n",
    "                resulting_accuracy = evaluate(model_gru, eval_dataloader)\n",
    "                acc.append(resulting_accuracy)\n",
    "                if resulting_accuracy >= max(acc):\n",
    "                    base_models_gru[aggregation_type] = model_gru.state_dict()             \n",
    "                model_gru.train()\n",
    "\n",
    "        losses.append(sum(epoch_losses) / len(epoch_losses))\n",
    "    \n",
    "    losses_type[aggregation_type] = losses\n",
    "    acc_type[aggregation_type] = acc\n",
    "    print(f\"Лучшая accuracy для подхода {aggregation_type}: {(max(acc_type[aggregation_type]) * 100):.3f}\")"
   ]
  },
  {
   "cell_type": "code",
   "execution_count": 23,
   "metadata": {
    "execution": {
     "iopub.execute_input": "2025-02-23T08:20:03.472060Z",
     "iopub.status.busy": "2025-02-23T08:20:03.472060Z",
     "iopub.status.idle": "2025-02-23T08:20:03.549789Z",
     "shell.execute_reply": "2025-02-23T08:20:03.549789Z",
     "shell.execute_reply.started": "2025-02-23T08:20:03.472060Z"
    }
   },
   "outputs": [
    {
     "data": {
      "image/png": "[encoded data removed]",
      "text/plain": [
       "<Figure size 640x480 with 1 Axes>"
      ]
     },
     "metadata": {},
     "output_type": "display_data"
    }
   ],
   "source": [
    "for (name, values), color in zip(losses_type.items(), ['red', 'blue']):\n",
    "    plt.plot(np.arange(len(losses_type[name])), losses_type[name], color=color, label=name)\n",
    "\n",
    "plt.title('Losses - GRU')\n",
    "plt.xlabel(\"epoch\")\n",
    "plt.legend()\n",
    "plt.show()"
   ]
  },
  {
   "cell_type": "code",
   "execution_count": 24,
   "metadata": {
    "execution": {
     "iopub.execute_input": "2025-02-23T08:20:03.549789Z",
     "iopub.status.busy": "2025-02-23T08:20:03.549789Z",
     "iopub.status.idle": "2025-02-23T08:20:03.617896Z",
     "shell.execute_reply": "2025-02-23T08:20:03.617896Z",
     "shell.execute_reply.started": "2025-02-23T08:20:03.549789Z"
    }
   },
   "outputs": [
    {
     "name": "stdout",
     "output_type": "stream",
     "text": [
      "Лучшая accuracy для подхода max: 91.84\n",
      "Лучшая accuracy для подхода mean: 91.68\n"
     ]
    },
    {
     "data": {
      "image/png": "[encoded data removed]",
      "text/plain": [
       "<Figure size 640x480 with 1 Axes>"
      ]
     },
     "metadata": {},
     "output_type": "display_data"
    }
   ],
   "source": [
    "for (name, values), color in zip(losses_type.items(), ['red', 'blue']):\n",
    "    plt.plot(np.arange(len(acc_type[name][1:])), acc_type[name][1:], color=color, label=name)\n",
    "    print(f\"Лучшая accuracy для подхода {name}: {(max(acc_type[name]) * 100):.2f}\")\n",
    "\n",
    "plt.title('Accuracy - GRU')\n",
    "plt.xlabel(\"epoch\")\n",
    "plt.legend()\n",
    "plt.show()"
   ]
  },
  {
   "cell_type": "markdown",
   "metadata": {},
   "source": [
    "*Вывод:* использование слоёв типа `GRU` позволило получить прирост в качестве прогнозной модели на обоих типах агрегаций. Однако итоговое качество модели не было достаточно стабильным, к концу последней эпохи обучения можно также наблюдать, что целевая метрика на валидационной выборке стала ухудшаться. "
   ]
  },
  {
   "cell_type": "markdown",
   "metadata": {},
   "source": [
    "#### Экспериментальная модель №3\n",
    "\n",
    "Улучшение качества прогнозирования возможно за счёт использования более сложных архитектур типа: `LSTM`, `GRU`. В рамках третьей модели предполагается *использование* рекуррентного слоя типа `LSTM`, архитектура исходной модели после рекурретного слоя сохранена. Векторы \"краткосрочной\" и долгосрочной памяти после рекуррентного слоя не используются."
   ]
  },
  {
   "cell_type": "code",
   "execution_count": 25,
   "metadata": {
    "execution": {
     "iopub.execute_input": "2025-02-23T08:20:03.617896Z",
     "iopub.status.busy": "2025-02-23T08:20:03.617896Z",
     "iopub.status.idle": "2025-02-23T08:20:03.623855Z",
     "shell.execute_reply": "2025-02-23T08:20:03.623855Z",
     "shell.execute_reply.started": "2025-02-23T08:20:03.617896Z"
    }
   },
   "outputs": [],
   "source": [
    "# Реализация второй экспериментальной модели RNN\n",
    "\n",
    "class LSTM(nn.Module):\n",
    "    def __init__(\n",
    "        self, hidden_dim: int, vocab_size: int, padding_idx: Optional[int] = None, num_classes: int = 4,\n",
    "        aggregation_type: str = 'max'\n",
    "        ):\n",
    "        super().__init__()\n",
    "        \n",
    "        self.embedding_layer = nn.Embedding(vocab_size, hidden_dim, padding_idx)\n",
    "        self.lstm = nn.LSTM(hidden_dim, hidden_dim, batch_first = True)\n",
    "        self.linear = nn.Linear(hidden_dim, hidden_dim)\n",
    "        self.projection = nn.Linear(hidden_dim, num_classes)\n",
    "        self.non_lin = nn.Tanh()\n",
    "        self.dropout = nn.Dropout(p=0.1)\n",
    "        \n",
    "        self.aggregation_type = aggregation_type\n",
    "\n",
    "    def forward(self, input_batch) -> torch.Tensor:\n",
    "        embeddings = self.embedding_layer(input_batch)  # [batch_size, seq_len, hidden_dim] - размер входных данных\n",
    "        output, _ = self.lstm(embeddings)  # [batch_size, seq_len, hidden_dim], [batch_size, hidden_dim] \n",
    "        \n",
    "        if self.aggregation_type == 'max':\n",
    "            output = output.max(dim=1)[0] #[batch_size, hidden_dim]\n",
    "        elif self.aggregation_type == 'mean':\n",
    "            output = output.mean(dim=1) #[batch_size, hidden_dim]\n",
    "        else:\n",
    "            raise ValueError(\"Invalid aggregation_type\")\n",
    "\n",
    "        output = self.dropout(self.linear(self.non_lin(output))) # [batch_size, hidden_dim]\n",
    "        prediction = self.projection(self.non_lin(output))  # [batch_size, num_classes]\n",
    "\n",
    "        return prediction"
   ]
  },
  {
   "cell_type": "code",
   "execution_count": 26,
   "metadata": {
    "execution": {
     "iopub.execute_input": "2025-02-23T08:20:03.623855Z",
     "iopub.status.busy": "2025-02-23T08:20:03.623855Z",
     "iopub.status.idle": "2025-02-23T08:27:35.679925Z",
     "shell.execute_reply": "2025-02-23T08:27:35.679925Z",
     "shell.execute_reply.started": "2025-02-23T08:20:03.623855Z"
    }
   },
   "outputs": [
    {
     "name": "stdout",
     "output_type": "stream",
     "text": [
      "Starting training for max\n"
     ]
    },
    {
     "data": {
      "application/vnd.jupyter.widget-view+json": {
       "model_id": "ab2a3bfe62c445d6b5f8aa7a51d8bafc",
       "version_major": 2,
       "version_minor": 0
      },
      "text/plain": [
       "Training epoch 0::   0%|          | 0/3750 [00:00<?, ?it/s]"
      ]
     },
     "metadata": {},
     "output_type": "display_data"
    },
    {
     "data": {
      "application/vnd.jupyter.widget-view+json": {
       "model_id": "a7cd6f133ee644d0aee3657012c05e2f",
       "version_major": 2,
       "version_minor": 0
      },
      "text/plain": [
       "Training epoch 1::   0%|          | 0/3750 [00:00<?, ?it/s]"
      ]
     },
     "metadata": {},
     "output_type": "display_data"
    },
    {
     "data": {
      "application/vnd.jupyter.widget-view+json": {
       "model_id": "c0a007e2273d47ea968c99b93323ab47",
       "version_major": 2,
       "version_minor": 0
      },
      "text/plain": [
       "Training epoch 2::   0%|          | 0/3750 [00:00<?, ?it/s]"
      ]
     },
     "metadata": {},
     "output_type": "display_data"
    },
    {
     "data": {
      "application/vnd.jupyter.widget-view+json": {
       "model_id": "ee1dffbf80514182a835d278e60937b8",
       "version_major": 2,
       "version_minor": 0
      },
      "text/plain": [
       "Training epoch 3::   0%|          | 0/3750 [00:00<?, ?it/s]"
      ]
     },
     "metadata": {},
     "output_type": "display_data"
    },
    {
     "data": {
      "application/vnd.jupyter.widget-view+json": {
       "model_id": "0c2116d27505428eaa033d195ea13573",
       "version_major": 2,
       "version_minor": 0
      },
      "text/plain": [
       "Training epoch 4::   0%|          | 0/3750 [00:00<?, ?it/s]"
      ]
     },
     "metadata": {},
     "output_type": "display_data"
    },
    {
     "name": "stdout",
     "output_type": "stream",
     "text": [
      "Лучшая accuracy для подхода max: 91.160\n",
      "Starting training for mean\n"
     ]
    },
    {
     "data": {
      "application/vnd.jupyter.widget-view+json": {
       "model_id": "84f0a9bd7aa342f490ebd1a921cf704a",
       "version_major": 2,
       "version_minor": 0
      },
      "text/plain": [
       "Training epoch 0::   0%|          | 0/3750 [00:00<?, ?it/s]"
      ]
     },
     "metadata": {},
     "output_type": "display_data"
    },
    {
     "data": {
      "application/vnd.jupyter.widget-view+json": {
       "model_id": "48a732c64a2847c68ff6f5c4e083cf17",
       "version_major": 2,
       "version_minor": 0
      },
      "text/plain": [
       "Training epoch 1::   0%|          | 0/3750 [00:00<?, ?it/s]"
      ]
     },
     "metadata": {},
     "output_type": "display_data"
    },
    {
     "data": {
      "application/vnd.jupyter.widget-view+json": {
       "model_id": "9333b5c2567342c3b6eba16c675f1ae4",
       "version_major": 2,
       "version_minor": 0
      },
      "text/plain": [
       "Training epoch 2::   0%|          | 0/3750 [00:00<?, ?it/s]"
      ]
     },
     "metadata": {},
     "output_type": "display_data"
    },
    {
     "data": {
      "application/vnd.jupyter.widget-view+json": {
       "model_id": "67c42173788b4bba809a5d36a8fde12f",
       "version_major": 2,
       "version_minor": 0
      },
      "text/plain": [
       "Training epoch 3::   0%|          | 0/3750 [00:00<?, ?it/s]"
      ]
     },
     "metadata": {},
     "output_type": "display_data"
    },
    {
     "data": {
      "application/vnd.jupyter.widget-view+json": {
       "model_id": "faca5f9caada446893d58366264b426c",
       "version_major": 2,
       "version_minor": 0
      },
      "text/plain": [
       "Training epoch 4::   0%|          | 0/3750 [00:00<?, ?it/s]"
      ]
     },
     "metadata": {},
     "output_type": "display_data"
    },
    {
     "name": "stdout",
     "output_type": "stream",
     "text": [
      "Лучшая accuracy для подхода mean: 91.820\n"
     ]
    }
   ],
   "source": [
    "num_epoch = 5\n",
    "eval_steps = len(train_dataloader) // 2\n",
    "\n",
    "losses_type = {}\n",
    "acc_type = {}\n",
    "base_models_lstm = {}\n",
    "\n",
    "resulting_accuracy = 0\n",
    "\n",
    "for aggregation_type in ['max', 'mean']:\n",
    "    print(f\"Starting training for {aggregation_type}\")\n",
    "    losses = []\n",
    "    acc = []\n",
    "\n",
    "    model_lstm = LSTM(\n",
    "        hidden_dim=256, vocab_size=len(vocab), padding_idx = word2ind.get('<pad>'), \n",
    "        aggregation_type=aggregation_type).to(device)\n",
    "    criterion = nn.CrossEntropyLoss(ignore_index=word2ind['<pad>'])\n",
    "    optimizer = torch.optim.Adam(model_lstm.parameters())\n",
    "\n",
    "    for epoch in range(num_epoch):\n",
    "        epoch_losses = []\n",
    "        model_lstm.train()\n",
    "        \n",
    "        for i, batch in enumerate(tqdm(train_dataloader, desc=f'Training epoch {epoch}:')):\n",
    "            optimizer.zero_grad()\n",
    "            logits = model_lstm(batch['input_ids'])\n",
    "            loss = criterion(logits, batch['label'])\n",
    "            loss.backward()\n",
    "            optimizer.step()\n",
    "\n",
    "            epoch_losses.append(loss.item())\n",
    "            if i % eval_steps == 0:\n",
    "                model_lstm.eval()\n",
    "                resulting_accuracy = evaluate(model_lstm, eval_dataloader)\n",
    "                acc.append(resulting_accuracy)\n",
    "                if resulting_accuracy >= max(acc):\n",
    "                    base_models_lstm[aggregation_type] = model_lstm.state_dict()             \n",
    "                model_lstm.train()\n",
    "\n",
    "        losses.append(sum(epoch_losses) / len(epoch_losses))\n",
    "    \n",
    "    losses_type[aggregation_type] = losses\n",
    "    acc_type[aggregation_type] = acc\n",
    "    print(f\"Лучшая accuracy для подхода {aggregation_type}: {(max(acc_type[aggregation_type]) * 100):.3f}\")"
   ]
  },
  {
   "cell_type": "code",
   "execution_count": 27,
   "metadata": {
    "execution": {
     "iopub.execute_input": "2025-02-23T08:27:35.681104Z",
     "iopub.status.busy": "2025-02-23T08:27:35.681104Z",
     "iopub.status.idle": "2025-02-23T08:27:35.754875Z",
     "shell.execute_reply": "2025-02-23T08:27:35.754875Z",
     "shell.execute_reply.started": "2025-02-23T08:27:35.681104Z"
    }
   },
   "outputs": [
    {
     "data": {
      "image/png": "[encoded data removed]",
      "text/plain": [
       "<Figure size 640x480 with 1 Axes>"
      ]
     },
     "metadata": {},
     "output_type": "display_data"
    }
   ],
   "source": [
    "for (name, values), color in zip(losses_type.items(), ['red', 'blue']):\n",
    "    plt.plot(np.arange(len(losses_type[name])), losses_type[name], color=color, label=name)\n",
    "\n",
    "plt.title('Losses - LSTM')\n",
    "plt.xlabel(\"epoch\")\n",
    "plt.legend()\n",
    "plt.show()"
   ]
  },
  {
   "cell_type": "code",
   "execution_count": 28,
   "metadata": {
    "execution": {
     "iopub.execute_input": "2025-02-23T08:27:35.754875Z",
     "iopub.status.busy": "2025-02-23T08:27:35.754875Z",
     "iopub.status.idle": "2025-02-23T08:27:35.834770Z",
     "shell.execute_reply": "2025-02-23T08:27:35.834770Z",
     "shell.execute_reply.started": "2025-02-23T08:27:35.754875Z"
    }
   },
   "outputs": [
    {
     "name": "stdout",
     "output_type": "stream",
     "text": [
      "Лучшая accuracy для подхода max: 91.16\n",
      "Лучшая accuracy для подхода mean: 91.82\n"
     ]
    },
    {
     "data": {
      "image/png": "[encoded data removed]",
      "text/plain": [
       "<Figure size 640x480 with 1 Axes>"
      ]
     },
     "metadata": {},
     "output_type": "display_data"
    }
   ],
   "source": [
    "for (name, values), color in zip(losses_type.items(), ['red', 'blue']):\n",
    "    plt.plot(np.arange(len(acc_type[name][1:])), acc_type[name][1:], color=color, label=name)\n",
    "    print(f\"Лучшая accuracy для подхода {name}: {(max(acc_type[name]) * 100):.2f}\")\n",
    "\n",
    "plt.title('Accuracy - LSTM')\n",
    "plt.xlabel(\"epoch\")\n",
    "plt.legend()\n",
    "plt.show()"
   ]
  },
  {
   "cell_type": "markdown",
   "metadata": {},
   "source": [
    "*Вывод:* использование слоёв типа `LSTM` позволило получить прирост в качестве прогнозной модели на обоих типах агрегаций, однако стабилизировать качество не удалось. По сравнению с использованием `GRU` слоя целевая метрика не претерпевала значительных скачкоообразных изменений на обоих типах агрегаций."
   ]
  },
  {
   "cell_type": "markdown",
   "metadata": {
    "id": "SMAexY7Y45E4"
   },
   "source": [
    "### Получение высокого качества (3 балла)\n",
    "В конце вашей работы вы должны указать, какая из моделей дала лучший результат, и вывести качество, которое дает лучшая модель, с помощью функции `evaluate`. Ваша модель будет оцениваться по метрике `accuracy` следующим образом:\n",
    "* $accuracy < 0.9$ --- 0 баллов;\n",
    "* $0.9 \\leqslant accuracy < 0.91$ --- 1 балл;\n",
    "* $0.91 \\leqslant accuracy < 0.915$ --- 2 балла;\n",
    "* $0.915 \\leqslant accuracy$ --- 3 балла."
   ]
  },
  {
   "cell_type": "markdown",
   "metadata": {},
   "source": [
    "#### Лучшая модель\n",
    "\n",
    "На основании проведённых ранее экспериментов было выявлено, что наилучшее качество наблюдалось для модели, использующей рекуррентный слой типа `GRU`, в качестве функции агрегации использовался `MaxPooling`. Расчёт качества приедён ниже."
   ]
  },
  {
   "cell_type": "code",
   "execution_count": 51,
   "metadata": {
    "execution": {
     "iopub.execute_input": "2025-02-23T08:46:34.980367Z",
     "iopub.status.busy": "2025-02-23T08:46:34.979357Z",
     "iopub.status.idle": "2025-02-23T08:46:35.009415Z",
     "shell.execute_reply": "2025-02-23T08:46:35.009068Z",
     "shell.execute_reply.started": "2025-02-23T08:46:34.980367Z"
    }
   },
   "outputs": [
    {
     "data": {
      "text/plain": [
       "<All keys matched successfully>"
      ]
     },
     "execution_count": 51,
     "metadata": {},
     "output_type": "execute_result"
    }
   ],
   "source": [
    "best_model = GRU(\n",
    "        hidden_dim=256, vocab_size=len(vocab), padding_idx = word2ind.get('<pad>'), \n",
    "        aggregation_type='max').to(device)\n",
    "\n",
    "best_model.load_state_dict(base_models_gru['max'])"
   ]
  },
  {
   "cell_type": "code",
   "execution_count": 87,
   "metadata": {
    "execution": {
     "iopub.execute_input": "2025-02-23T09:14:13.989039Z",
     "iopub.status.busy": "2025-02-23T09:14:13.989039Z",
     "iopub.status.idle": "2025-02-23T09:14:15.154268Z",
     "shell.execute_reply": "2025-02-23T09:14:15.154268Z",
     "shell.execute_reply.started": "2025-02-23T09:14:13.989039Z"
    }
   },
   "outputs": [
    {
     "name": "stdout",
     "output_type": "stream",
     "text": [
      "Качество лучшей модели GRU (accuracy): 0.9161999821662903\n"
     ]
    }
   ],
   "source": [
    "print('Качество лучшей модели GRU (accuracy):', evaluate(best_model, eval_dataloader))"
   ]
  },
  {
   "cell_type": "markdown",
   "metadata": {
    "id": "SMAexY7Y45E4"
   },
   "source": [
    "### Оформление отчета (2 балла)\n",
    "В конце работы подробно опишите все проведенные эксперименты.\n",
    "* Укажите, какие из экспериментов принесли улучшение, а какие --- нет.\n",
    "* Проанализируйте графики сходимости моделей в проведенных экспериментах. Являются ли колебания качества обученных моделей существенными в зависимости от эпохи обучения, или же сходимость стабильная?\n",
    "* Укажите, какая модель получилась оптимальной.\n",
    "\n",
    "Желаем удачи!"
   ]
  },
  {
   "cell_type": "markdown",
   "metadata": {
    "id": "BqKYrcyxBoxx"
   },
   "source": [
    "#### Обработка экспериментальных данных\n",
    "\n",
    "В рамках работы над задачей по классификации текста с помощью рекуррентных нейросетей были проведены несколько экспериментов с моделями нейросетей. Основной целью эксперимента было определение влияния архитектурных решений на итоговое качество прогнозной модели. Были проведены **3** эксперимента:\n",
    "\n",
    "1. Модифицированная базовая модель: в базовой модели результаты операции пулинга конкатенировались с вектором скрытого состояния, полученным после обработки последнего элемента последовательности. Архитектурное решение позволило увеличить качество прогнозной модели на 0.01 ед., однако в данной модели так же как и в базовой модели наблюдались колебания качества на протяжении всех эпох обучения, что могло быть связано со значительными изменениями градиентов при обучении.\n",
    "2. Модель, использующая рекуррентный слой типа `GRU`. Использование нового типа слоя позволило улучшить качество прогнозной модели, увеличить его до 0.91, однако в данной модели также можно было наблюдать значительные колебания качества при обучении, причём с увеличением числа эпох качество прогнозной модели ухудшалось. Модель даного типа, использующая операцию `MaxPooling` была выбрана в качестве оптимальной.\n",
    "3. Модель, использующая рекуррентный слой типа `LSTM`. Применение более сложной архитектуры рекуррентного слоя, как и в эксперименте с `GRU`, позволило добиться улучшения качества прогнозов. При этом анализ графиков основных метрик показывает, что модели данного типа меньше подвержены проблемам со сходимостью, так как значительных колебаний целевой метрики на протяжении всего периода обучения не наблбюдалось. \n",
    "\n",
    "Стоит отметить, что использование операций пулинга типа `AvgPool` (агрегации типа `mean`) зачастую приводит к получению более стабильных результатов в процессе обучения по отношению к операциям типа `MaxPool`, что наблюдается на всех графиках экспериментальных моделей.\n",
    "\n",
    "*Оптимальная модель:* в качестве оптимальной модели была выбрана модель с рекуррентным слоем типа `GRU` (используемая в модели агрегация - `MaxPooling`). Прогнозирование с помощью функции `evaluate` даёт целевую метрику `accuracy`, равную **0.916**. Параметры модели представлены ниже:\n",
    "\n",
    "```\n",
    "GRU(\n",
    "  (embedding_layer): Embedding(11842, 256, padding_idx=4376)\n",
    "  (gru): GRU(256, 256, batch_first=True)\n",
    "  (linear): Linear(in_features=256, out_features=256, bias=True)\n",
    "  (projection): Linear(in_features=256, out_features=4, bias=True)\n",
    "  (non_lin): Tanh()\n",
    "  (dropout): Dropout(p=0.1, inplace=False)\n",
    ")\n",
    "```\n",
    "\n",
    "Модели типа `GRU` обладают меньшим числом параметров по сравнению с моделями типа `LSTM`, однако более устойчивы по отношению к базовым моделям рекуррентных слоёв. В данной задаче модель оптимальна, так как по качеству приближена к более сложной модели `LSTM` (обладая меньшим числом параметров), однако лучше справляется с обработкой последователбностей по отношению к типовым моделям `RNN`."
   ]
  },
  {
   "cell_type": "code",
   "execution_count": null,
   "metadata": {},
   "outputs": [],
   "source": []
  }
 ],
 "metadata": {
  "accelerator": "GPU",
  "colab": {
   "provenance": []
  },
  "gpuClass": "standard",
  "kernelspec": {
   "display_name": "Python 3 (ipykernel)",
   "language": "python",
   "name": "python3"
  },
  "language_info": {
   "codemirror_mode": {
    "name": "ipython",
    "version": 3
   },
   "file_extension": ".py",
   "mimetype": "text/x-python",
   "name": "python",
   "nbconvert_exporter": "python",
   "pygments_lexer": "ipython3",
   "version": "3.12.6"
  },
  "widgets": {
   "application/vnd.jupyter.widget-state+json": {
    "state": {
     "000f0f33805b432fbaf8be2c44e3cca6": {
      "model_module": "@jupyter-widgets/base",
      "model_module_version": "2.0.0",
      "model_name": "LayoutModel",
      "state": {}
     },
     "00405a3d98ad433185ff64dbc8bcf1d6": {
      "model_module": "@jupyter-widgets/base",
      "model_module_version": "2.0.0",
      "model_name": "LayoutModel",
      "state": {}
     },
     "0055fe3cd06545e89545cd6db3e016ee": {
      "model_module": "@jupyter-widgets/base",
      "model_module_version": "2.0.0",
      "model_name": "LayoutModel",
      "state": {}
     },
     "00669d7c099b427bb35df0737b7c5306": {
      "model_module": "@jupyter-widgets/controls",
      "model_module_version": "2.0.0",
      "model_name": "HBoxModel",
      "state": {
       "children": [
        "IPY_MODEL_888b9ee3d29f44fcaf19e3383b207318",
        "IPY_MODEL_0436c290c3344d66a6a928fb29e5e01f",
        "IPY_MODEL_531137bbb50a4818a5f0ceea73ee73b0"
       ],
       "layout": "IPY_MODEL_ac44608c19764792a53888cd314b18be"
      }
     },
     "014cc9119a9844ba9202771812d65cb5": {
      "model_module": "@jupyter-widgets/controls",
      "model_module_version": "2.0.0",
      "model_name": "HTMLStyleModel",
      "state": {
       "description_width": "",
       "font_size": null,
       "text_color": null
      }
     },
     "019995265d4f4151b4434b51d75d370b": {
      "model_module": "@jupyter-widgets/controls",
      "model_module_version": "2.0.0",
      "model_name": "HTMLStyleModel",
      "state": {
       "description_width": "",
       "font_size": null,
       "text_color": null
      }
     },
     "024ae41022084744882a556d76cd6dcb": {
      "model_module": "@jupyter-widgets/controls",
      "model_module_version": "2.0.0",
      "model_name": "ProgressStyleModel",
      "state": {
       "description_width": ""
      }
     },
     "03f761fcc6544e64a1ded824ae8e2ffd": {
      "model_module": "@jupyter-widgets/controls",
      "model_module_version": "2.0.0",
      "model_name": "HTMLStyleModel",
      "state": {
       "description_width": "",
       "font_size": null,
       "text_color": null
      }
     },
     "0436c290c3344d66a6a928fb29e5e01f": {
      "model_module": "@jupyter-widgets/controls",
      "model_module_version": "2.0.0",
      "model_name": "FloatProgressModel",
      "state": {
       "bar_style": "success",
       "layout": "IPY_MODEL_b54d177700a04d6f81e736ccd2c9c5e0",
       "max": 3750,
       "style": "IPY_MODEL_024ae41022084744882a556d76cd6dcb",
       "value": 3750
      }
     },
     "04fdd20f5bd54ef3b0149a69a0405029": {
      "model_module": "@jupyter-widgets/base",
      "model_module_version": "2.0.0",
      "model_name": "LayoutModel",
      "state": {}
     },
     "05606732293347d9bf5f55b9449fa0f2": {
      "model_module": "@jupyter-widgets/controls",
      "model_module_version": "2.0.0",
      "model_name": "HTMLStyleModel",
      "state": {
       "description_width": "",
       "font_size": null,
       "text_color": null
      }
     },
     "0694553be16a4cf48a414f86e57871ed": {
      "model_module": "@jupyter-widgets/controls",
      "model_module_version": "2.0.0",
      "model_name": "ProgressStyleModel",
      "state": {
       "description_width": ""
      }
     },
     "070891bedaa54661892ee9a5fa409905": {
      "model_module": "@jupyter-widgets/base",
      "model_module_version": "2.0.0",
      "model_name": "LayoutModel",
      "state": {}
     },
     "0738cccd110e4415be2d4980d4c4b35c": {
      "model_module": "@jupyter-widgets/controls",
      "model_module_version": "2.0.0",
      "model_name": "HTMLModel",
      "state": {
       "layout": "IPY_MODEL_bd13ece83a294111b52231ffc63c71b4",
       "style": "IPY_MODEL_c025fb0d6c5249a28a17b15ca0f0ff8d",
       "value": "Training epoch 0:: 100%"
      }
     },
     "075778de36c14e41bf58e66aeac12b41": {
      "model_module": "@jupyter-widgets/controls",
      "model_module_version": "2.0.0",
      "model_name": "FloatProgressModel",
      "state": {
       "bar_style": "success",
       "layout": "IPY_MODEL_1bafb6ce79b34e6f98f145e775e6e87b",
       "max": 3750,
       "style": "IPY_MODEL_7245f562784d4c1b9979aa137c1c073c",
       "value": 3750
      }
     },
     "077dedec9c9a4fe2b30667529172e714": {
      "model_module": "@jupyter-widgets/controls",
      "model_module_version": "2.0.0",
      "model_name": "HTMLModel",
      "state": {
       "layout": "IPY_MODEL_f458c097db354d1baf77f2307f787f3a",
       "style": "IPY_MODEL_ac28437b66e447659ac1a38d6086dd1a",
       "value": "Training epoch 4:: 100%"
      }
     },
     "0784fa7425804f439a7d44097f6452ce": {
      "model_module": "@jupyter-widgets/base",
      "model_module_version": "2.0.0",
      "model_name": "LayoutModel",
      "state": {}
     },
     "088901c9de0a42e48dac69b9d8e0b027": {
      "model_module": "@jupyter-widgets/controls",
      "model_module_version": "2.0.0",
      "model_name": "HTMLModel",
      "state": {
       "layout": "IPY_MODEL_b9f744aa1b524609a7fa04369bcdbbda",
       "style": "IPY_MODEL_05606732293347d9bf5f55b9449fa0f2",
       "value": "Training epoch 4:: 100%"
      }
     },
     "08bfb093c2c24bfe965392f4d86c043f": {
      "model_module": "@jupyter-widgets/controls",
      "model_module_version": "2.0.0",
      "model_name": "HTMLStyleModel",
      "state": {
       "description_width": "",
       "font_size": null,
       "text_color": null
      }
     },
     "0a4c960a7dee4ab2988f3b1ef64219d5": {
      "model_module": "@jupyter-widgets/base",
      "model_module_version": "2.0.0",
      "model_name": "LayoutModel",
      "state": {}
     },
     "0a7e4b46791743d0a1fc0470333acc31": {
      "model_module": "@jupyter-widgets/base",
      "model_module_version": "2.0.0",
      "model_name": "LayoutModel",
      "state": {}
     },
     "0ab1706203ba4bf9aefefbd8e6d0f13f": {
      "model_module": "@jupyter-widgets/base",
      "model_module_version": "2.0.0",
      "model_name": "LayoutModel",
      "state": {}
     },
     "0b2036304b8e4e14812143535fdb30c5": {
      "model_module": "@jupyter-widgets/base",
      "model_module_version": "2.0.0",
      "model_name": "LayoutModel",
      "state": {}
     },
     "0c2116d27505428eaa033d195ea13573": {
      "model_module": "@jupyter-widgets/controls",
      "model_module_version": "2.0.0",
      "model_name": "HBoxModel",
      "state": {
       "children": [
        "IPY_MODEL_2c105ee63c764c2796744c9fff742489",
        "IPY_MODEL_8d5dca3c847645bd9ffecdcc5194cd5d",
        "IPY_MODEL_a0d8fde36e0846309c0c83246700118b"
       ],
       "layout": "IPY_MODEL_0a4c960a7dee4ab2988f3b1ef64219d5"
      }
     },
     "0c4eb4d9e3d646e6a2413147dc5ba012": {
      "model_module": "@jupyter-widgets/base",
      "model_module_version": "2.0.0",
      "model_name": "LayoutModel",
      "state": {}
     },
     "0c69b103013e41cabc436b514f765670": {
      "model_module": "@jupyter-widgets/controls",
      "model_module_version": "2.0.0",
      "model_name": "HTMLModel",
      "state": {
       "layout": "IPY_MODEL_3a78500c054544b19916b09a9217b850",
       "style": "IPY_MODEL_dcb48952bdf7441b8354366f548289b4",
       "value": "Training epoch 3:: 100%"
      }
     },
     "0ca3b22f9de74ec4a139a8da48d952a4": {
      "model_module": "@jupyter-widgets/controls",
      "model_module_version": "2.0.0",
      "model_name": "HTMLModel",
      "state": {
       "layout": "IPY_MODEL_c0fb4f23bada49f0bf68e433022562a7",
       "style": "IPY_MODEL_d0c5049439754f11b7742a7de0ac80e5",
       "value": "Training epoch 2:: 100%"
      }
     },
     "0ce12665717f4b43be66f6afc904af6a": {
      "model_module": "@jupyter-widgets/controls",
      "model_module_version": "2.0.0",
      "model_name": "FloatProgressModel",
      "state": {
       "bar_style": "success",
       "layout": "IPY_MODEL_fd755e51f6c34bb8a16ea2473cb9ba2f",
       "max": 3750,
       "style": "IPY_MODEL_907a690636a1482ba0594dfbe178e905",
       "value": 3750
      }
     },
     "0d4c5b257e104993a90954fb67b68eb5": {
      "model_module": "@jupyter-widgets/base",
      "model_module_version": "2.0.0",
      "model_name": "LayoutModel",
      "state": {}
     },
     "0d582bbfd2b540959ebbca45f74085b5": {
      "model_module": "@jupyter-widgets/controls",
      "model_module_version": "2.0.0",
      "model_name": "HTMLModel",
      "state": {
       "layout": "IPY_MODEL_4378476f6d8f47d28d6636487ada8ebe",
       "style": "IPY_MODEL_ba29ef7a0c46429598c1159e10b21f07",
       "value": " 3750/3750 [00:46&lt;00:00, 82.86it/s]"
      }
     },
     "0e09ab5403ea405c89078480a90362e6": {
      "model_module": "@jupyter-widgets/controls",
      "model_module_version": "2.0.0",
      "model_name": "HTMLStyleModel",
      "state": {
       "description_width": "",
       "font_size": null,
       "text_color": null
      }
     },
     "0e696eb7ac86412eb4447a89fda9e875": {
      "model_module": "@jupyter-widgets/controls",
      "model_module_version": "2.0.0",
      "model_name": "HTMLModel",
      "state": {
       "layout": "IPY_MODEL_ed71d67dff1d45bebc976e87f484a8a4",
       "style": "IPY_MODEL_6147035e5a94487fb52798f1a7deb7d8",
       "value": "Training epoch 1:: 100%"
      }
     },
     "0e9b2bb76d754d7b8d061a02d54dddbc": {
      "model_module": "@jupyter-widgets/base",
      "model_module_version": "2.0.0",
      "model_name": "LayoutModel",
      "state": {}
     },
     "0ed323d724ba49f2b3eb823bc1bb32e0": {
      "model_module": "@jupyter-widgets/controls",
      "model_module_version": "2.0.0",
      "model_name": "HTMLStyleModel",
      "state": {
       "description_width": "",
       "font_size": null,
       "text_color": null
      }
     },
     "0eff27ef33b343cdaac3504ec5cd8379": {
      "model_module": "@jupyter-widgets/controls",
      "model_module_version": "2.0.0",
      "model_name": "HTMLStyleModel",
      "state": {
       "description_width": "",
       "font_size": null,
       "text_color": null
      }
     },
     "0f116ca1e06f41f9bde7fe81c1eb9f60": {
      "model_module": "@jupyter-widgets/controls",
      "model_module_version": "2.0.0",
      "model_name": "HTMLModel",
      "state": {
       "layout": "IPY_MODEL_4fdb30f9b1ca44e9bc10f9bb3dc5942a",
       "style": "IPY_MODEL_c2577afb5dc045a4a0a07195a18f775a",
       "value": " 3750/3750 [00:34&lt;00:00, 113.76it/s]"
      }
     },
     "0ff3b40f81e845b6840543d0f694e8f3": {
      "model_module": "@jupyter-widgets/controls",
      "model_module_version": "2.0.0",
      "model_name": "HTMLModel",
      "state": {
       "layout": "IPY_MODEL_070891bedaa54661892ee9a5fa409905",
       "style": "IPY_MODEL_995fcfb8b14448d6b1169e13a3ed3daa",
       "value": "Training epoch 1:: 100%"
      }
     },
     "100b0d089a6f412cae09e08c4a34c1c1": {
      "model_module": "@jupyter-widgets/base",
      "model_module_version": "2.0.0",
      "model_name": "LayoutModel",
      "state": {}
     },
     "1022c8b9d96d4a808b79d77b38e8afea": {
      "model_module": "@jupyter-widgets/controls",
      "model_module_version": "2.0.0",
      "model_name": "HTMLModel",
      "state": {
       "layout": "IPY_MODEL_0a7e4b46791743d0a1fc0470333acc31",
       "style": "IPY_MODEL_66fb3dd627604c37878d9d8b76036b86",
       "value": " 3750/3750 [00:45&lt;00:00, 90.96it/s]"
      }
     },
     "10a5fbcf2fc24338afdbdcc27d4b73d4": {
      "model_module": "@jupyter-widgets/controls",
      "model_module_version": "2.0.0",
      "model_name": "HTMLModel",
      "state": {
       "layout": "IPY_MODEL_04fdd20f5bd54ef3b0149a69a0405029",
       "style": "IPY_MODEL_8658d24ac79c4c25b2317f4a52fda53d",
       "value": " 3750/3750 [00:35&lt;00:00, 110.62it/s]"
      }
     },
     "10cf153ccef74d9cae02a6f60c17f507": {
      "model_module": "@jupyter-widgets/controls",
      "model_module_version": "2.0.0",
      "model_name": "ProgressStyleModel",
      "state": {
       "description_width": ""
      }
     },
     "1253e51f7a6343bb87beafc8f6a65a4d": {
      "model_module": "@jupyter-widgets/controls",
      "model_module_version": "2.0.0",
      "model_name": "FloatProgressModel",
      "state": {
       "bar_style": "success",
       "layout": "IPY_MODEL_7525c97e0a4b46319387ec44702422cb",
       "max": 3750,
       "style": "IPY_MODEL_10cf153ccef74d9cae02a6f60c17f507",
       "value": 3750
      }
     },
     "12d0639b8c7548d18b39d542727c690b": {
      "model_module": "@jupyter-widgets/controls",
      "model_module_version": "2.0.0",
      "model_name": "HTMLStyleModel",
      "state": {
       "description_width": "",
       "font_size": null,
       "text_color": null
      }
     },
     "137e5f4c07c440e3898baafc74f39528": {
      "model_module": "@jupyter-widgets/controls",
      "model_module_version": "2.0.0",
      "model_name": "HTMLModel",
      "state": {
       "layout": "IPY_MODEL_622a63e76ea84b1bb7337fbe0f660b68",
       "style": "IPY_MODEL_b91745f79983472ea7c85d6a7eafec18",
       "value": " 3750/3750 [00:45&lt;00:00, 86.14it/s]"
      }
     },
     "13decc478a3d4227a0f6cb8de541cdff": {
      "model_module": "@jupyter-widgets/controls",
      "model_module_version": "2.0.0",
      "model_name": "HTMLModel",
      "state": {
       "layout": "IPY_MODEL_5d9ec2c61d4a4440977ad8e65bbca51e",
       "style": "IPY_MODEL_fd78607ada1d4d7ea1a48eb56e3e601e",
       "value": "Training epoch 2:: 100%"
      }
     },
     "140c30751a5e43fb80055829a8488e2e": {
      "model_module": "@jupyter-widgets/base",
      "model_module_version": "2.0.0",
      "model_name": "LayoutModel",
      "state": {}
     },
     "142e4a2822ab4e6b9f7860497814934d": {
      "model_module": "@jupyter-widgets/controls",
      "model_module_version": "2.0.0",
      "model_name": "HTMLModel",
      "state": {
       "layout": "IPY_MODEL_a17746cac3e04337962055c7b6fed22f",
       "style": "IPY_MODEL_7c4a47c495fe445689ac5b903c53534f",
       "value": " 3750/3750 [00:45&lt;00:00, 85.77it/s]"
      }
     },
     "151e2c99e9da461487beaac6131cc3ae": {
      "model_module": "@jupyter-widgets/controls",
      "model_module_version": "2.0.0",
      "model_name": "ProgressStyleModel",
      "state": {
       "description_width": ""
      }
     },
     "160b4208b74d40dcbb8d3644d3c55118": {
      "model_module": "@jupyter-widgets/controls",
      "model_module_version": "2.0.0",
      "model_name": "HTMLModel",
      "state": {
       "layout": "IPY_MODEL_44be56ef2a424267a58609a159e158d9",
       "style": "IPY_MODEL_e7a5a1f423064987bb76d5f7070fc095",
       "value": "Training epoch 4:: 100%"
      }
     },
     "172689cd362c4174b7304e5034e7fd43": {
      "model_module": "@jupyter-widgets/base",
      "model_module_version": "2.0.0",
      "model_name": "LayoutModel",
      "state": {}
     },
     "1757680bf5344ff4946ce632d1e0bdd6": {
      "model_module": "@jupyter-widgets/controls",
      "model_module_version": "2.0.0",
      "model_name": "HTMLModel",
      "state": {
       "layout": "IPY_MODEL_d56b9fb2030644daa5e32f2413b6def6",
       "style": "IPY_MODEL_ad67a6d52ba54e03909fd6214fe8c6e4",
       "value": "Training epoch 4:: 100%"
      }
     },
     "17e1d430e2fb4bf88fa215ad4fa9e3fc": {
      "model_module": "@jupyter-widgets/controls",
      "model_module_version": "2.0.0",
      "model_name": "HTMLModel",
      "state": {
       "layout": "IPY_MODEL_835c53cc1d564cd7a7b839f2363c61d8",
       "style": "IPY_MODEL_58beee9e1f594fc694e18b1b8c0a8395",
       "value": " 3750/3750 [00:45&lt;00:00, 86.21it/s]"
      }
     },
     "17f53445c6e247b88d41e08c69f9245f": {
      "model_module": "@jupyter-widgets/base",
      "model_module_version": "2.0.0",
      "model_name": "LayoutModel",
      "state": {}
     },
     "180c2c0d17cc4fed9c185836db559413": {
      "model_module": "@jupyter-widgets/controls",
      "model_module_version": "2.0.0",
      "model_name": "ProgressStyleModel",
      "state": {
       "description_width": ""
      }
     },
     "192d1a22f1a34bc8b0f63ce84729ebc3": {
      "model_module": "@jupyter-widgets/controls",
      "model_module_version": "2.0.0",
      "model_name": "ProgressStyleModel",
      "state": {
       "description_width": ""
      }
     },
     "1b0ce6b5b6ce4dca8130cc6eead76b57": {
      "model_module": "@jupyter-widgets/controls",
      "model_module_version": "2.0.0",
      "model_name": "HBoxModel",
      "state": {
       "children": [
        "IPY_MODEL_d3b7eceac55b4f6e8ab47cf5c45aeb54",
        "IPY_MODEL_41aa9efe870e4606b963568757ab8f63",
        "IPY_MODEL_10a5fbcf2fc24338afdbdcc27d4b73d4"
       ],
       "layout": "IPY_MODEL_000f0f33805b432fbaf8be2c44e3cca6"
      }
     },
     "1b256fd8d7e646fcb320c81dbb8e6f38": {
      "model_module": "@jupyter-widgets/base",
      "model_module_version": "2.0.0",
      "model_name": "LayoutModel",
      "state": {}
     },
     "1bafb6ce79b34e6f98f145e775e6e87b": {
      "model_module": "@jupyter-widgets/base",
      "model_module_version": "2.0.0",
      "model_name": "LayoutModel",
      "state": {}
     },
     "1c9d5549b7a9483b9f5005e7a956fd40": {
      "model_module": "@jupyter-widgets/controls",
      "model_module_version": "2.0.0",
      "model_name": "HTMLModel",
      "state": {
       "layout": "IPY_MODEL_791f619a44d7413d8c564bdda7113397",
       "style": "IPY_MODEL_c78d380dc74a462d83b116ed50108f80",
       "value": "Training epoch 4:: 100%"
      }
     },
     "1cb9585e09b444ecba311f7ca1c69117": {
      "model_module": "@jupyter-widgets/controls",
      "model_module_version": "2.0.0",
      "model_name": "HTMLModel",
      "state": {
       "layout": "IPY_MODEL_57aab14ec2a14cfc9bb807c003e49207",
       "style": "IPY_MODEL_5ef1e2ee44974006bc4e4d50937ad4e0",
       "value": "Training epoch 3:: 100%"
      }
     },
     "1d1c9731287440f6a24c46d1eb2ba781": {
      "model_module": "@jupyter-widgets/controls",
      "model_module_version": "2.0.0",
      "model_name": "HTMLModel",
      "state": {
       "layout": "IPY_MODEL_6993f2cf05414cea8a01f2bfb54ffe4f",
       "style": "IPY_MODEL_f64609d17223488897f3b6facceabd2c",
       "value": "Training epoch 0:: 100%"
      }
     },
     "1e7a27c35b6c4273bc73655421d723bf": {
      "model_module": "@jupyter-widgets/controls",
      "model_module_version": "2.0.0",
      "model_name": "HTMLModel",
      "state": {
       "layout": "IPY_MODEL_59ae89b5ff6944c9ba4bf24b207d9333",
       "style": "IPY_MODEL_3115438e17024e219b8752f8c18ca795",
       "value": " 3750/3750 [00:44&lt;00:00, 84.66it/s]"
      }
     },
     "1eb0e712a3d74b68a25e363dcb0168cb": {
      "model_module": "@jupyter-widgets/controls",
      "model_module_version": "2.0.0",
      "model_name": "HTMLStyleModel",
      "state": {
       "description_width": "",
       "font_size": null,
       "text_color": null
      }
     },
     "1ede789d1f904ac6b990fc3ba6ca5e18": {
      "model_module": "@jupyter-widgets/controls",
      "model_module_version": "2.0.0",
      "model_name": "HTMLStyleModel",
      "state": {
       "description_width": "",
       "font_size": null,
       "text_color": null
      }
     },
     "1efe1ce253e14300932fbb824d870cdd": {
      "model_module": "@jupyter-widgets/controls",
      "model_module_version": "2.0.0",
      "model_name": "HTMLModel",
      "state": {
       "layout": "IPY_MODEL_597b75ea301b452d845c0b36fb60fc0e",
       "style": "IPY_MODEL_e1b940e11e5e46bc8f5a2d75f6cdb7ec",
       "value": " 3750/3750 [00:35&lt;00:00, 110.13it/s]"
      }
     },
     "200e7ee619d7441bbfd6252997c69e71": {
      "model_module": "@jupyter-widgets/base",
      "model_module_version": "2.0.0",
      "model_name": "LayoutModel",
      "state": {}
     },
     "20aee262fa5b47ca9429af3db17ed4ad": {
      "model_module": "@jupyter-widgets/controls",
      "model_module_version": "2.0.0",
      "model_name": "HTMLModel",
      "state": {
       "layout": "IPY_MODEL_32d00dd84d9c49489007943016be0da5",
       "style": "IPY_MODEL_76c0602923834f07b2f5107a1f0a9d7b",
       "value": " 3750/3750 [00:35&lt;00:00, 115.24it/s]"
      }
     },
     "2117674163ba411f9fc830ead95f7bb6": {
      "model_module": "@jupyter-widgets/controls",
      "model_module_version": "2.0.0",
      "model_name": "HTMLStyleModel",
      "state": {
       "description_width": "",
       "font_size": null,
       "text_color": null
      }
     },
     "211eb24279574d23bd7809aef5550efb": {
      "model_module": "@jupyter-widgets/controls",
      "model_module_version": "2.0.0",
      "model_name": "HBoxModel",
      "state": {
       "children": [
        "IPY_MODEL_e9225e2bd7bb4c4f8cfa56b78b12acda",
        "IPY_MODEL_0ce12665717f4b43be66f6afc904af6a",
        "IPY_MODEL_e18d9540d54141dbac6330c521dadb36"
       ],
       "layout": "IPY_MODEL_200e7ee619d7441bbfd6252997c69e71"
      }
     },
     "236fa74bbf9a403da577b00e16f4b69e": {
      "model_module": "@jupyter-widgets/base",
      "model_module_version": "2.0.0",
      "model_name": "LayoutModel",
      "state": {}
     },
     "2427d975b7f748118c307bf3826e6ca6": {
      "model_module": "@jupyter-widgets/controls",
      "model_module_version": "2.0.0",
      "model_name": "ProgressStyleModel",
      "state": {
       "description_width": ""
      }
     },
     "2480e1eafec54aa2b3c19182654af012": {
      "model_module": "@jupyter-widgets/base",
      "model_module_version": "2.0.0",
      "model_name": "LayoutModel",
      "state": {}
     },
     "26529f79eabd4f07a12862eaddbe902d": {
      "model_module": "@jupyter-widgets/controls",
      "model_module_version": "2.0.0",
      "model_name": "ProgressStyleModel",
      "state": {
       "description_width": ""
      }
     },
     "292db9b5d42041f98f9f22591d511004": {
      "model_module": "@jupyter-widgets/controls",
      "model_module_version": "2.0.0",
      "model_name": "FloatProgressModel",
      "state": {
       "bar_style": "success",
       "layout": "IPY_MODEL_38b5103ae4e04834a2b304225827d6a7",
       "max": 3750,
       "style": "IPY_MODEL_dc2e38a68fa44dabb5cd0ec67926f38a",
       "value": 3750
      }
     },
     "2972eb35eb9a4dfda3d46131be3ad848": {
      "model_module": "@jupyter-widgets/controls",
      "model_module_version": "2.0.0",
      "model_name": "HTMLModel",
      "state": {
       "layout": "IPY_MODEL_85fa99920d424cde9c38b9ac053c03e8",
       "style": "IPY_MODEL_b3a55085d8db4a298bb09f170b794499",
       "value": " 3750/3750 [00:34&lt;00:00, 113.15it/s]"
      }
     },
     "29d71df66f3e485983dea74d854fea13": {
      "model_module": "@jupyter-widgets/controls",
      "model_module_version": "2.0.0",
      "model_name": "ProgressStyleModel",
      "state": {
       "description_width": ""
      }
     },
     "2a42c54571464379a2e4024670a45922": {
      "model_module": "@jupyter-widgets/base",
      "model_module_version": "2.0.0",
      "model_name": "LayoutModel",
      "state": {}
     },
     "2a51b800ada64f40a0f78b10c8ffd8ba": {
      "model_module": "@jupyter-widgets/base",
      "model_module_version": "2.0.0",
      "model_name": "LayoutModel",
      "state": {}
     },
     "2c105ee63c764c2796744c9fff742489": {
      "model_module": "@jupyter-widgets/controls",
      "model_module_version": "2.0.0",
      "model_name": "HTMLModel",
      "state": {
       "layout": "IPY_MODEL_d782f711e3e44f47b3fc5b0651c72e95",
       "style": "IPY_MODEL_d1a9c275de844de0b99fef4aa1fcc98d",
       "value": "Training epoch 4:: 100%"
      }
     },
     "2d13abde31714b22b4f0ed08eb0114f6": {
      "model_module": "@jupyter-widgets/controls",
      "model_module_version": "2.0.0",
      "model_name": "HTMLModel",
      "state": {
       "layout": "IPY_MODEL_ecc46c1fcdbe4b5ba87938fee11889f7",
       "style": "IPY_MODEL_890a5af39bdb4190817242ce91b0e3c4",
       "value": "Training epoch 4:: 100%"
      }
     },
     "2e2dc1792f4a4569b8be751761a89168": {
      "model_module": "@jupyter-widgets/base",
      "model_module_version": "2.0.0",
      "model_name": "LayoutModel",
      "state": {}
     },
     "2eacf9947b224a7fbc53dec9dc54abaf": {
      "model_module": "@jupyter-widgets/controls",
      "model_module_version": "2.0.0",
      "model_name": "HTMLModel",
      "state": {
       "layout": "IPY_MODEL_8e73f41ec05547f3b33aee86e1170612",
       "style": "IPY_MODEL_5c4500d8bd514b0091c5c52cb98a1136",
       "value": "Training epoch 3:: 100%"
      }
     },
     "2ed95168f94d4bb3a89a13b51afc06f9": {
      "model_module": "@jupyter-widgets/controls",
      "model_module_version": "2.0.0",
      "model_name": "ProgressStyleModel",
      "state": {
       "description_width": ""
      }
     },
     "2f9453b9e2a245ab95efc748f436f673": {
      "model_module": "@jupyter-widgets/controls",
      "model_module_version": "2.0.0",
      "model_name": "ProgressStyleModel",
      "state": {
       "description_width": ""
      }
     },
     "2fb5f3f665a744a2a38658887e0bdb7c": {
      "model_module": "@jupyter-widgets/controls",
      "model_module_version": "2.0.0",
      "model_name": "FloatProgressModel",
      "state": {
       "bar_style": "success",
       "layout": "IPY_MODEL_5692780ed4c34638bf907924ccbb3d7c",
       "max": 3750,
       "style": "IPY_MODEL_2427d975b7f748118c307bf3826e6ca6",
       "value": 3750
      }
     },
     "2fc5015e9ee34e3ab58be6fbc228c6df": {
      "model_module": "@jupyter-widgets/controls",
      "model_module_version": "2.0.0",
      "model_name": "ProgressStyleModel",
      "state": {
       "description_width": ""
      }
     },
     "2fc9931e4ceb4906b24a6b1a2c0e283b": {
      "model_module": "@jupyter-widgets/base",
      "model_module_version": "2.0.0",
      "model_name": "LayoutModel",
      "state": {}
     },
     "3115438e17024e219b8752f8c18ca795": {
      "model_module": "@jupyter-widgets/controls",
      "model_module_version": "2.0.0",
      "model_name": "HTMLStyleModel",
      "state": {
       "description_width": "",
       "font_size": null,
       "text_color": null
      }
     },
     "31352755783a4d218cc9d81c186a9af4": {
      "model_module": "@jupyter-widgets/controls",
      "model_module_version": "2.0.0",
      "model_name": "FloatProgressModel",
      "state": {
       "bar_style": "success",
       "layout": "IPY_MODEL_236fa74bbf9a403da577b00e16f4b69e",
       "max": 3750,
       "style": "IPY_MODEL_d10b7c567b3849088adf78ccd622f4a0",
       "value": 3750
      }
     },
     "315f0da6a71b4026a748f6358f06fab9": {
      "model_module": "@jupyter-widgets/base",
      "model_module_version": "2.0.0",
      "model_name": "LayoutModel",
      "state": {}
     },
     "31951d58439745b59661a443c20eb7ab": {
      "model_module": "@jupyter-widgets/controls",
      "model_module_version": "2.0.0",
      "model_name": "HBoxModel",
      "state": {
       "children": [
        "IPY_MODEL_479b19367aec48769168b3b6d8a6d75b",
        "IPY_MODEL_c294285b712e46668931111d9b8c2189",
        "IPY_MODEL_f17c4abb89f0447baa40ce9b81b24b2f"
       ],
       "layout": "IPY_MODEL_f9ec74e90bcc4148ae840ea78826a658"
      }
     },
     "329ba3b04fd94108a09f425d09bea238": {
      "model_module": "@jupyter-widgets/base",
      "model_module_version": "2.0.0",
      "model_name": "LayoutModel",
      "state": {}
     },
     "32d00dd84d9c49489007943016be0da5": {
      "model_module": "@jupyter-widgets/base",
      "model_module_version": "2.0.0",
      "model_name": "LayoutModel",
      "state": {}
     },
     "32e6a1460cd4432394412953b96e6fcd": {
      "model_module": "@jupyter-widgets/base",
      "model_module_version": "2.0.0",
      "model_name": "LayoutModel",
      "state": {}
     },
     "337e21e6e76f4d48bdbfe2c22dc4c178": {
      "model_module": "@jupyter-widgets/controls",
      "model_module_version": "2.0.0",
      "model_name": "ProgressStyleModel",
      "state": {
       "description_width": ""
      }
     },
     "33825129f8114b7ea60e0955ba0e3d8a": {
      "model_module": "@jupyter-widgets/controls",
      "model_module_version": "2.0.0",
      "model_name": "HTMLStyleModel",
      "state": {
       "description_width": "",
       "font_size": null,
       "text_color": null
      }
     },
     "33ab7f0fa193495eb283e6a623120f77": {
      "model_module": "@jupyter-widgets/controls",
      "model_module_version": "2.0.0",
      "model_name": "FloatProgressModel",
      "state": {
       "bar_style": "success",
       "layout": "IPY_MODEL_ba662b3f46ba45dd9b4ed8bd3e76383b",
       "max": 3750,
       "style": "IPY_MODEL_29d71df66f3e485983dea74d854fea13",
       "value": 3750
      }
     },
     "3536edebec9743abb58dad59202df717": {
      "model_module": "@jupyter-widgets/controls",
      "model_module_version": "2.0.0",
      "model_name": "HBoxModel",
      "state": {
       "children": [
        "IPY_MODEL_1757680bf5344ff4946ce632d1e0bdd6",
        "IPY_MODEL_7760731eb0a44ee99dc53b7ebce2075f",
        "IPY_MODEL_464bd8cdf8e349559804b335e864f760"
       ],
       "layout": "IPY_MODEL_6eb582bff20a4e0c808c7afefddad4b3"
      }
     },
     "356816aa63444c7c9185bff4c4b26afb": {
      "model_module": "@jupyter-widgets/controls",
      "model_module_version": "2.0.0",
      "model_name": "ProgressStyleModel",
      "state": {
       "description_width": ""
      }
     },
     "36acf8a526cb48c9b3b366e8b37420f1": {
      "model_module": "@jupyter-widgets/controls",
      "model_module_version": "2.0.0",
      "model_name": "HTMLStyleModel",
      "state": {
       "description_width": "",
       "font_size": null,
       "text_color": null
      }
     },
     "38b5103ae4e04834a2b304225827d6a7": {
      "model_module": "@jupyter-widgets/base",
      "model_module_version": "2.0.0",
      "model_name": "LayoutModel",
      "state": {}
     },
     "38ccf222c76943498b8a895ce1a29c4d": {
      "model_module": "@jupyter-widgets/base",
      "model_module_version": "2.0.0",
      "model_name": "LayoutModel",
      "state": {}
     },
     "38f3abd1cd574a19aa1fc136537247c5": {
      "model_module": "@jupyter-widgets/controls",
      "model_module_version": "2.0.0",
      "model_name": "HTMLStyleModel",
      "state": {
       "description_width": "",
       "font_size": null,
       "text_color": null
      }
     },
     "39ebfd1c6d7e4a6cb289e4a9406592e8": {
      "model_module": "@jupyter-widgets/controls",
      "model_module_version": "2.0.0",
      "model_name": "HTMLModel",
      "state": {
       "layout": "IPY_MODEL_e1eb58464960419cae32c254f11ba59a",
       "style": "IPY_MODEL_c8e219a97ce54dbf88aebe36b459770e",
       "value": " 120000/120000 [00:10&lt;00:00, 12088.03it/s]"
      }
     },
     "3a78500c054544b19916b09a9217b850": {
      "model_module": "@jupyter-widgets/base",
      "model_module_version": "2.0.0",
      "model_name": "LayoutModel",
      "state": {}
     },
     "3ac7619e14ca4699a7264e3cb09ab734": {
      "model_module": "@jupyter-widgets/base",
      "model_module_version": "2.0.0",
      "model_name": "LayoutModel",
      "state": {}
     },
     "3ccffe9310e64a4b9131434394e69213": {
      "model_module": "@jupyter-widgets/controls",
      "model_module_version": "2.0.0",
      "model_name": "HTMLStyleModel",
      "state": {
       "description_width": "",
       "font_size": null,
       "text_color": null
      }
     },
     "3d21502178bd41f295e489478a4aa2a5": {
      "model_module": "@jupyter-widgets/controls",
      "model_module_version": "2.0.0",
      "model_name": "HBoxModel",
      "state": {
       "children": [
        "IPY_MODEL_94cc955916244339b7232265a863ce95",
        "IPY_MODEL_8545dec9404a406197560129f7f439d9",
        "IPY_MODEL_c8233b4dcd474274a711b63b9957dcaf"
       ],
       "layout": "IPY_MODEL_fea02e16f49a4f4dbf179c038248c5cb"
      }
     },
     "3fe8aeb3c12349e391343b8019f806e9": {
      "model_module": "@jupyter-widgets/base",
      "model_module_version": "2.0.0",
      "model_name": "LayoutModel",
      "state": {}
     },
     "413d83bd065b4a6996474e4500be45e7": {
      "model_module": "@jupyter-widgets/controls",
      "model_module_version": "2.0.0",
      "model_name": "HBoxModel",
      "state": {
       "children": [
        "IPY_MODEL_61423d6cc7264598ab3a2bea7ea40a11",
        "IPY_MODEL_f6928b0b8ad0473fb7bcf694c4f09185",
        "IPY_MODEL_5ad7507a4a964d16876a38f29dccf239"
       ],
       "layout": "IPY_MODEL_5c687c7898bb4d368b52275ed29e99b7"
      }
     },
     "41aa9efe870e4606b963568757ab8f63": {
      "model_module": "@jupyter-widgets/controls",
      "model_module_version": "2.0.0",
      "model_name": "FloatProgressModel",
      "state": {
       "bar_style": "success",
       "layout": "IPY_MODEL_8cd9d3bde49c43e282b5893cb159bbca",
       "max": 3750,
       "style": "IPY_MODEL_e3ef6686706440c7a28b5c882cd5e24e",
       "value": 3750
      }
     },
     "421a32c275b74451884def44eaa2c51f": {
      "model_module": "@jupyter-widgets/controls",
      "model_module_version": "2.0.0",
      "model_name": "FloatProgressModel",
      "state": {
       "bar_style": "success",
       "layout": "IPY_MODEL_4f4b73bda0ea42bb828ddaa2c3209853",
       "max": 3750,
       "style": "IPY_MODEL_d1ad969bac5c48ff9f721466a3037b4e",
       "value": 3750
      }
     },
     "4261e95b8a414737be5df4c98abaa12a": {
      "model_module": "@jupyter-widgets/controls",
      "model_module_version": "2.0.0",
      "model_name": "HTMLModel",
      "state": {
       "layout": "IPY_MODEL_82932d7c432e4b25908f33cb611148c6",
       "style": "IPY_MODEL_d3b48a2a1a784be5b31035939f3ebf46",
       "value": " 3750/3750 [00:45&lt;00:00, 84.90it/s]"
      }
     },
     "42758cb795114f4ead7d575cabc4fef0": {
      "model_module": "@jupyter-widgets/controls",
      "model_module_version": "2.0.0",
      "model_name": "HTMLModel",
      "state": {
       "layout": "IPY_MODEL_59760513b1fc417f9ab69b5530545a4f",
       "style": "IPY_MODEL_57ee03e8917f4928a00eeecfb505d6d5",
       "value": " 3750/3750 [00:33&lt;00:00, 116.71it/s]"
      }
     },
     "42e609b878154ea28aee12168f5acf49": {
      "model_module": "@jupyter-widgets/base",
      "model_module_version": "2.0.0",
      "model_name": "LayoutModel",
      "state": {}
     },
     "4378476f6d8f47d28d6636487ada8ebe": {
      "model_module": "@jupyter-widgets/base",
      "model_module_version": "2.0.0",
      "model_name": "LayoutModel",
      "state": {}
     },
     "44be56ef2a424267a58609a159e158d9": {
      "model_module": "@jupyter-widgets/base",
      "model_module_version": "2.0.0",
      "model_name": "LayoutModel",
      "state": {}
     },
     "464bd8cdf8e349559804b335e864f760": {
      "model_module": "@jupyter-widgets/controls",
      "model_module_version": "2.0.0",
      "model_name": "HTMLModel",
      "state": {
       "layout": "IPY_MODEL_6cfeb72f7c594de987e4d8925702cd6e",
       "style": "IPY_MODEL_014cc9119a9844ba9202771812d65cb5",
       "value": " 3750/3750 [00:35&lt;00:00, 111.12it/s]"
      }
     },
     "46e21fe3271d4cba862aa0a7ed5dfb74": {
      "model_module": "@jupyter-widgets/base",
      "model_module_version": "2.0.0",
      "model_name": "LayoutModel",
      "state": {}
     },
     "470218dd9e09417198d4befd3978d3a3": {
      "model_module": "@jupyter-widgets/base",
      "model_module_version": "2.0.0",
      "model_name": "LayoutModel",
      "state": {}
     },
     "4726fc3856134dfeb6964e37ba104103": {
      "model_module": "@jupyter-widgets/controls",
      "model_module_version": "2.0.0",
      "model_name": "HTMLStyleModel",
      "state": {
       "description_width": "",
       "font_size": null,
       "text_color": null
      }
     },
     "4730d120b975428dab9f322b6df5c0e1": {
      "model_module": "@jupyter-widgets/base",
      "model_module_version": "2.0.0",
      "model_name": "LayoutModel",
      "state": {}
     },
     "479b19367aec48769168b3b6d8a6d75b": {
      "model_module": "@jupyter-widgets/controls",
      "model_module_version": "2.0.0",
      "model_name": "HTMLModel",
      "state": {
       "layout": "IPY_MODEL_e3fbcc9994294e86b9be6424876cbdf9",
       "style": "IPY_MODEL_bcf83815d18f4317af21190a669e312f",
       "value": "Training epoch 2:: 100%"
      }
     },
     "47cf8615fb014042ba156c7aa3db071a": {
      "model_module": "@jupyter-widgets/base",
      "model_module_version": "2.0.0",
      "model_name": "LayoutModel",
      "state": {}
     },
     "4866af72f62f4783abb37ac247c480d1": {
      "model_module": "@jupyter-widgets/controls",
      "model_module_version": "2.0.0",
      "model_name": "HTMLStyleModel",
      "state": {
       "description_width": "",
       "font_size": null,
       "text_color": null
      }
     },
     "488da2f5caee48da9bed4d7d88beb334": {
      "model_module": "@jupyter-widgets/base",
      "model_module_version": "2.0.0",
      "model_name": "LayoutModel",
      "state": {}
     },
     "48a732c64a2847c68ff6f5c4e083cf17": {
      "model_module": "@jupyter-widgets/controls",
      "model_module_version": "2.0.0",
      "model_name": "HBoxModel",
      "state": {
       "children": [
        "IPY_MODEL_ef48249f522e4db89ce98d51f4c2ed7a",
        "IPY_MODEL_5e08b04ebeef47d1b70efe13eabfe583",
        "IPY_MODEL_4c1ee46b5edb495387a291cff6031659"
       ],
       "layout": "IPY_MODEL_32e6a1460cd4432394412953b96e6fcd"
      }
     },
     "48e281ffe7d342779680dd825f22d867": {
      "model_module": "@jupyter-widgets/controls",
      "model_module_version": "2.0.0",
      "model_name": "HTMLModel",
      "state": {
       "layout": "IPY_MODEL_2fc9931e4ceb4906b24a6b1a2c0e283b",
       "style": "IPY_MODEL_863ccfd09057444e9f5cef38a64b8b5e",
       "value": " 3750/3750 [00:45&lt;00:00, 81.51it/s]"
      }
     },
     "49713f14aa974997bb80ce2c874bca49": {
      "model_module": "@jupyter-widgets/controls",
      "model_module_version": "2.0.0",
      "model_name": "HTMLStyleModel",
      "state": {
       "description_width": "",
       "font_size": null,
       "text_color": null
      }
     },
     "49e944712c9c4427b9886b5c2556a826": {
      "model_module": "@jupyter-widgets/base",
      "model_module_version": "2.0.0",
      "model_name": "LayoutModel",
      "state": {}
     },
     "4a0b33933df349a48c2bd3d808719741": {
      "model_module": "@jupyter-widgets/controls",
      "model_module_version": "2.0.0",
      "model_name": "ProgressStyleModel",
      "state": {
       "description_width": ""
      }
     },
     "4ad50a20571049f4a4b5acabfb5047cb": {
      "model_module": "@jupyter-widgets/base",
      "model_module_version": "2.0.0",
      "model_name": "LayoutModel",
      "state": {}
     },
     "4b227b88502d4b0c848e281b9389ba81": {
      "model_module": "@jupyter-widgets/base",
      "model_module_version": "2.0.0",
      "model_name": "LayoutModel",
      "state": {}
     },
     "4b94b197027f415fa7ad33b4774accfd": {
      "model_module": "@jupyter-widgets/base",
      "model_module_version": "2.0.0",
      "model_name": "LayoutModel",
      "state": {}
     },
     "4c1ee46b5edb495387a291cff6031659": {
      "model_module": "@jupyter-widgets/controls",
      "model_module_version": "2.0.0",
      "model_name": "HTMLModel",
      "state": {
       "layout": "IPY_MODEL_b02e87ba758c48d2a5e0528ff2c9726d",
       "style": "IPY_MODEL_65c2e53e4c044594ae7e7aaa6da0cd0d",
       "value": " 3750/3750 [00:44&lt;00:00, 86.54it/s]"
      }
     },
     "4c8de72f1d5f437289b52286522b4232": {
      "model_module": "@jupyter-widgets/controls",
      "model_module_version": "2.0.0",
      "model_name": "HBoxModel",
      "state": {
       "children": [
        "IPY_MODEL_bfa1ce9836b54e55bb7d412a5a58b16f",
        "IPY_MODEL_d1bfb4bdd24349a0858dd544290d52e6",
        "IPY_MODEL_142e4a2822ab4e6b9f7860497814934d"
       ],
       "layout": "IPY_MODEL_541ea5f66b6447f185aa5863ebfb991f"
      }
     },
     "4d54ffa1ea3745d5b6e4ecff9d2779ab": {
      "model_module": "@jupyter-widgets/controls",
      "model_module_version": "2.0.0",
      "model_name": "HBoxModel",
      "state": {
       "children": [
        "IPY_MODEL_c13cb6898e6440dc84fe5fb41144a14b",
        "IPY_MODEL_ad70751367a94688b1cdbb0b164db71d",
        "IPY_MODEL_137e5f4c07c440e3898baafc74f39528"
       ],
       "layout": "IPY_MODEL_e30bd5bd64664269b6f70652a0e824a5"
      }
     },
     "4e25afe310954569b14de7e23f274c3f": {
      "model_module": "@jupyter-widgets/base",
      "model_module_version": "2.0.0",
      "model_name": "LayoutModel",
      "state": {}
     },
     "4e472c101e844757ad5df260fc934b03": {
      "model_module": "@jupyter-widgets/controls",
      "model_module_version": "2.0.0",
      "model_name": "HBoxModel",
      "state": {
       "children": [
        "IPY_MODEL_e58cb212d4f04804a8b41697268403ba",
        "IPY_MODEL_e65bff345d544a60a67342643fa90f99",
        "IPY_MODEL_42758cb795114f4ead7d575cabc4fef0"
       ],
       "layout": "IPY_MODEL_0c4eb4d9e3d646e6a2413147dc5ba012"
      }
     },
     "4ef2124820bb40019ab36151e69dc5e6": {
      "model_module": "@jupyter-widgets/controls",
      "model_module_version": "2.0.0",
      "model_name": "FloatProgressModel",
      "state": {
       "bar_style": "success",
       "layout": "IPY_MODEL_61119da08bd74b0ab9aa7d680f84c2ca",
       "max": 3750,
       "style": "IPY_MODEL_d827e72b42c94c2ea11186cb87b06885",
       "value": 3750
      }
     },
     "4f4b73bda0ea42bb828ddaa2c3209853": {
      "model_module": "@jupyter-widgets/base",
      "model_module_version": "2.0.0",
      "model_name": "LayoutModel",
      "state": {}
     },
     "4fdb30f9b1ca44e9bc10f9bb3dc5942a": {
      "model_module": "@jupyter-widgets/base",
      "model_module_version": "2.0.0",
      "model_name": "LayoutModel",
      "state": {}
     },
     "51af787d514846bbb869b88be7a1e94a": {
      "model_module": "@jupyter-widgets/controls",
      "model_module_version": "2.0.0",
      "model_name": "ProgressStyleModel",
      "state": {
       "description_width": ""
      }
     },
     "523d6dbb707d4807891bfd8b256b5071": {
      "model_module": "@jupyter-widgets/controls",
      "model_module_version": "2.0.0",
      "model_name": "HTMLModel",
      "state": {
       "layout": "IPY_MODEL_470218dd9e09417198d4befd3978d3a3",
       "style": "IPY_MODEL_49713f14aa974997bb80ce2c874bca49",
       "value": " 3750/3750 [00:35&lt;00:00, 112.29it/s]"
      }
     },
     "52b03938275949f4884073da725a110d": {
      "model_module": "@jupyter-widgets/controls",
      "model_module_version": "2.0.0",
      "model_name": "FloatProgressModel",
      "state": {
       "bar_style": "success",
       "layout": "IPY_MODEL_0055fe3cd06545e89545cd6db3e016ee",
       "max": 3750,
       "style": "IPY_MODEL_180c2c0d17cc4fed9c185836db559413",
       "value": 3750
      }
     },
     "52bc04981c4c4cd7ad4a63e8d90259a6": {
      "model_module": "@jupyter-widgets/base",
      "model_module_version": "2.0.0",
      "model_name": "LayoutModel",
      "state": {}
     },
     "53023bf75d5d460c8fc3ca76552be3c9": {
      "model_module": "@jupyter-widgets/base",
      "model_module_version": "2.0.0",
      "model_name": "LayoutModel",
      "state": {}
     },
     "531137bbb50a4818a5f0ceea73ee73b0": {
      "model_module": "@jupyter-widgets/controls",
      "model_module_version": "2.0.0",
      "model_name": "HTMLModel",
      "state": {
       "layout": "IPY_MODEL_0e9b2bb76d754d7b8d061a02d54dddbc",
       "style": "IPY_MODEL_5fb909c5423e4c388121265e6746109a",
       "value": " 3750/3750 [00:35&lt;00:00, 113.87it/s]"
      }
     },
     "53f3bc025050454bb431ed796a4df9e0": {
      "model_module": "@jupyter-widgets/controls",
      "model_module_version": "2.0.0",
      "model_name": "FloatProgressModel",
      "state": {
       "bar_style": "success",
       "layout": "IPY_MODEL_facdff4af92048b096fd981f76474be5",
       "max": 3750,
       "style": "IPY_MODEL_26529f79eabd4f07a12862eaddbe902d",
       "value": 3750
      }
     },
     "541ea5f66b6447f185aa5863ebfb991f": {
      "model_module": "@jupyter-widgets/base",
      "model_module_version": "2.0.0",
      "model_name": "LayoutModel",
      "state": {}
     },
     "5692780ed4c34638bf907924ccbb3d7c": {
      "model_module": "@jupyter-widgets/base",
      "model_module_version": "2.0.0",
      "model_name": "LayoutModel",
      "state": {}
     },
     "5697e21394b24ec58a28f54448b6950d": {
      "model_module": "@jupyter-widgets/controls",
      "model_module_version": "2.0.0",
      "model_name": "HTMLModel",
      "state": {
       "layout": "IPY_MODEL_8e6807723e1840b6bfb855d80cfe05a6",
       "style": "IPY_MODEL_8cc52377ef3c4483bde458024a6cedc3",
       "value": "Training epoch 3:: 100%"
      }
     },
     "56a6782d1aa745dcabd0e8c3e27e6563": {
      "model_module": "@jupyter-widgets/controls",
      "model_module_version": "2.0.0",
      "model_name": "HTMLModel",
      "state": {
       "layout": "IPY_MODEL_cd20a73dbc774b0fb97b382ba4b75a92",
       "style": "IPY_MODEL_12d0639b8c7548d18b39d542727c690b",
       "value": "Training epoch 3:: 100%"
      }
     },
     "57aab14ec2a14cfc9bb807c003e49207": {
      "model_module": "@jupyter-widgets/base",
      "model_module_version": "2.0.0",
      "model_name": "LayoutModel",
      "state": {}
     },
     "57ee03e8917f4928a00eeecfb505d6d5": {
      "model_module": "@jupyter-widgets/controls",
      "model_module_version": "2.0.0",
      "model_name": "HTMLStyleModel",
      "state": {
       "description_width": "",
       "font_size": null,
       "text_color": null
      }
     },
     "58beee9e1f594fc694e18b1b8c0a8395": {
      "model_module": "@jupyter-widgets/controls",
      "model_module_version": "2.0.0",
      "model_name": "HTMLStyleModel",
      "state": {
       "description_width": "",
       "font_size": null,
       "text_color": null
      }
     },
     "59760513b1fc417f9ab69b5530545a4f": {
      "model_module": "@jupyter-widgets/base",
      "model_module_version": "2.0.0",
      "model_name": "LayoutModel",
      "state": {}
     },
     "597b75ea301b452d845c0b36fb60fc0e": {
      "model_module": "@jupyter-widgets/base",
      "model_module_version": "2.0.0",
      "model_name": "LayoutModel",
      "state": {}
     },
     "59827386d1124d1fadb221b2184d0d91": {
      "model_module": "@jupyter-widgets/base",
      "model_module_version": "2.0.0",
      "model_name": "LayoutModel",
      "state": {}
     },
     "598f0bf0c1524576ab53b90feb4978fa": {
      "model_module": "@jupyter-widgets/base",
      "model_module_version": "2.0.0",
      "model_name": "LayoutModel",
      "state": {}
     },
     "59ae89b5ff6944c9ba4bf24b207d9333": {
      "model_module": "@jupyter-widgets/base",
      "model_module_version": "2.0.0",
      "model_name": "LayoutModel",
      "state": {}
     },
     "5ad7507a4a964d16876a38f29dccf239": {
      "model_module": "@jupyter-widgets/controls",
      "model_module_version": "2.0.0",
      "model_name": "HTMLModel",
      "state": {
       "layout": "IPY_MODEL_0d4c5b257e104993a90954fb67b68eb5",
       "style": "IPY_MODEL_d5a0e1c0c4c24cadbc7fa9c3cdea1303",
       "value": " 3750/3750 [00:45&lt;00:00, 86.09it/s]"
      }
     },
     "5b6c5c9dcfda428787ebd9e4ddc2046d": {
      "model_module": "@jupyter-widgets/controls",
      "model_module_version": "2.0.0",
      "model_name": "HTMLStyleModel",
      "state": {
       "description_width": "",
       "font_size": null,
       "text_color": null
      }
     },
     "5bf449ab289b437d9f02c78a2767be26": {
      "model_module": "@jupyter-widgets/controls",
      "model_module_version": "2.0.0",
      "model_name": "HTMLModel",
      "state": {
       "layout": "IPY_MODEL_73cc7387368c45a7809f87bd1c12ed20",
       "style": "IPY_MODEL_c12d6137783842e4bf447bd1a88dfa22",
       "value": " 3750/3750 [00:35&lt;00:00, 113.82it/s]"
      }
     },
     "5c4500d8bd514b0091c5c52cb98a1136": {
      "model_module": "@jupyter-widgets/controls",
      "model_module_version": "2.0.0",
      "model_name": "HTMLStyleModel",
      "state": {
       "description_width": "",
       "font_size": null,
       "text_color": null
      }
     },
     "5c4e88e04e55423eaef9ec01ad79297b": {
      "model_module": "@jupyter-widgets/controls",
      "model_module_version": "2.0.0",
      "model_name": "HTMLModel",
      "state": {
       "layout": "IPY_MODEL_b2c55006892d458282c1847cdc99384d",
       "style": "IPY_MODEL_2117674163ba411f9fc830ead95f7bb6",
       "value": "Training epoch 1:: 100%"
      }
     },
     "5c65b3ad531f40e9a7847ea9ba208a34": {
      "model_module": "@jupyter-widgets/controls",
      "model_module_version": "2.0.0",
      "model_name": "HTMLStyleModel",
      "state": {
       "description_width": "",
       "font_size": null,
       "text_color": null
      }
     },
     "5c687c7898bb4d368b52275ed29e99b7": {
      "model_module": "@jupyter-widgets/base",
      "model_module_version": "2.0.0",
      "model_name": "LayoutModel",
      "state": {}
     },
     "5d9ec2c61d4a4440977ad8e65bbca51e": {
      "model_module": "@jupyter-widgets/base",
      "model_module_version": "2.0.0",
      "model_name": "LayoutModel",
      "state": {}
     },
     "5e08b04ebeef47d1b70efe13eabfe583": {
      "model_module": "@jupyter-widgets/controls",
      "model_module_version": "2.0.0",
      "model_name": "FloatProgressModel",
      "state": {
       "bar_style": "success",
       "layout": "IPY_MODEL_8bc814eb04da48a08dffae7288d78d6a",
       "max": 3750,
       "style": "IPY_MODEL_9b75ec6aab8848128d11cf8daf22147d",
       "value": 3750
      }
     },
     "5e80ad8d7567449885ff9f4f9b52a260": {
      "model_module": "@jupyter-widgets/base",
      "model_module_version": "2.0.0",
      "model_name": "LayoutModel",
      "state": {}
     },
     "5ec131a11808490fa92494f0676b48db": {
      "model_module": "@jupyter-widgets/base",
      "model_module_version": "2.0.0",
      "model_name": "LayoutModel",
      "state": {}
     },
     "5ec18c5bd0474f748944a7507d2a7202": {
      "model_module": "@jupyter-widgets/controls",
      "model_module_version": "2.0.0",
      "model_name": "ProgressStyleModel",
      "state": {
       "description_width": ""
      }
     },
     "5ef1e2ee44974006bc4e4d50937ad4e0": {
      "model_module": "@jupyter-widgets/controls",
      "model_module_version": "2.0.0",
      "model_name": "HTMLStyleModel",
      "state": {
       "description_width": "",
       "font_size": null,
       "text_color": null
      }
     },
     "5efd4eb89f8c4191adf053c0d179affa": {
      "model_module": "@jupyter-widgets/controls",
      "model_module_version": "2.0.0",
      "model_name": "ProgressStyleModel",
      "state": {
       "description_width": ""
      }
     },
     "5f393b544d76409b801e8fada2beee23": {
      "model_module": "@jupyter-widgets/controls",
      "model_module_version": "2.0.0",
      "model_name": "HBoxModel",
      "state": {
       "children": [
        "IPY_MODEL_f2c4c9a9799d49359d2c6924e1c4f778",
        "IPY_MODEL_53f3bc025050454bb431ed796a4df9e0",
        "IPY_MODEL_20aee262fa5b47ca9429af3db17ed4ad"
       ],
       "layout": "IPY_MODEL_f31458ee34794d079fd5c0b85ff94d83"
      }
     },
     "5fb909c5423e4c388121265e6746109a": {
      "model_module": "@jupyter-widgets/controls",
      "model_module_version": "2.0.0",
      "model_name": "HTMLStyleModel",
      "state": {
       "description_width": "",
       "font_size": null,
       "text_color": null
      }
     },
     "5ff1631f98884cbab66a4de199df169f": {
      "model_module": "@jupyter-widgets/controls",
      "model_module_version": "2.0.0",
      "model_name": "ProgressStyleModel",
      "state": {
       "description_width": ""
      }
     },
     "5ff33cfcb10f44d1a82ffacc9ee89cd3": {
      "model_module": "@jupyter-widgets/controls",
      "model_module_version": "2.0.0",
      "model_name": "HTMLModel",
      "state": {
       "layout": "IPY_MODEL_bf01121e5be843c39f61678c77ec4974",
       "style": "IPY_MODEL_6dc78b725f1c4828977cfbd884d05135",
       "value": "Training epoch 2:: 100%"
      }
     },
     "60fe312238c54ee798031327612b13d7": {
      "model_module": "@jupyter-widgets/base",
      "model_module_version": "2.0.0",
      "model_name": "LayoutModel",
      "state": {}
     },
     "61119da08bd74b0ab9aa7d680f84c2ca": {
      "model_module": "@jupyter-widgets/base",
      "model_module_version": "2.0.0",
      "model_name": "LayoutModel",
      "state": {}
     },
     "6124e1e0736244cd9a5858d4dc779002": {
      "model_module": "@jupyter-widgets/base",
      "model_module_version": "2.0.0",
      "model_name": "LayoutModel",
      "state": {}
     },
     "61423d6cc7264598ab3a2bea7ea40a11": {
      "model_module": "@jupyter-widgets/controls",
      "model_module_version": "2.0.0",
      "model_name": "HTMLModel",
      "state": {
       "layout": "IPY_MODEL_7c029dfa448942b585f1b09335d1a860",
       "style": "IPY_MODEL_73de6f671747425bb3b0720a1a6d34c7",
       "value": "Training epoch 2:: 100%"
      }
     },
     "6147035e5a94487fb52798f1a7deb7d8": {
      "model_module": "@jupyter-widgets/controls",
      "model_module_version": "2.0.0",
      "model_name": "HTMLStyleModel",
      "state": {
       "description_width": "",
       "font_size": null,
       "text_color": null
      }
     },
     "622a63e76ea84b1bb7337fbe0f660b68": {
      "model_module": "@jupyter-widgets/base",
      "model_module_version": "2.0.0",
      "model_name": "LayoutModel",
      "state": {}
     },
     "63ac8efdf9a64e888ac6b1ffe4b96c5a": {
      "model_module": "@jupyter-widgets/base",
      "model_module_version": "2.0.0",
      "model_name": "LayoutModel",
      "state": {}
     },
     "644f94c8a3564fd692f1911e2e3193ca": {
      "model_module": "@jupyter-widgets/base",
      "model_module_version": "2.0.0",
      "model_name": "LayoutModel",
      "state": {}
     },
     "6503ac298ca449c79173f82b4973dcdb": {
      "model_module": "@jupyter-widgets/controls",
      "model_module_version": "2.0.0",
      "model_name": "HTMLModel",
      "state": {
       "layout": "IPY_MODEL_4b94b197027f415fa7ad33b4774accfd",
       "style": "IPY_MODEL_af83c1a0e4ef49dfa23ef1a64c1a3919",
       "value": "Training epoch 0:: 100%"
      }
     },
     "65616ee39d5c4ca1bfe132a38fb6ef0a": {
      "model_module": "@jupyter-widgets/controls",
      "model_module_version": "2.0.0",
      "model_name": "FloatProgressModel",
      "state": {
       "bar_style": "success",
       "layout": "IPY_MODEL_ac03e23cb163452490323827e6847d7b",
       "max": 3750,
       "style": "IPY_MODEL_151e2c99e9da461487beaac6131cc3ae",
       "value": 3750
      }
     },
     "65c2e53e4c044594ae7e7aaa6da0cd0d": {
      "model_module": "@jupyter-widgets/controls",
      "model_module_version": "2.0.0",
      "model_name": "HTMLStyleModel",
      "state": {
       "description_width": "",
       "font_size": null,
       "text_color": null
      }
     },
     "66fb3dd627604c37878d9d8b76036b86": {
      "model_module": "@jupyter-widgets/controls",
      "model_module_version": "2.0.0",
      "model_name": "HTMLStyleModel",
      "state": {
       "description_width": "",
       "font_size": null,
       "text_color": null
      }
     },
     "6704b4c7b76d499cb254a6095c4404cf": {
      "model_module": "@jupyter-widgets/base",
      "model_module_version": "2.0.0",
      "model_name": "LayoutModel",
      "state": {}
     },
     "671a8e67c7e740d5b479e42c722a1df4": {
      "model_module": "@jupyter-widgets/base",
      "model_module_version": "2.0.0",
      "model_name": "LayoutModel",
      "state": {}
     },
     "67c42173788b4bba809a5d36a8fde12f": {
      "model_module": "@jupyter-widgets/controls",
      "model_module_version": "2.0.0",
      "model_name": "HBoxModel",
      "state": {
       "children": [
        "IPY_MODEL_dc39bbcc35c447a18ac09eb1bcd65549",
        "IPY_MODEL_65616ee39d5c4ca1bfe132a38fb6ef0a",
        "IPY_MODEL_1e7a27c35b6c4273bc73655421d723bf"
       ],
       "layout": "IPY_MODEL_71d226bccf9846ce903a056cbba349f5"
      }
     },
     "6993f2cf05414cea8a01f2bfb54ffe4f": {
      "model_module": "@jupyter-widgets/base",
      "model_module_version": "2.0.0",
      "model_name": "LayoutModel",
      "state": {}
     },
     "69a99543c1664999909f70ba1b08b9ae": {
      "model_module": "@jupyter-widgets/controls",
      "model_module_version": "2.0.0",
      "model_name": "ProgressStyleModel",
      "state": {
       "description_width": ""
      }
     },
     "6a7dc73f6e4e4ad6941b1ab1b187290e": {
      "model_module": "@jupyter-widgets/controls",
      "model_module_version": "2.0.0",
      "model_name": "HBoxModel",
      "state": {
       "children": [
        "IPY_MODEL_0738cccd110e4415be2d4980d4c4b35c",
        "IPY_MODEL_feaf3d65b33a44caa26a11fdb1f94548",
        "IPY_MODEL_939310ba431c418fbfdf8e261287f862"
       ],
       "layout": "IPY_MODEL_dd2af4012cf04eedad7e0e8053c9dccd"
      }
     },
     "6b5d3baabf534d2083bb7e9834baed7e": {
      "model_module": "@jupyter-widgets/controls",
      "model_module_version": "2.0.0",
      "model_name": "HBoxModel",
      "state": {
       "children": [
        "IPY_MODEL_5ff33cfcb10f44d1a82ffacc9ee89cd3",
        "IPY_MODEL_af720461ba004829b03a4d9edb2399f1",
        "IPY_MODEL_e7bb574df175445b9810f3c3ad9fef48"
       ],
       "layout": "IPY_MODEL_6124e1e0736244cd9a5858d4dc779002"
      }
     },
     "6c413b84723b4396b86135f63d2d06d2": {
      "model_module": "@jupyter-widgets/base",
      "model_module_version": "2.0.0",
      "model_name": "LayoutModel",
      "state": {}
     },
     "6cfeb72f7c594de987e4d8925702cd6e": {
      "model_module": "@jupyter-widgets/base",
      "model_module_version": "2.0.0",
      "model_name": "LayoutModel",
      "state": {}
     },
     "6dc78b725f1c4828977cfbd884d05135": {
      "model_module": "@jupyter-widgets/controls",
      "model_module_version": "2.0.0",
      "model_name": "HTMLStyleModel",
      "state": {
       "description_width": "",
       "font_size": null,
       "text_color": null
      }
     },
     "6e6dc68c217c479b826ad541fbe01f74": {
      "model_module": "@jupyter-widgets/controls",
      "model_module_version": "2.0.0",
      "model_name": "FloatProgressModel",
      "state": {
       "bar_style": "success",
       "layout": "IPY_MODEL_b8404a417f50422b8097877f1ff8291d",
       "max": 3750,
       "style": "IPY_MODEL_51af787d514846bbb869b88be7a1e94a",
       "value": 3750
      }
     },
     "6eb582bff20a4e0c808c7afefddad4b3": {
      "model_module": "@jupyter-widgets/base",
      "model_module_version": "2.0.0",
      "model_name": "LayoutModel",
      "state": {}
     },
     "6fc6f2354c1a4128bb3d6d890a1efdcc": {
      "model_module": "@jupyter-widgets/controls",
      "model_module_version": "2.0.0",
      "model_name": "HTMLModel",
      "state": {
       "layout": "IPY_MODEL_4ad50a20571049f4a4b5acabfb5047cb",
       "style": "IPY_MODEL_d7c87ebe131b44a281005db95338167a",
       "value": "Training epoch 4:: 100%"
      }
     },
     "70f29ad9c5214ae9b36f999e65b006be": {
      "model_module": "@jupyter-widgets/controls",
      "model_module_version": "2.0.0",
      "model_name": "FloatProgressModel",
      "state": {
       "bar_style": "success",
       "layout": "IPY_MODEL_aa2bfa4f186344dfb6ded40fe7c9dc95",
       "max": 3750,
       "style": "IPY_MODEL_e57ae94fe4f44c9d8a0850a2e43104b2",
       "value": 3750
      }
     },
     "715783be297c493aad1aa64650326298": {
      "model_module": "@jupyter-widgets/controls",
      "model_module_version": "2.0.0",
      "model_name": "FloatProgressModel",
      "state": {
       "bar_style": "success",
       "layout": "IPY_MODEL_9d5d558d40934c0989e7aa79659f254e",
       "max": 3750,
       "style": "IPY_MODEL_b1efa80f2fd14a23a390bc9d9e46bf42",
       "value": 3750
      }
     },
     "71d226bccf9846ce903a056cbba349f5": {
      "model_module": "@jupyter-widgets/base",
      "model_module_version": "2.0.0",
      "model_name": "LayoutModel",
      "state": {}
     },
     "7245f562784d4c1b9979aa137c1c073c": {
      "model_module": "@jupyter-widgets/controls",
      "model_module_version": "2.0.0",
      "model_name": "ProgressStyleModel",
      "state": {
       "description_width": ""
      }
     },
     "7295ffae17f64704b6bf0bcac98bdeaf": {
      "model_module": "@jupyter-widgets/controls",
      "model_module_version": "2.0.0",
      "model_name": "HBoxModel",
      "state": {
       "children": [
        "IPY_MODEL_b412c995004841e1b6bc00b3079605ac",
        "IPY_MODEL_075778de36c14e41bf58e66aeac12b41",
        "IPY_MODEL_523d6dbb707d4807891bfd8b256b5071"
       ],
       "layout": "IPY_MODEL_a6343462180b4296b14f439b01b62516"
      }
     },
     "7347a56a55834ff19100a46a43217e59": {
      "model_module": "@jupyter-widgets/controls",
      "model_module_version": "2.0.0",
      "model_name": "ProgressStyleModel",
      "state": {
       "description_width": ""
      }
     },
     "73cc7387368c45a7809f87bd1c12ed20": {
      "model_module": "@jupyter-widgets/base",
      "model_module_version": "2.0.0",
      "model_name": "LayoutModel",
      "state": {}
     },
     "73de6f671747425bb3b0720a1a6d34c7": {
      "model_module": "@jupyter-widgets/controls",
      "model_module_version": "2.0.0",
      "model_name": "HTMLStyleModel",
      "state": {
       "description_width": "",
       "font_size": null,
       "text_color": null
      }
     },
     "7488b2bf3a80482d82a5724df9c76b83": {
      "model_module": "@jupyter-widgets/controls",
      "model_module_version": "2.0.0",
      "model_name": "HTMLStyleModel",
      "state": {
       "description_width": "",
       "font_size": null,
       "text_color": null
      }
     },
     "7525c97e0a4b46319387ec44702422cb": {
      "model_module": "@jupyter-widgets/base",
      "model_module_version": "2.0.0",
      "model_name": "LayoutModel",
      "state": {}
     },
     "755e9bea72264ff78a730834639bf48d": {
      "model_module": "@jupyter-widgets/base",
      "model_module_version": "2.0.0",
      "model_name": "LayoutModel",
      "state": {}
     },
     "76183dc0795a45069ac0b0dd9208bc04": {
      "model_module": "@jupyter-widgets/base",
      "model_module_version": "2.0.0",
      "model_name": "LayoutModel",
      "state": {}
     },
     "76439f6289664a2da4dac9ded95811ec": {
      "model_module": "@jupyter-widgets/controls",
      "model_module_version": "2.0.0",
      "model_name": "HBoxModel",
      "state": {
       "children": [
        "IPY_MODEL_2eacf9947b224a7fbc53dec9dc54abaf",
        "IPY_MODEL_fe52ea6bca7f43cf9da08718dfef1d16",
        "IPY_MODEL_7666159b91bd474f8b32e53382ce12b8"
       ],
       "layout": "IPY_MODEL_2a51b800ada64f40a0f78b10c8ffd8ba"
      }
     },
     "7666159b91bd474f8b32e53382ce12b8": {
      "model_module": "@jupyter-widgets/controls",
      "model_module_version": "2.0.0",
      "model_name": "HTMLModel",
      "state": {
       "layout": "IPY_MODEL_644f94c8a3564fd692f1911e2e3193ca",
       "style": "IPY_MODEL_33825129f8114b7ea60e0955ba0e3d8a",
       "value": " 3750/3750 [00:45&lt;00:00, 90.75it/s]"
      }
     },
     "76c0602923834f07b2f5107a1f0a9d7b": {
      "model_module": "@jupyter-widgets/controls",
      "model_module_version": "2.0.0",
      "model_name": "HTMLStyleModel",
      "state": {
       "description_width": "",
       "font_size": null,
       "text_color": null
      }
     },
     "771f51d588554c00b459b380db44af23": {
      "model_module": "@jupyter-widgets/controls",
      "model_module_version": "2.0.0",
      "model_name": "HTMLModel",
      "state": {
       "layout": "IPY_MODEL_17f53445c6e247b88d41e08c69f9245f",
       "style": "IPY_MODEL_fc120651f8144828a9ba06350050fcc6",
       "value": " 3750/3750 [00:44&lt;00:00, 87.77it/s]"
      }
     },
     "7760731eb0a44ee99dc53b7ebce2075f": {
      "model_module": "@jupyter-widgets/controls",
      "model_module_version": "2.0.0",
      "model_name": "FloatProgressModel",
      "state": {
       "bar_style": "success",
       "layout": "IPY_MODEL_1b256fd8d7e646fcb320c81dbb8e6f38",
       "max": 3750,
       "style": "IPY_MODEL_69a99543c1664999909f70ba1b08b9ae",
       "value": 3750
      }
     },
     "77a23d1adcb947ff8c73f41a72cb4127": {
      "model_module": "@jupyter-widgets/controls",
      "model_module_version": "2.0.0",
      "model_name": "HBoxModel",
      "state": {
       "children": [
        "IPY_MODEL_160b4208b74d40dcbb8d3644d3c55118",
        "IPY_MODEL_292db9b5d42041f98f9f22591d511004",
        "IPY_MODEL_f177e144378245ba917b8b107f03024d"
       ],
       "layout": "IPY_MODEL_f68098b3de8948fab3083a5d83524707"
      }
     },
     "791f619a44d7413d8c564bdda7113397": {
      "model_module": "@jupyter-widgets/base",
      "model_module_version": "2.0.0",
      "model_name": "LayoutModel",
      "state": {}
     },
     "7aa241899c314a48b55f976099b02266": {
      "model_module": "@jupyter-widgets/base",
      "model_module_version": "2.0.0",
      "model_name": "LayoutModel",
      "state": {}
     },
     "7c029dfa448942b585f1b09335d1a860": {
      "model_module": "@jupyter-widgets/base",
      "model_module_version": "2.0.0",
      "model_name": "LayoutModel",
      "state": {}
     },
     "7c4a47c495fe445689ac5b903c53534f": {
      "model_module": "@jupyter-widgets/controls",
      "model_module_version": "2.0.0",
      "model_name": "HTMLStyleModel",
      "state": {
       "description_width": "",
       "font_size": null,
       "text_color": null
      }
     },
     "7cabcc504df04125bde0b8114ce1b603": {
      "model_module": "@jupyter-widgets/controls",
      "model_module_version": "2.0.0",
      "model_name": "HBoxModel",
      "state": {
       "children": [
        "IPY_MODEL_56a6782d1aa745dcabd0e8c3e27e6563",
        "IPY_MODEL_9438df647f1e4f6486101e95eb27c781",
        "IPY_MODEL_aa6f1b30aa514edd8099346908a473f2"
       ],
       "layout": "IPY_MODEL_bebb0216460a4fc39627fbb91bc29d99"
      }
     },
     "7df32602429844c2a9619108b3ebc79f": {
      "model_module": "@jupyter-widgets/controls",
      "model_module_version": "2.0.0",
      "model_name": "HTMLModel",
      "state": {
       "layout": "IPY_MODEL_c6dc9cf816f74afb91a54b7b5cf5e5c4",
       "style": "IPY_MODEL_f5553d3a177f4be4aa0f51452c314cbc",
       "value": "Training epoch 1:: 100%"
      }
     },
     "8130f10f39854fd2996cca2834144510": {
      "model_module": "@jupyter-widgets/controls",
      "model_module_version": "2.0.0",
      "model_name": "HTMLStyleModel",
      "state": {
       "description_width": "",
       "font_size": null,
       "text_color": null
      }
     },
     "819e9163c5514dc999ef63576bde1e7b": {
      "model_module": "@jupyter-widgets/controls",
      "model_module_version": "2.0.0",
      "model_name": "HTMLStyleModel",
      "state": {
       "description_width": "",
       "font_size": null,
       "text_color": null
      }
     },
     "81d2c7d965ac4502a9848e83f4484cb5": {
      "model_module": "@jupyter-widgets/controls",
      "model_module_version": "2.0.0",
      "model_name": "FloatProgressModel",
      "state": {
       "bar_style": "success",
       "layout": "IPY_MODEL_0b2036304b8e4e14812143535fdb30c5",
       "max": 3750,
       "style": "IPY_MODEL_e55c7716b8f047468fd79deb538bc1cb",
       "value": 3750
      }
     },
     "825e4e51a36f485d867b00195896d3ef": {
      "model_module": "@jupyter-widgets/base",
      "model_module_version": "2.0.0",
      "model_name": "LayoutModel",
      "state": {}
     },
     "82932d7c432e4b25908f33cb611148c6": {
      "model_module": "@jupyter-widgets/base",
      "model_module_version": "2.0.0",
      "model_name": "LayoutModel",
      "state": {}
     },
     "83598376d0154b27b1844bda0fc3250f": {
      "model_module": "@jupyter-widgets/controls",
      "model_module_version": "2.0.0",
      "model_name": "HTMLModel",
      "state": {
       "layout": "IPY_MODEL_4730d120b975428dab9f322b6df5c0e1",
       "style": "IPY_MODEL_dcce17f669764244b097d4e4e78f8aa8",
       "value": "100%"
      }
     },
     "835c53cc1d564cd7a7b839f2363c61d8": {
      "model_module": "@jupyter-widgets/base",
      "model_module_version": "2.0.0",
      "model_name": "LayoutModel",
      "state": {}
     },
     "84f0a9bd7aa342f490ebd1a921cf704a": {
      "model_module": "@jupyter-widgets/controls",
      "model_module_version": "2.0.0",
      "model_name": "HBoxModel",
      "state": {
       "children": [
        "IPY_MODEL_1d1c9731287440f6a24c46d1eb2ba781",
        "IPY_MODEL_70f29ad9c5214ae9b36f999e65b006be",
        "IPY_MODEL_771f51d588554c00b459b380db44af23"
       ],
       "layout": "IPY_MODEL_8ff468f167924dd6ae0f60ee0cf94e59"
      }
     },
     "8545dec9404a406197560129f7f439d9": {
      "model_module": "@jupyter-widgets/controls",
      "model_module_version": "2.0.0",
      "model_name": "FloatProgressModel",
      "state": {
       "bar_style": "success",
       "layout": "IPY_MODEL_42e609b878154ea28aee12168f5acf49",
       "max": 3750,
       "style": "IPY_MODEL_5ec18c5bd0474f748944a7507d2a7202",
       "value": 3750
      }
     },
     "85fa99920d424cde9c38b9ac053c03e8": {
      "model_module": "@jupyter-widgets/base",
      "model_module_version": "2.0.0",
      "model_name": "LayoutModel",
      "state": {}
     },
     "863ccfd09057444e9f5cef38a64b8b5e": {
      "model_module": "@jupyter-widgets/controls",
      "model_module_version": "2.0.0",
      "model_name": "HTMLStyleModel",
      "state": {
       "description_width": "",
       "font_size": null,
       "text_color": null
      }
     },
     "8658d24ac79c4c25b2317f4a52fda53d": {
      "model_module": "@jupyter-widgets/controls",
      "model_module_version": "2.0.0",
      "model_name": "HTMLStyleModel",
      "state": {
       "description_width": "",
       "font_size": null,
       "text_color": null
      }
     },
     "87742d5a335d498db271fe7393561c8f": {
      "model_module": "@jupyter-widgets/controls",
      "model_module_version": "2.0.0",
      "model_name": "HTMLModel",
      "state": {
       "layout": "IPY_MODEL_38ccf222c76943498b8a895ce1a29c4d",
       "style": "IPY_MODEL_5c65b3ad531f40e9a7847ea9ba208a34",
       "value": " 3750/3750 [00:34&lt;00:00, 112.62it/s]"
      }
     },
     "886f7c69c23443bb9022beced1b0c01c": {
      "model_module": "@jupyter-widgets/controls",
      "model_module_version": "2.0.0",
      "model_name": "HBoxModel",
      "state": {
       "children": [
        "IPY_MODEL_5697e21394b24ec58a28f54448b6950d",
        "IPY_MODEL_feea486e64d64c4c9a3f4b16e6c402a9",
        "IPY_MODEL_5bf449ab289b437d9f02c78a2767be26"
       ],
       "layout": "IPY_MODEL_755e9bea72264ff78a730834639bf48d"
      }
     },
     "888b9ee3d29f44fcaf19e3383b207318": {
      "model_module": "@jupyter-widgets/controls",
      "model_module_version": "2.0.0",
      "model_name": "HTMLModel",
      "state": {
       "layout": "IPY_MODEL_172689cd362c4174b7304e5034e7fd43",
       "style": "IPY_MODEL_9691a065061146efb3ab5863420fc9cd",
       "value": "Training epoch 3:: 100%"
      }
     },
     "890a5af39bdb4190817242ce91b0e3c4": {
      "model_module": "@jupyter-widgets/controls",
      "model_module_version": "2.0.0",
      "model_name": "HTMLStyleModel",
      "state": {
       "description_width": "",
       "font_size": null,
       "text_color": null
      }
     },
     "8b8e8ecffa6f41719ba7b58cdca19f38": {
      "model_module": "@jupyter-widgets/base",
      "model_module_version": "2.0.0",
      "model_name": "LayoutModel",
      "state": {}
     },
     "8bc814eb04da48a08dffae7288d78d6a": {
      "model_module": "@jupyter-widgets/base",
      "model_module_version": "2.0.0",
      "model_name": "LayoutModel",
      "state": {}
     },
     "8bcd8c917ae34cc799481a81b78eca06": {
      "model_module": "@jupyter-widgets/controls",
      "model_module_version": "2.0.0",
      "model_name": "HTMLStyleModel",
      "state": {
       "description_width": "",
       "font_size": null,
       "text_color": null
      }
     },
     "8cc52377ef3c4483bde458024a6cedc3": {
      "model_module": "@jupyter-widgets/controls",
      "model_module_version": "2.0.0",
      "model_name": "HTMLStyleModel",
      "state": {
       "description_width": "",
       "font_size": null,
       "text_color": null
      }
     },
     "8cd9d3bde49c43e282b5893cb159bbca": {
      "model_module": "@jupyter-widgets/base",
      "model_module_version": "2.0.0",
      "model_name": "LayoutModel",
      "state": {}
     },
     "8d5dca3c847645bd9ffecdcc5194cd5d": {
      "model_module": "@jupyter-widgets/controls",
      "model_module_version": "2.0.0",
      "model_name": "FloatProgressModel",
      "state": {
       "bar_style": "success",
       "layout": "IPY_MODEL_c7cf1ad00f674aa9a7e2f0b85a1e6b02",
       "max": 3750,
       "style": "IPY_MODEL_2f9453b9e2a245ab95efc748f436f673",
       "value": 3750
      }
     },
     "8e6807723e1840b6bfb855d80cfe05a6": {
      "model_module": "@jupyter-widgets/base",
      "model_module_version": "2.0.0",
      "model_name": "LayoutModel",
      "state": {}
     },
     "8e73f41ec05547f3b33aee86e1170612": {
      "model_module": "@jupyter-widgets/base",
      "model_module_version": "2.0.0",
      "model_name": "LayoutModel",
      "state": {}
     },
     "8e8b113534114e499a51a441a151fbd0": {
      "model_module": "@jupyter-widgets/controls",
      "model_module_version": "2.0.0",
      "model_name": "FloatProgressModel",
      "state": {
       "bar_style": "success",
       "layout": "IPY_MODEL_fe2fb6d59672481d89e226b6452da190",
       "max": 3750,
       "style": "IPY_MODEL_4a0b33933df349a48c2bd3d808719741",
       "value": 3750
      }
     },
     "8ff468f167924dd6ae0f60ee0cf94e59": {
      "model_module": "@jupyter-widgets/base",
      "model_module_version": "2.0.0",
      "model_name": "LayoutModel",
      "state": {}
     },
     "907a690636a1482ba0594dfbe178e905": {
      "model_module": "@jupyter-widgets/controls",
      "model_module_version": "2.0.0",
      "model_name": "ProgressStyleModel",
      "state": {
       "description_width": ""
      }
     },
     "9333b5c2567342c3b6eba16c675f1ae4": {
      "model_module": "@jupyter-widgets/controls",
      "model_module_version": "2.0.0",
      "model_name": "HBoxModel",
      "state": {
       "children": [
        "IPY_MODEL_f4bbfa8162e64cf4b1d6dea704c2c4dd",
        "IPY_MODEL_a42c14e700b342f3826aff7a5f6affca",
        "IPY_MODEL_fa8a855768364679b49cff7fea9cefb4"
       ],
       "layout": "IPY_MODEL_fa6b011225bc49059d9838542cec93c7"
      }
     },
     "939310ba431c418fbfdf8e261287f862": {
      "model_module": "@jupyter-widgets/controls",
      "model_module_version": "2.0.0",
      "model_name": "HTMLModel",
      "state": {
       "layout": "IPY_MODEL_76183dc0795a45069ac0b0dd9208bc04",
       "style": "IPY_MODEL_1ede789d1f904ac6b990fc3ba6ca5e18",
       "value": " 3750/3750 [00:44&lt;00:00, 87.02it/s]"
      }
     },
     "9438df647f1e4f6486101e95eb27c781": {
      "model_module": "@jupyter-widgets/controls",
      "model_module_version": "2.0.0",
      "model_name": "FloatProgressModel",
      "state": {
       "bar_style": "success",
       "layout": "IPY_MODEL_100b0d089a6f412cae09e08c4a34c1c1",
       "max": 3750,
       "style": "IPY_MODEL_2fc5015e9ee34e3ab58be6fbc228c6df",
       "value": 3750
      }
     },
     "947c4ef0939d442ca2db5d8fd0085fce": {
      "model_module": "@jupyter-widgets/controls",
      "model_module_version": "2.0.0",
      "model_name": "FloatProgressModel",
      "state": {
       "bar_style": "success",
       "layout": "IPY_MODEL_aa44beac273a4da1b33ca0fd77b0ccff",
       "max": 3750,
       "style": "IPY_MODEL_a373d0feb187499fbf19cb1695d9187d",
       "value": 3750
      }
     },
     "94cc955916244339b7232265a863ce95": {
      "model_module": "@jupyter-widgets/controls",
      "model_module_version": "2.0.0",
      "model_name": "HTMLModel",
      "state": {
       "layout": "IPY_MODEL_0ab1706203ba4bf9aefefbd8e6d0f13f",
       "style": "IPY_MODEL_9738a89bdfcd4b25ad5aff798da419ed",
       "value": "Training epoch 0:: 100%"
      }
     },
     "965e73a9f1bf4b4c8446d41ccc06f71e": {
      "model_module": "@jupyter-widgets/base",
      "model_module_version": "2.0.0",
      "model_name": "LayoutModel",
      "state": {}
     },
     "9691a065061146efb3ab5863420fc9cd": {
      "model_module": "@jupyter-widgets/controls",
      "model_module_version": "2.0.0",
      "model_name": "HTMLStyleModel",
      "state": {
       "description_width": "",
       "font_size": null,
       "text_color": null
      }
     },
     "9738a89bdfcd4b25ad5aff798da419ed": {
      "model_module": "@jupyter-widgets/controls",
      "model_module_version": "2.0.0",
      "model_name": "HTMLStyleModel",
      "state": {
       "description_width": "",
       "font_size": null,
       "text_color": null
      }
     },
     "981677bba9ec48b5bfbe73ceef798860": {
      "model_module": "@jupyter-widgets/base",
      "model_module_version": "2.0.0",
      "model_name": "LayoutModel",
      "state": {}
     },
     "995fcfb8b14448d6b1169e13a3ed3daa": {
      "model_module": "@jupyter-widgets/controls",
      "model_module_version": "2.0.0",
      "model_name": "HTMLStyleModel",
      "state": {
       "description_width": "",
       "font_size": null,
       "text_color": null
      }
     },
     "9b203a159b3f4309850a04ff989e09f7": {
      "model_module": "@jupyter-widgets/controls",
      "model_module_version": "2.0.0",
      "model_name": "FloatProgressModel",
      "state": {
       "bar_style": "success",
       "layout": "IPY_MODEL_49e944712c9c4427b9886b5c2556a826",
       "max": 3750,
       "style": "IPY_MODEL_7347a56a55834ff19100a46a43217e59",
       "value": 3750
      }
     },
     "9b75ec6aab8848128d11cf8daf22147d": {
      "model_module": "@jupyter-widgets/controls",
      "model_module_version": "2.0.0",
      "model_name": "ProgressStyleModel",
      "state": {
       "description_width": ""
      }
     },
     "9bbfd4a6cf82451fb2742ff0db7a683b": {
      "model_module": "@jupyter-widgets/controls",
      "model_module_version": "2.0.0",
      "model_name": "HTMLStyleModel",
      "state": {
       "description_width": "",
       "font_size": null,
       "text_color": null
      }
     },
     "9d5d558d40934c0989e7aa79659f254e": {
      "model_module": "@jupyter-widgets/base",
      "model_module_version": "2.0.0",
      "model_name": "LayoutModel",
      "state": {}
     },
     "9eec2e82363e4e9da26af005f0ec75d2": {
      "model_module": "@jupyter-widgets/controls",
      "model_module_version": "2.0.0",
      "model_name": "HBoxModel",
      "state": {
       "children": [
        "IPY_MODEL_a2fc8d9182da442bb11ac1cf325d53fb",
        "IPY_MODEL_8e8b113534114e499a51a441a151fbd0",
        "IPY_MODEL_b689640597934f27938eab2677e8a5ef"
       ],
       "layout": "IPY_MODEL_46e21fe3271d4cba862aa0a7ed5dfb74"
      }
     },
     "9fc771b09f31449e858ecb1cfb25b341": {
      "model_module": "@jupyter-widgets/base",
      "model_module_version": "2.0.0",
      "model_name": "LayoutModel",
      "state": {}
     },
     "a0d8fde36e0846309c0c83246700118b": {
      "model_module": "@jupyter-widgets/controls",
      "model_module_version": "2.0.0",
      "model_name": "HTMLModel",
      "state": {
       "layout": "IPY_MODEL_a6a6039ec12f42caa28efbe6c285c6d9",
       "style": "IPY_MODEL_e35de2e4658c41fca7b1329982597563",
       "value": " 3750/3750 [00:45&lt;00:00, 91.82it/s]"
      }
     },
     "a17746cac3e04337962055c7b6fed22f": {
      "model_module": "@jupyter-widgets/base",
      "model_module_version": "2.0.0",
      "model_name": "LayoutModel",
      "state": {}
     },
     "a1781c756e1a421691ad12dbcb27add4": {
      "model_module": "@jupyter-widgets/base",
      "model_module_version": "2.0.0",
      "model_name": "LayoutModel",
      "state": {}
     },
     "a213df00d17d407d8c1aac4915126dd7": {
      "model_module": "@jupyter-widgets/base",
      "model_module_version": "2.0.0",
      "model_name": "LayoutModel",
      "state": {}
     },
     "a2fc8d9182da442bb11ac1cf325d53fb": {
      "model_module": "@jupyter-widgets/controls",
      "model_module_version": "2.0.0",
      "model_name": "HTMLModel",
      "state": {
       "layout": "IPY_MODEL_2480e1eafec54aa2b3c19182654af012",
       "style": "IPY_MODEL_1eb0e712a3d74b68a25e363dcb0168cb",
       "value": "Training epoch 2:: 100%"
      }
     },
     "a373d0feb187499fbf19cb1695d9187d": {
      "model_module": "@jupyter-widgets/controls",
      "model_module_version": "2.0.0",
      "model_name": "ProgressStyleModel",
      "state": {
       "description_width": ""
      }
     },
     "a422910feddb4cb88baa700a3094c946": {
      "model_module": "@jupyter-widgets/controls",
      "model_module_version": "2.0.0",
      "model_name": "ProgressStyleModel",
      "state": {
       "description_width": ""
      }
     },
     "a42c14e700b342f3826aff7a5f6affca": {
      "model_module": "@jupyter-widgets/controls",
      "model_module_version": "2.0.0",
      "model_name": "FloatProgressModel",
      "state": {
       "bar_style": "success",
       "layout": "IPY_MODEL_f5081c0762a643c7bbe9bb2493551469",
       "max": 3750,
       "style": "IPY_MODEL_0694553be16a4cf48a414f86e57871ed",
       "value": 3750
      }
     },
     "a6343462180b4296b14f439b01b62516": {
      "model_module": "@jupyter-widgets/base",
      "model_module_version": "2.0.0",
      "model_name": "LayoutModel",
      "state": {}
     },
     "a6a6039ec12f42caa28efbe6c285c6d9": {
      "model_module": "@jupyter-widgets/base",
      "model_module_version": "2.0.0",
      "model_name": "LayoutModel",
      "state": {}
     },
     "a7cd6f133ee644d0aee3657012c05e2f": {
      "model_module": "@jupyter-widgets/controls",
      "model_module_version": "2.0.0",
      "model_name": "HBoxModel",
      "state": {
       "children": [
        "IPY_MODEL_ae0b8dabde1b4c1f9eb545a9535841be",
        "IPY_MODEL_2fb5f3f665a744a2a38658887e0bdb7c",
        "IPY_MODEL_b23eb642e86d4b7f9416222e8d89636c"
       ],
       "layout": "IPY_MODEL_ebcb43dd685748f4831f56c632f344df"
      }
     },
     "a826f766c71d4d99926ea7c6b4c4fbb7": {
      "model_module": "@jupyter-widgets/base",
      "model_module_version": "2.0.0",
      "model_name": "LayoutModel",
      "state": {}
     },
     "a8534698e2f042ab935cfb7ef7bc7c1f": {
      "model_module": "@jupyter-widgets/controls",
      "model_module_version": "2.0.0",
      "model_name": "HTMLModel",
      "state": {
       "layout": "IPY_MODEL_ed4c7d622b1f42a39e9bcd12e18d6506",
       "style": "IPY_MODEL_aa1e3d1e82e547f4a2b903981a83c6b7",
       "value": " 3750/3750 [00:34&lt;00:00, 111.97it/s]"
      }
     },
     "a975e6d0567f4ed2b10aa8365514fa87": {
      "model_module": "@jupyter-widgets/controls",
      "model_module_version": "2.0.0",
      "model_name": "HBoxModel",
      "state": {
       "children": [
        "IPY_MODEL_83598376d0154b27b1844bda0fc3250f",
        "IPY_MODEL_ec391b2f7f8443c8935be416d51c4fe5",
        "IPY_MODEL_39ebfd1c6d7e4a6cb289e4a9406592e8"
       ],
       "layout": "IPY_MODEL_eefc1bfe78e84f4291c9181612b209fd"
      }
     },
     "a9e3aca1979948da8e2dc3e6c11dfbab": {
      "model_module": "@jupyter-widgets/controls",
      "model_module_version": "2.0.0",
      "model_name": "HBoxModel",
      "state": {
       "children": [
        "IPY_MODEL_1cb9585e09b444ecba311f7ca1c69117",
        "IPY_MODEL_52b03938275949f4884073da725a110d",
        "IPY_MODEL_0d582bbfd2b540959ebbca45f74085b5"
       ],
       "layout": "IPY_MODEL_c364234d8d224ad1a8f42814b17b5763"
      }
     },
     "aa1e3d1e82e547f4a2b903981a83c6b7": {
      "model_module": "@jupyter-widgets/controls",
      "model_module_version": "2.0.0",
      "model_name": "HTMLStyleModel",
      "state": {
       "description_width": "",
       "font_size": null,
       "text_color": null
      }
     },
     "aa2bfa4f186344dfb6ded40fe7c9dc95": {
      "model_module": "@jupyter-widgets/base",
      "model_module_version": "2.0.0",
      "model_name": "LayoutModel",
      "state": {}
     },
     "aa44beac273a4da1b33ca0fd77b0ccff": {
      "model_module": "@jupyter-widgets/base",
      "model_module_version": "2.0.0",
      "model_name": "LayoutModel",
      "state": {}
     },
     "aa6f1b30aa514edd8099346908a473f2": {
      "model_module": "@jupyter-widgets/controls",
      "model_module_version": "2.0.0",
      "model_name": "HTMLModel",
      "state": {
       "layout": "IPY_MODEL_a1781c756e1a421691ad12dbcb27add4",
       "style": "IPY_MODEL_0e09ab5403ea405c89078480a90362e6",
       "value": " 3750/3750 [00:35&lt;00:00, 109.36it/s]"
      }
     },
     "aaad2d2b2812447fbfeac97618d289bd": {
      "model_module": "@jupyter-widgets/controls",
      "model_module_version": "2.0.0",
      "model_name": "HTMLStyleModel",
      "state": {
       "description_width": "",
       "font_size": null,
       "text_color": null
      }
     },
     "ab2a3bfe62c445d6b5f8aa7a51d8bafc": {
      "model_module": "@jupyter-widgets/controls",
      "model_module_version": "2.0.0",
      "model_name": "HBoxModel",
      "state": {
       "children": [
        "IPY_MODEL_fee60eba67b644cb964a2c41fa737d46",
        "IPY_MODEL_9b203a159b3f4309850a04ff989e09f7",
        "IPY_MODEL_48e281ffe7d342779680dd825f22d867"
       ],
       "layout": "IPY_MODEL_671a8e67c7e740d5b479e42c722a1df4"
      }
     },
     "ac03e23cb163452490323827e6847d7b": {
      "model_module": "@jupyter-widgets/base",
      "model_module_version": "2.0.0",
      "model_name": "LayoutModel",
      "state": {}
     },
     "ac28437b66e447659ac1a38d6086dd1a": {
      "model_module": "@jupyter-widgets/controls",
      "model_module_version": "2.0.0",
      "model_name": "HTMLStyleModel",
      "state": {
       "description_width": "",
       "font_size": null,
       "text_color": null
      }
     },
     "ac44608c19764792a53888cd314b18be": {
      "model_module": "@jupyter-widgets/base",
      "model_module_version": "2.0.0",
      "model_name": "LayoutModel",
      "state": {}
     },
     "acd24b0edad34ce7a04a4cf69c1e7b53": {
      "model_module": "@jupyter-widgets/controls",
      "model_module_version": "2.0.0",
      "model_name": "ProgressStyleModel",
      "state": {
       "description_width": ""
      }
     },
     "ad67a6d52ba54e03909fd6214fe8c6e4": {
      "model_module": "@jupyter-widgets/controls",
      "model_module_version": "2.0.0",
      "model_name": "HTMLStyleModel",
      "state": {
       "description_width": "",
       "font_size": null,
       "text_color": null
      }
     },
     "ad70751367a94688b1cdbb0b164db71d": {
      "model_module": "@jupyter-widgets/controls",
      "model_module_version": "2.0.0",
      "model_name": "FloatProgressModel",
      "state": {
       "bar_style": "success",
       "layout": "IPY_MODEL_ebad0a11f0b046af9c9ee96a73b22270",
       "max": 3750,
       "style": "IPY_MODEL_356816aa63444c7c9185bff4c4b26afb",
       "value": 3750
      }
     },
     "ae0b8dabde1b4c1f9eb545a9535841be": {
      "model_module": "@jupyter-widgets/controls",
      "model_module_version": "2.0.0",
      "model_name": "HTMLModel",
      "state": {
       "layout": "IPY_MODEL_140c30751a5e43fb80055829a8488e2e",
       "style": "IPY_MODEL_c429b56ca7cc482e8b4604200aae2c67",
       "value": "Training epoch 1:: 100%"
      }
     },
     "af695662348b407e8ebf6bbe3d2f4c3c": {
      "model_module": "@jupyter-widgets/base",
      "model_module_version": "2.0.0",
      "model_name": "LayoutModel",
      "state": {}
     },
     "af720461ba004829b03a4d9edb2399f1": {
      "model_module": "@jupyter-widgets/controls",
      "model_module_version": "2.0.0",
      "model_name": "FloatProgressModel",
      "state": {
       "bar_style": "success",
       "layout": "IPY_MODEL_f73105f64a6b47f6af0375afed82af72",
       "max": 3750,
       "style": "IPY_MODEL_2ed95168f94d4bb3a89a13b51afc06f9",
       "value": 3750
      }
     },
     "af83c1a0e4ef49dfa23ef1a64c1a3919": {
      "model_module": "@jupyter-widgets/controls",
      "model_module_version": "2.0.0",
      "model_name": "HTMLStyleModel",
      "state": {
       "description_width": "",
       "font_size": null,
       "text_color": null
      }
     },
     "b02e87ba758c48d2a5e0528ff2c9726d": {
      "model_module": "@jupyter-widgets/base",
      "model_module_version": "2.0.0",
      "model_name": "LayoutModel",
      "state": {}
     },
     "b0c339f1fc704b4584a4d0e9e560af22": {
      "model_module": "@jupyter-widgets/base",
      "model_module_version": "2.0.0",
      "model_name": "LayoutModel",
      "state": {}
     },
     "b1613244139a4560b0c6e421bc68fa40": {
      "model_module": "@jupyter-widgets/base",
      "model_module_version": "2.0.0",
      "model_name": "LayoutModel",
      "state": {}
     },
     "b1a5e3ab5b35416bac2913f57adcaf45": {
      "model_module": "@jupyter-widgets/base",
      "model_module_version": "2.0.0",
      "model_name": "LayoutModel",
      "state": {}
     },
     "b1ed1710a7a9476db3343d6d180c0674": {
      "model_module": "@jupyter-widgets/controls",
      "model_module_version": "2.0.0",
      "model_name": "HTMLStyleModel",
      "state": {
       "description_width": "",
       "font_size": null,
       "text_color": null
      }
     },
     "b1efa80f2fd14a23a390bc9d9e46bf42": {
      "model_module": "@jupyter-widgets/controls",
      "model_module_version": "2.0.0",
      "model_name": "ProgressStyleModel",
      "state": {
       "description_width": ""
      }
     },
     "b2292161805e48ebaa90c631a89553f3": {
      "model_module": "@jupyter-widgets/controls",
      "model_module_version": "2.0.0",
      "model_name": "FloatProgressModel",
      "state": {
       "bar_style": "success",
       "layout": "IPY_MODEL_0784fa7425804f439a7d44097f6452ce",
       "max": 3750,
       "style": "IPY_MODEL_e19be90d3c7e4ebd80cd9c5f99cd3cad",
       "value": 3750
      }
     },
     "b23eb642e86d4b7f9416222e8d89636c": {
      "model_module": "@jupyter-widgets/controls",
      "model_module_version": "2.0.0",
      "model_name": "HTMLModel",
      "state": {
       "layout": "IPY_MODEL_a826f766c71d4d99926ea7c6b4c4fbb7",
       "style": "IPY_MODEL_0ed323d724ba49f2b3eb823bc1bb32e0",
       "value": " 3750/3750 [00:45&lt;00:00, 88.56it/s]"
      }
     },
     "b2c55006892d458282c1847cdc99384d": {
      "model_module": "@jupyter-widgets/base",
      "model_module_version": "2.0.0",
      "model_name": "LayoutModel",
      "state": {}
     },
     "b3227d3e63f543de918a39f88c93eb2b": {
      "model_module": "@jupyter-widgets/base",
      "model_module_version": "2.0.0",
      "model_name": "LayoutModel",
      "state": {}
     },
     "b3a55085d8db4a298bb09f170b794499": {
      "model_module": "@jupyter-widgets/controls",
      "model_module_version": "2.0.0",
      "model_name": "HTMLStyleModel",
      "state": {
       "description_width": "",
       "font_size": null,
       "text_color": null
      }
     },
     "b412c995004841e1b6bc00b3079605ac": {
      "model_module": "@jupyter-widgets/controls",
      "model_module_version": "2.0.0",
      "model_name": "HTMLModel",
      "state": {
       "layout": "IPY_MODEL_53023bf75d5d460c8fc3ca76552be3c9",
       "style": "IPY_MODEL_d3e3c306d11445f88f2be6791a07cde3",
       "value": "Training epoch 1:: 100%"
      }
     },
     "b5100fc1f2e34156a824d2c276c1ae5c": {
      "model_module": "@jupyter-widgets/controls",
      "model_module_version": "2.0.0",
      "model_name": "HTMLModel",
      "state": {
       "layout": "IPY_MODEL_ea8a91ef74624a72ae814f39292b85b1",
       "style": "IPY_MODEL_0eff27ef33b343cdaac3504ec5cd8379",
       "value": " 3750/3750 [00:35&lt;00:00, 112.92it/s]"
      }
     },
     "b54d177700a04d6f81e736ccd2c9c5e0": {
      "model_module": "@jupyter-widgets/base",
      "model_module_version": "2.0.0",
      "model_name": "LayoutModel",
      "state": {}
     },
     "b57ca1c1b06e436fbcde4a56b4cd6881": {
      "model_module": "@jupyter-widgets/controls",
      "model_module_version": "2.0.0",
      "model_name": "ProgressStyleModel",
      "state": {
       "description_width": ""
      }
     },
     "b689640597934f27938eab2677e8a5ef": {
      "model_module": "@jupyter-widgets/controls",
      "model_module_version": "2.0.0",
      "model_name": "HTMLModel",
      "state": {
       "layout": "IPY_MODEL_4b227b88502d4b0c848e281b9389ba81",
       "style": "IPY_MODEL_819e9163c5514dc999ef63576bde1e7b",
       "value": " 3750/3750 [00:35&lt;00:00, 112.17it/s]"
      }
     },
     "b80750a040bc43fb97cb3e4d91bc8809": {
      "model_module": "@jupyter-widgets/controls",
      "model_module_version": "2.0.0",
      "model_name": "HBoxModel",
      "state": {
       "children": [
        "IPY_MODEL_0e696eb7ac86412eb4447a89fda9e875",
        "IPY_MODEL_33ab7f0fa193495eb283e6a623120f77",
        "IPY_MODEL_b5100fc1f2e34156a824d2c276c1ae5c"
       ],
       "layout": "IPY_MODEL_598f0bf0c1524576ab53b90feb4978fa"
      }
     },
     "b8404a417f50422b8097877f1ff8291d": {
      "model_module": "@jupyter-widgets/base",
      "model_module_version": "2.0.0",
      "model_name": "LayoutModel",
      "state": {}
     },
     "b91745f79983472ea7c85d6a7eafec18": {
      "model_module": "@jupyter-widgets/controls",
      "model_module_version": "2.0.0",
      "model_name": "HTMLStyleModel",
      "state": {
       "description_width": "",
       "font_size": null,
       "text_color": null
      }
     },
     "b9f744aa1b524609a7fa04369bcdbbda": {
      "model_module": "@jupyter-widgets/base",
      "model_module_version": "2.0.0",
      "model_name": "LayoutModel",
      "state": {}
     },
     "ba29ef7a0c46429598c1159e10b21f07": {
      "model_module": "@jupyter-widgets/controls",
      "model_module_version": "2.0.0",
      "model_name": "HTMLStyleModel",
      "state": {
       "description_width": "",
       "font_size": null,
       "text_color": null
      }
     },
     "ba662b3f46ba45dd9b4ed8bd3e76383b": {
      "model_module": "@jupyter-widgets/base",
      "model_module_version": "2.0.0",
      "model_name": "LayoutModel",
      "state": {}
     },
     "bafd62b40a72453d9a1d25df72b4c70b": {
      "model_module": "@jupyter-widgets/controls",
      "model_module_version": "2.0.0",
      "model_name": "HBoxModel",
      "state": {
       "children": [
        "IPY_MODEL_1c9d5549b7a9483b9f5005e7a956fd40",
        "IPY_MODEL_d8a66df691494e22bf884b875cd8f981",
        "IPY_MODEL_ea1b9333cf4b475586a30eac5a38c021"
       ],
       "layout": "IPY_MODEL_47cf8615fb014042ba156c7aa3db071a"
      }
     },
     "bc6fc10d42c04760961e324907259b1e": {
      "model_module": "@jupyter-widgets/base",
      "model_module_version": "2.0.0",
      "model_name": "LayoutModel",
      "state": {}
     },
     "bcf83815d18f4317af21190a669e312f": {
      "model_module": "@jupyter-widgets/controls",
      "model_module_version": "2.0.0",
      "model_name": "HTMLStyleModel",
      "state": {
       "description_width": "",
       "font_size": null,
       "text_color": null
      }
     },
     "bd13ece83a294111b52231ffc63c71b4": {
      "model_module": "@jupyter-widgets/base",
      "model_module_version": "2.0.0",
      "model_name": "LayoutModel",
      "state": {}
     },
     "be76cbb574494d17a9f32d6b8e741420": {
      "model_module": "@jupyter-widgets/controls",
      "model_module_version": "2.0.0",
      "model_name": "FloatProgressModel",
      "state": {
       "bar_style": "success",
       "layout": "IPY_MODEL_c30f52bde0ff441cb31671e54df6b0ff",
       "max": 3750,
       "style": "IPY_MODEL_b57ca1c1b06e436fbcde4a56b4cd6881",
       "value": 3750
      }
     },
     "bebb0216460a4fc39627fbb91bc29d99": {
      "model_module": "@jupyter-widgets/base",
      "model_module_version": "2.0.0",
      "model_name": "LayoutModel",
      "state": {}
     },
     "beebcaa8bd7446238ea49ce280086165": {
      "model_module": "@jupyter-widgets/controls",
      "model_module_version": "2.0.0",
      "model_name": "HBoxModel",
      "state": {
       "children": [
        "IPY_MODEL_6503ac298ca449c79173f82b4973dcdb",
        "IPY_MODEL_b2292161805e48ebaa90c631a89553f3",
        "IPY_MODEL_87742d5a335d498db271fe7393561c8f"
       ],
       "layout": "IPY_MODEL_ce8817cec59b40389a542066ad4bf350"
      }
     },
     "bf01121e5be843c39f61678c77ec4974": {
      "model_module": "@jupyter-widgets/base",
      "model_module_version": "2.0.0",
      "model_name": "LayoutModel",
      "state": {}
     },
     "bfa1ce9836b54e55bb7d412a5a58b16f": {
      "model_module": "@jupyter-widgets/controls",
      "model_module_version": "2.0.0",
      "model_name": "HTMLModel",
      "state": {
       "layout": "IPY_MODEL_52bc04981c4c4cd7ad4a63e8d90259a6",
       "style": "IPY_MODEL_03f761fcc6544e64a1ded824ae8e2ffd",
       "value": "Training epoch 2:: 100%"
      }
     },
     "bff29401c58d4d4aa473a26b506c77df": {
      "model_module": "@jupyter-widgets/controls",
      "model_module_version": "2.0.0",
      "model_name": "HTMLModel",
      "state": {
       "layout": "IPY_MODEL_b3227d3e63f543de918a39f88c93eb2b",
       "style": "IPY_MODEL_38f3abd1cd574a19aa1fc136537247c5",
       "value": " 3750/3750 [00:45&lt;00:00, 86.04it/s]"
      }
     },
     "c025fb0d6c5249a28a17b15ca0f0ff8d": {
      "model_module": "@jupyter-widgets/controls",
      "model_module_version": "2.0.0",
      "model_name": "HTMLStyleModel",
      "state": {
       "description_width": "",
       "font_size": null,
       "text_color": null
      }
     },
     "c0a007e2273d47ea968c99b93323ab47": {
      "model_module": "@jupyter-widgets/controls",
      "model_module_version": "2.0.0",
      "model_name": "HBoxModel",
      "state": {
       "children": [
        "IPY_MODEL_0ca3b22f9de74ec4a139a8da48d952a4",
        "IPY_MODEL_1253e51f7a6343bb87beafc8f6a65a4d",
        "IPY_MODEL_4261e95b8a414737be5df4c98abaa12a"
       ],
       "layout": "IPY_MODEL_dd15c7fc1a5f43448115d25be87ff23e"
      }
     },
     "c0fb4f23bada49f0bf68e433022562a7": {
      "model_module": "@jupyter-widgets/base",
      "model_module_version": "2.0.0",
      "model_name": "LayoutModel",
      "state": {}
     },
     "c12d6137783842e4bf447bd1a88dfa22": {
      "model_module": "@jupyter-widgets/controls",
      "model_module_version": "2.0.0",
      "model_name": "HTMLStyleModel",
      "state": {
       "description_width": "",
       "font_size": null,
       "text_color": null
      }
     },
     "c13cb6898e6440dc84fe5fb41144a14b": {
      "model_module": "@jupyter-widgets/controls",
      "model_module_version": "2.0.0",
      "model_name": "HTMLModel",
      "state": {
       "layout": "IPY_MODEL_5e80ad8d7567449885ff9f4f9b52a260",
       "style": "IPY_MODEL_5b6c5c9dcfda428787ebd9e4ddc2046d",
       "value": "Training epoch 1:: 100%"
      }
     },
     "c14517491e44430eb0ed097f48fcf76f": {
      "model_module": "@jupyter-widgets/controls",
      "model_module_version": "2.0.0",
      "model_name": "HBoxModel",
      "state": {
       "children": [
        "IPY_MODEL_0ff3b40f81e845b6840543d0f694e8f3",
        "IPY_MODEL_be76cbb574494d17a9f32d6b8e741420",
        "IPY_MODEL_a8534698e2f042ab935cfb7ef7bc7c1f"
       ],
       "layout": "IPY_MODEL_329ba3b04fd94108a09f425d09bea238"
      }
     },
     "c1de08b9c496422d904609683887b51f": {
      "model_module": "@jupyter-widgets/controls",
      "model_module_version": "2.0.0",
      "model_name": "ProgressStyleModel",
      "state": {
       "description_width": ""
      }
     },
     "c2577afb5dc045a4a0a07195a18f775a": {
      "model_module": "@jupyter-widgets/controls",
      "model_module_version": "2.0.0",
      "model_name": "HTMLStyleModel",
      "state": {
       "description_width": "",
       "font_size": null,
       "text_color": null
      }
     },
     "c294285b712e46668931111d9b8c2189": {
      "model_module": "@jupyter-widgets/controls",
      "model_module_version": "2.0.0",
      "model_name": "FloatProgressModel",
      "state": {
       "bar_style": "success",
       "layout": "IPY_MODEL_3fe8aeb3c12349e391343b8019f806e9",
       "max": 3750,
       "style": "IPY_MODEL_fd9e7adde6e4402d8ae03a97f9e9728f",
       "value": 3750
      }
     },
     "c30f52bde0ff441cb31671e54df6b0ff": {
      "model_module": "@jupyter-widgets/base",
      "model_module_version": "2.0.0",
      "model_name": "LayoutModel",
      "state": {}
     },
     "c364234d8d224ad1a8f42814b17b5763": {
      "model_module": "@jupyter-widgets/base",
      "model_module_version": "2.0.0",
      "model_name": "LayoutModel",
      "state": {}
     },
     "c429b56ca7cc482e8b4604200aae2c67": {
      "model_module": "@jupyter-widgets/controls",
      "model_module_version": "2.0.0",
      "model_name": "HTMLStyleModel",
      "state": {
       "description_width": "",
       "font_size": null,
       "text_color": null
      }
     },
     "c4793f0e29d44766bd443b68894448d0": {
      "model_module": "@jupyter-widgets/controls",
      "model_module_version": "2.0.0",
      "model_name": "ProgressStyleModel",
      "state": {
       "description_width": ""
      }
     },
     "c4e612a09e4d4228bbbfb0c9b8875fef": {
      "model_module": "@jupyter-widgets/base",
      "model_module_version": "2.0.0",
      "model_name": "LayoutModel",
      "state": {}
     },
     "c52ffafd64af4e689cd81486c1f00236": {
      "model_module": "@jupyter-widgets/controls",
      "model_module_version": "2.0.0",
      "model_name": "HTMLStyleModel",
      "state": {
       "description_width": "",
       "font_size": null,
       "text_color": null
      }
     },
     "c6b85924c85b43c8b4a32331e799d00c": {
      "model_module": "@jupyter-widgets/base",
      "model_module_version": "2.0.0",
      "model_name": "LayoutModel",
      "state": {}
     },
     "c6dc9cf816f74afb91a54b7b5cf5e5c4": {
      "model_module": "@jupyter-widgets/base",
      "model_module_version": "2.0.0",
      "model_name": "LayoutModel",
      "state": {}
     },
     "c6f3a2633bde4b30878daac983755d0f": {
      "model_module": "@jupyter-widgets/controls",
      "model_module_version": "2.0.0",
      "model_name": "HBoxModel",
      "state": {
       "children": [
        "IPY_MODEL_5c4e88e04e55423eaef9ec01ad79297b",
        "IPY_MODEL_31352755783a4d218cc9d81c186a9af4",
        "IPY_MODEL_2972eb35eb9a4dfda3d46131be3ad848"
       ],
       "layout": "IPY_MODEL_c4e612a09e4d4228bbbfb0c9b8875fef"
      }
     },
     "c78d380dc74a462d83b116ed50108f80": {
      "model_module": "@jupyter-widgets/controls",
      "model_module_version": "2.0.0",
      "model_name": "HTMLStyleModel",
      "state": {
       "description_width": "",
       "font_size": null,
       "text_color": null
      }
     },
     "c7cf1ad00f674aa9a7e2f0b85a1e6b02": {
      "model_module": "@jupyter-widgets/base",
      "model_module_version": "2.0.0",
      "model_name": "LayoutModel",
      "state": {}
     },
     "c8233b4dcd474274a711b63b9957dcaf": {
      "model_module": "@jupyter-widgets/controls",
      "model_module_version": "2.0.0",
      "model_name": "HTMLModel",
      "state": {
       "layout": "IPY_MODEL_a213df00d17d407d8c1aac4915126dd7",
       "style": "IPY_MODEL_e2adf2a172c948b4b29956972d78b847",
       "value": " 3750/3750 [00:35&lt;00:00, 114.57it/s]"
      }
     },
     "c8e219a97ce54dbf88aebe36b459770e": {
      "model_module": "@jupyter-widgets/controls",
      "model_module_version": "2.0.0",
      "model_name": "HTMLStyleModel",
      "state": {
       "description_width": "",
       "font_size": null,
       "text_color": null
      }
     },
     "cbfa3ade758a4d198e9468e730a267c3": {
      "model_module": "@jupyter-widgets/base",
      "model_module_version": "2.0.0",
      "model_name": "LayoutModel",
      "state": {}
     },
     "cc2f90b8acb6436e9cdd7435b9b0b863": {
      "model_module": "@jupyter-widgets/controls",
      "model_module_version": "2.0.0",
      "model_name": "HTMLStyleModel",
      "state": {
       "description_width": "",
       "font_size": null,
       "text_color": null
      }
     },
     "cc3f8fea0bce444eb6c877ec139b27c0": {
      "model_module": "@jupyter-widgets/controls",
      "model_module_version": "2.0.0",
      "model_name": "HTMLStyleModel",
      "state": {
       "description_width": "",
       "font_size": null,
       "text_color": null
      }
     },
     "cd20a73dbc774b0fb97b382ba4b75a92": {
      "model_module": "@jupyter-widgets/base",
      "model_module_version": "2.0.0",
      "model_name": "LayoutModel",
      "state": {}
     },
     "cd8e101ebac14517b680e39df3a40bfc": {
      "model_module": "@jupyter-widgets/base",
      "model_module_version": "2.0.0",
      "model_name": "LayoutModel",
      "state": {}
     },
     "ce8817cec59b40389a542066ad4bf350": {
      "model_module": "@jupyter-widgets/base",
      "model_module_version": "2.0.0",
      "model_name": "LayoutModel",
      "state": {}
     },
     "ced990f83ff94174a23b63e9bb27fefe": {
      "model_module": "@jupyter-widgets/controls",
      "model_module_version": "2.0.0",
      "model_name": "HTMLModel",
      "state": {
       "layout": "IPY_MODEL_cbfa3ade758a4d198e9468e730a267c3",
       "style": "IPY_MODEL_4866af72f62f4783abb37ac247c480d1",
       "value": " 3750/3750 [00:45&lt;00:00, 86.02it/s]"
      }
     },
     "cfef85989d514aa58c9717673605f3ad": {
      "model_module": "@jupyter-widgets/controls",
      "model_module_version": "2.0.0",
      "model_name": "HBoxModel",
      "state": {
       "children": [
        "IPY_MODEL_077dedec9c9a4fe2b30667529172e714",
        "IPY_MODEL_715783be297c493aad1aa64650326298",
        "IPY_MODEL_ced990f83ff94174a23b63e9bb27fefe"
       ],
       "layout": "IPY_MODEL_6704b4c7b76d499cb254a6095c4404cf"
      }
     },
     "d0c5049439754f11b7742a7de0ac80e5": {
      "model_module": "@jupyter-widgets/controls",
      "model_module_version": "2.0.0",
      "model_name": "HTMLStyleModel",
      "state": {
       "description_width": "",
       "font_size": null,
       "text_color": null
      }
     },
     "d10b7c567b3849088adf78ccd622f4a0": {
      "model_module": "@jupyter-widgets/controls",
      "model_module_version": "2.0.0",
      "model_name": "ProgressStyleModel",
      "state": {
       "description_width": ""
      }
     },
     "d1a9c275de844de0b99fef4aa1fcc98d": {
      "model_module": "@jupyter-widgets/controls",
      "model_module_version": "2.0.0",
      "model_name": "HTMLStyleModel",
      "state": {
       "description_width": "",
       "font_size": null,
       "text_color": null
      }
     },
     "d1ad969bac5c48ff9f721466a3037b4e": {
      "model_module": "@jupyter-widgets/controls",
      "model_module_version": "2.0.0",
      "model_name": "ProgressStyleModel",
      "state": {
       "description_width": ""
      }
     },
     "d1bfb4bdd24349a0858dd544290d52e6": {
      "model_module": "@jupyter-widgets/controls",
      "model_module_version": "2.0.0",
      "model_name": "FloatProgressModel",
      "state": {
       "bar_style": "success",
       "layout": "IPY_MODEL_965e73a9f1bf4b4c8446d41ccc06f71e",
       "max": 3750,
       "style": "IPY_MODEL_a422910feddb4cb88baa700a3094c946",
       "value": 3750
      }
     },
     "d3b48a2a1a784be5b31035939f3ebf46": {
      "model_module": "@jupyter-widgets/controls",
      "model_module_version": "2.0.0",
      "model_name": "HTMLStyleModel",
      "state": {
       "description_width": "",
       "font_size": null,
       "text_color": null
      }
     },
     "d3b7eceac55b4f6e8ab47cf5c45aeb54": {
      "model_module": "@jupyter-widgets/controls",
      "model_module_version": "2.0.0",
      "model_name": "HTMLModel",
      "state": {
       "layout": "IPY_MODEL_db68bb2424d04c0cb5f506fc21933a94",
       "style": "IPY_MODEL_4726fc3856134dfeb6964e37ba104103",
       "value": "Training epoch 3:: 100%"
      }
     },
     "d3e3c306d11445f88f2be6791a07cde3": {
      "model_module": "@jupyter-widgets/controls",
      "model_module_version": "2.0.0",
      "model_name": "HTMLStyleModel",
      "state": {
       "description_width": "",
       "font_size": null,
       "text_color": null
      }
     },
     "d56b9fb2030644daa5e32f2413b6def6": {
      "model_module": "@jupyter-widgets/base",
      "model_module_version": "2.0.0",
      "model_name": "LayoutModel",
      "state": {}
     },
     "d5a0e1c0c4c24cadbc7fa9c3cdea1303": {
      "model_module": "@jupyter-widgets/controls",
      "model_module_version": "2.0.0",
      "model_name": "HTMLStyleModel",
      "state": {
       "description_width": "",
       "font_size": null,
       "text_color": null
      }
     },
     "d770315b74654f7eb6d3ecd7f939a48b": {
      "model_module": "@jupyter-widgets/controls",
      "model_module_version": "2.0.0",
      "model_name": "HBoxModel",
      "state": {
       "children": [
        "IPY_MODEL_2d13abde31714b22b4f0ed08eb0114f6",
        "IPY_MODEL_421a32c275b74451884def44eaa2c51f",
        "IPY_MODEL_0f116ca1e06f41f9bde7fe81c1eb9f60"
       ],
       "layout": "IPY_MODEL_981677bba9ec48b5bfbe73ceef798860"
      }
     },
     "d782f711e3e44f47b3fc5b0651c72e95": {
      "model_module": "@jupyter-widgets/base",
      "model_module_version": "2.0.0",
      "model_name": "LayoutModel",
      "state": {}
     },
     "d7c87ebe131b44a281005db95338167a": {
      "model_module": "@jupyter-widgets/controls",
      "model_module_version": "2.0.0",
      "model_name": "HTMLStyleModel",
      "state": {
       "description_width": "",
       "font_size": null,
       "text_color": null
      }
     },
     "d827e72b42c94c2ea11186cb87b06885": {
      "model_module": "@jupyter-widgets/controls",
      "model_module_version": "2.0.0",
      "model_name": "ProgressStyleModel",
      "state": {
       "description_width": ""
      }
     },
     "d8a66df691494e22bf884b875cd8f981": {
      "model_module": "@jupyter-widgets/controls",
      "model_module_version": "2.0.0",
      "model_name": "FloatProgressModel",
      "state": {
       "bar_style": "success",
       "layout": "IPY_MODEL_c6b85924c85b43c8b4a32331e799d00c",
       "max": 3750,
       "style": "IPY_MODEL_337e21e6e76f4d48bdbfe2c22dc4c178",
       "value": 3750
      }
     },
     "db68bb2424d04c0cb5f506fc21933a94": {
      "model_module": "@jupyter-widgets/base",
      "model_module_version": "2.0.0",
      "model_name": "LayoutModel",
      "state": {}
     },
     "dc2e38a68fa44dabb5cd0ec67926f38a": {
      "model_module": "@jupyter-widgets/controls",
      "model_module_version": "2.0.0",
      "model_name": "ProgressStyleModel",
      "state": {
       "description_width": ""
      }
     },
     "dc39bbcc35c447a18ac09eb1bcd65549": {
      "model_module": "@jupyter-widgets/controls",
      "model_module_version": "2.0.0",
      "model_name": "HTMLModel",
      "state": {
       "layout": "IPY_MODEL_f2976211920a4f05b3edd20d449b9e38",
       "style": "IPY_MODEL_b1ed1710a7a9476db3343d6d180c0674",
       "value": "Training epoch 3:: 100%"
      }
     },
     "dcb48952bdf7441b8354366f548289b4": {
      "model_module": "@jupyter-widgets/controls",
      "model_module_version": "2.0.0",
      "model_name": "HTMLStyleModel",
      "state": {
       "description_width": "",
       "font_size": null,
       "text_color": null
      }
     },
     "dcce17f669764244b097d4e4e78f8aa8": {
      "model_module": "@jupyter-widgets/controls",
      "model_module_version": "2.0.0",
      "model_name": "HTMLStyleModel",
      "state": {
       "description_width": "",
       "font_size": null,
       "text_color": null
      }
     },
     "dd15c7fc1a5f43448115d25be87ff23e": {
      "model_module": "@jupyter-widgets/base",
      "model_module_version": "2.0.0",
      "model_name": "LayoutModel",
      "state": {}
     },
     "dd2af4012cf04eedad7e0e8053c9dccd": {
      "model_module": "@jupyter-widgets/base",
      "model_module_version": "2.0.0",
      "model_name": "LayoutModel",
      "state": {}
     },
     "ddbf8999b9a54001abaf8632345c45c5": {
      "model_module": "@jupyter-widgets/base",
      "model_module_version": "2.0.0",
      "model_name": "LayoutModel",
      "state": {}
     },
     "de731343deb1491d9d29d4d378715dc6": {
      "model_module": "@jupyter-widgets/controls",
      "model_module_version": "2.0.0",
      "model_name": "HTMLStyleModel",
      "state": {
       "description_width": "",
       "font_size": null,
       "text_color": null
      }
     },
     "e18d9540d54141dbac6330c521dadb36": {
      "model_module": "@jupyter-widgets/controls",
      "model_module_version": "2.0.0",
      "model_name": "HTMLModel",
      "state": {
       "layout": "IPY_MODEL_bc6fc10d42c04760961e324907259b1e",
       "style": "IPY_MODEL_cc3f8fea0bce444eb6c877ec139b27c0",
       "value": " 3750/3750 [00:45&lt;00:00, 89.57it/s]"
      }
     },
     "e19be90d3c7e4ebd80cd9c5f99cd3cad": {
      "model_module": "@jupyter-widgets/controls",
      "model_module_version": "2.0.0",
      "model_name": "ProgressStyleModel",
      "state": {
       "description_width": ""
      }
     },
     "e1b940e11e5e46bc8f5a2d75f6cdb7ec": {
      "model_module": "@jupyter-widgets/controls",
      "model_module_version": "2.0.0",
      "model_name": "HTMLStyleModel",
      "state": {
       "description_width": "",
       "font_size": null,
       "text_color": null
      }
     },
     "e1eb58464960419cae32c254f11ba59a": {
      "model_module": "@jupyter-widgets/base",
      "model_module_version": "2.0.0",
      "model_name": "LayoutModel",
      "state": {}
     },
     "e206345b5f274103b6a8591da18b6819": {
      "model_module": "@jupyter-widgets/controls",
      "model_module_version": "2.0.0",
      "model_name": "HTMLModel",
      "state": {
       "layout": "IPY_MODEL_cd8e101ebac14517b680e39df3a40bfc",
       "style": "IPY_MODEL_3ccffe9310e64a4b9131434394e69213",
       "value": " 3750/3750 [00:45&lt;00:00, 86.69it/s]"
      }
     },
     "e2adf2a172c948b4b29956972d78b847": {
      "model_module": "@jupyter-widgets/controls",
      "model_module_version": "2.0.0",
      "model_name": "HTMLStyleModel",
      "state": {
       "description_width": "",
       "font_size": null,
       "text_color": null
      }
     },
     "e2b7a6698cfd410e82b4888977e8b16f": {
      "model_module": "@jupyter-widgets/controls",
      "model_module_version": "2.0.0",
      "model_name": "HBoxModel",
      "state": {
       "children": [
        "IPY_MODEL_088901c9de0a42e48dac69b9d8e0b027",
        "IPY_MODEL_4ef2124820bb40019ab36151e69dc5e6",
        "IPY_MODEL_1022c8b9d96d4a808b79d77b38e8afea"
       ],
       "layout": "IPY_MODEL_63ac8efdf9a64e888ac6b1ffe4b96c5a"
      }
     },
     "e30bd5bd64664269b6f70652a0e824a5": {
      "model_module": "@jupyter-widgets/base",
      "model_module_version": "2.0.0",
      "model_name": "LayoutModel",
      "state": {}
     },
     "e35de2e4658c41fca7b1329982597563": {
      "model_module": "@jupyter-widgets/controls",
      "model_module_version": "2.0.0",
      "model_name": "HTMLStyleModel",
      "state": {
       "description_width": "",
       "font_size": null,
       "text_color": null
      }
     },
     "e386df7a6e87400681e2b2f2c50c29c1": {
      "model_module": "@jupyter-widgets/controls",
      "model_module_version": "2.0.0",
      "model_name": "ProgressStyleModel",
      "state": {
       "description_width": ""
      }
     },
     "e3ef6686706440c7a28b5c882cd5e24e": {
      "model_module": "@jupyter-widgets/controls",
      "model_module_version": "2.0.0",
      "model_name": "ProgressStyleModel",
      "state": {
       "description_width": ""
      }
     },
     "e3fbcc9994294e86b9be6424876cbdf9": {
      "model_module": "@jupyter-widgets/base",
      "model_module_version": "2.0.0",
      "model_name": "LayoutModel",
      "state": {}
     },
     "e55c7716b8f047468fd79deb538bc1cb": {
      "model_module": "@jupyter-widgets/controls",
      "model_module_version": "2.0.0",
      "model_name": "ProgressStyleModel",
      "state": {
       "description_width": ""
      }
     },
     "e57ae94fe4f44c9d8a0850a2e43104b2": {
      "model_module": "@jupyter-widgets/controls",
      "model_module_version": "2.0.0",
      "model_name": "ProgressStyleModel",
      "state": {
       "description_width": ""
      }
     },
     "e58cb212d4f04804a8b41697268403ba": {
      "model_module": "@jupyter-widgets/controls",
      "model_module_version": "2.0.0",
      "model_name": "HTMLModel",
      "state": {
       "layout": "IPY_MODEL_6c413b84723b4396b86135f63d2d06d2",
       "style": "IPY_MODEL_019995265d4f4151b4434b51d75d370b",
       "value": "Training epoch 0:: 100%"
      }
     },
     "e65bff345d544a60a67342643fa90f99": {
      "model_module": "@jupyter-widgets/controls",
      "model_module_version": "2.0.0",
      "model_name": "FloatProgressModel",
      "state": {
       "bar_style": "success",
       "layout": "IPY_MODEL_60fe312238c54ee798031327612b13d7",
       "max": 3750,
       "style": "IPY_MODEL_acd24b0edad34ce7a04a4cf69c1e7b53",
       "value": 3750
      }
     },
     "e7a5a1f423064987bb76d5f7070fc095": {
      "model_module": "@jupyter-widgets/controls",
      "model_module_version": "2.0.0",
      "model_name": "HTMLStyleModel",
      "state": {
       "description_width": "",
       "font_size": null,
       "text_color": null
      }
     },
     "e7bb574df175445b9810f3c3ad9fef48": {
      "model_module": "@jupyter-widgets/controls",
      "model_module_version": "2.0.0",
      "model_name": "HTMLModel",
      "state": {
       "layout": "IPY_MODEL_2e2dc1792f4a4569b8be751761a89168",
       "style": "IPY_MODEL_de731343deb1491d9d29d4d378715dc6",
       "value": " 3750/3750 [00:35&lt;00:00, 110.54it/s]"
      }
     },
     "e9225e2bd7bb4c4f8cfa56b78b12acda": {
      "model_module": "@jupyter-widgets/controls",
      "model_module_version": "2.0.0",
      "model_name": "HTMLModel",
      "state": {
       "layout": "IPY_MODEL_8b8e8ecffa6f41719ba7b58cdca19f38",
       "style": "IPY_MODEL_36acf8a526cb48c9b3b366e8b37420f1",
       "value": "Training epoch 0:: 100%"
      }
     },
     "e9ebf7fe06f440249135533e0cd681df": {
      "model_module": "@jupyter-widgets/base",
      "model_module_version": "2.0.0",
      "model_name": "LayoutModel",
      "state": {}
     },
     "ea1b9333cf4b475586a30eac5a38c021": {
      "model_module": "@jupyter-widgets/controls",
      "model_module_version": "2.0.0",
      "model_name": "HTMLModel",
      "state": {
       "layout": "IPY_MODEL_3ac7619e14ca4699a7264e3cb09ab734",
       "style": "IPY_MODEL_9bbfd4a6cf82451fb2742ff0db7a683b",
       "value": " 3750/3750 [00:35&lt;00:00, 111.51it/s]"
      }
     },
     "ea8a91ef74624a72ae814f39292b85b1": {
      "model_module": "@jupyter-widgets/base",
      "model_module_version": "2.0.0",
      "model_name": "LayoutModel",
      "state": {}
     },
     "ebad0a11f0b046af9c9ee96a73b22270": {
      "model_module": "@jupyter-widgets/base",
      "model_module_version": "2.0.0",
      "model_name": "LayoutModel",
      "state": {}
     },
     "ebcb43dd685748f4831f56c632f344df": {
      "model_module": "@jupyter-widgets/base",
      "model_module_version": "2.0.0",
      "model_name": "LayoutModel",
      "state": {}
     },
     "ec391b2f7f8443c8935be416d51c4fe5": {
      "model_module": "@jupyter-widgets/controls",
      "model_module_version": "2.0.0",
      "model_name": "FloatProgressModel",
      "state": {
       "bar_style": "success",
       "layout": "IPY_MODEL_ddbf8999b9a54001abaf8632345c45c5",
       "max": 120000,
       "style": "IPY_MODEL_5ff1631f98884cbab66a4de199df169f",
       "value": 120000
      }
     },
     "ec935bacb41d451cb4e4f34dbe098cd8": {
      "model_module": "@jupyter-widgets/controls",
      "model_module_version": "2.0.0",
      "model_name": "HBoxModel",
      "state": {
       "children": [
        "IPY_MODEL_7df32602429844c2a9619108b3ebc79f",
        "IPY_MODEL_6e6dc68c217c479b826ad541fbe01f74",
        "IPY_MODEL_bff29401c58d4d4aa473a26b506c77df"
       ],
       "layout": "IPY_MODEL_825e4e51a36f485d867b00195896d3ef"
      }
     },
     "ecc46c1fcdbe4b5ba87938fee11889f7": {
      "model_module": "@jupyter-widgets/base",
      "model_module_version": "2.0.0",
      "model_name": "LayoutModel",
      "state": {}
     },
     "ed4c7d622b1f42a39e9bcd12e18d6506": {
      "model_module": "@jupyter-widgets/base",
      "model_module_version": "2.0.0",
      "model_name": "LayoutModel",
      "state": {}
     },
     "ed71d67dff1d45bebc976e87f484a8a4": {
      "model_module": "@jupyter-widgets/base",
      "model_module_version": "2.0.0",
      "model_name": "LayoutModel",
      "state": {}
     },
     "ee1dffbf80514182a835d278e60937b8": {
      "model_module": "@jupyter-widgets/controls",
      "model_module_version": "2.0.0",
      "model_name": "HBoxModel",
      "state": {
       "children": [
        "IPY_MODEL_0c69b103013e41cabc436b514f765670",
        "IPY_MODEL_947c4ef0939d442ca2db5d8fd0085fce",
        "IPY_MODEL_17e1d430e2fb4bf88fa215ad4fa9e3fc"
       ],
       "layout": "IPY_MODEL_7aa241899c314a48b55f976099b02266"
      }
     },
     "eefc1bfe78e84f4291c9181612b209fd": {
      "model_module": "@jupyter-widgets/base",
      "model_module_version": "2.0.0",
      "model_name": "LayoutModel",
      "state": {}
     },
     "ef48249f522e4db89ce98d51f4c2ed7a": {
      "model_module": "@jupyter-widgets/controls",
      "model_module_version": "2.0.0",
      "model_name": "HTMLModel",
      "state": {
       "layout": "IPY_MODEL_315f0da6a71b4026a748f6358f06fab9",
       "style": "IPY_MODEL_8130f10f39854fd2996cca2834144510",
       "value": "Training epoch 1:: 100%"
      }
     },
     "f177e144378245ba917b8b107f03024d": {
      "model_module": "@jupyter-widgets/controls",
      "model_module_version": "2.0.0",
      "model_name": "HTMLModel",
      "state": {
       "layout": "IPY_MODEL_af695662348b407e8ebf6bbe3d2f4c3c",
       "style": "IPY_MODEL_cc2f90b8acb6436e9cdd7435b9b0b863",
       "value": " 3750/3750 [00:35&lt;00:00, 111.30it/s]"
      }
     },
     "f17c4abb89f0447baa40ce9b81b24b2f": {
      "model_module": "@jupyter-widgets/controls",
      "model_module_version": "2.0.0",
      "model_name": "HTMLModel",
      "state": {
       "layout": "IPY_MODEL_b1613244139a4560b0c6e421bc68fa40",
       "style": "IPY_MODEL_aaad2d2b2812447fbfeac97618d289bd",
       "value": " 3750/3750 [00:35&lt;00:00, 112.56it/s]"
      }
     },
     "f17e08fc802c47118fbd386f43abbf05": {
      "model_module": "@jupyter-widgets/base",
      "model_module_version": "2.0.0",
      "model_name": "LayoutModel",
      "state": {}
     },
     "f2976211920a4f05b3edd20d449b9e38": {
      "model_module": "@jupyter-widgets/base",
      "model_module_version": "2.0.0",
      "model_name": "LayoutModel",
      "state": {}
     },
     "f2c4c9a9799d49359d2c6924e1c4f778": {
      "model_module": "@jupyter-widgets/controls",
      "model_module_version": "2.0.0",
      "model_name": "HTMLModel",
      "state": {
       "layout": "IPY_MODEL_59827386d1124d1fadb221b2184d0d91",
       "style": "IPY_MODEL_08bfb093c2c24bfe965392f4d86c043f",
       "value": "Training epoch 0:: 100%"
      }
     },
     "f31458ee34794d079fd5c0b85ff94d83": {
      "model_module": "@jupyter-widgets/base",
      "model_module_version": "2.0.0",
      "model_name": "LayoutModel",
      "state": {}
     },
     "f458c097db354d1baf77f2307f787f3a": {
      "model_module": "@jupyter-widgets/base",
      "model_module_version": "2.0.0",
      "model_name": "LayoutModel",
      "state": {}
     },
     "f4ba19ba7aaa4b73986f080329ef3769": {
      "model_module": "@jupyter-widgets/controls",
      "model_module_version": "2.0.0",
      "model_name": "FloatProgressModel",
      "state": {
       "bar_style": "success",
       "layout": "IPY_MODEL_f17e08fc802c47118fbd386f43abbf05",
       "max": 3750,
       "style": "IPY_MODEL_c4793f0e29d44766bd443b68894448d0",
       "value": 3750
      }
     },
     "f4bbfa8162e64cf4b1d6dea704c2c4dd": {
      "model_module": "@jupyter-widgets/controls",
      "model_module_version": "2.0.0",
      "model_name": "HTMLModel",
      "state": {
       "layout": "IPY_MODEL_b1a5e3ab5b35416bac2913f57adcaf45",
       "style": "IPY_MODEL_7488b2bf3a80482d82a5724df9c76b83",
       "value": "Training epoch 2:: 100%"
      }
     },
     "f5081c0762a643c7bbe9bb2493551469": {
      "model_module": "@jupyter-widgets/base",
      "model_module_version": "2.0.0",
      "model_name": "LayoutModel",
      "state": {}
     },
     "f5553d3a177f4be4aa0f51452c314cbc": {
      "model_module": "@jupyter-widgets/controls",
      "model_module_version": "2.0.0",
      "model_name": "HTMLStyleModel",
      "state": {
       "description_width": "",
       "font_size": null,
       "text_color": null
      }
     },
     "f64609d17223488897f3b6facceabd2c": {
      "model_module": "@jupyter-widgets/controls",
      "model_module_version": "2.0.0",
      "model_name": "HTMLStyleModel",
      "state": {
       "description_width": "",
       "font_size": null,
       "text_color": null
      }
     },
     "f68098b3de8948fab3083a5d83524707": {
      "model_module": "@jupyter-widgets/base",
      "model_module_version": "2.0.0",
      "model_name": "LayoutModel",
      "state": {}
     },
     "f6928b0b8ad0473fb7bcf694c4f09185": {
      "model_module": "@jupyter-widgets/controls",
      "model_module_version": "2.0.0",
      "model_name": "FloatProgressModel",
      "state": {
       "bar_style": "success",
       "layout": "IPY_MODEL_4e25afe310954569b14de7e23f274c3f",
       "max": 3750,
       "style": "IPY_MODEL_e386df7a6e87400681e2b2f2c50c29c1",
       "value": 3750
      }
     },
     "f73105f64a6b47f6af0375afed82af72": {
      "model_module": "@jupyter-widgets/base",
      "model_module_version": "2.0.0",
      "model_name": "LayoutModel",
      "state": {}
     },
     "f9ec74e90bcc4148ae840ea78826a658": {
      "model_module": "@jupyter-widgets/base",
      "model_module_version": "2.0.0",
      "model_name": "LayoutModel",
      "state": {}
     },
     "fa6b011225bc49059d9838542cec93c7": {
      "model_module": "@jupyter-widgets/base",
      "model_module_version": "2.0.0",
      "model_name": "LayoutModel",
      "state": {}
     },
     "fa8a855768364679b49cff7fea9cefb4": {
      "model_module": "@jupyter-widgets/controls",
      "model_module_version": "2.0.0",
      "model_name": "HTMLModel",
      "state": {
       "layout": "IPY_MODEL_9fc771b09f31449e858ecb1cfb25b341",
       "style": "IPY_MODEL_c52ffafd64af4e689cd81486c1f00236",
       "value": " 3750/3750 [00:45&lt;00:00, 87.05it/s]"
      }
     },
     "faca5f9caada446893d58366264b426c": {
      "model_module": "@jupyter-widgets/controls",
      "model_module_version": "2.0.0",
      "model_name": "HBoxModel",
      "state": {
       "children": [
        "IPY_MODEL_6fc6f2354c1a4128bb3d6d890a1efdcc",
        "IPY_MODEL_81d2c7d965ac4502a9848e83f4484cb5",
        "IPY_MODEL_e206345b5f274103b6a8591da18b6819"
       ],
       "layout": "IPY_MODEL_e9ebf7fe06f440249135533e0cd681df"
      }
     },
     "facdff4af92048b096fd981f76474be5": {
      "model_module": "@jupyter-widgets/base",
      "model_module_version": "2.0.0",
      "model_name": "LayoutModel",
      "state": {}
     },
     "fc120651f8144828a9ba06350050fcc6": {
      "model_module": "@jupyter-widgets/controls",
      "model_module_version": "2.0.0",
      "model_name": "HTMLStyleModel",
      "state": {
       "description_width": "",
       "font_size": null,
       "text_color": null
      }
     },
     "fd755e51f6c34bb8a16ea2473cb9ba2f": {
      "model_module": "@jupyter-widgets/base",
      "model_module_version": "2.0.0",
      "model_name": "LayoutModel",
      "state": {}
     },
     "fd78607ada1d4d7ea1a48eb56e3e601e": {
      "model_module": "@jupyter-widgets/controls",
      "model_module_version": "2.0.0",
      "model_name": "HTMLStyleModel",
      "state": {
       "description_width": "",
       "font_size": null,
       "text_color": null
      }
     },
     "fd9e7adde6e4402d8ae03a97f9e9728f": {
      "model_module": "@jupyter-widgets/controls",
      "model_module_version": "2.0.0",
      "model_name": "ProgressStyleModel",
      "state": {
       "description_width": ""
      }
     },
     "fe2fb6d59672481d89e226b6452da190": {
      "model_module": "@jupyter-widgets/base",
      "model_module_version": "2.0.0",
      "model_name": "LayoutModel",
      "state": {}
     },
     "fe52ea6bca7f43cf9da08718dfef1d16": {
      "model_module": "@jupyter-widgets/controls",
      "model_module_version": "2.0.0",
      "model_name": "FloatProgressModel",
      "state": {
       "bar_style": "success",
       "layout": "IPY_MODEL_00405a3d98ad433185ff64dbc8bcf1d6",
       "max": 3750,
       "style": "IPY_MODEL_192d1a22f1a34bc8b0f63ce84729ebc3",
       "value": 3750
      }
     },
     "fea02e16f49a4f4dbf179c038248c5cb": {
      "model_module": "@jupyter-widgets/base",
      "model_module_version": "2.0.0",
      "model_name": "LayoutModel",
      "state": {}
     },
     "feaf3d65b33a44caa26a11fdb1f94548": {
      "model_module": "@jupyter-widgets/controls",
      "model_module_version": "2.0.0",
      "model_name": "FloatProgressModel",
      "state": {
       "bar_style": "success",
       "layout": "IPY_MODEL_5ec131a11808490fa92494f0676b48db",
       "max": 3750,
       "style": "IPY_MODEL_c1de08b9c496422d904609683887b51f",
       "value": 3750
      }
     },
     "fee60eba67b644cb964a2c41fa737d46": {
      "model_module": "@jupyter-widgets/controls",
      "model_module_version": "2.0.0",
      "model_name": "HTMLModel",
      "state": {
       "layout": "IPY_MODEL_b0c339f1fc704b4584a4d0e9e560af22",
       "style": "IPY_MODEL_8bcd8c917ae34cc799481a81b78eca06",
       "value": "Training epoch 0:: 100%"
      }
     },
     "feea486e64d64c4c9a3f4b16e6c402a9": {
      "model_module": "@jupyter-widgets/controls",
      "model_module_version": "2.0.0",
      "model_name": "FloatProgressModel",
      "state": {
       "bar_style": "success",
       "layout": "IPY_MODEL_488da2f5caee48da9bed4d7d88beb334",
       "max": 3750,
       "style": "IPY_MODEL_5efd4eb89f8c4191adf053c0d179affa",
       "value": 3750
      }
     },
     "ffc47186076640dcb4fb7909ef3fca35": {
      "model_module": "@jupyter-widgets/controls",
      "model_module_version": "2.0.0",
      "model_name": "HBoxModel",
      "state": {
       "children": [
        "IPY_MODEL_13decc478a3d4227a0f6cb8de541cdff",
        "IPY_MODEL_f4ba19ba7aaa4b73986f080329ef3769",
        "IPY_MODEL_1efe1ce253e14300932fbb824d870cdd"
       ],
       "layout": "IPY_MODEL_2a42c54571464379a2e4024670a45922"
      }
     }
    },
    "version_major": 2,
    "version_minor": 0
   }
  }
 },
 "nbformat": 4,
 "nbformat_minor": 4
}
