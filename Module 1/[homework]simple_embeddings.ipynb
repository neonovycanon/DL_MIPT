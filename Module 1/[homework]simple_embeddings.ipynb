{
 "cells": [
  {
   "cell_type": "markdown",
   "metadata": {
    "id": "Ot3c4fjZwC4T"
   },
   "source": [
    "<img src=\"https://s8.hostingkartinok.com/uploads/images/2018/08/308b49fcfbc619d629fe4604bceb67ac.jpg\" width=500, height=450>\n",
    "<h3 style=\"text-align: center;\"><b>Физтех-Школа Прикладной математики и информатики (ФПМИ) МФТИ</b></h3>"
   ]
  },
  {
   "cell_type": "markdown",
   "metadata": {
    "id": "P2JdzEXmwRU5"
   },
   "source": [
    "---"
   ]
  },
  {
   "cell_type": "markdown",
   "metadata": {
    "id": "Fc8iHXIVwDwj"
   },
   "source": [
    "***Some parts of the notebook are almost the copy of [ mmta-team course](https://github.com/mmta-team/mmta_fall_2020). Special thanks to mmta-team for making them publicly available. [Original notebook](https://github.com/mmta-team/mmta_fall_2020/blob/master/tasks/01_word_embeddings/task_word_embeddings.ipynb).***"
   ]
  },
  {
   "cell_type": "markdown",
   "metadata": {
    "id": "7D0wm5jt6j0U"
   },
   "source": [
    "<b> Прочитайте семинар, пожалуйста, для успешного выполнения домашнего задания. В конце ноутка напишите свой вывод. Работа без вывода оценивается ниже."
   ]
  },
  {
   "cell_type": "code",
   "execution_count": 248,
   "metadata": {
    "execution": {
     "iopub.execute_input": "2025-02-12T12:59:46.556584Z",
     "iopub.status.busy": "2025-02-12T12:59:46.556584Z",
     "iopub.status.idle": "2025-02-12T12:59:51.787743Z",
     "shell.execute_reply": "2025-02-12T12:59:51.787743Z",
     "shell.execute_reply.started": "2025-02-12T12:59:46.556584Z"
    }
   },
   "outputs": [
    {
     "name": "stderr",
     "output_type": "stream",
     "text": [
      "[nltk_data] Downloading package punkt to stopwords...\n",
      "[nltk_data]   Unzipping tokenizers\\punkt.zip.\n"
     ]
    }
   ],
   "source": [
    "import re\n",
    "import numpy as np\n",
    "from numpy.linalg import norm\n",
    "import pandas as pd\n",
    "import urllib.request\n",
    "import spacy\n",
    "\n",
    "import nltk\n",
    "nltk.download('punkt', 'stopwords')\n",
    "from nltk.tokenize import word_tokenize\n",
    "from nltk.corpus import stopwords\n",
    "\n",
    "from gensim.models.keyedvectors import KeyedVectors\n",
    "from gensim.models import Word2Vec\n",
    "\n",
    "from sklearn.metrics.pairwise import cosine_similarity\n",
    "from copy import deepcopy\n",
    "\n",
    "from tqdm.notebook import tqdm"
   ]
  },
  {
   "cell_type": "code",
   "execution_count": 249,
   "metadata": {
    "execution": {
     "iopub.execute_input": "2025-02-12T12:59:56.587760Z",
     "iopub.status.busy": "2025-02-12T12:59:56.587010Z",
     "iopub.status.idle": "2025-02-12T12:59:56.608584Z",
     "shell.execute_reply": "2025-02-12T12:59:56.608584Z",
     "shell.execute_reply.started": "2025-02-12T12:59:56.587760Z"
    }
   },
   "outputs": [],
   "source": [
    "stopWords = set(stopwords.words('english'))"
   ]
  },
  {
   "cell_type": "markdown",
   "metadata": {
    "id": "BIWqBuEa6j0b"
   },
   "source": [
    "## Задача поиска схожих по смыслу предложений"
   ]
  },
  {
   "cell_type": "markdown",
   "metadata": {
    "id": "NUkwMPLA6j0g"
   },
   "source": [
    "Мы будем ранжировать вопросы [StackOverflow](https://stackoverflow.com) на основе семантического векторного представления"
   ]
  },
  {
   "cell_type": "markdown",
   "metadata": {
    "id": "dNRXIEfu5a3Q"
   },
   "source": [
    "До этого в курсе не было речи про задачу ранжировния, поэтому введем математическую формулировку"
   ]
  },
  {
   "cell_type": "markdown",
   "metadata": {
    "id": "uS9FwWNd5a3S"
   },
   "source": [
    "## Задача ранжирования(Learning to Rank)"
   ]
  },
  {
   "cell_type": "markdown",
   "metadata": {
    "id": "wdwY9-f75a3T"
   },
   "source": [
    "* $X$ - множество объектов\n",
    "* $X^l = \\{x_1, x_2, ..., x_l\\}$ - обучающая выборка\n",
    "<br>На обучающей выборке задан порядок между некоторыми элементами, то есть нам известно, что некий объект выборки более релевантный для нас, чем другой:\n",
    "* $i \\prec j$ - порядок пары индексов объектов на выборке $X^l$ c индексами $i$ и $j$\n",
    "### Задача:\n",
    "построить ранжирующую функцию $a$ : $X \\rightarrow R$ такую, что\n",
    "$$i \\prec j \\Rightarrow a(x_i) < a(x_j)$$"
   ]
  },
  {
   "cell_type": "markdown",
   "metadata": {
    "id": "WG2IGBsh5a3U"
   },
   "source": [
    "<img src=\"https://d25skit2l41vkl.cloudfront.net/wp-content/uploads/2016/12/Featured-Image.jpg\" width=500, height=450>"
   ]
  },
  {
   "cell_type": "markdown",
   "metadata": {
    "id": "MQk_rolFwT_h"
   },
   "source": [
    "### Embeddings"
   ]
  },
  {
   "cell_type": "markdown",
   "metadata": {
    "id": "xUe1PGXn6j0l"
   },
   "source": [
    "Будем использовать предобученные векторные представления слов на постах Stack Overflow.<br>\n",
    "[A word2vec model trained on Stack Overflow posts](https://github.com/vefstathiou/SO_word2vec)"
   ]
  },
  {
   "cell_type": "code",
   "execution_count": null,
   "metadata": {
    "id": "mYkI54Y-rk7a"
   },
   "outputs": [],
   "source": [
    "!wget https://zenodo.org/record/1199620/files/SO_vectors_200.bin?download=1"
   ]
  },
  {
   "cell_type": "code",
   "execution_count": 5,
   "metadata": {
    "execution": {
     "iopub.execute_input": "2025-02-11T17:42:03.476316Z",
     "iopub.status.busy": "2025-02-11T17:42:03.474172Z",
     "iopub.status.idle": "2025-02-11T17:43:59.738592Z",
     "shell.execute_reply": "2025-02-11T17:43:59.738592Z",
     "shell.execute_reply.started": "2025-02-11T17:42:03.475277Z"
    }
   },
   "outputs": [
    {
     "data": {
      "text/plain": [
       "('SO_vectors_200.bin', <http.client.HTTPMessage at 0x279e98c18e0>)"
      ]
     },
     "execution_count": 5,
     "metadata": {},
     "output_type": "execute_result"
    }
   ],
   "source": [
    "url = 'https://zenodo.org/record/1199620/files/SO_vectors_200.bin?download=1'\n",
    "filename = 'SO_vectors_200.bin'\n",
    "urllib.request.urlretrieve(url, filename)"
   ]
  },
  {
   "cell_type": "code",
   "execution_count": 13,
   "metadata": {
    "execution": {
     "iopub.execute_input": "2025-02-12T07:25:54.882862Z",
     "iopub.status.busy": "2025-02-12T07:25:54.881864Z",
     "iopub.status.idle": "2025-02-12T07:26:01.370339Z",
     "shell.execute_reply": "2025-02-12T07:26:01.370339Z",
     "shell.execute_reply.started": "2025-02-12T07:25:54.882862Z"
    },
    "id": "O8YJTOYv6j0s"
   },
   "outputs": [],
   "source": [
    "wv_embeddings = KeyedVectors.load_word2vec_format(\"SO_vectors_200.bin\", binary=True)"
   ]
  },
  {
   "cell_type": "markdown",
   "metadata": {},
   "source": [
    "Класс `KeyedVectors` это лишь отображение между эмбеддингами и словами (репрезентациями). Такие модели не могут дообучаться, а по сути просто являются справочником для уже известных векторов."
   ]
  },
  {
   "cell_type": "markdown",
   "metadata": {
    "id": "aIcT_g-C6j1E"
   },
   "source": [
    "#### Как пользоваться этими векторами?"
   ]
  },
  {
   "cell_type": "markdown",
   "metadata": {
    "id": "DWO5SPDY6j1G"
   },
   "source": [
    "Посмотрим на примере одного слова, что из себя представляет embedding"
   ]
  },
  {
   "cell_type": "code",
   "execution_count": 14,
   "metadata": {
    "execution": {
     "iopub.execute_input": "2025-02-12T07:26:01.371344Z",
     "iopub.status.busy": "2025-02-12T07:26:01.371344Z",
     "iopub.status.idle": "2025-02-12T07:26:01.375332Z",
     "shell.execute_reply": "2025-02-12T07:26:01.374842Z",
     "shell.execute_reply.started": "2025-02-12T07:26:01.371344Z"
    },
    "id": "KeSBlQfk6j1J"
   },
   "outputs": [
    {
     "name": "stdout",
     "output_type": "stream",
     "text": [
      "float32 (200,)\n"
     ]
    }
   ],
   "source": [
    "word = 'dog'\n",
    "if word in wv_embeddings:\n",
    "    print(wv_embeddings[word].dtype, wv_embeddings[word].shape)"
   ]
  },
  {
   "cell_type": "code",
   "execution_count": 15,
   "metadata": {
    "execution": {
     "iopub.execute_input": "2025-02-12T07:26:01.376472Z",
     "iopub.status.busy": "2025-02-12T07:26:01.375332Z",
     "iopub.status.idle": "2025-02-12T07:26:01.379963Z",
     "shell.execute_reply": "2025-02-12T07:26:01.379963Z",
     "shell.execute_reply.started": "2025-02-12T07:26:01.376472Z"
    },
    "id": "T4Eq-D1qxpMJ"
   },
   "outputs": [
    {
     "name": "stdout",
     "output_type": "stream",
     "text": [
      "Num of words: 1787145\n"
     ]
    }
   ],
   "source": [
    "print(f\"Num of words: {len(wv_embeddings.index_to_key)}\")"
   ]
  },
  {
   "cell_type": "markdown",
   "metadata": {
    "id": "ZT6NTCys6j1Q"
   },
   "source": [
    "Найдем наиболее близкие слова к слову `dog`:"
   ]
  },
  {
   "cell_type": "markdown",
   "metadata": {
    "id": "n08z2PjMwC5o"
   },
   "source": [
    "#### Вопрос 1:\n",
    "* Входит ли слов `cat` топ-5 близких слов к слову `dog`? Какое место?"
   ]
  },
  {
   "cell_type": "code",
   "execution_count": 16,
   "metadata": {
    "execution": {
     "iopub.execute_input": "2025-02-12T07:26:51.572655Z",
     "iopub.status.busy": "2025-02-12T07:26:51.571655Z",
     "iopub.status.idle": "2025-02-12T07:26:52.115446Z",
     "shell.execute_reply": "2025-02-12T07:26:52.115446Z",
     "shell.execute_reply.started": "2025-02-12T07:26:51.572655Z"
    },
    "id": "nYwVz0xG6j1U",
    "scrolled": true
   },
   "outputs": [
    {
     "name": "stdout",
     "output_type": "stream",
     "text": [
      "Слово: animal, расстояние: 0.8564180135726929\n",
      "Слово: dogs, расстояние: 0.7880866527557373\n",
      "Слово: mammal, расстояние: 0.7623804211616516\n",
      "Слово: cats, расстояние: 0.7621253728866577\n",
      "Слово: animals, расстояние: 0.760793924331665\n"
     ]
    }
   ],
   "source": [
    "# method most_simmilar\n",
    "for i in wv_embeddings.most_similar(positive = ['dog'], topn=5):\n",
    "    print(f'Слово: {i[0]}, расстояние: {i[1]}')"
   ]
  },
  {
   "cell_type": "markdown",
   "metadata": {},
   "source": [
    "**Вывод:** Слово `cat` не входит в топ-5 ближайших слов к слову `dog`, однако в топ-5 близких слов входит его множественное число `cats`. Возможно, что близость множественного числа `cats` обусловлена тем, что во время обучения именно эта форма слова чаще встречалась в обучающей выборке, также на это могло повлиять отсутствие процессов стемминга или лемматизации при продготовке текста, так как в оригинальной статье [Word Embeddings for the Software Engineering Domain](https://github.com/vefstathiou/SO_word2vec/blob/master/MSR18-w2v.pdf) указано, что текст был предобработан с учётом возможности сохранения читаемости кода, а также очищен от \"стоп-слов\", однако описанные выше процессы не были упомянуты."
   ]
  },
  {
   "cell_type": "markdown",
   "metadata": {
    "id": "ai48-5vv6j1d"
   },
   "source": [
    "### Векторные представления текста\n",
    "\n",
    "Перейдем от векторных представлений отдельных слов к векторным представлениям вопросов, как к **среднему** векторов всех слов в вопросе. Если для какого-то слова нет предобученного вектора, то его нужно пропустить. Если вопрос не содержит ни одного известного слова, то нужно вернуть нулевой вектор."
   ]
  },
  {
   "cell_type": "code",
   "execution_count": 175,
   "metadata": {
    "execution": {
     "iopub.execute_input": "2025-02-12T12:12:37.958700Z",
     "iopub.status.busy": "2025-02-12T12:12:37.956691Z",
     "iopub.status.idle": "2025-02-12T12:12:37.964172Z",
     "shell.execute_reply": "2025-02-12T12:12:37.964172Z",
     "shell.execute_reply.started": "2025-02-12T12:12:37.958700Z"
    },
    "id": "EhNuxBJd6j1f"
   },
   "outputs": [],
   "source": [
    "# you can use your tokenizer\n",
    "# for example, from nltk.tokenize import WordPunctTokenizer\n",
    "class MyTokenizer:\n",
    "    \"\"\"\n",
    "        model: тип токенизатора\n",
    "            0 - токенизатор по умолчанию (поиск токенов из списка [A-Za-z0-9_]);\n",
    "            1 - токенизатор, сохраняющий знаки препинания как отдельные токены по LLMs-from-scratch: https://github.com/rasbt/LLMs-from-scratch/tree/main\n",
    "            2 - токенизатор word_tokenize библиотеки nltk (использует рекоммендуемый метод от NLTK)\n",
    "        return: список токенов\n",
    "    \"\"\"\n",
    "    \n",
    "    def __init__(self, model: int = 0):\n",
    "        self.model = model\n",
    "        \n",
    "    def tokenize(self, text):\n",
    "        if self.model == 0:\n",
    "            return re.findall(r'\\w+', text)\n",
    "            \n",
    "        elif self.model == 1:\n",
    "            preprocessed = re.split(r'([,.:;?_!\\\"()\\']|\\s)', text)\n",
    "            return [i.strip() for i in preprocessed if i.strip()]\n",
    "            \n",
    "        elif self.model == 2:\n",
    "            return word_tokenize(text)\n",
    "        else:\n",
    "            return None\n",
    "\n",
    "tokenizer_0 = MyTokenizer()\n",
    "tokenizer_1 = MyTokenizer(1)\n",
    "tokenizer_2 = MyTokenizer(2)"
   ]
  },
  {
   "cell_type": "code",
   "execution_count": 180,
   "metadata": {
    "execution": {
     "iopub.execute_input": "2025-02-12T12:13:48.263024Z",
     "iopub.status.busy": "2025-02-12T12:13:48.263024Z",
     "iopub.status.idle": "2025-02-12T12:13:48.267252Z",
     "shell.execute_reply": "2025-02-12T12:13:48.267252Z",
     "shell.execute_reply.started": "2025-02-12T12:13:48.263024Z"
    },
    "id": "YHcvu6186j1m"
   },
   "outputs": [],
   "source": [
    "def question_to_vec(question, embeddings = wv_embeddings, tokenizer = tokenizer_0, dim=200):\n",
    "    \"\"\"\n",
    "        question: строка\n",
    "        embeddings: наше векторное представление\n",
    "        dim: размер любого вектора в нашем представлении\n",
    "\n",
    "        return: векторное представление для вопроса\n",
    "    \"\"\"\n",
    "    if tokenizer != None:\n",
    "        words = tokenizer.tokenize(question)\n",
    "    else:\n",
    "        raise AttributeError('Tokenizer is undefined')\n",
    "        \n",
    "    if embeddings:\n",
    "        assert dim == embeddings.vector_size, 'Dimensions differ, check inputs!'\n",
    "        word_vectors = [embeddings[word] for word in words if word in embeddings]\n",
    "    else:\n",
    "        raise AttributeError('Embeddings are undefined')\n",
    "    \n",
    "    if not word_vectors:\n",
    "        return np.zeros(dim, dtype='float32')\n",
    "    \n",
    "    return  np.mean(word_vectors, axis = 0) # np.sum(word_vectors, axis = 0)"
   ]
  },
  {
   "cell_type": "markdown",
   "metadata": {
    "id": "u5Q_4j7r6j1u"
   },
   "source": [
    "Теперь у нас есть метод для создания векторного представления любого предложения."
   ]
  },
  {
   "cell_type": "markdown",
   "metadata": {
    "id": "EsJSNkhm6j1y"
   },
   "source": [
    "#### Вопрос 2:\n",
    "* Какая третья(с индексом 2) компонента вектора предложения `I love neural networks` (округлите до 2 знаков после запятой)?"
   ]
  },
  {
   "cell_type": "code",
   "execution_count": 177,
   "metadata": {
    "execution": {
     "iopub.execute_input": "2025-02-12T12:12:41.131025Z",
     "iopub.status.busy": "2025-02-12T12:12:41.131025Z",
     "iopub.status.idle": "2025-02-12T12:12:41.139393Z",
     "shell.execute_reply": "2025-02-12T12:12:41.139393Z",
     "shell.execute_reply.started": "2025-02-12T12:12:41.131025Z"
    }
   },
   "outputs": [
    {
     "name": "stdout",
     "output_type": "stream",
     "text": [
      "Модель токенизатора 0, компонента ввектора: -1.29\n",
      "Модель токенизатора 1, компонента ввектора: -1.29\n",
      "Модель токенизатора 2, компонента ввектора: -1.29\n"
     ]
    }
   ],
   "source": [
    "for i in [tokenizer_0, tokenizer_1, tokenizer_2]:\n",
    "    print(f'Модель токенизатора {i.model}, компонента ввектора:', np.round(question_to_vec('I love neural networks', tokenizer = i), 2)[2])\n",
    "    # print(str(i),question_to_vec('I love neural networks', wv_embeddings, i))"
   ]
  },
  {
   "cell_type": "markdown",
   "metadata": {
    "id": "Y60z4t6W6j16"
   },
   "source": [
    "### Оценка близости текстов\n",
    "\n",
    "Представим, что мы используем идеальные векторные представления слов. Тогда косинусное расстояние между дублирующими предложениями должно быть меньше, чем между случайно взятыми предложениями.\n",
    "\n",
    "Сгенерируем для каждого из $N$ вопросов $R$ случайных отрицательных примеров и примешаем к ним также настоящие дубликаты. Для каждого вопроса будем ранжировать с помощью нашей модели $R + 1$ примеров и смотреть на позицию дубликата. Мы хотим, чтобы дубликат был первым в ранжированном списке.\n",
    "\n",
    "#### Hits@K\n",
    "Первой простой метрикой будет количество корректных попаданий для какого-то $K$:\n",
    "$$ \\text{Hits@K} = \\frac{1}{N}\\sum_{i=1}^N \\, [rank\\_q_i^{'} \\le K],$$\n",
    "* $\\begin{equation*}\n",
    "[x < 0 ] \\equiv\n",
    " \\begin{cases}\n",
    "   1, &x < 0\\\\\n",
    "   0, &x \\geq 0\n",
    " \\end{cases}\n",
    "\\end{equation*}$ - индикаторная функция\n",
    "* $q_i$ - $i$-ый вопрос\n",
    "* $q_i^{'}$ - его дубликат\n",
    "* $rank\\_q_i^{'}$ - позиция дубликата в ранжированном списке ближайших предложений для вопроса $q_i$.\n",
    "\n",
    "#### DCG@K\n",
    "Второй метрикой будет упрощенная DCG метрика, учитывающая порядок элементов в списке путем домножения релевантности элемента на вес равный обратному логарифму номера позиции::\n",
    "$$ \\text{DCG@K} = \\frac{1}{N} \\sum_{i=1}^N\\frac{1}{\\log_2(1+rank\\_q_i^{'})}\\cdot[rank\\_q_i^{'} \\le K],$$\n",
    "С такой метрикой модель штрафуется за большой ранк корректного ответа"
   ]
  },
  {
   "cell_type": "markdown",
   "metadata": {
    "id": "eHCnH-jw6j18"
   },
   "source": [
    "#### Вопрос 3:\n",
    "* Максимум `Hits@47 - DCG@1`?"
   ]
  },
  {
   "cell_type": "markdown",
   "metadata": {},
   "source": [
    "Максимум заданного выражения достигается в случае, когда первая его часть максимальна, т.е. Hits@47 == 1 - дубликат занимает одно из 46 мест (кроме первого), но при этом вторая часть выражения обнуляется, т.е. DCG@1 == 0, что достигается в случае, когда дубликат в ранжированном списке не попадает на первую позицию."
   ]
  },
  {
   "cell_type": "markdown",
   "metadata": {
    "id": "_tFemBkP6j1-"
   },
   "source": [
    "<img src='https://hsto.org/files/1c5/edf/dee/1c5edfdeebce4b71a86bdf986d9f88f2.jpg' width=400, height=200>"
   ]
  },
  {
   "cell_type": "markdown",
   "metadata": {
    "id": "0sUSxk866j1_"
   },
   "source": [
    "#### Пример оценок\n",
    "\n",
    "Вычислим описанные выше метрики для игрушечного примера.\n",
    "Пусть\n",
    "* $N = 1$, $R = 3$\n",
    "* <font color='green'>\"Что такое python?\"</font> - вопрос $q_1$\n",
    "* <font color='red'>\"Что такое язык python?\"</font> - его дубликат $q_i^{'}$\n",
    "\n",
    "Пусть модель выдала следующий ранжированный список кандидатов:\n",
    "\n",
    "1. \"Как изучить с++?\"\n",
    "2. <font color='red'>\"Что такое язык python?\"</font>\n",
    "3. \"Хочу учить Java\"\n",
    "4. \"Не понимаю Tensorflow\"\n",
    "\n",
    "$\\Rightarrow rank\\_q_i^{'} = 2$\n",
    "\n",
    "Вычислим метрику *Hits@K* для *K = 1, 4*:\n",
    "\n",
    "- [K = 1] $\\text{Hits@1} =  [rank\\_q_i^{'} \\le 1)] = 0$\n",
    "- [K = 4] $\\text{Hits@4} =  [rank\\_q_i^{'} \\le 4] = 1$\n",
    "\n",
    "Вычислим метрику *DCG@K* для *K = 1, 4*:\n",
    "- [K = 1] $\\text{DCG@1} = \\frac{1}{\\log_2(1+2)}\\cdot[2 \\le 1] = 0$\n",
    "- [K = 4] $\\text{DCG@4} = \\frac{1}{\\log_2(1+2)}\\cdot[2 \\le 4] = \\frac{1}{\\log_2{3}}$"
   ]
  },
  {
   "cell_type": "markdown",
   "metadata": {
    "id": "B4L6HJJC6j2B"
   },
   "source": [
    "#### Вопрос 4:\n",
    "* Вычислите `DCG@10`, если $rank\\_q_i^{'} = 9$(округлите до одного знака после запятой)"
   ]
  },
  {
   "cell_type": "code",
   "execution_count": 139,
   "metadata": {
    "execution": {
     "iopub.execute_input": "2025-02-11T19:53:13.759357Z",
     "iopub.status.busy": "2025-02-11T19:53:13.757349Z",
     "iopub.status.idle": "2025-02-11T19:53:13.767508Z",
     "shell.execute_reply": "2025-02-11T19:53:13.766989Z",
     "shell.execute_reply.started": "2025-02-11T19:53:13.759357Z"
    }
   },
   "outputs": [
    {
     "data": {
      "text/plain": [
       "0.3"
      ]
     },
     "execution_count": 139,
     "metadata": {},
     "output_type": "execute_result"
    }
   ],
   "source": [
    "round(1 / np.log2(9+1), 2)"
   ]
  },
  {
   "cell_type": "markdown",
   "metadata": {},
   "source": [
    "$$DCG @10 = \\frac{1 \\: [9 \\leq 10]}{\\log_{2}({1+9})}=\\frac{1}{3.32} \\approx 0.3$$"
   ]
  },
  {
   "cell_type": "markdown",
   "metadata": {
    "id": "J5xWOORI6j2F"
   },
   "source": [
    "### HITS\\_COUNT и DCG\\_SCORE"
   ]
  },
  {
   "cell_type": "markdown",
   "metadata": {
    "id": "I1q9WQOx6j2H"
   },
   "source": [
    "Каждая функция имеет два аргумента: $dup\\_ranks$ и $k$. $dup\\_ranks$ является списком, который содержит рейтинги дубликатов(их позиции в ранжированном списке). Например, $dup\\_ranks = [2]$ для примера, описанного выше."
   ]
  },
  {
   "cell_type": "code",
   "execution_count": 232,
   "metadata": {
    "execution": {
     "iopub.execute_input": "2025-02-12T12:33:33.499894Z",
     "iopub.status.busy": "2025-02-12T12:33:33.498894Z",
     "iopub.status.idle": "2025-02-12T12:33:33.506184Z",
     "shell.execute_reply": "2025-02-12T12:33:33.505176Z",
     "shell.execute_reply.started": "2025-02-12T12:33:33.499894Z"
    },
    "id": "82hQaxCH6j2R"
   },
   "outputs": [],
   "source": [
    "def hits_count(dup_ranks, k):\n",
    "    \"\"\"\n",
    "        dup_ranks: list индексов дубликатов\n",
    "        result: вернуть  Hits@k\n",
    "    \"\"\"\n",
    "    hits_value = np.mean(np.array(dup_ranks) <= k)\n",
    "    return hits_value"
   ]
  },
  {
   "cell_type": "code",
   "execution_count": 233,
   "metadata": {
    "execution": {
     "iopub.execute_input": "2025-02-12T12:33:33.864658Z",
     "iopub.status.busy": "2025-02-12T12:33:33.862649Z",
     "iopub.status.idle": "2025-02-12T12:33:33.870730Z",
     "shell.execute_reply": "2025-02-12T12:33:33.870245Z",
     "shell.execute_reply.started": "2025-02-12T12:33:33.864658Z"
    },
    "id": "82hQaxCH6j2R"
   },
   "outputs": [],
   "source": [
    "def dcg_score(dup_ranks, k):\n",
    "    \"\"\"\n",
    "        dup_ranks: list индексов дубликатов\n",
    "        result: вернуть DCG@k\n",
    "    \"\"\"\n",
    "    dcg_score = np.mean(np.where(np.array(dup_ranks) <= k, 1, 0) * (1 / np.log2(1 + np.array(dup_ranks))))\n",
    "    return dcg_score"
   ]
  },
  {
   "cell_type": "markdown",
   "metadata": {
    "id": "PcwHeXN26j2Y"
   },
   "source": [
    "Протестируем функции. Пусть $N = 1$, то есть один эксперимент. Будем искать копию вопроса и оценивать метрики."
   ]
  },
  {
   "cell_type": "code",
   "execution_count": 129,
   "metadata": {
    "execution": {
     "iopub.execute_input": "2025-02-11T19:44:42.301439Z",
     "iopub.status.busy": "2025-02-11T19:44:42.300416Z",
     "iopub.status.idle": "2025-02-11T19:44:42.308591Z",
     "shell.execute_reply": "2025-02-11T19:44:42.308591Z",
     "shell.execute_reply.started": "2025-02-11T19:44:42.301439Z"
    },
    "id": "gLa_Wqfh6j2m"
   },
   "outputs": [
    {
     "name": "stdout",
     "output_type": "stream",
     "text": [
      "Ваш ответ HIT: [0.0, 1.0, 1.0, 1.0]\n",
      "Ваш ответ DCG: [0.0, 0.63093, 0.63093, 0.63093]\n"
     ]
    }
   ],
   "source": [
    "copy_answers = [\"How does the catch keyword determine the type of exception that was thrown\",]\n",
    "\n",
    "# наги кандидаты\n",
    "candidates_ranking = [[\"How Can I Make These Links Rotate in PHP\",\n",
    "                       \"How does the catch keyword determine the type of exception that was thrown\",\n",
    "                       \"NSLog array description not memory address\",\n",
    "                       \"PECL_HTTP not recognised php ubuntu\"],]\n",
    "# dup_ranks — позиции наших копий, так как эксперимент один, то этот массив длины 1\n",
    "dup_ranks = [2]\n",
    "\n",
    "# вычисляем метрику для разных k\n",
    "print('Ваш ответ HIT:', [hits_count(dup_ranks, k) for k in range(1, 5)])\n",
    "print('Ваш ответ DCG:', [round(dcg_score(dup_ranks, k), 5) for k in range(1, 5)])"
   ]
  },
  {
   "cell_type": "markdown",
   "metadata": {
    "id": "MoHC3YoQ6j2t"
   },
   "source": [
    "У вас должно получиться"
   ]
  },
  {
   "cell_type": "code",
   "execution_count": 100,
   "metadata": {
    "execution": {
     "iopub.execute_input": "2025-02-11T19:32:50.264409Z",
     "iopub.status.busy": "2025-02-11T19:32:50.263411Z",
     "iopub.status.idle": "2025-02-11T19:32:50.280157Z",
     "shell.execute_reply": "2025-02-11T19:32:50.280157Z",
     "shell.execute_reply.started": "2025-02-11T19:32:50.264409Z"
    },
    "id": "B0NFWq4f6j2u",
    "scrolled": true
   },
   "outputs": [
    {
     "data": {
      "text/html": [
       "<div>\n",
       "<style scoped>\n",
       "    .dataframe tbody tr th:only-of-type {\n",
       "        vertical-align: middle;\n",
       "    }\n",
       "\n",
       "    .dataframe tbody tr th {\n",
       "        vertical-align: top;\n",
       "    }\n",
       "\n",
       "    .dataframe thead th {\n",
       "        text-align: right;\n",
       "    }\n",
       "</style>\n",
       "<table border=\"1\" class=\"dataframe\">\n",
       "  <thead>\n",
       "    <tr style=\"text-align: right;\">\n",
       "      <th></th>\n",
       "      <th>1</th>\n",
       "      <th>2</th>\n",
       "      <th>3</th>\n",
       "      <th>4</th>\n",
       "    </tr>\n",
       "  </thead>\n",
       "  <tbody>\n",
       "    <tr>\n",
       "      <th>HITS</th>\n",
       "      <td>0</td>\n",
       "      <td>1.00000</td>\n",
       "      <td>1.00000</td>\n",
       "      <td>1.00000</td>\n",
       "    </tr>\n",
       "    <tr>\n",
       "      <th>DCG</th>\n",
       "      <td>0</td>\n",
       "      <td>0.63093</td>\n",
       "      <td>0.63093</td>\n",
       "      <td>0.63093</td>\n",
       "    </tr>\n",
       "  </tbody>\n",
       "</table>\n",
       "</div>"
      ],
      "text/plain": [
       "      1        2        3        4\n",
       "HITS  0  1.00000  1.00000  1.00000\n",
       "DCG   0  0.63093  0.63093  0.63093"
      ]
     },
     "execution_count": 100,
     "metadata": {},
     "output_type": "execute_result"
    }
   ],
   "source": [
    "# correct_answers - метрика для разных k\n",
    "correct_answers = pd.DataFrame([[0, 1, 1, 1], [0, 1 / (np.log2(3)), 1 / (np.log2(3)), 1 / (np.log2(3))]],\n",
    "                               index=['HITS', 'DCG'], columns=range(1,5))\n",
    "correct_answers"
   ]
  },
  {
   "cell_type": "markdown",
   "metadata": {
    "id": "tHZqgDTo6j0i"
   },
   "source": [
    "### Данные\n",
    "[arxiv link](https://drive.google.com/file/d/1QqT4D0EoqJTy7v9VrNCYD-m964XZFR7_/edit)\n",
    "\n",
    "`train.tsv` - выборка для обучения.<br> В каждой строке через табуляцию записаны: **<вопрос>, <похожий вопрос>**\n",
    "\n",
    "`validation.tsv` - тестовая выборка.<br> В каждой строке через табуляцию записаны: **<вопрос>, <похожий вопрос>, <отрицательный пример 1>, <отрицательный пример 2>, ...**"
   ]
  },
  {
   "cell_type": "code",
   "execution_count": 142,
   "metadata": {
    "colab": {
     "base_uri": "https://localhost:8080/"
    },
    "execution": {
     "iopub.execute_input": "2025-02-11T20:00:47.755232Z",
     "iopub.status.busy": "2025-02-11T20:00:47.754233Z",
     "iopub.status.idle": "2025-02-11T20:00:47.778358Z",
     "shell.execute_reply": "2025-02-11T20:00:47.778358Z",
     "shell.execute_reply.started": "2025-02-11T20:00:47.755232Z"
    },
    "id": "jKVK2lDGvrIe",
    "outputId": "51944c9b-d6e8-41af-bec4-bb35fba5d51b"
   },
   "outputs": [
    {
     "name": "stderr",
     "output_type": "stream",
     "text": [
      "'unzip' is not recognized as an internal or external command,\n",
      "operable program or batch file.\n"
     ]
    }
   ],
   "source": [
    "!unzip stackoverflow_similar_questions.zip"
   ]
  },
  {
   "cell_type": "markdown",
   "metadata": {
    "id": "hil2UsUG6j22"
   },
   "source": [
    "Считайте данные."
   ]
  },
  {
   "cell_type": "code",
   "execution_count": 215,
   "metadata": {
    "execution": {
     "iopub.execute_input": "2025-02-12T12:28:37.169087Z",
     "iopub.status.busy": "2025-02-12T12:28:37.167089Z",
     "iopub.status.idle": "2025-02-12T12:28:37.175544Z",
     "shell.execute_reply": "2025-02-12T12:28:37.174539Z",
     "shell.execute_reply.started": "2025-02-12T12:28:37.169087Z"
    },
    "id": "B4EBho8s6j26"
   },
   "outputs": [],
   "source": [
    "def read_corpus(filename):\n",
    "    data = []\n",
    "    for line in open(filename, encoding='utf-8'):\n",
    "        data.append(line.split('\\t'))\n",
    "    return data"
   ]
  },
  {
   "cell_type": "markdown",
   "metadata": {
    "id": "kkTxY3Mk9_nG"
   },
   "source": [
    "Нам понадобится только файл validation."
   ]
  },
  {
   "cell_type": "code",
   "execution_count": 216,
   "metadata": {
    "colab": {
     "base_uri": "https://localhost:8080/",
     "height": 274
    },
    "execution": {
     "iopub.execute_input": "2025-02-12T12:28:38.069239Z",
     "iopub.status.busy": "2025-02-12T12:28:38.069239Z",
     "iopub.status.idle": "2025-02-12T12:28:38.696100Z",
     "shell.execute_reply": "2025-02-12T12:28:38.696100Z",
     "shell.execute_reply.started": "2025-02-12T12:28:38.069239Z"
    },
    "id": "PTVB9Tnp6j29",
    "outputId": "9c55c802-3d82-471d-eab2-195dabf5026c"
   },
   "outputs": [],
   "source": [
    "validation_data = read_corpus('./data/validation.tsv')"
   ]
  },
  {
   "cell_type": "markdown",
   "metadata": {
    "id": "bTHfL-9y6j3F"
   },
   "source": [
    "Кол-во строк"
   ]
  },
  {
   "cell_type": "markdown",
   "metadata": {
    "id": "kaOQblBy6j3M"
   },
   "source": [
    "Размер нескольких первых строк"
   ]
  },
  {
   "cell_type": "code",
   "execution_count": 217,
   "metadata": {
    "execution": {
     "iopub.execute_input": "2025-02-12T12:28:40.551756Z",
     "iopub.status.busy": "2025-02-12T12:28:40.549756Z",
     "iopub.status.idle": "2025-02-12T12:28:40.557713Z",
     "shell.execute_reply": "2025-02-12T12:28:40.556703Z",
     "shell.execute_reply.started": "2025-02-12T12:28:40.551756Z"
    },
    "id": "yRx6e-Pe6j3M"
   },
   "outputs": [
    {
     "name": "stdout",
     "output_type": "stream",
     "text": [
      "1 1001\n",
      "2 1001\n",
      "3 1001\n",
      "4 1001\n",
      "5 1001\n"
     ]
    }
   ],
   "source": [
    "for i in range(5):\n",
    "    print(i + 1, len(validation_data[i]))"
   ]
  },
  {
   "cell_type": "markdown",
   "metadata": {
    "id": "ySQQp0oQt1Ep"
   },
   "source": [
    "### Ранжирование без обучения"
   ]
  },
  {
   "cell_type": "markdown",
   "metadata": {
    "id": "iElEDhj-6j3R"
   },
   "source": [
    "Реализуйте функцию ранжирования кандидатов на основе косинусного расстояния. Функция должна по списку кандидатов вернуть отсортированный список пар (позиция в исходном списке кандидатов, кандидат). При этом позиция кандидата в полученном списке является его рейтингом (первый - лучший). Например, если исходный список кандидатов был [a, b, c], и самый похожий на исходный вопрос среди них - c, затем a, и в конце b, то функция должна вернуть список **[(2, c), (0, a), (1, b)]**."
   ]
  },
  {
   "cell_type": "code",
   "execution_count": 225,
   "metadata": {
    "execution": {
     "iopub.execute_input": "2025-02-12T12:32:58.944020Z",
     "iopub.status.busy": "2025-02-12T12:32:58.943012Z",
     "iopub.status.idle": "2025-02-12T12:32:58.951215Z",
     "shell.execute_reply": "2025-02-12T12:32:58.950211Z",
     "shell.execute_reply.started": "2025-02-12T12:32:58.944020Z"
    },
    "id": "1yP8wJWj6j3X"
   },
   "outputs": [],
   "source": [
    "def rank_candidates(question, candidates, embeddings = wv_embeddings, tokenizer = tokenizer_1, dim=200):\n",
    "    \"\"\"\n",
    "        question: строка\n",
    "        candidates: массив строк(кандидатов) [a, b, c]\n",
    "        result: пары (начальная позиция, кандидат) [(2, c), (0, a), (1, b)]\n",
    "    \"\"\"\n",
    "    question_emb = question_to_vec(question, embeddings, tokenizer, dim)\n",
    "    \n",
    "    candidates_emb = np.array([question_to_vec(i, embeddings, tokenizer, dim) for i in candidates])\n",
    "\n",
    "    scores = [(i, j[0], j[1]) for i, j in enumerate(zip(candidates, (np.dot(question_emb, candidates_emb.T) / (norm(question_emb) * np.where(norm(candidates_emb, axis = 1) == 0, 1e-5, norm(candidates_emb, axis = 1))))))]\n",
    "    \n",
    "    return [i[:2] for i in sorted(scores, key = lambda x: x[2], reverse=True)]"
   ]
  },
  {
   "cell_type": "markdown",
   "metadata": {
    "id": "TnBszTb76j3c"
   },
   "source": [
    "Протестируйте работу функции на примерах ниже. Пусть $N=2$, то есть два эксперимента"
   ]
  },
  {
   "cell_type": "code",
   "execution_count": 226,
   "metadata": {
    "execution": {
     "iopub.execute_input": "2025-02-12T12:33:00.791849Z",
     "iopub.status.busy": "2025-02-12T12:33:00.790848Z",
     "iopub.status.idle": "2025-02-12T12:33:00.797565Z",
     "shell.execute_reply": "2025-02-12T12:33:00.796887Z",
     "shell.execute_reply.started": "2025-02-12T12:33:00.791849Z"
    },
    "id": "xvQgtP176j3h"
   },
   "outputs": [],
   "source": [
    "questions = ['converting string to list', 'Sending array via Ajax fails']\n",
    "\n",
    "candidates = [['Convert Google results object (pure js) to Python object', # первый эксперимент\n",
    "               'C# create cookie from string and send it',\n",
    "               'How to use jQuery AJAX for an outside domain?'],\n",
    "\n",
    "              ['Getting all list items of an unordered list in PHP',      # второй эксперимент\n",
    "               'WPF- How to update the changes in list item of a list',\n",
    "               'select2 not displaying search results']]"
   ]
  },
  {
   "cell_type": "code",
   "execution_count": 227,
   "metadata": {
    "execution": {
     "iopub.execute_input": "2025-02-12T12:33:01.309758Z",
     "iopub.status.busy": "2025-02-12T12:33:01.309758Z",
     "iopub.status.idle": "2025-02-12T12:33:01.314784Z",
     "shell.execute_reply": "2025-02-12T12:33:01.314784Z",
     "shell.execute_reply.started": "2025-02-12T12:33:01.309758Z"
    },
    "id": "bPj1JGFi6j3m"
   },
   "outputs": [
    {
     "name": "stdout",
     "output_type": "stream",
     "text": [
      "[(1, 'C# create cookie from string and send it'), (0, 'Convert Google results object (pure js) to Python object'), (2, 'How to use jQuery AJAX for an outside domain?')]\n",
      "\n",
      "[(1, 'WPF- How to update the changes in list item of a list'), (0, 'Getting all list items of an unordered list in PHP'), (2, 'select2 not displaying search results')]\n",
      "\n"
     ]
    }
   ],
   "source": [
    "for question, q_candidates in zip(questions, candidates):\n",
    "        ranks = rank_candidates(question, q_candidates, wv_embeddings, tokenizer_1)\n",
    "        print(ranks)\n",
    "        print()"
   ]
  },
  {
   "cell_type": "code",
   "execution_count": 228,
   "metadata": {
    "execution": {
     "iopub.execute_input": "2025-02-12T12:33:04.511842Z",
     "iopub.status.busy": "2025-02-12T12:33:04.510840Z",
     "iopub.status.idle": "2025-02-12T12:33:04.518194Z",
     "shell.execute_reply": "2025-02-12T12:33:04.518194Z",
     "shell.execute_reply.started": "2025-02-12T12:33:04.511842Z"
    },
    "id": "bPj1JGFi6j3m"
   },
   "outputs": [
    {
     "name": "stdout",
     "output_type": "stream",
     "text": [
      "[(1, 'C# create cookie from string and send it'), (0, 'Convert Google results object (pure js) to Python object'), (2, 'How to use jQuery AJAX for an outside domain?')]\n",
      "\n",
      "[(1, 'WPF- How to update the changes in list item of a list'), (2, 'select2 not displaying search results'), (0, 'Getting all list items of an unordered list in PHP')]\n",
      "\n"
     ]
    }
   ],
   "source": [
    "for question, q_candidates in zip(questions, candidates):\n",
    "        ranks = rank_candidates(question.lower(), q_candidates, wv_embeddings, tokenizer_1)\n",
    "        print(ranks)\n",
    "        print()"
   ]
  },
  {
   "cell_type": "markdown",
   "metadata": {
    "id": "jm4cidj56j3q"
   },
   "source": [
    "Для первого экперимента вы можете полностью сравнить ваши ответы и правильные ответы. Но для второго эксперимента два ответа на кандидаты будут <b>скрыты</b>(*)"
   ]
  },
  {
   "cell_type": "code",
   "execution_count": null,
   "metadata": {
    "id": "0LeKMIsn6j3s"
   },
   "outputs": [],
   "source": [
    "# должно вывести\n",
    "results = [[(1, 'C# create cookie from string and send it'),\n",
    "            (0, 'Convert Google results object (pure js) to Python object'),\n",
    "            (2, 'How to use jQuery AJAX for an outside domain?')],\n",
    "           [(*, 'Getting all list items of an unordered list in PHP'), #скрыт\n",
    "            (*, 'select2 not displaying search results'), #скрыт\n",
    "            (*, 'WPF- How to update the changes in list item of a list')]] #скрыт"
   ]
  },
  {
   "cell_type": "markdown",
   "metadata": {
    "id": "t1ttnIBe6j3x"
   },
   "source": [
    "Последовательность начальных индексов вы должны получить `для эксперимента 1`  1, 0, 2."
   ]
  },
  {
   "cell_type": "markdown",
   "metadata": {
    "id": "5WQgYDWd6j3y"
   },
   "source": [
    "#### Вопрос 5:\n",
    "* Какую последовательность начальных индексов вы получили `для эксперимента 2`(перечисление без запятой и пробелов, например, `102` для первого эксперимента?"
   ]
  },
  {
   "cell_type": "markdown",
   "metadata": {},
   "source": [
    "*Вывод:* В зависимости от реализации процесса токенизации, пост обработки эмбеддингов получались различные последовательности итоговых индексов для `второго` эксперимента. \n",
    "\n",
    "- Первая последовательность: 1, 0, 2\n",
    "- Вторая последовательность: 1, 2, 0"
   ]
  },
  {
   "cell_type": "markdown",
   "metadata": {
    "id": "fPllOY-Y6j30"
   },
   "source": [
    "Теперь мы можем оценить качество нашего метода. Запустите следующие два блока кода для получения результата. Обратите внимание, что вычисление расстояния между векторами занимает некоторое время (примерно 10 минут). Можете взять для validation 1000 примеров."
   ]
  },
  {
   "cell_type": "code",
   "execution_count": 229,
   "metadata": {
    "execution": {
     "iopub.execute_input": "2025-02-12T12:33:07.935622Z",
     "iopub.status.busy": "2025-02-12T12:33:07.933615Z",
     "iopub.status.idle": "2025-02-12T12:33:24.382528Z",
     "shell.execute_reply": "2025-02-12T12:33:24.382071Z",
     "shell.execute_reply.started": "2025-02-12T12:33:07.935622Z"
    },
    "id": "nu7K4mis6j32"
   },
   "outputs": [
    {
     "data": {
      "application/vnd.jupyter.widget-view+json": {
       "model_id": "5b7258621a0d4034b54074a4567fdbbd",
       "version_major": 2,
       "version_minor": 0
      },
      "text/plain": [
       "  0%|          | 0/3760 [00:00<?, ?it/s]"
      ]
     },
     "metadata": {},
     "output_type": "display_data"
    },
    {
     "name": "stderr",
     "output_type": "stream",
     "text": [
      "C:\\Users\\gosha\\AppData\\Local\\Temp\\ipykernel_8800\\1551146121.py:11: RuntimeWarning: invalid value encountered in divide\n",
      "  scores = [(i, j[0], j[1]) for i, j in enumerate(zip(candidates, (np.dot(question_emb, candidates_emb.T) / (norm(question_emb) * np.where(norm(candidates_emb, axis = 1) == 0, 1e-5, norm(candidates_emb, axis = 1))))))]\n"
     ]
    }
   ],
   "source": [
    "wv_ranking = []\n",
    "max_validation_examples = 1000\n",
    "for i, line in enumerate(tqdm(validation_data)):\n",
    "    if i == max_validation_examples:\n",
    "        break\n",
    "    q, *ex = line\n",
    "    ranks = rank_candidates(q, ex, wv_embeddings, tokenizer)\n",
    "    wv_ranking.append([r[0] for r in ranks].index(0) + 1)"
   ]
  },
  {
   "cell_type": "code",
   "execution_count": 234,
   "metadata": {
    "execution": {
     "iopub.execute_input": "2025-02-12T12:33:37.179491Z",
     "iopub.status.busy": "2025-02-12T12:33:37.179491Z",
     "iopub.status.idle": "2025-02-12T12:33:37.198967Z",
     "shell.execute_reply": "2025-02-12T12:33:37.198967Z",
     "shell.execute_reply.started": "2025-02-12T12:33:37.179491Z"
    },
    "id": "gDtS520v6j35",
    "scrolled": true
   },
   "outputs": [
    {
     "data": {
      "application/vnd.jupyter.widget-view+json": {
       "model_id": "e658221f4e7044d1b6a3d0e60c2e4505",
       "version_major": 2,
       "version_minor": 0
      },
      "text/plain": [
       "  0%|          | 0/6 [00:00<?, ?it/s]"
      ]
     },
     "metadata": {},
     "output_type": "display_data"
    },
    {
     "name": "stdout",
     "output_type": "stream",
     "text": [
      "DCG@   1: 0.285 | Hits@   1: 0.285\n",
      "DCG@   5: 0.342 | Hits@   5: 0.393\n",
      "DCG@  10: 0.360 | Hits@  10: 0.449\n",
      "DCG@ 100: 0.406 | Hits@ 100: 0.679\n",
      "DCG@ 500: 0.431 | Hits@ 500: 0.879\n",
      "DCG@1000: 0.444 | Hits@1000: 1.000\n"
     ]
    }
   ],
   "source": [
    "for k in tqdm([1, 5, 10, 100, 500, 1000]):\n",
    "    print(\"DCG@%4d: %.3f | Hits@%4d: %.3f\" % (k, dcg_score(wv_ranking, k), k, hits_count(wv_ranking, k)))"
   ]
  },
  {
   "cell_type": "markdown",
   "metadata": {
    "id": "LL6_Rjg3InL8"
   },
   "source": [
    "### Эмбеддинги, обученные на корпусе похожих вопросов"
   ]
  },
  {
   "cell_type": "code",
   "execution_count": 235,
   "metadata": {
    "execution": {
     "iopub.execute_input": "2025-02-12T12:34:48.170441Z",
     "iopub.status.busy": "2025-02-12T12:34:48.169445Z",
     "iopub.status.idle": "2025-02-12T12:34:49.931071Z",
     "shell.execute_reply": "2025-02-12T12:34:49.931071Z",
     "shell.execute_reply.started": "2025-02-12T12:34:48.170441Z"
    },
    "id": "iNvbpR5gJIPz"
   },
   "outputs": [],
   "source": [
    "train_data = read_corpus('./data/train.tsv')"
   ]
  },
  {
   "cell_type": "markdown",
   "metadata": {
    "id": "Nr281ZyEJfjT"
   },
   "source": [
    "Улучшите качество модели.<br>Склеим вопросы в пары и обучим на них модель Word2Vec из gensim. Выберите размер window. Объясните свой выбор."
   ]
  },
  {
   "cell_type": "markdown",
   "metadata": {},
   "source": [
    "Для оценки качества дополнительно используем библиотеку `spacy` и её *пайплайн* предобработки текста."
   ]
  },
  {
   "cell_type": "code",
   "execution_count": 243,
   "metadata": {
    "execution": {
     "iopub.execute_input": "2025-02-12T12:47:11.685024Z",
     "iopub.status.busy": "2025-02-12T12:47:11.683909Z",
     "iopub.status.idle": "2025-02-12T12:47:12.011529Z",
     "shell.execute_reply": "2025-02-12T12:47:12.011529Z",
     "shell.execute_reply.started": "2025-02-12T12:47:11.685024Z"
    }
   },
   "outputs": [],
   "source": [
    "nlp = spacy.load(\"en_core_web_sm\")"
   ]
  },
  {
   "cell_type": "code",
   "execution_count": 265,
   "metadata": {
    "execution": {
     "iopub.execute_input": "2025-02-12T14:14:10.738484Z",
     "iopub.status.busy": "2025-02-12T14:14:10.737480Z",
     "iopub.status.idle": "2025-02-12T14:14:10.930435Z",
     "shell.execute_reply": "2025-02-12T14:14:10.930435Z",
     "shell.execute_reply.started": "2025-02-12T14:14:10.738484Z"
    }
   },
   "outputs": [],
   "source": [
    "train_concat = [' '.join(i).strip() for i in train_data]"
   ]
  },
  {
   "cell_type": "code",
   "execution_count": 266,
   "metadata": {
    "execution": {
     "iopub.execute_input": "2025-02-12T14:14:11.455301Z",
     "iopub.status.busy": "2025-02-12T14:14:11.453295Z",
     "iopub.status.idle": "2025-02-12T14:14:20.743101Z",
     "shell.execute_reply": "2025-02-12T14:14:20.743101Z",
     "shell.execute_reply.started": "2025-02-12T14:14:11.455301Z"
    },
    "id": "f6Y46SSQMTL0"
   },
   "outputs": [],
   "source": [
    "train_text = list()\n",
    "\n",
    "for doc in nlp.pipe(train_concat[:64], batch_size=32, n_process=3, disable=[\"parser\", \"ner\", 'tagger', 'textcat']): # Отключаем дополнительные модули пайплайна, используем только токенизатор и лемматизацию\n",
    "    train_text.append(' '.join([i.lemma_ for i in doc if i.lemma_ not in stopWords]))"
   ]
  },
  {
   "cell_type": "code",
   "execution_count": 267,
   "metadata": {
    "execution": {
     "iopub.execute_input": "2025-02-12T14:14:20.744440Z",
     "iopub.status.busy": "2025-02-12T14:14:20.744440Z",
     "iopub.status.idle": "2025-02-12T14:14:20.765374Z",
     "shell.execute_reply": "2025-02-12T14:14:20.765374Z",
     "shell.execute_reply.started": "2025-02-12T14:14:20.744440Z"
    },
    "id": "QuJzAM0cI-UH"
   },
   "outputs": [],
   "source": [
    "embeddings_trained = Word2Vec(train_text, # data for model to train on\n",
    "                 vector_size=200,                 # embedding vector size\n",
    "                 min_count=5,             # consider words that occured at least 5 times\n",
    "                 window=5).wv"
   ]
  },
  {
   "cell_type": "markdown",
   "metadata": {},
   "source": [
    "*Объяснение:* размер окна 5 является оптимальным, так как позволяет учитывать для центрального слова симметричное количество токенов вокруг, включает в себя *достаточный* объём информации, так как рассматривается контекст от двух предыдущих, двух последующих слов, что позволяет собирать информацию только о ближайших контекстных токенах; минимальная частота равная 5 может быть оптимальной для небольшого корпуса текстов, однако данный гиперпараметр потребуется изменять в случае, когда объём выборки для обучения эмбеддингов увеличится."
   ]
  },
  {
   "cell_type": "code",
   "execution_count": 268,
   "metadata": {
    "execution": {
     "iopub.execute_input": "2025-02-12T14:14:20.766588Z",
     "iopub.status.busy": "2025-02-12T14:14:20.765374Z",
     "iopub.status.idle": "2025-02-12T14:14:28.564097Z",
     "shell.execute_reply": "2025-02-12T14:14:28.563589Z",
     "shell.execute_reply.started": "2025-02-12T14:14:20.766588Z"
    },
    "id": "OQonbm4nMenD"
   },
   "outputs": [
    {
     "data": {
      "application/vnd.jupyter.widget-view+json": {
       "model_id": "281117ebeb714a78bf90a4c8aa2cebba",
       "version_major": 2,
       "version_minor": 0
      },
      "text/plain": [
       "  0%|          | 0/3760 [00:00<?, ?it/s]"
      ]
     },
     "metadata": {},
     "output_type": "display_data"
    },
    {
     "name": "stderr",
     "output_type": "stream",
     "text": [
      "C:\\Users\\gosha\\AppData\\Local\\Temp\\ipykernel_8800\\1551146121.py:11: RuntimeWarning: invalid value encountered in divide\n",
      "  scores = [(i, j[0], j[1]) for i, j in enumerate(zip(candidates, (np.dot(question_emb, candidates_emb.T) / (norm(question_emb) * np.where(norm(candidates_emb, axis = 1) == 0, 1e-5, norm(candidates_emb, axis = 1))))))]\n"
     ]
    }
   ],
   "source": [
    "wv_ranking = []\n",
    "max_validation_examples = 1000\n",
    "for i, line in enumerate(tqdm(validation_data)):\n",
    "    if i == max_validation_examples:\n",
    "        break\n",
    "    q, *ex = line\n",
    "    ranks = rank_candidates(q, ex, embeddings_trained, tokenizer)\n",
    "    wv_ranking.append([r[0] for r in ranks].index(0) + 1)"
   ]
  },
  {
   "cell_type": "code",
   "execution_count": 269,
   "metadata": {
    "execution": {
     "iopub.execute_input": "2025-02-12T14:14:28.565102Z",
     "iopub.status.busy": "2025-02-12T14:14:28.565102Z",
     "iopub.status.idle": "2025-02-12T14:14:28.574567Z",
     "shell.execute_reply": "2025-02-12T14:14:28.574567Z",
     "shell.execute_reply.started": "2025-02-12T14:14:28.565102Z"
    },
    "id": "3kahBUPGMgGR"
   },
   "outputs": [
    {
     "data": {
      "application/vnd.jupyter.widget-view+json": {
       "model_id": "527f9c3c80014da5a96877f65519ddd6",
       "version_major": 2,
       "version_minor": 0
      },
      "text/plain": [
       "  0%|          | 0/6 [00:00<?, ?it/s]"
      ]
     },
     "metadata": {},
     "output_type": "display_data"
    },
    {
     "name": "stdout",
     "output_type": "stream",
     "text": [
      "DCG@   1: 0.758 | Hits@   1: 0.758\n",
      "DCG@   5: 0.780 | Hits@   5: 0.803\n",
      "DCG@  10: 0.783 | Hits@  10: 0.812\n",
      "DCG@ 100: 0.785 | Hits@ 100: 0.819\n",
      "DCG@ 500: 0.807 | Hits@ 500: 1.000\n",
      "DCG@1000: 0.807 | Hits@1000: 1.000\n"
     ]
    }
   ],
   "source": [
    "for k in tqdm([1, 5, 10, 100, 500, 1000]):\n",
    "    print(\"DCG@%4d: %.3f | Hits@%4d: %.3f\" % (k, dcg_score(wv_ranking, k), k, hits_count(wv_ranking, k)))"
   ]
  },
  {
   "cell_type": "markdown",
   "metadata": {
    "id": "tY8PxB0j-ThG"
   },
   "source": [
    "### Замечание:\n",
    "Решить эту задачу с помощью обучения полноценной нейронной сети будет вам предложено, как часть задания в одной из домашних работ по теме \"Диалоговые системы\"."
   ]
  },
  {
   "cell_type": "markdown",
   "metadata": {
    "id": "vymVj8IxO2PO"
   },
   "source": [
    "Напишите свой вывод о полученных результатах.\n",
    "* Какой принцип токенизации даёт качество лучше и почему?\n",
    "* Помогает ли нормализация слов?\n",
    "* Какие эмбеддинги лучше справляются с задачей и почему?\n",
    "* Почему получилось плохое качество решения задачи?\n",
    "* Предложите свой подход к решению задачи.\n",
    "\n",
    "## Вывод:\n"
   ]
  },
  {
   "cell_type": "markdown",
   "metadata": {
    "id": "emODHztAQUQz"
   },
   "source": [
    "- Использование токенизаторов, позволяющих выделять слова и отделять их от знаков препинания, второстепенных символов позволяет увеличить качество работы алгоритмов, так как позволяет снизить размер словаря (если при этом не предусмотрено использование процесса лемматизации);\n",
    "- Нормализация слов позволяет снизить размер словаря и улучить качество полученных эмбеддингов;\n",
    "- Эмбеддинги предварительно обученные на заданном корпусе текстов справляются с задачей лучше, так как учитывают больше контекстной информации внутри данного корпуса;\n",
    "- Низкое качество решения задачи могло быть обусловлено недостаточной предобработкой текста;\n",
    "- Для улучшения качества работы `Word2Vec` для задачи ранжирования возможно улучшить последовательность предобработки текста, дополнительно используюя более сложные процессы токенизации, используя стемминг и лемматизацию для получения оптимального размера словаря и обучения эмбеддингов, возможно, что увеличение качества можно достичь за счёт использования процесса Byte pair encoding для захвата бОльшего числа токенов их векторизации с помощью моделей нейронных сетей."
   ]
  },
  {
   "cell_type": "code",
   "execution_count": null,
   "metadata": {},
   "outputs": [],
   "source": []
  }
 ],
 "metadata": {
  "colab": {
   "collapsed_sections": [
    "BIWqBuEa6j0b",
    "uS9FwWNd5a3S",
    "MQk_rolFwT_h",
    "ai48-5vv6j1d",
    "Y60z4t6W6j16",
    "0sUSxk866j1_",
    "J5xWOORI6j2F",
    "tHZqgDTo6j0i",
    "ySQQp0oQt1Ep",
    "LL6_Rjg3InL8"
   ],
   "provenance": []
  },
  "kernelspec": {
   "display_name": "Python 3 (ipykernel)",
   "language": "python",
   "name": "python3"
  },
  "language_info": {
   "codemirror_mode": {
    "name": "ipython",
    "version": 3
   },
   "file_extension": ".py",
   "mimetype": "text/x-python",
   "name": "python",
   "nbconvert_exporter": "python",
   "pygments_lexer": "ipython3",
   "version": "3.12.6"
  },
  "widgets": {
   "application/vnd.jupyter.widget-state+json": {
    "state": {},
    "version_major": 2,
    "version_minor": 0
   }
  }
 },
 "nbformat": 4,
 "nbformat_minor": 4
}
