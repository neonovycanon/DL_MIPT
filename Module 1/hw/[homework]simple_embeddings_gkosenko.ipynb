{
 "cells": [
  {
   "cell_type": "markdown",
   "metadata": {
    "id": "Ot3c4fjZwC4T"
   },
   "source": [
    "<img src=\"https://s8.hostingkartinok.com/uploads/images/2018/08/308b49fcfbc619d629fe4604bceb67ac.jpg\" width=500, height=450>\n",
    "<h3 style=\"text-align: center;\"><b>Физтех-Школа Прикладной математики и информатики (ФПМИ) МФТИ</b></h3>"
   ]
  },
  {
   "cell_type": "markdown",
   "metadata": {
    "id": "P2JdzEXmwRU5"
   },
   "source": [
    "---"
   ]
  },
  {
   "cell_type": "markdown",
   "metadata": {
    "id": "Fc8iHXIVwDwj"
   },
   "source": [
    "***Some parts of the notebook are almost the copy of [ mmta-team course](https://github.com/mmta-team/mmta_fall_2020). Special thanks to mmta-team for making them publicly available. [Original notebook](https://github.com/mmta-team/mmta_fall_2020/blob/master/tasks/01_word_embeddings/task_word_embeddings.ipynb).***"
   ]
  },
  {
   "cell_type": "markdown",
   "metadata": {
    "id": "7D0wm5jt6j0U"
   },
   "source": [
    "<b> Прочитайте семинар, пожалуйста, для успешного выполнения домашнего задания. В конце ноутка напишите свой вывод. Работа без вывода оценивается ниже."
   ]
  },
  {
   "cell_type": "code",
   "execution_count": 1,
   "metadata": {
    "execution": {
     "iopub.execute_input": "2025-02-15T07:57:17.421605Z",
     "iopub.status.busy": "2025-02-15T07:57:17.421605Z",
     "iopub.status.idle": "2025-02-15T07:57:35.935337Z",
     "shell.execute_reply": "2025-02-15T07:57:35.935337Z",
     "shell.execute_reply.started": "2025-02-15T07:57:17.421605Z"
    }
   },
   "outputs": [
    {
     "name": "stderr",
     "output_type": "stream",
     "text": [
      "[nltk_data] Downloading package punkt to stopwords...\n",
      "[nltk_data]   Unzipping tokenizers\\punkt.zip.\n"
     ]
    }
   ],
   "source": [
    "# Импорт библиотек\n",
    "import re\n",
    "import numpy as np\n",
    "from numpy.linalg import norm\n",
    "import pandas as pd\n",
    "import urllib.request\n",
    "import spacy\n",
    "\n",
    "import nltk\n",
    "nltk.download('punkt', 'stopwords')\n",
    "from nltk.tokenize import word_tokenize\n",
    "from nltk.corpus import stopwords\n",
    "\n",
    "from gensim.models.keyedvectors import KeyedVectors\n",
    "from gensim.models import Word2Vec\n",
    "\n",
    "from sklearn.metrics.pairwise import cosine_similarity\n",
    "from copy import deepcopy\n",
    "\n",
    "from tqdm.notebook import tqdm"
   ]
  },
  {
   "cell_type": "code",
   "execution_count": 73,
   "metadata": {
    "execution": {
     "iopub.execute_input": "2025-02-15T09:17:37.349847Z",
     "iopub.status.busy": "2025-02-15T09:17:37.349847Z",
     "iopub.status.idle": "2025-02-15T09:17:37.365902Z",
     "shell.execute_reply": "2025-02-15T09:17:37.365902Z",
     "shell.execute_reply.started": "2025-02-15T09:17:37.349847Z"
    }
   },
   "outputs": [],
   "source": [
    "stopWords = set(stopwords.words('english'))"
   ]
  },
  {
   "cell_type": "markdown",
   "metadata": {
    "id": "BIWqBuEa6j0b"
   },
   "source": [
    "## Задача поиска схожих по смыслу предложений"
   ]
  },
  {
   "cell_type": "markdown",
   "metadata": {
    "id": "NUkwMPLA6j0g"
   },
   "source": [
    "Мы будем ранжировать вопросы [StackOverflow](https://stackoverflow.com) на основе семантического векторного представления"
   ]
  },
  {
   "cell_type": "markdown",
   "metadata": {
    "id": "dNRXIEfu5a3Q"
   },
   "source": [
    "До этого в курсе не было речи про задачу ранжировния, поэтому введем математическую формулировку"
   ]
  },
  {
   "cell_type": "markdown",
   "metadata": {
    "id": "uS9FwWNd5a3S"
   },
   "source": [
    "## Задача ранжирования(Learning to Rank)"
   ]
  },
  {
   "cell_type": "markdown",
   "metadata": {
    "id": "wdwY9-f75a3T"
   },
   "source": [
    "* $X$ - множество объектов\n",
    "* $X^l = \\{x_1, x_2, ..., x_l\\}$ - обучающая выборка\n",
    "<br>На обучающей выборке задан порядок между некоторыми элементами, то есть нам известно, что некий объект выборки более релевантный для нас, чем другой:\n",
    "* $i \\prec j$ - порядок пары индексов объектов на выборке $X^l$ c индексами $i$ и $j$\n",
    "### Задача:\n",
    "построить ранжирующую функцию $a$ : $X \\rightarrow R$ такую, что\n",
    "$$i \\prec j \\Rightarrow a(x_i) < a(x_j)$$"
   ]
  },
  {
   "cell_type": "markdown",
   "metadata": {
    "id": "WG2IGBsh5a3U"
   },
   "source": [
    "<img src=\"https://d25skit2l41vkl.cloudfront.net/wp-content/uploads/2016/12/Featured-Image.jpg\" width=500, height=450>"
   ]
  },
  {
   "cell_type": "markdown",
   "metadata": {
    "id": "MQk_rolFwT_h"
   },
   "source": [
    "### Embeddings"
   ]
  },
  {
   "cell_type": "markdown",
   "metadata": {
    "id": "xUe1PGXn6j0l"
   },
   "source": [
    "Будем использовать предобученные векторные представления слов на постах Stack Overflow.<br>\n",
    "[A word2vec model trained on Stack Overflow posts](https://github.com/vefstathiou/SO_word2vec)"
   ]
  },
  {
   "cell_type": "code",
   "execution_count": null,
   "metadata": {
    "colab": {
     "base_uri": "https://localhost:8080/"
    },
    "id": "mYkI54Y-rk7a",
    "outputId": "79e4b5e0-9e6b-47b9-e41d-6361ba3b1e8d"
   },
   "outputs": [
    {
     "name": "stdout",
     "output_type": "stream",
     "text": [
      "--2025-02-14 21:19:25--  https://zenodo.org/record/1199620/files/SO_vectors_200.bin?download=1\n",
      "Resolving zenodo.org (zenodo.org)... 188.185.45.92, 188.185.48.194, 188.185.43.25, ...\n",
      "Connecting to zenodo.org (zenodo.org)|188.185.45.92|:443... connected.\n",
      "HTTP request sent, awaiting response... 301 MOVED PERMANENTLY\n",
      "Location: /records/1199620/files/SO_vectors_200.bin [following]\n",
      "--2025-02-14 21:19:25--  https://zenodo.org/records/1199620/files/SO_vectors_200.bin\n",
      "Reusing existing connection to zenodo.org:443.\n",
      "HTTP request sent, awaiting response... 200 OK\n",
      "Length: 1453905423 (1.4G) [application/octet-stream]\n",
      "Saving to: ‘SO_vectors_200.bin?download=1’\n",
      "\n",
      "SO_vectors_200.bin? 100%[===================>]   1.35G  33.1MB/s    in 58s     \n",
      "\n",
      "2025-02-14 21:20:23 (24.0 MB/s) - ‘SO_vectors_200.bin?download=1’ saved [1453905423/1453905423]\n",
      "\n"
     ]
    }
   ],
   "source": [
    "# !wget https://zenodo.org/record/1199620/files/SO_vectors_200.bin?download=1"
   ]
  },
  {
   "cell_type": "code",
   "execution_count": 2,
   "metadata": {
    "execution": {
     "iopub.execute_input": "2025-02-15T07:58:04.109746Z",
     "iopub.status.busy": "2025-02-15T07:58:04.107736Z",
     "iopub.status.idle": "2025-02-15T07:58:04.117912Z",
     "shell.execute_reply": "2025-02-15T07:58:04.116900Z",
     "shell.execute_reply.started": "2025-02-15T07:58:04.109746Z"
    }
   },
   "outputs": [],
   "source": [
    "url = 'https://zenodo.org/record/1199620/files/SO_vectors_200.bin?download=1'\n",
    "filename = 'SO_vectors_200.bin'\n",
    "urllib.request.urlretrieve(url, filename)"
   ]
  },
  {
   "cell_type": "code",
   "execution_count": 3,
   "metadata": {
    "execution": {
     "iopub.execute_input": "2025-02-15T07:58:49.878154Z",
     "iopub.status.busy": "2025-02-15T07:58:49.877153Z",
     "iopub.status.idle": "2025-02-15T07:58:56.233821Z",
     "shell.execute_reply": "2025-02-15T07:58:56.233474Z",
     "shell.execute_reply.started": "2025-02-15T07:58:49.878154Z"
    },
    "id": "O8YJTOYv6j0s"
   },
   "outputs": [],
   "source": [
    "from gensim.models.keyedvectors import KeyedVectors\n",
    "wv_embeddings = KeyedVectors.load_word2vec_format(\"SO_vectors_200.bin\", binary=True)"
   ]
  },
  {
   "cell_type": "markdown",
   "metadata": {
    "id": "aIcT_g-C6j1E"
   },
   "source": [
    "#### Как пользоваться этими векторами?"
   ]
  },
  {
   "cell_type": "markdown",
   "metadata": {
    "id": "DWO5SPDY6j1G"
   },
   "source": [
    "Посмотрим на примере одного слова, что из себя представляет embedding"
   ]
  },
  {
   "cell_type": "code",
   "execution_count": 4,
   "metadata": {
    "execution": {
     "iopub.execute_input": "2025-02-15T07:59:13.756695Z",
     "iopub.status.busy": "2025-02-15T07:59:13.755696Z",
     "iopub.status.idle": "2025-02-15T07:59:13.762221Z",
     "shell.execute_reply": "2025-02-15T07:59:13.762221Z",
     "shell.execute_reply.started": "2025-02-15T07:59:13.756695Z"
    },
    "id": "KeSBlQfk6j1J"
   },
   "outputs": [
    {
     "name": "stdout",
     "output_type": "stream",
     "text": [
      "float32 (200,)\n"
     ]
    }
   ],
   "source": [
    "word = 'dog'\n",
    "if word in wv_embeddings:\n",
    "    print(wv_embeddings[word].dtype, wv_embeddings[word].shape)"
   ]
  },
  {
   "cell_type": "code",
   "execution_count": 5,
   "metadata": {
    "execution": {
     "iopub.execute_input": "2025-02-15T07:59:14.456472Z",
     "iopub.status.busy": "2025-02-15T07:59:14.456472Z",
     "iopub.status.idle": "2025-02-15T07:59:14.464950Z",
     "shell.execute_reply": "2025-02-15T07:59:14.464950Z",
     "shell.execute_reply.started": "2025-02-15T07:59:14.456472Z"
    },
    "id": "T4Eq-D1qxpMJ"
   },
   "outputs": [
    {
     "name": "stdout",
     "output_type": "stream",
     "text": [
      "Num of words: 1787145\n"
     ]
    }
   ],
   "source": [
    "print(f\"Num of words: {len(wv_embeddings.index_to_key)}\")"
   ]
  },
  {
   "cell_type": "markdown",
   "metadata": {
    "id": "ZT6NTCys6j1Q"
   },
   "source": [
    "Найдем наиболее близкие слова к слову `dog`:"
   ]
  },
  {
   "cell_type": "markdown",
   "metadata": {
    "id": "n08z2PjMwC5o"
   },
   "source": [
    "#### ***Вопрос 1:***\n",
    "* Входит ли слово `cat` в топ-5 близких слов к слову `dog`? Какое место оно занимает?\n"
   ]
  },
  {
   "cell_type": "code",
   "execution_count": 6,
   "metadata": {
    "execution": {
     "iopub.execute_input": "2025-02-15T07:59:35.014708Z",
     "iopub.status.busy": "2025-02-15T07:59:35.013710Z",
     "iopub.status.idle": "2025-02-15T07:59:35.482274Z",
     "shell.execute_reply": "2025-02-15T07:59:35.481267Z",
     "shell.execute_reply.started": "2025-02-15T07:59:35.014708Z"
    },
    "id": "nYwVz0xG6j1U",
    "scrolled": true
   },
   "outputs": [
    {
     "name": "stdout",
     "output_type": "stream",
     "text": [
      "Слово: animal, расстояние: 0.8564180135726929\n",
      "Слово: dogs, расстояние: 0.7880866527557373\n",
      "Слово: mammal, расстояние: 0.7623804211616516\n",
      "Слово: cats, расстояние: 0.7621253728866577\n",
      "Слово: animals, расстояние: 0.760793924331665\n"
     ]
    }
   ],
   "source": [
    "# method most_simmilar\n",
    "for i in wv_embeddings.most_similar(positive = ['dog'], topn=5):\n",
    "    print(f'Слово: {i[0]}, расстояние: {i[1]}')"
   ]
  },
  {
   "cell_type": "markdown",
   "metadata": {
    "id": "7Wu7O43AY5jH"
   },
   "source": [
    "***Ваш ответ:*** Слово `cat` не входит в топ-5 ближайших слов к слову `dog`, однако в топ-5 близких слов входит его множественное число `cats`. Возможно, что близость множественного числа `cats` обусловлена тем, что во время обучения именно эта форма слова чаще встречалась в обучающей выборке, также на это могло повлиять отсутствие процессов стемминга или лемматизации при продготовке текста, так как в оригинальной статье [Word Embeddings for the Software Engineering Domain](https://github.com/vefstathiou/SO_word2vec/blob/master/MSR18-w2v.pdf) указано, что текст был предобработан с учётом возможности сохранения читаемости кода, а также очищен от \"стоп-слов\", однако описанные выше процессы (стемминг/лемматизация) упомянуты не были ."
   ]
  },
  {
   "cell_type": "markdown",
   "metadata": {
    "id": "ai48-5vv6j1d"
   },
   "source": [
    "### Векторные представления текста\n",
    "\n",
    "Перейдем от векторных представлений отдельных слов к векторным представлениям вопросов, как к **среднему** векторов всех слов в вопросе. Если для какого-то слова нет предобученного вектора, то его нужно пропустить. Если вопрос не содержит ни одного известного слова, то нужно вернуть нулевой вектор."
   ]
  },
  {
   "cell_type": "code",
   "execution_count": 7,
   "metadata": {
    "execution": {
     "iopub.execute_input": "2025-02-15T08:01:30.883975Z",
     "iopub.status.busy": "2025-02-15T08:01:30.882976Z",
     "iopub.status.idle": "2025-02-15T08:01:30.891388Z",
     "shell.execute_reply": "2025-02-15T08:01:30.891388Z",
     "shell.execute_reply.started": "2025-02-15T08:01:30.883975Z"
    },
    "id": "EhNuxBJd6j1f"
   },
   "outputs": [],
   "source": [
    "# you can use your tokenizer\n",
    "# for example, from nltk.tokenize import WordPunctTokenizer\n",
    "class MyTokenizer:\n",
    "    \"\"\"\n",
    "        model: тип токенизатора\n",
    "            0 - токенизатор по умолчанию (поиск токенов из списка [A-Za-z0-9_]);\n",
    "            1 - токенизатор, сохраняющий знаки препинания как отдельные токены по LLMs-from-scratch: https://github.com/rasbt/LLMs-from-scratch/tree/main\n",
    "            2 - токенизатор word_tokenize библиотеки nltk (использует рекоммендуемый метод от NLTK)\n",
    "        return: список токенов\n",
    "    \"\"\"\n",
    "    \n",
    "    def __init__(self, model: int = 0):\n",
    "        self.model = model\n",
    "        \n",
    "    def tokenize(self, text):\n",
    "        if self.model == 0:\n",
    "            return re.findall(r'\\w+', text)\n",
    "            \n",
    "        elif self.model == 1:\n",
    "            preprocessed = re.split(r'([,.:;?_!\\\"()\\']|\\s)', text)\n",
    "            return [i.strip() for i in preprocessed if i.strip()]\n",
    "            \n",
    "        elif self.model == 2:\n",
    "            return word_tokenize(text)\n",
    "        else:\n",
    "            return None\n",
    "\n",
    "tokenizer_0 = MyTokenizer()\n",
    "tokenizer_1 = MyTokenizer(1)\n",
    "tokenizer_2 = MyTokenizer(2)"
   ]
  },
  {
   "cell_type": "code",
   "execution_count": 50,
   "metadata": {
    "execution": {
     "iopub.execute_input": "2025-02-15T08:56:25.159315Z",
     "iopub.status.busy": "2025-02-15T08:56:25.158315Z",
     "iopub.status.idle": "2025-02-15T08:56:25.166206Z",
     "shell.execute_reply": "2025-02-15T08:56:25.166206Z",
     "shell.execute_reply.started": "2025-02-15T08:56:25.159315Z"
    },
    "id": "YHcvu6186j1m"
   },
   "outputs": [],
   "source": [
    "def question_to_vec(question, embeddings = wv_embeddings, tokenizer = tokenizer_0, dim=200):\n",
    "    \"\"\"\n",
    "        question: строка\n",
    "        embeddings: наше векторное представление\n",
    "        dim: размер любого вектора в нашем представлении\n",
    "\n",
    "        return: векторное представление для вопроса\n",
    "    \"\"\"\n",
    "    if tokenizer != None:\n",
    "        words = tokenizer.tokenize(question)\n",
    "    else:\n",
    "        raise AttributeError('Tokenizer is undefined')\n",
    "        \n",
    "    if embeddings:\n",
    "        assert dim == embeddings.vector_size, 'Dimensions differ, check inputs!'\n",
    "        word_vectors = [embeddings[word] for word in words if word in embeddings]\n",
    "    else:\n",
    "        raise AttributeError('Embeddings are undefined')\n",
    "    \n",
    "    if not word_vectors:\n",
    "        return np.zeros(dim, dtype='float32')\n",
    "    \n",
    "    return  np.mean(word_vectors, axis = 0) # np.sum(word_vectors, axis = 0)"
   ]
  },
  {
   "cell_type": "markdown",
   "metadata": {
    "id": "u5Q_4j7r6j1u"
   },
   "source": [
    "Теперь у нас есть метод для создания векторного представления любого предложения."
   ]
  },
  {
   "cell_type": "markdown",
   "metadata": {
    "id": "EsJSNkhm6j1y"
   },
   "source": [
    "#### ***Вопрос 2:***\n",
    "\n",
    "* Какая третья (с индексом 2) компонента вектора предложения `I love neural networks` (округлите до 2 знаков после запятой)?"
   ]
  },
  {
   "cell_type": "code",
   "execution_count": 9,
   "metadata": {
    "execution": {
     "iopub.execute_input": "2025-02-15T08:02:05.266031Z",
     "iopub.status.busy": "2025-02-15T08:02:05.266031Z",
     "iopub.status.idle": "2025-02-15T08:02:05.336705Z",
     "shell.execute_reply": "2025-02-15T08:02:05.336705Z",
     "shell.execute_reply.started": "2025-02-15T08:02:05.266031Z"
    },
    "id": "a62r11cT6j10",
    "scrolled": true
   },
   "outputs": [
    {
     "name": "stdout",
     "output_type": "stream",
     "text": [
      "Модель токенизатора 0, компонента ввектора: -1.29\n",
      "Модель токенизатора 1, компонента ввектора: -1.29\n",
      "Модель токенизатора 2, компонента ввектора: -1.29\n"
     ]
    }
   ],
   "source": [
    "# Предложение\n",
    "question = \"I love neural networks\"\n",
    "\n",
    "for i in [tokenizer_0, tokenizer_1, tokenizer_2]:\n",
    "    print(f'Модель токенизатора {i.model}, компонента ввектора:', np.round(question_to_vec(question, tokenizer = i), 2)[2])"
   ]
  },
  {
   "cell_type": "markdown",
   "metadata": {
    "id": "wGNTG18dY73d"
   },
   "source": [
    "***Ваш ответ:*** третья (с индексом 2) компонента вектора предложения равна **`-1.29`**"
   ]
  },
  {
   "cell_type": "markdown",
   "metadata": {
    "id": "Y60z4t6W6j16"
   },
   "source": [
    "### Оценка близости текстов\n",
    "\n",
    "Представим, что мы используем идеальные векторные представления слов. Тогда косинусное расстояние между дублирующими предложениями должно быть меньше, чем между случайно взятыми предложениями.\n",
    "\n",
    "Сгенерируем для каждого из $N$ вопросов $R$ случайных отрицательных примеров и примешаем к ним также настоящие дубликаты. Для каждого вопроса будем ранжировать с помощью нашей модели $R + 1$ примеров и смотреть на позицию дубликата. Мы хотим, чтобы дубликат был первым в ранжированном списке.\n",
    "\n",
    "#### Hits@K\n",
    "Первой простой метрикой будет количество корректных попаданий для какого-то $K$:\n",
    "$$ \\text{Hits@K} = \\frac{1}{N}\\sum_{i=1}^N \\, [rank\\_q_i^{'} \\le K],$$\n",
    "* $\\begin{equation*}\n",
    "[x < 0 ] \\equiv\n",
    " \\begin{cases}\n",
    "   1, &x < 0\\\\\n",
    "   0, &x \\geq 0\n",
    " \\end{cases}\n",
    "\\end{equation*}$ - индикаторная функция\n",
    "* $q_i$ - $i$-ый вопрос\n",
    "* $q_i^{'}$ - его дубликат\n",
    "* $rank\\_q_i^{'}$ - позиция дубликата в ранжированном списке ближайших предложений для вопроса $q_i$.\n",
    "\n",
    "Hits@K  измеряет долю вопросов, для которых правильный ответ попал в топ-K позиций среди отранжированных кандидатов.\n",
    "\n",
    "#### DCG@K\n",
    "Второй метрикой будет упрощенная DCG метрика, учитывающая порядок элементов в списке путем домножения релевантности элемента на вес равный обратному логарифму номера позиции::\n",
    "$$ \\text{DCG@K} = \\frac{1}{N} \\sum_{i=1}^N\\frac{1}{\\log_2(1+rank\\_q_i^{'})}\\cdot[rank\\_q_i^{'} \\le K],$$\n",
    "С такой метрикой модель штрафуется за большой ранк корректного ответа.\n",
    "\n",
    "DCG@K  измеряет качество ранжирования, учитывая не только факт наличия правильного ответа в топ-K, но и ***его точную позицию***."
   ]
  },
  {
   "cell_type": "markdown",
   "metadata": {
    "id": "_tFemBkP6j1-"
   },
   "source": [
    "<img src='https://hsto.org/files/1c5/edf/dee/1c5edfdeebce4b71a86bdf986d9f88f2.jpg' width=400, height=200>"
   ]
  },
  {
   "cell_type": "markdown",
   "metadata": {
    "id": "0sUSxk866j1_"
   },
   "source": [
    "#### Пример оценок\n",
    "\n",
    "Вычислим описанные выше метрики для игрушечного примера.\n",
    "Пусть\n",
    "* $N = 1$, $R = 3$\n",
    "* <font color='green'>\"Что такое python?\"</font> - вопрос $q_1$\n",
    "* <font color='red'>\"Что такое язык python?\"</font> - его дубликат $q_i^{'}$\n",
    "\n",
    "Пусть модель выдала следующий ранжированный список кандидатов:\n",
    "\n",
    "1. \"Как изучить с++?\"\n",
    "2. <font color='red'>\"Что такое язык python?\"</font>\n",
    "3. \"Хочу учить Java\"\n",
    "4. \"Не понимаю Tensorflow\"\n",
    "\n",
    "$\\Rightarrow rank\\_q_i^{'} = 2$"
   ]
  },
  {
   "cell_type": "markdown",
   "metadata": {
    "id": "-XXCbN3uUiHU"
   },
   "source": [
    "Вычислим метрику *Hits@K* для *K = 1, 4*:\n",
    "\n",
    "- [K = 1] $\\text{Hits@1} =  [rank\\_q_i^{'} \\le 1]$\n",
    "\n",
    "Проверяем условие $ \\text{rank}_{q'_1} \\leq 1 $: ***условие неверно***.\n",
    "\n",
    "Следовательно, $[\\text{rank}_{q'_1} \\leq 1] = 0$.\n",
    "\n",
    "- [K = 4] $\\text{Hits@4} =  [rank\\_q_i^{'} \\le 4] = 1$\n",
    "\n",
    "Проверяем условие $ \\text{rank}_{q'_1} \\leq 4 $: ***условие верно***."
   ]
  },
  {
   "cell_type": "markdown",
   "metadata": {
    "id": "Ya9gf-dvVGmm"
   },
   "source": [
    "Вычислим метрику *DCG@K* для *K = 1, 4*:\n",
    "- [K = 1] $\\text{DCG@1} = \\frac{1}{\\log_2(1+2)}\\cdot[2 \\le 1] = 0$\n",
    "- [K = 4] $\\text{DCG@4} = \\frac{1}{\\log_2(1+2)}\\cdot[2 \\le 4] = \\frac{1}{\\log_2{3}}$"
   ]
  },
  {
   "cell_type": "markdown",
   "metadata": {
    "id": "B4L6HJJC6j2B"
   },
   "source": [
    "#### ***Вопрос 3***:\n",
    "* Вычислите `DCG@10`, если $rank\\_q_i^{'} = 9$(округлите до одного знака после запятой)\n",
    "\n"
   ]
  },
  {
   "cell_type": "code",
   "execution_count": 80,
   "metadata": {
    "execution": {
     "iopub.execute_input": "2025-02-15T09:35:42.942495Z",
     "iopub.status.busy": "2025-02-15T09:35:42.940499Z",
     "iopub.status.idle": "2025-02-15T09:35:42.947474Z",
     "shell.execute_reply": "2025-02-15T09:35:42.947474Z",
     "shell.execute_reply.started": "2025-02-15T09:35:42.942495Z"
    }
   },
   "outputs": [
    {
     "name": "stdout",
     "output_type": "stream",
     "text": [
      "Ответ: 0.3\n"
     ]
    }
   ],
   "source": [
    "print('Ответ:', round(1 / np.log2(9+1), 2))"
   ]
  },
  {
   "cell_type": "markdown",
   "metadata": {},
   "source": [
    "$$DCG @10 = \\frac{1 \\: [9 \\leq 10]}{\\log_{2}({1+9})}=\\frac{1}{3.32} \\approx 0.3$$"
   ]
  },
  {
   "cell_type": "markdown",
   "metadata": {
    "id": "hM1PtUq3haNS"
   },
   "source": [
    "#### Более сложный пример оценок\n",
    "\n",
    "Рассмотрим пример с $ N > 1 $, где $ N = 3 $ (три вопроса) и для каждого вопроса заданы позиции их дубликатов. Вычислим метрики **Hits@K** для разных значений $ K $.\n",
    "\n",
    "---\n",
    "\n",
    "- $ N = 3 $: Три вопроса ($ q_1, q_2, q_3 $).\n",
    "- Для каждого вопроса известна позиция его дубликата ($ \\text{rank}_{q'_i} $):\n",
    "  - $ \\text{rank}_{q'_1} = 2 $,\n",
    "  - $ \\text{rank}_{q'_2} = 5 $,\n",
    "  - $ \\text{rank}_{q'_3} = 1 $.\n",
    "\n",
    "Мы будем вычислять **Hits@K** для $ K = 1, 5 $.\n",
    "\n",
    "---\n",
    "\n",
    "**Для $ K = 1 $:**\n",
    "\n",
    "Подставим значения:\n",
    "$$\n",
    "\\text{Hits@1} = \\frac{1}{3} \\cdot \\left( [\\text{rank}_{q'_1} \\leq 1] + [\\text{rank}_{q'_2} \\leq 1] + [\\text{rank}_{q'_3} \\leq 1] \\right).\n",
    "$$\n",
    "\n",
    "Проверяем условие $ \\text{rank}_{q'_i} \\leq 1 $ для каждого вопроса:\n",
    "- $ \\text{rank}_{q'_1} = 2 $ → $ 2 \\not\\leq 1 $ → $ 0 $,\n",
    "- $ \\text{rank}_{q'_2} = 5 $ → $ 5 \\not\\leq 1 $ → $ 0 $,\n",
    "- $ \\text{rank}_{q'_3} = 1 $ → $ 1 \\leq 1 $ → $ 1 $.\n",
    "\n",
    "Сумма:\n",
    "$$\n",
    "\\text{Hits@1} = \\frac{1}{3} \\cdot (0 + 0 + 1) = \\frac{1}{3}.\n",
    "$$\n",
    "\n",
    "$$\n",
    "\\boxed{\\text{Hits@1} = \\frac{1}{3}}.\n",
    "$$\n",
    "\n",
    "---\n",
    "\n",
    "**Для $ K = 5 $:**\n",
    "\n",
    "Подставим значения:\n",
    "$$\n",
    "\\text{Hits@5} = \\frac{1}{3} \\cdot \\left( [\\text{rank}_{q'_1} \\leq 5] + [\\text{rank}_{q'_2} \\leq 5] + [\\text{rank}_{q'_3} \\leq 5] \\right).\n",
    "$$\n",
    "\n",
    "Проверяем условие $ \\text{rank}_{q'_i} \\leq 5 $ для каждого вопроса:\n",
    "- $ \\text{rank}_{q'_1} = 2 $ → $ 2 \\leq 5 $ → $ 1 $,\n",
    "- $ \\text{rank}_{q'_2} = 5 $ → $ 5 \\leq 5 $ → $ 1 $,\n",
    "- $ \\text{rank}_{q'_3} = 1 $ → $ 1 \\leq 5 $ → $ 1 $.\n",
    "\n",
    "Сумма:\n",
    "$$\n",
    "\\text{Hits@5} = \\frac{1}{3} \\cdot (1 + 1 + 1) = 1.\n",
    "$$\n",
    "\n",
    "$$\n",
    "\\boxed{\\text{Hits@5} = 1}.\n",
    "$$"
   ]
  },
  {
   "cell_type": "markdown",
   "metadata": {
    "id": "ngfvO7JsqROf"
   },
   "source": [
    "Теперь вычислим метрику **DCG@K** для того же примера, где $ N = 3 $ (три вопроса), и для каждого вопроса известна позиция его дубликата ($ \\text{rank}_{q'_i} $):\n",
    "\n",
    "- $ \\text{rank}_{q'_1} = 2 $,\n",
    "- $ \\text{rank}_{q'_2} = 5 $,\n",
    "- $ \\text{rank}_{q'_3} = 1 $.\n",
    "\n",
    "Мы будем вычислять **DCG@K** для $ K = 1, 5 $.\n",
    "\n",
    "---\n",
    "**Для $ K = 1 $:**\n",
    "Подставим значения:\n",
    "$$\n",
    "\\text{DCG@1} = \\frac{1}{3} \\cdot \\left( \\frac{1}{\\log_2(1 + \\text{rank}_{q'_1})} \\cdot [\\text{rank}_{q'_1} \\leq 1] + \\frac{1}{\\log_2(1 + \\text{rank}_{q'_2})} \\cdot [\\text{rank}_{q'_2} \\leq 1] + \\frac{1}{\\log_2(1 + \\text{rank}_{q'_3})} \\cdot [\\text{rank}_{q'_3} \\leq 1] \\right).\n",
    "$$\n",
    "\n",
    "Проверяем условие $ \\text{rank}_{q'_i} \\leq 1 $ для каждого вопроса:\n",
    "- $ \\text{rank}_{q'_1} = 2 $ → $ 2 \\not\\leq 1 $ → $ 0 $,\n",
    "- $ \\text{rank}_{q'_2} = 5 $ → $ 5 \\not\\leq 1 $ → $ 0 $,\n",
    "- $ \\text{rank}_{q'_3} = 1 $ → $ 1 \\leq 1 $ → $ 1 $.\n",
    "\n",
    "Сумма:\n",
    "$$\n",
    "\\text{DCG@1} = \\frac{1}{3} \\cdot (0 + 0 + 1) = \\frac{1}{3}.\n",
    "$$\n",
    "$$\n",
    "\\boxed{\\text{DCG@1} = \\frac{1}{3}}.\n",
    "$$\n",
    "\n",
    "---\n",
    "\n",
    "\n",
    "**Для $ K = 5 $:**\n",
    "Подставим значения:\n",
    "$$\n",
    "\\text{DCG@5} = \\frac{1}{3} \\cdot \\left( \\frac{1}{\\log_2(1 + \\text{rank}_{q'_1})} \\cdot [\\text{rank}_{q'_1} \\leq 5] + \\frac{1}{\\log_2(1 + \\text{rank}_{q'_2})} \\cdot [\\text{rank}_{q'_2} \\leq 5] + \\frac{1}{\\log_2(1 + \\text{rank}_{q'_3})} \\cdot [\\text{rank}_{q'_3} \\leq 5] \\right).\n",
    "$$\n",
    "\n",
    "Проверяем условие $ \\text{rank}_{q'_i} \\leq 5 $ для каждого вопроса:\n",
    "- $ \\text{rank}_{q'_1} = 2 $ → $ 2 \\leq 5 $ → $ 1 $,\n",
    "- $ \\text{rank}_{q'_2} = 5 $ → $ 5 \\leq 5 $ → $ 1 $,\n",
    "- $ \\text{rank}_{q'_3} = 1 $ → $ 1 \\leq 5 $ → $ 1 $.\n",
    "\n",
    "Сумма:\n",
    "$$\n",
    "\\text{DCG@5} = \\frac{1}{3} \\cdot (0.631 + 0.387 + 1) = \\frac{1}{3} \\cdot 2.018 \\approx 0.673.\n",
    "$$\n",
    "\n",
    "$$\n",
    "\\boxed{\\text{DCG@5} \\approx 0.673}.\n",
    "$$"
   ]
  },
  {
   "cell_type": "markdown",
   "metadata": {
    "id": "eHCnH-jw6j18"
   },
   "source": [
    "#### ***Вопрос 4:***\n",
    "* Найдите максимум `Hits@47 - DCG@1`?\n",
    "\n"
   ]
  },
  {
   "cell_type": "markdown",
   "metadata": {},
   "source": [
    "Максимум заданного выражения достигается в случае, когда первая его часть максимальна, т.е. Hits@47 = 1 - дубликат занимает одно из 46 мест (кроме первого), но при этом вторая часть выражения обнуляется, т.е. DCG@1 = 0, что достигается в случае, когда дубликат в ранжированном списке не попадает на первую позицию."
   ]
  },
  {
   "cell_type": "markdown",
   "metadata": {
    "id": "J5xWOORI6j2F"
   },
   "source": [
    "### HITS\\_COUNT и DCG\\_SCORE"
   ]
  },
  {
   "cell_type": "markdown",
   "metadata": {
    "id": "I1q9WQOx6j2H"
   },
   "source": [
    "Каждая функция имеет два аргумента: $dup\\_ranks$ и $k$.\n",
    "\n",
    "$dup\\_ranks$ является списком, который содержит рейтинги дубликатов (их позиции в ранжированном списке).\n",
    "\n",
    "К примеру для <font color='red'>\"Что такое язык python?\"</font> $dup\\_ranks = [2]$."
   ]
  },
  {
   "cell_type": "code",
   "execution_count": 18,
   "metadata": {
    "execution": {
     "iopub.execute_input": "2025-02-15T08:35:10.032592Z",
     "iopub.status.busy": "2025-02-15T08:35:10.030591Z",
     "iopub.status.idle": "2025-02-15T08:35:10.038435Z",
     "shell.execute_reply": "2025-02-15T08:35:10.037625Z",
     "shell.execute_reply.started": "2025-02-15T08:35:10.032592Z"
    },
    "id": "F5VwySUB6j2J"
   },
   "outputs": [],
   "source": [
    "def hits_count(dup_ranks, k):\n",
    "    \"\"\"\n",
    "        dup_ranks: list индексов дубликатов\n",
    "        k: пороговое значение для ранга\n",
    "        result: вернуть Hits@k\n",
    "    \"\"\"\n",
    "    # Подсчитываем количество дубликатов, чей ранг <= k\n",
    "    if not isinstance(dup_ranks, np.ndarray):\n",
    "        dup_ranks = np.array(dup_ranks)\n",
    "        \n",
    "    hits_value = np.mean(dup_ranks <= k)\n",
    "    \n",
    "    return hits_value"
   ]
  },
  {
   "cell_type": "code",
   "execution_count": 19,
   "metadata": {
    "execution": {
     "iopub.execute_input": "2025-02-15T08:35:11.027460Z",
     "iopub.status.busy": "2025-02-15T08:35:11.025451Z",
     "iopub.status.idle": "2025-02-15T08:35:11.032925Z",
     "shell.execute_reply": "2025-02-15T08:35:11.032925Z",
     "shell.execute_reply.started": "2025-02-15T08:35:11.027460Z"
    },
    "id": "vSjm_5eWYVYI"
   },
   "outputs": [
    {
     "name": "stdout",
     "output_type": "stream",
     "text": [
      "Hits@1 = 0.0\n",
      "Hits@4 = 1.0\n"
     ]
    }
   ],
   "source": [
    "dup_ranks = [2]\n",
    "\n",
    "k = 1\n",
    "hits_value = hits_count(dup_ranks, k)\n",
    "print(f\"Hits@1 = {hits_value}\")\n",
    "\n",
    "k = 4\n",
    "hits_value = hits_count(dup_ranks, k)\n",
    "print(f\"Hits@4 = {hits_value}\")"
   ]
  },
  {
   "cell_type": "code",
   "execution_count": 22,
   "metadata": {
    "execution": {
     "iopub.execute_input": "2025-02-15T08:36:03.986218Z",
     "iopub.status.busy": "2025-02-15T08:36:03.985217Z",
     "iopub.status.idle": "2025-02-15T08:36:03.991734Z",
     "shell.execute_reply": "2025-02-15T08:36:03.991220Z",
     "shell.execute_reply.started": "2025-02-15T08:36:03.986218Z"
    },
    "id": "82hQaxCH6j2R"
   },
   "outputs": [],
   "source": [
    "def dcg_score(dup_ranks, k):\n",
    "    \"\"\"\n",
    "        dup_ranks: list индексов дубликатов\n",
    "        k: пороговое значение для ранга\n",
    "        result: вернуть DCG@k\n",
    "    \"\"\"\n",
    "\n",
    "    if not isinstance(dup_ranks, np.ndarray):\n",
    "        dup_ranks = np.array(dup_ranks)\n",
    "\n",
    "    dcg_value = np.mean(np.where(dup_ranks <= k, 1, 0) * (1 / np.log2(1 + dup_ranks)))\n",
    "    return dcg_value"
   ]
  },
  {
   "cell_type": "code",
   "execution_count": 38,
   "metadata": {
    "execution": {
     "iopub.execute_input": "2025-02-15T08:47:59.919262Z",
     "iopub.status.busy": "2025-02-15T08:47:59.918265Z",
     "iopub.status.idle": "2025-02-15T08:47:59.925565Z",
     "shell.execute_reply": "2025-02-15T08:47:59.925565Z",
     "shell.execute_reply.started": "2025-02-15T08:47:59.919262Z"
    },
    "id": "OJYsEdx-amB4"
   },
   "outputs": [
    {
     "name": "stdout",
     "output_type": "stream",
     "text": [
      "DCG@1 = 0.000\n",
      "DCG@10 = 0.631\n"
     ]
    }
   ],
   "source": [
    "# Пример списка позиций дубликатов\n",
    "dup_ranks = [2]\n",
    "\n",
    "# Вычисляем DCG@1\n",
    "dcg_value = dcg_score(dup_ranks, k=1)\n",
    "print(f\"DCG@1 = {dcg_value:.3f}\")  # Output: DCG@3 ≈ 0.631\n",
    "\n",
    "# Вычисляем DCG@4\n",
    "dcg_value = dcg_score(dup_ranks, k=4)\n",
    "print(f\"DCG@10 = {dcg_value:.3f}\")"
   ]
  },
  {
   "cell_type": "markdown",
   "metadata": {
    "id": "PcwHeXN26j2Y"
   },
   "source": [
    "Протестируем функции. Пусть $N = 1$, то есть один эксперимент. Будем искать копию вопроса и оценивать метрики."
   ]
  },
  {
   "cell_type": "code",
   "execution_count": 39,
   "metadata": {
    "execution": {
     "iopub.execute_input": "2025-02-15T08:48:25.335981Z",
     "iopub.status.busy": "2025-02-15T08:48:25.334981Z",
     "iopub.status.idle": "2025-02-15T08:48:25.342979Z",
     "shell.execute_reply": "2025-02-15T08:48:25.342979Z",
     "shell.execute_reply.started": "2025-02-15T08:48:25.335981Z"
    },
    "id": "gLa_Wqfh6j2m"
   },
   "outputs": [
    {
     "name": "stdout",
     "output_type": "stream",
     "text": [
      "Ваш ответ HIT: [0.0, 1.0, 1.0, 1.0]\n",
      "Ваш ответ DCG: [0.0, 0.63093, 0.63093, 0.63093]\n"
     ]
    }
   ],
   "source": [
    "copy_answers = [\"How does the catch keyword determine the type of exception that was thrown\",]\n",
    "\n",
    "# наши кандидаты\n",
    "candidates_ranking = [[\"How Can I Make These Links Rotate in PHP\",\n",
    "                       \"How does the catch keyword determine the type of exception that was thrown\",\n",
    "                       \"NSLog array description not memory address\",\n",
    "                       \"PECL_HTTP not recognised php ubuntu\"],]\n",
    "\n",
    "# dup_ranks — позиции наших копий, так как эксперимент один, то этот массив длины 1\n",
    "dup_ranks = [2]\n",
    "\n",
    "# вычисляем метрику для разных k\n",
    "print('Ваш ответ HIT:', [hits_count(dup_ranks, k) for k in range(1, 5)])\n",
    "print('Ваш ответ DCG:', [round(dcg_score(dup_ranks, k), 5) for k in range(1, 5)])"
   ]
  },
  {
   "cell_type": "markdown",
   "metadata": {
    "id": "MoHC3YoQ6j2t"
   },
   "source": [
    "У вас должно получиться"
   ]
  },
  {
   "cell_type": "code",
   "execution_count": 40,
   "metadata": {
    "colab": {
     "base_uri": "https://localhost:8080/",
     "height": 112
    },
    "execution": {
     "iopub.execute_input": "2025-02-15T08:48:41.009898Z",
     "iopub.status.busy": "2025-02-15T08:48:41.009898Z",
     "iopub.status.idle": "2025-02-15T08:48:41.030629Z",
     "shell.execute_reply": "2025-02-15T08:48:41.030629Z",
     "shell.execute_reply.started": "2025-02-15T08:48:41.009898Z"
    },
    "id": "B0NFWq4f6j2u",
    "outputId": "4d70f590-9924-4b50-d400-cdbf43edf093",
    "scrolled": true
   },
   "outputs": [
    {
     "data": {
      "text/html": [
       "<div>\n",
       "<style scoped>\n",
       "    .dataframe tbody tr th:only-of-type {\n",
       "        vertical-align: middle;\n",
       "    }\n",
       "\n",
       "    .dataframe tbody tr th {\n",
       "        vertical-align: top;\n",
       "    }\n",
       "\n",
       "    .dataframe thead th {\n",
       "        text-align: right;\n",
       "    }\n",
       "</style>\n",
       "<table border=\"1\" class=\"dataframe\">\n",
       "  <thead>\n",
       "    <tr style=\"text-align: right;\">\n",
       "      <th></th>\n",
       "      <th>1</th>\n",
       "      <th>2</th>\n",
       "      <th>3</th>\n",
       "      <th>4</th>\n",
       "    </tr>\n",
       "  </thead>\n",
       "  <tbody>\n",
       "    <tr>\n",
       "      <th>HITS</th>\n",
       "      <td>0</td>\n",
       "      <td>1.00000</td>\n",
       "      <td>1.00000</td>\n",
       "      <td>1.00000</td>\n",
       "    </tr>\n",
       "    <tr>\n",
       "      <th>DCG</th>\n",
       "      <td>0</td>\n",
       "      <td>0.63093</td>\n",
       "      <td>0.63093</td>\n",
       "      <td>0.63093</td>\n",
       "    </tr>\n",
       "  </tbody>\n",
       "</table>\n",
       "</div>"
      ],
      "text/plain": [
       "      1        2        3        4\n",
       "HITS  0  1.00000  1.00000  1.00000\n",
       "DCG   0  0.63093  0.63093  0.63093"
      ]
     },
     "execution_count": 40,
     "metadata": {},
     "output_type": "execute_result"
    }
   ],
   "source": [
    "# correct_answers - метрика для разных k\n",
    "correct_answers = pd.DataFrame([[0, 1, 1, 1], [0, 1 / (np.log2(3)), 1 / (np.log2(3)), 1 / (np.log2(3))]],\n",
    "                               index=['HITS', 'DCG'], columns=range(1,5))\n",
    "correct_answers"
   ]
  },
  {
   "cell_type": "markdown",
   "metadata": {
    "id": "tHZqgDTo6j0i"
   },
   "source": [
    "### Данные\n",
    "[arxiv link](https://drive.google.com/file/d/1QqT4D0EoqJTy7v9VrNCYD-m964XZFR7_/edit)\n",
    "\n",
    "`train.tsv` - выборка для обучения.<br> В каждой строке через табуляцию записаны: **<вопрос>, <похожий вопрос>**\n",
    "\n",
    "`validation.tsv` - тестовая выборка.<br> В каждой строке через табуляцию записаны: **<вопрос>, <похожий вопрос>, <отрицательный пример 1>, <отрицательный пример 2>, ...**"
   ]
  },
  {
   "cell_type": "code",
   "execution_count": null,
   "metadata": {
    "colab": {
     "base_uri": "https://localhost:8080/"
    },
    "id": "jKVK2lDGvrIe",
    "outputId": "97ec0599-63f2-41dd-faf3-7a513d27e325"
   },
   "outputs": [
    {
     "name": "stdout",
     "output_type": "stream",
     "text": [
      "unzip:  cannot find or open stackoverflow_similar_questions.zip, stackoverflow_similar_questions.zip.zip or stackoverflow_similar_questions.zip.ZIP.\n"
     ]
    }
   ],
   "source": [
    "!unzip stackoverflow_similar_questions.zip"
   ]
  },
  {
   "cell_type": "markdown",
   "metadata": {
    "id": "hil2UsUG6j22"
   },
   "source": [
    "Считайте данные."
   ]
  },
  {
   "cell_type": "code",
   "execution_count": 41,
   "metadata": {
    "execution": {
     "iopub.execute_input": "2025-02-15T08:54:24.463907Z",
     "iopub.status.busy": "2025-02-15T08:54:24.463907Z",
     "iopub.status.idle": "2025-02-15T08:54:24.470802Z",
     "shell.execute_reply": "2025-02-15T08:54:24.470802Z",
     "shell.execute_reply.started": "2025-02-15T08:54:24.463907Z"
    },
    "id": "B4EBho8s6j26"
   },
   "outputs": [],
   "source": [
    "def read_corpus(filename):\n",
    "    data = []\n",
    "    with open(filename, encoding='utf-8') as file:\n",
    "        for line in file:\n",
    "            data.append(line.strip().split('\\t'))\n",
    "    return data"
   ]
  },
  {
   "cell_type": "markdown",
   "metadata": {
    "id": "kkTxY3Mk9_nG"
   },
   "source": [
    "Нам понадобится только файл validation."
   ]
  },
  {
   "cell_type": "code",
   "execution_count": 42,
   "metadata": {
    "execution": {
     "iopub.execute_input": "2025-02-15T08:54:49.531362Z",
     "iopub.status.busy": "2025-02-15T08:54:49.530362Z",
     "iopub.status.idle": "2025-02-15T08:54:50.190595Z",
     "shell.execute_reply": "2025-02-15T08:54:50.190595Z",
     "shell.execute_reply.started": "2025-02-15T08:54:49.531362Z"
    },
    "id": "PTVB9Tnp6j29"
   },
   "outputs": [],
   "source": [
    "validation_data = read_corpus('./data/validation.tsv')"
   ]
  },
  {
   "cell_type": "markdown",
   "metadata": {
    "id": "bTHfL-9y6j3F"
   },
   "source": [
    "Кол-во строк"
   ]
  },
  {
   "cell_type": "code",
   "execution_count": 43,
   "metadata": {
    "execution": {
     "iopub.execute_input": "2025-02-15T08:54:51.341654Z",
     "iopub.status.busy": "2025-02-15T08:54:51.339600Z",
     "iopub.status.idle": "2025-02-15T08:54:51.348559Z",
     "shell.execute_reply": "2025-02-15T08:54:51.347653Z",
     "shell.execute_reply.started": "2025-02-15T08:54:51.341654Z"
    },
    "id": "z6ubXhIe6j3H"
   },
   "outputs": [
    {
     "data": {
      "text/plain": [
       "3760"
      ]
     },
     "execution_count": 43,
     "metadata": {},
     "output_type": "execute_result"
    }
   ],
   "source": [
    "len(validation_data)"
   ]
  },
  {
   "cell_type": "markdown",
   "metadata": {
    "id": "kaOQblBy6j3M"
   },
   "source": [
    "Размер нескольких первых строк"
   ]
  },
  {
   "cell_type": "code",
   "execution_count": 44,
   "metadata": {
    "execution": {
     "iopub.execute_input": "2025-02-15T08:54:52.749754Z",
     "iopub.status.busy": "2025-02-15T08:54:52.748759Z",
     "iopub.status.idle": "2025-02-15T08:54:52.757075Z",
     "shell.execute_reply": "2025-02-15T08:54:52.756071Z",
     "shell.execute_reply.started": "2025-02-15T08:54:52.749754Z"
    },
    "id": "yRx6e-Pe6j3M"
   },
   "outputs": [
    {
     "name": "stdout",
     "output_type": "stream",
     "text": [
      "1 1001\n",
      "2 1001\n",
      "3 1001\n",
      "4 1001\n",
      "5 1001\n",
      "6 1001\n",
      "7 1001\n",
      "8 1001\n",
      "9 1001\n",
      "10 1001\n",
      "11 1001\n",
      "12 1001\n",
      "13 1001\n",
      "14 1001\n",
      "15 1001\n",
      "16 1001\n",
      "17 1001\n",
      "18 1001\n",
      "19 1001\n",
      "20 1001\n",
      "21 1001\n",
      "22 1001\n",
      "23 1001\n",
      "24 1001\n",
      "25 1001\n"
     ]
    }
   ],
   "source": [
    "for i in range(25):\n",
    "    print(i + 1, len(validation_data[i]))"
   ]
  },
  {
   "cell_type": "markdown",
   "metadata": {
    "id": "ySQQp0oQt1Ep"
   },
   "source": [
    "### Ранжирование без обучения"
   ]
  },
  {
   "cell_type": "markdown",
   "metadata": {
    "id": "iElEDhj-6j3R"
   },
   "source": [
    "Реализуйте функцию ранжирования кандидатов на основе косинусного расстояния. Функция должна по списку кандидатов вернуть отсортированный список пар (позиция в исходном списке кандидатов, кандидат). При этом позиция кандидата в полученном списке является его рейтингом (первый - лучший). Например, если исходный список кандидатов был [a, b, c], и самый похожий на исходный вопрос среди них - c, затем a, и в конце b, то функция должна вернуть список **[(2, c), (0, a), (1, b)]**."
   ]
  },
  {
   "cell_type": "code",
   "execution_count": 51,
   "metadata": {
    "execution": {
     "iopub.execute_input": "2025-02-15T08:56:45.175305Z",
     "iopub.status.busy": "2025-02-15T08:56:45.174305Z",
     "iopub.status.idle": "2025-02-15T08:56:45.180173Z",
     "shell.execute_reply": "2025-02-15T08:56:45.180173Z",
     "shell.execute_reply.started": "2025-02-15T08:56:45.175305Z"
    },
    "id": "1yP8wJWj6j3X"
   },
   "outputs": [],
   "source": [
    "def rank_candidates(question, candidates, embeddings = wv_embeddings, tokenizer = tokenizer_1, dim=200):\n",
    "    \"\"\"\n",
    "        question: строка\n",
    "        candidates: массив строк(кандидатов) [a, b, c]\n",
    "        result: пары (начальная позиция, кандидат) [(2, c), (0, a), (1, b)]\n",
    "    \"\"\"\n",
    "    question_emb = question_to_vec(question, embeddings, tokenizer, dim)\n",
    "    \n",
    "    candidates_emb = np.array([question_to_vec(i, embeddings, tokenizer, dim) for i in candidates])\n",
    "\n",
    "    scores = [(i, j[0], j[1]) for i, j in enumerate(zip(candidates, (np.dot(question_emb, candidates_emb.T) / (norm(question_emb) * np.where(norm(candidates_emb, axis = 1) == 0, 1e-5, norm(candidates_emb, axis = 1))))))]\n",
    "    \n",
    "    return [i[:2] for i in sorted(scores, key = lambda x: x[2], reverse=True)]"
   ]
  },
  {
   "cell_type": "markdown",
   "metadata": {
    "id": "TnBszTb76j3c"
   },
   "source": [
    "Протестируйте работу функции на примерах ниже. Пусть $N=2$, то есть два эксперимента"
   ]
  },
  {
   "cell_type": "code",
   "execution_count": 46,
   "metadata": {
    "execution": {
     "iopub.execute_input": "2025-02-15T08:55:43.560130Z",
     "iopub.status.busy": "2025-02-15T08:55:43.558135Z",
     "iopub.status.idle": "2025-02-15T08:55:43.563734Z",
     "shell.execute_reply": "2025-02-15T08:55:43.563734Z",
     "shell.execute_reply.started": "2025-02-15T08:55:43.560130Z"
    },
    "id": "xvQgtP176j3h"
   },
   "outputs": [],
   "source": [
    "questions = ['converting string to list', 'Sending array via Ajax fails']\n",
    "\n",
    "candidates = [['Convert Google results object (pure js) to Python object', # первый эксперимент\n",
    "               'C# create cookie from string and send it',\n",
    "               'How to use jQuery AJAX for an outside domain?'],\n",
    "\n",
    "              ['Getting all list items of an unordered list in PHP',      # второй эксперимент\n",
    "               'WPF- How to update the changes in list item of a list',\n",
    "               'select2 not displaying search results']]"
   ]
  },
  {
   "cell_type": "code",
   "execution_count": null,
   "metadata": {
    "id": "0LeKMIsn6j3s"
   },
   "outputs": [],
   "source": [
    "# должно вывести\n",
    "results = [[(1, 'C# create cookie from string and send it'),\n",
    "            (0, 'Convert Google results object (pure js) to Python object'),\n",
    "            (2, 'How to use jQuery AJAX for an outside domain?')],\n",
    "           [(*, 'Getting all list items of an unordered list in PHP'), #скрыт\n",
    "            (*, 'select2 not displaying search results'), #скрыт\n",
    "            (*, 'WPF- How to update the changes in list item of a list')]] #скрыт"
   ]
  },
  {
   "cell_type": "markdown",
   "metadata": {
    "id": "jm4cidj56j3q"
   },
   "source": [
    "Для первого экперимента вы можете полностью сравнить ваши ответы и правильные ответы. Но для второго эксперимента два ответа на кандидаты будут <b>скрыты</b>(*)"
   ]
  },
  {
   "cell_type": "code",
   "execution_count": 52,
   "metadata": {
    "execution": {
     "iopub.execute_input": "2025-02-15T08:57:15.436360Z",
     "iopub.status.busy": "2025-02-15T08:57:15.435359Z",
     "iopub.status.idle": "2025-02-15T08:57:15.443540Z",
     "shell.execute_reply": "2025-02-15T08:57:15.443540Z",
     "shell.execute_reply.started": "2025-02-15T08:57:15.436360Z"
    },
    "id": "bPj1JGFi6j3m"
   },
   "outputs": [
    {
     "name": "stdout",
     "output_type": "stream",
     "text": [
      "[(1, 'C# create cookie from string and send it'), (0, 'Convert Google results object (pure js) to Python object'), (2, 'How to use jQuery AJAX for an outside domain?')]\n",
      "\n",
      "[(1, 'WPF- How to update the changes in list item of a list'), (0, 'Getting all list items of an unordered list in PHP'), (2, 'select2 not displaying search results')]\n",
      "\n"
     ]
    }
   ],
   "source": [
    "for question, q_candidates in zip(questions, candidates):\n",
    "        ranks = rank_candidates(question, q_candidates, wv_embeddings, tokenizer_1)\n",
    "        print(ranks)\n",
    "        print()"
   ]
  },
  {
   "cell_type": "code",
   "execution_count": 53,
   "metadata": {
    "execution": {
     "iopub.execute_input": "2025-02-15T08:57:25.330270Z",
     "iopub.status.busy": "2025-02-15T08:57:25.329277Z",
     "iopub.status.idle": "2025-02-15T08:57:25.338288Z",
     "shell.execute_reply": "2025-02-15T08:57:25.338288Z",
     "shell.execute_reply.started": "2025-02-15T08:57:25.330270Z"
    }
   },
   "outputs": [
    {
     "name": "stdout",
     "output_type": "stream",
     "text": [
      "[(1, 'C# create cookie from string and send it'), (0, 'Convert Google results object (pure js) to Python object'), (2, 'How to use jQuery AJAX for an outside domain?')]\n",
      "\n",
      "[(1, 'WPF- How to update the changes in list item of a list'), (2, 'select2 not displaying search results'), (0, 'Getting all list items of an unordered list in PHP')]\n",
      "\n"
     ]
    }
   ],
   "source": [
    "for question, q_candidates in zip(questions, candidates):\n",
    "        ranks = rank_candidates(question.lower(), q_candidates, wv_embeddings, tokenizer_1)\n",
    "        print(ranks)\n",
    "        print()"
   ]
  },
  {
   "cell_type": "markdown",
   "metadata": {
    "id": "t1ttnIBe6j3x"
   },
   "source": [
    "Последовательность начальных индексов вы должны получить `для эксперимента 1`  1, 0, 2."
   ]
  },
  {
   "cell_type": "markdown",
   "metadata": {
    "id": "5WQgYDWd6j3y"
   },
   "source": [
    "#### ***Вопрос 5:***\n",
    "* Какую последовательность начальных индексов вы получили `для эксперимента 2`(перечисление без запятой и пробелов, например, `102` для первого эксперимента?\n"
   ]
  },
  {
   "cell_type": "markdown",
   "metadata": {},
   "source": [
    "***Ваш ответ:*** 1, 2, 0\n",
    "\n",
    "В зависимости от реализации процесса токенизации, пост обработки эмбеддингов получались различные последовательности итоговых индексов для `второго` эксперимента. \n",
    "- Первая последовательность: 1, 0, 2\n",
    "- Вторая последовательность: 1, 2, 0"
   ]
  },
  {
   "cell_type": "markdown",
   "metadata": {
    "id": "fPllOY-Y6j30"
   },
   "source": [
    "Теперь мы можем оценить качество нашего метода. Запустите следующие два блока кода для получения результата. Обратите внимание, что вычисление расстояния между векторами занимает некоторое время (примерно 10 минут). Можете взять для validation 1000 примеров."
   ]
  },
  {
   "cell_type": "code",
   "execution_count": 59,
   "metadata": {
    "execution": {
     "iopub.execute_input": "2025-02-15T09:00:11.844686Z",
     "iopub.status.busy": "2025-02-15T09:00:11.843686Z",
     "iopub.status.idle": "2025-02-15T09:00:28.485818Z",
     "shell.execute_reply": "2025-02-15T09:00:28.485818Z",
     "shell.execute_reply.started": "2025-02-15T09:00:11.844686Z"
    },
    "id": "nu7K4mis6j32"
   },
   "outputs": [
    {
     "data": {
      "application/vnd.jupyter.widget-view+json": {
       "model_id": "f387b4c6ede54bb2894c99a81d399dd7",
       "version_major": 2,
       "version_minor": 0
      },
      "text/plain": [
       "  0%|          | 0/3760 [00:00<?, ?it/s]"
      ]
     },
     "metadata": {},
     "output_type": "display_data"
    },
    {
     "name": "stderr",
     "output_type": "stream",
     "text": [
      "C:\\Users\\gosha\\AppData\\Local\\Temp\\ipykernel_3624\\1551146121.py:11: RuntimeWarning: invalid value encountered in divide\n",
      "  scores = [(i, j[0], j[1]) for i, j in enumerate(zip(candidates, (np.dot(question_emb, candidates_emb.T) / (norm(question_emb) * np.where(norm(candidates_emb, axis = 1) == 0, 1e-5, norm(candidates_emb, axis = 1))))))]\n"
     ]
    }
   ],
   "source": [
    "wv_ranking = []\n",
    "max_validation_examples = 1000\n",
    "for i, line in enumerate(tqdm(validation_data)):\n",
    "    if i == max_validation_examples:\n",
    "        break\n",
    "    q, *ex = line\n",
    "    ranks = rank_candidates(q, ex, wv_embeddings, tokenizer_1)\n",
    "    wv_ranking.append([r[0] for r in ranks].index(0) + 1)"
   ]
  },
  {
   "cell_type": "code",
   "execution_count": 60,
   "metadata": {
    "execution": {
     "iopub.execute_input": "2025-02-15T09:00:28.486829Z",
     "iopub.status.busy": "2025-02-15T09:00:28.486829Z",
     "iopub.status.idle": "2025-02-15T09:00:28.496228Z",
     "shell.execute_reply": "2025-02-15T09:00:28.496228Z",
     "shell.execute_reply.started": "2025-02-15T09:00:28.486829Z"
    },
    "id": "gDtS520v6j35",
    "scrolled": true
   },
   "outputs": [
    {
     "data": {
      "application/vnd.jupyter.widget-view+json": {
       "model_id": "784a58c4530f439698a8443e18b10170",
       "version_major": 2,
       "version_minor": 0
      },
      "text/plain": [
       "  0%|          | 0/6 [00:00<?, ?it/s]"
      ]
     },
     "metadata": {},
     "output_type": "display_data"
    },
    {
     "name": "stdout",
     "output_type": "stream",
     "text": [
      "DCG@   1: 0.272 | Hits@   1: 0.272\n",
      "DCG@   5: 0.323 | Hits@   5: 0.373\n",
      "DCG@  10: 0.341 | Hits@  10: 0.429\n",
      "DCG@ 100: 0.389 | Hits@ 100: 0.665\n",
      "DCG@ 500: 0.415 | Hits@ 500: 0.872\n",
      "DCG@1000: 0.429 | Hits@1000: 1.000\n"
     ]
    }
   ],
   "source": [
    "for k in tqdm([1, 5, 10, 100, 500, 1000]):\n",
    "    print(\"DCG@%4d: %.3f | Hits@%4d: %.3f\" % (k, dcg_score(wv_ranking, k), k, hits_count(wv_ranking, k)))"
   ]
  },
  {
   "cell_type": "markdown",
   "metadata": {
    "id": "SZ16fNZ4mxTC"
   },
   "source": [
    "Из формул выше можно понять, что\n",
    "\n",
    "- $ \\text{Hits@K} $ **монотонно неубывающая функция** $ K $, которая стремится к 1 при $ K \\to \\infty $.\n",
    "\n",
    "- $ \\text{DCG@K} $ **монотонно неубывающая функция** $ K $, но рост замедляется с увеличением $ K $ из-за убывания веса $ \\frac{1}{\\log_2(1 + \\text{rank}_{q'_i})} $."
   ]
  },
  {
   "cell_type": "markdown",
   "metadata": {
    "id": "LL6_Rjg3InL8"
   },
   "source": [
    "### Эмбеддинги, обученные на корпусе похожих вопросов"
   ]
  },
  {
   "cell_type": "code",
   "execution_count": 61,
   "metadata": {
    "execution": {
     "iopub.execute_input": "2025-02-15T09:00:39.364569Z",
     "iopub.status.busy": "2025-02-15T09:00:39.364569Z",
     "iopub.status.idle": "2025-02-15T09:00:41.034828Z",
     "shell.execute_reply": "2025-02-15T09:00:41.034545Z",
     "shell.execute_reply.started": "2025-02-15T09:00:39.364569Z"
    },
    "id": "iNvbpR5gJIPz"
   },
   "outputs": [],
   "source": [
    "train_data = read_corpus('./data/train.tsv')"
   ]
  },
  {
   "cell_type": "markdown",
   "metadata": {
    "id": "Nr281ZyEJfjT"
   },
   "source": [
    "Улучшите качество модели.<br>Склеим вопросы в пары и обучим на них модель Word2Vec из gensim. Выберите размер window. Объясните свой выбор.\n",
    "\n",
    "***Рассмотрим подробнее*** данное склеивание.\n",
    "\n",
    "1. Каждая строка из train_data разбивается на вопрос (question) и список кандидатов.\n",
    "\n",
    "2. Для каждого кандидата вопрос склеивается с ним в одну строку.\n",
    "\n",
    "3. Склеенная строка (combined_text) токенизируется, и полученный список токенов добавляется в общий корпус (corpus).\n",
    "\n",
    "***Пример***\n",
    "\n",
    "    Вопрос: \"What is Python?\"\n",
    "    Кандидаты: [\"Python is a programming language\", \"Java is another language\"]\n",
    "    Склеенные строки:\n",
    "        \"What is Python? Python is a programming language\"\n",
    "        \"What is Python? Java is another language\"\n",
    "         \n",
    "    Токенизированные списки:\n",
    "        ['what', 'is', 'python', 'python', 'is', 'a', 'programming', 'language']\n",
    "        ['what', 'is', 'python', 'java', 'is', 'another', 'language']\n",
    "         \n",
    "     "
   ]
  },
  {
   "cell_type": "code",
   "execution_count": 62,
   "metadata": {
    "execution": {
     "iopub.execute_input": "2025-02-15T09:00:54.279773Z",
     "iopub.status.busy": "2025-02-15T09:00:54.278767Z",
     "iopub.status.idle": "2025-02-15T09:00:54.286229Z",
     "shell.execute_reply": "2025-02-15T09:00:54.286229Z",
     "shell.execute_reply.started": "2025-02-15T09:00:54.279773Z"
    },
    "id": "9NNgRRiu8-LL"
   },
   "outputs": [
    {
     "data": {
      "text/plain": [
       "['Determine if the device is a smartphone or tablet?',\n",
       " 'Change imageView params in all cards together']"
      ]
     },
     "execution_count": 62,
     "metadata": {},
     "output_type": "execute_result"
    }
   ],
   "source": [
    "train_data[111258]"
   ]
  },
  {
   "cell_type": "code",
   "execution_count": 63,
   "metadata": {
    "execution": {
     "iopub.execute_input": "2025-02-15T09:01:17.422486Z",
     "iopub.status.busy": "2025-02-15T09:01:17.422486Z",
     "iopub.status.idle": "2025-02-15T09:01:17.573631Z",
     "shell.execute_reply": "2025-02-15T09:01:17.572875Z",
     "shell.execute_reply.started": "2025-02-15T09:01:17.422486Z"
    },
    "id": "f6Y46SSQMTL0"
   },
   "outputs": [],
   "source": [
    "# Создаем общий корпус текстов\n",
    "corpus = []\n",
    "\n",
    "corpus = [' '.join(i).strip() for i in train_data]"
   ]
  },
  {
   "cell_type": "code",
   "execution_count": 67,
   "metadata": {
    "execution": {
     "iopub.execute_input": "2025-02-15T09:13:29.451405Z",
     "iopub.status.busy": "2025-02-15T09:13:29.450406Z",
     "iopub.status.idle": "2025-02-15T09:14:43.318320Z",
     "shell.execute_reply": "2025-02-15T09:14:43.318320Z",
     "shell.execute_reply.started": "2025-02-15T09:13:29.451405Z"
    },
    "id": "QuJzAM0cI-UH"
   },
   "outputs": [],
   "source": [
    "from gensim.models import Word2Vec\n",
    "embeddings_trained = Word2Vec(\n",
    "    sentences=corpus,        # Корпус токенизированных текстов\n",
    "    vector_size=200,         # Размерность векторов\n",
    "    window=5,                # Размер окна контекста\n",
    "    min_count=5,             # Минимальная частота слов\n",
    "    workers=4                # Количество потоков\n",
    ").wv"
   ]
  },
  {
   "cell_type": "markdown",
   "metadata": {},
   "source": [
    "***Объяснение:*** \n",
    "- Hазмер окна 5 является оптимальным, так как позволяет учитывать для центрального слова  *достаточный* объём информации, так как рассматривается контекст от двух предыдущих, двух последующих слов, что позволяет собирать информацию только о ближайших контекстных токенах;\n",
    "- Минимальная частота равная 5 оптимальна, так как позволяет отфильтрвать *шум* в случаях, так как не всегда результаты процесса оптимизации дают *чистый* от артефактов текст, что также позволяет снизить размер полученного словаря."
   ]
  },
  {
   "cell_type": "code",
   "execution_count": 69,
   "metadata": {
    "execution": {
     "iopub.execute_input": "2025-02-15T09:14:51.165933Z",
     "iopub.status.busy": "2025-02-15T09:14:51.164936Z",
     "iopub.status.idle": "2025-02-15T09:15:02.582489Z",
     "shell.execute_reply": "2025-02-15T09:15:02.582489Z",
     "shell.execute_reply.started": "2025-02-15T09:14:51.165933Z"
    },
    "id": "OQonbm4nMenD"
   },
   "outputs": [
    {
     "data": {
      "application/vnd.jupyter.widget-view+json": {
       "model_id": "48a222dba0fd469eb32f93141b92b1ef",
       "version_major": 2,
       "version_minor": 0
      },
      "text/plain": [
       "  0%|          | 0/3760 [00:00<?, ?it/s]"
      ]
     },
     "metadata": {},
     "output_type": "display_data"
    },
    {
     "name": "stderr",
     "output_type": "stream",
     "text": [
      "C:\\Users\\gosha\\AppData\\Local\\Temp\\ipykernel_3624\\1551146121.py:11: RuntimeWarning: invalid value encountered in divide\n",
      "  scores = [(i, j[0], j[1]) for i, j in enumerate(zip(candidates, (np.dot(question_emb, candidates_emb.T) / (norm(question_emb) * np.where(norm(candidates_emb, axis = 1) == 0, 1e-5, norm(candidates_emb, axis = 1))))))]\n"
     ]
    }
   ],
   "source": [
    "wv_ranking = []\n",
    "max_validation_examples = 1000\n",
    "for i, line in enumerate(tqdm(validation_data)):\n",
    "    if i == max_validation_examples:\n",
    "        break\n",
    "    q, *ex = line\n",
    "    ranks = rank_candidates(q, ex, embeddings_trained, tokenizer_1)\n",
    "    wv_ranking.append([r[0] for r in ranks].index(0) + 1)"
   ]
  },
  {
   "cell_type": "code",
   "execution_count": 70,
   "metadata": {
    "execution": {
     "iopub.execute_input": "2025-02-15T09:15:04.508296Z",
     "iopub.status.busy": "2025-02-15T09:15:04.507297Z",
     "iopub.status.idle": "2025-02-15T09:15:04.525310Z",
     "shell.execute_reply": "2025-02-15T09:15:04.525310Z",
     "shell.execute_reply.started": "2025-02-15T09:15:04.508296Z"
    },
    "id": "3kahBUPGMgGR"
   },
   "outputs": [
    {
     "data": {
      "application/vnd.jupyter.widget-view+json": {
       "model_id": "9d2c89cb587941d98795e741568ac12a",
       "version_major": 2,
       "version_minor": 0
      },
      "text/plain": [
       "  0%|          | 0/6 [00:00<?, ?it/s]"
      ]
     },
     "metadata": {},
     "output_type": "display_data"
    },
    {
     "name": "stdout",
     "output_type": "stream",
     "text": [
      "DCG@   1: 0.416 | Hits@   1: 0.416\n",
      "DCG@   5: 0.438 | Hits@   5: 0.457\n",
      "DCG@  10: 0.441 | Hits@  10: 0.467\n",
      "DCG@ 100: 0.455 | Hits@ 100: 0.541\n",
      "DCG@ 500: 0.496 | Hits@ 500: 0.868\n",
      "DCG@1000: 0.510 | Hits@1000: 1.000\n"
     ]
    }
   ],
   "source": [
    "for k in tqdm([1, 5, 10, 100, 500, 1000]):\n",
    "    print(\"DCG@%4d: %.3f | Hits@%4d: %.3f\" % (k, dcg_score(wv_ranking, k), k, hits_count(wv_ranking, k)))"
   ]
  },
  {
   "cell_type": "markdown",
   "metadata": {},
   "source": [
    "Использование более сложного процесса предобработки текста, включающего в себя процессы токенизации и лемматизации при помощи библиотеки `spacy` позволяет значительно улучшить качество ранжирования."
   ]
  },
  {
   "cell_type": "code",
   "execution_count": 71,
   "metadata": {
    "execution": {
     "iopub.execute_input": "2025-02-15T09:16:32.536310Z",
     "iopub.status.busy": "2025-02-15T09:16:32.536310Z",
     "iopub.status.idle": "2025-02-15T09:16:33.015949Z",
     "shell.execute_reply": "2025-02-15T09:16:33.015949Z",
     "shell.execute_reply.started": "2025-02-15T09:16:32.536310Z"
    }
   },
   "outputs": [],
   "source": [
    "nlp = spacy.load(\"en_core_web_sm\")"
   ]
  },
  {
   "cell_type": "code",
   "execution_count": 74,
   "metadata": {
    "execution": {
     "iopub.execute_input": "2025-02-15T09:17:42.462203Z",
     "iopub.status.busy": "2025-02-15T09:17:42.461204Z",
     "iopub.status.idle": "2025-02-15T09:25:40.758270Z",
     "shell.execute_reply": "2025-02-15T09:25:40.757824Z",
     "shell.execute_reply.started": "2025-02-15T09:17:42.462203Z"
    }
   },
   "outputs": [],
   "source": [
    "train_text = list()\n",
    "\n",
    "for doc in nlp.pipe(corpus, batch_size=32, n_process=3, disable=[\"parser\", \"ner\", 'tagger', 'textcat']): # Отключаем дополнительные модули пайплайна, используем только токенизатор и лемматизацию\n",
    "    train_text.append(' '.join([i.lemma_ for i in doc if i.lemma_ not in stopWords]))"
   ]
  },
  {
   "cell_type": "code",
   "execution_count": 75,
   "metadata": {
    "execution": {
     "iopub.execute_input": "2025-02-15T09:25:40.759300Z",
     "iopub.status.busy": "2025-02-15T09:25:40.759300Z",
     "iopub.status.idle": "2025-02-15T09:26:36.604253Z",
     "shell.execute_reply": "2025-02-15T09:26:36.604253Z",
     "shell.execute_reply.started": "2025-02-15T09:25:40.759300Z"
    }
   },
   "outputs": [],
   "source": [
    "embeddings_trained_2 = Word2Vec(\n",
    "    sentences=train_text,        # Корпус токенизированных текстов\n",
    "    vector_size=200,         # Размерность векторов\n",
    "    window=5,                # Размер окна контекста\n",
    "    min_count=5,             # Минимальная частота слов\n",
    "    workers=4                # Количество потоков\n",
    ").wv"
   ]
  },
  {
   "cell_type": "code",
   "execution_count": 78,
   "metadata": {
    "execution": {
     "iopub.execute_input": "2025-02-15T09:27:11.394803Z",
     "iopub.status.busy": "2025-02-15T09:27:11.394803Z",
     "iopub.status.idle": "2025-02-15T09:27:47.769088Z",
     "shell.execute_reply": "2025-02-15T09:27:47.769088Z",
     "shell.execute_reply.started": "2025-02-15T09:27:11.394803Z"
    },
    "id": "OQonbm4nMenD"
   },
   "outputs": [
    {
     "data": {
      "application/vnd.jupyter.widget-view+json": {
       "model_id": "b296d08896c141a7a36b1906926cc2a9",
       "version_major": 2,
       "version_minor": 0
      },
      "text/plain": [
       "  0%|          | 0/3760 [00:00<?, ?it/s]"
      ]
     },
     "metadata": {},
     "output_type": "display_data"
    },
    {
     "name": "stderr",
     "output_type": "stream",
     "text": [
      "C:\\Users\\gosha\\AppData\\Local\\Temp\\ipykernel_3624\\1551146121.py:11: RuntimeWarning: invalid value encountered in divide\n",
      "  scores = [(i, j[0], j[1]) for i, j in enumerate(zip(candidates, (np.dot(question_emb, candidates_emb.T) / (norm(question_emb) * np.where(norm(candidates_emb, axis = 1) == 0, 1e-5, norm(candidates_emb, axis = 1))))))]\n"
     ]
    }
   ],
   "source": [
    "wv_ranking2 = []\n",
    "max_validation_examples = 1000\n",
    "for i, line in enumerate(tqdm(validation_data)):\n",
    "    if i == max_validation_examples:\n",
    "        break\n",
    "    q, *ex = line\n",
    "    ranks = rank_candidates(q, ex, embeddings_trained_2, tokenizer_2)\n",
    "    wv_ranking2.append([r[0] for r in ranks].index(0) + 1)"
   ]
  },
  {
   "cell_type": "code",
   "execution_count": 79,
   "metadata": {
    "execution": {
     "iopub.execute_input": "2025-02-15T09:27:48.437653Z",
     "iopub.status.busy": "2025-02-15T09:27:48.437653Z",
     "iopub.status.idle": "2025-02-15T09:27:48.451139Z",
     "shell.execute_reply": "2025-02-15T09:27:48.451139Z",
     "shell.execute_reply.started": "2025-02-15T09:27:48.437653Z"
    },
    "id": "3kahBUPGMgGR"
   },
   "outputs": [
    {
     "data": {
      "application/vnd.jupyter.widget-view+json": {
       "model_id": "6c295a2aa5a14dc3a6fe1a642e001d2e",
       "version_major": 2,
       "version_minor": 0
      },
      "text/plain": [
       "  0%|          | 0/6 [00:00<?, ?it/s]"
      ]
     },
     "metadata": {},
     "output_type": "display_data"
    },
    {
     "name": "stdout",
     "output_type": "stream",
     "text": [
      "DCG@   1: 0.510 | Hits@   1: 0.510\n",
      "DCG@   5: 0.518 | Hits@   5: 0.525\n",
      "DCG@  10: 0.521 | Hits@  10: 0.533\n",
      "DCG@ 100: 0.532 | Hits@ 100: 0.598\n",
      "DCG@ 500: 0.571 | Hits@ 500: 0.911\n",
      "DCG@1000: 0.580 | Hits@1000: 1.000\n"
     ]
    }
   ],
   "source": [
    "for k in tqdm([1, 5, 10, 100, 500, 1000]):\n",
    "    print(\"DCG@%4d: %.3f | Hits@%4d: %.3f\" % (k, dcg_score(wv_ranking2, k), k, hits_count(wv_ranking2, k)))"
   ]
  },
  {
   "cell_type": "markdown",
   "metadata": {
    "id": "tY8PxB0j-ThG"
   },
   "source": [
    "### Замечание:\n",
    "Решить эту задачу с помощью обучения полноценной нейронной сети будет вам предложено, как часть задания в одной из домашних работ по теме \"Диалоговые системы\"."
   ]
  },
  {
   "cell_type": "markdown",
   "metadata": {
    "id": "vymVj8IxO2PO"
   },
   "source": [
    "Напишите свой вывод о полученных результатах.\n",
    "* Какой принцип токенизации даёт качество лучше и почему?\n",
    "* Помогает ли нормализация слов?\n",
    "* Какие эмбеддинги лучше справляются с задачей и почему?\n",
    "* Почему получилось плохое качество решения задачи?\n",
    "* Предложите свой подход к решению задачи.\n",
    "\n",
    "## Вывод:\n"
   ]
  },
  {
   "cell_type": "markdown",
   "metadata": {
    "id": "emODHztAQUQz"
   },
   "source": [
    "- Использование токенизаторов, позволяющих выделять слова и отделять их от знаков препинания, второстепенных символов позволяет увеличить качество работы алгоритмов, так как позволяет снизить размер словаря (если при этом не предусмотрено использование процесса лемматизации);\n",
    "- Нормализация слов позволяет снизить размер словаря и улучшить качество полученных эмбеддингов;\n",
    "- Эмбеддинги, предварительно обученные на заданном корпусе текстов, справляются с задачей лучше, так как учитывают больше контекстной информации внутри данного корпуса;\n",
    "- Низкое качество решения задачи могло быть обусловлено недостаточной предобработкой текста, отсутствием возможности приведения слов к их начальным формам, т.к. в процессе обучения эмбеддингов некоторые из слов, представленные в разных формах, попадали на вход для обучения эмбеддингов в различных контекстах и плохо учитывались;\n",
    "- Для улучшения качества работы `Word2Vec` для задачи ранжирования возможно:\n",
    "    - Увеличить размеры эмбеддингов;\n",
    "    - Улучшить последовательность предобработки текста, дополнительно используюя более сложные процессы токенизации, используя стемминг и лемматизацию для получения оптимального размера словаря и обучения эмбеддингов;\n",
    "    - Использовать процессы Byte pair encoding для захвата бОльшего числа токенов и их комбинаций вместо попыток векторизации некоего предварительно определеённого словаря с помощью моделей нейронных сетей."
   ]
  },
  {
   "cell_type": "code",
   "execution_count": null,
   "metadata": {},
   "outputs": [],
   "source": []
  }
 ],
 "metadata": {
  "colab": {
   "provenance": []
  },
  "kernelspec": {
   "display_name": "Python 3 (ipykernel)",
   "language": "python",
   "name": "python3"
  },
  "language_info": {
   "codemirror_mode": {
    "name": "ipython",
    "version": 3
   },
   "file_extension": ".py",
   "mimetype": "text/x-python",
   "name": "python",
   "nbconvert_exporter": "python",
   "pygments_lexer": "ipython3",
   "version": "3.12.6"
  },
  "widgets": {
   "application/vnd.jupyter.widget-state+json": {
    "state": {
     "00c24c0c94004d1f8a1eedaa39715010": {
      "model_module": "@jupyter-widgets/controls",
      "model_module_version": "2.0.0",
      "model_name": "HTMLStyleModel",
      "state": {
       "description_width": "",
       "font_size": null,
       "text_color": null
      }
     },
     "016fba74e37943c396527410bc9aa35c": {
      "model_module": "@jupyter-widgets/base",
      "model_module_version": "2.0.0",
      "model_name": "LayoutModel",
      "state": {}
     },
     "02b49e71aeae4f49bf3120540fa96c28": {
      "model_module": "@jupyter-widgets/base",
      "model_module_version": "2.0.0",
      "model_name": "LayoutModel",
      "state": {}
     },
     "0305b5d26c8d44cea779165b4267651c": {
      "model_module": "@jupyter-widgets/controls",
      "model_module_version": "2.0.0",
      "model_name": "ProgressStyleModel",
      "state": {
       "description_width": ""
      }
     },
     "054a7c6eed6f4494a05a27eefdf845e4": {
      "model_module": "@jupyter-widgets/base",
      "model_module_version": "2.0.0",
      "model_name": "LayoutModel",
      "state": {}
     },
     "0782eed4c5524e7d88d681d39aca15b9": {
      "model_module": "@jupyter-widgets/controls",
      "model_module_version": "2.0.0",
      "model_name": "FloatProgressModel",
      "state": {
       "bar_style": "success",
       "layout": "IPY_MODEL_3d98fc32c4104f51805fb152fe90dd8f",
       "max": 6,
       "style": "IPY_MODEL_ac37f2b46f0b43869a8f48ceb2d13a41",
       "value": 6
      }
     },
     "08e27cebc0a04aeabc12b5e8ca105c9c": {
      "model_module": "@jupyter-widgets/controls",
      "model_module_version": "2.0.0",
      "model_name": "HTMLModel",
      "state": {
       "layout": "IPY_MODEL_8b035cd736354a91b98f51ed36aeaa19",
       "style": "IPY_MODEL_1e6a78ec25894bec80dd7548e84afa6c",
       "value": " 6/6 [00:00&lt;?, ?it/s]"
      }
     },
     "0bb5659c337d43bbbc51f275eeeaf791": {
      "model_module": "@jupyter-widgets/base",
      "model_module_version": "2.0.0",
      "model_name": "LayoutModel",
      "state": {}
     },
     "0dfe4a87087f4c25840f53229464e605": {
      "model_module": "@jupyter-widgets/base",
      "model_module_version": "2.0.0",
      "model_name": "LayoutModel",
      "state": {}
     },
     "0e63e35924c64c94b5444b5485510202": {
      "model_module": "@jupyter-widgets/controls",
      "model_module_version": "2.0.0",
      "model_name": "HTMLModel",
      "state": {
       "layout": "IPY_MODEL_85f983b63ce54ce6b250c021ea2622ce",
       "style": "IPY_MODEL_ce4ecf43f4d749db87ccb8021d056e54",
       "value": " 6/6 [00:00&lt;00:00, 1200.32it/s]"
      }
     },
     "0f1c35d1d3c7436e92092cf19873a5c3": {
      "model_module": "@jupyter-widgets/controls",
      "model_module_version": "2.0.0",
      "model_name": "HTMLStyleModel",
      "state": {
       "description_width": "",
       "font_size": null,
       "text_color": null
      }
     },
     "0f683b93492b4497b55c1843208e2605": {
      "model_module": "@jupyter-widgets/controls",
      "model_module_version": "2.0.0",
      "model_name": "HTMLModel",
      "state": {
       "layout": "IPY_MODEL_b1f19c3cab7942b9b2243ddf9b9b0be2",
       "style": "IPY_MODEL_2f74e9ffeab649278c9b47c8c9c64b1c",
       "value": "100%"
      }
     },
     "11d19d87a0574becbae7954b350698a3": {
      "model_module": "@jupyter-widgets/base",
      "model_module_version": "2.0.0",
      "model_name": "LayoutModel",
      "state": {}
     },
     "11fa5f01d2734594969b80262afc0f03": {
      "model_module": "@jupyter-widgets/base",
      "model_module_version": "2.0.0",
      "model_name": "LayoutModel",
      "state": {}
     },
     "1386282b02ab4f468d1cda02f5c931fc": {
      "model_module": "@jupyter-widgets/controls",
      "model_module_version": "2.0.0",
      "model_name": "FloatProgressModel",
      "state": {
       "bar_style": "danger",
       "layout": "IPY_MODEL_abf1245b293a492b8fb9421d13bd4278",
       "max": 3760,
       "style": "IPY_MODEL_ee5c294ab50a4eef9ba42f6ba05ad6e5",
       "value": 1000
      }
     },
     "1449944cfcd74f7c91b88aad5d66accc": {
      "model_module": "@jupyter-widgets/base",
      "model_module_version": "2.0.0",
      "model_name": "LayoutModel",
      "state": {}
     },
     "17effcccc19b4714b12f7cc55aa08c46": {
      "model_module": "@jupyter-widgets/base",
      "model_module_version": "2.0.0",
      "model_name": "LayoutModel",
      "state": {}
     },
     "1be6dff46b644c8a870ee51a7b4c9eba": {
      "model_module": "@jupyter-widgets/controls",
      "model_module_version": "2.0.0",
      "model_name": "HTMLStyleModel",
      "state": {
       "description_width": "",
       "font_size": null,
       "text_color": null
      }
     },
     "1c81e73a2f974ff3b1ba842a08941d14": {
      "model_module": "@jupyter-widgets/base",
      "model_module_version": "2.0.0",
      "model_name": "LayoutModel",
      "state": {}
     },
     "1e56d5840faa47efa930c6dee29ab3de": {
      "model_module": "@jupyter-widgets/controls",
      "model_module_version": "2.0.0",
      "model_name": "FloatProgressModel",
      "state": {
       "bar_style": "success",
       "layout": "IPY_MODEL_fb68c1ec92d34123bc24fcc6384cf2f1",
       "max": 6,
       "style": "IPY_MODEL_2b9a8cb1ca5c46a882fc668204b97c5f",
       "value": 6
      }
     },
     "1e6a78ec25894bec80dd7548e84afa6c": {
      "model_module": "@jupyter-widgets/controls",
      "model_module_version": "2.0.0",
      "model_name": "HTMLStyleModel",
      "state": {
       "description_width": "",
       "font_size": null,
       "text_color": null
      }
     },
     "1faad7dfb70a4dab926e4d8f78c5f699": {
      "model_module": "@jupyter-widgets/controls",
      "model_module_version": "2.0.0",
      "model_name": "HBoxModel",
      "state": {
       "children": [
        "IPY_MODEL_99a7218a95804fcf9f2b32f58be515ca",
        "IPY_MODEL_1e56d5840faa47efa930c6dee29ab3de",
        "IPY_MODEL_0e63e35924c64c94b5444b5485510202"
       ],
       "layout": "IPY_MODEL_74424dc152c448cabd40ed344f0486e4"
      }
     },
     "23614966826f40dda3b198c60b4f5b15": {
      "model_module": "@jupyter-widgets/base",
      "model_module_version": "2.0.0",
      "model_name": "LayoutModel",
      "state": {}
     },
     "23758034a0f24ec79efd097db80523f0": {
      "model_module": "@jupyter-widgets/controls",
      "model_module_version": "2.0.0",
      "model_name": "ProgressStyleModel",
      "state": {
       "description_width": ""
      }
     },
     "23e07459f63b4087acdb4f4bdb1089c4": {
      "model_module": "@jupyter-widgets/base",
      "model_module_version": "2.0.0",
      "model_name": "LayoutModel",
      "state": {}
     },
     "251bbd06117846d5a6f77ff139eb0b18": {
      "model_module": "@jupyter-widgets/controls",
      "model_module_version": "2.0.0",
      "model_name": "ProgressStyleModel",
      "state": {
       "description_width": ""
      }
     },
     "27851c0bc51948aaa3e7cc28fb5525b1": {
      "model_module": "@jupyter-widgets/controls",
      "model_module_version": "2.0.0",
      "model_name": "HTMLModel",
      "state": {
       "layout": "IPY_MODEL_eedc8690d8d64fcc846ce806223c3d95",
       "style": "IPY_MODEL_bb6b8a7a993b40e095b95fdce347c670",
       "value": "100%"
      }
     },
     "28a64918bc064652a8d1fcf21149fae5": {
      "model_module": "@jupyter-widgets/controls",
      "model_module_version": "2.0.0",
      "model_name": "HTMLModel",
      "state": {
       "layout": "IPY_MODEL_ae96fb44ae9645b99ed905c0da8044b3",
       "style": "IPY_MODEL_1be6dff46b644c8a870ee51a7b4c9eba",
       "value": " 1000/3760 [00:16&lt;00:45, 60.94it/s]"
      }
     },
     "299adeb581b248b88cf71d12228f9197": {
      "model_module": "@jupyter-widgets/controls",
      "model_module_version": "2.0.0",
      "model_name": "ProgressStyleModel",
      "state": {
       "description_width": ""
      }
     },
     "2b9a8cb1ca5c46a882fc668204b97c5f": {
      "model_module": "@jupyter-widgets/controls",
      "model_module_version": "2.0.0",
      "model_name": "ProgressStyleModel",
      "state": {
       "description_width": ""
      }
     },
     "2c2af837cbfe4d1397109a4253d41fe2": {
      "model_module": "@jupyter-widgets/controls",
      "model_module_version": "2.0.0",
      "model_name": "HBoxModel",
      "state": {
       "children": [
        "IPY_MODEL_f4c2a5207cc94a399c09202cf42ec2fa",
        "IPY_MODEL_a401e7d396e649d482957a316294a9fe",
        "IPY_MODEL_9ceeeb302c6c4b8694024c0793b83136"
       ],
       "layout": "IPY_MODEL_4ac8115e050143e3931b182c3c4f9eb9"
      }
     },
     "2d1805a91eda4e328c4c84c662969d0c": {
      "model_module": "@jupyter-widgets/controls",
      "model_module_version": "2.0.0",
      "model_name": "HTMLStyleModel",
      "state": {
       "description_width": "",
       "font_size": null,
       "text_color": null
      }
     },
     "2e391ddbdbb940b98dabd1ad5b3b9675": {
      "model_module": "@jupyter-widgets/controls",
      "model_module_version": "2.0.0",
      "model_name": "HBoxModel",
      "state": {
       "children": [
        "IPY_MODEL_bf07390d3d6a4a0a992dfc522abc2c4a",
        "IPY_MODEL_398bc3e8021d437a9a3c1a839124317b",
        "IPY_MODEL_e3a0a4e2d3d64788a743503dedf550bf"
       ],
       "layout": "IPY_MODEL_7cae761bf1ad41d6bb990d9c5cb7661f"
      }
     },
     "2e62114558334e3899ea95194f961a86": {
      "model_module": "@jupyter-widgets/controls",
      "model_module_version": "2.0.0",
      "model_name": "FloatProgressModel",
      "state": {
       "bar_style": "danger",
       "layout": "IPY_MODEL_d327880e3eb642479fffb1ad7a1ba49d",
       "max": 3760,
       "style": "IPY_MODEL_299adeb581b248b88cf71d12228f9197",
       "value": 1000
      }
     },
     "2f57434a52ff4d389b0f58e21a9947ef": {
      "model_module": "@jupyter-widgets/controls",
      "model_module_version": "2.0.0",
      "model_name": "HTMLStyleModel",
      "state": {
       "description_width": "",
       "font_size": null,
       "text_color": null
      }
     },
     "2f74e9ffeab649278c9b47c8c9c64b1c": {
      "model_module": "@jupyter-widgets/controls",
      "model_module_version": "2.0.0",
      "model_name": "HTMLStyleModel",
      "state": {
       "description_width": "",
       "font_size": null,
       "text_color": null
      }
     },
     "32bda4ca56e546a993023a726245f675": {
      "model_module": "@jupyter-widgets/controls",
      "model_module_version": "2.0.0",
      "model_name": "HTMLStyleModel",
      "state": {
       "description_width": "",
       "font_size": null,
       "text_color": null
      }
     },
     "398bc3e8021d437a9a3c1a839124317b": {
      "model_module": "@jupyter-widgets/controls",
      "model_module_version": "2.0.0",
      "model_name": "FloatProgressModel",
      "state": {
       "bar_style": "danger",
       "layout": "IPY_MODEL_a903e13c851146c4bc57d8e647081865",
       "max": 3760,
       "style": "IPY_MODEL_251bbd06117846d5a6f77ff139eb0b18",
       "value": 1000
      }
     },
     "3bc92c33942f431f85fbfb57aba73482": {
      "model_module": "@jupyter-widgets/controls",
      "model_module_version": "2.0.0",
      "model_name": "ProgressStyleModel",
      "state": {
       "description_width": ""
      }
     },
     "3d98fc32c4104f51805fb152fe90dd8f": {
      "model_module": "@jupyter-widgets/base",
      "model_module_version": "2.0.0",
      "model_name": "LayoutModel",
      "state": {}
     },
     "3fcb23548de54e65ae17af059172d360": {
      "model_module": "@jupyter-widgets/controls",
      "model_module_version": "2.0.0",
      "model_name": "FloatProgressModel",
      "state": {
       "bar_style": "success",
       "layout": "IPY_MODEL_c3037d1810cf4868ab60969f152b7c38",
       "max": 6,
       "style": "IPY_MODEL_0305b5d26c8d44cea779165b4267651c",
       "value": 6
      }
     },
     "4218c3d780d64efd87845817676ad0ae": {
      "model_module": "@jupyter-widgets/base",
      "model_module_version": "2.0.0",
      "model_name": "LayoutModel",
      "state": {}
     },
     "44efcb02118647568d5b47105b1f4b78": {
      "model_module": "@jupyter-widgets/controls",
      "model_module_version": "2.0.0",
      "model_name": "HBoxModel",
      "state": {
       "children": [
        "IPY_MODEL_81c21b930172424d97acf41ee1d34904",
        "IPY_MODEL_fb1a8a89aaa94abfad1678937bce8743",
        "IPY_MODEL_d33c8c16408344209ecc4a998f404843"
       ],
       "layout": "IPY_MODEL_48de1090550646098cb78153802c7efb"
      }
     },
     "45ab589b3822411689bc127fd9533597": {
      "model_module": "@jupyter-widgets/base",
      "model_module_version": "2.0.0",
      "model_name": "LayoutModel",
      "state": {}
     },
     "46ec5264d70b47bc97b5308b65231c54": {
      "model_module": "@jupyter-widgets/controls",
      "model_module_version": "2.0.0",
      "model_name": "ProgressStyleModel",
      "state": {
       "description_width": ""
      }
     },
     "4808f2b0f47e46939ac5b09dd02e7b07": {
      "model_module": "@jupyter-widgets/base",
      "model_module_version": "2.0.0",
      "model_name": "LayoutModel",
      "state": {}
     },
     "482a8630423e4924b932460ac02d23f2": {
      "model_module": "@jupyter-widgets/controls",
      "model_module_version": "2.0.0",
      "model_name": "HTMLModel",
      "state": {
       "layout": "IPY_MODEL_ea14d5347bb74202abf95cd8b457ae9a",
       "style": "IPY_MODEL_6f59b138cc09480fbce9e65551038543",
       "value": "100%"
      }
     },
     "48a222dba0fd469eb32f93141b92b1ef": {
      "model_module": "@jupyter-widgets/controls",
      "model_module_version": "2.0.0",
      "model_name": "HBoxModel",
      "state": {
       "children": [
        "IPY_MODEL_ac81d54c1e984ec0b570cac4e30a4ca3",
        "IPY_MODEL_86d8ba81bfe6457bb073d3c095e06055",
        "IPY_MODEL_5379ce9714294f4da0d707cd21a76fad"
       ],
       "layout": "IPY_MODEL_d22ac8710a6c450f99711209fb9bbebb"
      }
     },
     "48b9caeb5be54b56ac79bdcb8cf37699": {
      "model_module": "@jupyter-widgets/controls",
      "model_module_version": "2.0.0",
      "model_name": "HTMLStyleModel",
      "state": {
       "description_width": "",
       "font_size": null,
       "text_color": null
      }
     },
     "48de1090550646098cb78153802c7efb": {
      "model_module": "@jupyter-widgets/base",
      "model_module_version": "2.0.0",
      "model_name": "LayoutModel",
      "state": {}
     },
     "48ec693a78a84ebda4daf00601a1eba8": {
      "model_module": "@jupyter-widgets/base",
      "model_module_version": "2.0.0",
      "model_name": "LayoutModel",
      "state": {}
     },
     "4a11714067ae49319b8de19e3fd8e8e3": {
      "model_module": "@jupyter-widgets/base",
      "model_module_version": "2.0.0",
      "model_name": "LayoutModel",
      "state": {}
     },
     "4ac8115e050143e3931b182c3c4f9eb9": {
      "model_module": "@jupyter-widgets/base",
      "model_module_version": "2.0.0",
      "model_name": "LayoutModel",
      "state": {}
     },
     "528006fa1d8b45a4a4561a7c3b40787b": {
      "model_module": "@jupyter-widgets/base",
      "model_module_version": "2.0.0",
      "model_name": "LayoutModel",
      "state": {}
     },
     "5379ce9714294f4da0d707cd21a76fad": {
      "model_module": "@jupyter-widgets/controls",
      "model_module_version": "2.0.0",
      "model_name": "HTMLModel",
      "state": {
       "layout": "IPY_MODEL_0dfe4a87087f4c25840f53229464e605",
       "style": "IPY_MODEL_e676ae944d574450b4c85c5b2f263e43",
       "value": " 1000/3760 [00:11&lt;00:31, 86.69it/s]"
      }
     },
     "544b7d1e62994376833c9fff3608f514": {
      "model_module": "@jupyter-widgets/controls",
      "model_module_version": "2.0.0",
      "model_name": "HBoxModel",
      "state": {
       "children": [
        "IPY_MODEL_c972103df9ef4407bacb6bc5c6ff0adc",
        "IPY_MODEL_ec4515646cbf49c48846adc46d736aa5",
        "IPY_MODEL_28a64918bc064652a8d1fcf21149fae5"
       ],
       "layout": "IPY_MODEL_ed5a157cbbea4f1594ebd795c84a2a34"
      }
     },
     "56b21ac038f94625a53b82628975c93a": {
      "model_module": "@jupyter-widgets/base",
      "model_module_version": "2.0.0",
      "model_name": "LayoutModel",
      "state": {}
     },
     "58f0936c04bb4f6b9ee5490ef504d906": {
      "model_module": "@jupyter-widgets/controls",
      "model_module_version": "2.0.0",
      "model_name": "HTMLModel",
      "state": {
       "layout": "IPY_MODEL_56b21ac038f94625a53b82628975c93a",
       "style": "IPY_MODEL_e846a9415158474ba64cbcb2c2907002",
       "value": " 0/3760 [00:00&lt;?, ?it/s]"
      }
     },
     "5c712e2cf04f490d89ee21ea4f697b65": {
      "model_module": "@jupyter-widgets/base",
      "model_module_version": "2.0.0",
      "model_name": "LayoutModel",
      "state": {}
     },
     "5eac3c69756c45f68267a897d2f55702": {
      "model_module": "@jupyter-widgets/controls",
      "model_module_version": "2.0.0",
      "model_name": "FloatProgressModel",
      "state": {
       "bar_style": "success",
       "layout": "IPY_MODEL_a2a1bbc6c9d0421f9763ff5985598897",
       "max": 6,
       "style": "IPY_MODEL_3bc92c33942f431f85fbfb57aba73482",
       "value": 6
      }
     },
     "62486b392d0546228d7a99ca99039af5": {
      "model_module": "@jupyter-widgets/controls",
      "model_module_version": "2.0.0",
      "model_name": "FloatProgressModel",
      "state": {
       "bar_style": "danger",
       "layout": "IPY_MODEL_23e07459f63b4087acdb4f4bdb1089c4",
       "max": 3760,
       "style": "IPY_MODEL_46ec5264d70b47bc97b5308b65231c54"
      }
     },
     "68c13e4a4d204a0ea9f1347aad50fa6c": {
      "model_module": "@jupyter-widgets/controls",
      "model_module_version": "2.0.0",
      "model_name": "HTMLModel",
      "state": {
       "layout": "IPY_MODEL_ef4f7f548d23444dbb204b3a6f17c01e",
       "style": "IPY_MODEL_32bda4ca56e546a993023a726245f675",
       "value": "100%"
      }
     },
     "6adb2f62e5d54dd59f49e08f4f93ae9f": {
      "model_module": "@jupyter-widgets/controls",
      "model_module_version": "2.0.0",
      "model_name": "HTMLModel",
      "state": {
       "layout": "IPY_MODEL_c36505f0ad404cf1bdc4f9c899711221",
       "style": "IPY_MODEL_c9ac871e186e45a09b8ee58a1a4d76d2",
       "value": "  0%"
      }
     },
     "6c295a2aa5a14dc3a6fe1a642e001d2e": {
      "model_module": "@jupyter-widgets/controls",
      "model_module_version": "2.0.0",
      "model_name": "HBoxModel",
      "state": {
       "children": [
        "IPY_MODEL_482a8630423e4924b932460ac02d23f2",
        "IPY_MODEL_5eac3c69756c45f68267a897d2f55702",
        "IPY_MODEL_a744d3947eca439387fccc38f37e7c2d"
       ],
       "layout": "IPY_MODEL_ccac3afc1518478da848214eb604293d"
      }
     },
     "6d423e08c78a41d9abae2c1d4a3a2905": {
      "model_module": "@jupyter-widgets/base",
      "model_module_version": "2.0.0",
      "model_name": "LayoutModel",
      "state": {}
     },
     "6f59b138cc09480fbce9e65551038543": {
      "model_module": "@jupyter-widgets/controls",
      "model_module_version": "2.0.0",
      "model_name": "HTMLStyleModel",
      "state": {
       "description_width": "",
       "font_size": null,
       "text_color": null
      }
     },
     "72b0532967af49939477f53895fde0b9": {
      "model_module": "@jupyter-widgets/controls",
      "model_module_version": "2.0.0",
      "model_name": "ProgressStyleModel",
      "state": {
       "description_width": ""
      }
     },
     "74424dc152c448cabd40ed344f0486e4": {
      "model_module": "@jupyter-widgets/base",
      "model_module_version": "2.0.0",
      "model_name": "LayoutModel",
      "state": {}
     },
     "74b72cd2e8d74b48b8ec12e376a656d4": {
      "model_module": "@jupyter-widgets/controls",
      "model_module_version": "2.0.0",
      "model_name": "HTMLStyleModel",
      "state": {
       "description_width": "",
       "font_size": null,
       "text_color": null
      }
     },
     "77b568e48ae74d9b96347f533eba31b8": {
      "model_module": "@jupyter-widgets/base",
      "model_module_version": "2.0.0",
      "model_name": "LayoutModel",
      "state": {}
     },
     "784a58c4530f439698a8443e18b10170": {
      "model_module": "@jupyter-widgets/controls",
      "model_module_version": "2.0.0",
      "model_name": "HBoxModel",
      "state": {
       "children": [
        "IPY_MODEL_68c13e4a4d204a0ea9f1347aad50fa6c",
        "IPY_MODEL_3fcb23548de54e65ae17af059172d360",
        "IPY_MODEL_08e27cebc0a04aeabc12b5e8ca105c9c"
       ],
       "layout": "IPY_MODEL_016fba74e37943c396527410bc9aa35c"
      }
     },
     "79cdfc736b944e678246f430c1516899": {
      "model_module": "@jupyter-widgets/controls",
      "model_module_version": "2.0.0",
      "model_name": "HTMLStyleModel",
      "state": {
       "description_width": "",
       "font_size": null,
       "text_color": null
      }
     },
     "7cae761bf1ad41d6bb990d9c5cb7661f": {
      "model_module": "@jupyter-widgets/base",
      "model_module_version": "2.0.0",
      "model_name": "LayoutModel",
      "state": {}
     },
     "81c21b930172424d97acf41ee1d34904": {
      "model_module": "@jupyter-widgets/controls",
      "model_module_version": "2.0.0",
      "model_name": "HTMLModel",
      "state": {
       "layout": "IPY_MODEL_17effcccc19b4714b12f7cc55aa08c46",
       "style": "IPY_MODEL_95fb539420fa4c53b96978ca34729ab0",
       "value": "100%"
      }
     },
     "84fffa089a5f480283707429bdd5e8b8": {
      "model_module": "@jupyter-widgets/controls",
      "model_module_version": "2.0.0",
      "model_name": "HTMLStyleModel",
      "state": {
       "description_width": "",
       "font_size": null,
       "text_color": null
      }
     },
     "8545252497274ce58cb5fbd74ec65f6f": {
      "model_module": "@jupyter-widgets/controls",
      "model_module_version": "2.0.0",
      "model_name": "HTMLModel",
      "state": {
       "layout": "IPY_MODEL_eb9924368bad42b29b656ab5195f56b4",
       "style": "IPY_MODEL_00c24c0c94004d1f8a1eedaa39715010",
       "value": "  0%"
      }
     },
     "85c2ef4cbf6346e58af0577286b93897": {
      "model_module": "@jupyter-widgets/controls",
      "model_module_version": "2.0.0",
      "model_name": "ProgressStyleModel",
      "state": {
       "description_width": ""
      }
     },
     "85f983b63ce54ce6b250c021ea2622ce": {
      "model_module": "@jupyter-widgets/base",
      "model_module_version": "2.0.0",
      "model_name": "LayoutModel",
      "state": {}
     },
     "86d8ba81bfe6457bb073d3c095e06055": {
      "model_module": "@jupyter-widgets/controls",
      "model_module_version": "2.0.0",
      "model_name": "FloatProgressModel",
      "state": {
       "bar_style": "danger",
       "layout": "IPY_MODEL_bdf0822f7388466388931f21ae70691c",
       "max": 3760,
       "style": "IPY_MODEL_72b0532967af49939477f53895fde0b9",
       "value": 1000
      }
     },
     "8a8466c9e4b04eadb16755aba3c99506": {
      "model_module": "@jupyter-widgets/controls",
      "model_module_version": "2.0.0",
      "model_name": "HTMLModel",
      "state": {
       "layout": "IPY_MODEL_02b49e71aeae4f49bf3120540fa96c28",
       "style": "IPY_MODEL_cb15c398fda640ee86e32cce5bca16ee",
       "value": " 6/6 [00:00&lt;?, ?it/s]"
      }
     },
     "8b035cd736354a91b98f51ed36aeaa19": {
      "model_module": "@jupyter-widgets/base",
      "model_module_version": "2.0.0",
      "model_name": "LayoutModel",
      "state": {}
     },
     "8d3425b40a2b4e7fa952802929a05511": {
      "model_module": "@jupyter-widgets/controls",
      "model_module_version": "2.0.0",
      "model_name": "HTMLStyleModel",
      "state": {
       "description_width": "",
       "font_size": null,
       "text_color": null
      }
     },
     "8e765c32cbf54d9e99b74f962e614f2c": {
      "model_module": "@jupyter-widgets/base",
      "model_module_version": "2.0.0",
      "model_name": "LayoutModel",
      "state": {}
     },
     "90db7660062e4e21a9ed6fca025ee7bd": {
      "model_module": "@jupyter-widgets/controls",
      "model_module_version": "2.0.0",
      "model_name": "HTMLModel",
      "state": {
       "layout": "IPY_MODEL_bf6d4e12ea9d4762ab6488fa0b8b3e83",
       "style": "IPY_MODEL_bc7a301097fa4586bc7df41a2af7f7c9",
       "value": " 27%"
      }
     },
     "924ced2cabac453c8af4453771306196": {
      "model_module": "@jupyter-widgets/controls",
      "model_module_version": "2.0.0",
      "model_name": "ProgressStyleModel",
      "state": {
       "description_width": ""
      }
     },
     "93a7bd3ce771447d9879e03e8b4b1da9": {
      "model_module": "@jupyter-widgets/base",
      "model_module_version": "2.0.0",
      "model_name": "LayoutModel",
      "state": {}
     },
     "95fb539420fa4c53b96978ca34729ab0": {
      "model_module": "@jupyter-widgets/controls",
      "model_module_version": "2.0.0",
      "model_name": "HTMLStyleModel",
      "state": {
       "description_width": "",
       "font_size": null,
       "text_color": null
      }
     },
     "99810e68c48a4a5bbdc036d85db391ee": {
      "model_module": "@jupyter-widgets/base",
      "model_module_version": "2.0.0",
      "model_name": "LayoutModel",
      "state": {}
     },
     "99a7218a95804fcf9f2b32f58be515ca": {
      "model_module": "@jupyter-widgets/controls",
      "model_module_version": "2.0.0",
      "model_name": "HTMLModel",
      "state": {
       "layout": "IPY_MODEL_db2d6ef9a85c49439a7ad03d2ba4cec8",
       "style": "IPY_MODEL_e700dfc9233c4252abe63df3014393fc",
       "value": "100%"
      }
     },
     "9ceeeb302c6c4b8694024c0793b83136": {
      "model_module": "@jupyter-widgets/controls",
      "model_module_version": "2.0.0",
      "model_name": "HTMLModel",
      "state": {
       "layout": "IPY_MODEL_e020056e0b2a4f0589446fd08a5250d4",
       "style": "IPY_MODEL_0f1c35d1d3c7436e92092cf19873a5c3",
       "value": " 1000/3760 [00:42&lt;02:05, 22.04it/s]"
      }
     },
     "9d2c89cb587941d98795e741568ac12a": {
      "model_module": "@jupyter-widgets/controls",
      "model_module_version": "2.0.0",
      "model_name": "HBoxModel",
      "state": {
       "children": [
        "IPY_MODEL_27851c0bc51948aaa3e7cc28fb5525b1",
        "IPY_MODEL_0782eed4c5524e7d88d681d39aca15b9",
        "IPY_MODEL_c33ee7b97dd94f0aa468051042c0c352"
       ],
       "layout": "IPY_MODEL_45ab589b3822411689bc127fd9533597"
      }
     },
     "a2a1bbc6c9d0421f9763ff5985598897": {
      "model_module": "@jupyter-widgets/base",
      "model_module_version": "2.0.0",
      "model_name": "LayoutModel",
      "state": {}
     },
     "a3cb5357842b4ba3812cce91a4b3f35a": {
      "model_module": "@jupyter-widgets/controls",
      "model_module_version": "2.0.0",
      "model_name": "HTMLModel",
      "state": {
       "layout": "IPY_MODEL_8e765c32cbf54d9e99b74f962e614f2c",
       "style": "IPY_MODEL_cc776f34a42f497c91af4e993599e34c",
       "value": " 0/3760 [00:00&lt;?, ?it/s]"
      }
     },
     "a401e7d396e649d482957a316294a9fe": {
      "model_module": "@jupyter-widgets/controls",
      "model_module_version": "2.0.0",
      "model_name": "FloatProgressModel",
      "state": {
       "bar_style": "danger",
       "layout": "IPY_MODEL_0bb5659c337d43bbbc51f275eeeaf791",
       "max": 3760,
       "style": "IPY_MODEL_23758034a0f24ec79efd097db80523f0",
       "value": 1000
      }
     },
     "a49c8317b7e64520993f455c2ff5efbd": {
      "model_module": "@jupyter-widgets/controls",
      "model_module_version": "2.0.0",
      "model_name": "HTMLStyleModel",
      "state": {
       "description_width": "",
       "font_size": null,
       "text_color": null
      }
     },
     "a692d1ac4754448dbce831f6c628d963": {
      "model_module": "@jupyter-widgets/base",
      "model_module_version": "2.0.0",
      "model_name": "LayoutModel",
      "state": {}
     },
     "a744d3947eca439387fccc38f37e7c2d": {
      "model_module": "@jupyter-widgets/controls",
      "model_module_version": "2.0.0",
      "model_name": "HTMLModel",
      "state": {
       "layout": "IPY_MODEL_4218c3d780d64efd87845817676ad0ae",
       "style": "IPY_MODEL_8d3425b40a2b4e7fa952802929a05511",
       "value": " 6/6 [00:00&lt;00:00, 999.79it/s]"
      }
     },
     "a903e13c851146c4bc57d8e647081865": {
      "model_module": "@jupyter-widgets/base",
      "model_module_version": "2.0.0",
      "model_name": "LayoutModel",
      "state": {}
     },
     "aab6c088742a4761aa1e11513c7afe4c": {
      "model_module": "@jupyter-widgets/controls",
      "model_module_version": "2.0.0",
      "model_name": "HTMLStyleModel",
      "state": {
       "description_width": "",
       "font_size": null,
       "text_color": null
      }
     },
     "abf1245b293a492b8fb9421d13bd4278": {
      "model_module": "@jupyter-widgets/base",
      "model_module_version": "2.0.0",
      "model_name": "LayoutModel",
      "state": {}
     },
     "ac37f2b46f0b43869a8f48ceb2d13a41": {
      "model_module": "@jupyter-widgets/controls",
      "model_module_version": "2.0.0",
      "model_name": "ProgressStyleModel",
      "state": {
       "description_width": ""
      }
     },
     "ac81d54c1e984ec0b570cac4e30a4ca3": {
      "model_module": "@jupyter-widgets/controls",
      "model_module_version": "2.0.0",
      "model_name": "HTMLModel",
      "state": {
       "layout": "IPY_MODEL_a692d1ac4754448dbce831f6c628d963",
       "style": "IPY_MODEL_2f57434a52ff4d389b0f58e21a9947ef",
       "value": " 27%"
      }
     },
     "ae27b82120824b0f953f14a76dc6c4b8": {
      "model_module": "@jupyter-widgets/controls",
      "model_module_version": "2.0.0",
      "model_name": "HTMLStyleModel",
      "state": {
       "description_width": "",
       "font_size": null,
       "text_color": null
      }
     },
     "ae96fb44ae9645b99ed905c0da8044b3": {
      "model_module": "@jupyter-widgets/base",
      "model_module_version": "2.0.0",
      "model_name": "LayoutModel",
      "state": {}
     },
     "b07651fc084e4362b0f7e1120e42a275": {
      "model_module": "@jupyter-widgets/controls",
      "model_module_version": "2.0.0",
      "model_name": "HBoxModel",
      "state": {
       "children": [
        "IPY_MODEL_b2f45aef87764a8896a4244507dcd453",
        "IPY_MODEL_62486b392d0546228d7a99ca99039af5",
        "IPY_MODEL_c9fb783f18134a4eb2cd0812c006f991"
       ],
       "layout": "IPY_MODEL_1449944cfcd74f7c91b88aad5d66accc"
      }
     },
     "b095170d515d4c66aee32f75f25c811c": {
      "model_module": "@jupyter-widgets/base",
      "model_module_version": "2.0.0",
      "model_name": "LayoutModel",
      "state": {}
     },
     "b1f19c3cab7942b9b2243ddf9b9b0be2": {
      "model_module": "@jupyter-widgets/base",
      "model_module_version": "2.0.0",
      "model_name": "LayoutModel",
      "state": {}
     },
     "b296d08896c141a7a36b1906926cc2a9": {
      "model_module": "@jupyter-widgets/controls",
      "model_module_version": "2.0.0",
      "model_name": "HBoxModel",
      "state": {
       "children": [
        "IPY_MODEL_90db7660062e4e21a9ed6fca025ee7bd",
        "IPY_MODEL_2e62114558334e3899ea95194f961a86",
        "IPY_MODEL_cfe4d2fa26884bb78dfffc4571ef9df9"
       ],
       "layout": "IPY_MODEL_99810e68c48a4a5bbdc036d85db391ee"
      }
     },
     "b2f45aef87764a8896a4244507dcd453": {
      "model_module": "@jupyter-widgets/controls",
      "model_module_version": "2.0.0",
      "model_name": "HTMLModel",
      "state": {
       "layout": "IPY_MODEL_054a7c6eed6f4494a05a27eefdf845e4",
       "style": "IPY_MODEL_84fffa089a5f480283707429bdd5e8b8",
       "value": "  0%"
      }
     },
     "b82b65ca620d46eea4e749ec6d62fdcc": {
      "model_module": "@jupyter-widgets/base",
      "model_module_version": "2.0.0",
      "model_name": "LayoutModel",
      "state": {}
     },
     "b93b6387e20f450981371b4d304bf565": {
      "model_module": "@jupyter-widgets/controls",
      "model_module_version": "2.0.0",
      "model_name": "HBoxModel",
      "state": {
       "children": [
        "IPY_MODEL_0f683b93492b4497b55c1843208e2605",
        "IPY_MODEL_c1be7d9481794d6b869f2544bb25df9a",
        "IPY_MODEL_8a8466c9e4b04eadb16755aba3c99506"
       ],
       "layout": "IPY_MODEL_e7b517d2b1e642718207006014177a5e"
      }
     },
     "b9c45d57bb094fc39d3c69dc90e9789b": {
      "model_module": "@jupyter-widgets/controls",
      "model_module_version": "2.0.0",
      "model_name": "ProgressStyleModel",
      "state": {
       "description_width": ""
      }
     },
     "bb6b8a7a993b40e095b95fdce347c670": {
      "model_module": "@jupyter-widgets/controls",
      "model_module_version": "2.0.0",
      "model_name": "HTMLStyleModel",
      "state": {
       "description_width": "",
       "font_size": null,
       "text_color": null
      }
     },
     "bba5d518cc4046f4b4b98fe4c181a389": {
      "model_module": "@jupyter-widgets/controls",
      "model_module_version": "2.0.0",
      "model_name": "HTMLModel",
      "state": {
       "layout": "IPY_MODEL_48ec693a78a84ebda4daf00601a1eba8",
       "style": "IPY_MODEL_ae27b82120824b0f953f14a76dc6c4b8",
       "value": " 1000/3760 [00:16&lt;00:44, 62.59it/s]"
      }
     },
     "bc7a301097fa4586bc7df41a2af7f7c9": {
      "model_module": "@jupyter-widgets/controls",
      "model_module_version": "2.0.0",
      "model_name": "HTMLStyleModel",
      "state": {
       "description_width": "",
       "font_size": null,
       "text_color": null
      }
     },
     "bcef2c5a3afc400a9dbdeb21f71ee708": {
      "model_module": "@jupyter-widgets/controls",
      "model_module_version": "2.0.0",
      "model_name": "HTMLStyleModel",
      "state": {
       "description_width": "",
       "font_size": null,
       "text_color": null
      }
     },
     "bdf0822f7388466388931f21ae70691c": {
      "model_module": "@jupyter-widgets/base",
      "model_module_version": "2.0.0",
      "model_name": "LayoutModel",
      "state": {}
     },
     "bf07390d3d6a4a0a992dfc522abc2c4a": {
      "model_module": "@jupyter-widgets/controls",
      "model_module_version": "2.0.0",
      "model_name": "HTMLModel",
      "state": {
       "layout": "IPY_MODEL_23614966826f40dda3b198c60b4f5b15",
       "style": "IPY_MODEL_bcef2c5a3afc400a9dbdeb21f71ee708",
       "value": " 27%"
      }
     },
     "bf6d4e12ea9d4762ab6488fa0b8b3e83": {
      "model_module": "@jupyter-widgets/base",
      "model_module_version": "2.0.0",
      "model_name": "LayoutModel",
      "state": {}
     },
     "c07544a876984b0a9339d07ee0f10411": {
      "model_module": "@jupyter-widgets/base",
      "model_module_version": "2.0.0",
      "model_name": "LayoutModel",
      "state": {}
     },
     "c1be7d9481794d6b869f2544bb25df9a": {
      "model_module": "@jupyter-widgets/controls",
      "model_module_version": "2.0.0",
      "model_name": "FloatProgressModel",
      "state": {
       "bar_style": "success",
       "layout": "IPY_MODEL_93a7bd3ce771447d9879e03e8b4b1da9",
       "max": 6,
       "style": "IPY_MODEL_85c2ef4cbf6346e58af0577286b93897",
       "value": 6
      }
     },
     "c278b8af6ad149139020a6fdc2f648d0": {
      "model_module": "@jupyter-widgets/controls",
      "model_module_version": "2.0.0",
      "model_name": "FloatProgressModel",
      "state": {
       "bar_style": "danger",
       "layout": "IPY_MODEL_c07544a876984b0a9339d07ee0f10411",
       "max": 3760,
       "style": "IPY_MODEL_b9c45d57bb094fc39d3c69dc90e9789b"
      }
     },
     "c3037d1810cf4868ab60969f152b7c38": {
      "model_module": "@jupyter-widgets/base",
      "model_module_version": "2.0.0",
      "model_name": "LayoutModel",
      "state": {}
     },
     "c33ee7b97dd94f0aa468051042c0c352": {
      "model_module": "@jupyter-widgets/controls",
      "model_module_version": "2.0.0",
      "model_name": "HTMLModel",
      "state": {
       "layout": "IPY_MODEL_1c81e73a2f974ff3b1ba842a08941d14",
       "style": "IPY_MODEL_79cdfc736b944e678246f430c1516899",
       "value": " 6/6 [00:00&lt;00:00, 500.70it/s]"
      }
     },
     "c36505f0ad404cf1bdc4f9c899711221": {
      "model_module": "@jupyter-widgets/base",
      "model_module_version": "2.0.0",
      "model_name": "LayoutModel",
      "state": {}
     },
     "c5393152e1d741f9b8ab03536bb49b22": {
      "model_module": "@jupyter-widgets/base",
      "model_module_version": "2.0.0",
      "model_name": "LayoutModel",
      "state": {}
     },
     "c80022b53fd3455386fa4449221b4bd6": {
      "model_module": "@jupyter-widgets/controls",
      "model_module_version": "2.0.0",
      "model_name": "HTMLStyleModel",
      "state": {
       "description_width": "",
       "font_size": null,
       "text_color": null
      }
     },
     "c82ce3da2c924ce98471b6979c98a19f": {
      "model_module": "@jupyter-widgets/base",
      "model_module_version": "2.0.0",
      "model_name": "LayoutModel",
      "state": {}
     },
     "c972103df9ef4407bacb6bc5c6ff0adc": {
      "model_module": "@jupyter-widgets/controls",
      "model_module_version": "2.0.0",
      "model_name": "HTMLModel",
      "state": {
       "layout": "IPY_MODEL_c82ce3da2c924ce98471b6979c98a19f",
       "style": "IPY_MODEL_c80022b53fd3455386fa4449221b4bd6",
       "value": " 27%"
      }
     },
     "c9ac871e186e45a09b8ee58a1a4d76d2": {
      "model_module": "@jupyter-widgets/controls",
      "model_module_version": "2.0.0",
      "model_name": "HTMLStyleModel",
      "state": {
       "description_width": "",
       "font_size": null,
       "text_color": null
      }
     },
     "c9fb783f18134a4eb2cd0812c006f991": {
      "model_module": "@jupyter-widgets/controls",
      "model_module_version": "2.0.0",
      "model_name": "HTMLModel",
      "state": {
       "layout": "IPY_MODEL_4808f2b0f47e46939ac5b09dd02e7b07",
       "style": "IPY_MODEL_74b72cd2e8d74b48b8ec12e376a656d4",
       "value": " 0/3760 [00:00&lt;?, ?it/s]"
      }
     },
     "cb15c398fda640ee86e32cce5bca16ee": {
      "model_module": "@jupyter-widgets/controls",
      "model_module_version": "2.0.0",
      "model_name": "HTMLStyleModel",
      "state": {
       "description_width": "",
       "font_size": null,
       "text_color": null
      }
     },
     "cb45ccad8296446cb03a9e4b75363d51": {
      "model_module": "@jupyter-widgets/controls",
      "model_module_version": "2.0.0",
      "model_name": "HBoxModel",
      "state": {
       "children": [
        "IPY_MODEL_6adb2f62e5d54dd59f49e08f4f93ae9f",
        "IPY_MODEL_c278b8af6ad149139020a6fdc2f648d0",
        "IPY_MODEL_58f0936c04bb4f6b9ee5490ef504d906"
       ],
       "layout": "IPY_MODEL_c5393152e1d741f9b8ab03536bb49b22"
      }
     },
     "cc776f34a42f497c91af4e993599e34c": {
      "model_module": "@jupyter-widgets/controls",
      "model_module_version": "2.0.0",
      "model_name": "HTMLStyleModel",
      "state": {
       "description_width": "",
       "font_size": null,
       "text_color": null
      }
     },
     "ccac3afc1518478da848214eb604293d": {
      "model_module": "@jupyter-widgets/base",
      "model_module_version": "2.0.0",
      "model_name": "LayoutModel",
      "state": {}
     },
     "ce343d75e92b43669ebabc71d0771897": {
      "model_module": "@jupyter-widgets/controls",
      "model_module_version": "2.0.0",
      "model_name": "FloatProgressModel",
      "state": {
       "bar_style": "danger",
       "layout": "IPY_MODEL_11fa5f01d2734594969b80262afc0f03",
       "max": 3760,
       "style": "IPY_MODEL_924ced2cabac453c8af4453771306196"
      }
     },
     "ce4ecf43f4d749db87ccb8021d056e54": {
      "model_module": "@jupyter-widgets/controls",
      "model_module_version": "2.0.0",
      "model_name": "HTMLStyleModel",
      "state": {
       "description_width": "",
       "font_size": null,
       "text_color": null
      }
     },
     "cfab3f359cac4ff3880499d0545f9a71": {
      "model_module": "@jupyter-widgets/base",
      "model_module_version": "2.0.0",
      "model_name": "LayoutModel",
      "state": {}
     },
     "cfe4d2fa26884bb78dfffc4571ef9df9": {
      "model_module": "@jupyter-widgets/controls",
      "model_module_version": "2.0.0",
      "model_name": "HTMLModel",
      "state": {
       "layout": "IPY_MODEL_b82b65ca620d46eea4e749ec6d62fdcc",
       "style": "IPY_MODEL_d130fb4026df41349860934033f2c5a5",
       "value": " 1000/3760 [00:36&lt;01:41, 27.10it/s]"
      }
     },
     "d130fb4026df41349860934033f2c5a5": {
      "model_module": "@jupyter-widgets/controls",
      "model_module_version": "2.0.0",
      "model_name": "HTMLStyleModel",
      "state": {
       "description_width": "",
       "font_size": null,
       "text_color": null
      }
     },
     "d22ac8710a6c450f99711209fb9bbebb": {
      "model_module": "@jupyter-widgets/base",
      "model_module_version": "2.0.0",
      "model_name": "LayoutModel",
      "state": {}
     },
     "d327880e3eb642479fffb1ad7a1ba49d": {
      "model_module": "@jupyter-widgets/base",
      "model_module_version": "2.0.0",
      "model_name": "LayoutModel",
      "state": {}
     },
     "d33c8c16408344209ecc4a998f404843": {
      "model_module": "@jupyter-widgets/controls",
      "model_module_version": "2.0.0",
      "model_name": "HTMLModel",
      "state": {
       "layout": "IPY_MODEL_6d423e08c78a41d9abae2c1d4a3a2905",
       "style": "IPY_MODEL_2d1805a91eda4e328c4c84c662969d0c",
       "value": " 6/6 [00:00&lt;00:00, 707.16it/s]"
      }
     },
     "db2d6ef9a85c49439a7ad03d2ba4cec8": {
      "model_module": "@jupyter-widgets/base",
      "model_module_version": "2.0.0",
      "model_name": "LayoutModel",
      "state": {}
     },
     "e020056e0b2a4f0589446fd08a5250d4": {
      "model_module": "@jupyter-widgets/base",
      "model_module_version": "2.0.0",
      "model_name": "LayoutModel",
      "state": {}
     },
     "e06eb2396b7042c08272e02af748da0b": {
      "model_module": "@jupyter-widgets/controls",
      "model_module_version": "2.0.0",
      "model_name": "ProgressStyleModel",
      "state": {
       "description_width": ""
      }
     },
     "e3a0a4e2d3d64788a743503dedf550bf": {
      "model_module": "@jupyter-widgets/controls",
      "model_module_version": "2.0.0",
      "model_name": "HTMLModel",
      "state": {
       "layout": "IPY_MODEL_77b568e48ae74d9b96347f533eba31b8",
       "style": "IPY_MODEL_48b9caeb5be54b56ac79bdcb8cf37699",
       "value": " 1000/3760 [00:11&lt;00:29, 92.12it/s]"
      }
     },
     "e502564f8d1b4f708d3be12e619ccca8": {
      "model_module": "@jupyter-widgets/controls",
      "model_module_version": "2.0.0",
      "model_name": "HTMLModel",
      "state": {
       "layout": "IPY_MODEL_4a11714067ae49319b8de19e3fd8e8e3",
       "style": "IPY_MODEL_a49c8317b7e64520993f455c2ff5efbd",
       "value": " 27%"
      }
     },
     "e676ae944d574450b4c85c5b2f263e43": {
      "model_module": "@jupyter-widgets/controls",
      "model_module_version": "2.0.0",
      "model_name": "HTMLStyleModel",
      "state": {
       "description_width": "",
       "font_size": null,
       "text_color": null
      }
     },
     "e700dfc9233c4252abe63df3014393fc": {
      "model_module": "@jupyter-widgets/controls",
      "model_module_version": "2.0.0",
      "model_name": "HTMLStyleModel",
      "state": {
       "description_width": "",
       "font_size": null,
       "text_color": null
      }
     },
     "e7b517d2b1e642718207006014177a5e": {
      "model_module": "@jupyter-widgets/base",
      "model_module_version": "2.0.0",
      "model_name": "LayoutModel",
      "state": {}
     },
     "e846a9415158474ba64cbcb2c2907002": {
      "model_module": "@jupyter-widgets/controls",
      "model_module_version": "2.0.0",
      "model_name": "HTMLStyleModel",
      "state": {
       "description_width": "",
       "font_size": null,
       "text_color": null
      }
     },
     "e88b210888444f488a419952613872ed": {
      "model_module": "@jupyter-widgets/controls",
      "model_module_version": "2.0.0",
      "model_name": "HBoxModel",
      "state": {
       "children": [
        "IPY_MODEL_8545252497274ce58cb5fbd74ec65f6f",
        "IPY_MODEL_ce343d75e92b43669ebabc71d0771897",
        "IPY_MODEL_a3cb5357842b4ba3812cce91a4b3f35a"
       ],
       "layout": "IPY_MODEL_11d19d87a0574becbae7954b350698a3"
      }
     },
     "ea14d5347bb74202abf95cd8b457ae9a": {
      "model_module": "@jupyter-widgets/base",
      "model_module_version": "2.0.0",
      "model_name": "LayoutModel",
      "state": {}
     },
     "eb9924368bad42b29b656ab5195f56b4": {
      "model_module": "@jupyter-widgets/base",
      "model_module_version": "2.0.0",
      "model_name": "LayoutModel",
      "state": {}
     },
     "ebdb07b88c29420ea44fa7ec4b0c868d": {
      "model_module": "@jupyter-widgets/controls",
      "model_module_version": "2.0.0",
      "model_name": "ProgressStyleModel",
      "state": {
       "description_width": ""
      }
     },
     "ec4515646cbf49c48846adc46d736aa5": {
      "model_module": "@jupyter-widgets/controls",
      "model_module_version": "2.0.0",
      "model_name": "FloatProgressModel",
      "state": {
       "bar_style": "danger",
       "layout": "IPY_MODEL_5c712e2cf04f490d89ee21ea4f697b65",
       "max": 3760,
       "style": "IPY_MODEL_ebdb07b88c29420ea44fa7ec4b0c868d",
       "value": 1000
      }
     },
     "ed5a157cbbea4f1594ebd795c84a2a34": {
      "model_module": "@jupyter-widgets/base",
      "model_module_version": "2.0.0",
      "model_name": "LayoutModel",
      "state": {}
     },
     "ee5c294ab50a4eef9ba42f6ba05ad6e5": {
      "model_module": "@jupyter-widgets/controls",
      "model_module_version": "2.0.0",
      "model_name": "ProgressStyleModel",
      "state": {
       "description_width": ""
      }
     },
     "eedc8690d8d64fcc846ce806223c3d95": {
      "model_module": "@jupyter-widgets/base",
      "model_module_version": "2.0.0",
      "model_name": "LayoutModel",
      "state": {}
     },
     "ef4f7f548d23444dbb204b3a6f17c01e": {
      "model_module": "@jupyter-widgets/base",
      "model_module_version": "2.0.0",
      "model_name": "LayoutModel",
      "state": {}
     },
     "f387b4c6ede54bb2894c99a81d399dd7": {
      "model_module": "@jupyter-widgets/controls",
      "model_module_version": "2.0.0",
      "model_name": "HBoxModel",
      "state": {
       "children": [
        "IPY_MODEL_e502564f8d1b4f708d3be12e619ccca8",
        "IPY_MODEL_1386282b02ab4f468d1cda02f5c931fc",
        "IPY_MODEL_bba5d518cc4046f4b4b98fe4c181a389"
       ],
       "layout": "IPY_MODEL_528006fa1d8b45a4a4561a7c3b40787b"
      }
     },
     "f4c2a5207cc94a399c09202cf42ec2fa": {
      "model_module": "@jupyter-widgets/controls",
      "model_module_version": "2.0.0",
      "model_name": "HTMLModel",
      "state": {
       "layout": "IPY_MODEL_b095170d515d4c66aee32f75f25c811c",
       "style": "IPY_MODEL_aab6c088742a4761aa1e11513c7afe4c",
       "value": " 27%"
      }
     },
     "fb1a8a89aaa94abfad1678937bce8743": {
      "model_module": "@jupyter-widgets/controls",
      "model_module_version": "2.0.0",
      "model_name": "FloatProgressModel",
      "state": {
       "bar_style": "success",
       "layout": "IPY_MODEL_cfab3f359cac4ff3880499d0545f9a71",
       "max": 6,
       "style": "IPY_MODEL_e06eb2396b7042c08272e02af748da0b",
       "value": 6
      }
     },
     "fb68c1ec92d34123bc24fcc6384cf2f1": {
      "model_module": "@jupyter-widgets/base",
      "model_module_version": "2.0.0",
      "model_name": "LayoutModel",
      "state": {}
     }
    },
    "version_major": 2,
    "version_minor": 0
   }
  }
 },
 "nbformat": 4,
 "nbformat_minor": 4
}
