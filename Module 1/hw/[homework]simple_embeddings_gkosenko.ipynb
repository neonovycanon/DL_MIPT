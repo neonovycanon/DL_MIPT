{
 "cells": [
  {
   "cell_type": "markdown",
   "metadata": {
    "id": "Ot3c4fjZwC4T"
   },
   "source": [
    "<img src=\"https://s8.hostingkartinok.com/uploads/images/2018/08/308b49fcfbc619d629fe4604bceb67ac.jpg\" width=500, height=450>\n",
    "<h3 style=\"text-align: center;\"><b>Физтех-Школа Прикладной математики и информатики (ФПМИ) МФТИ</b></h3>"
   ]
  },
  {
   "cell_type": "markdown",
   "metadata": {
    "id": "P2JdzEXmwRU5"
   },
   "source": [
    "---"
   ]
  },
  {
   "cell_type": "markdown",
   "metadata": {
    "id": "Fc8iHXIVwDwj"
   },
   "source": [
    "***Some parts of the notebook are almost the copy of [ mmta-team course](https://github.com/mmta-team/mmta_fall_2020). Special thanks to mmta-team for making them publicly available. [Original notebook](https://github.com/mmta-team/mmta_fall_2020/blob/master/tasks/01_word_embeddings/task_word_embeddings.ipynb).***"
   ]
  },
  {
   "cell_type": "markdown",
   "metadata": {
    "id": "7D0wm5jt6j0U"
   },
   "source": [
    "<b> Прочитайте семинар, пожалуйста, для успешного выполнения домашнего задания. В конце ноутка напишите свой вывод. Работа без вывода оценивается ниже."
   ]
  },
  {
   "cell_type": "code",
   "execution_count": 1,
   "metadata": {
    "execution": {
     "iopub.execute_input": "2025-02-15T07:57:17.421605Z",
     "iopub.status.busy": "2025-02-15T07:57:17.421605Z",
     "iopub.status.idle": "2025-02-15T07:57:35.935337Z",
     "shell.execute_reply": "2025-02-15T07:57:35.935337Z",
     "shell.execute_reply.started": "2025-02-15T07:57:17.421605Z"
    }
   },
   "outputs": [
    {
     "name": "stderr",
     "output_type": "stream",
     "text": [
      "[nltk_data] Downloading package punkt to stopwords...\n",
      "[nltk_data]   Unzipping tokenizers\\punkt.zip.\n"
     ]
    }
   ],
   "source": [
    "# Импорт библиотек\n",
    "import re\n",
    "import numpy as np\n",
    "from numpy.linalg import norm\n",
    "import pandas as pd\n",
    "import urllib.request\n",
    "import spacy\n",
    "\n",
    "import nltk\n",
    "nltk.download('punkt', 'stopwords')\n",
    "from nltk.tokenize import word_tokenize\n",
    "from nltk.corpus import stopwords\n",
    "\n",
    "from gensim.models.keyedvectors import KeyedVectors\n",
    "from gensim.models import Word2Vec\n",
    "\n",
    "from sklearn.metrics.pairwise import cosine_similarity\n",
    "from copy import deepcopy\n",
    "\n",
    "from tqdm.notebook import tqdm"
   ]
  },
  {
   "cell_type": "code",
   "execution_count": 73,
   "metadata": {
    "execution": {
     "iopub.execute_input": "2025-02-15T09:17:37.349847Z",
     "iopub.status.busy": "2025-02-15T09:17:37.349847Z",
     "iopub.status.idle": "2025-02-15T09:17:37.365902Z",
     "shell.execute_reply": "2025-02-15T09:17:37.365902Z",
     "shell.execute_reply.started": "2025-02-15T09:17:37.349847Z"
    }
   },
   "outputs": [],
   "source": [
    "stopWords = set(stopwords.words('english'))"
   ]
  },
  {
   "cell_type": "markdown",
   "metadata": {
    "id": "BIWqBuEa6j0b"
   },
   "source": [
    "## Задача поиска схожих по смыслу предложений"
   ]
  },
  {
   "cell_type": "markdown",
   "metadata": {
    "id": "NUkwMPLA6j0g"
   },
   "source": [
    "Мы будем ранжировать вопросы [StackOverflow](https://stackoverflow.com) на основе семантического векторного представления"
   ]
  },
  {
   "cell_type": "markdown",
   "metadata": {
    "id": "dNRXIEfu5a3Q"
   },
   "source": [
    "До этого в курсе не было речи про задачу ранжировния, поэтому введем математическую формулировку"
   ]
  },
  {
   "cell_type": "markdown",
   "metadata": {
    "id": "uS9FwWNd5a3S"
   },
   "source": [
    "## Задача ранжирования(Learning to Rank)"
   ]
  },
  {
   "cell_type": "markdown",
   "metadata": {
    "id": "wdwY9-f75a3T"
   },
   "source": [
    "* $X$ - множество объектов\n",
    "* $X^l = \\{x_1, x_2, ..., x_l\\}$ - обучающая выборка\n",
    "<br>На обучающей выборке задан порядок между некоторыми элементами, то есть нам известно, что некий объект выборки более релевантный для нас, чем другой:\n",
    "* $i \\prec j$ - порядок пары индексов объектов на выборке $X^l$ c индексами $i$ и $j$\n",
    "### Задача:\n",
    "построить ранжирующую функцию $a$ : $X \\rightarrow R$ такую, что\n",
    "$$i \\prec j \\Rightarrow a(x_i) < a(x_j)$$"
   ]
  },
  {
   "cell_type": "markdown",
   "metadata": {
    "id": "WG2IGBsh5a3U"
   },
   "source": [
    "<img src=\"https://d25skit2l41vkl.cloudfront.net/wp-content/uploads/2016/12/Featured-Image.jpg\" width=500, height=450>"
   ]
  },
  {
   "cell_type": "markdown",
   "metadata": {
    "id": "MQk_rolFwT_h"
   },
   "source": [
    "### Embeddings"
   ]
  },
  {
   "cell_type": "markdown",
   "metadata": {
    "id": "xUe1PGXn6j0l"
   },
   "source": [
    "Будем использовать предобученные векторные представления слов на постах Stack Overflow.<br>\n",
    "[A word2vec model trained on Stack Overflow posts](https://github.com/vefstathiou/SO_word2vec)"
   ]
  },
  {
   "cell_type": "code",
   "execution_count": null,
   "metadata": {
    "colab": {
     "base_uri": "https://localhost:8080/"
    },
    "id": "mYkI54Y-rk7a",
    "outputId": "79e4b5e0-9e6b-47b9-e41d-6361ba3b1e8d"
   },
   "outputs": [
    {
     "name": "stdout",
     "output_type": "stream",
     "text": [
      "--2025-02-14 21:19:25--  https://zenodo.org/record/1199620/files/SO_vectors_200.bin?download=1\n",
      "Resolving zenodo.org (zenodo.org)... 188.185.45.92, 188.185.48.194, 188.185.43.25, ...\n",
      "Connecting to zenodo.org (zenodo.org)|188.185.45.92|:443... connected.\n",
      "HTTP request sent, awaiting response... 301 MOVED PERMANENTLY\n",
      "Location: /records/1199620/files/SO_vectors_200.bin [following]\n",
      "--2025-02-14 21:19:25--  https://zenodo.org/records/1199620/files/SO_vectors_200.bin\n",
      "Reusing existing connection to zenodo.org:443.\n",
      "HTTP request sent, awaiting response... 200 OK\n",
      "Length: 1453905423 (1.4G) [application/octet-stream]\n",
      "Saving to: ‘SO_vectors_200.bin?download=1’\n",
      "\n",
      "SO_vectors_200.bin? 100%[===================>]   1.35G  33.1MB/s    in 58s     \n",
      "\n",
      "2025-02-14 21:20:23 (24.0 MB/s) - ‘SO_vectors_200.bin?download=1’ saved [1453905423/1453905423]\n",
      "\n"
     ]
    }
   ],
   "source": [
    "# !wget https://zenodo.org/record/1199620/files/SO_vectors_200.bin?download=1"
   ]
  },
  {
   "cell_type": "code",
   "execution_count": 2,
   "metadata": {
    "execution": {
     "iopub.execute_input": "2025-02-15T07:58:04.109746Z",
     "iopub.status.busy": "2025-02-15T07:58:04.107736Z",
     "iopub.status.idle": "2025-02-15T07:58:04.117912Z",
     "shell.execute_reply": "2025-02-15T07:58:04.116900Z",
     "shell.execute_reply.started": "2025-02-15T07:58:04.109746Z"
    }
   },
   "outputs": [],
   "source": [
    "url = 'https://zenodo.org/record/1199620/files/SO_vectors_200.bin?download=1'\n",
    "filename = 'SO_vectors_200.bin'\n",
    "urllib.request.urlretrieve(url, filename)"
   ]
  },
  {
   "cell_type": "code",
   "execution_count": 3,
   "metadata": {
    "execution": {
     "iopub.execute_input": "2025-02-15T07:58:49.878154Z",
     "iopub.status.busy": "2025-02-15T07:58:49.877153Z",
     "iopub.status.idle": "2025-02-15T07:58:56.233821Z",
     "shell.execute_reply": "2025-02-15T07:58:56.233474Z",
     "shell.execute_reply.started": "2025-02-15T07:58:49.878154Z"
    },
    "id": "O8YJTOYv6j0s"
   },
   "outputs": [],
   "source": [
    "from gensim.models.keyedvectors import KeyedVectors\n",
    "wv_embeddings = KeyedVectors.load_word2vec_format(\"SO_vectors_200.bin\", binary=True)"
   ]
  },
  {
   "cell_type": "markdown",
   "metadata": {
    "id": "aIcT_g-C6j1E"
   },
   "source": [
    "#### Как пользоваться этими векторами?"
   ]
  },
  {
   "cell_type": "markdown",
   "metadata": {
    "id": "DWO5SPDY6j1G"
   },
   "source": [
    "Посмотрим на примере одного слова, что из себя представляет embedding"
   ]
  },
  {
   "cell_type": "code",
   "execution_count": 4,
   "metadata": {
    "execution": {
     "iopub.execute_input": "2025-02-15T07:59:13.756695Z",
     "iopub.status.busy": "2025-02-15T07:59:13.755696Z",
     "iopub.status.idle": "2025-02-15T07:59:13.762221Z",
     "shell.execute_reply": "2025-02-15T07:59:13.762221Z",
     "shell.execute_reply.started": "2025-02-15T07:59:13.756695Z"
    },
    "id": "KeSBlQfk6j1J"
   },
   "outputs": [
    {
     "name": "stdout",
     "output_type": "stream",
     "text": [
      "float32 (200,)\n"
     ]
    }
   ],
   "source": [
    "word = 'dog'\n",
    "if word in wv_embeddings:\n",
    "    print(wv_embeddings[word].dtype, wv_embeddings[word].shape)"
   ]
  },
  {
   "cell_type": "code",
   "execution_count": 5,
   "metadata": {
    "execution": {
     "iopub.execute_input": "2025-02-15T07:59:14.456472Z",
     "iopub.status.busy": "2025-02-15T07:59:14.456472Z",
     "iopub.status.idle": "2025-02-15T07:59:14.464950Z",
     "shell.execute_reply": "2025-02-15T07:59:14.464950Z",
     "shell.execute_reply.started": "2025-02-15T07:59:14.456472Z"
    },
    "id": "T4Eq-D1qxpMJ"
   },
   "outputs": [
    {
     "name": "stdout",
     "output_type": "stream",
     "text": [
      "Num of words: 1787145\n"
     ]
    }
   ],
   "source": [
    "print(f\"Num of words: {len(wv_embeddings.index_to_key)}\")"
   ]
  },
  {
   "cell_type": "markdown",
   "metadata": {
    "id": "ZT6NTCys6j1Q"
   },
   "source": [
    "Найдем наиболее близкие слова к слову `dog`:"
   ]
  },
  {
   "cell_type": "markdown",
   "metadata": {
    "id": "n08z2PjMwC5o"
   },
   "source": [
    "#### ***Вопрос 1:***\n",
    "* Входит ли слово `cat` в топ-5 близких слов к слову `dog`? Какое место оно занимает?\n"
   ]
  },
  {
   "cell_type": "code",
   "execution_count": 6,
   "metadata": {
    "execution": {
     "iopub.execute_input": "2025-02-15T07:59:35.014708Z",
     "iopub.status.busy": "2025-02-15T07:59:35.013710Z",
     "iopub.status.idle": "2025-02-15T07:59:35.482274Z",
     "shell.execute_reply": "2025-02-15T07:59:35.481267Z",
     "shell.execute_reply.started": "2025-02-15T07:59:35.014708Z"
    },
    "id": "nYwVz0xG6j1U",
    "scrolled": true
   },
   "outputs": [
    {
     "name": "stdout",
     "output_type": "stream",
     "text": [
      "Слово: animal, расстояние: 0.8564180135726929\n",
      "Слово: dogs, расстояние: 0.7880866527557373\n",
      "Слово: mammal, расстояние: 0.7623804211616516\n",
      "Слово: cats, расстояние: 0.7621253728866577\n",
      "Слово: animals, расстояние: 0.760793924331665\n"
     ]
    }
   ],
   "source": [
    "# method most_simmilar\n",
    "for i in wv_embeddings.most_similar(positive = ['dog'], topn=5):\n",
    "    print(f'Слово: {i[0]}, расстояние: {i[1]}')"
   ]
  },
  {
   "cell_type": "markdown",
   "metadata": {
    "id": "7Wu7O43AY5jH"
   },
   "source": [
    "***Ваш ответ:*** Слово `cat` не входит в топ-5 ближайших слов к слову `dog`, однако в топ-5 близких слов входит его множественное число `cats`. Возможно, что близость множественного числа `cats` обусловлена тем, что во время обучения именно эта форма слова чаще встречалась в обучающей выборке, также на это могло повлиять отсутствие процессов стемминга или лемматизации при продготовке текста, так как в оригинальной статье [Word Embeddings for the Software Engineering Domain](https://github.com/vefstathiou/SO_word2vec/blob/master/MSR18-w2v.pdf) указано, что текст был предобработан с учётом возможности сохранения читаемости кода, а также очищен от \"стоп-слов\", однако описанные выше процессы (стемминг/лемматизация) упомянуты не были ."
   ]
  },
  {
   "cell_type": "markdown",
   "metadata": {
    "id": "ai48-5vv6j1d"
   },
   "source": [
    "### Векторные представления текста\n",
    "\n",
    "Перейдем от векторных представлений отдельных слов к векторным представлениям вопросов, как к **среднему** векторов всех слов в вопросе. Если для какого-то слова нет предобученного вектора, то его нужно пропустить. Если вопрос не содержит ни одного известного слова, то нужно вернуть нулевой вектор."
   ]
  },
  {
   "cell_type": "code",
   "execution_count": 7,
   "metadata": {
    "execution": {
     "iopub.execute_input": "2025-02-15T08:01:30.883975Z",
     "iopub.status.busy": "2025-02-15T08:01:30.882976Z",
     "iopub.status.idle": "2025-02-15T08:01:30.891388Z",
     "shell.execute_reply": "2025-02-15T08:01:30.891388Z",
     "shell.execute_reply.started": "2025-02-15T08:01:30.883975Z"
    },
    "id": "EhNuxBJd6j1f"
   },
   "outputs": [],
   "source": [
    "# you can use your tokenizer\n",
    "# for example, from nltk.tokenize import WordPunctTokenizer\n",
    "class MyTokenizer:\n",
    "    \"\"\"\n",
    "        model: тип токенизатора\n",
    "            0 - токенизатор по умолчанию (поиск токенов из списка [A-Za-z0-9_]);\n",
    "            1 - токенизатор, сохраняющий знаки препинания как отдельные токены по LLMs-from-scratch: https://github.com/rasbt/LLMs-from-scratch/tree/main\n",
    "            2 - токенизатор word_tokenize библиотеки nltk (использует рекоммендуемый метод от NLTK)\n",
    "        return: список токенов\n",
    "    \"\"\"\n",
    "    \n",
    "    def __init__(self, model: int = 0):\n",
    "        self.model = model\n",
    "        \n",
    "    def tokenize(self, text):\n",
    "        if self.model == 0:\n",
    "            return re.findall(r'\\w+', text)\n",
    "            \n",
    "        elif self.model == 1:\n",
    "            preprocessed = re.split(r'([,.:;?_!\\\"()\\']|\\s)', text)\n",
    "            return [i.strip() for i in preprocessed if i.strip()]\n",
    "            \n",
    "        elif self.model == 2:\n",
    "            return word_tokenize(text)\n",
    "        else:\n",
    "            return None\n",
    "\n",
    "tokenizer_0 = MyTokenizer()\n",
    "tokenizer_1 = MyTokenizer(1)\n",
    "tokenizer_2 = MyTokenizer(2)"
   ]
  },
  {
   "cell_type": "code",
   "execution_count": 50,
   "metadata": {
    "execution": {
     "iopub.execute_input": "2025-02-15T08:56:25.159315Z",
     "iopub.status.busy": "2025-02-15T08:56:25.158315Z",
     "iopub.status.idle": "2025-02-15T08:56:25.166206Z",
     "shell.execute_reply": "2025-02-15T08:56:25.166206Z",
     "shell.execute_reply.started": "2025-02-15T08:56:25.159315Z"
    },
    "id": "YHcvu6186j1m"
   },
   "outputs": [],
   "source": [
    "def question_to_vec(question, embeddings = wv_embeddings, tokenizer = tokenizer_0, dim=200):\n",
    "    \"\"\"\n",
    "        question: строка\n",
    "        embeddings: наше векторное представление\n",
    "        dim: размер любого вектора в нашем представлении\n",
    "\n",
    "        return: векторное представление для вопроса\n",
    "    \"\"\"\n",
    "    if tokenizer != None:\n",
    "        words = tokenizer.tokenize(question)\n",
    "    else:\n",
    "        raise AttributeError('Tokenizer is undefined')\n",
    "        \n",
    "    if embeddings:\n",
    "        assert dim == embeddings.vector_size, 'Dimensions differ, check inputs!'\n",
    "        word_vectors = [embeddings[word] for word in words if word in embeddings]\n",
    "    else:\n",
    "        raise AttributeError('Embeddings are undefined')\n",
    "    \n",
    "    if not word_vectors:\n",
    "        return np.zeros(dim, dtype='float32')\n",
    "    \n",
    "    return  np.mean(word_vectors, axis = 0) # np.sum(word_vectors, axis = 0)"
   ]
  },
  {
   "cell_type": "markdown",
   "metadata": {
    "id": "u5Q_4j7r6j1u"
   },
   "source": [
    "Теперь у нас есть метод для создания векторного представления любого предложения."
   ]
  },
  {
   "cell_type": "markdown",
   "metadata": {
    "id": "EsJSNkhm6j1y"
   },
   "source": [
    "#### ***Вопрос 2:***\n",
    "\n",
    "* Какая третья (с индексом 2) компонента вектора предложения `I love neural networks` (округлите до 2 знаков после запятой)?"
   ]
  },
  {
   "cell_type": "code",
   "execution_count": 9,
   "metadata": {
    "execution": {
     "iopub.execute_input": "2025-02-15T08:02:05.266031Z",
     "iopub.status.busy": "2025-02-15T08:02:05.266031Z",
     "iopub.status.idle": "2025-02-15T08:02:05.336705Z",
     "shell.execute_reply": "2025-02-15T08:02:05.336705Z",
     "shell.execute_reply.started": "2025-02-15T08:02:05.266031Z"
    },
    "id": "a62r11cT6j10",
    "scrolled": true
   },
   "outputs": [
    {
     "name": "stdout",
     "output_type": "stream",
     "text": [
      "Модель токенизатора 0, компонента ввектора: -1.29\n",
      "Модель токенизатора 1, компонента ввектора: -1.29\n",
      "Модель токенизатора 2, компонента ввектора: -1.29\n"
     ]
    }
   ],
   "source": [
    "# Предложение\n",
    "question = \"I love neural networks\"\n",
    "\n",
    "for i in [tokenizer_0, tokenizer_1, tokenizer_2]:\n",
    "    print(f'Модель токенизатора {i.model}, компонента ввектора:', np.round(question_to_vec(question, tokenizer = i), 2)[2])"
   ]
  },
  {
   "cell_type": "markdown",
   "metadata": {
    "id": "wGNTG18dY73d"
   },
   "source": [
    "***Ваш ответ:*** третья (с индексом 2) компонента вектора предложения равна **`-1.29`**"
   ]
  },
  {
   "cell_type": "markdown",
   "metadata": {
    "id": "Y60z4t6W6j16"
   },
   "source": [
    "### Оценка близости текстов\n",
    "\n",
    "Представим, что мы используем идеальные векторные представления слов. Тогда косинусное расстояние между дублирующими предложениями должно быть меньше, чем между случайно взятыми предложениями.\n",
    "\n",
    "Сгенерируем для каждого из $N$ вопросов $R$ случайных отрицательных примеров и примешаем к ним также настоящие дубликаты. Для каждого вопроса будем ранжировать с помощью нашей модели $R + 1$ примеров и смотреть на позицию дубликата. Мы хотим, чтобы дубликат был первым в ранжированном списке.\n",
    "\n",
    "#### Hits@K\n",
    "Первой простой метрикой будет количество корректных попаданий для какого-то $K$:\n",
    "$$ \\text{Hits@K} = \\frac{1}{N}\\sum_{i=1}^N \\, [rank\\_q_i^{'} \\le K],$$\n",
    "* $\\begin{equation*}\n",
    "[x < 0 ] \\equiv\n",
    " \\begin{cases}\n",
    "   1, &x < 0\\\\\n",
    "   0, &x \\geq 0\n",
    " \\end{cases}\n",
    "\\end{equation*}$ - индикаторная функция\n",
    "* $q_i$ - $i$-ый вопрос\n",
    "* $q_i^{'}$ - его дубликат\n",
    "* $rank\\_q_i^{'}$ - позиция дубликата в ранжированном списке ближайших предложений для вопроса $q_i$.\n",
    "\n",
    "Hits@K  измеряет долю вопросов, для которых правильный ответ попал в топ-K позиций среди отранжированных кандидатов.\n",
    "\n",
    "#### DCG@K\n",
    "Второй метрикой будет упрощенная DCG метрика, учитывающая порядок элементов в списке путем домножения релевантности элемента на вес равный обратному логарифму номера позиции::\n",
    "$$ \\text{DCG@K} = \\frac{1}{N} \\sum_{i=1}^N\\frac{1}{\\log_2(1+rank\\_q_i^{'})}\\cdot[rank\\_q_i^{'} \\le K],$$\n",
    "С такой метрикой модель штрафуется за большой ранк корректного ответа.\n",
    "\n",
    "DCG@K  измеряет качество ранжирования, учитывая не только факт наличия правильного ответа в топ-K, но и ***его точную позицию***."
   ]
  },
  {
   "cell_type": "markdown",
   "metadata": {
    "id": "_tFemBkP6j1-"
   },
   "source": [
    "<img src='https://hsto.org/files/1c5/edf/dee/1c5edfdeebce4b71a86bdf986d9f88f2.jpg' width=400, height=200>"
   ]
  },
  {
   "cell_type": "markdown",
   "metadata": {
    "id": "0sUSxk866j1_"
   },
   "source": [
    "#### Пример оценок\n",
    "\n",
    "Вычислим описанные выше метрики для игрушечного примера.\n",
    "Пусть\n",
    "* $N = 1$, $R = 3$\n",
    "* <font color='green'>\"Что такое python?\"</font> - вопрос $q_1$\n",
    "* <font color='red'>\"Что такое язык python?\"</font> - его дубликат $q_i^{'}$\n",
    "\n",
    "Пусть модель выдала следующий ранжированный список кандидатов:\n",
    "\n",
    "1. \"Как изучить с++?\"\n",
    "2. <font color='red'>\"Что такое язык python?\"</font>\n",
    "3. \"Хочу учить Java\"\n",
    "4. \"Не понимаю Tensorflow\"\n",
    "\n",
    "$\\Rightarrow rank\\_q_i^{'} = 2$"
   ]
  },
  {
   "cell_type": "markdown",
   "metadata": {
    "id": "-XXCbN3uUiHU"
   },
   "source": [
    "Вычислим метрику *Hits@K* для *K = 1, 4*:\n",
    "\n",
    "- [K = 1] $\\text{Hits@1} =  [rank\\_q_i^{'} \\le 1]$\n",
    "\n",
    "Проверяем условие $ \\text{rank}_{q'_1} \\leq 1 $: ***условие неверно***.\n",
    "\n",
    "Следовательно, $[\\text{rank}_{q'_1} \\leq 1] = 0$.\n",
    "\n",
    "- [K = 4] $\\text{Hits@4} =  [rank\\_q_i^{'} \\le 4] = 1$\n",
    "\n",
    "Проверяем условие $ \\text{rank}_{q'_1} \\leq 4 $: ***условие верно***."
   ]
  },
  {
   "cell_type": "markdown",
   "metadata": {
    "id": "Ya9gf-dvVGmm"
   },
   "source": [
    "Вычислим метрику *DCG@K* для *K = 1, 4*:\n",
    "- [K = 1] $\\text{DCG@1} = \\frac{1}{\\log_2(1+2)}\\cdot[2 \\le 1] = 0$\n",
    "- [K = 4] $\\text{DCG@4} = \\frac{1}{\\log_2(1+2)}\\cdot[2 \\le 4] = \\frac{1}{\\log_2{3}}$"
   ]
  },
  {
   "cell_type": "markdown",
   "metadata": {
    "id": "B4L6HJJC6j2B"
   },
   "source": [
    "#### ***Вопрос 3***:\n",
    "* Вычислите `DCG@10`, если $rank\\_q_i^{'} = 9$(округлите до одного знака после запятой)\n",
    "\n"
   ]
  },
  {
   "cell_type": "code",
   "execution_count": 80,
   "metadata": {
    "execution": {
     "iopub.execute_input": "2025-02-15T09:35:42.942495Z",
     "iopub.status.busy": "2025-02-15T09:35:42.940499Z",
     "iopub.status.idle": "2025-02-15T09:35:42.947474Z",
     "shell.execute_reply": "2025-02-15T09:35:42.947474Z",
     "shell.execute_reply.started": "2025-02-15T09:35:42.942495Z"
    }
   },
   "outputs": [
    {
     "name": "stdout",
     "output_type": "stream",
     "text": [
      "Ответ: 0.3\n"
     ]
    }
   ],
   "source": [
    "print('Ответ:', round(1 / np.log2(9+1), 2))"
   ]
  },
  {
   "cell_type": "markdown",
   "metadata": {},
   "source": [
    "$$DCG @10 = \\frac{1 \\: [9 \\leq 10]}{\\log_{2}({1+9})}=\\frac{1}{3.32} \\approx 0.3$$"
   ]
  },
  {
   "cell_type": "markdown",
   "metadata": {
    "id": "hM1PtUq3haNS"
   },
   "source": [
    "#### Более сложный пример оценок\n",
    "\n",
    "Рассмотрим пример с $ N > 1 $, где $ N = 3 $ (три вопроса) и для каждого вопроса заданы позиции их дубликатов. Вычислим метрики **Hits@K** для разных значений $ K $.\n",
    "\n",
    "---\n",
    "\n",
    "- $ N = 3 $: Три вопроса ($ q_1, q_2, q_3 $).\n",
    "- Для каждого вопроса известна позиция его дубликата ($ \\text{rank}_{q'_i} $):\n",
    "  - $ \\text{rank}_{q'_1} = 2 $,\n",
    "  - $ \\text{rank}_{q'_2} = 5 $,\n",
    "  - $ \\text{rank}_{q'_3} = 1 $.\n",
    "\n",
    "Мы будем вычислять **Hits@K** для $ K = 1, 5 $.\n",
    "\n",
    "---\n",
    "\n",
    "**Для $ K = 1 $:**\n",
    "\n",
    "Подставим значения:\n",
    "$$\n",
    "\\text{Hits@1} = \\frac{1}{3} \\cdot \\left( [\\text{rank}_{q'_1} \\leq 1] + [\\text{rank}_{q'_2} \\leq 1] + [\\text{rank}_{q'_3} \\leq 1] \\right).\n",
    "$$\n",
    "\n",
    "Проверяем условие $ \\text{rank}_{q'_i} \\leq 1 $ для каждого вопроса:\n",
    "- $ \\text{rank}_{q'_1} = 2 $ → $ 2 \\not\\leq 1 $ → $ 0 $,\n",
    "- $ \\text{rank}_{q'_2} = 5 $ → $ 5 \\not\\leq 1 $ → $ 0 $,\n",
    "- $ \\text{rank}_{q'_3} = 1 $ → $ 1 \\leq 1 $ → $ 1 $.\n",
    "\n",
    "Сумма:\n",
    "$$\n",
    "\\text{Hits@1} = \\frac{1}{3} \\cdot (0 + 0 + 1) = \\frac{1}{3}.\n",
    "$$\n",
    "\n",
    "$$\n",
    "\\boxed{\\text{Hits@1} = \\frac{1}{3}}.\n",
    "$$\n",
    "\n",
    "---\n",
    "\n",
    "**Для $ K = 5 $:**\n",
    "\n",
    "Подставим значения:\n",
    "$$\n",
    "\\text{Hits@5} = \\frac{1}{3} \\cdot \\left( [\\text{rank}_{q'_1} \\leq 5] + [\\text{rank}_{q'_2} \\leq 5] + [\\text{rank}_{q'_3} \\leq 5] \\right).\n",
    "$$\n",
    "\n",
    "Проверяем условие $ \\text{rank}_{q'_i} \\leq 5 $ для каждого вопроса:\n",
    "- $ \\text{rank}_{q'_1} = 2 $ → $ 2 \\leq 5 $ → $ 1 $,\n",
    "- $ \\text{rank}_{q'_2} = 5 $ → $ 5 \\leq 5 $ → $ 1 $,\n",
    "- $ \\text{rank}_{q'_3} = 1 $ → $ 1 \\leq 5 $ → $ 1 $.\n",
    "\n",
    "Сумма:\n",
    "$$\n",
    "\\text{Hits@5} = \\frac{1}{3} \\cdot (1 + 1 + 1) = 1.\n",
    "$$\n",
    "\n",
    "$$\n",
    "\\boxed{\\text{Hits@5} = 1}.\n",
    "$$"
   ]
  },
  {
   "cell_type": "markdown",
   "metadata": {
    "id": "ngfvO7JsqROf"
   },
   "source": [
    "Теперь вычислим метрику **DCG@K** для того же примера, где $ N = 3 $ (три вопроса), и для каждого вопроса известна позиция его дубликата ($ \\text{rank}_{q'_i} $):\n",
    "\n",
    "- $ \\text{rank}_{q'_1} = 2 $,\n",
    "- $ \\text{rank}_{q'_2} = 5 $,\n",
    "- $ \\text{rank}_{q'_3} = 1 $.\n",
    "\n",
    "Мы будем вычислять **DCG@K** для $ K = 1, 5 $.\n",
    "\n",
    "---\n",
    "**Для $ K = 1 $:**\n",
    "Подставим значения:\n",
    "$$\n",
    "\\text{DCG@1} = \\frac{1}{3} \\cdot \\left( \\frac{1}{\\log_2(1 + \\text{rank}_{q'_1})} \\cdot [\\text{rank}_{q'_1} \\leq 1] + \\frac{1}{\\log_2(1 + \\text{rank}_{q'_2})} \\cdot [\\text{rank}_{q'_2} \\leq 1] + \\frac{1}{\\log_2(1 + \\text{rank}_{q'_3})} \\cdot [\\text{rank}_{q'_3} \\leq 1] \\right).\n",
    "$$\n",
    "\n",
    "Проверяем условие $ \\text{rank}_{q'_i} \\leq 1 $ для каждого вопроса:\n",
    "- $ \\text{rank}_{q'_1} = 2 $ → $ 2 \\not\\leq 1 $ → $ 0 $,\n",
    "- $ \\text{rank}_{q'_2} = 5 $ → $ 5 \\not\\leq 1 $ → $ 0 $,\n",
    "- $ \\text{rank}_{q'_3} = 1 $ → $ 1 \\leq 1 $ → $ 1 $.\n",
    "\n",
    "Сумма:\n",
    "$$\n",
    "\\text{DCG@1} = \\frac{1}{3} \\cdot (0 + 0 + 1) = \\frac{1}{3}.\n",
    "$$\n",
    "$$\n",
    "\\boxed{\\text{DCG@1} = \\frac{1}{3}}.\n",
    "$$\n",
    "\n",
    "---\n",
    "\n",
    "\n",
    "**Для $ K = 5 $:**\n",
    "Подставим значения:\n",
    "$$\n",
    "\\text{DCG@5} = \\frac{1}{3} \\cdot \\left( \\frac{1}{\\log_2(1 + \\text{rank}_{q'_1})} \\cdot [\\text{rank}_{q'_1} \\leq 5] + \\frac{1}{\\log_2(1 + \\text{rank}_{q'_2})} \\cdot [\\text{rank}_{q'_2} \\leq 5] + \\frac{1}{\\log_2(1 + \\text{rank}_{q'_3})} \\cdot [\\text{rank}_{q'_3} \\leq 5] \\right).\n",
    "$$\n",
    "\n",
    "Проверяем условие $ \\text{rank}_{q'_i} \\leq 5 $ для каждого вопроса:\n",
    "- $ \\text{rank}_{q'_1} = 2 $ → $ 2 \\leq 5 $ → $ 1 $,\n",
    "- $ \\text{rank}_{q'_2} = 5 $ → $ 5 \\leq 5 $ → $ 1 $,\n",
    "- $ \\text{rank}_{q'_3} = 1 $ → $ 1 \\leq 5 $ → $ 1 $.\n",
    "\n",
    "Сумма:\n",
    "$$\n",
    "\\text{DCG@5} = \\frac{1}{3} \\cdot (0.631 + 0.387 + 1) = \\frac{1}{3} \\cdot 2.018 \\approx 0.673.\n",
    "$$\n",
    "\n",
    "$$\n",
    "\\boxed{\\text{DCG@5} \\approx 0.673}.\n",
    "$$"
   ]
  },
  {
   "cell_type": "markdown",
   "metadata": {
    "id": "eHCnH-jw6j18"
   },
   "source": [
    "#### ***Вопрос 4:***\n",
    "* Найдите максимум `Hits@47 - DCG@1`?\n",
    "\n"
   ]
  },
  {
   "cell_type": "markdown",
   "metadata": {},
   "source": [
    "Максимум заданного выражения достигается в случае, когда первая его часть максимальна, т.е. Hits@47 = 1 - дубликат занимает одно из 46 мест (кроме первого), но при этом вторая часть выражения обнуляется, т.е. DCG@1 = 0, что достигается в случае, когда дубликат в ранжированном списке не попадает на первую позицию."
   ]
  },
  {
   "cell_type": "markdown",
   "metadata": {
    "id": "J5xWOORI6j2F"
   },
   "source": [
    "### HITS\\_COUNT и DCG\\_SCORE"
   ]
  },
  {
   "cell_type": "markdown",
   "metadata": {
    "id": "I1q9WQOx6j2H"
   },
   "source": [
    "Каждая функция имеет два аргумента: $dup\\_ranks$ и $k$.\n",
    "\n",
    "$dup\\_ranks$ является списком, который содержит рейтинги дубликатов (их позиции в ранжированном списке).\n",
    "\n",
    "К примеру для <font color='red'>\"Что такое язык python?\"</font> $dup\\_ranks = [2]$."
   ]
  },
  {
   "cell_type": "code",
   "execution_count": 18,
   "metadata": {
    "execution": {
     "iopub.execute_input": "2025-02-15T08:35:10.032592Z",
     "iopub.status.busy": "2025-02-15T08:35:10.030591Z",
     "iopub.status.idle": "2025-02-15T08:35:10.038435Z",
     "shell.execute_reply": "2025-02-15T08:35:10.037625Z",
     "shell.execute_reply.started": "2025-02-15T08:35:10.032592Z"
    },
    "id": "F5VwySUB6j2J"
   },
   "outputs": [],
   "source": [
    "def hits_count(dup_ranks, k):\n",
    "    \"\"\"\n",
    "        dup_ranks: list индексов дубликатов\n",
    "        k: пороговое значение для ранга\n",
    "        result: вернуть Hits@k\n",
    "    \"\"\"\n",
    "    # Подсчитываем количество дубликатов, чей ранг <= k\n",
    "    if not isinstance(dup_ranks, np.ndarray):\n",
    "        dup_ranks = np.array(dup_ranks)\n",
    "        \n",
    "    hits_value = np.mean(dup_ranks <= k)\n",
    "    \n",
    "    return hits_value"
   ]
  },
  {
   "cell_type": "code",
   "execution_count": 19,
   "metadata": {
    "execution": {
     "iopub.execute_input": "2025-02-15T08:35:11.027460Z",
     "iopub.status.busy": "2025-02-15T08:35:11.025451Z",
     "iopub.status.idle": "2025-02-15T08:35:11.032925Z",
     "shell.execute_reply": "2025-02-15T08:35:11.032925Z",
     "shell.execute_reply.started": "2025-02-15T08:35:11.027460Z"
    },
    "id": "vSjm_5eWYVYI"
   },
   "outputs": [
    {
     "name": "stdout",
     "output_type": "stream",
     "text": [
      "Hits@1 = 0.0\n",
      "Hits@4 = 1.0\n"
     ]
    }
   ],
   "source": [
    "dup_ranks = [2]\n",
    "\n",
    "k = 1\n",
    "hits_value = hits_count(dup_ranks, k)\n",
    "print(f\"Hits@1 = {hits_value}\")\n",
    "\n",
    "k = 4\n",
    "hits_value = hits_count(dup_ranks, k)\n",
    "print(f\"Hits@4 = {hits_value}\")"
   ]
  },
  {
   "cell_type": "code",
   "execution_count": 22,
   "metadata": {
    "execution": {
     "iopub.execute_input": "2025-02-15T08:36:03.986218Z",
     "iopub.status.busy": "2025-02-15T08:36:03.985217Z",
     "iopub.status.idle": "2025-02-15T08:36:03.991734Z",
     "shell.execute_reply": "2025-02-15T08:36:03.991220Z",
     "shell.execute_reply.started": "2025-02-15T08:36:03.986218Z"
    },
    "id": "82hQaxCH6j2R"
   },
   "outputs": [],
   "source": [
    "def dcg_score(dup_ranks, k):\n",
    "    \"\"\"\n",
    "        dup_ranks: list индексов дубликатов\n",
    "        k: пороговое значение для ранга\n",
    "        result: вернуть DCG@k\n",
    "    \"\"\"\n",
    "\n",
    "    if not isinstance(dup_ranks, np.ndarray):\n",
    "        dup_ranks = np.array(dup_ranks)\n",
    "\n",
    "    dcg_value = np.mean(np.where(dup_ranks <= k, 1, 0) * (1 / np.log2(1 + dup_ranks)))\n",
    "    return dcg_value"
   ]
  },
  {
   "cell_type": "code",
   "execution_count": 38,
   "metadata": {
    "execution": {
     "iopub.execute_input": "2025-02-15T08:47:59.919262Z",
     "iopub.status.busy": "2025-02-15T08:47:59.918265Z",
     "iopub.status.idle": "2025-02-15T08:47:59.925565Z",
     "shell.execute_reply": "2025-02-15T08:47:59.925565Z",
     "shell.execute_reply.started": "2025-02-15T08:47:59.919262Z"
    },
    "id": "OJYsEdx-amB4"
   },
   "outputs": [
    {
     "name": "stdout",
     "output_type": "stream",
     "text": [
      "DCG@1 = 0.000\n",
      "DCG@10 = 0.631\n"
     ]
    }
   ],
   "source": [
    "# Пример списка позиций дубликатов\n",
    "dup_ranks = [2]\n",
    "\n",
    "# Вычисляем DCG@1\n",
    "dcg_value = dcg_score(dup_ranks, k=1)\n",
    "print(f\"DCG@1 = {dcg_value:.3f}\")  # Output: DCG@3 ≈ 0.631\n",
    "\n",
    "# Вычисляем DCG@4\n",
    "dcg_value = dcg_score(dup_ranks, k=4)\n",
    "print(f\"DCG@10 = {dcg_value:.3f}\")"
   ]
  },
  {
   "cell_type": "markdown",
   "metadata": {
    "id": "PcwHeXN26j2Y"
   },
   "source": [
    "Протестируем функции. Пусть $N = 1$, то есть один эксперимент. Будем искать копию вопроса и оценивать метрики."
   ]
  },
  {
   "cell_type": "code",
   "execution_count": 39,
   "metadata": {
    "execution": {
     "iopub.execute_input": "2025-02-15T08:48:25.335981Z",
     "iopub.status.busy": "2025-02-15T08:48:25.334981Z",
     "iopub.status.idle": "2025-02-15T08:48:25.342979Z",
     "shell.execute_reply": "2025-02-15T08:48:25.342979Z",
     "shell.execute_reply.started": "2025-02-15T08:48:25.335981Z"
    },
    "id": "gLa_Wqfh6j2m"
   },
   "outputs": [
    {
     "name": "stdout",
     "output_type": "stream",
     "text": [
      "Ваш ответ HIT: [0.0, 1.0, 1.0, 1.0]\n",
      "Ваш ответ DCG: [0.0, 0.63093, 0.63093, 0.63093]\n"
     ]
    }
   ],
   "source": [
    "copy_answers = [\"How does the catch keyword determine the type of exception that was thrown\",]\n",
    "\n",
    "# наши кандидаты\n",
    "candidates_ranking = [[\"How Can I Make These Links Rotate in PHP\",\n",
    "                       \"How does the catch keyword determine the type of exception that was thrown\",\n",
    "                       \"NSLog array description not memory address\",\n",
    "                       \"PECL_HTTP not recognised php ubuntu\"],]\n",
    "\n",
    "# dup_ranks — позиции наших копий, так как эксперимент один, то этот массив длины 1\n",
    "dup_ranks = [2]\n",
    "\n",
    "# вычисляем метрику для разных k\n",
    "print('Ваш ответ HIT:', [hits_count(dup_ranks, k) for k in range(1, 5)])\n",
    "print('Ваш ответ DCG:', [round(dcg_score(dup_ranks, k), 5) for k in range(1, 5)])"
   ]
  },
  {
   "cell_type": "markdown",
   "metadata": {
    "id": "MoHC3YoQ6j2t"
   },
   "source": [
    "У вас должно получиться"
   ]
  },
  {
   "cell_type": "code",
   "execution_count": 40,
   "metadata": {
    "colab": {
     "base_uri": "https://localhost:8080/",
     "height": 112
    },
    "execution": {
     "iopub.execute_input": "2025-02-15T08:48:41.009898Z",
     "iopub.status.busy": "2025-02-15T08:48:41.009898Z",
     "iopub.status.idle": "2025-02-15T08:48:41.030629Z",
     "shell.execute_reply": "2025-02-15T08:48:41.030629Z",
     "shell.execute_reply.started": "2025-02-15T08:48:41.009898Z"
    },
    "id": "B0NFWq4f6j2u",
    "outputId": "4d70f590-9924-4b50-d400-cdbf43edf093",
    "scrolled": true
   },
   "outputs": [
    {
     "data": {
      "text/html": [
       "<div>\n",
       "<style scoped>\n",
       "    .dataframe tbody tr th:only-of-type {\n",
       "        vertical-align: middle;\n",
       "    }\n",
       "\n",
       "    .dataframe tbody tr th {\n",
       "        vertical-align: top;\n",
       "    }\n",
       "\n",
       "    .dataframe thead th {\n",
       "        text-align: right;\n",
       "    }\n",
       "</style>\n",
       "<table border=\"1\" class=\"dataframe\">\n",
       "  <thead>\n",
       "    <tr style=\"text-align: right;\">\n",
       "      <th></th>\n",
       "      <th>1</th>\n",
       "      <th>2</th>\n",
       "      <th>3</th>\n",
       "      <th>4</th>\n",
       "    </tr>\n",
       "  </thead>\n",
       "  <tbody>\n",
       "    <tr>\n",
       "      <th>HITS</th>\n",
       "      <td>0</td>\n",
       "      <td>1.00000</td>\n",
       "      <td>1.00000</td>\n",
       "      <td>1.00000</td>\n",
       "    </tr>\n",
       "    <tr>\n",
       "      <th>DCG</th>\n",
       "      <td>0</td>\n",
       "      <td>0.63093</td>\n",
       "      <td>0.63093</td>\n",
       "      <td>0.63093</td>\n",
       "    </tr>\n",
       "  </tbody>\n",
       "</table>\n",
       "</div>"
      ],
      "text/plain": [
       "      1        2        3        4\n",
       "HITS  0  1.00000  1.00000  1.00000\n",
       "DCG   0  0.63093  0.63093  0.63093"
      ]
     },
     "execution_count": 40,
     "metadata": {},
     "output_type": "execute_result"
    }
   ],
   "source": [
    "# correct_answers - метрика для разных k\n",
    "correct_answers = pd.DataFrame([[0, 1, 1, 1], [0, 1 / (np.log2(3)), 1 / (np.log2(3)), 1 / (np.log2(3))]],\n",
    "                               index=['HITS', 'DCG'], columns=range(1,5))\n",
    "correct_answers"
   ]
  },
  {
   "cell_type": "markdown",
   "metadata": {
    "id": "tHZqgDTo6j0i"
   },
   "source": [
    "### Данные\n",
    "[arxiv link](https://drive.google.com/file/d/1QqT4D0EoqJTy7v9VrNCYD-m964XZFR7_/edit)\n",
    "\n",
    "`train.tsv` - выборка для обучения.<br> В каждой строке через табуляцию записаны: **<вопрос>, <похожий вопрос>**\n",
    "\n",
    "`validation.tsv` - тестовая выборка.<br> В каждой строке через табуляцию записаны: **<вопрос>, <похожий вопрос>, <отрицательный пример 1>, <отрицательный пример 2>, ...**"
   ]
  },
  {
   "cell_type": "code",
   "execution_count": null,
   "metadata": {
    "colab": {
     "base_uri": "https://localhost:8080/"
    },
    "id": "jKVK2lDGvrIe",
    "outputId": "97ec0599-63f2-41dd-faf3-7a513d27e325"
   },
   "outputs": [
    {
     "name": "stdout",
     "output_type": "stream",
     "text": [
      "unzip:  cannot find or open stackoverflow_similar_questions.zip, stackoverflow_similar_questions.zip.zip or stackoverflow_similar_questions.zip.ZIP.\n"
     ]
    }
   ],
   "source": [
    "!unzip stackoverflow_similar_questions.zip"
   ]
  },
  {
   "cell_type": "markdown",
   "metadata": {
    "id": "hil2UsUG6j22"
   },
   "source": [
    "Считайте данные."
   ]
  },
  {
   "cell_type": "code",
   "execution_count": 41,
   "metadata": {
    "execution": {
     "iopub.execute_input": "2025-02-15T08:54:24.463907Z",
     "iopub.status.busy": "2025-02-15T08:54:24.463907Z",
     "iopub.status.idle": "2025-02-15T08:54:24.470802Z",
     "shell.execute_reply": "2025-02-15T08:54:24.470802Z",
     "shell.execute_reply.started": "2025-02-15T08:54:24.463907Z"
    },
    "id": "B4EBho8s6j26"
   },
   "outputs": [],
   "source": [
    "def read_corpus(filename):\n",
    "    data = []\n",
    "    with open(filename, encoding='utf-8') as file:\n",
    "        for line in file:\n",
    "            data.append(line.strip().split('\\t'))\n",
    "    return data"
   ]
  },
  {
   "cell_type": "markdown",
   "metadata": {
    "id": "kkTxY3Mk9_nG"
   },
   "source": [
    "Нам понадобится только файл validation."
   ]
  },
  {
   "cell_type": "code",
   "execution_count": 42,
   "metadata": {
    "execution": {
     "iopub.execute_input": "2025-02-15T08:54:49.531362Z",
     "iopub.status.busy": "2025-02-15T08:54:49.530362Z",
     "iopub.status.idle": "2025-02-15T08:54:50.190595Z",
     "shell.execute_reply": "2025-02-15T08:54:50.190595Z",
     "shell.execute_reply.started": "2025-02-15T08:54:49.531362Z"
    },
    "id": "PTVB9Tnp6j29"
   },
   "outputs": [],
   "source": [
    "validation_data = read_corpus('./data/validation.tsv')"
   ]
  },
  {
   "cell_type": "markdown",
   "metadata": {
    "id": "bTHfL-9y6j3F"
   },
   "source": [
    "Кол-во строк"
   ]
  },
  {
   "cell_type": "code",
   "execution_count": 43,
   "metadata": {
    "execution": {
     "iopub.execute_input": "2025-02-15T08:54:51.341654Z",
     "iopub.status.busy": "2025-02-15T08:54:51.339600Z",
     "iopub.status.idle": "2025-02-15T08:54:51.348559Z",
     "shell.execute_reply": "2025-02-15T08:54:51.347653Z",
     "shell.execute_reply.started": "2025-02-15T08:54:51.341654Z"
    },
    "id": "z6ubXhIe6j3H"
   },
   "outputs": [
    {
     "data": {
      "text/plain": [
       "3760"
      ]
     },
     "execution_count": 43,
     "metadata": {},
     "output_type": "execute_result"
    }
   ],
   "source": [
    "len(validation_data)"
   ]
  },
  {
   "cell_type": "markdown",
   "metadata": {
    "id": "kaOQblBy6j3M"
   },
   "source": [
    "Размер нескольких первых строк"
   ]
  },
  {
   "cell_type": "code",
   "execution_count": 44,
   "metadata": {
    "execution": {
     "iopub.execute_input": "2025-02-15T08:54:52.749754Z",
     "iopub.status.busy": "2025-02-15T08:54:52.748759Z",
     "iopub.status.idle": "2025-02-15T08:54:52.757075Z",
     "shell.execute_reply": "2025-02-15T08:54:52.756071Z",
     "shell.execute_reply.started": "2025-02-15T08:54:52.749754Z"
    },
    "id": "yRx6e-Pe6j3M"
   },
   "outputs": [
    {
     "name": "stdout",
     "output_type": "stream",
     "text": [
      "1 1001\n",
      "2 1001\n",
      "3 1001\n",
      "4 1001\n",
      "5 1001\n",
      "6 1001\n",
      "7 1001\n",
      "8 1001\n",
      "9 1001\n",
      "10 1001\n",
      "11 1001\n",
      "12 1001\n",
      "13 1001\n",
      "14 1001\n",
      "15 1001\n",
      "16 1001\n",
      "17 1001\n",
      "18 1001\n",
      "19 1001\n",
      "20 1001\n",
      "21 1001\n",
      "22 1001\n",
      "23 1001\n",
      "24 1001\n",
      "25 1001\n"
     ]
    }
   ],
   "source": [
    "for i in range(25):\n",
    "    print(i + 1, len(validation_data[i]))"
   ]
  },
  {
   "cell_type": "markdown",
   "metadata": {
    "id": "ySQQp0oQt1Ep"
   },
   "source": [
    "### Ранжирование без обучения"
   ]
  },
  {
   "cell_type": "markdown",
   "metadata": {
    "id": "iElEDhj-6j3R"
   },
   "source": [
    "Реализуйте функцию ранжирования кандидатов на основе косинусного расстояния. Функция должна по списку кандидатов вернуть отсортированный список пар (позиция в исходном списке кандидатов, кандидат). При этом позиция кандидата в полученном списке является его рейтингом (первый - лучший). Например, если исходный список кандидатов был [a, b, c], и самый похожий на исходный вопрос среди них - c, затем a, и в конце b, то функция должна вернуть список **[(2, c), (0, a), (1, b)]**."
   ]
  },
  {
   "cell_type": "code",
   "execution_count": 51,
   "metadata": {
    "execution": {
     "iopub.execute_input": "2025-02-15T08:56:45.175305Z",
     "iopub.status.busy": "2025-02-15T08:56:45.174305Z",
     "iopub.status.idle": "2025-02-15T08:56:45.180173Z",
     "shell.execute_reply": "2025-02-15T08:56:45.180173Z",
     "shell.execute_reply.started": "2025-02-15T08:56:45.175305Z"
    },
    "id": "1yP8wJWj6j3X"
   },
   "outputs": [],
   "source": [
    "def rank_candidates(question, candidates, embeddings = wv_embeddings, tokenizer = tokenizer_1, dim=200):\n",
    "    \"\"\"\n",
    "        question: строка\n",
    "        candidates: массив строк(кандидатов) [a, b, c]\n",
    "        result: пары (начальная позиция, кандидат) [(2, c), (0, a), (1, b)]\n",
    "    \"\"\"\n",
    "    question_emb = question_to_vec(question, embeddings, tokenizer, dim)\n",
    "    \n",
    "    candidates_emb = np.array([question_to_vec(i, embeddings, tokenizer, dim) for i in candidates])\n",
    "\n",
    "    scores = [(i, j[0], j[1]) for i, j in enumerate(zip(candidates, (np.dot(question_emb, candidates_emb.T) / (norm(question_emb) * np.where(norm(candidates_emb, axis = 1) == 0, 1e-5, norm(candidates_emb, axis = 1))))))]\n",
    "    \n",
    "    return [i[:2] for i in sorted(scores, key = lambda x: x[2], reverse=True)]"
   ]
  },
  {
   "cell_type": "markdown",
   "metadata": {
    "id": "TnBszTb76j3c"
   },
   "source": [
    "Протестируйте работу функции на примерах ниже. Пусть $N=2$, то есть два эксперимента"
   ]
  },
  {
   "cell_type": "code",
   "execution_count": 46,
   "metadata": {
    "execution": {
     "iopub.execute_input": "2025-02-15T08:55:43.560130Z",
     "iopub.status.busy": "2025-02-15T08:55:43.558135Z",
     "iopub.status.idle": "2025-02-15T08:55:43.563734Z",
     "shell.execute_reply": "2025-02-15T08:55:43.563734Z",
     "shell.execute_reply.started": "2025-02-15T08:55:43.560130Z"
    },
    "id": "xvQgtP176j3h"
   },
   "outputs": [],
   "source": [
    "questions = ['converting string to list', 'Sending array via Ajax fails']\n",
    "\n",
    "candidates = [['Convert Google results object (pure js) to Python object', # первый эксперимент\n",
    "               'C# create cookie from string and send it',\n",
    "               'How to use jQuery AJAX for an outside domain?'],\n",
    "\n",
    "              ['Getting all list items of an unordered list in PHP',      # второй эксперимент\n",
    "               'WPF- How to update the changes in list item of a list',\n",
    "               'select2 not displaying search results']]"
   ]
  },
  {
   "cell_type": "code",
   "execution_count": null,
   "metadata": {
    "id": "0LeKMIsn6j3s"
   },
   "outputs": [],
   "source": [
    "# должно вывести\n",
    "results = [[(1, 'C# create cookie from string and send it'),\n",
    "            (0, 'Convert Google results object (pure js) to Python object'),\n",
    "            (2, 'How to use jQuery AJAX for an outside domain?')],\n",
    "           [(*, 'Getting all list items of an unordered list in PHP'), #скрыт\n",
    "            (*, 'select2 not displaying search results'), #скрыт\n",
    "            (*, 'WPF- How to update the changes in list item of a list')]] #скрыт"
   ]
  },
  {
   "cell_type": "markdown",
   "metadata": {
    "id": "jm4cidj56j3q"
   },
   "source": [
    "Для первого экперимента вы можете полностью сравнить ваши ответы и правильные ответы. Но для второго эксперимента два ответа на кандидаты будут <b>скрыты</b>(*)"
   ]
  },
  {
   "cell_type": "code",
   "execution_count": 52,
   "metadata": {
    "execution": {
     "iopub.execute_input": "2025-02-15T08:57:15.436360Z",
     "iopub.status.busy": "2025-02-15T08:57:15.435359Z",
     "iopub.status.idle": "2025-02-15T08:57:15.443540Z",
     "shell.execute_reply": "2025-02-15T08:57:15.443540Z",
     "shell.execute_reply.started": "2025-02-15T08:57:15.436360Z"
    },
    "id": "bPj1JGFi6j3m"
   },
   "outputs": [
    {
     "name": "stdout",
     "output_type": "stream",
     "text": [
      "[(1, 'C# create cookie from string and send it'), (0, 'Convert Google results object (pure js) to Python object'), (2, 'How to use jQuery AJAX for an outside domain?')]\n",
      "\n",
      "[(1, 'WPF- How to update the changes in list item of a list'), (0, 'Getting all list items of an unordered list in PHP'), (2, 'select2 not displaying search results')]\n",
      "\n"
     ]
    }
   ],
   "source": [
    "for question, q_candidates in zip(questions, candidates):\n",
    "        ranks = rank_candidates(question, q_candidates, wv_embeddings, tokenizer_1)\n",
    "        print(ranks)\n",
    "        print()"
   ]
  },
  {
   "cell_type": "code",
   "execution_count": 53,
   "metadata": {
    "execution": {
     "iopub.execute_input": "2025-02-15T08:57:25.330270Z",
     "iopub.status.busy": "2025-02-15T08:57:25.329277Z",
     "iopub.status.idle": "2025-02-15T08:57:25.338288Z",
     "shell.execute_reply": "2025-02-15T08:57:25.338288Z",
     "shell.execute_reply.started": "2025-02-15T08:57:25.330270Z"
    }
   },
   "outputs": [
    {
     "name": "stdout",
     "output_type": "stream",
     "text": [
      "[(1, 'C# create cookie from string and send it'), (0, 'Convert Google results object (pure js) to Python object'), (2, 'How to use jQuery AJAX for an outside domain?')]\n",
      "\n",
      "[(1, 'WPF- How to update the changes in list item of a list'), (2, 'select2 not displaying search results'), (0, 'Getting all list items of an unordered list in PHP')]\n",
      "\n"
     ]
    }
   ],
   "source": [
    "for question, q_candidates in zip(questions, candidates):\n",
    "        ranks = rank_candidates(question.lower(), q_candidates, wv_embeddings, tokenizer_1)\n",
    "        print(ranks)\n",
    "        print()"
   ]
  },
  {
   "cell_type": "markdown",
   "metadata": {
    "id": "t1ttnIBe6j3x"
   },
   "source": [
    "Последовательность начальных индексов вы должны получить `для эксперимента 1`  1, 0, 2."
   ]
  },
  {
   "cell_type": "markdown",
   "metadata": {
    "id": "5WQgYDWd6j3y"
   },
   "source": [
    "#### ***Вопрос 5:***\n",
    "* Какую последовательность начальных индексов вы получили `для эксперимента 2`(перечисление без запятой и пробелов, например, `102` для первого эксперимента?\n"
   ]
  },
  {
   "cell_type": "markdown",
   "metadata": {},
   "source": [
    "***Ваш ответ:*** 1, 2, 0\n",
    "\n",
    "В зависимости от реализации процесса токенизации, пост обработки эмбеддингов получались различные последовательности итоговых индексов для `второго` эксперимента. \n",
    "- Первая последовательность: 1, 0, 2\n",
    "- Вторая последовательность: 1, 2, 0"
   ]
  },
  {
   "cell_type": "markdown",
   "metadata": {
    "id": "fPllOY-Y6j30"
   },
   "source": [
    "Теперь мы можем оценить качество нашего метода. Запустите следующие два блока кода для получения результата. Обратите внимание, что вычисление расстояния между векторами занимает некоторое время (примерно 10 минут). Можете взять для validation 1000 примеров."
   ]
  },
  {
   "cell_type": "code",
   "execution_count": 59,
   "metadata": {
    "execution": {
     "iopub.execute_input": "2025-02-15T09:00:11.844686Z",
     "iopub.status.busy": "2025-02-15T09:00:11.843686Z",
     "iopub.status.idle": "2025-02-15T09:00:28.485818Z",
     "shell.execute_reply": "2025-02-15T09:00:28.485818Z",
     "shell.execute_reply.started": "2025-02-15T09:00:11.844686Z"
    },
    "id": "nu7K4mis6j32"
   },
   "outputs": [
    {
     "data": {
      "application/vnd.jupyter.widget-view+json": {
       "model_id": "f387b4c6ede54bb2894c99a81d399dd7",
       "version_major": 2,
       "version_minor": 0
      },
      "text/plain": [
       "  0%|          | 0/3760 [00:00<?, ?it/s]"
      ]
     },
     "metadata": {},
     "output_type": "display_data"
    },
    {
     "name": "stderr",
     "output_type": "stream",
     "text": [
      "C:\\Users\\gosha\\AppData\\Local\\Temp\\ipykernel_3624\\1551146121.py:11: RuntimeWarning: invalid value encountered in divide\n",
      "  scores = [(i, j[0], j[1]) for i, j in enumerate(zip(candidates, (np.dot(question_emb, candidates_emb.T) / (norm(question_emb) * np.where(norm(candidates_emb, axis = 1) == 0, 1e-5, norm(candidates_emb, axis = 1))))))]\n"
     ]
    }
   ],
   "source": [
    "wv_ranking = []\n",
    "max_validation_examples = 1000\n",
    "for i, line in enumerate(tqdm(validation_data)):\n",
    "    if i == max_validation_examples:\n",
    "        break\n",
    "    q, *ex = line\n",
    "    ranks = rank_candidates(q, ex, wv_embeddings, tokenizer_1)\n",
    "    wv_ranking.append([r[0] for r in ranks].index(0) + 1)"
   ]
  },
  {
   "cell_type": "code",
   "execution_count": 60,
   "metadata": {
    "execution": {
     "iopub.execute_input": "2025-02-15T09:00:28.486829Z",
     "iopub.status.busy": "2025-02-15T09:00:28.486829Z",
     "iopub.status.idle": "2025-02-15T09:00:28.496228Z",
     "shell.execute_reply": "2025-02-15T09:00:28.496228Z",
     "shell.execute_reply.started": "2025-02-15T09:00:28.486829Z"
    },
    "id": "gDtS520v6j35",
    "scrolled": true
   },
   "outputs": [
    {
     "data": {
      "application/vnd.jupyter.widget-view+json": {
       "model_id": "784a58c4530f439698a8443e18b10170",
       "version_major": 2,
       "version_minor": 0
      },
      "text/plain": [
       "  0%|          | 0/6 [00:00<?, ?it/s]"
      ]
     },
     "metadata": {},
     "output_type": "display_data"
    },
    {
     "name": "stdout",
     "output_type": "stream",
     "text": [
      "DCG@   1: 0.272 | Hits@   1: 0.272\n",
      "DCG@   5: 0.323 | Hits@   5: 0.373\n",
      "DCG@  10: 0.341 | Hits@  10: 0.429\n",
      "DCG@ 100: 0.389 | Hits@ 100: 0.665\n",
      "DCG@ 500: 0.415 | Hits@ 500: 0.872\n",
      "DCG@1000: 0.429 | Hits@1000: 1.000\n"
     ]
    }
   ],
   "source": [
    "for k in tqdm([1, 5, 10, 100, 500, 1000]):\n",
    "    print(\"DCG@%4d: %.3f | Hits@%4d: %.3f\" % (k, dcg_score(wv_ranking, k), k, hits_count(wv_ranking, k)))"
   ]
  },
  {
   "cell_type": "markdown",
   "metadata": {
    "id": "SZ16fNZ4mxTC"
   },
   "source": [
    "Из формул выше можно понять, что\n",
    "\n",
    "- $ \\text{Hits@K} $ **монотонно неубывающая функция** $ K $, которая стремится к 1 при $ K \\to \\infty $.\n",
    "\n",
    "- $ \\text{DCG@K} $ **монотонно неубывающая функция** $ K $, но рост замедляется с увеличением $ K $ из-за убывания веса $ \\frac{1}{\\log_2(1 + \\text{rank}_{q'_i})} $."
   ]
  },
  {
   "cell_type": "markdown",
   "metadata": {
    "id": "LL6_Rjg3InL8"
   },
   "source": [
    "### Эмбеддинги, обученные на корпусе похожих вопросов"
   ]
  },
  {
   "cell_type": "code",
   "execution_count": 61,
   "metadata": {
    "execution": {
     "iopub.execute_input": "2025-02-15T09:00:39.364569Z",
     "iopub.status.busy": "2025-02-15T09:00:39.364569Z",
     "iopub.status.idle": "2025-02-15T09:00:41.034828Z",
     "shell.execute_reply": "2025-02-15T09:00:41.034545Z",
     "shell.execute_reply.started": "2025-02-15T09:00:39.364569Z"
    },
    "id": "iNvbpR5gJIPz"
   },
   "outputs": [],
   "source": [
    "train_data = read_corpus('./data/train.tsv')"
   ]
  },
  {
   "cell_type": "markdown",
   "metadata": {
    "id": "Nr281ZyEJfjT"
   },
   "source": [
    "Улучшите качество модели.<br>Склеим вопросы в пары и обучим на них модель Word2Vec из gensim. Выберите размер window. Объясните свой выбор.\n",
    "\n",
    "***Рассмотрим подробнее*** данное склеивание.\n",
    "\n",
    "1. Каждая строка из train_data разбивается на вопрос (question) и список кандидатов.\n",
    "\n",
    "2. Для каждого кандидата вопрос склеивается с ним в одну строку.\n",
    "\n",
    "3. Склеенная строка (combined_text) токенизируется, и полученный список токенов добавляется в общий корпус (corpus).\n",
    "\n",
    "***Пример***\n",
    "\n",
    "    Вопрос: \"What is Python?\"\n",
    "    Кандидаты: [\"Python is a programming language\", \"Java is another language\"]\n",
    "    Склеенные строки:\n",
    "        \"What is Python? Python is a programming language\"\n",
    "        \"What is Python? Java is another language\"\n",
    "         \n",
    "    Токенизированные списки:\n",
    "        ['what', 'is', 'python', 'python', 'is', 'a', 'programming', 'language']\n",
    "        ['what', 'is', 'python', 'java', 'is', 'another', 'language']\n",
    "         \n",
    "     "
   ]
  },
  {
   "cell_type": "code",
   "execution_count": 62,
   "metadata": {
    "execution": {
     "iopub.execute_input": "2025-02-15T09:00:54.279773Z",
     "iopub.status.busy": "2025-02-15T09:00:54.278767Z",
     "iopub.status.idle": "2025-02-15T09:00:54.286229Z",
     "shell.execute_reply": "2025-02-15T09:00:54.286229Z",
     "shell.execute_reply.started": "2025-02-15T09:00:54.279773Z"
    },
    "id": "9NNgRRiu8-LL"
   },
   "outputs": [
    {
     "data": {
      "text/plain": [
       "['Determine if the device is a smartphone or tablet?',\n",
       " 'Change imageView params in all cards together']"
      ]
     },
     "execution_count": 62,
     "metadata": {},
     "output_type": "execute_result"
    }
   ],
   "source": [
    "train_data[111258]"
   ]
  },
  {
   "cell_type": "code",
   "execution_count": 63,
   "metadata": {
    "execution": {
     "iopub.execute_input": "2025-02-15T09:01:17.422486Z",
     "iopub.status.busy": "2025-02-15T09:01:17.422486Z",
     "iopub.status.idle": "2025-02-15T09:01:17.573631Z",
     "shell.execute_reply": "2025-02-15T09:01:17.572875Z",
     "shell.execute_reply.started": "2025-02-15T09:01:17.422486Z"
    },
    "id": "f6Y46SSQMTL0"
   },
   "outputs": [],
   "source": [
    "# Создаем общий корпус текстов\n",
    "corpus = []\n",
    "\n",
    "corpus = [' '.join(i).strip() for i in train_data]"
   ]
  },
  {
   "cell_type": "code",
   "execution_count": 67,
   "metadata": {
    "execution": {
     "iopub.execute_input": "2025-02-15T09:13:29.451405Z",
     "iopub.status.busy": "2025-02-15T09:13:29.450406Z",
     "iopub.status.idle": "2025-02-15T09:14:43.318320Z",
     "shell.execute_reply": "2025-02-15T09:14:43.318320Z",
     "shell.execute_reply.started": "2025-02-15T09:13:29.451405Z"
    },
    "id": "QuJzAM0cI-UH"
   },
   "outputs": [],
   "source": [
    "from gensim.models import Word2Vec\n",
    "embeddings_trained = Word2Vec(\n",
    "    sentences=corpus,        # Корпус токенизированных текстов\n",
    "    vector_size=200,         # Размерность векторов\n",
    "    window=5,                # Размер окна контекста\n",
    "    min_count=5,             # Минимальная частота слов\n",
    "    workers=4                # Количество потоков\n",
    ").wv"
   ]
  },
  {
   "cell_type": "markdown",
   "metadata": {},
   "source": [
    "***Объяснение:*** \n",
    "- Hазмер окна 5 является оптимальным, так как позволяет учитывать для центрального слова  *достаточный* объём информации, так как рассматривается контекст от двух предыдущих, двух последующих слов, что позволяет собирать информацию только о ближайших контекстных токенах;\n",
    "- Минимальная частота равная 5 оптимальна, так как позволяет отфильтрвать *шум* в случаях, так как не всегда результаты процесса оптимизации дают *чистый* от артефактов текст, что также позволяет снизить размер полученного словаря."
   ]
  },
  {
   "cell_type": "code",
   "execution_count": 69,
   "metadata": {
    "execution": {
     "iopub.execute_input": "2025-02-15T09:14:51.165933Z",
     "iopub.status.busy": "2025-02-15T09:14:51.164936Z",
     "iopub.status.idle": "2025-02-15T09:15:02.582489Z",
     "shell.execute_reply": "2025-02-15T09:15:02.582489Z",
     "shell.execute_reply.started": "2025-02-15T09:14:51.165933Z"
    },
    "id": "OQonbm4nMenD"
   },
   "outputs": [
    {
     "data": {
      "application/vnd.jupyter.widget-view+json": {
       "model_id": "48a222dba0fd469eb32f93141b92b1ef",
       "version_major": 2,
       "version_minor": 0
      },
      "text/plain": [
       "  0%|          | 0/3760 [00:00<?, ?it/s]"
      ]
     },
     "metadata": {},
     "output_type": "display_data"
    },
    {
     "name": "stderr",
     "output_type": "stream",
     "text": [
      "C:\\Users\\gosha\\AppData\\Local\\Temp\\ipykernel_3624\\1551146121.py:11: RuntimeWarning: invalid value encountered in divide\n",
      "  scores = [(i, j[0], j[1]) for i, j in enumerate(zip(candidates, (np.dot(question_emb, candidates_emb.T) / (norm(question_emb) * np.where(norm(candidates_emb, axis = 1) == 0, 1e-5, norm(candidates_emb, axis = 1))))))]\n"
     ]
    }
   ],
   "source": [
    "wv_ranking = []\n",
    "max_validation_examples = 1000\n",
    "for i, line in enumerate(tqdm(validation_data)):\n",
    "    if i == max_validation_examples:\n",
    "        break\n",
    "    q, *ex = line\n",
    "    ranks = rank_candidates(q, ex, embeddings_trained, tokenizer_1)\n",
    "    wv_ranking.append([r[0] for r in ranks].index(0) + 1)"
   ]
  },
  {
   "cell_type": "code",
   "execution_count": 70,
   "metadata": {
    "execution": {
     "iopub.execute_input": "2025-02-15T09:15:04.508296Z",
     "iopub.status.busy": "2025-02-15T09:15:04.507297Z",
     "iopub.status.idle": "2025-02-15T09:15:04.525310Z",
     "shell.execute_reply": "2025-02-15T09:15:04.525310Z",
     "shell.execute_reply.started": "2025-02-15T09:15:04.508296Z"
    },
    "id": "3kahBUPGMgGR"
   },
   "outputs": [
    {
     "data": {
      "application/vnd.jupyter.widget-view+json": {
       "model_id": "9d2c89cb587941d98795e741568ac12a",
       "version_major": 2,
       "version_minor": 0
      },
      "text/plain": [
       "  0%|          | 0/6 [00:00<?, ?it/s]"
      ]
     },
     "metadata": {},
     "output_type": "display_data"
    },
    {
     "name": "stdout",
     "output_type": "stream",
     "text": [
      "DCG@   1: 0.416 | Hits@   1: 0.416\n",
      "DCG@   5: 0.438 | Hits@   5: 0.457\n",
      "DCG@  10: 0.441 | Hits@  10: 0.467\n",
      "DCG@ 100: 0.455 | Hits@ 100: 0.541\n",
      "DCG@ 500: 0.496 | Hits@ 500: 0.868\n",
      "DCG@1000: 0.510 | Hits@1000: 1.000\n"
     ]
    }
   ],
   "source": [
    "for k in tqdm([1, 5, 10, 100, 500, 1000]):\n",
    "    print(\"DCG@%4d: %.3f | Hits@%4d: %.3f\" % (k, dcg_score(wv_ranking, k), k, hits_count(wv_ranking, k)))"
   ]
  },
  {
   "cell_type": "markdown",
   "metadata": {},
   "source": [
    "Использование более сложного процесса предобработки текста, включающего в себя процессы токенизации и лемматизации при помощи библиотеки `spacy` позволяет значительно улучшить качество ранжирования."
   ]
  },
  {
   "cell_type": "code",
   "execution_count": 71,
   "metadata": {
    "execution": {
     "iopub.execute_input": "2025-02-15T09:16:32.536310Z",
     "iopub.status.busy": "2025-02-15T09:16:32.536310Z",
     "iopub.status.idle": "2025-02-15T09:16:33.015949Z",
     "shell.execute_reply": "2025-02-15T09:16:33.015949Z",
     "shell.execute_reply.started": "2025-02-15T09:16:32.536310Z"
    }
   },
   "outputs": [],
   "source": [
    "nlp = spacy.load(\"en_core_web_sm\")"
   ]
  },
  {
   "cell_type": "code",
   "execution_count": 74,
   "metadata": {
    "execution": {
     "iopub.execute_input": "2025-02-15T09:17:42.462203Z",
     "iopub.status.busy": "2025-02-15T09:17:42.461204Z",
     "iopub.status.idle": "2025-02-15T09:25:40.758270Z",
     "shell.execute_reply": "2025-02-15T09:25:40.757824Z",
     "shell.execute_reply.started": "2025-02-15T09:17:42.462203Z"
    }
   },
   "outputs": [],
   "source": [
    "train_text = list()\n",
    "\n",
    "for doc in nlp.pipe(corpus, batch_size=32, n_process=3, disable=[\"parser\", \"ner\", 'tagger', 'textcat']): # Отключаем дополнительные модули пайплайна, используем только токенизатор и лемматизацию\n",
    "    train_text.append(' '.join([i.lemma_ for i in doc if i.lemma_ not in stopWords]))"
   ]
  },
  {
   "cell_type": "code",
   "execution_count": 75,
   "metadata": {
    "execution": {
     "iopub.execute_input": "2025-02-15T09:25:40.759300Z",
     "iopub.status.busy": "2025-02-15T09:25:40.759300Z",
     "iopub.status.idle": "2025-02-15T09:26:36.604253Z",
     "shell.execute_reply": "2025-02-15T09:26:36.604253Z",
     "shell.execute_reply.started": "2025-02-15T09:25:40.759300Z"
    }
   },
   "outputs": [],
   "source": [
    "embeddings_trained_2 = Word2Vec(\n",
    "    sentences=train_text,        # Корпус токенизированных текстов\n",
    "    vector_size=200,         # Размерность векторов\n",
    "    window=5,                # Размер окна контекста\n",
    "    min_count=5,             # Минимальная частота слов\n",
    "    workers=4                # Количество потоков\n",
    ").wv"
   ]
  },
  {
   "cell_type": "code",
   "execution_count": 78,
   "metadata": {
    "execution": {
     "iopub.execute_input": "2025-02-15T09:27:11.394803Z",
     "iopub.status.busy": "2025-02-15T09:27:11.394803Z",
     "iopub.status.idle": "2025-02-15T09:27:47.769088Z",
     "shell.execute_reply": "2025-02-15T09:27:47.769088Z",
     "shell.execute_reply.started": "2025-02-15T09:27:11.394803Z"
    },
    "id": "OQonbm4nMenD"
   },
   "outputs": [
    {
     "data": {
      "application/vnd.jupyter.widget-view+json": {
       "model_id": "b296d08896c141a7a36b1906926cc2a9",
       "version_major": 2,
       "version_minor": 0
      },
      "text/plain": [
       "  0%|          | 0/3760 [00:00<?, ?it/s]"
      ]
     },
     "metadata": {},
     "output_type": "display_data"
    },
    {
     "name": "stderr",
     "output_type": "stream",
     "text": [
      "C:\\Users\\gosha\\AppData\\Local\\Temp\\ipykernel_3624\\1551146121.py:11: RuntimeWarning: invalid value encountered in divide\n",
      "  scores = [(i, j[0], j[1]) for i, j in enumerate(zip(candidates, (np.dot(question_emb, candidates_emb.T) / (norm(question_emb) * np.where(norm(candidates_emb, axis = 1) == 0, 1e-5, norm(candidates_emb, axis = 1))))))]\n"
     ]
    }
   ],
   "source": [
    "wv_ranking2 = []\n",
    "max_validation_examples = 1000\n",
    "for i, line in enumerate(tqdm(validation_data)):\n",
    "    if i == max_validation_examples:\n",
    "        break\n",
    "    q, *ex = line\n",
    "    ranks = rank_candidates(q, ex, embeddings_trained_2, tokenizer_2)\n",
    "    wv_ranking2.append([r[0] for r in ranks].index(0) + 1)"
   ]
  },
  {
   "cell_type": "code",
   "execution_count": 79,
   "metadata": {
    "execution": {
     "iopub.execute_input": "2025-02-15T09:27:48.437653Z",
     "iopub.status.busy": "2025-02-15T09:27:48.437653Z",
     "iopub.status.idle": "2025-02-15T09:27:48.451139Z",
     "shell.execute_reply": "2025-02-15T09:27:48.451139Z",
     "shell.execute_reply.started": "2025-02-15T09:27:48.437653Z"
    },
    "id": "3kahBUPGMgGR"
   },
   "outputs": [
    {
     "data": {
      "application/vnd.jupyter.widget-view+json": {
       "model_id": "6c295a2aa5a14dc3a6fe1a642e001d2e",
       "version_major": 2,
       "version_minor": 0
      },
      "text/plain": [
       "  0%|          | 0/6 [00:00<?, ?it/s]"
      ]
     },
     "metadata": {},
     "output_type": "display_data"
    },
    {
     "name": "stdout",
     "output_type": "stream",
     "text": [
      "DCG@   1: 0.510 | Hits@   1: 0.510\n",
      "DCG@   5: 0.518 | Hits@   5: 0.525\n",
      "DCG@  10: 0.521 | Hits@  10: 0.533\n",
      "DCG@ 100: 0.532 | Hits@ 100: 0.598\n",
      "DCG@ 500: 0.571 | Hits@ 500: 0.911\n",
      "DCG@1000: 0.580 | Hits@1000: 1.000\n"
     ]
    }
   ],
   "source": [
    "for k in tqdm([1, 5, 10, 100, 500, 1000]):\n",
    "    print(\"DCG@%4d: %.3f | Hits@%4d: %.3f\" % (k, dcg_score(wv_ranking2, k), k, hits_count(wv_ranking2, k)))"
   ]
  },
  {
   "cell_type": "markdown",
   "metadata": {
    "id": "tY8PxB0j-ThG"
   },
   "source": [
    "### Замечание:\n",
    "Решить эту задачу с помощью обучения полноценной нейронной сети будет вам предложено, как часть задания в одной из домашних работ по теме \"Диалоговые системы\"."
   ]
  },
  {
   "cell_type": "markdown",
   "metadata": {
    "id": "vymVj8IxO2PO"
   },
   "source": [
    "Напишите свой вывод о полученных результатах.\n",
    "* Какой принцип токенизации даёт качество лучше и почему?\n",
    "* Помогает ли нормализация слов?\n",
    "* Какие эмбеддинги лучше справляются с задачей и почему?\n",
    "* Почему получилось плохое качество решения задачи?\n",
    "* Предложите свой подход к решению задачи.\n",
    "\n",
    "## Вывод:\n"
   ]
  },
  {
   "cell_type": "markdown",
   "metadata": {
    "id": "emODHztAQUQz"
   },
   "source": [
    "- Использование токенизаторов, позволяющих выделять слова и отделять их от знаков препинания, второстепенных символов позволяет увеличить качество работы алгоритмов, так как позволяет снизить размер словаря (если при этом не предусмотрено использование процесса лемматизации);\n",
    "- Нормализация слов позволяет снизить размер словаря и улучшить качество полученных эмбеддингов;\n",
    "- Эмбеддинги, предварительно обученные на заданном корпусе текстов, справляются с задачей лучше, так как учитывают больше контекстной информации внутри данного корпуса;\n",
    "- Низкое качество решения задачи могло быть обусловлено недостаточной предобработкой текста, отсутствием возможности приведения слов к их начальным формам, т.к. в процессе обучения эмбеддингов некоторые из слов, представленные в разных формах, попадали на вход для обучения эмбеддингов в различных контекстах и плохо учитывались;\n",
    "- Для улучшения качества работы `Word2Vec` для задачи ранжирования возможно:\n",
    "    - Увеличить размеры эмбеддингов;\n",
    "    - Улучшить последовательность предобработки текста, дополнительно используюя более сложные процессы токенизации, используя стемминг и лемматизацию для получения оптимального размера словаря и обучения эмбеддингов;\n",
    "    - Использовать процессы Byte pair encoding для захвата бОльшего числа токенов и их комбинаций вместо попыток векторизации некоего предварительно определеённого словаря с помощью моделей нейронных сетей."
   ]
  },
  {
   "cell_type": "code",
   "execution_count": null,
   "metadata": {},
   "outputs": [],
   "source": []
  }
 ],
 "metadata": {
  "colab": {
   "provenance": []
  },
  "kernelspec": {
   "display_name": "Python 3 (ipykernel)",
   "language": "python",
   "name": "python3"
  },
  "language_info": {
   "codemirror_mode": {
    "name": "ipython",
    "version": 3
   },
   "file_extension": ".py",
   "mimetype": "text/x-python",
   "name": "python",
   "nbconvert_exporter": "python",
   "pygments_lexer": "ipython3",
   "version": "3.11.9"
  },
  "widgets": {
   "application/vnd.jupyter.widget-state+json": {
    "state": {},
    "version_major": 2,
    "version_minor": 0
   }
  }
 },
 "nbformat": 4,
 "nbformat_minor": 4
}
