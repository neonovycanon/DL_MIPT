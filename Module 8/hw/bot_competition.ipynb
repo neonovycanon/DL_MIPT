{
 "cells": [
  {
   "cell_type": "markdown",
   "metadata": {},
   "source": [
    "# You are bot competition"
   ]
  },
  {
   "cell_type": "code",
   "execution_count": 1,
   "metadata": {
    "_cell_guid": "b1076dfc-b9ad-4769-8c92-a6c4dae69d19",
    "_uuid": "8f2839f25d086af736a60e9eeb907d3b93b6e0e5",
    "execution": {
     "iopub.execute_input": "2025-04-26T14:23:55.288741Z",
     "iopub.status.busy": "2025-04-26T14:23:55.287235Z",
     "iopub.status.idle": "2025-04-26T14:24:01.148757Z",
     "shell.execute_reply": "2025-04-26T14:24:01.148757Z",
     "shell.execute_reply.started": "2025-04-26T14:23:55.288741Z"
    }
   },
   "outputs": [],
   "source": [
    "import os\n",
    "import math\n",
    "import random\n",
    "import pandas as pd\n",
    "import numpy as np\n",
    "import json\n",
    "import torch\n",
    "import torch.nn.functional as F\n",
    "from torch import Tensor\n",
    "import matplotlib.pyplot as plt\n",
    "import seaborn as sns\n",
    "\n",
    "from copy import deepcopy\n",
    "from collections import Counter, defaultdict\n",
    "from transformers import AutoModel, AutoTokenizer\n",
    "from tqdm.auto import tqdm, trange\n",
    "\n",
    "import optuna\n",
    "from catboost import CatBoostClassifier\n",
    "from xgboost import XGBClassifier\n",
    "from sklearn.feature_extraction.text import TfidfVectorizer\n",
    "from sklearn.pipeline import Pipeline\n",
    "from sklearn.model_selection import train_test_split\n",
    "from sklearn.linear_model import LogisticRegression\n",
    "from sklearn.metrics import accuracy_score, roc_auc_score, log_loss"
   ]
  },
  {
   "cell_type": "code",
   "execution_count": 2,
   "metadata": {
    "execution": {
     "iopub.execute_input": "2025-04-26T14:24:01.149763Z",
     "iopub.status.busy": "2025-04-26T14:24:01.149763Z",
     "iopub.status.idle": "2025-04-26T14:24:01.153485Z",
     "shell.execute_reply": "2025-04-26T14:24:01.152982Z",
     "shell.execute_reply.started": "2025-04-26T14:24:01.149763Z"
    }
   },
   "outputs": [],
   "source": [
    "random.seed(42)\n",
    "np.random.seed(42)"
   ]
  },
  {
   "cell_type": "code",
   "execution_count": 3,
   "metadata": {
    "_cell_guid": "b1076dfc-b9ad-4769-8c92-a6c4dae69d19",
    "_uuid": "8f2839f25d086af736a60e9eeb907d3b93b6e0e5",
    "execution": {
     "iopub.execute_input": "2025-04-26T14:24:01.153485Z",
     "iopub.status.busy": "2025-04-26T14:24:01.153485Z",
     "iopub.status.idle": "2025-04-26T14:24:01.161371Z",
     "shell.execute_reply": "2025-04-26T14:24:01.161371Z",
     "shell.execute_reply.started": "2025-04-26T14:24:01.153485Z"
    }
   },
   "outputs": [],
   "source": [
    "def load_train_data(data_file: str, labels_file: str):\n",
    "    all_texts = []\n",
    "    all_labels = []\n",
    "\n",
    "    labels_df = pd.read_csv(labels_file)\n",
    "    labels_df = labels_df[labels_df[\"participant_index\"] == 0]\n",
    "    labels_dict = dict(zip(labels_df[\"dialog_id\"], labels_df[\"is_bot\"]))\n",
    "\n",
    "    with open(data_file, \"r\", encoding=\"utf-8\") as f:\n",
    "\n",
    "        data = json.load(f)\n",
    "        for key in data.keys():\n",
    "            messages = data[key]\n",
    "\n",
    "            part_0_texts = [\n",
    "                m[\"text\"] for m in messages if m[\"participant_index\"] == \"0\"\n",
    "            ]\n",
    "            part_1_texts = [\n",
    "                m[\"text\"] for m in messages if m[\"participant_index\"] == \"1\"\n",
    "            ]\n",
    "\n",
    "            part_0_label = int(labels_dict[key])\n",
    "            part_1_label = 1 - part_0_label\n",
    "\n",
    "            text_0 = \" \".join(part_0_texts)\n",
    "            text_1 = \" \".join(part_1_texts)\n",
    "\n",
    "            all_texts.append(text_0)\n",
    "            all_labels.append(part_0_label)\n",
    "\n",
    "            all_texts.append(text_1)\n",
    "            all_labels.append(part_1_label)\n",
    "\n",
    "    df = pd.DataFrame({\"text\": all_texts, \"is_bot\": all_labels})\n",
    "    return df\n",
    "\n",
    "\n",
    "def load_test_data(data_file: str, labels_file: str):\n",
    "    df_info = pd.read_csv(labels_file)\n",
    "\n",
    "    with open(data_file, \"r\", encoding=\"utf-8\") as f:\n",
    "        data = json.load(f)\n",
    "\n",
    "    all_texts = []\n",
    "    ids = []\n",
    "\n",
    "    for _, row in df_info.iterrows():\n",
    "        dialog_id = row[\"dialog_id\"]\n",
    "        participant_index = str(row[\"participant_index\"])\n",
    "        messages = data[dialog_id]\n",
    "\n",
    "        texts = [\n",
    "            m[\"text\"] for m in messages if m[\"participant_index\"] == participant_index\n",
    "        ]\n",
    "        combined_text = \" \".join(texts)\n",
    "        all_texts.append(combined_text)\n",
    "        ids.append(row[\"ID\"])\n",
    "\n",
    "    df = pd.DataFrame({\"ID\": ids, \"text\": all_texts})\n",
    "    return df"
   ]
  },
  {
   "cell_type": "code",
   "execution_count": 4,
   "metadata": {
    "execution": {
     "iopub.execute_input": "2025-04-26T14:24:01.163424Z",
     "iopub.status.busy": "2025-04-26T14:24:01.162378Z",
     "iopub.status.idle": "2025-04-26T14:24:01.181764Z",
     "shell.execute_reply": "2025-04-26T14:24:01.181764Z",
     "shell.execute_reply.started": "2025-04-26T14:24:01.163424Z"
    }
   },
   "outputs": [],
   "source": [
    "df = load_train_data(os.path.join('data', 'train.json'), os.path.join('data', 'ytrain.csv'))\n",
    "X = df[\"text\"]\n",
    "y = df[\"is_bot\"]"
   ]
  },
  {
   "cell_type": "code",
   "execution_count": 5,
   "metadata": {
    "execution": {
     "iopub.execute_input": "2025-04-26T14:24:01.243401Z",
     "iopub.status.busy": "2025-04-26T14:24:01.243401Z",
     "iopub.status.idle": "2025-04-26T14:24:01.266188Z",
     "shell.execute_reply": "2025-04-26T14:24:01.265685Z",
     "shell.execute_reply.started": "2025-04-26T14:24:01.243401Z"
    }
   },
   "outputs": [],
   "source": [
    "df_test = load_test_data(os.path.join('data', 'test.json'), os.path.join('data', 'ytest.csv'))"
   ]
  },
  {
   "cell_type": "code",
   "execution_count": 6,
   "metadata": {
    "execution": {
     "iopub.execute_input": "2025-04-26T14:24:01.182771Z",
     "iopub.status.busy": "2025-04-26T14:24:01.182771Z",
     "iopub.status.idle": "2025-04-26T14:24:01.192972Z",
     "shell.execute_reply": "2025-04-26T14:24:01.192972Z",
     "shell.execute_reply.started": "2025-04-26T14:24:01.182771Z"
    }
   },
   "outputs": [
    {
     "data": {
      "text/html": [
       "<div>\n",
       "<style scoped>\n",
       "    .dataframe tbody tr th:only-of-type {\n",
       "        vertical-align: middle;\n",
       "    }\n",
       "\n",
       "    .dataframe tbody tr th {\n",
       "        vertical-align: top;\n",
       "    }\n",
       "\n",
       "    .dataframe thead th {\n",
       "        text-align: right;\n",
       "    }\n",
       "</style>\n",
       "<table border=\"1\" class=\"dataframe\">\n",
       "  <thead>\n",
       "    <tr style=\"text-align: right;\">\n",
       "      <th></th>\n",
       "      <th>text</th>\n",
       "      <th>is_bot</th>\n",
       "    </tr>\n",
       "  </thead>\n",
       "  <tbody>\n",
       "    <tr>\n",
       "      <th>0</th>\n",
       "      <td>Hello! Отлично! А твои? Расскажи теорему</td>\n",
       "      <td>0</td>\n",
       "    </tr>\n",
       "    <tr>\n",
       "      <th>1</th>\n",
       "      <td>Как дела? Это круто!</td>\n",
       "      <td>1</td>\n",
       "    </tr>\n",
       "    <tr>\n",
       "      <th>2</th>\n",
       "      <td>Привет никак оооокккееуу оууукккии оооуууллкке...</td>\n",
       "      <td>0</td>\n",
       "    </tr>\n",
       "    <tr>\n",
       "      <th>3</th>\n",
       "      <td>Привет! Как я могу помочь тебе сегодня? Хорошо...</td>\n",
       "      <td>1</td>\n",
       "    </tr>\n",
       "    <tr>\n",
       "      <th>4</th>\n",
       "      <td>Привет Ты бот?</td>\n",
       "      <td>0</td>\n",
       "    </tr>\n",
       "  </tbody>\n",
       "</table>\n",
       "</div>"
      ],
      "text/plain": [
       "                                                text  is_bot\n",
       "0           Hello! Отлично! А твои? Расскажи теорему       0\n",
       "1                               Как дела? Это круто!       1\n",
       "2  Привет никак оооокккееуу оууукккии оооуууллкке...       0\n",
       "3  Привет! Как я могу помочь тебе сегодня? Хорошо...       1\n",
       "4                                     Привет Ты бот?       0"
      ]
     },
     "execution_count": 6,
     "metadata": {},
     "output_type": "execute_result"
    }
   ],
   "source": [
    "df.head()"
   ]
  },
  {
   "cell_type": "markdown",
   "metadata": {},
   "source": [
    "## Training №1 - Baseline\n",
    "\n",
    "Baseline - копия кода из ноутбука на Kaggle"
   ]
  },
  {
   "cell_type": "code",
   "execution_count": 7,
   "metadata": {
    "execution": {
     "iopub.execute_input": "2025-04-26T14:24:01.194487Z",
     "iopub.status.busy": "2025-04-26T14:24:01.193981Z",
     "iopub.status.idle": "2025-04-26T14:24:01.200364Z",
     "shell.execute_reply": "2025-04-26T14:24:01.200364Z",
     "shell.execute_reply.started": "2025-04-26T14:24:01.194487Z"
    }
   },
   "outputs": [],
   "source": [
    "X_train, X_test, y_train, y_test = train_test_split(\n",
    "    X, y, test_size=0.2, random_state=42, stratify=y\n",
    ")"
   ]
  },
  {
   "cell_type": "code",
   "execution_count": 8,
   "metadata": {
    "execution": {
     "iopub.execute_input": "2025-04-26T14:24:01.201371Z",
     "iopub.status.busy": "2025-04-26T14:24:01.201371Z",
     "iopub.status.idle": "2025-04-26T14:24:01.242396Z",
     "shell.execute_reply": "2025-04-26T14:24:01.242396Z",
     "shell.execute_reply.started": "2025-04-26T14:24:01.201371Z"
    }
   },
   "outputs": [
    {
     "name": "stdout",
     "output_type": "stream",
     "text": [
      "Val Accuracy: 0.5904761904761905\n",
      "Val ROC AUC: 0.6284971377892445\n",
      "Val Log Loss: 0.6722139357476833\n"
     ]
    }
   ],
   "source": [
    "pipe = Pipeline(\n",
    "    [\n",
    "        (\"vectorizer\", TfidfVectorizer()),\n",
    "        (\"model\", LogisticRegression(random_state=42)),\n",
    "    ]\n",
    ")\n",
    "\n",
    "pipe.fit(X_train, y_train)\n",
    "\n",
    "val_pred = pipe.predict(X_test)\n",
    "val_proba = pipe.predict_proba(X_test)\n",
    "val_acc = accuracy_score(y_test, val_pred)\n",
    "val_roc = roc_auc_score(y_test, val_proba[:, 1])\n",
    "val_logloss = log_loss(y_test, val_proba)\n",
    "print(\"Val Accuracy:\", val_acc)\n",
    "print(\"Val ROC AUC:\", val_roc)\n",
    "print(\"Val Log Loss:\", val_logloss)"
   ]
  },
  {
   "cell_type": "markdown",
   "metadata": {},
   "source": [
    "## Baseline using XGBoost\n",
    "\n",
    "Baseline решение, использующее алгоритмы градиентного бустинга и матрицу TF-IDF."
   ]
  },
  {
   "cell_type": "code",
   "execution_count": null,
   "metadata": {},
   "outputs": [],
   "source": [
    "boosting_pipeline = Pipeline(\n",
    "    [\n",
    "        (\"vectorizer\", TfidfVectorizer()),\n",
    "        (\"model\", XGBClassifier(n_estimators = 5000, \n",
    "                                n_jobs = -1, \n",
    "                                random_state = 25, \n",
    "                                max_depth = 12,\n",
    "                                max_leaves = 25,\n",
    "                                learning_rate = 1e-3)),\n",
    "    ]\n",
    ")\n",
    "\n",
    "boosting_pipeline.fit(X_train, y_train)"
   ]
  },
  {
   "cell_type": "markdown",
   "metadata": {},
   "source": [
    "Расчёт качества базовой модели без подбора гиперпараметров:"
   ]
  },
  {
   "cell_type": "code",
   "execution_count": null,
   "metadata": {},
   "outputs": [],
   "source": [
    "val_pred = boosting_pipeline.predict(X_test)\n",
    "val_proba = boosting_pipeline.predict_proba(X_test)\n",
    "val_acc = accuracy_score(y_test, val_pred)\n",
    "val_roc = roc_auc_score(y_test, val_proba[:, 1])\n",
    "val_logloss = log_loss(y_test, val_proba)\n",
    "print(\"Val Accuracy:\", val_acc)\n",
    "print(\"Val ROC AUC:\", val_roc)\n",
    "print(\"Val Log Loss:\", val_logloss)"
   ]
  },
  {
   "cell_type": "markdown",
   "metadata": {},
   "source": [
    "Подбор гиперпараметров проведём с помощью optuna."
   ]
  },
  {
   "cell_type": "code",
   "execution_count": null,
   "metadata": {},
   "outputs": [],
   "source": [
    "def objective(trial):\n",
    "\n",
    "    n_gram = trial.suggest_int('n_gram', 1, 3)\n",
    "    lr_rate = trial.suggest_float(\"learning_rate\", 1e-5, 5e-3, step=1e-5)\n",
    "    num_estimators = trial.suggest_int('num_estimators', 200, 10000)\n",
    "    tree_depth = trial.suggest_int('depth', 3, 15)\n",
    "    num_leaves = trial.suggest_int('n_leaves', 10, 100)\n",
    "\n",
    "    boosting_pipeline = Pipeline(\n",
    "        [\n",
    "            (\"vectorizer\", TfidfVectorizer(ngram_range=(1, n_gram))),\n",
    "            (\"model\", XGBClassifier(n_estimators = num_estimators,\n",
    "                                    random_state = 25, \n",
    "                                    max_depth = tree_depth,\n",
    "                                    max_leaves = num_leaves,\n",
    "                                    learning_rate = lr_rate)),\n",
    "        ]\n",
    "    )\n",
    "\n",
    "    boosting_pipeline.fit(X_train, y_train)\n",
    "    \n",
    "    val_pred = boosting_pipeline.predict(X_test)\n",
    "    val_proba = boosting_pipeline.predict_proba(X_test)\n",
    "    val_acc = accuracy_score(y_test, val_pred)\n",
    "    val_roc = roc_auc_score(y_test, val_proba[:, 1])\n",
    "    val_logloss = log_loss(y_test, val_proba)\n",
    "\n",
    "    return val_roc"
   ]
  },
  {
   "cell_type": "code",
   "execution_count": null,
   "metadata": {},
   "outputs": [],
   "source": [
    "study = optuna.create_study(direction=\"maximize\")\n",
    "study.optimize(objective, n_trials=15, n_jobs = -1)"
   ]
  },
  {
   "cell_type": "code",
   "execution_count": null,
   "metadata": {},
   "outputs": [],
   "source": [
    "study.best_params"
   ]
  },
  {
   "cell_type": "code",
   "execution_count": null,
   "metadata": {},
   "outputs": [],
   "source": [
    "print('Сводная таблица оптимизационных параметров\\n')\n",
    "study.trials_dataframe().sort_values('value')"
   ]
  },
  {
   "cell_type": "code",
   "execution_count": null,
   "metadata": {},
   "outputs": [],
   "source": [
    "boosting_pipeline = Pipeline(\n",
    "        [\n",
    "            (\"vectorizer\", TfidfVectorizer(ngram_range=(1, study.best_params['n_gram']))),\n",
    "            (\"model\", XGBClassifier(n_estimators = study.best_params['num_estimators'],\n",
    "                                    random_state = 25, \n",
    "                                    max_depth = study.best_params['depth'],\n",
    "                                    max_leaves = study.best_params['n_leaves'],\n",
    "                                    learning_rate = study.best_params['learning_rate'])),\n",
    "        ]\n",
    "    )\n",
    "\n",
    "boosting_pipeline.fit(df['text'], df['is_bot'])"
   ]
  },
  {
   "cell_type": "code",
   "execution_count": null,
   "metadata": {},
   "outputs": [],
   "source": [
    "test_proba = boosting_pipeline.predict_proba(df_test[\"text\"])[:, 1]\n",
    "\n",
    "preds_df = pd.DataFrame({\"ID\": df_test[\"ID\"], \"is_bot\": test_proba})\n",
    "preds_df.to_csv(\"preds_XGBoost.csv\", index=False)"
   ]
  },
  {
   "cell_type": "markdown",
   "metadata": {},
   "source": [
    "## LLM - детектор"
   ]
  },
  {
   "cell_type": "code",
   "execution_count": 9,
   "metadata": {
    "execution": {
     "iopub.execute_input": "2025-04-26T14:26:16.765069Z",
     "iopub.status.busy": "2025-04-26T14:26:16.763069Z",
     "iopub.status.idle": "2025-04-26T14:26:16.771577Z",
     "shell.execute_reply": "2025-04-26T14:26:16.771070Z",
     "shell.execute_reply.started": "2025-04-26T14:26:16.764069Z"
    }
   },
   "outputs": [],
   "source": [
    "def calculate_perplexity(text, model, tokenizer, device):\n",
    "    # Токенизация\n",
    "    encodings = tokenizer(text, return_tensors=\"pt\", truncation=True)\n",
    "    encodings = {k: v.to(device) for k, v in encodings.items()}\n",
    "\n",
    "    # Вычисление mean negative log-likelihood (nll) per token\n",
    "    # (стандартный loss для LLM в библиотеке transformers)\n",
    "    input_ids = encodings[\"input_ids\"]\n",
    "    with torch.no_grad():\n",
    "        outputs = model(**encodings, labels=input_ids)\n",
    "        neg_log_likelihood = outputs.loss.item()\n",
    "\n",
    "    perplexity = math.exp(neg_log_likelihood) # Перплексия вычисляется как e ^ nll\n",
    "    return perplexity\n",
    "\n",
    "def average_pool(last_hidden_states: Tensor,\n",
    "                 attention_mask: Tensor) -> Tensor:\n",
    "    last_hidden = last_hidden_states.masked_fill(~attention_mask[..., None].bool(), 0.0)\n",
    "    return last_hidden.sum(dim=1) / attention_mask.sum(dim=1)[..., None]"
   ]
  },
  {
   "cell_type": "code",
   "execution_count": 10,
   "metadata": {
    "execution": {
     "iopub.execute_input": "2025-04-26T14:26:17.570998Z",
     "iopub.status.busy": "2025-04-26T14:26:17.569784Z",
     "iopub.status.idle": "2025-04-26T14:26:17.574943Z",
     "shell.execute_reply": "2025-04-26T14:26:17.574943Z",
     "shell.execute_reply.started": "2025-04-26T14:26:17.570998Z"
    }
   },
   "outputs": [],
   "source": [
    "device = \"cuda\" if torch.cuda.is_available() else \"cpu\""
   ]
  },
  {
   "cell_type": "code",
   "execution_count": 11,
   "metadata": {
    "execution": {
     "iopub.execute_input": "2025-04-26T14:26:22.073312Z",
     "iopub.status.busy": "2025-04-26T14:26:22.072313Z",
     "iopub.status.idle": "2025-04-26T14:26:23.963665Z",
     "shell.execute_reply": "2025-04-26T14:26:23.963665Z",
     "shell.execute_reply.started": "2025-04-26T14:26:22.072313Z"
    }
   },
   "outputs": [],
   "source": [
    "emb_model = 'intfloat/multilingual-e5-large-instruct'\n",
    "\n",
    "tokenizer = AutoTokenizer.from_pretrained(emb_model)\n",
    "model = AutoModel.from_pretrained(emb_model, trust_remote_code=True)\n",
    "\n",
    "model = model.to(device)"
   ]
  },
  {
   "cell_type": "code",
   "execution_count": 12,
   "metadata": {
    "execution": {
     "iopub.execute_input": "2025-04-26T14:27:42.002444Z",
     "iopub.status.busy": "2025-04-26T14:27:42.002444Z",
     "iopub.status.idle": "2025-04-26T14:28:06.839270Z",
     "shell.execute_reply": "2025-04-26T14:28:06.839270Z",
     "shell.execute_reply.started": "2025-04-26T14:27:42.002444Z"
    }
   },
   "outputs": [
    {
     "data": {
      "application/vnd.jupyter.widget-view+json": {
       "model_id": "4b9bca3dbebf4739aed01144bcabe575",
       "version_major": 2,
       "version_minor": 0
      },
      "text/plain": [
       "  0%|          | 0/393 [00:00<?, ?it/s]"
      ]
     },
     "metadata": {},
     "output_type": "display_data"
    }
   ],
   "source": [
    "# Tokenize the input texts\n",
    "batch_size = 4\n",
    "n_batches = len(df) // batch_size\n",
    "\n",
    "embeds = np.zeros((len(df), model.config.hidden_size))\n",
    "for i in trange(n_batches):\n",
    "    \n",
    "    batch_dict = tokenizer(df['text'].values[i*batch_size:i*batch_size+batch_size].tolist(), \n",
    "                           max_length=512, \n",
    "                           padding=True, \n",
    "                           truncation=True, \n",
    "                           return_tensors='pt').to(device)\n",
    "\n",
    "    outputs = model(**batch_dict)\n",
    "    embeddings = average_pool(outputs.last_hidden_state, batch_dict['attention_mask'])\n",
    "    \n",
    "    # normalize embeddings\n",
    "    embeddings = F.normalize(embeddings, p=2, dim=1)\n",
    "    \n",
    "    embeds[i*batch_size:i*batch_size+batch_size] = embeddings.cpu().detach().numpy()\n",
    "    del embeddings\n",
    "\n",
    "torch.cuda.empty_cache()\n",
    "\n",
    "df['embeds'] = tuple(embeds)"
   ]
  },
  {
   "cell_type": "code",
   "execution_count": 13,
   "metadata": {
    "execution": {
     "iopub.execute_input": "2025-04-26T14:28:10.423023Z",
     "iopub.status.busy": "2025-04-26T14:28:10.422018Z",
     "iopub.status.idle": "2025-04-26T14:28:10.432478Z",
     "shell.execute_reply": "2025-04-26T14:28:10.431472Z",
     "shell.execute_reply.started": "2025-04-26T14:28:10.423023Z"
    }
   },
   "outputs": [],
   "source": [
    "X_train, X_test, y_train, y_test = train_test_split(\n",
    "    df['embeds'], df['is_bot'], test_size=0.2, random_state=42, stratify=y\n",
    ")"
   ]
  },
  {
   "cell_type": "code",
   "execution_count": 14,
   "metadata": {
    "execution": {
     "iopub.execute_input": "2025-04-26T14:28:11.731164Z",
     "iopub.status.busy": "2025-04-26T14:28:11.731164Z",
     "iopub.status.idle": "2025-04-26T14:28:11.736703Z",
     "shell.execute_reply": "2025-04-26T14:28:11.735692Z",
     "shell.execute_reply.started": "2025-04-26T14:28:11.731164Z"
    }
   },
   "outputs": [],
   "source": [
    "clf = LogisticRegression(n_jobs=-1, random_state=42, max_iter=500)"
   ]
  },
  {
   "cell_type": "code",
   "execution_count": 15,
   "metadata": {
    "execution": {
     "iopub.execute_input": "2025-04-26T14:28:13.136991Z",
     "iopub.status.busy": "2025-04-26T14:28:13.135989Z",
     "iopub.status.idle": "2025-04-26T14:28:14.760117Z",
     "shell.execute_reply": "2025-04-26T14:28:14.760117Z",
     "shell.execute_reply.started": "2025-04-26T14:28:13.136991Z"
    }
   },
   "outputs": [
    {
     "data": {
      "text/html": [
       "<style>#sk-container-id-1 {\n",
       "  /* Definition of color scheme common for light and dark mode */\n",
       "  --sklearn-color-text: #000;\n",
       "  --sklearn-color-text-muted: #666;\n",
       "  --sklearn-color-line: gray;\n",
       "  /* Definition of color scheme for unfitted estimators */\n",
       "  --sklearn-color-unfitted-level-0: #fff5e6;\n",
       "  --sklearn-color-unfitted-level-1: #f6e4d2;\n",
       "  --sklearn-color-unfitted-level-2: #ffe0b3;\n",
       "  --sklearn-color-unfitted-level-3: chocolate;\n",
       "  /* Definition of color scheme for fitted estimators */\n",
       "  --sklearn-color-fitted-level-0: #f0f8ff;\n",
       "  --sklearn-color-fitted-level-1: #d4ebff;\n",
       "  --sklearn-color-fitted-level-2: #b3dbfd;\n",
       "  --sklearn-color-fitted-level-3: cornflowerblue;\n",
       "\n",
       "  /* Specific color for light theme */\n",
       "  --sklearn-color-text-on-default-background: var(--sg-text-color, var(--theme-code-foreground, var(--jp-content-font-color1, black)));\n",
       "  --sklearn-color-background: var(--sg-background-color, var(--theme-background, var(--jp-layout-color0, white)));\n",
       "  --sklearn-color-border-box: var(--sg-text-color, var(--theme-code-foreground, var(--jp-content-font-color1, black)));\n",
       "  --sklearn-color-icon: #696969;\n",
       "\n",
       "  @media (prefers-color-scheme: dark) {\n",
       "    /* Redefinition of color scheme for dark theme */\n",
       "    --sklearn-color-text-on-default-background: var(--sg-text-color, var(--theme-code-foreground, var(--jp-content-font-color1, white)));\n",
       "    --sklearn-color-background: var(--sg-background-color, var(--theme-background, var(--jp-layout-color0, #111)));\n",
       "    --sklearn-color-border-box: var(--sg-text-color, var(--theme-code-foreground, var(--jp-content-font-color1, white)));\n",
       "    --sklearn-color-icon: #878787;\n",
       "  }\n",
       "}\n",
       "\n",
       "#sk-container-id-1 {\n",
       "  color: var(--sklearn-color-text);\n",
       "}\n",
       "\n",
       "#sk-container-id-1 pre {\n",
       "  padding: 0;\n",
       "}\n",
       "\n",
       "#sk-container-id-1 input.sk-hidden--visually {\n",
       "  border: 0;\n",
       "  clip: rect(1px 1px 1px 1px);\n",
       "  clip: rect(1px, 1px, 1px, 1px);\n",
       "  height: 1px;\n",
       "  margin: -1px;\n",
       "  overflow: hidden;\n",
       "  padding: 0;\n",
       "  position: absolute;\n",
       "  width: 1px;\n",
       "}\n",
       "\n",
       "#sk-container-id-1 div.sk-dashed-wrapped {\n",
       "  border: 1px dashed var(--sklearn-color-line);\n",
       "  margin: 0 0.4em 0.5em 0.4em;\n",
       "  box-sizing: border-box;\n",
       "  padding-bottom: 0.4em;\n",
       "  background-color: var(--sklearn-color-background);\n",
       "}\n",
       "\n",
       "#sk-container-id-1 div.sk-container {\n",
       "  /* jupyter's `normalize.less` sets `[hidden] { display: none; }`\n",
       "     but bootstrap.min.css set `[hidden] { display: none !important; }`\n",
       "     so we also need the `!important` here to be able to override the\n",
       "     default hidden behavior on the sphinx rendered scikit-learn.org.\n",
       "     See: https://github.com/scikit-learn/scikit-learn/issues/21755 */\n",
       "  display: inline-block !important;\n",
       "  position: relative;\n",
       "}\n",
       "\n",
       "#sk-container-id-1 div.sk-text-repr-fallback {\n",
       "  display: none;\n",
       "}\n",
       "\n",
       "div.sk-parallel-item,\n",
       "div.sk-serial,\n",
       "div.sk-item {\n",
       "  /* draw centered vertical line to link estimators */\n",
       "  background-image: linear-gradient(var(--sklearn-color-text-on-default-background), var(--sklearn-color-text-on-default-background));\n",
       "  background-size: 2px 100%;\n",
       "  background-repeat: no-repeat;\n",
       "  background-position: center center;\n",
       "}\n",
       "\n",
       "/* Parallel-specific style estimator block */\n",
       "\n",
       "#sk-container-id-1 div.sk-parallel-item::after {\n",
       "  content: \"\";\n",
       "  width: 100%;\n",
       "  border-bottom: 2px solid var(--sklearn-color-text-on-default-background);\n",
       "  flex-grow: 1;\n",
       "}\n",
       "\n",
       "#sk-container-id-1 div.sk-parallel {\n",
       "  display: flex;\n",
       "  align-items: stretch;\n",
       "  justify-content: center;\n",
       "  background-color: var(--sklearn-color-background);\n",
       "  position: relative;\n",
       "}\n",
       "\n",
       "#sk-container-id-1 div.sk-parallel-item {\n",
       "  display: flex;\n",
       "  flex-direction: column;\n",
       "}\n",
       "\n",
       "#sk-container-id-1 div.sk-parallel-item:first-child::after {\n",
       "  align-self: flex-end;\n",
       "  width: 50%;\n",
       "}\n",
       "\n",
       "#sk-container-id-1 div.sk-parallel-item:last-child::after {\n",
       "  align-self: flex-start;\n",
       "  width: 50%;\n",
       "}\n",
       "\n",
       "#sk-container-id-1 div.sk-parallel-item:only-child::after {\n",
       "  width: 0;\n",
       "}\n",
       "\n",
       "/* Serial-specific style estimator block */\n",
       "\n",
       "#sk-container-id-1 div.sk-serial {\n",
       "  display: flex;\n",
       "  flex-direction: column;\n",
       "  align-items: center;\n",
       "  background-color: var(--sklearn-color-background);\n",
       "  padding-right: 1em;\n",
       "  padding-left: 1em;\n",
       "}\n",
       "\n",
       "\n",
       "/* Toggleable style: style used for estimator/Pipeline/ColumnTransformer box that is\n",
       "clickable and can be expanded/collapsed.\n",
       "- Pipeline and ColumnTransformer use this feature and define the default style\n",
       "- Estimators will overwrite some part of the style using the `sk-estimator` class\n",
       "*/\n",
       "\n",
       "/* Pipeline and ColumnTransformer style (default) */\n",
       "\n",
       "#sk-container-id-1 div.sk-toggleable {\n",
       "  /* Default theme specific background. It is overwritten whether we have a\n",
       "  specific estimator or a Pipeline/ColumnTransformer */\n",
       "  background-color: var(--sklearn-color-background);\n",
       "}\n",
       "\n",
       "/* Toggleable label */\n",
       "#sk-container-id-1 label.sk-toggleable__label {\n",
       "  cursor: pointer;\n",
       "  display: flex;\n",
       "  width: 100%;\n",
       "  margin-bottom: 0;\n",
       "  padding: 0.5em;\n",
       "  box-sizing: border-box;\n",
       "  text-align: center;\n",
       "  align-items: start;\n",
       "  justify-content: space-between;\n",
       "  gap: 0.5em;\n",
       "}\n",
       "\n",
       "#sk-container-id-1 label.sk-toggleable__label .caption {\n",
       "  font-size: 0.6rem;\n",
       "  font-weight: lighter;\n",
       "  color: var(--sklearn-color-text-muted);\n",
       "}\n",
       "\n",
       "#sk-container-id-1 label.sk-toggleable__label-arrow:before {\n",
       "  /* Arrow on the left of the label */\n",
       "  content: \"▸\";\n",
       "  float: left;\n",
       "  margin-right: 0.25em;\n",
       "  color: var(--sklearn-color-icon);\n",
       "}\n",
       "\n",
       "#sk-container-id-1 label.sk-toggleable__label-arrow:hover:before {\n",
       "  color: var(--sklearn-color-text);\n",
       "}\n",
       "\n",
       "/* Toggleable content - dropdown */\n",
       "\n",
       "#sk-container-id-1 div.sk-toggleable__content {\n",
       "  max-height: 0;\n",
       "  max-width: 0;\n",
       "  overflow: hidden;\n",
       "  text-align: left;\n",
       "  /* unfitted */\n",
       "  background-color: var(--sklearn-color-unfitted-level-0);\n",
       "}\n",
       "\n",
       "#sk-container-id-1 div.sk-toggleable__content.fitted {\n",
       "  /* fitted */\n",
       "  background-color: var(--sklearn-color-fitted-level-0);\n",
       "}\n",
       "\n",
       "#sk-container-id-1 div.sk-toggleable__content pre {\n",
       "  margin: 0.2em;\n",
       "  border-radius: 0.25em;\n",
       "  color: var(--sklearn-color-text);\n",
       "  /* unfitted */\n",
       "  background-color: var(--sklearn-color-unfitted-level-0);\n",
       "}\n",
       "\n",
       "#sk-container-id-1 div.sk-toggleable__content.fitted pre {\n",
       "  /* unfitted */\n",
       "  background-color: var(--sklearn-color-fitted-level-0);\n",
       "}\n",
       "\n",
       "#sk-container-id-1 input.sk-toggleable__control:checked~div.sk-toggleable__content {\n",
       "  /* Expand drop-down */\n",
       "  max-height: 200px;\n",
       "  max-width: 100%;\n",
       "  overflow: auto;\n",
       "}\n",
       "\n",
       "#sk-container-id-1 input.sk-toggleable__control:checked~label.sk-toggleable__label-arrow:before {\n",
       "  content: \"▾\";\n",
       "}\n",
       "\n",
       "/* Pipeline/ColumnTransformer-specific style */\n",
       "\n",
       "#sk-container-id-1 div.sk-label input.sk-toggleable__control:checked~label.sk-toggleable__label {\n",
       "  color: var(--sklearn-color-text);\n",
       "  background-color: var(--sklearn-color-unfitted-level-2);\n",
       "}\n",
       "\n",
       "#sk-container-id-1 div.sk-label.fitted input.sk-toggleable__control:checked~label.sk-toggleable__label {\n",
       "  background-color: var(--sklearn-color-fitted-level-2);\n",
       "}\n",
       "\n",
       "/* Estimator-specific style */\n",
       "\n",
       "/* Colorize estimator box */\n",
       "#sk-container-id-1 div.sk-estimator input.sk-toggleable__control:checked~label.sk-toggleable__label {\n",
       "  /* unfitted */\n",
       "  background-color: var(--sklearn-color-unfitted-level-2);\n",
       "}\n",
       "\n",
       "#sk-container-id-1 div.sk-estimator.fitted input.sk-toggleable__control:checked~label.sk-toggleable__label {\n",
       "  /* fitted */\n",
       "  background-color: var(--sklearn-color-fitted-level-2);\n",
       "}\n",
       "\n",
       "#sk-container-id-1 div.sk-label label.sk-toggleable__label,\n",
       "#sk-container-id-1 div.sk-label label {\n",
       "  /* The background is the default theme color */\n",
       "  color: var(--sklearn-color-text-on-default-background);\n",
       "}\n",
       "\n",
       "/* On hover, darken the color of the background */\n",
       "#sk-container-id-1 div.sk-label:hover label.sk-toggleable__label {\n",
       "  color: var(--sklearn-color-text);\n",
       "  background-color: var(--sklearn-color-unfitted-level-2);\n",
       "}\n",
       "\n",
       "/* Label box, darken color on hover, fitted */\n",
       "#sk-container-id-1 div.sk-label.fitted:hover label.sk-toggleable__label.fitted {\n",
       "  color: var(--sklearn-color-text);\n",
       "  background-color: var(--sklearn-color-fitted-level-2);\n",
       "}\n",
       "\n",
       "/* Estimator label */\n",
       "\n",
       "#sk-container-id-1 div.sk-label label {\n",
       "  font-family: monospace;\n",
       "  font-weight: bold;\n",
       "  display: inline-block;\n",
       "  line-height: 1.2em;\n",
       "}\n",
       "\n",
       "#sk-container-id-1 div.sk-label-container {\n",
       "  text-align: center;\n",
       "}\n",
       "\n",
       "/* Estimator-specific */\n",
       "#sk-container-id-1 div.sk-estimator {\n",
       "  font-family: monospace;\n",
       "  border: 1px dotted var(--sklearn-color-border-box);\n",
       "  border-radius: 0.25em;\n",
       "  box-sizing: border-box;\n",
       "  margin-bottom: 0.5em;\n",
       "  /* unfitted */\n",
       "  background-color: var(--sklearn-color-unfitted-level-0);\n",
       "}\n",
       "\n",
       "#sk-container-id-1 div.sk-estimator.fitted {\n",
       "  /* fitted */\n",
       "  background-color: var(--sklearn-color-fitted-level-0);\n",
       "}\n",
       "\n",
       "/* on hover */\n",
       "#sk-container-id-1 div.sk-estimator:hover {\n",
       "  /* unfitted */\n",
       "  background-color: var(--sklearn-color-unfitted-level-2);\n",
       "}\n",
       "\n",
       "#sk-container-id-1 div.sk-estimator.fitted:hover {\n",
       "  /* fitted */\n",
       "  background-color: var(--sklearn-color-fitted-level-2);\n",
       "}\n",
       "\n",
       "/* Specification for estimator info (e.g. \"i\" and \"?\") */\n",
       "\n",
       "/* Common style for \"i\" and \"?\" */\n",
       "\n",
       ".sk-estimator-doc-link,\n",
       "a:link.sk-estimator-doc-link,\n",
       "a:visited.sk-estimator-doc-link {\n",
       "  float: right;\n",
       "  font-size: smaller;\n",
       "  line-height: 1em;\n",
       "  font-family: monospace;\n",
       "  background-color: var(--sklearn-color-background);\n",
       "  border-radius: 1em;\n",
       "  height: 1em;\n",
       "  width: 1em;\n",
       "  text-decoration: none !important;\n",
       "  margin-left: 0.5em;\n",
       "  text-align: center;\n",
       "  /* unfitted */\n",
       "  border: var(--sklearn-color-unfitted-level-1) 1pt solid;\n",
       "  color: var(--sklearn-color-unfitted-level-1);\n",
       "}\n",
       "\n",
       ".sk-estimator-doc-link.fitted,\n",
       "a:link.sk-estimator-doc-link.fitted,\n",
       "a:visited.sk-estimator-doc-link.fitted {\n",
       "  /* fitted */\n",
       "  border: var(--sklearn-color-fitted-level-1) 1pt solid;\n",
       "  color: var(--sklearn-color-fitted-level-1);\n",
       "}\n",
       "\n",
       "/* On hover */\n",
       "div.sk-estimator:hover .sk-estimator-doc-link:hover,\n",
       ".sk-estimator-doc-link:hover,\n",
       "div.sk-label-container:hover .sk-estimator-doc-link:hover,\n",
       ".sk-estimator-doc-link:hover {\n",
       "  /* unfitted */\n",
       "  background-color: var(--sklearn-color-unfitted-level-3);\n",
       "  color: var(--sklearn-color-background);\n",
       "  text-decoration: none;\n",
       "}\n",
       "\n",
       "div.sk-estimator.fitted:hover .sk-estimator-doc-link.fitted:hover,\n",
       ".sk-estimator-doc-link.fitted:hover,\n",
       "div.sk-label-container:hover .sk-estimator-doc-link.fitted:hover,\n",
       ".sk-estimator-doc-link.fitted:hover {\n",
       "  /* fitted */\n",
       "  background-color: var(--sklearn-color-fitted-level-3);\n",
       "  color: var(--sklearn-color-background);\n",
       "  text-decoration: none;\n",
       "}\n",
       "\n",
       "/* Span, style for the box shown on hovering the info icon */\n",
       ".sk-estimator-doc-link span {\n",
       "  display: none;\n",
       "  z-index: 9999;\n",
       "  position: relative;\n",
       "  font-weight: normal;\n",
       "  right: .2ex;\n",
       "  padding: .5ex;\n",
       "  margin: .5ex;\n",
       "  width: min-content;\n",
       "  min-width: 20ex;\n",
       "  max-width: 50ex;\n",
       "  color: var(--sklearn-color-text);\n",
       "  box-shadow: 2pt 2pt 4pt #999;\n",
       "  /* unfitted */\n",
       "  background: var(--sklearn-color-unfitted-level-0);\n",
       "  border: .5pt solid var(--sklearn-color-unfitted-level-3);\n",
       "}\n",
       "\n",
       ".sk-estimator-doc-link.fitted span {\n",
       "  /* fitted */\n",
       "  background: var(--sklearn-color-fitted-level-0);\n",
       "  border: var(--sklearn-color-fitted-level-3);\n",
       "}\n",
       "\n",
       ".sk-estimator-doc-link:hover span {\n",
       "  display: block;\n",
       "}\n",
       "\n",
       "/* \"?\"-specific style due to the `<a>` HTML tag */\n",
       "\n",
       "#sk-container-id-1 a.estimator_doc_link {\n",
       "  float: right;\n",
       "  font-size: 1rem;\n",
       "  line-height: 1em;\n",
       "  font-family: monospace;\n",
       "  background-color: var(--sklearn-color-background);\n",
       "  border-radius: 1rem;\n",
       "  height: 1rem;\n",
       "  width: 1rem;\n",
       "  text-decoration: none;\n",
       "  /* unfitted */\n",
       "  color: var(--sklearn-color-unfitted-level-1);\n",
       "  border: var(--sklearn-color-unfitted-level-1) 1pt solid;\n",
       "}\n",
       "\n",
       "#sk-container-id-1 a.estimator_doc_link.fitted {\n",
       "  /* fitted */\n",
       "  border: var(--sklearn-color-fitted-level-1) 1pt solid;\n",
       "  color: var(--sklearn-color-fitted-level-1);\n",
       "}\n",
       "\n",
       "/* On hover */\n",
       "#sk-container-id-1 a.estimator_doc_link:hover {\n",
       "  /* unfitted */\n",
       "  background-color: var(--sklearn-color-unfitted-level-3);\n",
       "  color: var(--sklearn-color-background);\n",
       "  text-decoration: none;\n",
       "}\n",
       "\n",
       "#sk-container-id-1 a.estimator_doc_link.fitted:hover {\n",
       "  /* fitted */\n",
       "  background-color: var(--sklearn-color-fitted-level-3);\n",
       "}\n",
       "</style><div id=\"sk-container-id-1\" class=\"sk-top-container\"><div class=\"sk-text-repr-fallback\"><pre>LogisticRegression(max_iter=500, n_jobs=-1, random_state=42)</pre><b>In a Jupyter environment, please rerun this cell to show the HTML representation or trust the notebook. <br />On GitHub, the HTML representation is unable to render, please try loading this page with nbviewer.org.</b></div><div class=\"sk-container\" hidden><div class=\"sk-item\"><div class=\"sk-estimator fitted sk-toggleable\"><input class=\"sk-toggleable__control sk-hidden--visually\" id=\"sk-estimator-id-1\" type=\"checkbox\" checked><label for=\"sk-estimator-id-1\" class=\"sk-toggleable__label fitted sk-toggleable__label-arrow\"><div><div>LogisticRegression</div></div><div><a class=\"sk-estimator-doc-link fitted\" rel=\"noreferrer\" target=\"_blank\" href=\"https://scikit-learn.org/1.6/modules/generated/sklearn.linear_model.LogisticRegression.html\">?<span>Documentation for LogisticRegression</span></a><span class=\"sk-estimator-doc-link fitted\">i<span>Fitted</span></span></div></label><div class=\"sk-toggleable__content fitted\"><pre>LogisticRegression(max_iter=500, n_jobs=-1, random_state=42)</pre></div> </div></div></div></div>"
      ],
      "text/plain": [
       "LogisticRegression(max_iter=500, n_jobs=-1, random_state=42)"
      ]
     },
     "execution_count": 15,
     "metadata": {},
     "output_type": "execute_result"
    }
   ],
   "source": [
    "clf.fit(np.vstack(X_train), y_train)"
   ]
  },
  {
   "cell_type": "code",
   "execution_count": 16,
   "metadata": {
    "execution": {
     "iopub.execute_input": "2025-04-26T14:28:16.238052Z",
     "iopub.status.busy": "2025-04-26T14:28:16.237053Z",
     "iopub.status.idle": "2025-04-26T14:28:16.250480Z",
     "shell.execute_reply": "2025-04-26T14:28:16.249471Z",
     "shell.execute_reply.started": "2025-04-26T14:28:16.238052Z"
    }
   },
   "outputs": [
    {
     "name": "stdout",
     "output_type": "stream",
     "text": [
      "Val Accuracy: 0.5968253968253968\n",
      "Val ROC AUC: 0.6167862613883738\n",
      "Val Log Loss: 0.6671195625584835\n"
     ]
    }
   ],
   "source": [
    "val_pred = clf.predict(np.vstack(X_test))\n",
    "val_proba = clf.predict_proba(np.vstack(X_test))\n",
    "val_acc = accuracy_score(y_test, val_pred)\n",
    "val_roc = roc_auc_score(y_test, val_proba[:, 1])\n",
    "val_logloss = log_loss(y_test, val_proba)\n",
    "print(\"Val Accuracy:\", val_acc)\n",
    "print(\"Val ROC AUC:\", val_roc)\n",
    "print(\"Val Log Loss:\", val_logloss)"
   ]
  },
  {
   "cell_type": "markdown",
   "metadata": {},
   "source": [
    "# Scoring"
   ]
  },
  {
   "cell_type": "code",
   "execution_count": 17,
   "metadata": {
    "execution": {
     "iopub.execute_input": "2025-04-26T14:29:02.267781Z",
     "iopub.status.busy": "2025-04-26T14:29:02.265781Z",
     "iopub.status.idle": "2025-04-26T14:29:11.243164Z",
     "shell.execute_reply": "2025-04-26T14:29:11.243164Z",
     "shell.execute_reply.started": "2025-04-26T14:29:02.266780Z"
    }
   },
   "outputs": [
    {
     "data": {
      "application/vnd.jupyter.widget-view+json": {
       "model_id": "64eb0319d6a94894bfcf7a9bae3db844",
       "version_major": 2,
       "version_minor": 0
      },
      "text/plain": [
       "  0%|          | 0/169 [00:00<?, ?it/s]"
      ]
     },
     "metadata": {},
     "output_type": "display_data"
    }
   ],
   "source": [
    "# Tokenize the input texts\n",
    "batch_size = 4\n",
    "n_batches = len(df_test) // batch_size\n",
    "\n",
    "embeds_t = np.zeros((len(df_test), model.config.hidden_size))\n",
    "for i in trange(n_batches):\n",
    "    \n",
    "    batch_dict = tokenizer(df_test['text'].values[i*batch_size:i*batch_size+batch_size].tolist(), \n",
    "                           max_length=512, \n",
    "                           padding=True, \n",
    "                           truncation=True, \n",
    "                           return_tensors='pt').to(device)\n",
    "\n",
    "    outputs = model(**batch_dict)\n",
    "    embeddings = average_pool(outputs.last_hidden_state, batch_dict['attention_mask'])\n",
    "    \n",
    "    # normalize embeddings\n",
    "    embeddings = F.normalize(embeddings, p=2, dim=1)\n",
    "    \n",
    "    embeds_t[i*batch_size:i*batch_size+batch_size] = embeddings.cpu().detach().numpy()\n",
    "    del embeddings"
   ]
  },
  {
   "cell_type": "code",
   "execution_count": 18,
   "metadata": {
    "execution": {
     "iopub.execute_input": "2025-04-26T14:29:13.388892Z",
     "iopub.status.busy": "2025-04-26T14:29:13.387893Z",
     "iopub.status.idle": "2025-04-26T14:29:13.530126Z",
     "shell.execute_reply": "2025-04-26T14:29:13.530126Z",
     "shell.execute_reply.started": "2025-04-26T14:29:13.388892Z"
    }
   },
   "outputs": [],
   "source": [
    "torch.cuda.empty_cache()\n",
    "del model"
   ]
  },
  {
   "cell_type": "code",
   "execution_count": 19,
   "metadata": {},
   "outputs": [],
   "source": [
    "def objective(trial):\n",
    "\n",
    "    clf_n = trial.suggest_categorical('booster', ['XGB', 'Catboost', 'LogReg'])\n",
    "    \n",
    "    if clf_n == 'XGB':\n",
    "        lr_rate = trial.suggest_float(\"learning_rate\", 1e-5, 5e-3, step=1e-5)\n",
    "        num_estimators = trial.suggest_int('num_estimators', 200, 3000)\n",
    "        tree_depth = trial.suggest_int('depth', 3, 15)\n",
    "        num_leaves = trial.suggest_int('n_leaves', 10, 100)\n",
    "\n",
    "        clf_model = XGBClassifier(random_state = 25, verbosity = 0)\n",
    "        clf_model.set_params(**{'n_estimators': num_estimators,\n",
    "                            'max_depth': tree_depth,\n",
    "                            'max_leaves': num_leaves,\n",
    "                            'learning_rate': lr_rate})\n",
    "    \n",
    "    elif clf_n == 'Catboost':\n",
    "        lr_rate = trial.suggest_float(\"learning_rate\", 1e-5, 5e-3, step=1e-5)\n",
    "        num_estimators = trial.suggest_int('num_estimators', 200, 3000)\n",
    "        clf_model = CatBoostClassifier(random_state = 25, verbose = False)\n",
    "        clf_model.set_params(**{'n_estimators': num_estimators,\n",
    "                            'learning_rate': lr_rate})\n",
    "\n",
    "    else:\n",
    "        iters = trial.suggest_int(\"iters\", 300, 5000)\n",
    "        penalty =  trial.suggest_categorical('reg', ['l1', 'l2'])\n",
    "        clf_model = LogisticRegression(n_jobs=-1, random_state=25, max_iter=iters, solver = 'saga', penalty = penalty)\n",
    "\n",
    "    clf_model.fit(np.vstack(X_train), y_train)\n",
    "    \n",
    "    val_pred = clf_model.predict(np.vstack(X_test))\n",
    "    val_proba = clf_model.predict_proba(np.vstack(X_test))\n",
    "    val_acc = accuracy_score(y_test, val_pred)\n",
    "    val_roc = roc_auc_score(y_test, val_proba[:, 1])\n",
    "    val_logloss = log_loss(y_test, val_proba)\n",
    "\n",
    "    return val_roc"
   ]
  },
  {
   "cell_type": "code",
   "execution_count": 20,
   "metadata": {},
   "outputs": [
    {
     "name": "stderr",
     "output_type": "stream",
     "text": [
      "[I 2025-04-27 10:55:33,939] A new study created in memory with name: no-name-a17ed9c7-dd09-4279-8da2-33d6e386743c\n",
      "[I 2025-04-27 10:55:35,759] Trial 5 finished with value: 0.6166250100782069 and parameters: {'booster': 'LogReg', 'iters': 4741, 'reg': 'l2'}. Best is trial 5 with value: 0.6166250100782069.\n",
      "[I 2025-04-27 10:55:35,784] Trial 9 finished with value: 0.6166250100782069 and parameters: {'booster': 'LogReg', 'iters': 4859, 'reg': 'l2'}. Best is trial 5 with value: 0.6166250100782069.\n",
      "[I 2025-04-27 10:55:35,813] Trial 11 finished with value: 0.6166250100782069 and parameters: {'booster': 'LogReg', 'iters': 2198, 'reg': 'l2'}. Best is trial 5 with value: 0.6166250100782069.\n",
      "[I 2025-04-27 10:55:38,014] Trial 6 finished with value: 0.5865516407320809 and parameters: {'booster': 'LogReg', 'iters': 709, 'reg': 'l1'}. Best is trial 5 with value: 0.6166250100782069.\n",
      "[I 2025-04-27 10:55:39,166] Trial 0 finished with value: 0.5865516407320809 and parameters: {'booster': 'LogReg', 'iters': 1035, 'reg': 'l1'}. Best is trial 5 with value: 0.6166250100782069.\n",
      "[I 2025-04-27 10:55:39,321] Trial 1 finished with value: 0.5865516407320809 and parameters: {'booster': 'LogReg', 'iters': 4535, 'reg': 'l1'}. Best is trial 5 with value: 0.6166250100782069.\n",
      "[I 2025-04-27 10:58:23,133] Trial 3 finished with value: 0.5771587519148593 and parameters: {'booster': 'Catboost', 'learning_rate': 0.0027700000000000003, 'num_estimators': 1520}. Best is trial 5 with value: 0.6166250100782069.\n",
      "[I 2025-04-27 10:58:54,343] Trial 8 finished with value: 0.5816334757719908 and parameters: {'booster': 'Catboost', 'learning_rate': 0.00317, 'num_estimators': 1912}. Best is trial 5 with value: 0.6166250100782069.\n",
      "[I 2025-04-27 10:59:01,420] Trial 4 finished with value: 0.5796984600499879 and parameters: {'booster': 'Catboost', 'learning_rate': 0.00497, 'num_estimators': 2027}. Best is trial 5 with value: 0.6166250100782069.\n",
      "[I 2025-04-27 10:59:38,529] Trial 2 finished with value: 0.5761912440538579 and parameters: {'booster': 'XGB', 'learning_rate': 0.0008400000000000001, 'num_estimators': 1920, 'depth': 4, 'n_leaves': 55}. Best is trial 5 with value: 0.6166250100782069.\n",
      "[I 2025-04-27 11:00:02,924] Trial 7 finished with value: 0.5451100540191889 and parameters: {'booster': 'XGB', 'learning_rate': 0.0017500000000000003, 'num_estimators': 1025, 'depth': 9, 'n_leaves': 92}. Best is trial 5 with value: 0.6166250100782069.\n",
      "[I 2025-04-27 11:00:08,287] Trial 10 finished with value: 0.5762718697089414 and parameters: {'booster': 'XGB', 'learning_rate': 0.00256, 'num_estimators': 1865, 'depth': 13, 'n_leaves': 31}. Best is trial 5 with value: 0.6166250100782069.\n"
     ]
    }
   ],
   "source": [
    "study = optuna.create_study(direction=\"maximize\")\n",
    "study.optimize(objective, n_trials=12, n_jobs = -1)"
   ]
  },
  {
   "cell_type": "code",
   "execution_count": 21,
   "metadata": {},
   "outputs": [
    {
     "data": {
      "text/plain": [
       "{'booster': 'LogReg', 'iters': 4741, 'reg': 'l2'}"
      ]
     },
     "execution_count": 21,
     "metadata": {},
     "output_type": "execute_result"
    }
   ],
   "source": [
    "study.best_params"
   ]
  },
  {
   "cell_type": "code",
   "execution_count": 22,
   "metadata": {},
   "outputs": [
    {
     "name": "stdout",
     "output_type": "stream",
     "text": [
      "Сводная таблица оптимизационных параметров\n",
      "\n"
     ]
    },
    {
     "data": {
      "text/html": [
       "<div>\n",
       "<style scoped>\n",
       "    .dataframe tbody tr th:only-of-type {\n",
       "        vertical-align: middle;\n",
       "    }\n",
       "\n",
       "    .dataframe tbody tr th {\n",
       "        vertical-align: top;\n",
       "    }\n",
       "\n",
       "    .dataframe thead th {\n",
       "        text-align: right;\n",
       "    }\n",
       "</style>\n",
       "<table border=\"1\" class=\"dataframe\">\n",
       "  <thead>\n",
       "    <tr style=\"text-align: right;\">\n",
       "      <th></th>\n",
       "      <th>number</th>\n",
       "      <th>value</th>\n",
       "      <th>datetime_start</th>\n",
       "      <th>datetime_complete</th>\n",
       "      <th>duration</th>\n",
       "      <th>params_booster</th>\n",
       "      <th>params_depth</th>\n",
       "      <th>params_iters</th>\n",
       "      <th>params_learning_rate</th>\n",
       "      <th>params_n_leaves</th>\n",
       "      <th>params_num_estimators</th>\n",
       "      <th>params_reg</th>\n",
       "      <th>state</th>\n",
       "    </tr>\n",
       "  </thead>\n",
       "  <tbody>\n",
       "    <tr>\n",
       "      <th>9</th>\n",
       "      <td>9</td>\n",
       "      <td>0.616625</td>\n",
       "      <td>2025-04-27 10:55:33.966002</td>\n",
       "      <td>2025-04-27 10:55:35.784931</td>\n",
       "      <td>0 days 00:00:01.818929</td>\n",
       "      <td>LogReg</td>\n",
       "      <td>NaN</td>\n",
       "      <td>4859.0</td>\n",
       "      <td>NaN</td>\n",
       "      <td>NaN</td>\n",
       "      <td>NaN</td>\n",
       "      <td>l2</td>\n",
       "      <td>COMPLETE</td>\n",
       "    </tr>\n",
       "    <tr>\n",
       "      <th>11</th>\n",
       "      <td>11</td>\n",
       "      <td>0.616625</td>\n",
       "      <td>2025-04-27 10:55:33.971002</td>\n",
       "      <td>2025-04-27 10:55:35.812944</td>\n",
       "      <td>0 days 00:00:01.841942</td>\n",
       "      <td>LogReg</td>\n",
       "      <td>NaN</td>\n",
       "      <td>2198.0</td>\n",
       "      <td>NaN</td>\n",
       "      <td>NaN</td>\n",
       "      <td>NaN</td>\n",
       "      <td>l2</td>\n",
       "      <td>COMPLETE</td>\n",
       "    </tr>\n",
       "    <tr>\n",
       "      <th>5</th>\n",
       "      <td>5</td>\n",
       "      <td>0.616625</td>\n",
       "      <td>2025-04-27 10:55:33.954002</td>\n",
       "      <td>2025-04-27 10:55:35.759844</td>\n",
       "      <td>0 days 00:00:01.805842</td>\n",
       "      <td>LogReg</td>\n",
       "      <td>NaN</td>\n",
       "      <td>4741.0</td>\n",
       "      <td>NaN</td>\n",
       "      <td>NaN</td>\n",
       "      <td>NaN</td>\n",
       "      <td>l2</td>\n",
       "      <td>COMPLETE</td>\n",
       "    </tr>\n",
       "    <tr>\n",
       "      <th>0</th>\n",
       "      <td>0</td>\n",
       "      <td>0.586552</td>\n",
       "      <td>2025-04-27 10:55:33.941628</td>\n",
       "      <td>2025-04-27 10:55:39.165819</td>\n",
       "      <td>0 days 00:00:05.224191</td>\n",
       "      <td>LogReg</td>\n",
       "      <td>NaN</td>\n",
       "      <td>1035.0</td>\n",
       "      <td>NaN</td>\n",
       "      <td>NaN</td>\n",
       "      <td>NaN</td>\n",
       "      <td>l1</td>\n",
       "      <td>COMPLETE</td>\n",
       "    </tr>\n",
       "    <tr>\n",
       "      <th>1</th>\n",
       "      <td>1</td>\n",
       "      <td>0.586552</td>\n",
       "      <td>2025-04-27 10:55:33.942628</td>\n",
       "      <td>2025-04-27 10:55:39.321148</td>\n",
       "      <td>0 days 00:00:05.378520</td>\n",
       "      <td>LogReg</td>\n",
       "      <td>NaN</td>\n",
       "      <td>4535.0</td>\n",
       "      <td>NaN</td>\n",
       "      <td>NaN</td>\n",
       "      <td>NaN</td>\n",
       "      <td>l1</td>\n",
       "      <td>COMPLETE</td>\n",
       "    </tr>\n",
       "    <tr>\n",
       "      <th>6</th>\n",
       "      <td>6</td>\n",
       "      <td>0.586552</td>\n",
       "      <td>2025-04-27 10:55:33.957002</td>\n",
       "      <td>2025-04-27 10:55:38.013174</td>\n",
       "      <td>0 days 00:00:04.056172</td>\n",
       "      <td>LogReg</td>\n",
       "      <td>NaN</td>\n",
       "      <td>709.0</td>\n",
       "      <td>NaN</td>\n",
       "      <td>NaN</td>\n",
       "      <td>NaN</td>\n",
       "      <td>l1</td>\n",
       "      <td>COMPLETE</td>\n",
       "    </tr>\n",
       "    <tr>\n",
       "      <th>8</th>\n",
       "      <td>8</td>\n",
       "      <td>0.581633</td>\n",
       "      <td>2025-04-27 10:55:33.963004</td>\n",
       "      <td>2025-04-27 10:58:54.343882</td>\n",
       "      <td>0 days 00:03:20.380878</td>\n",
       "      <td>Catboost</td>\n",
       "      <td>NaN</td>\n",
       "      <td>NaN</td>\n",
       "      <td>0.00317</td>\n",
       "      <td>NaN</td>\n",
       "      <td>1912.0</td>\n",
       "      <td>NaN</td>\n",
       "      <td>COMPLETE</td>\n",
       "    </tr>\n",
       "    <tr>\n",
       "      <th>4</th>\n",
       "      <td>4</td>\n",
       "      <td>0.579698</td>\n",
       "      <td>2025-04-27 10:55:33.951003</td>\n",
       "      <td>2025-04-27 10:59:01.420168</td>\n",
       "      <td>0 days 00:03:27.469165</td>\n",
       "      <td>Catboost</td>\n",
       "      <td>NaN</td>\n",
       "      <td>NaN</td>\n",
       "      <td>0.00497</td>\n",
       "      <td>NaN</td>\n",
       "      <td>2027.0</td>\n",
       "      <td>NaN</td>\n",
       "      <td>COMPLETE</td>\n",
       "    </tr>\n",
       "    <tr>\n",
       "      <th>3</th>\n",
       "      <td>3</td>\n",
       "      <td>0.577159</td>\n",
       "      <td>2025-04-27 10:55:33.949003</td>\n",
       "      <td>2025-04-27 10:58:23.133238</td>\n",
       "      <td>0 days 00:02:49.184235</td>\n",
       "      <td>Catboost</td>\n",
       "      <td>NaN</td>\n",
       "      <td>NaN</td>\n",
       "      <td>0.00277</td>\n",
       "      <td>NaN</td>\n",
       "      <td>1520.0</td>\n",
       "      <td>NaN</td>\n",
       "      <td>COMPLETE</td>\n",
       "    </tr>\n",
       "    <tr>\n",
       "      <th>10</th>\n",
       "      <td>10</td>\n",
       "      <td>0.576272</td>\n",
       "      <td>2025-04-27 10:55:33.969003</td>\n",
       "      <td>2025-04-27 11:00:08.287377</td>\n",
       "      <td>0 days 00:04:34.318374</td>\n",
       "      <td>XGB</td>\n",
       "      <td>13.0</td>\n",
       "      <td>NaN</td>\n",
       "      <td>0.00256</td>\n",
       "      <td>31.0</td>\n",
       "      <td>1865.0</td>\n",
       "      <td>NaN</td>\n",
       "      <td>COMPLETE</td>\n",
       "    </tr>\n",
       "    <tr>\n",
       "      <th>2</th>\n",
       "      <td>2</td>\n",
       "      <td>0.576191</td>\n",
       "      <td>2025-04-27 10:55:33.946003</td>\n",
       "      <td>2025-04-27 10:59:38.529449</td>\n",
       "      <td>0 days 00:04:04.583446</td>\n",
       "      <td>XGB</td>\n",
       "      <td>4.0</td>\n",
       "      <td>NaN</td>\n",
       "      <td>0.00084</td>\n",
       "      <td>55.0</td>\n",
       "      <td>1920.0</td>\n",
       "      <td>NaN</td>\n",
       "      <td>COMPLETE</td>\n",
       "    </tr>\n",
       "    <tr>\n",
       "      <th>7</th>\n",
       "      <td>7</td>\n",
       "      <td>0.545110</td>\n",
       "      <td>2025-04-27 10:55:33.960002</td>\n",
       "      <td>2025-04-27 11:00:02.924716</td>\n",
       "      <td>0 days 00:04:28.964714</td>\n",
       "      <td>XGB</td>\n",
       "      <td>9.0</td>\n",
       "      <td>NaN</td>\n",
       "      <td>0.00175</td>\n",
       "      <td>92.0</td>\n",
       "      <td>1025.0</td>\n",
       "      <td>NaN</td>\n",
       "      <td>COMPLETE</td>\n",
       "    </tr>\n",
       "  </tbody>\n",
       "</table>\n",
       "</div>"
      ],
      "text/plain": [
       "    number     value             datetime_start          datetime_complete  \\\n",
       "9        9  0.616625 2025-04-27 10:55:33.966002 2025-04-27 10:55:35.784931   \n",
       "11      11  0.616625 2025-04-27 10:55:33.971002 2025-04-27 10:55:35.812944   \n",
       "5        5  0.616625 2025-04-27 10:55:33.954002 2025-04-27 10:55:35.759844   \n",
       "0        0  0.586552 2025-04-27 10:55:33.941628 2025-04-27 10:55:39.165819   \n",
       "1        1  0.586552 2025-04-27 10:55:33.942628 2025-04-27 10:55:39.321148   \n",
       "6        6  0.586552 2025-04-27 10:55:33.957002 2025-04-27 10:55:38.013174   \n",
       "8        8  0.581633 2025-04-27 10:55:33.963004 2025-04-27 10:58:54.343882   \n",
       "4        4  0.579698 2025-04-27 10:55:33.951003 2025-04-27 10:59:01.420168   \n",
       "3        3  0.577159 2025-04-27 10:55:33.949003 2025-04-27 10:58:23.133238   \n",
       "10      10  0.576272 2025-04-27 10:55:33.969003 2025-04-27 11:00:08.287377   \n",
       "2        2  0.576191 2025-04-27 10:55:33.946003 2025-04-27 10:59:38.529449   \n",
       "7        7  0.545110 2025-04-27 10:55:33.960002 2025-04-27 11:00:02.924716   \n",
       "\n",
       "                 duration params_booster  params_depth  params_iters  \\\n",
       "9  0 days 00:00:01.818929         LogReg           NaN        4859.0   \n",
       "11 0 days 00:00:01.841942         LogReg           NaN        2198.0   \n",
       "5  0 days 00:00:01.805842         LogReg           NaN        4741.0   \n",
       "0  0 days 00:00:05.224191         LogReg           NaN        1035.0   \n",
       "1  0 days 00:00:05.378520         LogReg           NaN        4535.0   \n",
       "6  0 days 00:00:04.056172         LogReg           NaN         709.0   \n",
       "8  0 days 00:03:20.380878       Catboost           NaN           NaN   \n",
       "4  0 days 00:03:27.469165       Catboost           NaN           NaN   \n",
       "3  0 days 00:02:49.184235       Catboost           NaN           NaN   \n",
       "10 0 days 00:04:34.318374            XGB          13.0           NaN   \n",
       "2  0 days 00:04:04.583446            XGB           4.0           NaN   \n",
       "7  0 days 00:04:28.964714            XGB           9.0           NaN   \n",
       "\n",
       "    params_learning_rate  params_n_leaves  params_num_estimators params_reg  \\\n",
       "9                    NaN              NaN                    NaN         l2   \n",
       "11                   NaN              NaN                    NaN         l2   \n",
       "5                    NaN              NaN                    NaN         l2   \n",
       "0                    NaN              NaN                    NaN         l1   \n",
       "1                    NaN              NaN                    NaN         l1   \n",
       "6                    NaN              NaN                    NaN         l1   \n",
       "8                0.00317              NaN                 1912.0        NaN   \n",
       "4                0.00497              NaN                 2027.0        NaN   \n",
       "3                0.00277              NaN                 1520.0        NaN   \n",
       "10               0.00256             31.0                 1865.0        NaN   \n",
       "2                0.00084             55.0                 1920.0        NaN   \n",
       "7                0.00175             92.0                 1025.0        NaN   \n",
       "\n",
       "       state  \n",
       "9   COMPLETE  \n",
       "11  COMPLETE  \n",
       "5   COMPLETE  \n",
       "0   COMPLETE  \n",
       "1   COMPLETE  \n",
       "6   COMPLETE  \n",
       "8   COMPLETE  \n",
       "4   COMPLETE  \n",
       "3   COMPLETE  \n",
       "10  COMPLETE  \n",
       "2   COMPLETE  \n",
       "7   COMPLETE  "
      ]
     },
     "execution_count": 22,
     "metadata": {},
     "output_type": "execute_result"
    }
   ],
   "source": [
    "print('Сводная таблица оптимизационных параметров\\n')\n",
    "study.trials_dataframe().sort_values('value', ascending = False)"
   ]
  },
  {
   "cell_type": "code",
   "execution_count": 23,
   "metadata": {},
   "outputs": [
    {
     "data": {
      "text/plain": [
       "{'booster': 'LogReg', 'iters': 4741, 'reg': 'l2'}"
      ]
     },
     "execution_count": 23,
     "metadata": {},
     "output_type": "execute_result"
    }
   ],
   "source": [
    "study.best_params"
   ]
  },
  {
   "cell_type": "code",
   "execution_count": 24,
   "metadata": {},
   "outputs": [
    {
     "data": {
      "text/html": [
       "<style>#sk-container-id-2 {\n",
       "  /* Definition of color scheme common for light and dark mode */\n",
       "  --sklearn-color-text: #000;\n",
       "  --sklearn-color-text-muted: #666;\n",
       "  --sklearn-color-line: gray;\n",
       "  /* Definition of color scheme for unfitted estimators */\n",
       "  --sklearn-color-unfitted-level-0: #fff5e6;\n",
       "  --sklearn-color-unfitted-level-1: #f6e4d2;\n",
       "  --sklearn-color-unfitted-level-2: #ffe0b3;\n",
       "  --sklearn-color-unfitted-level-3: chocolate;\n",
       "  /* Definition of color scheme for fitted estimators */\n",
       "  --sklearn-color-fitted-level-0: #f0f8ff;\n",
       "  --sklearn-color-fitted-level-1: #d4ebff;\n",
       "  --sklearn-color-fitted-level-2: #b3dbfd;\n",
       "  --sklearn-color-fitted-level-3: cornflowerblue;\n",
       "\n",
       "  /* Specific color for light theme */\n",
       "  --sklearn-color-text-on-default-background: var(--sg-text-color, var(--theme-code-foreground, var(--jp-content-font-color1, black)));\n",
       "  --sklearn-color-background: var(--sg-background-color, var(--theme-background, var(--jp-layout-color0, white)));\n",
       "  --sklearn-color-border-box: var(--sg-text-color, var(--theme-code-foreground, var(--jp-content-font-color1, black)));\n",
       "  --sklearn-color-icon: #696969;\n",
       "\n",
       "  @media (prefers-color-scheme: dark) {\n",
       "    /* Redefinition of color scheme for dark theme */\n",
       "    --sklearn-color-text-on-default-background: var(--sg-text-color, var(--theme-code-foreground, var(--jp-content-font-color1, white)));\n",
       "    --sklearn-color-background: var(--sg-background-color, var(--theme-background, var(--jp-layout-color0, #111)));\n",
       "    --sklearn-color-border-box: var(--sg-text-color, var(--theme-code-foreground, var(--jp-content-font-color1, white)));\n",
       "    --sklearn-color-icon: #878787;\n",
       "  }\n",
       "}\n",
       "\n",
       "#sk-container-id-2 {\n",
       "  color: var(--sklearn-color-text);\n",
       "}\n",
       "\n",
       "#sk-container-id-2 pre {\n",
       "  padding: 0;\n",
       "}\n",
       "\n",
       "#sk-container-id-2 input.sk-hidden--visually {\n",
       "  border: 0;\n",
       "  clip: rect(1px 1px 1px 1px);\n",
       "  clip: rect(1px, 1px, 1px, 1px);\n",
       "  height: 1px;\n",
       "  margin: -1px;\n",
       "  overflow: hidden;\n",
       "  padding: 0;\n",
       "  position: absolute;\n",
       "  width: 1px;\n",
       "}\n",
       "\n",
       "#sk-container-id-2 div.sk-dashed-wrapped {\n",
       "  border: 1px dashed var(--sklearn-color-line);\n",
       "  margin: 0 0.4em 0.5em 0.4em;\n",
       "  box-sizing: border-box;\n",
       "  padding-bottom: 0.4em;\n",
       "  background-color: var(--sklearn-color-background);\n",
       "}\n",
       "\n",
       "#sk-container-id-2 div.sk-container {\n",
       "  /* jupyter's `normalize.less` sets `[hidden] { display: none; }`\n",
       "     but bootstrap.min.css set `[hidden] { display: none !important; }`\n",
       "     so we also need the `!important` here to be able to override the\n",
       "     default hidden behavior on the sphinx rendered scikit-learn.org.\n",
       "     See: https://github.com/scikit-learn/scikit-learn/issues/21755 */\n",
       "  display: inline-block !important;\n",
       "  position: relative;\n",
       "}\n",
       "\n",
       "#sk-container-id-2 div.sk-text-repr-fallback {\n",
       "  display: none;\n",
       "}\n",
       "\n",
       "div.sk-parallel-item,\n",
       "div.sk-serial,\n",
       "div.sk-item {\n",
       "  /* draw centered vertical line to link estimators */\n",
       "  background-image: linear-gradient(var(--sklearn-color-text-on-default-background), var(--sklearn-color-text-on-default-background));\n",
       "  background-size: 2px 100%;\n",
       "  background-repeat: no-repeat;\n",
       "  background-position: center center;\n",
       "}\n",
       "\n",
       "/* Parallel-specific style estimator block */\n",
       "\n",
       "#sk-container-id-2 div.sk-parallel-item::after {\n",
       "  content: \"\";\n",
       "  width: 100%;\n",
       "  border-bottom: 2px solid var(--sklearn-color-text-on-default-background);\n",
       "  flex-grow: 1;\n",
       "}\n",
       "\n",
       "#sk-container-id-2 div.sk-parallel {\n",
       "  display: flex;\n",
       "  align-items: stretch;\n",
       "  justify-content: center;\n",
       "  background-color: var(--sklearn-color-background);\n",
       "  position: relative;\n",
       "}\n",
       "\n",
       "#sk-container-id-2 div.sk-parallel-item {\n",
       "  display: flex;\n",
       "  flex-direction: column;\n",
       "}\n",
       "\n",
       "#sk-container-id-2 div.sk-parallel-item:first-child::after {\n",
       "  align-self: flex-end;\n",
       "  width: 50%;\n",
       "}\n",
       "\n",
       "#sk-container-id-2 div.sk-parallel-item:last-child::after {\n",
       "  align-self: flex-start;\n",
       "  width: 50%;\n",
       "}\n",
       "\n",
       "#sk-container-id-2 div.sk-parallel-item:only-child::after {\n",
       "  width: 0;\n",
       "}\n",
       "\n",
       "/* Serial-specific style estimator block */\n",
       "\n",
       "#sk-container-id-2 div.sk-serial {\n",
       "  display: flex;\n",
       "  flex-direction: column;\n",
       "  align-items: center;\n",
       "  background-color: var(--sklearn-color-background);\n",
       "  padding-right: 1em;\n",
       "  padding-left: 1em;\n",
       "}\n",
       "\n",
       "\n",
       "/* Toggleable style: style used for estimator/Pipeline/ColumnTransformer box that is\n",
       "clickable and can be expanded/collapsed.\n",
       "- Pipeline and ColumnTransformer use this feature and define the default style\n",
       "- Estimators will overwrite some part of the style using the `sk-estimator` class\n",
       "*/\n",
       "\n",
       "/* Pipeline and ColumnTransformer style (default) */\n",
       "\n",
       "#sk-container-id-2 div.sk-toggleable {\n",
       "  /* Default theme specific background. It is overwritten whether we have a\n",
       "  specific estimator or a Pipeline/ColumnTransformer */\n",
       "  background-color: var(--sklearn-color-background);\n",
       "}\n",
       "\n",
       "/* Toggleable label */\n",
       "#sk-container-id-2 label.sk-toggleable__label {\n",
       "  cursor: pointer;\n",
       "  display: flex;\n",
       "  width: 100%;\n",
       "  margin-bottom: 0;\n",
       "  padding: 0.5em;\n",
       "  box-sizing: border-box;\n",
       "  text-align: center;\n",
       "  align-items: start;\n",
       "  justify-content: space-between;\n",
       "  gap: 0.5em;\n",
       "}\n",
       "\n",
       "#sk-container-id-2 label.sk-toggleable__label .caption {\n",
       "  font-size: 0.6rem;\n",
       "  font-weight: lighter;\n",
       "  color: var(--sklearn-color-text-muted);\n",
       "}\n",
       "\n",
       "#sk-container-id-2 label.sk-toggleable__label-arrow:before {\n",
       "  /* Arrow on the left of the label */\n",
       "  content: \"▸\";\n",
       "  float: left;\n",
       "  margin-right: 0.25em;\n",
       "  color: var(--sklearn-color-icon);\n",
       "}\n",
       "\n",
       "#sk-container-id-2 label.sk-toggleable__label-arrow:hover:before {\n",
       "  color: var(--sklearn-color-text);\n",
       "}\n",
       "\n",
       "/* Toggleable content - dropdown */\n",
       "\n",
       "#sk-container-id-2 div.sk-toggleable__content {\n",
       "  max-height: 0;\n",
       "  max-width: 0;\n",
       "  overflow: hidden;\n",
       "  text-align: left;\n",
       "  /* unfitted */\n",
       "  background-color: var(--sklearn-color-unfitted-level-0);\n",
       "}\n",
       "\n",
       "#sk-container-id-2 div.sk-toggleable__content.fitted {\n",
       "  /* fitted */\n",
       "  background-color: var(--sklearn-color-fitted-level-0);\n",
       "}\n",
       "\n",
       "#sk-container-id-2 div.sk-toggleable__content pre {\n",
       "  margin: 0.2em;\n",
       "  border-radius: 0.25em;\n",
       "  color: var(--sklearn-color-text);\n",
       "  /* unfitted */\n",
       "  background-color: var(--sklearn-color-unfitted-level-0);\n",
       "}\n",
       "\n",
       "#sk-container-id-2 div.sk-toggleable__content.fitted pre {\n",
       "  /* unfitted */\n",
       "  background-color: var(--sklearn-color-fitted-level-0);\n",
       "}\n",
       "\n",
       "#sk-container-id-2 input.sk-toggleable__control:checked~div.sk-toggleable__content {\n",
       "  /* Expand drop-down */\n",
       "  max-height: 200px;\n",
       "  max-width: 100%;\n",
       "  overflow: auto;\n",
       "}\n",
       "\n",
       "#sk-container-id-2 input.sk-toggleable__control:checked~label.sk-toggleable__label-arrow:before {\n",
       "  content: \"▾\";\n",
       "}\n",
       "\n",
       "/* Pipeline/ColumnTransformer-specific style */\n",
       "\n",
       "#sk-container-id-2 div.sk-label input.sk-toggleable__control:checked~label.sk-toggleable__label {\n",
       "  color: var(--sklearn-color-text);\n",
       "  background-color: var(--sklearn-color-unfitted-level-2);\n",
       "}\n",
       "\n",
       "#sk-container-id-2 div.sk-label.fitted input.sk-toggleable__control:checked~label.sk-toggleable__label {\n",
       "  background-color: var(--sklearn-color-fitted-level-2);\n",
       "}\n",
       "\n",
       "/* Estimator-specific style */\n",
       "\n",
       "/* Colorize estimator box */\n",
       "#sk-container-id-2 div.sk-estimator input.sk-toggleable__control:checked~label.sk-toggleable__label {\n",
       "  /* unfitted */\n",
       "  background-color: var(--sklearn-color-unfitted-level-2);\n",
       "}\n",
       "\n",
       "#sk-container-id-2 div.sk-estimator.fitted input.sk-toggleable__control:checked~label.sk-toggleable__label {\n",
       "  /* fitted */\n",
       "  background-color: var(--sklearn-color-fitted-level-2);\n",
       "}\n",
       "\n",
       "#sk-container-id-2 div.sk-label label.sk-toggleable__label,\n",
       "#sk-container-id-2 div.sk-label label {\n",
       "  /* The background is the default theme color */\n",
       "  color: var(--sklearn-color-text-on-default-background);\n",
       "}\n",
       "\n",
       "/* On hover, darken the color of the background */\n",
       "#sk-container-id-2 div.sk-label:hover label.sk-toggleable__label {\n",
       "  color: var(--sklearn-color-text);\n",
       "  background-color: var(--sklearn-color-unfitted-level-2);\n",
       "}\n",
       "\n",
       "/* Label box, darken color on hover, fitted */\n",
       "#sk-container-id-2 div.sk-label.fitted:hover label.sk-toggleable__label.fitted {\n",
       "  color: var(--sklearn-color-text);\n",
       "  background-color: var(--sklearn-color-fitted-level-2);\n",
       "}\n",
       "\n",
       "/* Estimator label */\n",
       "\n",
       "#sk-container-id-2 div.sk-label label {\n",
       "  font-family: monospace;\n",
       "  font-weight: bold;\n",
       "  display: inline-block;\n",
       "  line-height: 1.2em;\n",
       "}\n",
       "\n",
       "#sk-container-id-2 div.sk-label-container {\n",
       "  text-align: center;\n",
       "}\n",
       "\n",
       "/* Estimator-specific */\n",
       "#sk-container-id-2 div.sk-estimator {\n",
       "  font-family: monospace;\n",
       "  border: 1px dotted var(--sklearn-color-border-box);\n",
       "  border-radius: 0.25em;\n",
       "  box-sizing: border-box;\n",
       "  margin-bottom: 0.5em;\n",
       "  /* unfitted */\n",
       "  background-color: var(--sklearn-color-unfitted-level-0);\n",
       "}\n",
       "\n",
       "#sk-container-id-2 div.sk-estimator.fitted {\n",
       "  /* fitted */\n",
       "  background-color: var(--sklearn-color-fitted-level-0);\n",
       "}\n",
       "\n",
       "/* on hover */\n",
       "#sk-container-id-2 div.sk-estimator:hover {\n",
       "  /* unfitted */\n",
       "  background-color: var(--sklearn-color-unfitted-level-2);\n",
       "}\n",
       "\n",
       "#sk-container-id-2 div.sk-estimator.fitted:hover {\n",
       "  /* fitted */\n",
       "  background-color: var(--sklearn-color-fitted-level-2);\n",
       "}\n",
       "\n",
       "/* Specification for estimator info (e.g. \"i\" and \"?\") */\n",
       "\n",
       "/* Common style for \"i\" and \"?\" */\n",
       "\n",
       ".sk-estimator-doc-link,\n",
       "a:link.sk-estimator-doc-link,\n",
       "a:visited.sk-estimator-doc-link {\n",
       "  float: right;\n",
       "  font-size: smaller;\n",
       "  line-height: 1em;\n",
       "  font-family: monospace;\n",
       "  background-color: var(--sklearn-color-background);\n",
       "  border-radius: 1em;\n",
       "  height: 1em;\n",
       "  width: 1em;\n",
       "  text-decoration: none !important;\n",
       "  margin-left: 0.5em;\n",
       "  text-align: center;\n",
       "  /* unfitted */\n",
       "  border: var(--sklearn-color-unfitted-level-1) 1pt solid;\n",
       "  color: var(--sklearn-color-unfitted-level-1);\n",
       "}\n",
       "\n",
       ".sk-estimator-doc-link.fitted,\n",
       "a:link.sk-estimator-doc-link.fitted,\n",
       "a:visited.sk-estimator-doc-link.fitted {\n",
       "  /* fitted */\n",
       "  border: var(--sklearn-color-fitted-level-1) 1pt solid;\n",
       "  color: var(--sklearn-color-fitted-level-1);\n",
       "}\n",
       "\n",
       "/* On hover */\n",
       "div.sk-estimator:hover .sk-estimator-doc-link:hover,\n",
       ".sk-estimator-doc-link:hover,\n",
       "div.sk-label-container:hover .sk-estimator-doc-link:hover,\n",
       ".sk-estimator-doc-link:hover {\n",
       "  /* unfitted */\n",
       "  background-color: var(--sklearn-color-unfitted-level-3);\n",
       "  color: var(--sklearn-color-background);\n",
       "  text-decoration: none;\n",
       "}\n",
       "\n",
       "div.sk-estimator.fitted:hover .sk-estimator-doc-link.fitted:hover,\n",
       ".sk-estimator-doc-link.fitted:hover,\n",
       "div.sk-label-container:hover .sk-estimator-doc-link.fitted:hover,\n",
       ".sk-estimator-doc-link.fitted:hover {\n",
       "  /* fitted */\n",
       "  background-color: var(--sklearn-color-fitted-level-3);\n",
       "  color: var(--sklearn-color-background);\n",
       "  text-decoration: none;\n",
       "}\n",
       "\n",
       "/* Span, style for the box shown on hovering the info icon */\n",
       ".sk-estimator-doc-link span {\n",
       "  display: none;\n",
       "  z-index: 9999;\n",
       "  position: relative;\n",
       "  font-weight: normal;\n",
       "  right: .2ex;\n",
       "  padding: .5ex;\n",
       "  margin: .5ex;\n",
       "  width: min-content;\n",
       "  min-width: 20ex;\n",
       "  max-width: 50ex;\n",
       "  color: var(--sklearn-color-text);\n",
       "  box-shadow: 2pt 2pt 4pt #999;\n",
       "  /* unfitted */\n",
       "  background: var(--sklearn-color-unfitted-level-0);\n",
       "  border: .5pt solid var(--sklearn-color-unfitted-level-3);\n",
       "}\n",
       "\n",
       ".sk-estimator-doc-link.fitted span {\n",
       "  /* fitted */\n",
       "  background: var(--sklearn-color-fitted-level-0);\n",
       "  border: var(--sklearn-color-fitted-level-3);\n",
       "}\n",
       "\n",
       ".sk-estimator-doc-link:hover span {\n",
       "  display: block;\n",
       "}\n",
       "\n",
       "/* \"?\"-specific style due to the `<a>` HTML tag */\n",
       "\n",
       "#sk-container-id-2 a.estimator_doc_link {\n",
       "  float: right;\n",
       "  font-size: 1rem;\n",
       "  line-height: 1em;\n",
       "  font-family: monospace;\n",
       "  background-color: var(--sklearn-color-background);\n",
       "  border-radius: 1rem;\n",
       "  height: 1rem;\n",
       "  width: 1rem;\n",
       "  text-decoration: none;\n",
       "  /* unfitted */\n",
       "  color: var(--sklearn-color-unfitted-level-1);\n",
       "  border: var(--sklearn-color-unfitted-level-1) 1pt solid;\n",
       "}\n",
       "\n",
       "#sk-container-id-2 a.estimator_doc_link.fitted {\n",
       "  /* fitted */\n",
       "  border: var(--sklearn-color-fitted-level-1) 1pt solid;\n",
       "  color: var(--sklearn-color-fitted-level-1);\n",
       "}\n",
       "\n",
       "/* On hover */\n",
       "#sk-container-id-2 a.estimator_doc_link:hover {\n",
       "  /* unfitted */\n",
       "  background-color: var(--sklearn-color-unfitted-level-3);\n",
       "  color: var(--sklearn-color-background);\n",
       "  text-decoration: none;\n",
       "}\n",
       "\n",
       "#sk-container-id-2 a.estimator_doc_link.fitted:hover {\n",
       "  /* fitted */\n",
       "  background-color: var(--sklearn-color-fitted-level-3);\n",
       "}\n",
       "</style><div id=\"sk-container-id-2\" class=\"sk-top-container\"><div class=\"sk-text-repr-fallback\"><pre>LogisticRegression(max_iter=4741, n_jobs=-1, random_state=25, solver=&#x27;saga&#x27;)</pre><b>In a Jupyter environment, please rerun this cell to show the HTML representation or trust the notebook. <br />On GitHub, the HTML representation is unable to render, please try loading this page with nbviewer.org.</b></div><div class=\"sk-container\" hidden><div class=\"sk-item\"><div class=\"sk-estimator fitted sk-toggleable\"><input class=\"sk-toggleable__control sk-hidden--visually\" id=\"sk-estimator-id-2\" type=\"checkbox\" checked><label for=\"sk-estimator-id-2\" class=\"sk-toggleable__label fitted sk-toggleable__label-arrow\"><div><div>LogisticRegression</div></div><div><a class=\"sk-estimator-doc-link fitted\" rel=\"noreferrer\" target=\"_blank\" href=\"https://scikit-learn.org/1.6/modules/generated/sklearn.linear_model.LogisticRegression.html\">?<span>Documentation for LogisticRegression</span></a><span class=\"sk-estimator-doc-link fitted\">i<span>Fitted</span></span></div></label><div class=\"sk-toggleable__content fitted\"><pre>LogisticRegression(max_iter=4741, n_jobs=-1, random_state=25, solver=&#x27;saga&#x27;)</pre></div> </div></div></div></div>"
      ],
      "text/plain": [
       "LogisticRegression(max_iter=4741, n_jobs=-1, random_state=25, solver='saga')"
      ]
     },
     "execution_count": 24,
     "metadata": {},
     "output_type": "execute_result"
    }
   ],
   "source": [
    "clf_model = LogisticRegression(n_jobs=-1, random_state=25, max_iter=study.best_params['iters'], solver = 'saga', penalty = study.best_params['reg'])\n",
    "\n",
    "clf_model.fit(np.vstack(df['embeds']), df['is_bot'])"
   ]
  },
  {
   "cell_type": "code",
   "execution_count": 25,
   "metadata": {
    "execution": {
     "iopub.execute_input": "2025-04-26T14:29:32.432200Z",
     "iopub.status.busy": "2025-04-26T14:29:32.430201Z",
     "iopub.status.idle": "2025-04-26T14:29:32.447709Z",
     "shell.execute_reply": "2025-04-26T14:29:32.447202Z",
     "shell.execute_reply.started": "2025-04-26T14:29:32.432200Z"
    }
   },
   "outputs": [],
   "source": [
    "# X_test = df_test[\"text\"]\n",
    "test_proba = clf_model.predict_proba(embeds_t)[:, 1]\n",
    "\n",
    "preds_df = pd.DataFrame({\"ID\": df_test[\"ID\"], \"is_bot\": test_proba})\n",
    "\n",
    "preds_df.to_csv(\"preds_log_reg.csv\", index=False)"
   ]
  }
 ],
 "metadata": {
  "kernelspec": {
   "display_name": "DL",
   "language": "python",
   "name": "python3"
  },
  "language_info": {
   "codemirror_mode": {
    "name": "ipython",
    "version": 3
   },
   "file_extension": ".py",
   "mimetype": "text/x-python",
   "name": "python",
   "nbconvert_exporter": "python",
   "pygments_lexer": "ipython3",
   "version": "3.11.9"
  },
  "widgets": {
   "application/vnd.jupyter.widget-state+json": {
    "state": {
     "06614fc22c2e45c9aad658a12612100f": {
      "model_module": "@jupyter-widgets/controls",
      "model_module_version": "2.0.0",
      "model_name": "HBoxModel",
      "state": {
       "children": [
        "IPY_MODEL_6137c21cc67745a7b919c310e19952c8",
        "IPY_MODEL_ae58e6b203b943b89e940c69873992f5",
        "IPY_MODEL_f29ad6271db5462086baf95aa0de0df6"
       ],
       "layout": "IPY_MODEL_8221ba8258a44ea386af446b610ba5a3"
      }
     },
     "06d7af5b8cca4691acb83aa6ab22bafc": {
      "model_module": "@jupyter-widgets/base",
      "model_module_version": "2.0.0",
      "model_name": "LayoutModel",
      "state": {}
     },
     "086b0525b40146d2ae2568e5598addf5": {
      "model_module": "@jupyter-widgets/controls",
      "model_module_version": "2.0.0",
      "model_name": "ProgressStyleModel",
      "state": {
       "description_width": ""
      }
     },
     "08e6a9bd40db4ef394960cba9f4a8dbe": {
      "model_module": "@jupyter-widgets/base",
      "model_module_version": "2.0.0",
      "model_name": "LayoutModel",
      "state": {}
     },
     "0cce9e0d659a4d528d87761a002a2314": {
      "model_module": "@jupyter-widgets/controls",
      "model_module_version": "2.0.0",
      "model_name": "HTMLStyleModel",
      "state": {
       "description_width": "",
       "font_size": null,
       "text_color": null
      }
     },
     "14ff3a31f29545f3971f0903af0fa7bf": {
      "model_module": "@jupyter-widgets/base",
      "model_module_version": "2.0.0",
      "model_name": "LayoutModel",
      "state": {}
     },
     "172587bd669f43bbaa61b207baa2dac8": {
      "model_module": "@jupyter-widgets/base",
      "model_module_version": "2.0.0",
      "model_name": "LayoutModel",
      "state": {}
     },
     "177a0065ca1342b69261325b389968f2": {
      "model_module": "@jupyter-widgets/base",
      "model_module_version": "2.0.0",
      "model_name": "LayoutModel",
      "state": {}
     },
     "1dd4f26fafde4039ac9ae623aed7a12a": {
      "model_module": "@jupyter-widgets/base",
      "model_module_version": "2.0.0",
      "model_name": "LayoutModel",
      "state": {}
     },
     "1f144f94a9884115a66eb8cb60e29a4b": {
      "model_module": "@jupyter-widgets/base",
      "model_module_version": "2.0.0",
      "model_name": "LayoutModel",
      "state": {}
     },
     "20ad66b03601433098f78fa90cde42e6": {
      "model_module": "@jupyter-widgets/base",
      "model_module_version": "2.0.0",
      "model_name": "LayoutModel",
      "state": {}
     },
     "2123e42dfc80450badb559dca209f8b7": {
      "model_module": "@jupyter-widgets/base",
      "model_module_version": "2.0.0",
      "model_name": "LayoutModel",
      "state": {}
     },
     "22129e06573d44cc83a0c368b721a871": {
      "model_module": "@jupyter-widgets/controls",
      "model_module_version": "2.0.0",
      "model_name": "HBoxModel",
      "state": {
       "children": [
        "IPY_MODEL_42151fb386f64fb7a54c1cbb30a2ca56",
        "IPY_MODEL_bb90eeb34b9c457995cc9e768216a9c4",
        "IPY_MODEL_662d94fd6a59415ba8c0dabbcf411d79"
       ],
       "layout": "IPY_MODEL_d0df04e00a1d4e489dd92080c267a8d8"
      }
     },
     "2355c70c55824f6e905b0b25cf968f80": {
      "model_module": "@jupyter-widgets/controls",
      "model_module_version": "2.0.0",
      "model_name": "HTMLStyleModel",
      "state": {
       "description_width": "",
       "font_size": null,
       "text_color": null
      }
     },
     "243ca6c5cd5c415ebc9f917a7e819394": {
      "model_module": "@jupyter-widgets/controls",
      "model_module_version": "2.0.0",
      "model_name": "FloatProgressModel",
      "state": {
       "bar_style": "danger",
       "layout": "IPY_MODEL_14ff3a31f29545f3971f0903af0fa7bf",
       "max": 9942980280,
       "style": "IPY_MODEL_29abd2764abf43e3995c0de934e2284a",
       "value": 377487360
      }
     },
     "2615058e77714a09b78c2be2903dc08c": {
      "model_module": "@jupyter-widgets/controls",
      "model_module_version": "2.0.0",
      "model_name": "HTMLModel",
      "state": {
       "layout": "IPY_MODEL_f6627d347e8f448c9de45542885f7cea",
       "style": "IPY_MODEL_a2b4940d576a465f8f5eef8064419652",
       "value": "  0%"
      }
     },
     "29abd2764abf43e3995c0de934e2284a": {
      "model_module": "@jupyter-widgets/controls",
      "model_module_version": "2.0.0",
      "model_name": "ProgressStyleModel",
      "state": {
       "description_width": ""
      }
     },
     "300c21bf51744eb5b70610381d03f4ea": {
      "model_module": "@jupyter-widgets/controls",
      "model_module_version": "2.0.0",
      "model_name": "HTMLStyleModel",
      "state": {
       "description_width": "",
       "font_size": null,
       "text_color": null
      }
     },
     "30ddcc54952b490288581bb37085a25b": {
      "model_module": "@jupyter-widgets/controls",
      "model_module_version": "2.0.0",
      "model_name": "HTMLModel",
      "state": {
       "layout": "IPY_MODEL_177a0065ca1342b69261325b389968f2",
       "style": "IPY_MODEL_3cc5ef8367c84395b0adb124949c9be0",
       "value": " 0/393 [00:00&lt;?, ?it/s]"
      }
     },
     "30f9399d38004c0c9361f6d1db855b27": {
      "model_module": "@jupyter-widgets/controls",
      "model_module_version": "2.0.0",
      "model_name": "HTMLStyleModel",
      "state": {
       "description_width": "",
       "font_size": null,
       "text_color": null
      }
     },
     "32a55dab0753423d957c73d449ecb04a": {
      "model_module": "@jupyter-widgets/controls",
      "model_module_version": "2.0.0",
      "model_name": "HTMLStyleModel",
      "state": {
       "description_width": "",
       "font_size": null,
       "text_color": null
      }
     },
     "343295aab82d4f109c8f400640934912": {
      "model_module": "@jupyter-widgets/controls",
      "model_module_version": "2.0.0",
      "model_name": "FloatProgressModel",
      "state": {
       "bar_style": "danger",
       "layout": "IPY_MODEL_80681ff7b84a4fc48787df30e9d5aae5",
       "max": 393,
       "style": "IPY_MODEL_78f53ed2ca2a4eaebd87609a4ce8d391"
      }
     },
     "34e1bbc059f94520a019e25b0758059d": {
      "model_module": "@jupyter-widgets/controls",
      "model_module_version": "2.0.0",
      "model_name": "HBoxModel",
      "state": {
       "children": [
        "IPY_MODEL_eb7127a678094e3299117b859f5fa484",
        "IPY_MODEL_243ca6c5cd5c415ebc9f917a7e819394",
        "IPY_MODEL_59d80b6c276a40acaaf0d0a36af93875"
       ],
       "layout": "IPY_MODEL_6ace5e902a89454f958298535a39772c"
      }
     },
     "3751d38a18f34fc2887b3981d27141c2": {
      "model_module": "@jupyter-widgets/base",
      "model_module_version": "2.0.0",
      "model_name": "LayoutModel",
      "state": {}
     },
     "377d7561774c49e78c60346bfdea0849": {
      "model_module": "@jupyter-widgets/base",
      "model_module_version": "2.0.0",
      "model_name": "LayoutModel",
      "state": {}
     },
     "3b37462df9e0446f984e96ca3d53b032": {
      "model_module": "@jupyter-widgets/controls",
      "model_module_version": "2.0.0",
      "model_name": "HTMLModel",
      "state": {
       "layout": "IPY_MODEL_5bb8605a3a06464c93aaf72dd32e63ff",
       "style": "IPY_MODEL_4d6ef9581c504b75aa9fdabd9d2bb8d1",
       "value": " 629/629 [00:00&lt;00:00, 114kB/s]"
      }
     },
     "3cc5ef8367c84395b0adb124949c9be0": {
      "model_module": "@jupyter-widgets/controls",
      "model_module_version": "2.0.0",
      "model_name": "HTMLStyleModel",
      "state": {
       "description_width": "",
       "font_size": null,
       "text_color": null
      }
     },
     "3d2a04a958804fa9a3c805ac9904e615": {
      "model_module": "@jupyter-widgets/controls",
      "model_module_version": "2.0.0",
      "model_name": "HBoxModel",
      "state": {
       "children": [
        "IPY_MODEL_7313259039d34cbfbaa018291af8a883",
        "IPY_MODEL_749cba2178f04dcfb2909d3b4320b60b",
        "IPY_MODEL_3b37462df9e0446f984e96ca3d53b032"
       ],
       "layout": "IPY_MODEL_b628dd19bc7e404582b62d15d15ae7f8"
      }
     },
     "3e30e32c9d9f4e98afff2ea95deac506": {
      "model_module": "@jupyter-widgets/controls",
      "model_module_version": "2.0.0",
      "model_name": "ProgressStyleModel",
      "state": {
       "description_width": ""
      }
     },
     "40dfd4d4ada94822af6c671e8a8222ee": {
      "model_module": "@jupyter-widgets/controls",
      "model_module_version": "2.0.0",
      "model_name": "HTMLModel",
      "state": {
       "layout": "IPY_MODEL_9bed325e1b7f47b498ca35d021a1d329",
       "style": "IPY_MODEL_42922de52ec341418bac5ef4611dbc65",
       "value": "README.md: 100%"
      }
     },
     "42151fb386f64fb7a54c1cbb30a2ca56": {
      "model_module": "@jupyter-widgets/controls",
      "model_module_version": "2.0.0",
      "model_name": "HTMLModel",
      "state": {
       "layout": "IPY_MODEL_460d9e0afbc44bc393ec59ba33859301",
       "style": "IPY_MODEL_32a55dab0753423d957c73d449ecb04a",
       "value": "100%"
      }
     },
     "42922de52ec341418bac5ef4611dbc65": {
      "model_module": "@jupyter-widgets/controls",
      "model_module_version": "2.0.0",
      "model_name": "HTMLStyleModel",
      "state": {
       "description_width": "",
       "font_size": null,
       "text_color": null
      }
     },
     "42fe20bc5b544f2f83e2573fbf44ea89": {
      "model_module": "@jupyter-widgets/base",
      "model_module_version": "2.0.0",
      "model_name": "LayoutModel",
      "state": {}
     },
     "43ce0fc6c54c4c13acdbfc1abe349e02": {
      "model_module": "@jupyter-widgets/controls",
      "model_module_version": "2.0.0",
      "model_name": "HTMLStyleModel",
      "state": {
       "description_width": "",
       "font_size": null,
       "text_color": null
      }
     },
     "460d9e0afbc44bc393ec59ba33859301": {
      "model_module": "@jupyter-widgets/base",
      "model_module_version": "2.0.0",
      "model_name": "LayoutModel",
      "state": {}
     },
     "46beb4dcc6dd48c48f17cacea0d87533": {
      "model_module": "@jupyter-widgets/base",
      "model_module_version": "2.0.0",
      "model_name": "LayoutModel",
      "state": {}
     },
     "48327490eab24d6c9d81cd65089ee261": {
      "model_module": "@jupyter-widgets/controls",
      "model_module_version": "2.0.0",
      "model_name": "ProgressStyleModel",
      "state": {
       "description_width": ""
      }
     },
     "4a15ee3294e849eba7dec58224556fc2": {
      "model_module": "@jupyter-widgets/base",
      "model_module_version": "2.0.0",
      "model_name": "LayoutModel",
      "state": {}
     },
     "4a2a6f4693e54d7f993df2bf90b032ea": {
      "model_module": "@jupyter-widgets/base",
      "model_module_version": "2.0.0",
      "model_name": "LayoutModel",
      "state": {}
     },
     "4c83672f1b3a4ba78b4669193feb8f7a": {
      "model_module": "@jupyter-widgets/controls",
      "model_module_version": "2.0.0",
      "model_name": "FloatProgressModel",
      "state": {
       "bar_style": "success",
       "layout": "IPY_MODEL_597ed8360d4b411491d0d524f10287c7",
       "max": 23323,
       "style": "IPY_MODEL_3e30e32c9d9f4e98afff2ea95deac506",
       "value": 23323
      }
     },
     "4d6ef9581c504b75aa9fdabd9d2bb8d1": {
      "model_module": "@jupyter-widgets/controls",
      "model_module_version": "2.0.0",
      "model_name": "HTMLStyleModel",
      "state": {
       "description_width": "",
       "font_size": null,
       "text_color": null
      }
     },
     "4e22eb9883574edaa2bfbbbe9db9b5fe": {
      "model_module": "@jupyter-widgets/controls",
      "model_module_version": "2.0.0",
      "model_name": "HBoxModel",
      "state": {
       "children": [
        "IPY_MODEL_40dfd4d4ada94822af6c671e8a8222ee",
        "IPY_MODEL_ba38ab91ba944bbaa2595aadf131f19c",
        "IPY_MODEL_d062f232180b47c0a889be9f76543538"
       ],
       "layout": "IPY_MODEL_c5cbf23b8f4c477293c9011a3c0bcb7d"
      }
     },
     "53663e3f747542c79cc8394d2e070ef3": {
      "model_module": "@jupyter-widgets/controls",
      "model_module_version": "2.0.0",
      "model_name": "FloatProgressModel",
      "state": {
       "bar_style": "success",
       "layout": "IPY_MODEL_a7b2e22eedb54a9eb50727ed4e76b2d2",
       "max": 393,
       "style": "IPY_MODEL_9c9e380b63004d95b4e51c9d954af820",
       "value": 393
      }
     },
     "5824abc872e048819e81ea98a0198a10": {
      "model_module": "@jupyter-widgets/base",
      "model_module_version": "2.0.0",
      "model_name": "LayoutModel",
      "state": {}
     },
     "597ed8360d4b411491d0d524f10287c7": {
      "model_module": "@jupyter-widgets/base",
      "model_module_version": "2.0.0",
      "model_name": "LayoutModel",
      "state": {}
     },
     "59972c0910574ee893583f70de1e38c9": {
      "model_module": "@jupyter-widgets/controls",
      "model_module_version": "2.0.0",
      "model_name": "HTMLModel",
      "state": {
       "layout": "IPY_MODEL_a9d714fb31a741c5a437f1ce5520e901",
       "style": "IPY_MODEL_b8ae50973e65496e8bf82002f27d66ab",
       "value": " 393/393 [00:24&lt;00:00, 12.36it/s]"
      }
     },
     "59d80b6c276a40acaaf0d0a36af93875": {
      "model_module": "@jupyter-widgets/controls",
      "model_module_version": "2.0.0",
      "model_name": "HTMLModel",
      "state": {
       "layout": "IPY_MODEL_20ad66b03601433098f78fa90cde42e6",
       "style": "IPY_MODEL_f73d0f932d6d423a8fc02415c2c347bf",
       "value": " 377M/9.94G [00:06&lt;02:17, 69.3MB/s]"
      }
     },
     "5bb8605a3a06464c93aaf72dd32e63ff": {
      "model_module": "@jupyter-widgets/base",
      "model_module_version": "2.0.0",
      "model_name": "LayoutModel",
      "state": {}
     },
     "6137c21cc67745a7b919c310e19952c8": {
      "model_module": "@jupyter-widgets/controls",
      "model_module_version": "2.0.0",
      "model_name": "HTMLModel",
      "state": {
       "layout": "IPY_MODEL_b5234c18167f44bab1025bcd3ed07cc0",
       "style": "IPY_MODEL_872f84c8cae44251b7d2a3402065423d",
       "value": "config_sentence_transformers.json: 100%"
      }
     },
     "62e67c8dba04453bb3227774f5354126": {
      "model_module": "@jupyter-widgets/controls",
      "model_module_version": "2.0.0",
      "model_name": "FloatProgressModel",
      "state": {
       "bar_style": "success",
       "layout": "IPY_MODEL_172587bd669f43bbaa61b207baa2dac8",
       "max": 349,
       "style": "IPY_MODEL_f8f631a043844d1bb455048c77943c8b",
       "value": 349
      }
     },
     "636da4a0df8a4ad5ae6ea4a1d93dc2aa": {
      "model_module": "@jupyter-widgets/controls",
      "model_module_version": "2.0.0",
      "model_name": "HTMLStyleModel",
      "state": {
       "description_width": "",
       "font_size": null,
       "text_color": null
      }
     },
     "64307b23f5dc464994de497adae80f99": {
      "model_module": "@jupyter-widgets/base",
      "model_module_version": "2.0.0",
      "model_name": "LayoutModel",
      "state": {}
     },
     "646fe076b85c4c5784bb90f7bbcb1dfe": {
      "model_module": "@jupyter-widgets/controls",
      "model_module_version": "2.0.0",
      "model_name": "HTMLStyleModel",
      "state": {
       "description_width": "",
       "font_size": null,
       "text_color": null
      }
     },
     "662d94fd6a59415ba8c0dabbcf411d79": {
      "model_module": "@jupyter-widgets/controls",
      "model_module_version": "2.0.0",
      "model_name": "HTMLModel",
      "state": {
       "layout": "IPY_MODEL_1f144f94a9884115a66eb8cb60e29a4b",
       "style": "IPY_MODEL_9313b5b44ea24ec483cef52d37a3eb89",
       "value": " 169/169 [00:08&lt;00:00, 14.40it/s]"
      }
     },
     "6ace5e902a89454f958298535a39772c": {
      "model_module": "@jupyter-widgets/base",
      "model_module_version": "2.0.0",
      "model_name": "LayoutModel",
      "state": {}
     },
     "6e0b2bfa402f4a188cfe99e1a497eff0": {
      "model_module": "@jupyter-widgets/base",
      "model_module_version": "2.0.0",
      "model_name": "LayoutModel",
      "state": {}
     },
     "6e1b51862ad74a12a3e0f8c23242a4c6": {
      "model_module": "@jupyter-widgets/controls",
      "model_module_version": "2.0.0",
      "model_name": "HTMLModel",
      "state": {
       "layout": "IPY_MODEL_4a15ee3294e849eba7dec58224556fc2",
       "style": "IPY_MODEL_829087e8187f4bae98c87bff07da9fc7",
       "value": "model.safetensors.index.json: 100%"
      }
     },
     "7313259039d34cbfbaa018291af8a883": {
      "model_module": "@jupyter-widgets/controls",
      "model_module_version": "2.0.0",
      "model_name": "HTMLModel",
      "state": {
       "layout": "IPY_MODEL_42fe20bc5b544f2f83e2573fbf44ea89",
       "style": "IPY_MODEL_f903548db4574da3a892da84cc699799",
       "value": "config.json: 100%"
      }
     },
     "734fbbc476094cf59391f883c80e26dd": {
      "model_module": "@jupyter-widgets/controls",
      "model_module_version": "2.0.0",
      "model_name": "HTMLModel",
      "state": {
       "layout": "IPY_MODEL_64307b23f5dc464994de497adae80f99",
       "style": "IPY_MODEL_cce864140dbb4f2b81ef4778d31eb666",
       "value": "100%"
      }
     },
     "749cba2178f04dcfb2909d3b4320b60b": {
      "model_module": "@jupyter-widgets/controls",
      "model_module_version": "2.0.0",
      "model_name": "FloatProgressModel",
      "state": {
       "bar_style": "success",
       "layout": "IPY_MODEL_1dd4f26fafde4039ac9ae623aed7a12a",
       "max": 629,
       "style": "IPY_MODEL_c09f01573b9f4d87bd3fe14f02cd8c3b",
       "value": 629
      }
     },
     "77328912b78942eebee97b2abede2e13": {
      "model_module": "@jupyter-widgets/controls",
      "model_module_version": "2.0.0",
      "model_name": "HTMLModel",
      "state": {
       "layout": "IPY_MODEL_ba36a714b6494227bdabc2b055fb4761",
       "style": "IPY_MODEL_f8ec886661c8415cb3f077e91e45f4d6",
       "value": "modules.json: 100%"
      }
     },
     "77bbd257b4714fc8b477a2c418515bae": {
      "model_module": "@jupyter-widgets/base",
      "model_module_version": "2.0.0",
      "model_name": "LayoutModel",
      "state": {}
     },
     "78f53ed2ca2a4eaebd87609a4ce8d391": {
      "model_module": "@jupyter-widgets/controls",
      "model_module_version": "2.0.0",
      "model_name": "ProgressStyleModel",
      "state": {
       "description_width": ""
      }
     },
     "797be905222e469c872383c838f796a7": {
      "model_module": "@jupyter-widgets/controls",
      "model_module_version": "2.0.0",
      "model_name": "HBoxModel",
      "state": {
       "children": [
        "IPY_MODEL_d01b6c319ac749df9b2ac6402174792b",
        "IPY_MODEL_81caa2a1801e4800b02796109ac0561f",
        "IPY_MODEL_d52a9ccdeb2f455b99b1fa592d1717a1"
       ],
       "layout": "IPY_MODEL_878ecd9dabdd416c8d10f265c7dcf002"
      }
     },
     "7fb58841a4b04f698f381612d30ee8a0": {
      "model_module": "@jupyter-widgets/controls",
      "model_module_version": "2.0.0",
      "model_name": "FloatProgressModel",
      "state": {
       "bar_style": "success",
       "layout": "IPY_MODEL_3751d38a18f34fc2887b3981d27141c2",
       "max": 55,
       "style": "IPY_MODEL_48327490eab24d6c9d81cd65089ee261",
       "value": 55
      }
     },
     "80681ff7b84a4fc48787df30e9d5aae5": {
      "model_module": "@jupyter-widgets/base",
      "model_module_version": "2.0.0",
      "model_name": "LayoutModel",
      "state": {}
     },
     "81caa2a1801e4800b02796109ac0561f": {
      "model_module": "@jupyter-widgets/controls",
      "model_module_version": "2.0.0",
      "model_name": "FloatProgressModel",
      "state": {
       "bar_style": "danger",
       "layout": "IPY_MODEL_377d7561774c49e78c60346bfdea0849",
       "max": 2,
       "style": "IPY_MODEL_92c9b4be84d14f1cb377562e05b29ce8"
      }
     },
     "8221ba8258a44ea386af446b610ba5a3": {
      "model_module": "@jupyter-widgets/base",
      "model_module_version": "2.0.0",
      "model_name": "LayoutModel",
      "state": {}
     },
     "829087e8187f4bae98c87bff07da9fc7": {
      "model_module": "@jupyter-widgets/controls",
      "model_module_version": "2.0.0",
      "model_name": "HTMLStyleModel",
      "state": {
       "description_width": "",
       "font_size": null,
       "text_color": null
      }
     },
     "872f84c8cae44251b7d2a3402065423d": {
      "model_module": "@jupyter-widgets/controls",
      "model_module_version": "2.0.0",
      "model_name": "HTMLStyleModel",
      "state": {
       "description_width": "",
       "font_size": null,
       "text_color": null
      }
     },
     "87307895a3644cbc96bf20c36b4d25cb": {
      "model_module": "@jupyter-widgets/base",
      "model_module_version": "2.0.0",
      "model_name": "LayoutModel",
      "state": {}
     },
     "878ecd9dabdd416c8d10f265c7dcf002": {
      "model_module": "@jupyter-widgets/base",
      "model_module_version": "2.0.0",
      "model_name": "LayoutModel",
      "state": {}
     },
     "888395a83c314e9197ea63f12e9377b1": {
      "model_module": "@jupyter-widgets/controls",
      "model_module_version": "2.0.0",
      "model_name": "HBoxModel",
      "state": {
       "children": [
        "IPY_MODEL_f01124e94c164a9395194f3706c37427",
        "IPY_MODEL_7fb58841a4b04f698f381612d30ee8a0",
        "IPY_MODEL_9a3e91a5bba94d6eb57c12fee6a96ce2"
       ],
       "layout": "IPY_MODEL_87307895a3644cbc96bf20c36b4d25cb"
      }
     },
     "8b34a209b2f14667a8693008c1a08562": {
      "model_module": "@jupyter-widgets/base",
      "model_module_version": "2.0.0",
      "model_name": "LayoutModel",
      "state": {}
     },
     "92c9b4be84d14f1cb377562e05b29ce8": {
      "model_module": "@jupyter-widgets/controls",
      "model_module_version": "2.0.0",
      "model_name": "ProgressStyleModel",
      "state": {
       "description_width": ""
      }
     },
     "9313b5b44ea24ec483cef52d37a3eb89": {
      "model_module": "@jupyter-widgets/controls",
      "model_module_version": "2.0.0",
      "model_name": "HTMLStyleModel",
      "state": {
       "description_width": "",
       "font_size": null,
       "text_color": null
      }
     },
     "955c27c236f44c2b892fb8c4a917f402": {
      "model_module": "@jupyter-widgets/controls",
      "model_module_version": "2.0.0",
      "model_name": "HTMLStyleModel",
      "state": {
       "description_width": "",
       "font_size": null,
       "text_color": null
      }
     },
     "99959925add540b3b00b1336217f24d1": {
      "model_module": "@jupyter-widgets/base",
      "model_module_version": "2.0.0",
      "model_name": "LayoutModel",
      "state": {}
     },
     "9a3e91a5bba94d6eb57c12fee6a96ce2": {
      "model_module": "@jupyter-widgets/controls",
      "model_module_version": "2.0.0",
      "model_name": "HTMLModel",
      "state": {
       "layout": "IPY_MODEL_2123e42dfc80450badb559dca209f8b7",
       "style": "IPY_MODEL_0cce9e0d659a4d528d87761a002a2314",
       "value": " 55.0/55.0 [00:00&lt;00:00, 13.7kB/s]"
      }
     },
     "9bed325e1b7f47b498ca35d021a1d329": {
      "model_module": "@jupyter-widgets/base",
      "model_module_version": "2.0.0",
      "model_name": "LayoutModel",
      "state": {}
     },
     "9c9e380b63004d95b4e51c9d954af820": {
      "model_module": "@jupyter-widgets/controls",
      "model_module_version": "2.0.0",
      "model_name": "ProgressStyleModel",
      "state": {
       "description_width": ""
      }
     },
     "9da15e4887134520ae079d276b61b6d9": {
      "model_module": "@jupyter-widgets/controls",
      "model_module_version": "2.0.0",
      "model_name": "HTMLModel",
      "state": {
       "layout": "IPY_MODEL_c62099d61c054a928a952aeb46a023f3",
       "style": "IPY_MODEL_300c21bf51744eb5b70610381d03f4ea",
       "value": " 23.3k/23.3k [00:00&lt;00:00, 3.89MB/s]"
      }
     },
     "a2b4940d576a465f8f5eef8064419652": {
      "model_module": "@jupyter-widgets/controls",
      "model_module_version": "2.0.0",
      "model_name": "HTMLStyleModel",
      "state": {
       "description_width": "",
       "font_size": null,
       "text_color": null
      }
     },
     "a7b2e22eedb54a9eb50727ed4e76b2d2": {
      "model_module": "@jupyter-widgets/base",
      "model_module_version": "2.0.0",
      "model_name": "LayoutModel",
      "state": {}
     },
     "a947719020c34f7c8083755167c1ba7f": {
      "model_module": "@jupyter-widgets/controls",
      "model_module_version": "2.0.0",
      "model_name": "ProgressStyleModel",
      "state": {
       "description_width": ""
      }
     },
     "a9d714fb31a741c5a437f1ce5520e901": {
      "model_module": "@jupyter-widgets/base",
      "model_module_version": "2.0.0",
      "model_name": "LayoutModel",
      "state": {}
     },
     "ae58e6b203b943b89e940c69873992f5": {
      "model_module": "@jupyter-widgets/controls",
      "model_module_version": "2.0.0",
      "model_name": "FloatProgressModel",
      "state": {
       "bar_style": "success",
       "layout": "IPY_MODEL_8b34a209b2f14667a8693008c1a08562",
       "max": 557,
       "style": "IPY_MODEL_aeafd48b758941508b1de61b70dc69fc",
       "value": 557
      }
     },
     "aeafd48b758941508b1de61b70dc69fc": {
      "model_module": "@jupyter-widgets/controls",
      "model_module_version": "2.0.0",
      "model_name": "ProgressStyleModel",
      "state": {
       "description_width": ""
      }
     },
     "af3707b75cf84007b94636308bda7ec1": {
      "model_module": "@jupyter-widgets/base",
      "model_module_version": "2.0.0",
      "model_name": "LayoutModel",
      "state": {}
     },
     "b5234c18167f44bab1025bcd3ed07cc0": {
      "model_module": "@jupyter-widgets/base",
      "model_module_version": "2.0.0",
      "model_name": "LayoutModel",
      "state": {}
     },
     "b562b708cf61460d98cf8af10b3ab00d": {
      "model_module": "@jupyter-widgets/controls",
      "model_module_version": "2.0.0",
      "model_name": "HBoxModel",
      "state": {
       "children": [
        "IPY_MODEL_6e1b51862ad74a12a3e0f8c23242a4c6",
        "IPY_MODEL_4c83672f1b3a4ba78b4669193feb8f7a",
        "IPY_MODEL_9da15e4887134520ae079d276b61b6d9"
       ],
       "layout": "IPY_MODEL_6e0b2bfa402f4a188cfe99e1a497eff0"
      }
     },
     "b628dd19bc7e404582b62d15d15ae7f8": {
      "model_module": "@jupyter-widgets/base",
      "model_module_version": "2.0.0",
      "model_name": "LayoutModel",
      "state": {}
     },
     "b8ae50973e65496e8bf82002f27d66ab": {
      "model_module": "@jupyter-widgets/controls",
      "model_module_version": "2.0.0",
      "model_name": "HTMLStyleModel",
      "state": {
       "description_width": "",
       "font_size": null,
       "text_color": null
      }
     },
     "ba36a714b6494227bdabc2b055fb4761": {
      "model_module": "@jupyter-widgets/base",
      "model_module_version": "2.0.0",
      "model_name": "LayoutModel",
      "state": {}
     },
     "ba38ab91ba944bbaa2595aadf131f19c": {
      "model_module": "@jupyter-widgets/controls",
      "model_module_version": "2.0.0",
      "model_name": "FloatProgressModel",
      "state": {
       "bar_style": "success",
       "layout": "IPY_MODEL_08e6a9bd40db4ef394960cba9f4a8dbe",
       "max": 177817,
       "style": "IPY_MODEL_a947719020c34f7c8083755167c1ba7f",
       "value": 177817
      }
     },
     "bb90eeb34b9c457995cc9e768216a9c4": {
      "model_module": "@jupyter-widgets/controls",
      "model_module_version": "2.0.0",
      "model_name": "FloatProgressModel",
      "state": {
       "bar_style": "success",
       "layout": "IPY_MODEL_f8f166d0eb1a4453a3f8ac9a375acb09",
       "max": 169,
       "style": "IPY_MODEL_086b0525b40146d2ae2568e5598addf5",
       "value": 169
      }
     },
     "c09f01573b9f4d87bd3fe14f02cd8c3b": {
      "model_module": "@jupyter-widgets/controls",
      "model_module_version": "2.0.0",
      "model_name": "ProgressStyleModel",
      "state": {
       "description_width": ""
      }
     },
     "c5cbf23b8f4c477293c9011a3c0bcb7d": {
      "model_module": "@jupyter-widgets/base",
      "model_module_version": "2.0.0",
      "model_name": "LayoutModel",
      "state": {}
     },
     "c62099d61c054a928a952aeb46a023f3": {
      "model_module": "@jupyter-widgets/base",
      "model_module_version": "2.0.0",
      "model_name": "LayoutModel",
      "state": {}
     },
     "cae1cff921814be5b122d892e9c4e09b": {
      "model_module": "@jupyter-widgets/controls",
      "model_module_version": "2.0.0",
      "model_name": "HBoxModel",
      "state": {
       "children": [
        "IPY_MODEL_2615058e77714a09b78c2be2903dc08c",
        "IPY_MODEL_343295aab82d4f109c8f400640934912",
        "IPY_MODEL_30ddcc54952b490288581bb37085a25b"
       ],
       "layout": "IPY_MODEL_e396c2a256d544e7a3eaa7567652bf29"
      }
     },
     "cce864140dbb4f2b81ef4778d31eb666": {
      "model_module": "@jupyter-widgets/controls",
      "model_module_version": "2.0.0",
      "model_name": "HTMLStyleModel",
      "state": {
       "description_width": "",
       "font_size": null,
       "text_color": null
      }
     },
     "cfb75ce68ce941deaebd8155728f9906": {
      "model_module": "@jupyter-widgets/base",
      "model_module_version": "2.0.0",
      "model_name": "LayoutModel",
      "state": {}
     },
     "d01b6c319ac749df9b2ac6402174792b": {
      "model_module": "@jupyter-widgets/controls",
      "model_module_version": "2.0.0",
      "model_name": "HTMLModel",
      "state": {
       "layout": "IPY_MODEL_5824abc872e048819e81ea98a0198a10",
       "style": "IPY_MODEL_646fe076b85c4c5784bb90f7bbcb1dfe",
       "value": "Downloading shards:   0%"
      }
     },
     "d062f232180b47c0a889be9f76543538": {
      "model_module": "@jupyter-widgets/controls",
      "model_module_version": "2.0.0",
      "model_name": "HTMLModel",
      "state": {
       "layout": "IPY_MODEL_af3707b75cf84007b94636308bda7ec1",
       "style": "IPY_MODEL_30f9399d38004c0c9361f6d1db855b27",
       "value": " 178k/178k [00:00&lt;00:00, 2.68MB/s]"
      }
     },
     "d0df04e00a1d4e489dd92080c267a8d8": {
      "model_module": "@jupyter-widgets/base",
      "model_module_version": "2.0.0",
      "model_name": "LayoutModel",
      "state": {}
     },
     "d52a9ccdeb2f455b99b1fa592d1717a1": {
      "model_module": "@jupyter-widgets/controls",
      "model_module_version": "2.0.0",
      "model_name": "HTMLModel",
      "state": {
       "layout": "IPY_MODEL_f587999673d849f68801d3ec24362824",
       "style": "IPY_MODEL_2355c70c55824f6e905b0b25cf968f80",
       "value": " 0/2 [00:06&lt;?, ?it/s]"
      }
     },
     "db37209ec052455f9899a458f8e2ec47": {
      "model_module": "@jupyter-widgets/controls",
      "model_module_version": "2.0.0",
      "model_name": "HBoxModel",
      "state": {
       "children": [
        "IPY_MODEL_77328912b78942eebee97b2abede2e13",
        "IPY_MODEL_62e67c8dba04453bb3227774f5354126",
        "IPY_MODEL_f20dd5436b0347f38de58e64b4385ddf"
       ],
       "layout": "IPY_MODEL_cfb75ce68ce941deaebd8155728f9906"
      }
     },
     "df6e8e135d0c447e8f6f6b730d3ab1d3": {
      "model_module": "@jupyter-widgets/controls",
      "model_module_version": "2.0.0",
      "model_name": "HTMLStyleModel",
      "state": {
       "description_width": "",
       "font_size": null,
       "text_color": null
      }
     },
     "e396c2a256d544e7a3eaa7567652bf29": {
      "model_module": "@jupyter-widgets/base",
      "model_module_version": "2.0.0",
      "model_name": "LayoutModel",
      "state": {}
     },
     "e5f175c0e6274bbdbabee7ef1a0cd8c8": {
      "model_module": "@jupyter-widgets/controls",
      "model_module_version": "2.0.0",
      "model_name": "HBoxModel",
      "state": {
       "children": [
        "IPY_MODEL_734fbbc476094cf59391f883c80e26dd",
        "IPY_MODEL_53663e3f747542c79cc8394d2e070ef3",
        "IPY_MODEL_59972c0910574ee893583f70de1e38c9"
       ],
       "layout": "IPY_MODEL_46beb4dcc6dd48c48f17cacea0d87533"
      }
     },
     "eb7127a678094e3299117b859f5fa484": {
      "model_module": "@jupyter-widgets/controls",
      "model_module_version": "2.0.0",
      "model_name": "HTMLModel",
      "state": {
       "layout": "IPY_MODEL_77bbd257b4714fc8b477a2c418515bae",
       "style": "IPY_MODEL_df6e8e135d0c447e8f6f6b730d3ab1d3",
       "value": "model-00001-of-00002.safetensors:   4%"
      }
     },
     "f01124e94c164a9395194f3706c37427": {
      "model_module": "@jupyter-widgets/controls",
      "model_module_version": "2.0.0",
      "model_name": "HTMLModel",
      "state": {
       "layout": "IPY_MODEL_06d7af5b8cca4691acb83aa6ab22bafc",
       "style": "IPY_MODEL_636da4a0df8a4ad5ae6ea4a1d93dc2aa",
       "value": "sentence_bert_config.json: 100%"
      }
     },
     "f20dd5436b0347f38de58e64b4385ddf": {
      "model_module": "@jupyter-widgets/controls",
      "model_module_version": "2.0.0",
      "model_name": "HTMLModel",
      "state": {
       "layout": "IPY_MODEL_4a2a6f4693e54d7f993df2bf90b032ea",
       "style": "IPY_MODEL_43ce0fc6c54c4c13acdbfc1abe349e02",
       "value": " 349/349 [00:00&lt;00:00, 69.8kB/s]"
      }
     },
     "f29ad6271db5462086baf95aa0de0df6": {
      "model_module": "@jupyter-widgets/controls",
      "model_module_version": "2.0.0",
      "model_name": "HTMLModel",
      "state": {
       "layout": "IPY_MODEL_99959925add540b3b00b1336217f24d1",
       "style": "IPY_MODEL_955c27c236f44c2b892fb8c4a917f402",
       "value": " 557/557 [00:00&lt;00:00, 139kB/s]"
      }
     },
     "f587999673d849f68801d3ec24362824": {
      "model_module": "@jupyter-widgets/base",
      "model_module_version": "2.0.0",
      "model_name": "LayoutModel",
      "state": {}
     },
     "f6627d347e8f448c9de45542885f7cea": {
      "model_module": "@jupyter-widgets/base",
      "model_module_version": "2.0.0",
      "model_name": "LayoutModel",
      "state": {}
     },
     "f73d0f932d6d423a8fc02415c2c347bf": {
      "model_module": "@jupyter-widgets/controls",
      "model_module_version": "2.0.0",
      "model_name": "HTMLStyleModel",
      "state": {
       "description_width": "",
       "font_size": null,
       "text_color": null
      }
     },
     "f8ec886661c8415cb3f077e91e45f4d6": {
      "model_module": "@jupyter-widgets/controls",
      "model_module_version": "2.0.0",
      "model_name": "HTMLStyleModel",
      "state": {
       "description_width": "",
       "font_size": null,
       "text_color": null
      }
     },
     "f8f166d0eb1a4453a3f8ac9a375acb09": {
      "model_module": "@jupyter-widgets/base",
      "model_module_version": "2.0.0",
      "model_name": "LayoutModel",
      "state": {}
     },
     "f8f631a043844d1bb455048c77943c8b": {
      "model_module": "@jupyter-widgets/controls",
      "model_module_version": "2.0.0",
      "model_name": "ProgressStyleModel",
      "state": {
       "description_width": ""
      }
     },
     "f903548db4574da3a892da84cc699799": {
      "model_module": "@jupyter-widgets/controls",
      "model_module_version": "2.0.0",
      "model_name": "HTMLStyleModel",
      "state": {
       "description_width": "",
       "font_size": null,
       "text_color": null
      }
     }
    },
    "version_major": 2,
    "version_minor": 0
   }
  }
 },
 "nbformat": 4,
 "nbformat_minor": 4
}
